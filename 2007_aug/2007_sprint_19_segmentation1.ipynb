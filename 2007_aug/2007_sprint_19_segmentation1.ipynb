{
  "nbformat": 4,
  "nbformat_minor": 0,
  "metadata": {
    "colab": {
      "name": "2007_sprint_19_segmentation1",
      "provenance": [],
      "collapsed_sections": []
    },
    "kernelspec": {
      "name": "python3",
      "display_name": "Python 3"
    },
    "accelerator": "GPU"
  },
  "cells": [
    {
      "cell_type": "code",
      "metadata": {
        "id": "wPkAyL_Os-Op",
        "outputId": "086567c8-de44-49aa-a250-dcfe6c554b25",
        "colab": {
          "base_uri": "https://localhost:8080/",
          "height": 34
        }
      },
      "source": [
        "# google drive マウント\n",
        "from google.colab import drive\n",
        "drive.mount('/content/drive')"
      ],
      "execution_count": null,
      "outputs": [
        {
          "output_type": "stream",
          "text": [
            "Mounted at /content/drive\n"
          ],
          "name": "stdout"
        }
      ]
    },
    {
      "cell_type": "code",
      "metadata": {
        "id": "dBuMTw_af89I",
        "outputId": "c12e5f97-069b-41db-e83d-303de59a46a5",
        "colab": {
          "base_uri": "https://localhost:8080/",
          "height": 34
        }
      },
      "source": [
        "# ディレクトリ移動\n",
        "cd \"/content/drive/My Drive/kaggle\""
      ],
      "execution_count": null,
      "outputs": [
        {
          "output_type": "stream",
          "text": [
            "/content/drive/My Drive/kaggle\n"
          ],
          "name": "stdout"
        }
      ]
    },
    {
      "cell_type": "code",
      "metadata": {
        "id": "UnGOFEFUn_IC"
      },
      "source": [
        "# 中身確認\n",
        "ls"
      ],
      "execution_count": null,
      "outputs": []
    },
    {
      "cell_type": "code",
      "metadata": {
        "id": "of3vZT4AjlT9"
      },
      "source": [
        "# kaggle API準備\n",
        "import os\n",
        "import json\n",
        "f = open(\"/content/drive/My Drive/kaggle/kaggle.json\", 'r')\n",
        "json_data = json.load(f) #JSON形式で読み込む\n",
        "os.environ['KAGGLE_USERNAME'] = json_data['username']\n",
        "os.environ['KAGGLE_KEY'] = json_data['key']\n",
        "f.close()\n",
        "print(\"KAGGLE_USERNAME: \" + os.environ[\"KAGGLE_USERNAME\"])\n",
        "print(\"KAGGLE_KEY: \" + os.environ[\"KAGGLE_KEY\"])"
      ],
      "execution_count": null,
      "outputs": []
    },
    {
      "cell_type": "code",
      "metadata": {
        "id": "oAsPnXsUtykW",
        "outputId": "20876bc1-1c6f-4f79-eb31-b7bcdf43a730",
        "colab": {
          "base_uri": "https://localhost:8080/",
          "height": 34
        }
      },
      "source": [
        "# 作業ディレクトリに移動\n",
        "cd \"/content/drive/My Drive/Colab Notebooks/sprint19/\""
      ],
      "execution_count": null,
      "outputs": [
        {
          "output_type": "stream",
          "text": [
            "/content/drive/My Drive/Colab Notebooks/sprint19\n"
          ],
          "name": "stdout"
        }
      ]
    },
    {
      "cell_type": "code",
      "metadata": {
        "id": "fSM0EGtefzER",
        "outputId": "7aac5cc4-e81b-4f21-f9f6-6a9dc1b56dc4",
        "colab": {
          "base_uri": "https://localhost:8080/",
          "height": 228
        }
      },
      "source": [
        "# kaggle APIインストール\n",
        "!pip install kaggle"
      ],
      "execution_count": null,
      "outputs": [
        {
          "output_type": "stream",
          "text": [
            "Requirement already satisfied: kaggle in /usr/local/lib/python3.6/dist-packages (1.5.8)\n",
            "Requirement already satisfied: six>=1.10 in /usr/local/lib/python3.6/dist-packages (from kaggle) (1.15.0)\n",
            "Requirement already satisfied: certifi in /usr/local/lib/python3.6/dist-packages (from kaggle) (2020.6.20)\n",
            "Requirement already satisfied: urllib3<1.25,>=1.21.1 in /usr/local/lib/python3.6/dist-packages (from kaggle) (1.24.3)\n",
            "Requirement already satisfied: requests in /usr/local/lib/python3.6/dist-packages (from kaggle) (2.23.0)\n",
            "Requirement already satisfied: python-slugify in /usr/local/lib/python3.6/dist-packages (from kaggle) (4.0.1)\n",
            "Requirement already satisfied: tqdm in /usr/local/lib/python3.6/dist-packages (from kaggle) (4.41.1)\n",
            "Requirement already satisfied: python-dateutil in /usr/local/lib/python3.6/dist-packages (from kaggle) (2.8.1)\n",
            "Requirement already satisfied: slugify in /usr/local/lib/python3.6/dist-packages (from kaggle) (0.0.1)\n",
            "Requirement already satisfied: idna<3,>=2.5 in /usr/local/lib/python3.6/dist-packages (from requests->kaggle) (2.10)\n",
            "Requirement already satisfied: chardet<4,>=3.0.2 in /usr/local/lib/python3.6/dist-packages (from requests->kaggle) (3.0.4)\n",
            "Requirement already satisfied: text-unidecode>=1.3 in /usr/local/lib/python3.6/dist-packages (from python-slugify->kaggle) (1.3)\n"
          ],
          "name": "stdout"
        }
      ]
    },
    {
      "cell_type": "code",
      "metadata": {
        "id": "i6mxG2o2gAAw",
        "outputId": "bfa203a4-8226-458f-9aba-85cb471e6176",
        "colab": {
          "base_uri": "https://localhost:8080/",
          "height": 422
        }
      },
      "source": [
        "# kaggle コンペリスト確認\n",
        "!kaggle competitions list"
      ],
      "execution_count": null,
      "outputs": [
        {
          "output_type": "stream",
          "text": [
            "Warning: Looks like you're using an outdated API Version, please consider updating (server 1.5.6 / client 1.5.4)\n",
            "ref                                            deadline             category            reward  teamCount  userHasEntered  \n",
            "---------------------------------------------  -------------------  ---------------  ---------  ---------  --------------  \n",
            "contradictory-my-dear-watson                   2030-07-01 23:59:00  Getting Started     Prizes        291           False  \n",
            "gan-getting-started                            2030-07-01 23:59:00  Getting Started     Prizes        127           False  \n",
            "tpu-getting-started                            2030-06-03 23:59:00  Getting Started  Knowledge        365           False  \n",
            "digit-recognizer                               2030-01-01 00:00:00  Getting Started  Knowledge       2396           False  \n",
            "titanic                                        2030-01-01 00:00:00  Getting Started  Knowledge      17993            True  \n",
            "house-prices-advanced-regression-techniques    2030-01-01 00:00:00  Getting Started  Knowledge       4757            True  \n",
            "connectx                                       2030-01-01 00:00:00  Getting Started  Knowledge        454           False  \n",
            "nlp-getting-started                            2030-01-01 00:00:00  Getting Started  Knowledge       1314           False  \n",
            "competitive-data-science-predict-future-sales  2020-12-31 23:59:00  Playground           Kudos       8945           False  \n",
            "halite-iv-playground                           2020-12-31 23:59:00  Playground       Knowledge         17           False  \n",
            "hashcode-drone-delivery                        2020-12-14 23:59:00  Playground       Knowledge         46           False  \n",
            "lish-moa                                       2020-11-30 23:59:00  Research           $30,000       1797           False  \n",
            "google-football                                2020-11-30 23:59:00  Featured            $6,000        109           False  \n",
            "conways-reverse-game-of-life-2020              2020-11-30 23:59:00  Playground            Swag         85           False  \n",
            "lyft-motion-prediction-autonomous-vehicles     2020-11-25 23:59:00  Featured           $30,000        491           False  \n",
            "rsna-str-pulmonary-embolism-detection          2020-10-26 23:59:00  Featured           $30,000        232           False  \n",
            "osic-pulmonary-fibrosis-progression            2020-10-06 23:59:00  Featured           $55,000       2006           False  \n",
            "stanford-covid-vaccine                         2020-10-05 23:59:00  Research           $25,000       1417           False  \n",
            "landmark-recognition-2020                      2020-09-29 23:59:00  Research           $25,000        753           False  \n",
            "halite                                         2020-09-22 23:59:00  Featured              Swag       1139           False  \n"
          ],
          "name": "stdout"
        }
      ]
    },
    {
      "cell_type": "code",
      "metadata": {
        "id": "8VLuSW6cjcqj",
        "outputId": "ebe024e7-f265-41ea-9bac-c330b1cdfecc",
        "colab": {
          "base_uri": "https://localhost:8080/",
          "height": 404
        }
      },
      "source": [
        "# 目的のデータセットダウンロード\n",
        "!kaggle competitions download -c tgs-salt-identification-challenge"
      ],
      "execution_count": null,
      "outputs": [
        {
          "output_type": "stream",
          "text": [
            "Warning: Looks like you're using an outdated API Version, please consider updating (server 1.5.6 / client 1.5.4)\n",
            "Downloading test.zip to /content/drive/My Drive/Colab Notebooks/sprint19\n",
            " 99% 161M/163M [00:02<00:00, 101MB/s] \n",
            "100% 163M/163M [00:02<00:00, 77.2MB/s]\n",
            "Downloading depths.csv to /content/drive/My Drive/Colab Notebooks/sprint19\n",
            "  0% 0.00/322k [00:00<?, ?B/s]\n",
            "100% 322k/322k [00:00<00:00, 45.6MB/s]\n",
            "Downloading train.zip to /content/drive/My Drive/Colab Notebooks/sprint19\n",
            " 79% 30.0M/37.9M [00:00<00:00, 29.6MB/s]\n",
            "100% 37.9M/37.9M [00:00<00:00, 64.6MB/s]\n",
            "Downloading competition_data.zip to /content/drive/My Drive/Colab Notebooks/sprint19\n",
            " 96% 208M/217M [00:02<00:00, 119MB/s]\n",
            "100% 217M/217M [00:02<00:00, 107MB/s]\n",
            "Downloading flamingo.zip to /content/drive/My Drive/Colab Notebooks/sprint19\n",
            " 82% 34.0M/41.4M [00:00<00:00, 51.1MB/s]\n",
            "100% 41.4M/41.4M [00:00<00:00, 56.7MB/s]\n",
            "Downloading sample_submission.csv to /content/drive/My Drive/Colab Notebooks/sprint19\n",
            "  0% 0.00/264k [00:00<?, ?B/s]\n",
            "100% 264k/264k [00:00<00:00, 34.3MB/s]\n",
            "Downloading train.csv to /content/drive/My Drive/Colab Notebooks/sprint19\n",
            "  0% 0.00/922k [00:00<?, ?B/s]\n",
            "100% 922k/922k [00:00<00:00, 60.7MB/s]\n"
          ],
          "name": "stdout"
        }
      ]
    },
    {
      "cell_type": "code",
      "metadata": {
        "id": "C7XSMtarm6Q5",
        "outputId": "76776a56-3c27-4175-daef-c5693a490f85",
        "colab": {
          "base_uri": "https://localhost:8080/",
          "height": 122
        }
      },
      "source": [
        "# 使用するgithubのリポジトリをクローン\n",
        "!git clone https://github.com/zhixuhao/unet"
      ],
      "execution_count": null,
      "outputs": [
        {
          "output_type": "stream",
          "text": [
            "Cloning into 'unet'...\n",
            "remote: Enumerating objects: 394, done.\u001b[K\n",
            "remote: Total 394 (delta 0), reused 0 (delta 0), pack-reused 394\u001b[K\n",
            "Receiving objects: 100% (394/394), 44.92 MiB | 23.63 MiB/s, done.\n",
            "Resolving deltas: 100% (79/79), done.\n",
            "Checking out files: 100% (253/253), done.\n"
          ],
          "name": "stdout"
        }
      ]
    },
    {
      "cell_type": "code",
      "metadata": {
        "id": "A9FvfDrfrDDe"
      },
      "source": [
        "# trainデータセット解凍\n",
        "!unzip train.zip -d train"
      ],
      "execution_count": null,
      "outputs": []
    },
    {
      "cell_type": "code",
      "metadata": {
        "id": "-ymDbDQ2XMo8"
      },
      "source": [
        "# testデータセット解凍\n",
        "!unzip test.zip -d test"
      ],
      "execution_count": null,
      "outputs": []
    },
    {
      "cell_type": "code",
      "metadata": {
        "id": "trBowps2XMvI",
        "outputId": "93601508-a271-4022-bcbb-b0cb1070bb63",
        "colab": {
          "base_uri": "https://localhost:8080/",
          "height": 34
        }
      },
      "source": [
        "# ディレクトリ移動\n",
        "cd \"/content/drive/My Drive/Colab Notebooks/sprint19/unet\""
      ],
      "execution_count": null,
      "outputs": [
        {
          "output_type": "stream",
          "text": [
            "/content/drive/My Drive/Colab Notebooks/sprint19/unet\n"
          ],
          "name": "stdout"
        }
      ]
    },
    {
      "cell_type": "code",
      "metadata": {
        "id": "oSWmRNmcaWR0",
        "outputId": "c68b3055-ae93-4700-fb27-fcd1c5977a2c",
        "colab": {
          "base_uri": "https://localhost:8080/",
          "height": 52
        }
      },
      "source": [
        "ls"
      ],
      "execution_count": null,
      "outputs": [
        {
          "output_type": "stream",
          "text": [
            "\u001b[0m\u001b[01;34mdata\u001b[0m/              data.py  LICENSE  \u001b[01;34mmasks\u001b[0m/    \u001b[01;34m__pycache__\u001b[0m/  trainUnet.ipynb\n",
            "dataPrepare.ipynb  \u001b[01;34mimg\u001b[0m/     main.py  model.py  README.md     unet_membrane.hdf5\n"
          ],
          "name": "stdout"
        }
      ]
    },
    {
      "cell_type": "markdown",
      "metadata": {
        "id": "s19W_cBTrdX1"
      },
      "source": [
        "# 【問題1】学習・推定\n",
        "以下のKeras実装を使用して学習・推定を行ってください。\n",
        "\n",
        "\n",
        "[zhixuhao/unet: unet for image segmentation](https://github.com/zhixuhao/unet)\n",
        "\n",
        "\n",
        "《GPU環境での学習》\n",
        "\n",
        "\n",
        "大規模なデータセット、大きなモデルになるため、GPUを使用する必要があります。\n",
        "\n",
        "\n",
        "《新たなデータセットの適用》\n",
        "\n",
        "\n",
        "公開されている実装で用意されたものとは異なるデータセットを入力するための準備が必要です。\n",
        "\n"
      ]
    },
    {
      "cell_type": "code",
      "metadata": {
        "id": "wm5n2SBsXMxR",
        "outputId": "ad002f92-bd3b-49ef-a611-f03ff969a22d",
        "colab": {
          "base_uri": "https://localhost:8080/",
          "height": 1000
        }
      },
      "source": [
        "# githubのU-Netを使用する\n",
        "\n",
        "!python main.py"
      ],
      "execution_count": null,
      "outputs": [
        {
          "output_type": "stream",
          "text": [
            "2020-09-29 10:38:17.752928: I tensorflow/stream_executor/platform/default/dso_loader.cc:48] Successfully opened dynamic library libcudart.so.10.1\n",
            "2020-09-29 10:38:19.990920: I tensorflow/stream_executor/platform/default/dso_loader.cc:48] Successfully opened dynamic library libcuda.so.1\n",
            "2020-09-29 10:38:20.015385: I tensorflow/stream_executor/cuda/cuda_gpu_executor.cc:982] successful NUMA node read from SysFS had negative value (-1), but there must be at least one NUMA node, so returning NUMA node zero\n",
            "2020-09-29 10:38:20.016215: I tensorflow/core/common_runtime/gpu/gpu_device.cc:1716] Found device 0 with properties: \n",
            "pciBusID: 0000:00:04.0 name: Tesla K80 computeCapability: 3.7\n",
            "coreClock: 0.8235GHz coreCount: 13 deviceMemorySize: 11.17GiB deviceMemoryBandwidth: 223.96GiB/s\n",
            "2020-09-29 10:38:20.016272: I tensorflow/stream_executor/platform/default/dso_loader.cc:48] Successfully opened dynamic library libcudart.so.10.1\n",
            "2020-09-29 10:38:20.018846: I tensorflow/stream_executor/platform/default/dso_loader.cc:48] Successfully opened dynamic library libcublas.so.10\n",
            "2020-09-29 10:38:20.020874: I tensorflow/stream_executor/platform/default/dso_loader.cc:48] Successfully opened dynamic library libcufft.so.10\n",
            "2020-09-29 10:38:20.021293: I tensorflow/stream_executor/platform/default/dso_loader.cc:48] Successfully opened dynamic library libcurand.so.10\n",
            "2020-09-29 10:38:20.023736: I tensorflow/stream_executor/platform/default/dso_loader.cc:48] Successfully opened dynamic library libcusolver.so.10\n",
            "2020-09-29 10:38:20.025191: I tensorflow/stream_executor/platform/default/dso_loader.cc:48] Successfully opened dynamic library libcusparse.so.10\n",
            "2020-09-29 10:38:20.030028: I tensorflow/stream_executor/platform/default/dso_loader.cc:48] Successfully opened dynamic library libcudnn.so.7\n",
            "2020-09-29 10:38:20.030155: I tensorflow/stream_executor/cuda/cuda_gpu_executor.cc:982] successful NUMA node read from SysFS had negative value (-1), but there must be at least one NUMA node, so returning NUMA node zero\n",
            "2020-09-29 10:38:20.030928: I tensorflow/stream_executor/cuda/cuda_gpu_executor.cc:982] successful NUMA node read from SysFS had negative value (-1), but there must be at least one NUMA node, so returning NUMA node zero\n",
            "2020-09-29 10:38:20.031642: I tensorflow/core/common_runtime/gpu/gpu_device.cc:1858] Adding visible gpu devices: 0\n",
            "2020-09-29 10:38:20.038217: I tensorflow/core/platform/profile_utils/cpu_utils.cc:104] CPU Frequency: 2199995000 Hz\n",
            "2020-09-29 10:38:20.038481: I tensorflow/compiler/xla/service/service.cc:168] XLA service 0x312ea00 initialized for platform Host (this does not guarantee that XLA will be used). Devices:\n",
            "2020-09-29 10:38:20.038529: I tensorflow/compiler/xla/service/service.cc:176]   StreamExecutor device (0): Host, Default Version\n",
            "2020-09-29 10:38:20.094350: I tensorflow/stream_executor/cuda/cuda_gpu_executor.cc:982] successful NUMA node read from SysFS had negative value (-1), but there must be at least one NUMA node, so returning NUMA node zero\n",
            "2020-09-29 10:38:20.095218: I tensorflow/compiler/xla/service/service.cc:168] XLA service 0x312ebc0 initialized for platform CUDA (this does not guarantee that XLA will be used). Devices:\n",
            "2020-09-29 10:38:20.095254: I tensorflow/compiler/xla/service/service.cc:176]   StreamExecutor device (0): Tesla K80, Compute Capability 3.7\n",
            "2020-09-29 10:38:20.095516: I tensorflow/stream_executor/cuda/cuda_gpu_executor.cc:982] successful NUMA node read from SysFS had negative value (-1), but there must be at least one NUMA node, so returning NUMA node zero\n",
            "2020-09-29 10:38:20.096334: I tensorflow/core/common_runtime/gpu/gpu_device.cc:1716] Found device 0 with properties: \n",
            "pciBusID: 0000:00:04.0 name: Tesla K80 computeCapability: 3.7\n",
            "coreClock: 0.8235GHz coreCount: 13 deviceMemorySize: 11.17GiB deviceMemoryBandwidth: 223.96GiB/s\n",
            "2020-09-29 10:38:20.096412: I tensorflow/stream_executor/platform/default/dso_loader.cc:48] Successfully opened dynamic library libcudart.so.10.1\n",
            "2020-09-29 10:38:20.096473: I tensorflow/stream_executor/platform/default/dso_loader.cc:48] Successfully opened dynamic library libcublas.so.10\n",
            "2020-09-29 10:38:20.096532: I tensorflow/stream_executor/platform/default/dso_loader.cc:48] Successfully opened dynamic library libcufft.so.10\n",
            "2020-09-29 10:38:20.096573: I tensorflow/stream_executor/platform/default/dso_loader.cc:48] Successfully opened dynamic library libcurand.so.10\n",
            "2020-09-29 10:38:20.096613: I tensorflow/stream_executor/platform/default/dso_loader.cc:48] Successfully opened dynamic library libcusolver.so.10\n",
            "2020-09-29 10:38:20.096659: I tensorflow/stream_executor/platform/default/dso_loader.cc:48] Successfully opened dynamic library libcusparse.so.10\n",
            "2020-09-29 10:38:20.096705: I tensorflow/stream_executor/platform/default/dso_loader.cc:48] Successfully opened dynamic library libcudnn.so.7\n",
            "2020-09-29 10:38:20.096802: I tensorflow/stream_executor/cuda/cuda_gpu_executor.cc:982] successful NUMA node read from SysFS had negative value (-1), but there must be at least one NUMA node, so returning NUMA node zero\n",
            "2020-09-29 10:38:20.097568: I tensorflow/stream_executor/cuda/cuda_gpu_executor.cc:982] successful NUMA node read from SysFS had negative value (-1), but there must be at least one NUMA node, so returning NUMA node zero\n",
            "2020-09-29 10:38:20.098270: I tensorflow/core/common_runtime/gpu/gpu_device.cc:1858] Adding visible gpu devices: 0\n",
            "2020-09-29 10:38:20.098333: I tensorflow/stream_executor/platform/default/dso_loader.cc:48] Successfully opened dynamic library libcudart.so.10.1\n",
            "2020-09-29 10:38:20.581089: I tensorflow/core/common_runtime/gpu/gpu_device.cc:1257] Device interconnect StreamExecutor with strength 1 edge matrix:\n",
            "2020-09-29 10:38:20.581156: I tensorflow/core/common_runtime/gpu/gpu_device.cc:1263]      0 \n",
            "2020-09-29 10:38:20.581175: I tensorflow/core/common_runtime/gpu/gpu_device.cc:1276] 0:   N \n",
            "2020-09-29 10:38:20.581444: I tensorflow/stream_executor/cuda/cuda_gpu_executor.cc:982] successful NUMA node read from SysFS had negative value (-1), but there must be at least one NUMA node, so returning NUMA node zero\n",
            "2020-09-29 10:38:20.582541: I tensorflow/stream_executor/cuda/cuda_gpu_executor.cc:982] successful NUMA node read from SysFS had negative value (-1), but there must be at least one NUMA node, so returning NUMA node zero\n",
            "2020-09-29 10:38:20.583287: W tensorflow/core/common_runtime/gpu/gpu_bfc_allocator.cc:39] Overriding allow_growth setting because the TF_FORCE_GPU_ALLOW_GROWTH environment variable is set. Original config value was 0.\n",
            "2020-09-29 10:38:20.583368: I tensorflow/core/common_runtime/gpu/gpu_device.cc:1402] Created TensorFlow device (/job:localhost/replica:0/task:0/device:GPU:0 with 10630 MB memory) -> physical GPU (device: 0, name: Tesla K80, pci bus id: 0000:00:04.0, compute capability: 3.7)\n",
            "Found 21874 images belonging to 1 classes.\n",
            "Found 4000 images belonging to 1 classes.\n",
            "Epoch 1/5\n",
            "2020-09-29 10:38:23.686244: I tensorflow/stream_executor/platform/default/dso_loader.cc:48] Successfully opened dynamic library libcudnn.so.7\n",
            "2020-09-29 10:38:24.554357: I tensorflow/stream_executor/platform/default/dso_loader.cc:48] Successfully opened dynamic library libcublas.so.10\n",
            "   2/1000 [..............................] - ETA: 3:12 - loss: 0.7421 - accuracy: 0.4479WARNING:tensorflow:Callbacks method `on_train_batch_end` is slow compared to the batch time (batch time: 0.1506s vs `on_train_batch_end` time: 0.2346s). Check your callbacks.\n",
            "1000/1000 [==============================] - ETA: 0s - loss: 0.6843 - accuracy: 0.7489\n",
            "Epoch 00001: loss improved from inf to 0.68429, saving model to unet_membrane.hdf5\n",
            "1000/1000 [==============================] - 1397s 1s/step - loss: 0.6843 - accuracy: 0.7489\n",
            "Epoch 2/5\n",
            "1000/1000 [==============================] - ETA: 0s - loss: 1.6769 - accuracy: 0.7517\n",
            "Epoch 00002: loss did not improve from 0.68429\n",
            "1000/1000 [==============================] - 1859s 2s/step - loss: 1.6769 - accuracy: 0.7517\n",
            "Epoch 3/5\n",
            "1000/1000 [==============================] - ETA: 0s - loss: 0.6690 - accuracy: 0.7460\n",
            "Epoch 00003: loss improved from 0.68429 to 0.66903, saving model to unet_membrane.hdf5\n",
            "1000/1000 [==============================] - 963s 963ms/step - loss: 0.6690 - accuracy: 0.7460\n",
            "Epoch 4/5\n",
            "1000/1000 [==============================] - ETA: 0s - loss: 0.6681 - accuracy: 0.7548\n",
            "Epoch 00004: loss improved from 0.66903 to 0.66808, saving model to unet_membrane.hdf5\n",
            "1000/1000 [==============================] - 969s 969ms/step - loss: 0.6681 - accuracy: 0.7548\n",
            "Epoch 5/5\n",
            "1000/1000 [==============================] - ETA: 0s - loss: 0.6684 - accuracy: 0.7509\n",
            "Epoch 00005: loss did not improve from 0.66808\n",
            "1000/1000 [==============================] - 982s 982ms/step - loss: 0.6684 - accuracy: 0.7509\n",
            "      1/Unknown - 0s 46us/stepWARNING:tensorflow:Callbacks method `on_predict_batch_end` is slow compared to the batch time (batch time: 0.0059s vs `on_predict_batch_end` time: 0.0665s). Check your callbacks.\n",
            "30/30 [==============================] - 2s 72ms/step\n",
            "/content/drive/My Drive/Colab Notebooks/sprint19/unet/data.py:135: UserWarning: /content/drive/My Drive/Colab Notebooks/sprint19/test/0_predict.png is a low contrast image\n",
            "  io.imsave(os.path.join(save_path,\"%d_predict.png\"%i),img)\n",
            "WARNING:root:Lossy conversion from float32 to uint8. Range [0, 1]. Convert image to uint8 prior to saving to suppress this warning.\n",
            "/content/drive/My Drive/Colab Notebooks/sprint19/unet/data.py:135: UserWarning: /content/drive/My Drive/Colab Notebooks/sprint19/test/1_predict.png is a low contrast image\n",
            "  io.imsave(os.path.join(save_path,\"%d_predict.png\"%i),img)\n",
            "WARNING:root:Lossy conversion from float32 to uint8. Range [0, 1]. Convert image to uint8 prior to saving to suppress this warning.\n",
            "/content/drive/My Drive/Colab Notebooks/sprint19/unet/data.py:135: UserWarning: /content/drive/My Drive/Colab Notebooks/sprint19/test/2_predict.png is a low contrast image\n",
            "  io.imsave(os.path.join(save_path,\"%d_predict.png\"%i),img)\n",
            "WARNING:root:Lossy conversion from float32 to uint8. Range [0, 1]. Convert image to uint8 prior to saving to suppress this warning.\n",
            "/content/drive/My Drive/Colab Notebooks/sprint19/unet/data.py:135: UserWarning: /content/drive/My Drive/Colab Notebooks/sprint19/test/3_predict.png is a low contrast image\n",
            "  io.imsave(os.path.join(save_path,\"%d_predict.png\"%i),img)\n",
            "WARNING:root:Lossy conversion from float32 to uint8. Range [0, 1]. Convert image to uint8 prior to saving to suppress this warning.\n",
            "/content/drive/My Drive/Colab Notebooks/sprint19/unet/data.py:135: UserWarning: /content/drive/My Drive/Colab Notebooks/sprint19/test/4_predict.png is a low contrast image\n",
            "  io.imsave(os.path.join(save_path,\"%d_predict.png\"%i),img)\n",
            "WARNING:root:Lossy conversion from float32 to uint8. Range [0, 1]. Convert image to uint8 prior to saving to suppress this warning.\n",
            "/content/drive/My Drive/Colab Notebooks/sprint19/unet/data.py:135: UserWarning: /content/drive/My Drive/Colab Notebooks/sprint19/test/5_predict.png is a low contrast image\n",
            "  io.imsave(os.path.join(save_path,\"%d_predict.png\"%i),img)\n",
            "WARNING:root:Lossy conversion from float32 to uint8. Range [0, 1]. Convert image to uint8 prior to saving to suppress this warning.\n",
            "/content/drive/My Drive/Colab Notebooks/sprint19/unet/data.py:135: UserWarning: /content/drive/My Drive/Colab Notebooks/sprint19/test/6_predict.png is a low contrast image\n",
            "  io.imsave(os.path.join(save_path,\"%d_predict.png\"%i),img)\n",
            "WARNING:root:Lossy conversion from float32 to uint8. Range [0, 1]. Convert image to uint8 prior to saving to suppress this warning.\n",
            "/content/drive/My Drive/Colab Notebooks/sprint19/unet/data.py:135: UserWarning: /content/drive/My Drive/Colab Notebooks/sprint19/test/7_predict.png is a low contrast image\n",
            "  io.imsave(os.path.join(save_path,\"%d_predict.png\"%i),img)\n",
            "WARNING:root:Lossy conversion from float32 to uint8. Range [0, 1]. Convert image to uint8 prior to saving to suppress this warning.\n",
            "/content/drive/My Drive/Colab Notebooks/sprint19/unet/data.py:135: UserWarning: /content/drive/My Drive/Colab Notebooks/sprint19/test/8_predict.png is a low contrast image\n",
            "  io.imsave(os.path.join(save_path,\"%d_predict.png\"%i),img)\n",
            "WARNING:root:Lossy conversion from float32 to uint8. Range [0, 1]. Convert image to uint8 prior to saving to suppress this warning.\n",
            "/content/drive/My Drive/Colab Notebooks/sprint19/unet/data.py:135: UserWarning: /content/drive/My Drive/Colab Notebooks/sprint19/test/9_predict.png is a low contrast image\n",
            "  io.imsave(os.path.join(save_path,\"%d_predict.png\"%i),img)\n",
            "WARNING:root:Lossy conversion from float32 to uint8. Range [0, 1]. Convert image to uint8 prior to saving to suppress this warning.\n",
            "/content/drive/My Drive/Colab Notebooks/sprint19/unet/data.py:135: UserWarning: /content/drive/My Drive/Colab Notebooks/sprint19/test/10_predict.png is a low contrast image\n",
            "  io.imsave(os.path.join(save_path,\"%d_predict.png\"%i),img)\n",
            "WARNING:root:Lossy conversion from float32 to uint8. Range [0, 1]. Convert image to uint8 prior to saving to suppress this warning.\n",
            "/content/drive/My Drive/Colab Notebooks/sprint19/unet/data.py:135: UserWarning: /content/drive/My Drive/Colab Notebooks/sprint19/test/11_predict.png is a low contrast image\n",
            "  io.imsave(os.path.join(save_path,\"%d_predict.png\"%i),img)\n",
            "WARNING:root:Lossy conversion from float32 to uint8. Range [0, 1]. Convert image to uint8 prior to saving to suppress this warning.\n",
            "/content/drive/My Drive/Colab Notebooks/sprint19/unet/data.py:135: UserWarning: /content/drive/My Drive/Colab Notebooks/sprint19/test/12_predict.png is a low contrast image\n",
            "  io.imsave(os.path.join(save_path,\"%d_predict.png\"%i),img)\n",
            "WARNING:root:Lossy conversion from float32 to uint8. Range [0, 1]. Convert image to uint8 prior to saving to suppress this warning.\n",
            "/content/drive/My Drive/Colab Notebooks/sprint19/unet/data.py:135: UserWarning: /content/drive/My Drive/Colab Notebooks/sprint19/test/13_predict.png is a low contrast image\n",
            "  io.imsave(os.path.join(save_path,\"%d_predict.png\"%i),img)\n",
            "WARNING:root:Lossy conversion from float32 to uint8. Range [0, 1]. Convert image to uint8 prior to saving to suppress this warning.\n",
            "/content/drive/My Drive/Colab Notebooks/sprint19/unet/data.py:135: UserWarning: /content/drive/My Drive/Colab Notebooks/sprint19/test/14_predict.png is a low contrast image\n",
            "  io.imsave(os.path.join(save_path,\"%d_predict.png\"%i),img)\n",
            "WARNING:root:Lossy conversion from float32 to uint8. Range [0, 1]. Convert image to uint8 prior to saving to suppress this warning.\n",
            "/content/drive/My Drive/Colab Notebooks/sprint19/unet/data.py:135: UserWarning: /content/drive/My Drive/Colab Notebooks/sprint19/test/15_predict.png is a low contrast image\n",
            "  io.imsave(os.path.join(save_path,\"%d_predict.png\"%i),img)\n",
            "WARNING:root:Lossy conversion from float32 to uint8. Range [0, 1]. Convert image to uint8 prior to saving to suppress this warning.\n",
            "/content/drive/My Drive/Colab Notebooks/sprint19/unet/data.py:135: UserWarning: /content/drive/My Drive/Colab Notebooks/sprint19/test/16_predict.png is a low contrast image\n",
            "  io.imsave(os.path.join(save_path,\"%d_predict.png\"%i),img)\n",
            "WARNING:root:Lossy conversion from float32 to uint8. Range [0, 1]. Convert image to uint8 prior to saving to suppress this warning.\n",
            "/content/drive/My Drive/Colab Notebooks/sprint19/unet/data.py:135: UserWarning: /content/drive/My Drive/Colab Notebooks/sprint19/test/17_predict.png is a low contrast image\n",
            "  io.imsave(os.path.join(save_path,\"%d_predict.png\"%i),img)\n",
            "WARNING:root:Lossy conversion from float32 to uint8. Range [0, 1]. Convert image to uint8 prior to saving to suppress this warning.\n",
            "/content/drive/My Drive/Colab Notebooks/sprint19/unet/data.py:135: UserWarning: /content/drive/My Drive/Colab Notebooks/sprint19/test/18_predict.png is a low contrast image\n",
            "  io.imsave(os.path.join(save_path,\"%d_predict.png\"%i),img)\n",
            "WARNING:root:Lossy conversion from float32 to uint8. Range [0, 1]. Convert image to uint8 prior to saving to suppress this warning.\n",
            "/content/drive/My Drive/Colab Notebooks/sprint19/unet/data.py:135: UserWarning: /content/drive/My Drive/Colab Notebooks/sprint19/test/19_predict.png is a low contrast image\n",
            "  io.imsave(os.path.join(save_path,\"%d_predict.png\"%i),img)\n",
            "WARNING:root:Lossy conversion from float32 to uint8. Range [0, 1]. Convert image to uint8 prior to saving to suppress this warning.\n",
            "/content/drive/My Drive/Colab Notebooks/sprint19/unet/data.py:135: UserWarning: /content/drive/My Drive/Colab Notebooks/sprint19/test/20_predict.png is a low contrast image\n",
            "  io.imsave(os.path.join(save_path,\"%d_predict.png\"%i),img)\n",
            "WARNING:root:Lossy conversion from float32 to uint8. Range [0, 1]. Convert image to uint8 prior to saving to suppress this warning.\n",
            "/content/drive/My Drive/Colab Notebooks/sprint19/unet/data.py:135: UserWarning: /content/drive/My Drive/Colab Notebooks/sprint19/test/21_predict.png is a low contrast image\n",
            "  io.imsave(os.path.join(save_path,\"%d_predict.png\"%i),img)\n",
            "WARNING:root:Lossy conversion from float32 to uint8. Range [0, 1]. Convert image to uint8 prior to saving to suppress this warning.\n",
            "/content/drive/My Drive/Colab Notebooks/sprint19/unet/data.py:135: UserWarning: /content/drive/My Drive/Colab Notebooks/sprint19/test/22_predict.png is a low contrast image\n",
            "  io.imsave(os.path.join(save_path,\"%d_predict.png\"%i),img)\n",
            "WARNING:root:Lossy conversion from float32 to uint8. Range [0, 1]. Convert image to uint8 prior to saving to suppress this warning.\n",
            "/content/drive/My Drive/Colab Notebooks/sprint19/unet/data.py:135: UserWarning: /content/drive/My Drive/Colab Notebooks/sprint19/test/23_predict.png is a low contrast image\n",
            "  io.imsave(os.path.join(save_path,\"%d_predict.png\"%i),img)\n",
            "WARNING:root:Lossy conversion from float32 to uint8. Range [0, 1]. Convert image to uint8 prior to saving to suppress this warning.\n",
            "/content/drive/My Drive/Colab Notebooks/sprint19/unet/data.py:135: UserWarning: /content/drive/My Drive/Colab Notebooks/sprint19/test/24_predict.png is a low contrast image\n",
            "  io.imsave(os.path.join(save_path,\"%d_predict.png\"%i),img)\n",
            "WARNING:root:Lossy conversion from float32 to uint8. Range [0, 1]. Convert image to uint8 prior to saving to suppress this warning.\n",
            "/content/drive/My Drive/Colab Notebooks/sprint19/unet/data.py:135: UserWarning: /content/drive/My Drive/Colab Notebooks/sprint19/test/25_predict.png is a low contrast image\n",
            "  io.imsave(os.path.join(save_path,\"%d_predict.png\"%i),img)\n",
            "WARNING:root:Lossy conversion from float32 to uint8. Range [0, 1]. Convert image to uint8 prior to saving to suppress this warning.\n",
            "/content/drive/My Drive/Colab Notebooks/sprint19/unet/data.py:135: UserWarning: /content/drive/My Drive/Colab Notebooks/sprint19/test/26_predict.png is a low contrast image\n",
            "  io.imsave(os.path.join(save_path,\"%d_predict.png\"%i),img)\n",
            "WARNING:root:Lossy conversion from float32 to uint8. Range [0, 1]. Convert image to uint8 prior to saving to suppress this warning.\n",
            "/content/drive/My Drive/Colab Notebooks/sprint19/unet/data.py:135: UserWarning: /content/drive/My Drive/Colab Notebooks/sprint19/test/27_predict.png is a low contrast image\n",
            "  io.imsave(os.path.join(save_path,\"%d_predict.png\"%i),img)\n",
            "WARNING:root:Lossy conversion from float32 to uint8. Range [0, 1]. Convert image to uint8 prior to saving to suppress this warning.\n",
            "/content/drive/My Drive/Colab Notebooks/sprint19/unet/data.py:135: UserWarning: /content/drive/My Drive/Colab Notebooks/sprint19/test/28_predict.png is a low contrast image\n",
            "  io.imsave(os.path.join(save_path,\"%d_predict.png\"%i),img)\n",
            "WARNING:root:Lossy conversion from float32 to uint8. Range [0, 1]. Convert image to uint8 prior to saving to suppress this warning.\n",
            "/content/drive/My Drive/Colab Notebooks/sprint19/unet/data.py:135: UserWarning: /content/drive/My Drive/Colab Notebooks/sprint19/test/29_predict.png is a low contrast image\n",
            "  io.imsave(os.path.join(save_path,\"%d_predict.png\"%i),img)\n",
            "WARNING:root:Lossy conversion from float32 to uint8. Range [0, 1]. Convert image to uint8 prior to saving to suppress this warning.\n"
          ],
          "name": "stdout"
        }
      ]
    },
    {
      "cell_type": "code",
      "metadata": {
        "id": "ZDae0QG02Itw",
        "outputId": "f2fa8d36-26e8-4ae1-f854-84e552d5049d",
        "colab": {
          "base_uri": "https://localhost:8080/",
          "height": 273
        }
      },
      "source": [
        "# 出力を可視化\n",
        "import glob\n",
        "from IPython.display import Image\n",
        "\n",
        "l = glob.glob(\"/content/drive/My Drive/Colab Notebooks/sprint19/test/*.png\")\n",
        "Image(l[0]) "
      ],
      "execution_count": null,
      "outputs": [
        {
          "output_type": "execute_result",
          "data": {
            "image/png": "[encoded data removed]",
            "text/plain": [
              "<IPython.core.display.Image object>"
            ]
          },
          "metadata": {
            "tags": []
          },
          "execution_count": 12
        }
      ]
    },
    {
      "cell_type": "markdown",
      "metadata": {
        "id": "3DJtt9nh3hk-"
      },
      "source": [
        "上手くセグメンテーション出来ていないが、一応推定した画像は出力された。"
      ]
    },
    {
      "cell_type": "markdown",
      "metadata": {
        "id": "xHIqYj7iF8Wm"
      },
      "source": [
        "# 【問題2】コードリーディング\n",
        "論文[1]に目を通した上で、上記実装のコードリーディングを行ってください"
      ]
    },
    {
      "cell_type": "markdown",
      "metadata": {
        "id": "s20-hYWpQ_v4"
      },
      "source": [
        "### main.py\n",
        "\n",
        "```\n",
        "from model import *\n",
        "from data import *\n",
        "\n",
        "#os.environ[\"CUDA_VISIBLE_DEVICES\"] = \"0\"\n",
        "\n",
        "# ImageDataGeneratorに渡すパラメータ\n",
        "data_gen_args = dict(rotation_range=0.2,\n",
        "                    width_shift_range=0.05,\n",
        "                    height_shift_range=0.05,\n",
        "                    shear_range=0.05,\n",
        "                    zoom_range=0.05,\n",
        "                    horizontal_flip=True,\n",
        "                    fill_mode='nearest')\n",
        "\n",
        "# path変更\n",
        "myGene = trainGenerator(2,'/content/drive/My Drive/Colab Notebooks/sprint19/train','images','masks',data_gen_args,save_to_dir = None)\n",
        "\n",
        "# model.pyから組んだNNをインスタンス化～学習まで\n",
        "model = unet()\n",
        "model_checkpoint = ModelCheckpoint('unet_membrane.hdf5', monitor='loss',verbose=1, save_best_only=True)\n",
        "model.fit(myGene,steps_per_epoch=300,epochs=1,callbacks=[model_checkpoint])\n",
        "\n",
        "# path変更\n",
        "# 推定して画像を保存まで\n",
        "testGene = testGenerator(test_path=\"/content/drive/My Drive/Colab Notebooks/sprint19/test/images\")\n",
        "results = model.predict(testGene,30,verbose=1)\n",
        "saveResult(\"/content/drive/My Drive/Colab Notebooks/sprint19/test\",results)\n",
        "```\n"
      ]
    },
    {
      "cell_type": "markdown",
      "metadata": {
        "id": "izcwjansQ3Q6"
      },
      "source": [
        "### data.py\n",
        "\n",
        "```\n",
        "from __future__ import print_function\n",
        "from keras.preprocessing.image import ImageDataGenerator\n",
        "import numpy as np \n",
        "import os\n",
        "import glob\n",
        "import skimage.io as io\n",
        "import skimage.transform as trans\n",
        "\n",
        "Sky = [128,128,128]\n",
        "Building = [128,0,0]\n",
        "Pole = [192,192,128]\n",
        "Road = [128,64,128]\n",
        "Pavement = [60,40,222]\n",
        "Tree = [128,128,0]\n",
        "SignSymbol = [192,128,128]\n",
        "Fence = [64,64,128]\n",
        "Car = [64,0,128]\n",
        "Pedestrian = [64,64,0]\n",
        "Bicyclist = [0,128,192]\n",
        "Unlabelled = [0,0,0]\n",
        "\n",
        "# visualize時の色指定用\n",
        "COLOR_DICT = np.array([Sky, Building, Pole, Road, Pavement,\n",
        "                          Tree, SignSymbol, Fence, Car, Pedestrian, Bicyclist, Unlabelled])\n",
        "\n",
        "# クラス分け\n",
        "def adjustData(img,mask,flag_multi_class,num_class):\n",
        "    if(flag_multi_class):\n",
        "        img = img / 255\n",
        "        mask = mask[:,:,:,0] if(len(mask.shape) == 4) else mask[:,:,0]\n",
        "        new_mask = np.zeros(mask.shape + (num_class,))\n",
        "        for i in range(num_class):\n",
        "            #for one pixel in the image, find the class in mask and convert it into one-hot vector\n",
        "            #index = np.where(mask == i)\n",
        "            #index_mask = (index[0],index[1],index[2],np.zeros(len(index[0]),dtype = np.int64) + i) if (len(mask.shape) == 4) else (index[0],index[1],np.zeros(len(index[0]),dtype = np.int64) + i)\n",
        "            #new_mask[index_mask] = 1\n",
        "            new_mask[mask == i,i] = 1\n",
        "        new_mask = np.reshape(new_mask,(new_mask.shape[0],new_mask.shape[1]*new_mask.shape[2],new_mask.shape[3])) if flag_multi_class else np.reshape(new_mask,(new_mask.shape[0]*new_mask.shape[1],new_mask.shape[2]))\n",
        "        mask = new_mask\n",
        "    elif(np.max(img) > 1):\n",
        "        img = img / 255\n",
        "        mask = mask /255\n",
        "        mask[mask > 0.5] = 1\n",
        "        mask[mask <= 0.5] = 0\n",
        "    return (img,mask)\n",
        "\n",
        "\n",
        "# ImageDataGeneratorでデータアノテーション\n",
        "def trainGenerator(batch_size,train_path,image_folder,mask_folder,aug_dict,image_color_mode = \"grayscale\",\n",
        "                    mask_color_mode = \"grayscale\",image_save_prefix  = \"image\",mask_save_prefix  = \"mask\",\n",
        "                    flag_multi_class = False,num_class = 2,save_to_dir = None,target_size = (256,256),seed = 1):\n",
        "    '''\n",
        "    can generate image and mask at the same time\n",
        "    use the same seed for image_datagen and mask_datagen to ensure the transformation for image and mask is the same\n",
        "    if you want to visualize the results of generator, set save_to_dir = \"your path\"\n",
        "    '''\n",
        "    image_datagen = ImageDataGenerator(**aug_dict)\n",
        "    mask_datagen = ImageDataGenerator(**aug_dict)\n",
        "    image_generator = image_datagen.flow_from_directory(\n",
        "        train_path,\n",
        "        classes = [image_folder],\n",
        "        class_mode = None,\n",
        "        color_mode = image_color_mode,\n",
        "        target_size = target_size,\n",
        "        batch_size = batch_size,\n",
        "        save_to_dir = save_to_dir,\n",
        "        save_prefix  = image_save_prefix,\n",
        "        seed = seed)\n",
        "    mask_generator = mask_datagen.flow_from_directory(\n",
        "        train_path,\n",
        "        classes = [mask_folder],\n",
        "        class_mode = None,\n",
        "        color_mode = mask_color_mode,\n",
        "        target_size = target_size,\n",
        "        batch_size = batch_size,\n",
        "        save_to_dir = save_to_dir,\n",
        "        save_prefix  = mask_save_prefix,\n",
        "        seed = seed)\n",
        "    train_generator = zip(image_generator, mask_generator)\n",
        "    for (img,mask) in train_generator:\n",
        "        img,mask = adjustData(img,mask,flag_multi_class,num_class)\n",
        "        yield (img,mask)\n",
        "\n",
        "# テスト画像のサイズ調整\n",
        "def testGenerator(test_path,num_image = 30,target_size = (256,256),flag_multi_class = False,as_gray = True):\n",
        "      files = os.listdir(test_path)\n",
        "      for i in range(num_image):\n",
        "        img = io.imread(os.path.join(test_path,files[i]),as_gray = as_gray)\n",
        "        img = img / 255\n",
        "        img = trans.resize(img,target_size)\n",
        "        img = np.reshape(img,img.shape+(1,)) if (not flag_multi_class) else img\n",
        "        img = np.reshape(img,(1,)+img.shape)\n",
        "        yield img\n",
        "\n",
        "# 画像をnumpyに\n",
        "def geneTrainNpy(image_path,mask_path,flag_multi_class = False,num_class = 2,image_prefix = \"image\",mask_prefix = \"mask\",image_as_gray = True,mask_as_gray = True):\n",
        "    image_name_arr = glob.glob(os.path.join(image_path,\"%s*.png\"%image_prefix))\n",
        "    image_arr = []\n",
        "    mask_arr = []\n",
        "    for index,item in enumerate(image_name_arr):\n",
        "        img = io.imread(item,as_gray = image_as_gray)\n",
        "        img = np.reshape(img,img.shape + (1,)) if image_as_gray else img\n",
        "        mask = io.imread(item.replace(image_path,mask_path).replace(image_prefix,mask_prefix),as_gray = mask_as_gray)\n",
        "        mask = np.reshape(mask,mask.shape + (1,)) if mask_as_gray else mask\n",
        "        img,mask = adjustData(img,mask,flag_multi_class,num_class)\n",
        "        image_arr.append(img)\n",
        "        mask_arr.append(mask)\n",
        "    image_arr = np.array(image_arr)\n",
        "    mask_arr = np.array(mask_arr)\n",
        "    return image_arr,mask_arr\n",
        "\n",
        "# 画像表示\n",
        "def labelVisualize(num_class,color_dict,img):\n",
        "    img = img[:,:,0] if len(img.shape) == 3 else img\n",
        "    img_out = np.zeros(img.shape + (3,))\n",
        "    for i in range(num_class):\n",
        "        img_out[img == i,:] = color_dict[i]\n",
        "    return img_out / 255\n",
        "\n",
        "\n",
        "# 保存関数\n",
        "def saveResult(save_path,npyfile,flag_multi_class = False,num_class = 2):\n",
        "    for i,item in enumerate(npyfile):\n",
        "        img = labelVisualize(num_class,COLOR_DICT,item) if flag_multi_class else item[:,:,0]\n",
        "        io.imsave(os.path.join(save_path,\"%d_predict.png\"%i),img)\n",
        "```"
      ]
    },
    {
      "cell_type": "markdown",
      "metadata": {
        "id": "ziV62QXTQdDZ"
      },
      "source": [
        "### model.py\n",
        "\n",
        "\n",
        "```\n",
        "import numpy as np \n",
        "import os\n",
        "import skimage.io as io\n",
        "import skimage.transform as trans\n",
        "import numpy as np\n",
        "from keras.models import *\n",
        "from keras.layers import *\n",
        "from keras.optimizers import *\n",
        "from keras.callbacks import ModelCheckpoint, LearningRateScheduler\n",
        "from keras import backend as keras\n",
        "\n",
        "# U-NETのNN\n",
        "def unet(pretrained_weights = None,input_size = (256,256,1)):\n",
        "    inputs = Input(input_size)\n",
        "    conv1 = Conv2D(64, 3, activation = 'relu', padding = 'same', kernel_initializer = 'he_normal')(inputs)\n",
        "    conv1 = Conv2D(64, 3, activation = 'relu', padding = 'same', kernel_initializer = 'he_normal')(conv1)\n",
        "    pool1 = MaxPooling2D(pool_size=(2, 2))(conv1)\n",
        "    conv2 = Conv2D(128, 3, activation = 'relu', padding = 'same', kernel_initializer = 'he_normal')(pool1)\n",
        "    conv2 = Conv2D(128, 3, activation = 'relu', padding = 'same', kernel_initializer = 'he_normal')(conv2)\n",
        "    pool2 = MaxPooling2D(pool_size=(2, 2))(conv2)\n",
        "    conv3 = Conv2D(256, 3, activation = 'relu', padding = 'same', kernel_initializer = 'he_normal')(pool2)\n",
        "    conv3 = Conv2D(256, 3, activation = 'relu', padding = 'same', kernel_initializer = 'he_normal')(conv3)\n",
        "    pool3 = MaxPooling2D(pool_size=(2, 2))(conv3)\n",
        "    conv4 = Conv2D(512, 3, activation = 'relu', padding = 'same', kernel_initializer = 'he_normal')(pool3)\n",
        "    conv4 = Conv2D(512, 3, activation = 'relu', padding = 'same', kernel_initializer = 'he_normal')(conv4)\n",
        "    drop4 = Dropout(0.5)(conv4)\n",
        "    pool4 = MaxPooling2D(pool_size=(2, 2))(drop4)\n",
        "\n",
        "    conv5 = Conv2D(1024, 3, activation = 'relu', padding = 'same', kernel_initializer = 'he_normal')(pool4)\n",
        "    conv5 = Conv2D(1024, 3, activation = 'relu', padding = 'same', kernel_initializer = 'he_normal')(conv5)\n",
        "    drop5 = Dropout(0.5)(conv5)\n",
        "\n",
        "    up6 = Conv2D(512, 2, activation = 'relu', padding = 'same', kernel_initializer = 'he_normal')(UpSampling2D(size = (2,2))(drop5))\n",
        "    merge6 = concatenate([drop4,up6], axis = 3)\n",
        "    conv6 = Conv2D(512, 3, activation = 'relu', padding = 'same', kernel_initializer = 'he_normal')(merge6)\n",
        "    conv6 = Conv2D(512, 3, activation = 'relu', padding = 'same', kernel_initializer = 'he_normal')(conv6)\n",
        "\n",
        "    up7 = Conv2D(256, 2, activation = 'relu', padding = 'same', kernel_initializer = 'he_normal')(UpSampling2D(size = (2,2))(conv6))\n",
        "    merge7 = concatenate([conv3,up7], axis = 3)\n",
        "    conv7 = Conv2D(256, 3, activation = 'relu', padding = 'same', kernel_initializer = 'he_normal')(merge7)\n",
        "    conv7 = Conv2D(256, 3, activation = 'relu', padding = 'same', kernel_initializer = 'he_normal')(conv7)\n",
        "\n",
        "    up8 = Conv2D(128, 2, activation = 'relu', padding = 'same', kernel_initializer = 'he_normal')(UpSampling2D(size = (2,2))(conv7))\n",
        "    merge8 = concatenate([conv2,up8], axis = 3)\n",
        "    conv8 = Conv2D(128, 3, activation = 'relu', padding = 'same', kernel_initializer = 'he_normal')(merge8)\n",
        "    conv8 = Conv2D(128, 3, activation = 'relu', padding = 'same', kernel_initializer = 'he_normal')(conv8)\n",
        "\n",
        "    up9 = Conv2D(64, 2, activation = 'relu', padding = 'same', kernel_initializer = 'he_normal')(UpSampling2D(size = (2,2))(conv8))\n",
        "    merge9 = concatenate([conv1,up9], axis = 3)\n",
        "    conv9 = Conv2D(64, 3, activation = 'relu', padding = 'same', kernel_initializer = 'he_normal')(merge9)\n",
        "    conv9 = Conv2D(64, 3, activation = 'relu', padding = 'same', kernel_initializer = 'he_normal')(conv9)\n",
        "    conv9 = Conv2D(2, 3, activation = 'relu', padding = 'same', kernel_initializer = 'he_normal')(conv9)\n",
        "    conv10 = Conv2D(1, 1, activation = 'sigmoid')(conv9)\n",
        "\n",
        "    model = Model(inputs = inputs, outputs = conv10)\n",
        "\n",
        "    model.compile(optimizer = Adam(lr = 1e-4), loss = 'binary_crossentropy', metrics = ['accuracy'])\n",
        "    \n",
        "    #model.summary()\n",
        "\n",
        "    if(pretrained_weights):\n",
        "    \tmodel.load_weights(pretrained_weights)\n",
        "\n",
        "    return model\n",
        "\n",
        "\n",
        "\n",
        "```\n",
        "\n"
      ]
    },
    {
      "cell_type": "code",
      "metadata": {
        "id": "Xj5b3JGRF94O"
      },
      "source": [
        ""
      ],
      "execution_count": null,
      "outputs": []
    },
    {
      "cell_type": "markdown",
      "metadata": {
        "id": "w387P4qiP9DI"
      },
      "source": [
        "### U-NETの特徴\n",
        "* MaxPoolingでdownsampling時にチャネルを倍にする\n",
        "* upsampling時にはdown時にクロップした画像を足して計算する。marge層のところ。\n",
        "* 畳み込みの際にpaddingしない為画像大きくなりがちなので、学習率を大きめにして処理を早めている。\n"
      ]
    },
    {
      "cell_type": "code",
      "metadata": {
        "id": "xjO92RpjRQCQ"
      },
      "source": [
        ""
      ],
      "execution_count": null,
      "outputs": []
    }
  ]
}