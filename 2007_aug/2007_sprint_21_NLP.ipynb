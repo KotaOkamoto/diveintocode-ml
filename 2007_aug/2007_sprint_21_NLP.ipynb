{
  "nbformat": 4,
  "nbformat_minor": 0,
  "metadata": {
    "colab": {
      "name": "2007_sprint_21_NLP.ipynb",
      "provenance": [],
      "collapsed_sections": [],
      "toc_visible": true
    },
    "kernelspec": {
      "name": "python3",
      "display_name": "Python 3"
    }
  },
  "cells": [
    {
      "cell_type": "markdown",
      "metadata": {
        "id": "knHY0B-atvM8"
      },
      "source": [
        "# 自然言語のベクトル化\n",
        "\n",
        "__自然言語処理（NLP, Natural Language Processing）__ とは人間が普段使っている 自然言語 をコンピュータに処理させる技術のことです。ここではその中でも、機械学習の入力として自然言語を用いることを考えていきます。\n",
        "\n",
        "\n",
        "多くの機械学習手法は __数値データ（量的変数）__ の入力を前提にしていますので、自然言語の テキストデータ を数値データに変換する必要があります。これを 自然言語のベクトル化 と呼びます。ベクトル化の際にテキストデータの特徴をうまく捉えられるよう、様々な手法が考えられてきていますので、このSprintではそれらを学びます。\n",
        "\n",
        "\n",
        "* 非構造化データ\n",
        "\n",
        "データの分類として、表に数値がまとめられたようなコンピュータが扱いやすい形を 構造化データ 、人間が扱いやすい画像・動画・テキスト・音声などを 非構造化データ と呼ぶことがあります。自然言語のベクトル化は、非構造化データを構造化データに変換する工程と言えます。同じ非構造化データでも、画像に対してはディープラーニングを用いる場合この変換作業はあまり必要がありませんでしたが、テキストにおいてはこれをどう行うかが重要です。\n",
        "\n",
        "\n",
        "* 自然言語処理により何ができるか\n",
        "\n",
        "機械学習の入力や出力に自然言語のテキストを用いることで様々なことができます。入力も出力もテキストである例としては 機械翻訳 があげられ、実用化されています。入力は画像で出力がテキストである 画像キャプション生成 やその逆の文章からの画像生成も研究が進んでいます。\n",
        "\n",
        "\n",
        "しかし、出力をテキストや画像のような非構造化データとすることは難易度が高いです。比較的簡単にできることとしては、入力をテキスト、出力をカテゴリーとする テキスト分類 です。\n",
        "\n",
        "\n",
        "アヤメやタイタニック、手書き数字のような定番の存在として、IMDB映画レビューデータセット の感情分析があります。レビューの文書が映画に対して肯定的か否定的かを2値分類します。文書ごとの肯定・否定はラベルが与えられています。このSprintではこれを使っていきます。"
      ]
    },
    {
      "cell_type": "markdown",
      "metadata": {
        "id": "Qe7aBjV2upk-"
      },
      "source": [
        "### IMDB映画レビューデータセットの準備\n",
        "\n",
        "IMDB映画レビューデータセットを準備します。\n",
        "\n",
        "\n",
        "* ダウンロード\n",
        "\n",
        "次のwgetコマンドによってダウンロードします。\n",
        "\n"
      ]
    },
    {
      "cell_type": "code",
      "metadata": {
        "id": "35DlSi7-to5t",
        "outputId": "abb6f2ca-0c3f-4dcb-f8ae-758cfd8cfd55",
        "colab": {
          "base_uri": "https://localhost:8080/",
          "height": 1000
        }
      },
      "source": [
        "# IMDBをカレントフォルダにダウンロード\n",
        "!wget http://ai.stanford.edu/~amaas/data/sentiment/aclImdb_v1.tar.gz\n",
        "# 解凍\n",
        "!tar zxf aclImdb_v1.tar.gz\n",
        "# aclImdb/train/unsupはラベル無しのため削除\n",
        "!rm -rf aclImdb/train/unsup\n",
        "# IMDBデータセットの説明を表示\n",
        "!cat aclImdb/README"
      ],
      "execution_count": null,
      "outputs": [
        {
          "output_type": "stream",
          "text": [
            "--2020-10-06 01:35:14--  http://ai.stanford.edu/~amaas/data/sentiment/aclImdb_v1.tar.gz\n",
            "Resolving ai.stanford.edu (ai.stanford.edu)... 171.64.68.10\n",
            "Connecting to ai.stanford.edu (ai.stanford.edu)|171.64.68.10|:80... connected.\n",
            "HTTP request sent, awaiting response... 200 OK\n",
            "Length: 84125825 (80M) [application/x-gzip]\n",
            "Saving to: ‘aclImdb_v1.tar.gz’\n",
            "\n",
            "aclImdb_v1.tar.gz   100%[===================>]  80.23M  6.38MB/s    in 18s     \n",
            "\n",
            "2020-10-06 01:35:32 (4.56 MB/s) - ‘aclImdb_v1.tar.gz’ saved [84125825/84125825]\n",
            "\n",
            "Large Movie Review Dataset v1.0\n",
            "\n",
            "Overview\n",
            "\n",
            "This dataset contains movie reviews along with their associated binary\n",
            "sentiment polarity labels. It is intended to serve as a benchmark for\n",
            "sentiment classification. This document outlines how the dataset was\n",
            "gathered, and how to use the files provided. \n",
            "\n",
            "Dataset \n",
            "\n",
            "The core dataset contains 50,000 reviews split evenly into 25k train\n",
            "and 25k test sets. The overall distribution of labels is balanced (25k\n",
            "pos and 25k neg). We also include an additional 50,000 unlabeled\n",
            "documents for unsupervised learning. \n",
            "\n",
            "In the entire collection, no more than 30 reviews are allowed for any\n",
            "given movie because reviews for the same movie tend to have correlated\n",
            "ratings. Further, the train and test sets contain a disjoint set of\n",
            "movies, so no significant performance is obtained by memorizing\n",
            "movie-unique terms and their associated with observed labels.  In the\n",
            "labeled train/test sets, a negative review has a score <= 4 out of 10,\n",
            "and a positive review has a score >= 7 out of 10. Thus reviews with\n",
            "more neutral ratings are not included in the train/test sets. In the\n",
            "unsupervised set, reviews of any rating are included and there are an\n",
            "even number of reviews > 5 and <= 5.\n",
            "\n",
            "Files\n",
            "\n",
            "There are two top-level directories [train/, test/] corresponding to\n",
            "the training and test sets. Each contains [pos/, neg/] directories for\n",
            "the reviews with binary labels positive and negative. Within these\n",
            "directories, reviews are stored in text files named following the\n",
            "convention [[id]_[rating].txt] where [id] is a unique id and [rating] is\n",
            "the star rating for that review on a 1-10 scale. For example, the file\n",
            "[test/pos/200_8.txt] is the text for a positive-labeled test set\n",
            "example with unique id 200 and star rating 8/10 from IMDb. The\n",
            "[train/unsup/] directory has 0 for all ratings because the ratings are\n",
            "omitted for this portion of the dataset.\n",
            "\n",
            "We also include the IMDb URLs for each review in a separate\n",
            "[urls_[pos, neg, unsup].txt] file. A review with unique id 200 will\n",
            "have its URL on line 200 of this file. Due the ever-changing IMDb, we\n",
            "are unable to link directly to the review, but only to the movie's\n",
            "review page.\n",
            "\n",
            "In addition to the review text files, we include already-tokenized bag\n",
            "of words (BoW) features that were used in our experiments. These \n",
            "are stored in .feat files in the train/test directories. Each .feat\n",
            "file is in LIBSVM format, an ascii sparse-vector format for labeled\n",
            "data.  The feature indices in these files start from 0, and the text\n",
            "tokens corresponding to a feature index is found in [imdb.vocab]. So a\n",
            "line with 0:7 in a .feat file means the first word in [imdb.vocab]\n",
            "(the) appears 7 times in that review.\n",
            "\n",
            "LIBSVM page for details on .feat file format:\n",
            "http://www.csie.ntu.edu.tw/~cjlin/libsvm/\n",
            "\n",
            "We also include [imdbEr.txt] which contains the expected rating for\n",
            "each token in [imdb.vocab] as computed by (Potts, 2011). The expected\n",
            "rating is a good way to get a sense for the average polarity of a word\n",
            "in the dataset.\n",
            "\n",
            "Citing the dataset\n",
            "\n",
            "When using this dataset please cite our ACL 2011 paper which\n",
            "introduces it. This paper also contains classification results which\n",
            "you may want to compare against.\n",
            "\n",
            "\n",
            "@InProceedings{maas-EtAl:2011:ACL-HLT2011,\n",
            "  author    = {Maas, Andrew L.  and  Daly, Raymond E.  and  Pham, Peter T.  and  Huang, Dan  and  Ng, Andrew Y.  and  Potts, Christopher},\n",
            "  title     = {Learning Word Vectors for Sentiment Analysis},\n",
            "  booktitle = {Proceedings of the 49th Annual Meeting of the Association for Computational Linguistics: Human Language Technologies},\n",
            "  month     = {June},\n",
            "  year      = {2011},\n",
            "  address   = {Portland, Oregon, USA},\n",
            "  publisher = {Association for Computational Linguistics},\n",
            "  pages     = {142--150},\n",
            "  url       = {http://www.aclweb.org/anthology/P11-1015}\n",
            "}\n",
            "\n",
            "References\n",
            "\n",
            "Potts, Christopher. 2011. On the negativity of negation. In Nan Li and\n",
            "David Lutz, eds., Proceedings of Semantics and Linguistic Theory 20,\n",
            "636-659.\n",
            "\n",
            "Contact\n",
            "\n",
            "For questions/comments/corrections please contact Andrew Maas\n",
            "amaas@cs.stanford.edu\n"
          ],
          "name": "stdout"
        }
      ]
    },
    {
      "cell_type": "markdown",
      "metadata": {
        "id": "ZZatAWqBvRAs"
      },
      "source": [
        "以下のサイトで公開されているデータセットです。\n",
        "\n",
        "\n",
        "[Sentiment Analysis](http://ai.stanford.edu/~amaas/data/sentiment/)"
      ]
    },
    {
      "cell_type": "markdown",
      "metadata": {
        "id": "YNYFU47avVIP"
      },
      "source": [
        "読み込み\n",
        "scikit-learnのload_filesを用いて読み込みます。\n",
        "\n",
        "\n",
        "[sklearn.datasets.load_files — scikit-learn 0.21.3 documentation](https://scikit-learn.org/stable/modules/generated/sklearn.datasets.load_files.html)\n",
        "\n",
        "\n",
        "《読み込むコード》\n",
        "\n"
      ]
    },
    {
      "cell_type": "code",
      "metadata": {
        "id": "jSP7BQG3vBCb",
        "outputId": "468bf506-fc2d-4179-876f-0401f9c4aa47",
        "colab": {
          "base_uri": "https://localhost:8080/",
          "height": 34
        }
      },
      "source": [
        "from sklearn.datasets import load_files\n",
        "train_review = load_files('./aclImdb/train/', encoding='utf-8')\n",
        "x_train, y_train = train_review.data, train_review.target\n",
        "test_review = load_files('./aclImdb/test/', encoding='utf-8')\n",
        "x_test, y_test = test_review.data, test_review.target\n",
        "# ラベルの0,1と意味の対応の表示\n",
        "print(train_review.target_names)"
      ],
      "execution_count": null,
      "outputs": [
        {
          "output_type": "stream",
          "text": [
            "['neg', 'pos']\n"
          ],
          "name": "stdout"
        }
      ]
    },
    {
      "cell_type": "markdown",
      "metadata": {
        "id": "nNXFTZ0DvVKy"
      },
      "source": [
        "### このデータセットについて\n",
        "中身を見てみると、英語の文章が入っていることが分かります。"
      ]
    },
    {
      "cell_type": "code",
      "metadata": {
        "id": "T6llRDRPwou7",
        "outputId": "965248c2-03c9-450a-f0cb-75028e5b91d4",
        "colab": {
          "base_uri": "https://localhost:8080/",
          "height": 54
        }
      },
      "source": [
        "print(\"x : {}\".format(x_train[0]))"
      ],
      "execution_count": null,
      "outputs": [
        {
          "output_type": "stream",
          "text": [
            "x : Zero Day leads you to think, even re-think why two boys/young men would do what they did - commit mutual suicide via slaughtering their classmates. It captures what must be beyond a bizarre mode of being for two humans who have decided to withdraw from common civility in order to define their own/mutual world via coupled destruction.<br /><br />It is not a perfect movie but given what money/time the filmmaker and actors had - it is a remarkable product. In terms of explaining the motives and actions of the two young suicide/murderers it is better than 'Elephant' - in terms of being a film that gets under our 'rationalistic' skin it is a far, far better film than almost anything you are likely to see. <br /><br />Flawed but honest with a terrible honesty.\n"
          ],
          "name": "stdout"
        }
      ]
    },
    {
      "cell_type": "markdown",
      "metadata": {
        "id": "ihCrPYE0w0_p"
      },
      "source": [
        "IMDBはInternet Movie Databaseの略で、映画のデータベースサイトです。\n",
        "\n",
        "\n",
        "[Ratings and Reviews for New Movies and TV Shows - IMDb](https://www.imdb.com/)\n",
        "\n",
        "\n",
        "このサイトではユーザーが映画に対して1から10点の評価とコメントを投稿することができます。そのデータベースから訓練データは25000件、テストデータは25000件のデータセットを作成しています。\n",
        "\n",
        "\n",
        "4点以下を否定的、7点以下を肯定的なレビューとして2値のラベル付けしており、これにより感情の分類を行います。5,6点の中立的なレビューはデータセットに含んでいません。また、ラベルは訓練用・テスト用それぞれで均一に入っています。詳細はダウンロードしたREADMEを確認してください。"
      ]
    },
    {
      "cell_type": "markdown",
      "metadata": {
        "id": "DYV3z0jIw8Ru"
      },
      "source": [
        "## 古典的な手法\n",
        "\n",
        "古典的ながら現在でも強力な手法であるBoWとTF-IDFを見ていきます。\n",
        "\n",
        "\n",
        "## BoW\n",
        "\n",
        "単純ながら効果的な方法として BoW (Bag of Words) があります。これは、サンプルごとに単語などの 登場回数 を数えたものをベクトルとする方法です。単語をカテゴリとして捉え one-hot表現 していることになります。\n",
        "\n",
        "\n",
        "* 例\n",
        "\n",
        "例として、IMDBデータセットからある3文の最初の5単語を抜き出したものを用意しました。\n",
        "\n"
      ]
    },
    {
      "cell_type": "code",
      "metadata": {
        "id": "1d5hx7hRwubK"
      },
      "source": [
        "mini_dataset = [\"This movie is very good.\",\n",
        "  \"This film is a good\",\n",
        "  \"Very bad. Very, very bad.\"]"
      ],
      "execution_count": null,
      "outputs": []
    },
    {
      "cell_type": "markdown",
      "metadata": {
        "id": "_-alYSuRxahh"
      },
      "source": [
        "この3文にBoWを適用させてみます。scikit-learnのCountVectorizerを利用します。\n",
        "\n",
        "\n",
        "[sklearn.feature_extraction.text.CountVectorizer — scikit-learn 0.21.3 documentation](https://scikit-learn.org/stable/modules/generated/sklearn.feature_extraction.text.CountVectorizer.html)"
      ]
    },
    {
      "cell_type": "code",
      "metadata": {
        "id": "MCN5YERRw2_Z",
        "outputId": "5f1471d7-bb21-4453-97ee-f4eeda182d3d",
        "colab": {
          "base_uri": "https://localhost:8080/",
          "height": 136
        }
      },
      "source": [
        "import pandas as pd\n",
        "from sklearn.feature_extraction.text import CountVectorizer\n",
        "vectorizer = CountVectorizer(token_pattern=r'(?u)\\b\\w+\\b')\n",
        "bow = (vectorizer.fit_transform(mini_dataset)).toarray()\n",
        "# DataFrameにまとめる\n",
        "df = pd.DataFrame(bow, columns=vectorizer.get_feature_names())\n",
        "display(df)"
      ],
      "execution_count": null,
      "outputs": [
        {
          "output_type": "display_data",
          "data": {
            "text/html": [
              "<div>\n",
              "<style scoped>\n",
              "    .dataframe tbody tr th:only-of-type {\n",
              "        vertical-align: middle;\n",
              "    }\n",
              "\n",
              "    .dataframe tbody tr th {\n",
              "        vertical-align: top;\n",
              "    }\n",
              "\n",
              "    .dataframe thead th {\n",
              "        text-align: right;\n",
              "    }\n",
              "</style>\n",
              "<table border=\"1\" class=\"dataframe\">\n",
              "  <thead>\n",
              "    <tr style=\"text-align: right;\">\n",
              "      <th></th>\n",
              "      <th>a</th>\n",
              "      <th>bad</th>\n",
              "      <th>film</th>\n",
              "      <th>good</th>\n",
              "      <th>is</th>\n",
              "      <th>movie</th>\n",
              "      <th>this</th>\n",
              "      <th>very</th>\n",
              "    </tr>\n",
              "  </thead>\n",
              "  <tbody>\n",
              "    <tr>\n",
              "      <th>0</th>\n",
              "      <td>0</td>\n",
              "      <td>0</td>\n",
              "      <td>0</td>\n",
              "      <td>1</td>\n",
              "      <td>1</td>\n",
              "      <td>1</td>\n",
              "      <td>1</td>\n",
              "      <td>1</td>\n",
              "    </tr>\n",
              "    <tr>\n",
              "      <th>1</th>\n",
              "      <td>1</td>\n",
              "      <td>0</td>\n",
              "      <td>1</td>\n",
              "      <td>1</td>\n",
              "      <td>1</td>\n",
              "      <td>0</td>\n",
              "      <td>1</td>\n",
              "      <td>0</td>\n",
              "    </tr>\n",
              "    <tr>\n",
              "      <th>2</th>\n",
              "      <td>0</td>\n",
              "      <td>2</td>\n",
              "      <td>0</td>\n",
              "      <td>0</td>\n",
              "      <td>0</td>\n",
              "      <td>0</td>\n",
              "      <td>0</td>\n",
              "      <td>3</td>\n",
              "    </tr>\n",
              "  </tbody>\n",
              "</table>\n",
              "</div>"
            ],
            "text/plain": [
              "   a  bad  film  good  is  movie  this  very\n",
              "0  0    0     0     1   1      1     1     1\n",
              "1  1    0     1     1   1      0     1     0\n",
              "2  0    2     0     0   0      0     0     3"
            ]
          },
          "metadata": {
            "tags": []
          }
        }
      ]
    },
    {
      "cell_type": "markdown",
      "metadata": {
        "id": "NoYYkSb9xgwV"
      },
      "source": [
        "例にあげた3文の中で登場する8種類の単語が列名になり、0,1,2番目のサンプルでそれらが何回登場しているかを示しています。2番目のサンプル「Very bad. Very, very bad.」ではbadが2回、veryが3回登場しています。列名になっている言葉はデータセットが持つ 語彙 と呼びます。\n",
        "\n",
        "\n",
        "テキストはBoWにより各サンプルが語彙数の次元を持つ特徴量となり、機械学習モデルへ入力できるようになります。この時使用したテキスト全体のことを コーパス と呼びます。語彙はコーパスに含まれる言葉よって決まり、それを特徴量としてモデルの学習を行います。そのため、テストデータではじめて登場する語彙はベクトル化される際に無視されます。\n",
        "\n"
      ]
    },
    {
      "cell_type": "markdown",
      "metadata": {
        "id": "K4kvC3wmzSa1"
      },
      "source": [
        "### 前処理\n",
        "\n",
        "CountVectorizerクラスでは大文字は小文字に揃えるという 前処理 が自動的に行われています。こういった前処理は自然言語処理において大切で、不要な記号などの消去（テキストクリーニング）や表記揺れの統一といったことを別途行うことが一般的です。\n",
        "\n",
        "\n",
        "語形が「see」「saw」「seen」のように変化する単語に対して語幹に揃える ステミング と呼ばれる処理を行うこともあります。\n",
        "\n",
        "### トークン\n",
        "BoWは厳密には単語を数えているのではなく、 トークン（token） として定めた固まりを数えます。\n",
        "\n",
        "\n",
        "何をトークンとするかはCountVectorizerでは引数token_patternで 正規表現 の記法により指定されます。デフォルトはr'(?u)\\b\\w\\w+\\b'ですが、上の例ではr'(?u)\\b\\w+\\b'としています。\n",
        "\n",
        "\n",
        "デフォルトでは空白・句読点・スラッシュなどに囲まれた2文字以上の文字を1つのトークンとして抜き出すようになっているため、「a」や「I」などがカウントされません。英語では1文字の単語は文章の特徴をあまり表さないため、除外されることもあります。しかし、上の例では1文字の単語もトークンとして抜き出すように引数を指定しています。\n",
        "\n",
        "\n",
        "__《正規表現》__\n",
        "\n",
        "\n",
        "正規表現は前処理の際にも活用しますが、ここでは詳細は扱いません。Pythonではreモジュールによって正規表現操作ができます。\n",
        "\n",
        "\n",
        "[re — 正規表現操作](https://docs.python.org/ja/3/library/re.html)\n",
        "\n",
        "\n",
        "正規表現を利用する際はリアルタイムで結果を確認できる以下のようなサービスが便利です。\n",
        "\n",
        "\n",
        "[Online regex tester and debugger: PHP, PCRE, Python, Golang and JavaScript](https://regex101.com/)\n"
      ]
    },
    {
      "cell_type": "markdown",
      "metadata": {
        "id": "kI4REpO1zvJi"
      },
      "source": [
        "### 形態素解析\n",
        "英語などの多くの言語では空白という分かりやすい基準でトークン化が行えますが、日本語ではそれが行えません。\n",
        "\n",
        "\n",
        "日本語では名詞や助詞、動詞のように異なる 品詞 で分けられる単位で 分かち書き することになります。例えば「私はプログラミングを学びます」という日本語の文は「私/は/プログラミング/を/学び/ます」という風になります。\n",
        "\n",
        "\n",
        "これには MeCab や Janome のような形態素解析ツールを用います。Pythonから利用することも可能です。MeCabをウェブ上で簡単に利用できる[Web茶まめ](http://chamame.ninjal.ac.jp/)というサービスも国立国語研究所が提供しています。\n",
        "\n",
        "\n",
        "自然言語では新しい言葉も日々生まれますので、それにどれだけ対応できるかも大切です。MeCab用の毎週更新される辞書として mecab-ipadic-NEologd がオープンソースで存在しています。\n",
        "\n",
        "\n",
        "[mecab-ipadic-neologd/README.ja.md at master · neologd/mecab-ipadic-neologd](https://github.com/neologd/mecab-ipadic-neologd/blob/master/README.ja.md)"
      ]
    },
    {
      "cell_type": "markdown",
      "metadata": {
        "id": "oQXqsEGTz6nO"
      },
      "source": [
        "### n-gram\n",
        "上のBoWの例では1つの単語（トークン）毎の登場回数を数えましたが、これでは語順は全く考慮されていません。\n",
        "\n",
        "\n",
        "考慮するために、隣あう単語同士をまとめて扱う n-gram という考え方を適用することがあります。2つの単語をまとめる場合は 2-gram (bigram) と呼び、次のようになります。"
      ]
    },
    {
      "cell_type": "code",
      "metadata": {
        "id": "5N4jh1Ekxede",
        "outputId": "da924751-b00e-4dbc-a5dd-1b088a1f5876",
        "colab": {
          "base_uri": "https://localhost:8080/",
          "height": 136
        }
      },
      "source": [
        "# ngram_rangeで利用するn-gramの範囲を指定する\n",
        "vectorizer = CountVectorizer(ngram_range=(2, 2), token_pattern=r'(?u)\\b\\w+\\b')\n",
        "bow_train = (vectorizer.fit_transform(mini_dataset)).toarray()\n",
        "df = pd.DataFrame(bow_train, columns=vectorizer.get_feature_names())\n",
        "display(df)"
      ],
      "execution_count": null,
      "outputs": [
        {
          "output_type": "display_data",
          "data": {
            "text/html": [
              "<div>\n",
              "<style scoped>\n",
              "    .dataframe tbody tr th:only-of-type {\n",
              "        vertical-align: middle;\n",
              "    }\n",
              "\n",
              "    .dataframe tbody tr th {\n",
              "        vertical-align: top;\n",
              "    }\n",
              "\n",
              "    .dataframe thead th {\n",
              "        text-align: right;\n",
              "    }\n",
              "</style>\n",
              "<table border=\"1\" class=\"dataframe\">\n",
              "  <thead>\n",
              "    <tr style=\"text-align: right;\">\n",
              "      <th></th>\n",
              "      <th>a good</th>\n",
              "      <th>bad very</th>\n",
              "      <th>film is</th>\n",
              "      <th>is a</th>\n",
              "      <th>is very</th>\n",
              "      <th>movie is</th>\n",
              "      <th>this film</th>\n",
              "      <th>this movie</th>\n",
              "      <th>very bad</th>\n",
              "      <th>very good</th>\n",
              "      <th>very very</th>\n",
              "    </tr>\n",
              "  </thead>\n",
              "  <tbody>\n",
              "    <tr>\n",
              "      <th>0</th>\n",
              "      <td>0</td>\n",
              "      <td>0</td>\n",
              "      <td>0</td>\n",
              "      <td>0</td>\n",
              "      <td>1</td>\n",
              "      <td>1</td>\n",
              "      <td>0</td>\n",
              "      <td>1</td>\n",
              "      <td>0</td>\n",
              "      <td>1</td>\n",
              "      <td>0</td>\n",
              "    </tr>\n",
              "    <tr>\n",
              "      <th>1</th>\n",
              "      <td>1</td>\n",
              "      <td>0</td>\n",
              "      <td>1</td>\n",
              "      <td>1</td>\n",
              "      <td>0</td>\n",
              "      <td>0</td>\n",
              "      <td>1</td>\n",
              "      <td>0</td>\n",
              "      <td>0</td>\n",
              "      <td>0</td>\n",
              "      <td>0</td>\n",
              "    </tr>\n",
              "    <tr>\n",
              "      <th>2</th>\n",
              "      <td>0</td>\n",
              "      <td>1</td>\n",
              "      <td>0</td>\n",
              "      <td>0</td>\n",
              "      <td>0</td>\n",
              "      <td>0</td>\n",
              "      <td>0</td>\n",
              "      <td>0</td>\n",
              "      <td>2</td>\n",
              "      <td>0</td>\n",
              "      <td>1</td>\n",
              "    </tr>\n",
              "  </tbody>\n",
              "</table>\n",
              "</div>"
            ],
            "text/plain": [
              "   a good  bad very  film is  is a  ...  this movie  very bad  very good  very very\n",
              "0       0         0        0     0  ...           1         0          1          0\n",
              "1       1         0        1     1  ...           0         0          0          0\n",
              "2       0         1        0     0  ...           0         2          0          1\n",
              "\n",
              "[3 rows x 11 columns]"
            ]
          },
          "metadata": {
            "tags": []
          }
        }
      ]
    },
    {
      "cell_type": "markdown",
      "metadata": {
        "id": "l5V1wJFz0Fcj"
      },
      "source": [
        "2-gramにより「very good」と「very bad」が区別して数えられています。\n",
        "\n",
        "\n",
        "単語をまとめない場合は 1-gram (unigram) と呼びます。3つまとめる3-gram(trigram)など任意の数を考えることができます。1-gramと2-gramを組み合わせてBoWを行うといったこともあります。"
      ]
    },
    {
      "cell_type": "markdown",
      "metadata": {
        "id": "-RgB7mJC0IFc"
      },
      "source": [
        "# 【問題1】BoWのスクラッチ実装\n",
        "以下の3文のBoWを求められるプログラムをscikit-learnを使わずに作成してください。1-gramと2-gramで計算してください。"
      ]
    },
    {
      "cell_type": "markdown",
      "metadata": {
        "id": "HbRkKJ4k0LHP"
      },
      "source": [
        "This movie is SOOOO funny!!!\n",
        "\n",
        "What a movie! I never\n",
        "\n",
        "best movie ever!!!!! this movie"
      ]
    },
    {
      "cell_type": "code",
      "metadata": {
        "id": "DMMs4tbsz_kP"
      },
      "source": [
        "import numpy as np\n",
        "from string import punctuation\n",
        "\n",
        "# データセット\n",
        "mini_corpus = [\"This movie is SOOOO funny!!!\",\n",
        "               \"What a movie! I never\",\n",
        "               \"best movie ever!!!!! this movie\"]"
      ],
      "execution_count": null,
      "outputs": []
    },
    {
      "cell_type": "code",
      "metadata": {
        "id": "cEm3sEyUUpGb",
        "outputId": "4b85e6ee-ada1-4b44-abb1-151ff2b355c7",
        "colab": {
          "base_uri": "https://localhost:8080/",
          "height": 35
        }
      },
      "source": [
        "test = \"aiueo\"\n",
        "code = \"12345\"\n",
        "\n",
        "transtab = str.maketrans(\"\", \"\", punctuation)\n",
        "\n",
        "str = \"THIS is string example....wow!!!\"\n",
        "out = str.translate(transtab)\n",
        "out\n"
      ],
      "execution_count": null,
      "outputs": [
        {
          "output_type": "execute_result",
          "data": {
            "application/vnd.google.colaboratory.intrinsic+json": {
              "type": "string"
            },
            "text/plain": [
              "'THIS is string examplewow'"
            ]
          },
          "metadata": {
            "tags": []
          },
          "execution_count": 20
        }
      ]
    },
    {
      "cell_type": "code",
      "metadata": {
        "id": "GvY7b20Q4BLa"
      },
      "source": [
        "\n",
        "# 自作する\n",
        "class BagofWords:\n",
        "    \"\"\"\n",
        "    bag of wordsを実装するクラス。\n",
        "    self.features : 出力の時のソート配列を格納する\n",
        "    self.ngram_range : 単語をまとめる数、最小値から最大値のタプル\n",
        "    text_array : ngramを通したリスト\n",
        "    text : 入力文を単語ごとに分割したリスト\n",
        "    word : textの要素\n",
        "    \"\"\"\n",
        "    def __init__(self, ngram_range=(1,1)):\n",
        "        self.features = None\n",
        "        self.ngram_range = ngram_range\n",
        "    \n",
        "    def fit_transform(self, X):\n",
        "        n_min, n_max = self.ngram_range\n",
        "        text_array = []\n",
        "\n",
        "        # 句読点の削除、小文字変換をかけて単語ごとにリスト化。\n",
        "        for i, text in enumerate(X):\n",
        "            # print(text)\n",
        "            text = text.translate(str.maketrans('', '', punctuation)) # 句読点の排除\n",
        "            text = list(text.lower().split()) # 小文字変換して単語ごとにsplitしてlist化、splitしないと文字ごとのリストになる\n",
        "\n",
        "            ngram_array = []\n",
        "            n = n_min\n",
        "            while n <= n_max: # nがn_maxに到達するまでループ\n",
        "                for j in range(len(text) - n + 1): \n",
        "                    ngram_array.append(\" \".join(text[j:j+n])) # n個の単語ごとに取り出してngram配列に渡す。ngram_rangeが(2,2)なら2単語のみ、(1,2)なら1単語と2単語どちらも取り出す\n",
        "                    #print(ngram_array)\n",
        "                n += 1\n",
        "              \n",
        "            text_array.append(ngram_array)\n",
        "            # print(text_array)\n",
        "          \n",
        "        self.features = sorted(set(np.array(text_array).flatten()))\n",
        "        # print(self.features)\n",
        "\n",
        "        bow = np.zeros((len(X), len(self.features)))\n",
        "        for i, text in enumerate(text_array):\n",
        "            for j, word in enumerate(self.features):\n",
        "                bow[i][j] = text.count(word)\n",
        "        \n",
        "        return np.array(bow, dtype=np.int)"
      ],
      "execution_count": null,
      "outputs": []
    },
    {
      "cell_type": "code",
      "metadata": {
        "id": "Ji8JwqpO_jZl",
        "outputId": "cc9e829f-54da-4cbb-f5e0-a368d9e68437",
        "colab": {
          "base_uri": "https://localhost:8080/",
          "height": 136
        }
      },
      "source": [
        "unigram = BagofWords(ngram_range=(1,1))\n",
        "bow = unigram.fit_transform(mini_corpus)\n",
        "\n",
        "df = pd.DataFrame(bow, columns=unigram.features)\n",
        "display(df)"
      ],
      "execution_count": null,
      "outputs": [
        {
          "output_type": "display_data",
          "data": {
            "text/html": [
              "<div>\n",
              "<style scoped>\n",
              "    .dataframe tbody tr th:only-of-type {\n",
              "        vertical-align: middle;\n",
              "    }\n",
              "\n",
              "    .dataframe tbody tr th {\n",
              "        vertical-align: top;\n",
              "    }\n",
              "\n",
              "    .dataframe thead th {\n",
              "        text-align: right;\n",
              "    }\n",
              "</style>\n",
              "<table border=\"1\" class=\"dataframe\">\n",
              "  <thead>\n",
              "    <tr style=\"text-align: right;\">\n",
              "      <th></th>\n",
              "      <th>a</th>\n",
              "      <th>best</th>\n",
              "      <th>ever</th>\n",
              "      <th>funny</th>\n",
              "      <th>i</th>\n",
              "      <th>is</th>\n",
              "      <th>movie</th>\n",
              "      <th>never</th>\n",
              "      <th>soooo</th>\n",
              "      <th>this</th>\n",
              "      <th>what</th>\n",
              "    </tr>\n",
              "  </thead>\n",
              "  <tbody>\n",
              "    <tr>\n",
              "      <th>0</th>\n",
              "      <td>0</td>\n",
              "      <td>0</td>\n",
              "      <td>0</td>\n",
              "      <td>1</td>\n",
              "      <td>0</td>\n",
              "      <td>1</td>\n",
              "      <td>1</td>\n",
              "      <td>0</td>\n",
              "      <td>1</td>\n",
              "      <td>1</td>\n",
              "      <td>0</td>\n",
              "    </tr>\n",
              "    <tr>\n",
              "      <th>1</th>\n",
              "      <td>1</td>\n",
              "      <td>0</td>\n",
              "      <td>0</td>\n",
              "      <td>0</td>\n",
              "      <td>1</td>\n",
              "      <td>0</td>\n",
              "      <td>1</td>\n",
              "      <td>1</td>\n",
              "      <td>0</td>\n",
              "      <td>0</td>\n",
              "      <td>1</td>\n",
              "    </tr>\n",
              "    <tr>\n",
              "      <th>2</th>\n",
              "      <td>0</td>\n",
              "      <td>1</td>\n",
              "      <td>1</td>\n",
              "      <td>0</td>\n",
              "      <td>0</td>\n",
              "      <td>0</td>\n",
              "      <td>2</td>\n",
              "      <td>0</td>\n",
              "      <td>0</td>\n",
              "      <td>1</td>\n",
              "      <td>0</td>\n",
              "    </tr>\n",
              "  </tbody>\n",
              "</table>\n",
              "</div>"
            ],
            "text/plain": [
              "   a  best  ever  funny  i  is  movie  never  soooo  this  what\n",
              "0  0     0     0      1  0   1      1      0      1     1     0\n",
              "1  1     0     0      0  1   0      1      1      0     0     1\n",
              "2  0     1     1      0  0   0      2      0      0     1     0"
            ]
          },
          "metadata": {
            "tags": []
          }
        }
      ]
    },
    {
      "cell_type": "code",
      "metadata": {
        "id": "mYbH14lR3xsL",
        "outputId": "6b606a20-bbe2-4a7e-c6e9-75f601ce655b",
        "colab": {
          "base_uri": "https://localhost:8080/",
          "height": 136
        }
      },
      "source": [
        "#scikit-learnでやってみる\n",
        "vectorizer = CountVectorizer(token_pattern=r'(?u)\\b\\w+\\b')\n",
        "bow = (vectorizer.fit_transform(mini_corpus)).toarray()\n",
        "# DataFrameにまとめる\n",
        "df = pd.DataFrame(bow, columns=vectorizer.get_feature_names())\n",
        "display(df)"
      ],
      "execution_count": null,
      "outputs": [
        {
          "output_type": "display_data",
          "data": {
            "text/html": [
              "<div>\n",
              "<style scoped>\n",
              "    .dataframe tbody tr th:only-of-type {\n",
              "        vertical-align: middle;\n",
              "    }\n",
              "\n",
              "    .dataframe tbody tr th {\n",
              "        vertical-align: top;\n",
              "    }\n",
              "\n",
              "    .dataframe thead th {\n",
              "        text-align: right;\n",
              "    }\n",
              "</style>\n",
              "<table border=\"1\" class=\"dataframe\">\n",
              "  <thead>\n",
              "    <tr style=\"text-align: right;\">\n",
              "      <th></th>\n",
              "      <th>a</th>\n",
              "      <th>best</th>\n",
              "      <th>ever</th>\n",
              "      <th>funny</th>\n",
              "      <th>i</th>\n",
              "      <th>is</th>\n",
              "      <th>movie</th>\n",
              "      <th>never</th>\n",
              "      <th>soooo</th>\n",
              "      <th>this</th>\n",
              "      <th>what</th>\n",
              "    </tr>\n",
              "  </thead>\n",
              "  <tbody>\n",
              "    <tr>\n",
              "      <th>0</th>\n",
              "      <td>0</td>\n",
              "      <td>0</td>\n",
              "      <td>0</td>\n",
              "      <td>1</td>\n",
              "      <td>0</td>\n",
              "      <td>1</td>\n",
              "      <td>1</td>\n",
              "      <td>0</td>\n",
              "      <td>1</td>\n",
              "      <td>1</td>\n",
              "      <td>0</td>\n",
              "    </tr>\n",
              "    <tr>\n",
              "      <th>1</th>\n",
              "      <td>1</td>\n",
              "      <td>0</td>\n",
              "      <td>0</td>\n",
              "      <td>0</td>\n",
              "      <td>1</td>\n",
              "      <td>0</td>\n",
              "      <td>1</td>\n",
              "      <td>1</td>\n",
              "      <td>0</td>\n",
              "      <td>0</td>\n",
              "      <td>1</td>\n",
              "    </tr>\n",
              "    <tr>\n",
              "      <th>2</th>\n",
              "      <td>0</td>\n",
              "      <td>1</td>\n",
              "      <td>1</td>\n",
              "      <td>0</td>\n",
              "      <td>0</td>\n",
              "      <td>0</td>\n",
              "      <td>2</td>\n",
              "      <td>0</td>\n",
              "      <td>0</td>\n",
              "      <td>1</td>\n",
              "      <td>0</td>\n",
              "    </tr>\n",
              "  </tbody>\n",
              "</table>\n",
              "</div>"
            ],
            "text/plain": [
              "   a  best  ever  funny  i  is  movie  never  soooo  this  what\n",
              "0  0     0     0      1  0   1      1      0      1     1     0\n",
              "1  1     0     0      0  1   0      1      1      0     0     1\n",
              "2  0     1     1      0  0   0      2      0      0     1     0"
            ]
          },
          "metadata": {
            "tags": []
          }
        }
      ]
    },
    {
      "cell_type": "markdown",
      "metadata": {
        "id": "Wy36HXeiYnF9"
      },
      "source": [
        "同じ結果が得られた。"
      ]
    },
    {
      "cell_type": "markdown",
      "metadata": {
        "id": "qfjb5lRhcJOR"
      },
      "source": [
        "## TF-IDF\n",
        "\n",
        "BoWの発展的手法として TF-IDF もよく使われます。これは Term Frequency (TF) と Inverse Document Frequency (IDF) という2つの指標の組み合わせです。\n",
        "\n",
        "\n",
        "__《標準的なTF-IDFの式》__\n",
        "\n",
        "\n",
        "* Term Frequency:\n",
        "\n",
        "$$\n",
        "tf(t,d)=\\frac{n_{t,d}}{\\Sigma_{s\\in{d}}n_{s,d}}\n",
        "$$\n",
        "\n",
        "$n_{t,d}$ : サンプルd内のトークンtの出現回数（BoWと同じ）\n",
        "\n",
        "$\\Sigma_{s\\in{d}}n_{s,d}$ : サンプルdの全トークンの出現回数の和\n",
        "\n",
        "\n",
        "\n",
        "\n",
        "\n",
        "* Inverse Document Frequency:\n",
        "\n",
        "$$\n",
        "idf(t)=log\\frac{N}{df(t)}\n",
        "$$\n",
        "\n",
        "$N$ : サンプル数\n",
        "\n",
        "\n",
        "df(t) : トークンtが出現するサンプル数\n",
        "\n",
        "\n",
        "＊logの底は任意の値\n",
        "\n",
        "\n",
        "TF-IDF:\n",
        "$$\n",
        "tfidf(t,d)=tf(t,d) * idf(t)\n",
        "$$\n",
        "\n",
        "### IDF\n",
        "IDFはそのトークンがデータセット内で珍しいほど値が大きくなる指標です。\n",
        "\n",
        "\n",
        "サンプル数 \n",
        "$N$をIMDB映画レビューデータセットの訓練データに合わせ25000として、トークンが出現するサンプル数$df(t)$を変化させたグラフを確認してみると、次のようになります。"
      ]
    },
    {
      "cell_type": "code",
      "metadata": {
        "id": "Jp4BWt2BYlwI",
        "outputId": "54690b3f-5b46-498e-8703-708cd81afdd3",
        "colab": {
          "base_uri": "https://localhost:8080/",
          "height": 295
        }
      },
      "source": [
        "import numpy as np\n",
        "import matplotlib.pyplot as plt\n",
        "n_samples = 25000\n",
        "idf = np.log(n_samples/np.arange(1,n_samples))\n",
        "plt.title(\"IDF\")\n",
        "plt.xlabel(\"df(t)\")\n",
        "plt.ylabel(\"IDF\")\n",
        "plt.plot(idf)\n",
        "plt.show()"
      ],
      "execution_count": null,
      "outputs": [
        {
          "output_type": "display_data",
          "data": {
            "image/png": "[encoded data removed]",
            "text/plain": [
              "<Figure size 432x288 with 1 Axes>"
            ]
          },
          "metadata": {
            "tags": [],
            "needs_background": "light"
          }
        }
      ]
    },
    {
      "cell_type": "markdown",
      "metadata": {
        "id": "ca37UnyNeddj"
      },
      "source": [
        "TF-IDFではこの数を出現回数に掛け合わせるので、珍しいトークンの登場に重み付けを行なっていることになります。"
      ]
    },
    {
      "cell_type": "markdown",
      "metadata": {
        "id": "kNiXbA6CefYO"
      },
      "source": [
        "### ストップワード\n",
        "あまりにも頻繁に登場するトークンは、値を小さくするだけでなく、取り除くという前処理を加えることもあります。取り除くもののことを ストップワード と呼びます。既存のストップワード一覧を利用したり、しきい値によって求めたりします。\n",
        "\n",
        "\n",
        "scikit-learnのCountVectorizerでは引数stop_wordsにリストで指定することで処理を行なってくれます。\n",
        "\n"
      ]
    },
    {
      "cell_type": "code",
      "metadata": {
        "id": "S0r5lmsSeXs4",
        "outputId": "86609742-4d22-4768-a7b4-f5c1e560359a",
        "colab": {
          "base_uri": "https://localhost:8080/",
          "height": 136
        }
      },
      "source": [
        "vectorizer = CountVectorizer(stop_words=[\"is\"], token_pattern=r'\\b\\w+\\b')\n",
        "bow_train = (vectorizer.fit_transform(mini_dataset)).toarray()\n",
        "df = pd.DataFrame(bow_train, columns=vectorizer.get_feature_names())\n",
        "display(df)"
      ],
      "execution_count": null,
      "outputs": [
        {
          "output_type": "display_data",
          "data": {
            "text/html": [
              "<div>\n",
              "<style scoped>\n",
              "    .dataframe tbody tr th:only-of-type {\n",
              "        vertical-align: middle;\n",
              "    }\n",
              "\n",
              "    .dataframe tbody tr th {\n",
              "        vertical-align: top;\n",
              "    }\n",
              "\n",
              "    .dataframe thead th {\n",
              "        text-align: right;\n",
              "    }\n",
              "</style>\n",
              "<table border=\"1\" class=\"dataframe\">\n",
              "  <thead>\n",
              "    <tr style=\"text-align: right;\">\n",
              "      <th></th>\n",
              "      <th>a</th>\n",
              "      <th>bad</th>\n",
              "      <th>film</th>\n",
              "      <th>good</th>\n",
              "      <th>movie</th>\n",
              "      <th>this</th>\n",
              "      <th>very</th>\n",
              "    </tr>\n",
              "  </thead>\n",
              "  <tbody>\n",
              "    <tr>\n",
              "      <th>0</th>\n",
              "      <td>0</td>\n",
              "      <td>0</td>\n",
              "      <td>0</td>\n",
              "      <td>1</td>\n",
              "      <td>1</td>\n",
              "      <td>1</td>\n",
              "      <td>1</td>\n",
              "    </tr>\n",
              "    <tr>\n",
              "      <th>1</th>\n",
              "      <td>1</td>\n",
              "      <td>0</td>\n",
              "      <td>1</td>\n",
              "      <td>1</td>\n",
              "      <td>0</td>\n",
              "      <td>1</td>\n",
              "      <td>0</td>\n",
              "    </tr>\n",
              "    <tr>\n",
              "      <th>2</th>\n",
              "      <td>0</td>\n",
              "      <td>2</td>\n",
              "      <td>0</td>\n",
              "      <td>0</td>\n",
              "      <td>0</td>\n",
              "      <td>0</td>\n",
              "      <td>3</td>\n",
              "    </tr>\n",
              "  </tbody>\n",
              "</table>\n",
              "</div>"
            ],
            "text/plain": [
              "   a  bad  film  good  movie  this  very\n",
              "0  0    0     0     1      1     1     1\n",
              "1  1    0     1     1      0     1     0\n",
              "2  0    2     0     0      0     0     3"
            ]
          },
          "metadata": {
            "tags": []
          }
        }
      ]
    },
    {
      "cell_type": "markdown",
      "metadata": {
        "id": "yugoHvY7epfy"
      },
      "source": [
        "代表的な既存のストップワード一覧としては、NLTK という自然言語処理のライブラリのものがあげられます。あるデータセットにおいては特別重要な意味を持つ単語が一覧に含まれている可能性もあるため、使用する際は中身を確認することが望ましいです。"
      ]
    },
    {
      "cell_type": "code",
      "metadata": {
        "id": "Pl6fjuUxeinn",
        "outputId": "43ea5824-2acf-49b3-f9d8-b0eb147e00f6",
        "colab": {
          "base_uri": "https://localhost:8080/",
          "height": 90
        }
      },
      "source": [
        "# はじめて使う場合はストップワードをダウンロード\n",
        "import nltk\n",
        "stop_words = nltk.download('stopwords')\n",
        "from nltk.corpus import stopwords\n",
        "stop_words = stopwords.words('english')\n",
        "print(\"stop word : {}\".format(stop_words)) # 'i', 'me', 'my', ..."
      ],
      "execution_count": null,
      "outputs": [
        {
          "output_type": "stream",
          "text": [
            "[nltk_data] Downloading package stopwords to /root/nltk_data...\n",
            "[nltk_data]   Unzipping corpora/stopwords.zip.\n",
            "stop word : ['i', 'me', 'my', 'myself', 'we', 'our', 'ours', 'ourselves', 'you', \"you're\", \"you've\", \"you'll\", \"you'd\", 'your', 'yours', 'yourself', 'yourselves', 'he', 'him', 'his', 'himself', 'she', \"she's\", 'her', 'hers', 'herself', 'it', \"it's\", 'its', 'itself', 'they', 'them', 'their', 'theirs', 'themselves', 'what', 'which', 'who', 'whom', 'this', 'that', \"that'll\", 'these', 'those', 'am', 'is', 'are', 'was', 'were', 'be', 'been', 'being', 'have', 'has', 'had', 'having', 'do', 'does', 'did', 'doing', 'a', 'an', 'the', 'and', 'but', 'if', 'or', 'because', 'as', 'until', 'while', 'of', 'at', 'by', 'for', 'with', 'about', 'against', 'between', 'into', 'through', 'during', 'before', 'after', 'above', 'below', 'to', 'from', 'up', 'down', 'in', 'out', 'on', 'off', 'over', 'under', 'again', 'further', 'then', 'once', 'here', 'there', 'when', 'where', 'why', 'how', 'all', 'any', 'both', 'each', 'few', 'more', 'most', 'other', 'some', 'such', 'no', 'nor', 'not', 'only', 'own', 'same', 'so', 'than', 'too', 'very', 's', 't', 'can', 'will', 'just', 'don', \"don't\", 'should', \"should've\", 'now', 'd', 'll', 'm', 'o', 're', 've', 'y', 'ain', 'aren', \"aren't\", 'couldn', \"couldn't\", 'didn', \"didn't\", 'doesn', \"doesn't\", 'hadn', \"hadn't\", 'hasn', \"hasn't\", 'haven', \"haven't\", 'isn', \"isn't\", 'ma', 'mightn', \"mightn't\", 'mustn', \"mustn't\", 'needn', \"needn't\", 'shan', \"shan't\", 'shouldn', \"shouldn't\", 'wasn', \"wasn't\", 'weren', \"weren't\", 'won', \"won't\", 'wouldn', \"wouldn't\"]\n"
          ],
          "name": "stdout"
        }
      ]
    },
    {
      "cell_type": "markdown",
      "metadata": {
        "id": "IH3MCT6fewUA"
      },
      "source": [
        "逆に、登場回数が特に少ないトークンも取り除くことが多いです。全てのトークンを用いるとベクトルの次元数が著しく大きくなってしまい計算コストが高まるためです。\n",
        "\n",
        "\n",
        "scikit-learnのCountVectorizerでは引数max_featuresに最大の語彙数を指定することで処理を行なってくれます。以下の例では出現数が多い順に5個でベクトル化しています。"
      ]
    },
    {
      "cell_type": "code",
      "metadata": {
        "id": "DdfTD6BresVt",
        "outputId": "f1538b03-0184-4fc4-cc31-affa34e2fe33",
        "colab": {
          "base_uri": "https://localhost:8080/",
          "height": 136
        }
      },
      "source": [
        "vectorizer = CountVectorizer(token_pattern=r'\\b\\w+\\b', max_features = 5)\n",
        "bow_train = (vectorizer.fit_transform(mini_dataset)).toarray()\n",
        "df = pd.DataFrame(bow_train, columns=vectorizer.get_feature_names())\n",
        "display(df)"
      ],
      "execution_count": null,
      "outputs": [
        {
          "output_type": "display_data",
          "data": {
            "text/html": [
              "<div>\n",
              "<style scoped>\n",
              "    .dataframe tbody tr th:only-of-type {\n",
              "        vertical-align: middle;\n",
              "    }\n",
              "\n",
              "    .dataframe tbody tr th {\n",
              "        vertical-align: top;\n",
              "    }\n",
              "\n",
              "    .dataframe thead th {\n",
              "        text-align: right;\n",
              "    }\n",
              "</style>\n",
              "<table border=\"1\" class=\"dataframe\">\n",
              "  <thead>\n",
              "    <tr style=\"text-align: right;\">\n",
              "      <th></th>\n",
              "      <th>bad</th>\n",
              "      <th>good</th>\n",
              "      <th>is</th>\n",
              "      <th>this</th>\n",
              "      <th>very</th>\n",
              "    </tr>\n",
              "  </thead>\n",
              "  <tbody>\n",
              "    <tr>\n",
              "      <th>0</th>\n",
              "      <td>0</td>\n",
              "      <td>1</td>\n",
              "      <td>1</td>\n",
              "      <td>1</td>\n",
              "      <td>1</td>\n",
              "    </tr>\n",
              "    <tr>\n",
              "      <th>1</th>\n",
              "      <td>0</td>\n",
              "      <td>1</td>\n",
              "      <td>1</td>\n",
              "      <td>1</td>\n",
              "      <td>0</td>\n",
              "    </tr>\n",
              "    <tr>\n",
              "      <th>2</th>\n",
              "      <td>2</td>\n",
              "      <td>0</td>\n",
              "      <td>0</td>\n",
              "      <td>0</td>\n",
              "      <td>3</td>\n",
              "    </tr>\n",
              "  </tbody>\n",
              "</table>\n",
              "</div>"
            ],
            "text/plain": [
              "   bad  good  is  this  very\n",
              "0    0     1   1     1     1\n",
              "1    0     1   1     1     0\n",
              "2    2     0   0     0     3"
            ]
          },
          "metadata": {
            "tags": []
          }
        }
      ]
    },
    {
      "cell_type": "markdown",
      "metadata": {
        "id": "lYOvdxYchdNh"
      },
      "source": [
        "# 【問題2】TF-IDFの計算\n",
        "IMDB映画レビューデータセットをTF-IDFによりベクトル化してください。NLTKのストップワードを利用し、最大の語彙数は5000程度に設定してください。テキストクリーニングやステミングなどの前処理はこの問題では要求しません。\n",
        "\n",
        "\n",
        "TF-IDFの計算にはscikit-learnの以下のどちらかのクラスを使用してください。\n",
        "\n",
        "\n",
        "[sklearn.feature_extraction.text.TfidfVectorizer — scikit-learn 0.21.3 documentation](https://scikit-learn.org/stable/modules/generated/sklearn.feature_extraction.text.TfidfVectorizer.html)\n",
        "\n",
        "[sklearn.feature_extraction.text.TfidfTransformer — scikit-learn 0.21.3 documentation](https://scikit-learn.org/stable/modules/generated/sklearn.feature_extraction.text.TfidfTransformer.html)\n",
        "\n",
        "\n",
        "なお、scikit-learnでは標準的な式とは異なる式が採用されています。\n",
        "\n",
        "\n",
        "また、デフォルトではnorm=\"l2\"の引数が設定されており、各サンプルにL2正規化が行われます。norm=Noneとすることで正規化は行われなくなります。\n",
        "\n",
        "\n",
        "Term Frequency:\n",
        "\n",
        "$$\n",
        "tf(t,d)=n_{t,d}\n",
        "$$\n",
        "\n",
        "$n_{t,d}$ : サンプルd内のトークンtの出現回数\n",
        "\n",
        "\n",
        "scikit-learnのTFは分母がなくなりBoWと同じ計算になります。\n",
        "\n",
        "\n",
        "Inverse Document Frequency:\n",
        "\n",
        "$$\n",
        "idf(t)=log\\frac{1+N}{1+df(t)}+1\n",
        "$$\n",
        "\n",
        "$N$ : サンプル数\n",
        "\n",
        "\n",
        "$df(t)$ : トークンtが出現するサンプル数\n",
        "\n",
        "\n",
        "＊logの底はネイピア数e\n",
        "\n",
        "\n",
        "詳細は以下のドキュメントを確認してください。\n",
        "\n",
        "\n",
        "[5.2.3.4. Tf–idf term weighting — scikit-learn 0.21.3 documentation](https://scikit-learn.org/stable/modules/feature_extraction.html#tfidf-term-weighting)\n",
        "\n"
      ]
    },
    {
      "cell_type": "code",
      "metadata": {
        "id": "IpX8FQvJf1LO",
        "outputId": "b7be1caa-0aaa-4d8a-fae9-e8fddc14e415",
        "colab": {
          "base_uri": "https://localhost:8080/",
          "height": 34
        }
      },
      "source": [
        "len(stop_words)"
      ],
      "execution_count": null,
      "outputs": [
        {
          "output_type": "execute_result",
          "data": {
            "text/plain": [
              "179"
            ]
          },
          "metadata": {
            "tags": []
          },
          "execution_count": 53
        }
      ]
    },
    {
      "cell_type": "code",
      "metadata": {
        "id": "AjNX3qWkqvfI",
        "outputId": "63f09887-6ee6-4bc1-f633-9e20958f3830",
        "colab": {
          "base_uri": "https://localhost:8080/",
          "height": 52
        }
      },
      "source": [
        "#TfidfVectorizer\n",
        "from sklearn.feature_extraction.text import TfidfVectorizer\n",
        "\n",
        "vectorizer = TfidfVectorizer(max_features=5000,stop_words=stop_words)\n",
        "X = vectorizer.fit_transform(x_train)\n",
        "print(len(vectorizer.get_feature_names()))\n",
        "print(X.shape)\n"
      ],
      "execution_count": null,
      "outputs": [
        {
          "output_type": "stream",
          "text": [
            "5000\n",
            "(25000, 5000)\n"
          ],
          "name": "stdout"
        }
      ]
    },
    {
      "cell_type": "code",
      "metadata": {
        "id": "5xMy0yQ_qvhe",
        "outputId": "84827798-f91c-49f3-9057-6dd61baff683",
        "colab": {
          "base_uri": "https://localhost:8080/",
          "height": 52
        }
      },
      "source": [
        "# TfidfTransformer\n",
        "from sklearn.feature_extraction.text import CountVectorizer\n",
        "from sklearn.feature_extraction.text import TfidfTransformer\n",
        "TfidfTransformer().get_params\n",
        "\n",
        "vectorizer = CountVectorizer(max_features=5000, stop_words=stop_words, token_pattern=u'(?u)\\\\b\\\\w+\\\\b')\n",
        "transformer = TfidfTransformer()\n",
        "\n",
        "vector = vectorizer.fit_transform(x_train)\n",
        "X = transformer.fit_transform(vector)\n",
        "\n",
        "print(len(vectorizer.get_feature_names()))\n",
        "print(X.shape)"
      ],
      "execution_count": null,
      "outputs": [
        {
          "output_type": "stream",
          "text": [
            "5000\n",
            "(25000, 5000)\n"
          ],
          "name": "stdout"
        }
      ]
    },
    {
      "cell_type": "markdown",
      "metadata": {
        "id": "6ZbhF4kQpl_M"
      },
      "source": [
        "#【問題3】TF-IDFを用いた学習\n",
        "問題2で求めたベクトルを用いてIMDB映画レビューデータセットの学習・推定を行なってください。モデルは2値分類が行える任意のものを利用してください。\n",
        "\n",
        "\n",
        "ここでは精度の高さは求めませんが、最大の語彙数やストップワード、n-gramの数を変化させて影響を検証してみてください。"
      ]
    },
    {
      "cell_type": "code",
      "metadata": {
        "id": "i2m6VCF8zmCH"
      },
      "source": [
        "import time\n",
        "import tensorflow as tf\n",
        "from tensorflow.keras import backend as K\n",
        "import matplotlib.pyplot as plt\n",
        "from sklearn.model_selection import train_test_split\n",
        "from sklearn.naive_bayes import MultinomialNB\n",
        "from sklearn.metrics import accuracy_score"
      ],
      "execution_count": null,
      "outputs": []
    },
    {
      "cell_type": "code",
      "metadata": {
        "id": "OelttoTozmFJ"
      },
      "source": [
        "# trainとtestに分割\n",
        "X_train, X_val, Y_train, Y_val = train_test_split(X.toarray(), y_train, test_size=0.2, random_state=0)"
      ],
      "execution_count": null,
      "outputs": []
    },
    {
      "cell_type": "code",
      "metadata": {
        "id": "qciExTpK0Cd6",
        "outputId": "2ebcbf15-48a5-45c3-f40e-eeaa9efad46b",
        "colab": {
          "base_uri": "https://localhost:8080/",
          "height": 34
        }
      },
      "source": [
        "# 単純ベイズ分類器で学習推定\n",
        "clf = MultinomialNB(alpha=0.001)\n",
        "clf.fit(X_train, Y_train)\n",
        "val_pred = clf.predict(X_val)\n",
        "val_pred.shape"
      ],
      "execution_count": null,
      "outputs": [
        {
          "output_type": "execute_result",
          "data": {
            "text/plain": [
              "(5000,)"
            ]
          },
          "metadata": {
            "tags": []
          },
          "execution_count": 32
        }
      ]
    },
    {
      "cell_type": "code",
      "metadata": {
        "id": "HaDHyMeb0Cga",
        "outputId": "058d8aee-790c-4ea6-ee47-55e49d7f85ed",
        "colab": {
          "base_uri": "https://localhost:8080/",
          "height": 34
        }
      },
      "source": [
        "print(accuracy_score(Y_val, val_pred))"
      ],
      "execution_count": null,
      "outputs": [
        {
          "output_type": "stream",
          "text": [
            "0.8618\n"
          ],
          "name": "stdout"
        }
      ]
    },
    {
      "cell_type": "code",
      "metadata": {
        "id": "zgWp2cLQ0Ci4",
        "outputId": "939ab0dd-281d-4d70-872e-95246e8c68b6",
        "colab": {
          "base_uri": "https://localhost:8080/",
          "height": 70
        }
      },
      "source": [
        "# 語彙数とストップワード変更\n",
        "vectorizer = TfidfVectorizer(max_features=500)\n",
        "X = vectorizer.fit_transform(x_train)\n",
        "print(len(vectorizer.get_feature_names()))\n",
        "print(X.shape)\n",
        "# trainとtestに分割\n",
        "X_train, X_val, Y_train, Y_val = train_test_split(X.toarray(), y_train, test_size=0.2, random_state=0)\n",
        "clf = MultinomialNB(alpha=0.001)\n",
        "clf.fit(X_train, Y_train)\n",
        "val_pred = clf.predict(X_val)\n",
        "val_pred.shape\n",
        "print(\"パラメータ変更版acc:{}\".format(accuracy_score(Y_val, val_pred)))"
      ],
      "execution_count": null,
      "outputs": [
        {
          "output_type": "stream",
          "text": [
            "500\n",
            "(25000, 500)\n",
            "パラメータ変更版acc:0.8038\n"
          ],
          "name": "stdout"
        }
      ]
    },
    {
      "cell_type": "markdown",
      "metadata": {
        "id": "BudT_gXSGzzA"
      },
      "source": [
        "acc下がった"
      ]
    },
    {
      "cell_type": "markdown",
      "metadata": {
        "id": "OI9eUPxppmBu"
      },
      "source": [
        "# 【問題4】TF-IDFのスクラッチ実装\n",
        "以下の3文のTF-IDFを求められるプログラムをscikit-learnを使わずに作成してください。標準的な式と、scikit-learnの採用している式の2種類を作成してください。正規化は不要です。"
      ]
    },
    {
      "cell_type": "markdown",
      "metadata": {
        "id": "kaASJZznpl9N"
      },
      "source": [
        "This movie is SOOOO funny!!!\n",
        "\n",
        "What a movie! I never\n",
        "\n",
        "best movie ever!!!!! this movie"
      ]
    },
    {
      "cell_type": "code",
      "metadata": {
        "id": "KPFmOBui32ZQ",
        "outputId": "cda3e943-9e68-486c-f504-3e33dc5ac3c5",
        "colab": {
          "base_uri": "https://localhost:8080/",
          "height": 189
        }
      },
      "source": [
        "unigram = BagofWords(ngram_range=(1,1))\n",
        "bow = unigram.fit_transform(mini_corpus)\n",
        "print(bow)\n",
        "\n",
        "df = pd.DataFrame(bow, columns=unigram.features)\n",
        "display(df)"
      ],
      "execution_count": null,
      "outputs": [
        {
          "output_type": "stream",
          "text": [
            "[[0 0 0 1 0 1 1 0 1 1 0]\n",
            " [1 0 0 0 1 0 1 1 0 0 1]\n",
            " [0 1 1 0 0 0 2 0 0 1 0]]\n"
          ],
          "name": "stdout"
        },
        {
          "output_type": "display_data",
          "data": {
            "text/html": [
              "<div>\n",
              "<style scoped>\n",
              "    .dataframe tbody tr th:only-of-type {\n",
              "        vertical-align: middle;\n",
              "    }\n",
              "\n",
              "    .dataframe tbody tr th {\n",
              "        vertical-align: top;\n",
              "    }\n",
              "\n",
              "    .dataframe thead th {\n",
              "        text-align: right;\n",
              "    }\n",
              "</style>\n",
              "<table border=\"1\" class=\"dataframe\">\n",
              "  <thead>\n",
              "    <tr style=\"text-align: right;\">\n",
              "      <th></th>\n",
              "      <th>a</th>\n",
              "      <th>best</th>\n",
              "      <th>ever</th>\n",
              "      <th>funny</th>\n",
              "      <th>i</th>\n",
              "      <th>is</th>\n",
              "      <th>movie</th>\n",
              "      <th>never</th>\n",
              "      <th>soooo</th>\n",
              "      <th>this</th>\n",
              "      <th>what</th>\n",
              "    </tr>\n",
              "  </thead>\n",
              "  <tbody>\n",
              "    <tr>\n",
              "      <th>0</th>\n",
              "      <td>0</td>\n",
              "      <td>0</td>\n",
              "      <td>0</td>\n",
              "      <td>1</td>\n",
              "      <td>0</td>\n",
              "      <td>1</td>\n",
              "      <td>1</td>\n",
              "      <td>0</td>\n",
              "      <td>1</td>\n",
              "      <td>1</td>\n",
              "      <td>0</td>\n",
              "    </tr>\n",
              "    <tr>\n",
              "      <th>1</th>\n",
              "      <td>1</td>\n",
              "      <td>0</td>\n",
              "      <td>0</td>\n",
              "      <td>0</td>\n",
              "      <td>1</td>\n",
              "      <td>0</td>\n",
              "      <td>1</td>\n",
              "      <td>1</td>\n",
              "      <td>0</td>\n",
              "      <td>0</td>\n",
              "      <td>1</td>\n",
              "    </tr>\n",
              "    <tr>\n",
              "      <th>2</th>\n",
              "      <td>0</td>\n",
              "      <td>1</td>\n",
              "      <td>1</td>\n",
              "      <td>0</td>\n",
              "      <td>0</td>\n",
              "      <td>0</td>\n",
              "      <td>2</td>\n",
              "      <td>0</td>\n",
              "      <td>0</td>\n",
              "      <td>1</td>\n",
              "      <td>0</td>\n",
              "    </tr>\n",
              "  </tbody>\n",
              "</table>\n",
              "</div>"
            ],
            "text/plain": [
              "   a  best  ever  funny  i  is  movie  never  soooo  this  what\n",
              "0  0     0     0      1  0   1      1      0      1     1     0\n",
              "1  1     0     0      0  1   0      1      1      0     0     1\n",
              "2  0     1     1      0  0   0      2      0      0     1     0"
            ]
          },
          "metadata": {
            "tags": []
          }
        }
      ]
    },
    {
      "cell_type": "code",
      "metadata": {
        "id": "D5a0QNUe32cC",
        "outputId": "773c78aa-267b-4196-d30c-96c903f0e279",
        "colab": {
          "base_uri": "https://localhost:8080/",
          "height": 175
        }
      },
      "source": [
        "tf_ = bow / np.sum(bow, axis=1).reshape(-1,1)\n",
        "idf = np.log(len(bow) / np.count_nonzero(bow, axis=0))\n",
        "tf_ * idf"
      ],
      "execution_count": null,
      "outputs": [
        {
          "output_type": "execute_result",
          "data": {
            "text/plain": [
              "array([[0.        , 0.        , 0.        , 0.21972246, 0.        ,\n",
              "        0.21972246, 0.        , 0.        , 0.21972246, 0.08109302,\n",
              "        0.        ],\n",
              "       [0.21972246, 0.        , 0.        , 0.        , 0.21972246,\n",
              "        0.        , 0.        , 0.21972246, 0.        , 0.        ,\n",
              "        0.21972246],\n",
              "       [0.        , 0.21972246, 0.21972246, 0.        , 0.        ,\n",
              "        0.        , 0.        , 0.        , 0.        , 0.08109302,\n",
              "        0.        ]])"
            ]
          },
          "metadata": {
            "tags": []
          },
          "execution_count": 37
        }
      ]
    },
    {
      "cell_type": "code",
      "metadata": {
        "id": "0bK9FE-d32gQ",
        "outputId": "6c90d56d-8747-4d9a-fe9e-dc37236e574c",
        "colab": {
          "base_uri": "https://localhost:8080/",
          "height": 34
        }
      },
      "source": [
        "a = np.arange(3*5).reshape(3,5)\n",
        "np.sum(a, axis=1)"
      ],
      "execution_count": null,
      "outputs": [
        {
          "output_type": "execute_result",
          "data": {
            "text/plain": [
              "array([10, 35, 60])"
            ]
          },
          "metadata": {
            "tags": []
          },
          "execution_count": 38
        }
      ]
    },
    {
      "cell_type": "code",
      "metadata": {
        "id": "eOmIMudF32iz"
      },
      "source": [
        "class TF_IDF_scratch:\n",
        "  \"\"\"\n",
        "  スクラッチTF-IDFクラス\n",
        "  \"\"\"\n",
        "  def __init__(self, alg=\"standard\"):\n",
        "    self.alg = alg\n",
        "\n",
        "  def fit(self, X):\n",
        "    tf = self._calc_tf(X)\n",
        "    idf = self._calc_idf(X)\n",
        "\n",
        "    return tf * idf\n",
        "\n",
        "  def _calc_tf(self, X):\n",
        "    if self.alg == \"standard\":\n",
        "      return X / np.sum(X, axis=1).reshape(-1,1)\n",
        "\n",
        "    elif self.alg == \"sklearn\":\n",
        "      return X\n",
        "\n",
        "\n",
        "  def _calc_idf(self, X):\n",
        "    if self.alg == \"standard\":\n",
        "      return np.log(len(X)/np.count_nonzero(X, axis=0))\n",
        "\n",
        "    elif self.alg == \"sklearn\":\n",
        "      return np.log((len(X)+1)/(np.count_nonzero(X, axis=0)+1)) + 1\n"
      ],
      "execution_count": null,
      "outputs": []
    },
    {
      "cell_type": "code",
      "metadata": {
        "id": "ks1qgosm32ez",
        "outputId": "91d6c17b-5399-44f4-caf5-3f91f6a381cf",
        "colab": {
          "base_uri": "https://localhost:8080/",
          "height": 308
        }
      },
      "source": [
        "print(mini_corpus)\n",
        "# TF-IDF計算\n",
        "vectorizer = BagofWords(ngram_range=(1,1))\n",
        "bow = vectorizer.fit_transform(mini_corpus)\n",
        "\n",
        "transformer_standard = TF_IDF_scratch(alg='standard')\n",
        "tfidf_standard = transformer_standard.fit(bow)\n",
        "std_df = pd.DataFrame(tfidf_standard, columns=unigram.features)\n",
        "print(\"standard ver\")\n",
        "display(std_df)\n",
        "\n",
        "\n",
        "transformer_sklearn = TF_IDF_scratch(alg='sklearn')\n",
        "tfidf_sklearn = transformer_sklearn.fit(bow)\n",
        "skl_df = pd.DataFrame(tfidf_sklearn, columns=unigram.features)\n",
        "print(\"sklearn ver\")\n",
        "display(skl_df)"
      ],
      "execution_count": null,
      "outputs": [
        {
          "output_type": "stream",
          "text": [
            "['This movie is SOOOO funny!!!', 'What a movie! I never', 'best movie ever!!!!! this movie']\n",
            "standard ver\n"
          ],
          "name": "stdout"
        },
        {
          "output_type": "display_data",
          "data": {
            "text/html": [
              "<div>\n",
              "<style scoped>\n",
              "    .dataframe tbody tr th:only-of-type {\n",
              "        vertical-align: middle;\n",
              "    }\n",
              "\n",
              "    .dataframe tbody tr th {\n",
              "        vertical-align: top;\n",
              "    }\n",
              "\n",
              "    .dataframe thead th {\n",
              "        text-align: right;\n",
              "    }\n",
              "</style>\n",
              "<table border=\"1\" class=\"dataframe\">\n",
              "  <thead>\n",
              "    <tr style=\"text-align: right;\">\n",
              "      <th></th>\n",
              "      <th>a</th>\n",
              "      <th>best</th>\n",
              "      <th>ever</th>\n",
              "      <th>funny</th>\n",
              "      <th>i</th>\n",
              "      <th>is</th>\n",
              "      <th>movie</th>\n",
              "      <th>never</th>\n",
              "      <th>soooo</th>\n",
              "      <th>this</th>\n",
              "      <th>what</th>\n",
              "    </tr>\n",
              "  </thead>\n",
              "  <tbody>\n",
              "    <tr>\n",
              "      <th>0</th>\n",
              "      <td>0.000000</td>\n",
              "      <td>0.000000</td>\n",
              "      <td>0.000000</td>\n",
              "      <td>0.219722</td>\n",
              "      <td>0.000000</td>\n",
              "      <td>0.219722</td>\n",
              "      <td>0.0</td>\n",
              "      <td>0.000000</td>\n",
              "      <td>0.219722</td>\n",
              "      <td>0.081093</td>\n",
              "      <td>0.000000</td>\n",
              "    </tr>\n",
              "    <tr>\n",
              "      <th>1</th>\n",
              "      <td>0.219722</td>\n",
              "      <td>0.000000</td>\n",
              "      <td>0.000000</td>\n",
              "      <td>0.000000</td>\n",
              "      <td>0.219722</td>\n",
              "      <td>0.000000</td>\n",
              "      <td>0.0</td>\n",
              "      <td>0.219722</td>\n",
              "      <td>0.000000</td>\n",
              "      <td>0.000000</td>\n",
              "      <td>0.219722</td>\n",
              "    </tr>\n",
              "    <tr>\n",
              "      <th>2</th>\n",
              "      <td>0.000000</td>\n",
              "      <td>0.219722</td>\n",
              "      <td>0.219722</td>\n",
              "      <td>0.000000</td>\n",
              "      <td>0.000000</td>\n",
              "      <td>0.000000</td>\n",
              "      <td>0.0</td>\n",
              "      <td>0.000000</td>\n",
              "      <td>0.000000</td>\n",
              "      <td>0.081093</td>\n",
              "      <td>0.000000</td>\n",
              "    </tr>\n",
              "  </tbody>\n",
              "</table>\n",
              "</div>"
            ],
            "text/plain": [
              "          a      best      ever  ...     soooo      this      what\n",
              "0  0.000000  0.000000  0.000000  ...  0.219722  0.081093  0.000000\n",
              "1  0.219722  0.000000  0.000000  ...  0.000000  0.000000  0.219722\n",
              "2  0.000000  0.219722  0.219722  ...  0.000000  0.081093  0.000000\n",
              "\n",
              "[3 rows x 11 columns]"
            ]
          },
          "metadata": {
            "tags": []
          }
        },
        {
          "output_type": "stream",
          "text": [
            "sklearn ver\n"
          ],
          "name": "stdout"
        },
        {
          "output_type": "display_data",
          "data": {
            "text/html": [
              "<div>\n",
              "<style scoped>\n",
              "    .dataframe tbody tr th:only-of-type {\n",
              "        vertical-align: middle;\n",
              "    }\n",
              "\n",
              "    .dataframe tbody tr th {\n",
              "        vertical-align: top;\n",
              "    }\n",
              "\n",
              "    .dataframe thead th {\n",
              "        text-align: right;\n",
              "    }\n",
              "</style>\n",
              "<table border=\"1\" class=\"dataframe\">\n",
              "  <thead>\n",
              "    <tr style=\"text-align: right;\">\n",
              "      <th></th>\n",
              "      <th>a</th>\n",
              "      <th>best</th>\n",
              "      <th>ever</th>\n",
              "      <th>funny</th>\n",
              "      <th>i</th>\n",
              "      <th>is</th>\n",
              "      <th>movie</th>\n",
              "      <th>never</th>\n",
              "      <th>soooo</th>\n",
              "      <th>this</th>\n",
              "      <th>what</th>\n",
              "    </tr>\n",
              "  </thead>\n",
              "  <tbody>\n",
              "    <tr>\n",
              "      <th>0</th>\n",
              "      <td>0.000000</td>\n",
              "      <td>0.000000</td>\n",
              "      <td>0.000000</td>\n",
              "      <td>1.693147</td>\n",
              "      <td>0.000000</td>\n",
              "      <td>1.693147</td>\n",
              "      <td>1.0</td>\n",
              "      <td>0.000000</td>\n",
              "      <td>1.693147</td>\n",
              "      <td>1.287682</td>\n",
              "      <td>0.000000</td>\n",
              "    </tr>\n",
              "    <tr>\n",
              "      <th>1</th>\n",
              "      <td>1.693147</td>\n",
              "      <td>0.000000</td>\n",
              "      <td>0.000000</td>\n",
              "      <td>0.000000</td>\n",
              "      <td>1.693147</td>\n",
              "      <td>0.000000</td>\n",
              "      <td>1.0</td>\n",
              "      <td>1.693147</td>\n",
              "      <td>0.000000</td>\n",
              "      <td>0.000000</td>\n",
              "      <td>1.693147</td>\n",
              "    </tr>\n",
              "    <tr>\n",
              "      <th>2</th>\n",
              "      <td>0.000000</td>\n",
              "      <td>1.693147</td>\n",
              "      <td>1.693147</td>\n",
              "      <td>0.000000</td>\n",
              "      <td>0.000000</td>\n",
              "      <td>0.000000</td>\n",
              "      <td>2.0</td>\n",
              "      <td>0.000000</td>\n",
              "      <td>0.000000</td>\n",
              "      <td>1.287682</td>\n",
              "      <td>0.000000</td>\n",
              "    </tr>\n",
              "  </tbody>\n",
              "</table>\n",
              "</div>"
            ],
            "text/plain": [
              "          a      best      ever  ...     soooo      this      what\n",
              "0  0.000000  0.000000  0.000000  ...  1.693147  1.287682  0.000000\n",
              "1  1.693147  0.000000  0.000000  ...  0.000000  0.000000  1.693147\n",
              "2  0.000000  1.693147  1.693147  ...  0.000000  1.287682  0.000000\n",
              "\n",
              "[3 rows x 11 columns]"
            ]
          },
          "metadata": {
            "tags": []
          }
        }
      ]
    },
    {
      "cell_type": "code",
      "metadata": {
        "id": "-fCRpVX8TAEi",
        "outputId": "d284419f-62bd-4574-d977-6b3724570894",
        "colab": {
          "base_uri": "https://localhost:8080/",
          "height": 171
        }
      },
      "source": [
        "print(mini_corpus)\n",
        "# scikit-learnもやってみる\n",
        "from sklearn.feature_extraction.text import TfidfTransformer\n",
        "\n",
        "vectorizer = CountVectorizer(token_pattern=r'(?u)\\b\\w+\\b')\n",
        "sk_bow = (vectorizer.fit_transform(mini_corpus)).toarray()\n",
        "\n",
        "transformer = TfidfTransformer(norm=None)\n",
        "sk_bow = transformer.fit_transform(bow)\n",
        "#print(sk_bow.toarray())\n",
        "sk_df = pd.DataFrame(sk_bow.toarray(), columns=unigram.features)\n",
        "print(\"sklearn ver\")\n",
        "display(sk_df)"
      ],
      "execution_count": null,
      "outputs": [
        {
          "output_type": "stream",
          "text": [
            "['This movie is SOOOO funny!!!', 'What a movie! I never', 'best movie ever!!!!! this movie']\n",
            "sklearn ver\n"
          ],
          "name": "stdout"
        },
        {
          "output_type": "display_data",
          "data": {
            "text/html": [
              "<div>\n",
              "<style scoped>\n",
              "    .dataframe tbody tr th:only-of-type {\n",
              "        vertical-align: middle;\n",
              "    }\n",
              "\n",
              "    .dataframe tbody tr th {\n",
              "        vertical-align: top;\n",
              "    }\n",
              "\n",
              "    .dataframe thead th {\n",
              "        text-align: right;\n",
              "    }\n",
              "</style>\n",
              "<table border=\"1\" class=\"dataframe\">\n",
              "  <thead>\n",
              "    <tr style=\"text-align: right;\">\n",
              "      <th></th>\n",
              "      <th>a</th>\n",
              "      <th>best</th>\n",
              "      <th>ever</th>\n",
              "      <th>funny</th>\n",
              "      <th>i</th>\n",
              "      <th>is</th>\n",
              "      <th>movie</th>\n",
              "      <th>never</th>\n",
              "      <th>soooo</th>\n",
              "      <th>this</th>\n",
              "      <th>what</th>\n",
              "    </tr>\n",
              "  </thead>\n",
              "  <tbody>\n",
              "    <tr>\n",
              "      <th>0</th>\n",
              "      <td>0.000000</td>\n",
              "      <td>0.000000</td>\n",
              "      <td>0.000000</td>\n",
              "      <td>1.693147</td>\n",
              "      <td>0.000000</td>\n",
              "      <td>1.693147</td>\n",
              "      <td>1.0</td>\n",
              "      <td>0.000000</td>\n",
              "      <td>1.693147</td>\n",
              "      <td>1.287682</td>\n",
              "      <td>0.000000</td>\n",
              "    </tr>\n",
              "    <tr>\n",
              "      <th>1</th>\n",
              "      <td>1.693147</td>\n",
              "      <td>0.000000</td>\n",
              "      <td>0.000000</td>\n",
              "      <td>0.000000</td>\n",
              "      <td>1.693147</td>\n",
              "      <td>0.000000</td>\n",
              "      <td>1.0</td>\n",
              "      <td>1.693147</td>\n",
              "      <td>0.000000</td>\n",
              "      <td>0.000000</td>\n",
              "      <td>1.693147</td>\n",
              "    </tr>\n",
              "    <tr>\n",
              "      <th>2</th>\n",
              "      <td>0.000000</td>\n",
              "      <td>1.693147</td>\n",
              "      <td>1.693147</td>\n",
              "      <td>0.000000</td>\n",
              "      <td>0.000000</td>\n",
              "      <td>0.000000</td>\n",
              "      <td>2.0</td>\n",
              "      <td>0.000000</td>\n",
              "      <td>0.000000</td>\n",
              "      <td>1.287682</td>\n",
              "      <td>0.000000</td>\n",
              "    </tr>\n",
              "  </tbody>\n",
              "</table>\n",
              "</div>"
            ],
            "text/plain": [
              "          a      best      ever  ...     soooo      this      what\n",
              "0  0.000000  0.000000  0.000000  ...  1.693147  1.287682  0.000000\n",
              "1  1.693147  0.000000  0.000000  ...  0.000000  0.000000  1.693147\n",
              "2  0.000000  1.693147  1.693147  ...  0.000000  1.287682  0.000000\n",
              "\n",
              "[3 rows x 11 columns]"
            ]
          },
          "metadata": {
            "tags": []
          }
        }
      ]
    },
    {
      "cell_type": "markdown",
      "metadata": {
        "id": "HAjzACUtpwuk"
      },
      "source": [
        "## Word2Vec\n",
        "\n",
        "ニューラルネットワークを用いてベクトル化を行う手法が Word2Vec です。\n",
        "\n",
        "\n",
        "BoWやTF-IDFはone-hot表現であったため、得られるベクトルの次元は語彙数分になります。そのため、語彙数を増やしにくいという問題があります。一方で、Word2Vecでは単語を任意の次元のベクトルに変換します。これをを Word Embedding（単語埋め込み） や 分散表現 と呼びます。変換操作を「ベクトル空間に埋め込む」と言うことが多いです。\n",
        "\n",
        "\n",
        "Word2VecにはCBoWとSkip-gramという2種類の仕組みがあるため順番に見ていきます。"
      ]
    },
    {
      "cell_type": "markdown",
      "metadata": {
        "id": "66M3RSRlpwww"
      },
      "source": [
        "* CBoW\n",
        "\n",
        "CBoW (Continuous Bag-of-Words) によるWord2Vecではある単語とある単語の間に来る単語を推定できるように全結合層2層のニューラルネットワークを学習します。\n",
        "\n",
        "\n",
        "単語はコーパスの語彙数次元のone-hot表現を行なっておきます。そのため、入力と出力の次元は語彙数と同じになります。一方で、中間のノード数をWord2Vecにより得たい任意の次元数とします。これにより全結合層の重みは「得たい次元のノード数×語彙数」になります。このネットワークにより学習を行なった後、出力側の重みを取り出すことで、各語彙を表すベクトルを手に入れることができます。\n",
        "\n",
        "\n",
        "間の単語の推定を行なっているため、同じ箇所で代替可能な言葉は似たベクトルになるというメリットもあります。これはBoWやTF-IDFでは得られない情報です。\n",
        "\n",
        "\n",
        "あるテキストは「そのテキストの長さ（単語数）×Word2Vecで得た分散表現の次元数」の配列になりますが、各入力の配列を揃える必要があるモデルに入力するためには、短いテキストは空白を表す単語を加える パディング を行なったり、長いテキストは単語を消したりします。テキストを 固定長 にすると呼びます。\n",
        "\n",
        "* ウィンドウサイズ\n",
        "\n",
        "入力する単語は推定する前後1つずつだけでなく、複数個とする場合もあります。前後いくつを見るかの大きさを ウィンドウサイズ と呼びます。\n",
        "\n",
        "* Skip-gram\n",
        "\n",
        "CBoWとは逆にある単語の前後の単語を推定できるように全結合層2層のニューラルネットワークを学習する方法が Skip-gram です。学習を行なった後は入力側の重みを取り出し各語彙を表すベクトルとします。現在一般的に使われているのはCBoWよりもSki-gramです。\n",
        "\n",
        "\n",
        "* 利用方法\n",
        "\n",
        "Pythonでは Gensim ライブラリを用いて扱うことができます。\n",
        "\n",
        "\n",
        "[gensim: models.word2vec – Word2vec embeddings](https://radimrehurek.com/gensim/models/word2vec.html)\n",
        "\n",
        "\n",
        "BoWの例と同じ文章で学習してみます。CountVectorizerと異なり前処理を自動的に行なってはくれないため、単語（トークン）はリストで分割しておきます。また、大文字は小文字に揃え、記号は取り除きます。\n",
        "\n",
        "\n",
        "デフォルトのパラメータではCBoWで計算されます。また、ウィンドウサイズはwindow=5に設定されています。"
      ]
    },
    {
      "cell_type": "code",
      "metadata": {
        "id": "JWMH5fMxqQxx",
        "outputId": "1629125a-3620-41ec-cb5a-fedad93e1e3f",
        "colab": {
          "base_uri": "https://localhost:8080/",
          "height": 492
        }
      },
      "source": [
        "from gensim.models import Word2Vec\n",
        "sentences = [['this', 'movie', 'is', 'very', 'good'], ['this', 'film', 'is', 'a', 'good'], ['very', 'bad', 'very', 'very', 'bad']]\n",
        "model = Word2Vec(min_count=1, size=10) # 次元数を10に設定\n",
        "model.build_vocab(sentences) # 準備\n",
        "model.train(sentences, total_examples=model.corpus_count, epochs=model.iter) # 学習\n",
        "print(\"語彙の一覧 : {}\".format(model.wv.vocab.keys()))\n",
        "for vocab in model.wv.vocab.keys():\n",
        "  print(\"{}のベクトル : \\n{}\".format(vocab, model.wv[vocab]))"
      ],
      "execution_count": null,
      "outputs": [
        {
          "output_type": "stream",
          "text": [
            "語彙の一覧 : dict_keys(['this', 'movie', 'is', 'very', 'good', 'film', 'a', 'bad'])\n",
            "thisのベクトル : \n",
            "[-0.0214249   0.01432951  0.03418031  0.00203462 -0.0281632   0.02089335\n",
            "  0.04629068  0.03678685 -0.02932616  0.02029175]\n",
            "movieのベクトル : \n",
            "[ 0.01410194  0.0163359  -0.02147173  0.03907986 -0.0361581   0.04587894\n",
            "  0.04936536  0.04534359 -0.04568512  0.04589641]\n",
            "isのベクトル : \n",
            "[-0.02076989  0.00917401  0.03458505 -0.03851103 -0.02337734  0.01523552\n",
            " -0.04053578 -0.02680405 -0.01340752  0.01742091]\n",
            "veryのベクトル : \n",
            "[ 0.01844798 -0.02648977  0.01770624 -0.00641705 -0.01383748  0.02814147\n",
            "  0.00767878 -0.04321214 -0.04429853  0.03709406]\n",
            "goodのベクトル : \n",
            "[ 0.03223884  0.01103816  0.0065394   0.03155645  0.01798358  0.01582127\n",
            "  0.00735436 -0.01612072  0.04169739  0.01690899]\n",
            "filmのベクトル : \n",
            "[-0.04471158 -0.04651694 -0.02336909  0.00100848 -0.04506855 -0.02320629\n",
            " -0.02027662 -0.04101903 -0.02382664 -0.03993417]\n",
            "aのベクトル : \n",
            "[ 0.0333841  -0.0345259  -0.04111878  0.03918462 -0.0410008   0.04498639\n",
            " -0.0123065  -0.04093698 -0.01541496 -0.04264978]\n",
            "badのベクトル : \n",
            "[ 0.04874305 -0.02035555 -0.01596969  0.04203569 -0.00940823  0.00365892\n",
            " -0.04311382  0.03791177 -0.00235112 -0.04460832]\n"
          ],
          "name": "stdout"
        },
        {
          "output_type": "stream",
          "text": [
            "/usr/local/lib/python3.6/dist-packages/ipykernel_launcher.py:5: DeprecationWarning: Call to deprecated `iter` (Attribute will be removed in 4.0.0, use self.epochs instead).\n",
            "  \"\"\"\n"
          ],
          "name": "stderr"
        }
      ]
    },
    {
      "cell_type": "markdown",
      "metadata": {
        "id": "nNVXdpVIpwzR"
      },
      "source": [
        "\n",
        "このようにしてベクトルが得られます。\n",
        "\n"
      ]
    },
    {
      "cell_type": "markdown",
      "metadata": {
        "id": "DHh-Lrbkpw1f"
      },
      "source": [
        "* 単語の距離\n",
        "\n",
        "ベクトル間で計算を行うことで、ある単語に似たベクトルを持つ単語を見つけることができます。例えばgoodに似たベクトルの単語を3つ探します。\n",
        "\n"
      ]
    },
    {
      "cell_type": "code",
      "metadata": {
        "id": "JO9ZSs_AptwH",
        "outputId": "2dd80e73-9906-40c6-eb2f-68cb24f7d1f5",
        "colab": {
          "base_uri": "https://localhost:8080/",
          "height": 125
        }
      },
      "source": [
        "model.wv.most_similar(positive=\"good\", topn=3)"
      ],
      "execution_count": null,
      "outputs": [
        {
          "output_type": "stream",
          "text": [
            "/usr/local/lib/python3.6/dist-packages/gensim/matutils.py:737: FutureWarning: Conversion of the second argument of issubdtype from `int` to `np.signedinteger` is deprecated. In future, it will be treated as `np.int64 == np.dtype(int).type`.\n",
            "  if np.issubdtype(vec.dtype, np.int):\n"
          ],
          "name": "stderr"
        },
        {
          "output_type": "execute_result",
          "data": {
            "text/plain": [
              "[('a', 0.10289239883422852),\n",
              " ('bad', 0.0937192291021347),\n",
              " ('movie', 0.03554216027259827)]"
            ]
          },
          "metadata": {
            "tags": []
          },
          "execution_count": 43
        }
      ]
    },
    {
      "cell_type": "markdown",
      "metadata": {
        "id": "5biFZIBvqafj"
      },
      "source": [
        "今の例では3文しか学習していませんので効果を発揮しませんが、大きなコーパスで学習することで、並列関係のものが近くに来たりなど面白い結果が得られます。"
      ]
    },
    {
      "cell_type": "markdown",
      "metadata": {
        "id": "3J_VtbPSqcwX"
      },
      "source": [
        "* 可視化\n",
        "\n",
        "2次元に圧縮することで単語ごとの位置関係を可視化することができます。以下はt-SNEを用いた例です。\n",
        "\n"
      ]
    },
    {
      "cell_type": "code",
      "metadata": {
        "id": "A-7YumMpqYdY",
        "outputId": "4f073330-df00-4a91-eb5c-d80f5c111baf",
        "colab": {
          "base_uri": "https://localhost:8080/",
          "height": 342
        }
      },
      "source": [
        "from sklearn.manifold import TSNE\n",
        "import matplotlib.pyplot as plt\n",
        "vocabs = model.wv.vocab.keys()\n",
        "tsne_model = TSNE(perplexity=40, n_components=2, init=\"pca\", n_iter=5000, random_state=23)\n",
        "vectors_tsne = tsne_model.fit_transform(model[vocabs])\n",
        "fig, ax = plt.subplots(figsize=(5,5))\n",
        "ax.scatter(vectors_tsne[:, 0], vectors_tsne[:, 1])\n",
        "for i, word in enumerate(list(vocabs)):\n",
        "    plt.annotate(word, xy=(vectors_tsne[i, 0], vectors_tsne[i, 1]))\n",
        "ax.set_yticklabels([])\n",
        "ax.set_xticklabels([])\n",
        "plt.show()"
      ],
      "execution_count": null,
      "outputs": [
        {
          "output_type": "stream",
          "text": [
            "/usr/local/lib/python3.6/dist-packages/ipykernel_launcher.py:5: DeprecationWarning: Call to deprecated `__getitem__` (Method will be removed in 4.0.0, use self.wv.__getitem__() instead).\n",
            "  \"\"\"\n"
          ],
          "name": "stderr"
        },
        {
          "output_type": "display_data",
          "data": {
            "image/png": "[encoded data removed]",
            "text/plain": [
              "<Figure size 360x360 with 1 Axes>"
            ]
          },
          "metadata": {
            "tags": [],
            "needs_background": "light"
          }
        }
      ]
    },
    {
      "cell_type": "code",
      "metadata": {
        "id": "cVC7tnY5qhqP"
      },
      "source": [
        ""
      ],
      "execution_count": null,
      "outputs": []
    },
    {
      "cell_type": "markdown",
      "metadata": {
        "id": "X82bBt6oPu2y"
      },
      "source": [
        "# IMDB映画レビューデータセットの分散表現\n",
        "\n",
        "IMDB映画レビューデータセットの訓練データをコーパスとしてWord2Vecを学習させ分散表現を獲得しましょう。"
      ]
    },
    {
      "cell_type": "markdown",
      "metadata": {
        "id": "jyrL-VnAPu6i"
      },
      "source": [
        "# 【問題5】コーパスの前処理\n",
        "コーパスの前処理として、特殊文字（!など）やURLの除去、大文字の小文字化といったことを行なってください。また、単語（トークン）はリストで分割してください。"
      ]
    },
    {
      "cell_type": "code",
      "metadata": {
        "id": "OKG23AL4QUts",
        "outputId": "e3d58ed2-2900-4126-8eb1-8d0c9bacba1f",
        "colab": {
          "base_uri": "https://localhost:8080/",
          "height": 72
        }
      },
      "source": [
        "import re\n",
        "from bs4 import BeautifulSoup\n",
        "\n",
        "ok = r\"\\b\\w+\\b\"\n",
        "\n",
        "ng = []\n",
        "\n",
        "for k,v in enumerate(x_train):\n",
        "  text = list(v.split())\n",
        "  #print(text)\n",
        "  for word in text:\n",
        "    if re.search(ok, word):\n",
        "      pass\n",
        "    else:\n",
        "      ng.append(word)\n",
        "print(len(ng))\n",
        "print(set(ng))"
      ],
      "execution_count": null,
      "outputs": [
        {
          "output_type": "stream",
          "text": [
            "24362\n",
            "{'*****).', '!', '(=', '/', '/>****', '^^', \"'\", '(????)', ':),', '-=-', ')...', '(*)', '-,', '!!?', '(****', '<<<<<<<<<<<<', ');', '/>???!!!???', '!!!!!!!!!!', '/>--------------', \"''\", '!.', '>.<', '(?!).', '****)', '**********', '!\".', ')))...', '(&', '#$*!', '(\"', \"?'.\", '`', '>', '/>-------------------', '!)', '???,', '\\\\', '@*!^', '....!', '(???)', \":'(\", '%$@#', '!?!?!?!?!?', \"/>'\", '/>#', ':-(', '...)', ']', '!!,', '........?', '*******.', '-.', '.:', ';)..', '=]', '??????', '(!);', '???),', '!!??', '****?', '???', '/>********', ':).', '.\").', '$$$$', ':(', '....\".', ':)))', '?\".', ';-)\"', '),', '/>\\x95', '****).', '...)?!', '/>(((', '?!', '#', '$%&@', '....\"', '**/*****', ';),', '/>*****', '??)', '!),', ':)', '\",', '..........', '(),', '/>>', '$^@%.', '(!!).', '=-=', '\\x95', '(?!?)...),', ',,,,,,', ':-\\\\,', '!!!)', '**************', '???!!!!', '<<<<<<<<<<<<<<<<<<<<<<<<', '.....', \"'...\", '\"&$*@$', \"?'\", '*.', '(??)', '!).', '..', '!!!!!!!!!!!!!!!!!!!!!!', '>>>>>>>>>>>>>', '****,', '***', '*@#%', '/*', '****.', '*****!', '/>===========>', '*', '/>*/****', '........', '!!-', '$#*%!)', '*****,', '(<', ';-', '...\"', '¨.', '@', '+', '*****.', '?).', '??!!', '»', '*********', '..)', '>>>>>>>>', '/>-->', '\\x96-', '(?!?)', '!\",', '...', '!,', ':}', ':\\x8d', ';).', '.........', '(...)', '!!\",', '-----------------', '$.', ':-).', '...,', '??????????', '~!).', '+/-', '/>(**)', '--,', '(!!),', '?)', '.\"', '**;', '>>>>>>>>>>>>>>>>>', '/>*******', '(!!!!),', '.', '*******', '/>\"', '...\".', ':))', ')', '\"...', '$$', '(?!?!?)', '/>·', '/>---', '***.', '/>!!!!', '(?).', \".....'\", '$$$', '...........', '!!!!!!', '\")', '!!!!!!!!!!!', '?.', '**********.', '(', '?),', '*****', '?\"', '/>***********', '/>.', ').', '$', '/>------', '/>***', '=', \"',.\", '**', '(***', '·', '++', '\").', '!!\"', ':()', '......', '%', '&', '-', '\\x96', '(?!)', '}', '(!)', '$$$$$', '/>*********', '/...', '....', '!!!!\"', ';', ',\"', '/>...', '###', '>>>>>>>', '!!!!!!!!', '(****/*****).', '(?)', ',', '--', '!!!!!!!!!!!!!!!!!!!!!!!!!!!!!!!', '\\uf0b7', '(!),', '/>--', '/>===================', '~', '^-^', '–', '/>**', '/>*', '*!!-', '¨', '(!?!', '(!!!).', '/>**********', '********', '(***)', '$)', '?,', '(!?!).', '!!', ':))).', '!!).', '??', '\\x97', '???????????!!!!!!!!', '?!!', '\"', '!!!!!!!!!', '(?),', '\\\\.,', ';)', '!!!!!', '-**', ')))', '!!!!!!!!!!!!!', '/>***/*****', '????', '.......', ';-)', '(!!!)', '****/****', '/>-------------', '(!!???)', '(!!!!!!!!)', '/>(', '!?', '/>!!!!!', '$$$$.', '):', '(!).', '&*%#@#^', '(!!)', '...?', '(???),', ':\"', '/>:', ':.', '??!', '***/****', '@#$%!???\"', '\".', '!!!!!!!!!!!!!!', '?', '*@$#', '**/*****.', '(**)', '[', \"')\", '<<<<<<<', '].)', '(???).', '@#%&', '#@^!#', '/>***/****', '!!.', '\"*\"', '=)', '/>****/*****', '/>*/*****', '\"$\"', '.................', '<', '+!!!', ':-)', '*****)', '!!!!', '{', '=(', ':', ':-', '/>-------', '$*%!.', '?\",', '/>\\uf0b7', ')!', '==================================================', '@#$%.\"', '****!!!', '$*@(%&', '****', '^^).', '(??).', '!!!!!!!', '/>------------------', '...),', '.\".', '(-', '---', '>>>>>>>>>>>>>>>>>>>>>>', '.............', ':)...', '<<<<<<<<<<<<<<<<<<<<', '(...', '?!),', '#@$%#@$', '***%', '!!!!!!!!!!!!!!!!!!!!!!!!!!', '/>-', '!\"', '-->', '(??!!!!).', '(!?)', '&,', '/>', '!!!', '[=', '/>()', '(!!!!).', ':~(', '®', '----', '/>*********************************************', ':)='}\n"
          ],
          "name": "stdout"
        }
      ]
    },
    {
      "cell_type": "code",
      "metadata": {
        "id": "7l61sknyQUwn"
      },
      "source": [
        "x_train"
      ],
      "execution_count": null,
      "outputs": []
    },
    {
      "cell_type": "code",
      "metadata": {
        "id": "AGuNlXhJWLQe"
      },
      "source": [
        "from bs4 import BeautifulSoup\n",
        "from string import punctuation"
      ],
      "execution_count": null,
      "outputs": []
    },
    {
      "cell_type": "code",
      "metadata": {
        "id": "brFLcCoTQUy4"
      },
      "source": [
        "\n",
        "# remove URL\n",
        "def remove_url(text):\n",
        "    #print(\"url\")\n",
        "    return re.sub(r\"http\\S+\", \"\", text)\n",
        "# remove HTML\n",
        "def remove_html(text):\n",
        "    soup = BeautifulSoup(text, 'lxml')\n",
        "    #print(\"html\")\n",
        "    return soup.get_text()\n",
        "# remove punctuation\n",
        "def remove_punc(text):\n",
        "    return text.translate(str.maketrans('', '', punctuation))\n",
        "# remove stop words\n",
        "def remove_stopwords(text):\n",
        "    return [w for w in text.split() if w not in stopwords.words('english')]\n",
        "# to lowercase\n",
        "def to_lower(text):\n",
        "    return text.lower()\n",
        "\n",
        "\n",
        "# make pipeline\n",
        "def preprocess(text):\n",
        "    text = remove_url(text)\n",
        "    #print(\"urlOK\")\n",
        "    text = remove_html(text)\n",
        "    #print(\"htmlOK\")\n",
        "    text = remove_punc(text)\n",
        "    #print(\"puncOK\")\n",
        "    text = to_lower(text)\n",
        "    #print(\"lowerOK\")\n",
        "    text = remove_stopwords(text)\n",
        "    #print(\"stopOK\")\n",
        "    return text\n",
        "\n",
        "# tokenizer function\n",
        "def tokenize(X, ngram_range=(1,1)):\n",
        "    n_min, n_max = ngram_range\n",
        "    \n",
        "    text_array = []\n",
        "    for i, text in enumerate(X):\n",
        "        text = preprocess(text)\n",
        "        \n",
        "#         if text == str:\n",
        "#             text = text.split()\n",
        "        \n",
        "        ngram_array = []\n",
        "        n = n_min\n",
        "        while n <= n_max:\n",
        "            for j in range(len(text) - n + 1):\n",
        "                ngram_array.append(' '.join(text[j:j+n]))   \n",
        "            n += 1 \n",
        "\n",
        "        text_array.append(ngram_array)\n",
        "\n",
        "    return np.array(sorted(text_array))"
      ],
      "execution_count": null,
      "outputs": []
    },
    {
      "cell_type": "code",
      "metadata": {
        "id": "-vKP5JHl4KcF"
      },
      "source": [
        "sentences = tokenize(x_train, ngram_range=(1,1))"
      ],
      "execution_count": null,
      "outputs": []
    },
    {
      "cell_type": "code",
      "metadata": {
        "id": "VD9fyCx84LrP",
        "outputId": "2d122010-4c11-4d82-e82b-9d4ff51264eb",
        "colab": {
          "base_uri": "https://localhost:8080/",
          "height": 34
        }
      },
      "source": [
        "sentences.shape"
      ],
      "execution_count": null,
      "outputs": [
        {
          "output_type": "execute_result",
          "data": {
            "text/plain": [
              "(25000,)"
            ]
          },
          "metadata": {
            "tags": []
          },
          "execution_count": 71
        }
      ]
    },
    {
      "cell_type": "code",
      "metadata": {
        "id": "T24PUll44MKZ",
        "outputId": "80fefbb7-a8cf-4112-9858-92f3b2ee58a4",
        "colab": {
          "base_uri": "https://localhost:8080/",
          "height": 160
        }
      },
      "source": [
        "print(sentences)"
      ],
      "execution_count": null,
      "outputs": [
        {
          "output_type": "stream",
          "text": [
            "[list(['0', 'stars', 'rating', 'would', 'gladly', 'hand', 'absolutely', 'horrid', 'pile', 'waste', 'fact', 'actual', 'summary', 'perfectly', 'fine', 'made', 'different', 'could', 'brilliant', 'makes', 'worse', 'basic', 'task', 'locking', 'group', 'people', 'experiment', 'chamber', 'fine', 'wheres', 'experiment', 'see', 'bunch', 'unintelligent', 'surfers', 'blondes', 'chatting', 'music', 'culture', 'dont', 'know', 'want', 'know', 'challenges', 'pathetic', 'silly', 'whole', 'point', 'reality', 'tv', 'show', 'reality', 'set', 'challenge', 'dont', 'make', 'play', 'exaggerated', 'props', 'food', 'stereotypical', 'cultural', 'elements', 'friday', 'night', 'games', 'make', 'actual', 'challenge', 'earning', 'prize', 'money', 'thats', 'fine', 'actually', 'earnt', 'people', 'nuts', 'would', 'make', 'show', 'better', 'actual', 'idea', 'would', 'glorious', 'aint', 'gonna', 'happen'])\n",
            " list(['0510', 'movie', 'absolutely', 'nothing', 'good', 'acting', 'among', 'worst', 'ever', 'seen', 'really', 'amazing', 'everyone', 'awful', 'everyone', 'direction', 'joke', 'low', 'budget', 'hopelessly', 'evident', 'score', 'awful', 'wouldnt', 'say', 'movie', 'edited', 'brutally', 'chopped', 'would', 'appropriate', 'phrase', 'combines', 'serial', 'killings', 'voodoo', 'tarot', 'cards', 'dumb', 'dumb', 'dumb', 'scary', 'special', 'effects', 'hopelessly', 'lame', 'laughably', 'bad', 'throughout', 'writing', 'appallingly', 'bad', 'cinematography', 'real', 'cheap', 'looking', 'grainy', 'sometimes', 'camerawork', 'dreadful', 'really', 'movie', 'badly', 'actors', 'cheesy'])\n",
            " list(['089', 'footlight', 'parade', '1933', 'released', '9301933', 'viewed', '5507the', 'ice', 'cream', 'cone', 'invented', 'new', 'yorkkevin', 'long', 'busy', 'break', 'hit', 'another', 'busby', 'berkeley', 'musical', 'warner', 'bros', 'time', 'ultrafast', 'paced', 'footlight', 'parade', 'starring', 'james', 'cagney', 'juggernaut', 'stage', 'producer', 'chester', 'kent', '100', 'certain', 'cagney', 'channeling', 'berkeley', 'performance', 'irrepressible', 'kent', 'come', 'new', 'ideas', 'performances', 'every', 'minute', 'joan', 'blondell', 'also', 'excellent', 'acidtongued', 'secretaryturnedlove', 'interest', 'ruby', 'keelerdick', 'powell', 'subplot', 'major', 'time', 'less', 'enjoyable', 'one', 'thing', 'baffled', 'berkeleys', 'performances', 'seemed', 'far', 'extravagant', 'complex', 'performed', 'stage', 'let', 'alone', 'stage', 'would', 'showing', 'film', 'afterwards', 'obviously', 'busby', 'doesnt', 'let', 'little', 'thing', 'like', 'story', 'impede', 'putting', 'together', 'overthetop', 'musical', 'numbers', 'possibly', 'conjure', 'liked', 'nearly', 'movie', 'end', 'shamelessly', 'offensive', 'number', 'shanghai', 'lil', 'one', 'guess', 'stomachturning', 'racially', 'distasteful', 'performances', 'comedoug', 'six', 'movies', 'three', 'months', 'got', 'new', 'record', 'anyway', 'completes', 'warner', 'bros', 'musical', 'trilogy', '1933', 'preceded', '42nd', 'street', 'gold', 'diggers', '1933', 'would', 'definitely', 'recommend', 'watching', 'three', 'row', 'wonder', 'james', 'cagney', 'channeling', 'busby', 'berkeley', 'playing', 'chester', 'kent', 'movie', 'role', 'written', 'inspired', 'busby', 'hope', 'seems', 'make', 'sense', 'berkeley', 'kind', 'guy', 'would', 'see', 'elaborate', 'dances', 'everyday', 'occurrences', 'way', 'chester', 'funny', 'thing', 'cagney', 'didnt', 'really', 'look', 'like', 'leading', 'man', 'traditional', 'sense', '57', 'squareheaded', 'talked', 'odd', 'new', 'york', 'accent', 'guy', 'quite', 'versatile', 'going', 'venomous', 'gangsters', 'made', 'famous', 'fasttalking', 'producertypes', 'see', 'could', 'dance', 'basically', 'leading', 'man', 'body', 'character', 'actor', 'rest', 'cast', 'familiar', 'faces', 'joan', 'blondell', 'returns', 'steals', 'show', 'cagneys', 'loyal', 'lusting', 'secretary', 'dick', 'powell', 'ruby', 'keeler', 'play', 'cute', 'couple', 'seem', 'get', 'less', 'screen', 'time', 'billy', 'barty', 'pops', 'mischievous', 'imp', 'movie', 'typical', 'racy', 'adultoriented', 'musicals', 'precode', 'era', 'opposed', '50s', '60s', 'family', 'oriented', 'excellent', 'climax', 'warner', 'musicals', 'year', 'shanghai', 'lil', 'number', 'withstanding', 'keeler', 'poor', 'job', 'looking', 'chineselast', 'film', 'dinner', 'eight', '1933', 'next', 'film', 'im', 'angel', '1933'])\n",
            " ...\n",
            " list(['zp', 'deeply', 'related', 'youth', 'dream', 'represented', 'hippie', 'movementthe', 'college', 'debate', 'beginning', 'movie', 'states', 'cultural', 'situation', 'gives', 'birth', 'movement', 'explosion', 'daria', 'imagines', 'represents', 'fall', 'social', 'structures', 'therefore', 'development', 'huge', 'transformation', 'society', 'suffering', 'finally', 'marks', 'death', 'anticipates', 'end', 'sees', 'movement', 'film', 'easily', 'understood', 'go', 'back', 'time', 'life', '60', '70', 'young', 'people', 'driving', 'force', 'profound', 'explorations', 'change', 'one', 'significant', 'changes', 'intended', 'bring', 'sexuality', 'closet', 'think', 'scenes', 'desert', 'represent', 'orgy', 'sexual', 'relationship', 'men', 'women', 'absolute', 'freedom', 'would', 'perform', 'hipotetic', 'situation', 'would', 'nobody', 'hide', 'watched', 'scene', 'couples', 'would', 'throw', 'sand', 'appreciated', 'magnificent', 'way', 'depicted', 'impossibility', 'continue', 'hiding', 'basic', 'human', 'instinct', 'repression', 'way', 'control', 'social', 'outbursts', 'time', 'method', 'police', 'applies', 'stop', 'students', 'society', 'suffers', 'hipocresy', 'comes', 'clear', 'students', 'gain', 'access', 'weapons', 'skipping', 'fake', 'controls', 'dialogue', 'policeman', 'college', 'professor', 'whos', 'detained', 'reason', 'shows', 'part', 'society', 'interested', 'youth', 'feeling', 'part', 'completely', 'uninterested', 'presenting', 'flying', 'accurate', 'symbol', 'freedom', 'stealing', 'plane', 'represents', 'mark', 'inner', 'wish', 'going', 'back', 'coming', 'back', 'returning', 'segun', 'shows', 'difficulties', 'come', 'free', 'bonds', 'said', 'depicts', 'death', 'dream', 'difficulties', 'winning', 'game', 'point', 'view', 'film', 'remember'])\n",
            " list(['zu', 'warriors', 'definitely', 'shouldve', 'animated', 'series', 'movie', 'like', 'watching', 'old', 'anime', 'acidthe', 'movie', 'starts', 'nowhere', 'people', 'fly', 'around', 'fighting', 'metal', 'wings', 'stupid', 'weapons', 'princess', 'sacrifices', 'lover', 'cloud', 'somethingwhether', 'princess', 'god', 'angel', 'beyond', 'soon', 'enough', 'flying', 'wind', 'bad', 'guy', 'comes', 'kills', 'guy', 'razor', 'wings', 'fights', 'mystical', 'god', 'demonwizard', 'thingthe', 'plot', 'line', 'either', 'extremely', 'hard', 'follow', 'need', 'insanely', 'intelligent', 'get', 'moviethe', 'plot', 'soon', 'follows', 'chinese', 'mortal', 'called', 'upon', 'god', 'fight', 'evil', 'flyingprincess', 'killing', 'bad', 'guy', 'soon', 'badly', 'choreographed', 'uwe', 'boll', 'like', 'fight', 'scene', 'complete', 'terrible', 'martial', 'arts', 'mountain', 'somethingeven', 'visuals', 'weird', 'might', 'say', 'stunning', 'colorful', 'im', 'going', 'say', 'blurry', 'acid', 'trip', 'like', 'yes', 'thats', 'wordi', 'watched', 'dubbed', 'subtitles', 'equally', 'bad', 'hard', 'understandwho', 'kidding', 'didnt', 'understand', 'allit', 'felt', 'like', 'watching', 'episode', '30', '1980s', 'anime', 'completely', 'missed', 'story', 'began', 'like', 'started', 'reading', 'comic', 'series', '5', 'number', '4', 'clue', 'thing', 'started', 'going', 'would', 'end', 'lost', 'entire', 'timei', 'honestly', 'say', 'one', 'worst', 'film', 'experiences', 'ever', 'like', 'watching', 'inuyasha', 'episode', '134', 'drunkyeah', 'thats', 'right', 'dont', 'know', 'hell', 'going', 'ondont', 'waste', 'brain', 'trying', 'figure'])\n",
            " list(['zuthe', 'warriors', 'magic', 'mountain', 'impressive', 'classic', 'never', 'would', 'guessed', 'made', '1983', 'tsui', 'harks', 'use', 'special', 'effects', 'creative', 'inventive', 'continued', 'chinese', 'ghost', 'story', 'trilogy', 'later', 'productions', 'even', 'measure', 'movies', 'genre', 'legend', 'zu', 'connected', 'zuwarriors', 'magic', 'mountain', 'necessary', 'seen', 'movie', 'understand', 'plot', 'one', 'plot', 'bit', 'hard', 'follow', 'honest', 'doesnt', 'matter', 'action', 'adventure', 'always', 'wondering', 'tsui', 'hark', 'would', 'got', 'hands', 'cgi', 'knowhe', 'made', 'movie', 'maybe', 'sometimes', 'much', 'overall', 'result', 'beautiful', 'going', 'critical', 'much', 'happening', 'screenyou', 'simply', 'wont', 'believe', 'think', 'big', 'shame', 'movie', 'wasnt', 'shown', 'theaters', 'holland', 'movie', 'screaming', 'screen', 'time', 'cinemas', 'movie', 'easily', 'beat', 'big', 'budget', 'hollywood', 'productions', 'like', 'superman', 'returns', 'xmen', '3', 'thing', 'mention', 'lack', 'humor', 'tsui', 'harkss', 'movies', 'combines', 'dramafantasymartial', 'arts', 'humor', 'somehow', 'missing', 'movie', 'going', 'picky', 'small', 'matters', 'legend', 'zu', 'delivers', 'action', 'front', 'beautiful', 'special', 'effects', 'see', 'true', 'classic'])]\n"
          ],
          "name": "stdout"
        }
      ]
    },
    {
      "cell_type": "markdown",
      "metadata": {
        "id": "m8IvFsJ8Pu-c"
      },
      "source": [
        "# 【問題6】Word2Vecの学習\n",
        "Word2Vecの学習を行なってください。"
      ]
    },
    {
      "cell_type": "code",
      "metadata": {
        "id": "tzUEejVEE6Qn",
        "outputId": "839f283d-8c88-491d-bfba-a5366cb9ef6b",
        "colab": {
          "base_uri": "https://localhost:8080/",
          "height": 105
        }
      },
      "source": [
        "model = Word2Vec(min_count=1, size=100) \n",
        "model.build_vocab(sentences)\n",
        "model.train(sentences, total_examples=model.corpus_count, epochs=model.iter)\n",
        "\n",
        "print(model[model.wv.vocab.keys()].shape)"
      ],
      "execution_count": null,
      "outputs": [
        {
          "output_type": "stream",
          "text": [
            "/usr/local/lib/python3.6/dist-packages/ipykernel_launcher.py:3: DeprecationWarning: Call to deprecated `iter` (Attribute will be removed in 4.0.0, use self.epochs instead).\n",
            "  This is separate from the ipykernel package so we can avoid doing imports until\n",
            "/usr/local/lib/python3.6/dist-packages/ipykernel_launcher.py:5: DeprecationWarning: Call to deprecated `__getitem__` (Method will be removed in 4.0.0, use self.wv.__getitem__() instead).\n",
            "  \"\"\"\n"
          ],
          "name": "stderr"
        },
        {
          "output_type": "stream",
          "text": [
            "(142420, 100)\n"
          ],
          "name": "stdout"
        }
      ]
    },
    {
      "cell_type": "code",
      "metadata": {
        "id": "Fk6I_hMswJYf"
      },
      "source": [
        "print(\"語彙の一覧 : {}\".format(model.wv.vocab.keys()))\n",
        "#for vocab in model.wv.vocab.keys():\n",
        "#    print(\"{}のベクトル : \\n{}\".format(vocab, model.wv[vocab]))"
      ],
      "execution_count": null,
      "outputs": []
    },
    {
      "cell_type": "markdown",
      "metadata": {
        "id": "q5ReaZ7IPu0n"
      },
      "source": [
        "# 【問題7】（アドバンス課題）ベクトルの可視化\n",
        "得られたベクトルをt-SNEにより可視化してください。また、いくつかの単語を選びwv.most_similarを用いて似ている単語を調べてください。\n",
        "\n"
      ]
    },
    {
      "cell_type": "markdown",
      "metadata": {
        "id": "YmX2g7BCP6-n"
      },
      "source": [
        "### 学習済みベクトル\n",
        "\n",
        "巨大なコーパスで学習して得たベクトルも公開されているため、自分で学習をせずに利用することもできます。オリジナルのWord2Vecの他に同じ作者の発展系である FastText やスタンフォード大の GloVe があり、それぞれ公開されています。\n",
        "\n"
      ]
    },
    {
      "cell_type": "code",
      "metadata": {
        "id": "2ettehJdFurQ",
        "outputId": "a76095fa-36b9-40c2-919b-3f0349e47e17",
        "colab": {
          "base_uri": "https://localhost:8080/",
          "height": 614
        }
      },
      "source": [
        "vocabs = list(model.wv.vocab.keys())[:100]\n",
        "tsne_model = TSNE(perplexity=40, n_components=2, init=\"pca\", n_iter=5000, random_state=23)\n",
        "vectors_tsne = tsne_model.fit_transform(model[vocabs])\n",
        "fig, ax = plt.subplots(figsize=(10,10))\n",
        "ax.scatter(vectors_tsne[:, 0], vectors_tsne[:, 1])\n",
        "for i, word in enumerate(list(vocabs)):\n",
        "    plt.annotate(word, xy=(vectors_tsne[i, 0], vectors_tsne[i, 1]))\n",
        "ax.set_yticklabels([])\n",
        "ax.set_xticklabels([])\n",
        "plt.show()"
      ],
      "execution_count": null,
      "outputs": [
        {
          "output_type": "stream",
          "text": [
            "/usr/local/lib/python3.6/dist-packages/ipykernel_launcher.py:3: DeprecationWarning: Call to deprecated `__getitem__` (Method will be removed in 4.0.0, use self.wv.__getitem__() instead).\n",
            "  This is separate from the ipykernel package so we can avoid doing imports until\n"
          ],
          "name": "stderr"
        },
        {
          "output_type": "display_data",
          "data": {
            "image/png": "[encoded data removed]",
            "text/plain": [
              "<Figure size 720x720 with 1 Axes>"
            ]
          },
          "metadata": {
            "tags": [],
            "needs_background": "light"
          }
        }
      ]
    },
    {
      "cell_type": "code",
      "metadata": {
        "id": "T5jlfUWxGIRK",
        "outputId": "144a08f5-ee39-4781-acc3-e5886567c689",
        "colab": {
          "base_uri": "https://localhost:8080/",
          "height": 125
        }
      },
      "source": [
        "# いくつかの単語を選んで類似を探してみる\n",
        "# \"bunch\"\n",
        "model.wv.most_similar( ['bunch'], [], 3)"
      ],
      "execution_count": null,
      "outputs": [
        {
          "output_type": "stream",
          "text": [
            "/usr/local/lib/python3.6/dist-packages/gensim/matutils.py:737: FutureWarning: Conversion of the second argument of issubdtype from `int` to `np.signedinteger` is deprecated. In future, it will be treated as `np.int64 == np.dtype(int).type`.\n",
            "  if np.issubdtype(vec.dtype, np.int):\n"
          ],
          "name": "stderr"
        },
        {
          "output_type": "execute_result",
          "data": {
            "text/plain": [
              "[('group', 0.7706496715545654),\n",
              " ('goodnessa', 0.767662763595581),\n",
              " ('goombahs', 0.7408707737922668)]"
            ]
          },
          "metadata": {
            "tags": []
          },
          "execution_count": 83
        }
      ]
    },
    {
      "cell_type": "code",
      "metadata": {
        "id": "cKQ5N2QNGITe",
        "outputId": "17896742-b52f-4d96-8054-c787b236dc59",
        "colab": {
          "base_uri": "https://localhost:8080/",
          "height": 125
        }
      },
      "source": [
        "# \"idea\"\n",
        "model.wv.most_similar( ['idea'], [], 3)"
      ],
      "execution_count": null,
      "outputs": [
        {
          "output_type": "stream",
          "text": [
            "/usr/local/lib/python3.6/dist-packages/gensim/matutils.py:737: FutureWarning: Conversion of the second argument of issubdtype from `int` to `np.signedinteger` is deprecated. In future, it will be treated as `np.int64 == np.dtype(int).type`.\n",
            "  if np.issubdtype(vec.dtype, np.int):\n"
          ],
          "name": "stderr"
        },
        {
          "output_type": "execute_result",
          "data": {
            "text/plain": [
              "[('concept', 0.8018655776977539),\n",
              " ('premise', 0.7827586531639099),\n",
              " ('ideas', 0.7196906805038452)]"
            ]
          },
          "metadata": {
            "tags": []
          },
          "execution_count": 84
        }
      ]
    },
    {
      "cell_type": "code",
      "metadata": {
        "id": "-ZfnhSxdG4_A",
        "outputId": "2c633dba-71ef-43f3-fe28-a9d8c9712282",
        "colab": {
          "base_uri": "https://localhost:8080/",
          "height": 125
        }
      },
      "source": [
        "# \"set\"\n",
        "model.wv.most_similar( ['set'], [], 3)"
      ],
      "execution_count": null,
      "outputs": [
        {
          "output_type": "stream",
          "text": [
            "/usr/local/lib/python3.6/dist-packages/gensim/matutils.py:737: FutureWarning: Conversion of the second argument of issubdtype from `int` to `np.signedinteger` is deprecated. In future, it will be treated as `np.int64 == np.dtype(int).type`.\n",
            "  if np.issubdtype(vec.dtype, np.int):\n"
          ],
          "name": "stderr"
        },
        {
          "output_type": "execute_result",
          "data": {
            "text/plain": [
              "[('setting', 0.7519291639328003),\n",
              " ('filmed', 0.7516987323760986),\n",
              " ('futuristic', 0.7401459217071533)]"
            ]
          },
          "metadata": {
            "tags": []
          },
          "execution_count": 85
        }
      ]
    },
    {
      "cell_type": "markdown",
      "metadata": {
        "id": "EH2d_q6TP7BG"
      },
      "source": [
        "# 【問題8】（アドバンス課題）Word2Vecを用いた映画レビューの分類\n",
        "問題6で学習して得たベクトルや公開されている学習済みベクトルを用いてIMDB映画レビューデータセットの感情分類の学習・推定を行なってください。"
      ]
    },
    {
      "cell_type": "code",
      "metadata": {
        "id": "G5T8nt23dO_h"
      },
      "source": [
        ""
      ],
      "execution_count": null,
      "outputs": []
    }
  ]
}