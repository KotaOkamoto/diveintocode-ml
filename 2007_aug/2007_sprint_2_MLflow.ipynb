{
 "cells": [
  {
   "cell_type": "markdown",
   "metadata": {},
   "source": [
    "# 【問題1】クロスバリデーション\n",
    "事前学習期間では検証データをはじめに分割しておき、それに対して指標値を計算することで検証を行っていました。（ホールドアウト法）しかし、分割の仕方により精度は変化します。実践的には クロスバリデーション（交差検証） を行います。分割を複数回行い、それぞれに対して学習と検証を行う方法です。複数回の分割のためにscikit-learnにはKFoldクラスが用意されています。\n",
    "\n",
    "\n",
    "事前学習期間の課題で作成したベースラインモデルに対してKFoldクラスによるクロスバリデーションを行うコードを作成し実行してください。\n",
    "\n",
    "\n",
    "[sklearn.model_selection.KFold — scikit-learn 0.21.3 documentation](https://scikit-learn.org/stable/modules/generated/sklearn.model_selection.KFold.html#sklearn.model_selection.KFold)\n",
    "\n"
   ]
  },
  {
   "cell_type": "code",
   "execution_count": 2,
   "metadata": {},
   "outputs": [],
   "source": [
    "# インポート\n",
    "import numpy as np\n",
    "import pandas as pd\n",
    "import matplotlib.pyplot as plt\n",
    "import seaborn as sns\n",
    "from sklearn import metrics\n",
    "from sklearn.preprocessing import StandardScaler\n",
    "from scipy.sparse import csr_matrix, isspmatrix\n",
    "import scipy.sparse as sp\n",
    "import statsmodels.api as sm\n",
    "from decimal import Decimal, ROUND_HALF_UP\n",
    "from sklearn.metrics import mean_squared_error\n",
    "from sklearn.model_selection import KFold\n",
    "from sklearn.metrics import roc_auc_score\n",
    "\n",
    "from sklearn.linear_model import SGDClassifier\n",
    "from sklearn.metrics import precision_score\n",
    "from sklearn.metrics import recall_score\n",
    "from sklearn.metrics import f1_score\n",
    "from sklearn.metrics import confusion_matrix\n",
    "from sklearn.linear_model import LogisticRegression\n",
    "\n",
    "from sklearn.model_selection import GridSearchCV\n",
    "from sklearn.model_selection import train_test_split\n",
    "from sklearn.svm import SVC\n",
    "from sklearn.ensemble import RandomForestClassifier\n",
    "from sklearn.ensemble import RandomForestRegressor as RFR\n",
    "\n",
    "%matplotlib inline"
   ]
  },
  {
   "cell_type": "code",
   "execution_count": 3,
   "metadata": {},
   "outputs": [],
   "source": [
    "# HomeCreditDefaltRiskを読み込み\n",
    "data = pd.read_csv(\"application_train.csv\")\n",
    "\n",
    "df = data.drop(['TARGET', 'SK_ID_CURR'], axis=1)\n"
   ]
  },
  {
   "cell_type": "code",
   "execution_count": 4,
   "metadata": {},
   "outputs": [
    {
     "name": "stdout",
     "output_type": "stream",
     "text": [
      "['NAME_CONTRACT_TYPE', 'CODE_GENDER', 'FLAG_OWN_CAR', 'FLAG_OWN_REALTY', 'NAME_TYPE_SUITE', 'NAME_INCOME_TYPE', 'NAME_EDUCATION_TYPE', 'NAME_FAMILY_STATUS', 'NAME_HOUSING_TYPE', 'OCCUPATION_TYPE', 'WEEKDAY_APPR_PROCESS_START', 'ORGANIZATION_TYPE', 'FONDKAPREMONT_MODE', 'HOUSETYPE_MODE', 'WALLSMATERIAL_MODE', 'EMERGENCYSTATE_MODE']\n",
      "16\n"
     ]
    },
    {
     "data": {
      "text/html": [
       "<div>\n",
       "<style scoped>\n",
       "    .dataframe tbody tr th:only-of-type {\n",
       "        vertical-align: middle;\n",
       "    }\n",
       "\n",
       "    .dataframe tbody tr th {\n",
       "        vertical-align: top;\n",
       "    }\n",
       "\n",
       "    .dataframe thead th {\n",
       "        text-align: right;\n",
       "    }\n",
       "</style>\n",
       "<table border=\"1\" class=\"dataframe\">\n",
       "  <thead>\n",
       "    <tr style=\"text-align: right;\">\n",
       "      <th></th>\n",
       "      <th>NAME_CONTRACT_TYPE</th>\n",
       "      <th>CODE_GENDER</th>\n",
       "      <th>FLAG_OWN_CAR</th>\n",
       "      <th>FLAG_OWN_REALTY</th>\n",
       "      <th>CNT_CHILDREN</th>\n",
       "      <th>AMT_INCOME_TOTAL</th>\n",
       "      <th>AMT_CREDIT</th>\n",
       "      <th>AMT_ANNUITY</th>\n",
       "      <th>AMT_GOODS_PRICE</th>\n",
       "      <th>NAME_TYPE_SUITE</th>\n",
       "      <th>...</th>\n",
       "      <th>FLAG_DOCUMENT_18</th>\n",
       "      <th>FLAG_DOCUMENT_19</th>\n",
       "      <th>FLAG_DOCUMENT_20</th>\n",
       "      <th>FLAG_DOCUMENT_21</th>\n",
       "      <th>AMT_REQ_CREDIT_BUREAU_HOUR</th>\n",
       "      <th>AMT_REQ_CREDIT_BUREAU_DAY</th>\n",
       "      <th>AMT_REQ_CREDIT_BUREAU_WEEK</th>\n",
       "      <th>AMT_REQ_CREDIT_BUREAU_MON</th>\n",
       "      <th>AMT_REQ_CREDIT_BUREAU_QRT</th>\n",
       "      <th>AMT_REQ_CREDIT_BUREAU_YEAR</th>\n",
       "    </tr>\n",
       "  </thead>\n",
       "  <tbody>\n",
       "    <tr>\n",
       "      <th>0</th>\n",
       "      <td>0</td>\n",
       "      <td>0</td>\n",
       "      <td>0</td>\n",
       "      <td>0</td>\n",
       "      <td>0</td>\n",
       "      <td>202500.0</td>\n",
       "      <td>406597.5</td>\n",
       "      <td>24700.5</td>\n",
       "      <td>351000.0</td>\n",
       "      <td>0</td>\n",
       "      <td>...</td>\n",
       "      <td>0</td>\n",
       "      <td>0</td>\n",
       "      <td>0</td>\n",
       "      <td>0</td>\n",
       "      <td>0.0</td>\n",
       "      <td>0.0</td>\n",
       "      <td>0.0</td>\n",
       "      <td>0.0</td>\n",
       "      <td>0.0</td>\n",
       "      <td>1.0</td>\n",
       "    </tr>\n",
       "    <tr>\n",
       "      <th>1</th>\n",
       "      <td>0</td>\n",
       "      <td>1</td>\n",
       "      <td>0</td>\n",
       "      <td>1</td>\n",
       "      <td>0</td>\n",
       "      <td>270000.0</td>\n",
       "      <td>1293502.5</td>\n",
       "      <td>35698.5</td>\n",
       "      <td>1129500.0</td>\n",
       "      <td>1</td>\n",
       "      <td>...</td>\n",
       "      <td>0</td>\n",
       "      <td>0</td>\n",
       "      <td>0</td>\n",
       "      <td>0</td>\n",
       "      <td>0.0</td>\n",
       "      <td>0.0</td>\n",
       "      <td>0.0</td>\n",
       "      <td>0.0</td>\n",
       "      <td>0.0</td>\n",
       "      <td>0.0</td>\n",
       "    </tr>\n",
       "    <tr>\n",
       "      <th>2</th>\n",
       "      <td>1</td>\n",
       "      <td>0</td>\n",
       "      <td>1</td>\n",
       "      <td>0</td>\n",
       "      <td>0</td>\n",
       "      <td>67500.0</td>\n",
       "      <td>135000.0</td>\n",
       "      <td>6750.0</td>\n",
       "      <td>135000.0</td>\n",
       "      <td>0</td>\n",
       "      <td>...</td>\n",
       "      <td>0</td>\n",
       "      <td>0</td>\n",
       "      <td>0</td>\n",
       "      <td>0</td>\n",
       "      <td>0.0</td>\n",
       "      <td>0.0</td>\n",
       "      <td>0.0</td>\n",
       "      <td>0.0</td>\n",
       "      <td>0.0</td>\n",
       "      <td>0.0</td>\n",
       "    </tr>\n",
       "    <tr>\n",
       "      <th>3</th>\n",
       "      <td>0</td>\n",
       "      <td>1</td>\n",
       "      <td>0</td>\n",
       "      <td>0</td>\n",
       "      <td>0</td>\n",
       "      <td>135000.0</td>\n",
       "      <td>312682.5</td>\n",
       "      <td>29686.5</td>\n",
       "      <td>297000.0</td>\n",
       "      <td>0</td>\n",
       "      <td>...</td>\n",
       "      <td>0</td>\n",
       "      <td>0</td>\n",
       "      <td>0</td>\n",
       "      <td>0</td>\n",
       "      <td>NaN</td>\n",
       "      <td>NaN</td>\n",
       "      <td>NaN</td>\n",
       "      <td>NaN</td>\n",
       "      <td>NaN</td>\n",
       "      <td>NaN</td>\n",
       "    </tr>\n",
       "    <tr>\n",
       "      <th>4</th>\n",
       "      <td>0</td>\n",
       "      <td>0</td>\n",
       "      <td>0</td>\n",
       "      <td>0</td>\n",
       "      <td>0</td>\n",
       "      <td>121500.0</td>\n",
       "      <td>513000.0</td>\n",
       "      <td>21865.5</td>\n",
       "      <td>513000.0</td>\n",
       "      <td>0</td>\n",
       "      <td>...</td>\n",
       "      <td>0</td>\n",
       "      <td>0</td>\n",
       "      <td>0</td>\n",
       "      <td>0</td>\n",
       "      <td>0.0</td>\n",
       "      <td>0.0</td>\n",
       "      <td>0.0</td>\n",
       "      <td>0.0</td>\n",
       "      <td>0.0</td>\n",
       "      <td>0.0</td>\n",
       "    </tr>\n",
       "    <tr>\n",
       "      <th>...</th>\n",
       "      <td>...</td>\n",
       "      <td>...</td>\n",
       "      <td>...</td>\n",
       "      <td>...</td>\n",
       "      <td>...</td>\n",
       "      <td>...</td>\n",
       "      <td>...</td>\n",
       "      <td>...</td>\n",
       "      <td>...</td>\n",
       "      <td>...</td>\n",
       "      <td>...</td>\n",
       "      <td>...</td>\n",
       "      <td>...</td>\n",
       "      <td>...</td>\n",
       "      <td>...</td>\n",
       "      <td>...</td>\n",
       "      <td>...</td>\n",
       "      <td>...</td>\n",
       "      <td>...</td>\n",
       "      <td>...</td>\n",
       "      <td>...</td>\n",
       "    </tr>\n",
       "    <tr>\n",
       "      <th>307506</th>\n",
       "      <td>0</td>\n",
       "      <td>0</td>\n",
       "      <td>0</td>\n",
       "      <td>1</td>\n",
       "      <td>0</td>\n",
       "      <td>157500.0</td>\n",
       "      <td>254700.0</td>\n",
       "      <td>27558.0</td>\n",
       "      <td>225000.0</td>\n",
       "      <td>0</td>\n",
       "      <td>...</td>\n",
       "      <td>0</td>\n",
       "      <td>0</td>\n",
       "      <td>0</td>\n",
       "      <td>0</td>\n",
       "      <td>NaN</td>\n",
       "      <td>NaN</td>\n",
       "      <td>NaN</td>\n",
       "      <td>NaN</td>\n",
       "      <td>NaN</td>\n",
       "      <td>NaN</td>\n",
       "    </tr>\n",
       "    <tr>\n",
       "      <th>307507</th>\n",
       "      <td>0</td>\n",
       "      <td>1</td>\n",
       "      <td>0</td>\n",
       "      <td>0</td>\n",
       "      <td>0</td>\n",
       "      <td>72000.0</td>\n",
       "      <td>269550.0</td>\n",
       "      <td>12001.5</td>\n",
       "      <td>225000.0</td>\n",
       "      <td>0</td>\n",
       "      <td>...</td>\n",
       "      <td>0</td>\n",
       "      <td>0</td>\n",
       "      <td>0</td>\n",
       "      <td>0</td>\n",
       "      <td>NaN</td>\n",
       "      <td>NaN</td>\n",
       "      <td>NaN</td>\n",
       "      <td>NaN</td>\n",
       "      <td>NaN</td>\n",
       "      <td>NaN</td>\n",
       "    </tr>\n",
       "    <tr>\n",
       "      <th>307508</th>\n",
       "      <td>0</td>\n",
       "      <td>1</td>\n",
       "      <td>0</td>\n",
       "      <td>0</td>\n",
       "      <td>0</td>\n",
       "      <td>153000.0</td>\n",
       "      <td>677664.0</td>\n",
       "      <td>29979.0</td>\n",
       "      <td>585000.0</td>\n",
       "      <td>0</td>\n",
       "      <td>...</td>\n",
       "      <td>0</td>\n",
       "      <td>0</td>\n",
       "      <td>0</td>\n",
       "      <td>0</td>\n",
       "      <td>1.0</td>\n",
       "      <td>0.0</td>\n",
       "      <td>0.0</td>\n",
       "      <td>1.0</td>\n",
       "      <td>0.0</td>\n",
       "      <td>1.0</td>\n",
       "    </tr>\n",
       "    <tr>\n",
       "      <th>307509</th>\n",
       "      <td>0</td>\n",
       "      <td>1</td>\n",
       "      <td>0</td>\n",
       "      <td>0</td>\n",
       "      <td>0</td>\n",
       "      <td>171000.0</td>\n",
       "      <td>370107.0</td>\n",
       "      <td>20205.0</td>\n",
       "      <td>319500.0</td>\n",
       "      <td>0</td>\n",
       "      <td>...</td>\n",
       "      <td>0</td>\n",
       "      <td>0</td>\n",
       "      <td>0</td>\n",
       "      <td>0</td>\n",
       "      <td>0.0</td>\n",
       "      <td>0.0</td>\n",
       "      <td>0.0</td>\n",
       "      <td>0.0</td>\n",
       "      <td>0.0</td>\n",
       "      <td>0.0</td>\n",
       "    </tr>\n",
       "    <tr>\n",
       "      <th>307510</th>\n",
       "      <td>0</td>\n",
       "      <td>1</td>\n",
       "      <td>0</td>\n",
       "      <td>1</td>\n",
       "      <td>0</td>\n",
       "      <td>157500.0</td>\n",
       "      <td>675000.0</td>\n",
       "      <td>49117.5</td>\n",
       "      <td>675000.0</td>\n",
       "      <td>0</td>\n",
       "      <td>...</td>\n",
       "      <td>0</td>\n",
       "      <td>0</td>\n",
       "      <td>0</td>\n",
       "      <td>0</td>\n",
       "      <td>0.0</td>\n",
       "      <td>0.0</td>\n",
       "      <td>0.0</td>\n",
       "      <td>2.0</td>\n",
       "      <td>0.0</td>\n",
       "      <td>1.0</td>\n",
       "    </tr>\n",
       "  </tbody>\n",
       "</table>\n",
       "<p>307511 rows × 120 columns</p>\n",
       "</div>"
      ],
      "text/plain": [
       "        NAME_CONTRACT_TYPE  CODE_GENDER  FLAG_OWN_CAR  FLAG_OWN_REALTY  \\\n",
       "0                        0            0             0                0   \n",
       "1                        0            1             0                1   \n",
       "2                        1            0             1                0   \n",
       "3                        0            1             0                0   \n",
       "4                        0            0             0                0   \n",
       "...                    ...          ...           ...              ...   \n",
       "307506                   0            0             0                1   \n",
       "307507                   0            1             0                0   \n",
       "307508                   0            1             0                0   \n",
       "307509                   0            1             0                0   \n",
       "307510                   0            1             0                1   \n",
       "\n",
       "        CNT_CHILDREN  AMT_INCOME_TOTAL  AMT_CREDIT  AMT_ANNUITY  \\\n",
       "0                  0          202500.0    406597.5      24700.5   \n",
       "1                  0          270000.0   1293502.5      35698.5   \n",
       "2                  0           67500.0    135000.0       6750.0   \n",
       "3                  0          135000.0    312682.5      29686.5   \n",
       "4                  0          121500.0    513000.0      21865.5   \n",
       "...              ...               ...         ...          ...   \n",
       "307506             0          157500.0    254700.0      27558.0   \n",
       "307507             0           72000.0    269550.0      12001.5   \n",
       "307508             0          153000.0    677664.0      29979.0   \n",
       "307509             0          171000.0    370107.0      20205.0   \n",
       "307510             0          157500.0    675000.0      49117.5   \n",
       "\n",
       "        AMT_GOODS_PRICE  NAME_TYPE_SUITE  ...  FLAG_DOCUMENT_18  \\\n",
       "0              351000.0                0  ...                 0   \n",
       "1             1129500.0                1  ...                 0   \n",
       "2              135000.0                0  ...                 0   \n",
       "3              297000.0                0  ...                 0   \n",
       "4              513000.0                0  ...                 0   \n",
       "...                 ...              ...  ...               ...   \n",
       "307506         225000.0                0  ...                 0   \n",
       "307507         225000.0                0  ...                 0   \n",
       "307508         585000.0                0  ...                 0   \n",
       "307509         319500.0                0  ...                 0   \n",
       "307510         675000.0                0  ...                 0   \n",
       "\n",
       "        FLAG_DOCUMENT_19  FLAG_DOCUMENT_20  FLAG_DOCUMENT_21  \\\n",
       "0                      0                 0                 0   \n",
       "1                      0                 0                 0   \n",
       "2                      0                 0                 0   \n",
       "3                      0                 0                 0   \n",
       "4                      0                 0                 0   \n",
       "...                  ...               ...               ...   \n",
       "307506                 0                 0                 0   \n",
       "307507                 0                 0                 0   \n",
       "307508                 0                 0                 0   \n",
       "307509                 0                 0                 0   \n",
       "307510                 0                 0                 0   \n",
       "\n",
       "        AMT_REQ_CREDIT_BUREAU_HOUR  AMT_REQ_CREDIT_BUREAU_DAY  \\\n",
       "0                              0.0                        0.0   \n",
       "1                              0.0                        0.0   \n",
       "2                              0.0                        0.0   \n",
       "3                              NaN                        NaN   \n",
       "4                              0.0                        0.0   \n",
       "...                            ...                        ...   \n",
       "307506                         NaN                        NaN   \n",
       "307507                         NaN                        NaN   \n",
       "307508                         1.0                        0.0   \n",
       "307509                         0.0                        0.0   \n",
       "307510                         0.0                        0.0   \n",
       "\n",
       "        AMT_REQ_CREDIT_BUREAU_WEEK  AMT_REQ_CREDIT_BUREAU_MON  \\\n",
       "0                              0.0                        0.0   \n",
       "1                              0.0                        0.0   \n",
       "2                              0.0                        0.0   \n",
       "3                              NaN                        NaN   \n",
       "4                              0.0                        0.0   \n",
       "...                            ...                        ...   \n",
       "307506                         NaN                        NaN   \n",
       "307507                         NaN                        NaN   \n",
       "307508                         0.0                        1.0   \n",
       "307509                         0.0                        0.0   \n",
       "307510                         0.0                        2.0   \n",
       "\n",
       "        AMT_REQ_CREDIT_BUREAU_QRT  AMT_REQ_CREDIT_BUREAU_YEAR  \n",
       "0                             0.0                         1.0  \n",
       "1                             0.0                         0.0  \n",
       "2                             0.0                         0.0  \n",
       "3                             NaN                         NaN  \n",
       "4                             0.0                         0.0  \n",
       "...                           ...                         ...  \n",
       "307506                        NaN                         NaN  \n",
       "307507                        NaN                         NaN  \n",
       "307508                        0.0                         1.0  \n",
       "307509                        0.0                         0.0  \n",
       "307510                        0.0                         1.0  \n",
       "\n",
       "[307511 rows x 120 columns]"
      ]
     },
     "execution_count": 4,
     "metadata": {},
     "output_type": "execute_result"
    }
   ],
   "source": [
    "# カテゴリ変数をラベルエンコーディング\n",
    "# カテゴリ変数(dtype=objectの列)を抜き出す\n",
    "\n",
    "def _get_categorical_features(df):\n",
    "    feats = [col for col in list(df.columns) if df[col].dtype == 'object']\n",
    "\n",
    "    return feats\n",
    "\n",
    "# カテゴリ変数を数値化\n",
    "def _factorize_categoricals(df, cats):\n",
    "    for col in cats:\n",
    "        df[col], _ = pd.factorize(df[col])\n",
    "    return df\n",
    "\n",
    "\n",
    "obj= _get_categorical_features(df)\n",
    "print(obj)\n",
    "print(len(obj))\n",
    "\n",
    "_factorize_categoricals(df, obj)"
   ]
  },
  {
   "cell_type": "code",
   "execution_count": 5,
   "metadata": {},
   "outputs": [
    {
     "data": {
      "text/html": [
       "<div>\n",
       "<style scoped>\n",
       "    .dataframe tbody tr th:only-of-type {\n",
       "        vertical-align: middle;\n",
       "    }\n",
       "\n",
       "    .dataframe tbody tr th {\n",
       "        vertical-align: top;\n",
       "    }\n",
       "\n",
       "    .dataframe thead th {\n",
       "        text-align: right;\n",
       "    }\n",
       "</style>\n",
       "<table border=\"1\" class=\"dataframe\">\n",
       "  <thead>\n",
       "    <tr style=\"text-align: right;\">\n",
       "      <th></th>\n",
       "      <th>NAME_CONTRACT_TYPE</th>\n",
       "      <th>CODE_GENDER</th>\n",
       "      <th>FLAG_OWN_CAR</th>\n",
       "      <th>FLAG_OWN_REALTY</th>\n",
       "      <th>CNT_CHILDREN</th>\n",
       "      <th>AMT_INCOME_TOTAL</th>\n",
       "      <th>AMT_CREDIT</th>\n",
       "      <th>AMT_ANNUITY</th>\n",
       "      <th>AMT_GOODS_PRICE</th>\n",
       "      <th>NAME_TYPE_SUITE</th>\n",
       "      <th>...</th>\n",
       "      <th>FLAG_DOCUMENT_18</th>\n",
       "      <th>FLAG_DOCUMENT_19</th>\n",
       "      <th>FLAG_DOCUMENT_20</th>\n",
       "      <th>FLAG_DOCUMENT_21</th>\n",
       "      <th>AMT_REQ_CREDIT_BUREAU_HOUR</th>\n",
       "      <th>AMT_REQ_CREDIT_BUREAU_DAY</th>\n",
       "      <th>AMT_REQ_CREDIT_BUREAU_WEEK</th>\n",
       "      <th>AMT_REQ_CREDIT_BUREAU_MON</th>\n",
       "      <th>AMT_REQ_CREDIT_BUREAU_QRT</th>\n",
       "      <th>AMT_REQ_CREDIT_BUREAU_YEAR</th>\n",
       "    </tr>\n",
       "  </thead>\n",
       "  <tbody>\n",
       "    <tr>\n",
       "      <th>0</th>\n",
       "      <td>0</td>\n",
       "      <td>0</td>\n",
       "      <td>0</td>\n",
       "      <td>0</td>\n",
       "      <td>0</td>\n",
       "      <td>202500.0</td>\n",
       "      <td>406597.5</td>\n",
       "      <td>24700.5</td>\n",
       "      <td>351000.0</td>\n",
       "      <td>0</td>\n",
       "      <td>...</td>\n",
       "      <td>0</td>\n",
       "      <td>0</td>\n",
       "      <td>0</td>\n",
       "      <td>0</td>\n",
       "      <td>0.0</td>\n",
       "      <td>0.0</td>\n",
       "      <td>0.0</td>\n",
       "      <td>0.0</td>\n",
       "      <td>0.0</td>\n",
       "      <td>1.0</td>\n",
       "    </tr>\n",
       "    <tr>\n",
       "      <th>1</th>\n",
       "      <td>0</td>\n",
       "      <td>1</td>\n",
       "      <td>0</td>\n",
       "      <td>1</td>\n",
       "      <td>0</td>\n",
       "      <td>270000.0</td>\n",
       "      <td>1293502.5</td>\n",
       "      <td>35698.5</td>\n",
       "      <td>1129500.0</td>\n",
       "      <td>1</td>\n",
       "      <td>...</td>\n",
       "      <td>0</td>\n",
       "      <td>0</td>\n",
       "      <td>0</td>\n",
       "      <td>0</td>\n",
       "      <td>0.0</td>\n",
       "      <td>0.0</td>\n",
       "      <td>0.0</td>\n",
       "      <td>0.0</td>\n",
       "      <td>0.0</td>\n",
       "      <td>0.0</td>\n",
       "    </tr>\n",
       "    <tr>\n",
       "      <th>2</th>\n",
       "      <td>1</td>\n",
       "      <td>0</td>\n",
       "      <td>1</td>\n",
       "      <td>0</td>\n",
       "      <td>0</td>\n",
       "      <td>67500.0</td>\n",
       "      <td>135000.0</td>\n",
       "      <td>6750.0</td>\n",
       "      <td>135000.0</td>\n",
       "      <td>0</td>\n",
       "      <td>...</td>\n",
       "      <td>0</td>\n",
       "      <td>0</td>\n",
       "      <td>0</td>\n",
       "      <td>0</td>\n",
       "      <td>0.0</td>\n",
       "      <td>0.0</td>\n",
       "      <td>0.0</td>\n",
       "      <td>0.0</td>\n",
       "      <td>0.0</td>\n",
       "      <td>0.0</td>\n",
       "    </tr>\n",
       "    <tr>\n",
       "      <th>3</th>\n",
       "      <td>0</td>\n",
       "      <td>1</td>\n",
       "      <td>0</td>\n",
       "      <td>0</td>\n",
       "      <td>0</td>\n",
       "      <td>135000.0</td>\n",
       "      <td>312682.5</td>\n",
       "      <td>29686.5</td>\n",
       "      <td>297000.0</td>\n",
       "      <td>0</td>\n",
       "      <td>...</td>\n",
       "      <td>0</td>\n",
       "      <td>0</td>\n",
       "      <td>0</td>\n",
       "      <td>0</td>\n",
       "      <td>0.0</td>\n",
       "      <td>0.0</td>\n",
       "      <td>0.0</td>\n",
       "      <td>0.0</td>\n",
       "      <td>0.0</td>\n",
       "      <td>1.0</td>\n",
       "    </tr>\n",
       "    <tr>\n",
       "      <th>4</th>\n",
       "      <td>0</td>\n",
       "      <td>0</td>\n",
       "      <td>0</td>\n",
       "      <td>0</td>\n",
       "      <td>0</td>\n",
       "      <td>121500.0</td>\n",
       "      <td>513000.0</td>\n",
       "      <td>21865.5</td>\n",
       "      <td>513000.0</td>\n",
       "      <td>0</td>\n",
       "      <td>...</td>\n",
       "      <td>0</td>\n",
       "      <td>0</td>\n",
       "      <td>0</td>\n",
       "      <td>0</td>\n",
       "      <td>0.0</td>\n",
       "      <td>0.0</td>\n",
       "      <td>0.0</td>\n",
       "      <td>0.0</td>\n",
       "      <td>0.0</td>\n",
       "      <td>0.0</td>\n",
       "    </tr>\n",
       "    <tr>\n",
       "      <th>...</th>\n",
       "      <td>...</td>\n",
       "      <td>...</td>\n",
       "      <td>...</td>\n",
       "      <td>...</td>\n",
       "      <td>...</td>\n",
       "      <td>...</td>\n",
       "      <td>...</td>\n",
       "      <td>...</td>\n",
       "      <td>...</td>\n",
       "      <td>...</td>\n",
       "      <td>...</td>\n",
       "      <td>...</td>\n",
       "      <td>...</td>\n",
       "      <td>...</td>\n",
       "      <td>...</td>\n",
       "      <td>...</td>\n",
       "      <td>...</td>\n",
       "      <td>...</td>\n",
       "      <td>...</td>\n",
       "      <td>...</td>\n",
       "      <td>...</td>\n",
       "    </tr>\n",
       "    <tr>\n",
       "      <th>307506</th>\n",
       "      <td>0</td>\n",
       "      <td>0</td>\n",
       "      <td>0</td>\n",
       "      <td>1</td>\n",
       "      <td>0</td>\n",
       "      <td>157500.0</td>\n",
       "      <td>254700.0</td>\n",
       "      <td>27558.0</td>\n",
       "      <td>225000.0</td>\n",
       "      <td>0</td>\n",
       "      <td>...</td>\n",
       "      <td>0</td>\n",
       "      <td>0</td>\n",
       "      <td>0</td>\n",
       "      <td>0</td>\n",
       "      <td>0.0</td>\n",
       "      <td>0.0</td>\n",
       "      <td>0.0</td>\n",
       "      <td>0.0</td>\n",
       "      <td>0.0</td>\n",
       "      <td>1.0</td>\n",
       "    </tr>\n",
       "    <tr>\n",
       "      <th>307507</th>\n",
       "      <td>0</td>\n",
       "      <td>1</td>\n",
       "      <td>0</td>\n",
       "      <td>0</td>\n",
       "      <td>0</td>\n",
       "      <td>72000.0</td>\n",
       "      <td>269550.0</td>\n",
       "      <td>12001.5</td>\n",
       "      <td>225000.0</td>\n",
       "      <td>0</td>\n",
       "      <td>...</td>\n",
       "      <td>0</td>\n",
       "      <td>0</td>\n",
       "      <td>0</td>\n",
       "      <td>0</td>\n",
       "      <td>0.0</td>\n",
       "      <td>0.0</td>\n",
       "      <td>0.0</td>\n",
       "      <td>0.0</td>\n",
       "      <td>0.0</td>\n",
       "      <td>1.0</td>\n",
       "    </tr>\n",
       "    <tr>\n",
       "      <th>307508</th>\n",
       "      <td>0</td>\n",
       "      <td>1</td>\n",
       "      <td>0</td>\n",
       "      <td>0</td>\n",
       "      <td>0</td>\n",
       "      <td>153000.0</td>\n",
       "      <td>677664.0</td>\n",
       "      <td>29979.0</td>\n",
       "      <td>585000.0</td>\n",
       "      <td>0</td>\n",
       "      <td>...</td>\n",
       "      <td>0</td>\n",
       "      <td>0</td>\n",
       "      <td>0</td>\n",
       "      <td>0</td>\n",
       "      <td>1.0</td>\n",
       "      <td>0.0</td>\n",
       "      <td>0.0</td>\n",
       "      <td>1.0</td>\n",
       "      <td>0.0</td>\n",
       "      <td>1.0</td>\n",
       "    </tr>\n",
       "    <tr>\n",
       "      <th>307509</th>\n",
       "      <td>0</td>\n",
       "      <td>1</td>\n",
       "      <td>0</td>\n",
       "      <td>0</td>\n",
       "      <td>0</td>\n",
       "      <td>171000.0</td>\n",
       "      <td>370107.0</td>\n",
       "      <td>20205.0</td>\n",
       "      <td>319500.0</td>\n",
       "      <td>0</td>\n",
       "      <td>...</td>\n",
       "      <td>0</td>\n",
       "      <td>0</td>\n",
       "      <td>0</td>\n",
       "      <td>0</td>\n",
       "      <td>0.0</td>\n",
       "      <td>0.0</td>\n",
       "      <td>0.0</td>\n",
       "      <td>0.0</td>\n",
       "      <td>0.0</td>\n",
       "      <td>0.0</td>\n",
       "    </tr>\n",
       "    <tr>\n",
       "      <th>307510</th>\n",
       "      <td>0</td>\n",
       "      <td>1</td>\n",
       "      <td>0</td>\n",
       "      <td>1</td>\n",
       "      <td>0</td>\n",
       "      <td>157500.0</td>\n",
       "      <td>675000.0</td>\n",
       "      <td>49117.5</td>\n",
       "      <td>675000.0</td>\n",
       "      <td>0</td>\n",
       "      <td>...</td>\n",
       "      <td>0</td>\n",
       "      <td>0</td>\n",
       "      <td>0</td>\n",
       "      <td>0</td>\n",
       "      <td>0.0</td>\n",
       "      <td>0.0</td>\n",
       "      <td>0.0</td>\n",
       "      <td>2.0</td>\n",
       "      <td>0.0</td>\n",
       "      <td>1.0</td>\n",
       "    </tr>\n",
       "  </tbody>\n",
       "</table>\n",
       "<p>307511 rows × 120 columns</p>\n",
       "</div>"
      ],
      "text/plain": [
       "        NAME_CONTRACT_TYPE  CODE_GENDER  FLAG_OWN_CAR  FLAG_OWN_REALTY  \\\n",
       "0                        0            0             0                0   \n",
       "1                        0            1             0                1   \n",
       "2                        1            0             1                0   \n",
       "3                        0            1             0                0   \n",
       "4                        0            0             0                0   \n",
       "...                    ...          ...           ...              ...   \n",
       "307506                   0            0             0                1   \n",
       "307507                   0            1             0                0   \n",
       "307508                   0            1             0                0   \n",
       "307509                   0            1             0                0   \n",
       "307510                   0            1             0                1   \n",
       "\n",
       "        CNT_CHILDREN  AMT_INCOME_TOTAL  AMT_CREDIT  AMT_ANNUITY  \\\n",
       "0                  0          202500.0    406597.5      24700.5   \n",
       "1                  0          270000.0   1293502.5      35698.5   \n",
       "2                  0           67500.0    135000.0       6750.0   \n",
       "3                  0          135000.0    312682.5      29686.5   \n",
       "4                  0          121500.0    513000.0      21865.5   \n",
       "...              ...               ...         ...          ...   \n",
       "307506             0          157500.0    254700.0      27558.0   \n",
       "307507             0           72000.0    269550.0      12001.5   \n",
       "307508             0          153000.0    677664.0      29979.0   \n",
       "307509             0          171000.0    370107.0      20205.0   \n",
       "307510             0          157500.0    675000.0      49117.5   \n",
       "\n",
       "        AMT_GOODS_PRICE  NAME_TYPE_SUITE  ...  FLAG_DOCUMENT_18  \\\n",
       "0              351000.0                0  ...                 0   \n",
       "1             1129500.0                1  ...                 0   \n",
       "2              135000.0                0  ...                 0   \n",
       "3              297000.0                0  ...                 0   \n",
       "4              513000.0                0  ...                 0   \n",
       "...                 ...              ...  ...               ...   \n",
       "307506         225000.0                0  ...                 0   \n",
       "307507         225000.0                0  ...                 0   \n",
       "307508         585000.0                0  ...                 0   \n",
       "307509         319500.0                0  ...                 0   \n",
       "307510         675000.0                0  ...                 0   \n",
       "\n",
       "        FLAG_DOCUMENT_19  FLAG_DOCUMENT_20  FLAG_DOCUMENT_21  \\\n",
       "0                      0                 0                 0   \n",
       "1                      0                 0                 0   \n",
       "2                      0                 0                 0   \n",
       "3                      0                 0                 0   \n",
       "4                      0                 0                 0   \n",
       "...                  ...               ...               ...   \n",
       "307506                 0                 0                 0   \n",
       "307507                 0                 0                 0   \n",
       "307508                 0                 0                 0   \n",
       "307509                 0                 0                 0   \n",
       "307510                 0                 0                 0   \n",
       "\n",
       "        AMT_REQ_CREDIT_BUREAU_HOUR  AMT_REQ_CREDIT_BUREAU_DAY  \\\n",
       "0                              0.0                        0.0   \n",
       "1                              0.0                        0.0   \n",
       "2                              0.0                        0.0   \n",
       "3                              0.0                        0.0   \n",
       "4                              0.0                        0.0   \n",
       "...                            ...                        ...   \n",
       "307506                         0.0                        0.0   \n",
       "307507                         0.0                        0.0   \n",
       "307508                         1.0                        0.0   \n",
       "307509                         0.0                        0.0   \n",
       "307510                         0.0                        0.0   \n",
       "\n",
       "        AMT_REQ_CREDIT_BUREAU_WEEK  AMT_REQ_CREDIT_BUREAU_MON  \\\n",
       "0                              0.0                        0.0   \n",
       "1                              0.0                        0.0   \n",
       "2                              0.0                        0.0   \n",
       "3                              0.0                        0.0   \n",
       "4                              0.0                        0.0   \n",
       "...                            ...                        ...   \n",
       "307506                         0.0                        0.0   \n",
       "307507                         0.0                        0.0   \n",
       "307508                         0.0                        1.0   \n",
       "307509                         0.0                        0.0   \n",
       "307510                         0.0                        2.0   \n",
       "\n",
       "        AMT_REQ_CREDIT_BUREAU_QRT  AMT_REQ_CREDIT_BUREAU_YEAR  \n",
       "0                             0.0                         1.0  \n",
       "1                             0.0                         0.0  \n",
       "2                             0.0                         0.0  \n",
       "3                             0.0                         1.0  \n",
       "4                             0.0                         0.0  \n",
       "...                           ...                         ...  \n",
       "307506                        0.0                         1.0  \n",
       "307507                        0.0                         1.0  \n",
       "307508                        0.0                         1.0  \n",
       "307509                        0.0                         0.0  \n",
       "307510                        0.0                         1.0  \n",
       "\n",
       "[307511 rows x 120 columns]"
      ]
     },
     "execution_count": 5,
     "metadata": {},
     "output_type": "execute_result"
    }
   ],
   "source": [
    "# 欠損値を平均値で置換\n",
    "df.fillna(df.median(), inplace=True)\n",
    "df"
   ]
  },
  {
   "cell_type": "code",
   "execution_count": 6,
   "metadata": {},
   "outputs": [
    {
     "data": {
      "text/plain": [
       "array([1, 0, 0, ..., 0, 1, 0])"
      ]
     },
     "execution_count": 6,
     "metadata": {},
     "output_type": "execute_result"
    }
   ],
   "source": [
    "# Xとyに代入\n",
    "\n",
    "X = df.values\n",
    "y = data['TARGET'].values\n",
    "y"
   ]
  },
  {
   "cell_type": "code",
   "execution_count": 6,
   "metadata": {},
   "outputs": [
    {
     "name": "stdout",
     "output_type": "stream",
     "text": [
      "KFold(n_splits=5, random_state=None, shuffle=False)\n"
     ]
    }
   ],
   "source": [
    "# KFoldのインスタンス\n",
    "\n",
    "kf = KFold(n_splits=5)\n",
    "kf.get_n_splits(X)\n",
    "print(kf)"
   ]
  },
  {
   "cell_type": "code",
   "execution_count": 249,
   "metadata": {},
   "outputs": [],
   "source": [
    "# ロジスティック回帰\n",
    "def SGDC(x_train, y_train, x_test):\n",
    "    sgdc = SGDClassifier(loss=\"log\")\n",
    "    sgdc.fit(x_train, y_train)\n",
    "    y_pred_log = sgdc.predict_proba(x_test)[:,1]\n",
    "\n",
    "    return y_pred_log"
   ]
  },
  {
   "cell_type": "code",
   "execution_count": 8,
   "metadata": {},
   "outputs": [],
   "source": [
    "# ロジスティック回帰\n",
    "def LR_func(x_train, y_train, x_test):\n",
    "    lr = LogisticRegression(solver='lbfgs')\n",
    "    lr.fit(x_train, y_train)\n",
    "    y_pred_log = lr.predict(x_test)\n",
    "\n",
    "    return y_pred_log"
   ]
  },
  {
   "cell_type": "code",
   "execution_count": 9,
   "metadata": {},
   "outputs": [],
   "source": [
    "# SVM\n",
    "def SVM_func(x_train, y_train, x_test):\n",
    "    svm = SVC(kernel='rbf', gamma='scale', random_state=None)\n",
    "    svm.fit(x_train, y_train)\n",
    "    y_pred_svm = svm.predict(x_test)\n",
    "    \n",
    "    return y_pred_svm"
   ]
  },
  {
   "cell_type": "code",
   "execution_count": 11,
   "metadata": {},
   "outputs": [],
   "source": [
    "# 出力関数\n",
    "outlist = {}\n",
    "\n",
    "def output(y, model, label,outlist={}):\n",
    "    auc = roc_auc_score(y, model)\n",
    "\n",
    "    print('auc_score = ', auc)\n",
    "\n",
    "    outlist[label] = auc\n",
    "    return outlist"
   ]
  },
  {
   "cell_type": "code",
   "execution_count": 12,
   "metadata": {},
   "outputs": [],
   "source": [
    "# 標準化関数\n",
    "def StandardScaler_func(x_train, x_test):\n",
    "    sc = StandardScaler()\n",
    "    sc.fit(x_train)\n",
    "\n",
    "    x_train_std = sc.transform(x_train)\n",
    "    x_test_std = sc.transform(x_test)\n",
    "    \n",
    "    return x_train_std, x_test_std"
   ]
  },
  {
   "cell_type": "code",
   "execution_count": 250,
   "metadata": {},
   "outputs": [
    {
     "name": "stdout",
     "output_type": "stream",
     "text": [
      "TRAIN: [10000 10001 10002 ... 49997 49998 49999] TEST: [   0    1    2 ... 9997 9998 9999]\n",
      "auc_score =  0.7267048968503991\n",
      "TRAIN: [    0     1     2 ... 49997 49998 49999] TEST: [10000 10001 10002 ... 19997 19998 19999]\n",
      "auc_score =  0.7106895030910256\n",
      "TRAIN: [    0     1     2 ... 49997 49998 49999] TEST: [20000 20001 20002 ... 29997 29998 29999]\n",
      "auc_score =  0.7033824149632616\n",
      "TRAIN: [    0     1     2 ... 49997 49998 49999] TEST: [30000 30001 30002 ... 39997 39998 39999]\n",
      "auc_score =  0.7284125108875696\n",
      "TRAIN: [    0     1     2 ... 39997 39998 39999] TEST: [40000 40001 40002 ... 49997 49998 49999]\n",
      "auc_score =  0.6981392179765281\n"
     ]
    }
   ],
   "source": [
    "# KFoldで分割、標準化、SGDClassifierで推定、評価(ROC-AUC)まで\n",
    "\n",
    "cnt = 0\n",
    "\n",
    "for train_index, test_index in kf.split(X):\n",
    "    print(\"TRAIN:\", train_index, \"TEST:\", test_index)\n",
    "    X_train, X_test = X[train_index], X[test_index]\n",
    "    y_train, y_test = y[train_index], y[test_index]\n",
    "    \n",
    "    x_train_std, x_test_std = StandardScaler_func(X_train, X_test)\n",
    "    y_pred_svm = SGDC(x_train_std, y_train, x_test_std)\n",
    "    \n",
    "    output(y_test, y_pred_svm, cnt, outlist)\n",
    "    cnt += 1"
   ]
  },
  {
   "cell_type": "code",
   "execution_count": 251,
   "metadata": {},
   "outputs": [
    {
     "name": "stdout",
     "output_type": "stream",
     "text": [
      "このモデルの平均auc_scoreは0.71347です。\n"
     ]
    }
   ],
   "source": [
    "# 平均auc_score\n",
    "tmp = []\n",
    "for i in range(len(outlist)):\n",
    "    tmp.append(outlist[i])\n",
    "ave = sum(tmp) / len(tmp)\n",
    "print(\"このモデルの平均auc_scoreは{:.５f}です。\".format(ave))\n",
    "result_dict={}\n",
    "result_dict['SGDC'] = ave"
   ]
  },
  {
   "cell_type": "code",
   "execution_count": null,
   "metadata": {},
   "outputs": [],
   "source": []
  },
  {
   "cell_type": "code",
   "execution_count": null,
   "metadata": {},
   "outputs": [],
   "source": []
  },
  {
   "cell_type": "code",
   "execution_count": null,
   "metadata": {},
   "outputs": [],
   "source": []
  },
  {
   "cell_type": "code",
   "execution_count": null,
   "metadata": {},
   "outputs": [],
   "source": []
  },
  {
   "cell_type": "code",
   "execution_count": null,
   "metadata": {},
   "outputs": [],
   "source": []
  },
  {
   "cell_type": "markdown",
   "metadata": {},
   "source": [
    "# 【問題2】グリッドサーチ\n",
    "これまで分類器のパラメータには触れず、デフォルトの設定を使用していました。パラメータの詳細は今後のSprintで学んでいくことになります。機械学習の前提として、パラメータは状況に応じて最適なものを選ぶ必要があります。最適なパラメータを探していくことを パラメータチューニング と呼びます。パラメータチューニングをある程度自動化する単純な方法としては グリッドサーチ があります。\n",
    "\n",
    "\n",
    "scikit-learnのGridSearchCVを使い、グリッドサーチを行うコードを作成してください。そして、ベースラインモデルに対して何らかしらのパラメータチューニングを行なってください。どのパラメータをチューニングするかは、使用した手法の公式ドキュメントを参考にしてください。\n",
    "\n",
    "\n",
    "[sklearn.model_selection.GridSearchCV — scikit-learn 0.21.3 documentation](https://scikit-learn.org/stable/modules/generated/sklearn.model_selection.GridSearchCV.html)\n",
    "\n",
    "\n",
    "GridSearchCVクラスには引数としてモデル、探索範囲、さらにクロスバリデーションを何分割で行うかを与えます。クロスバリデーションの機能も含まれているため、これを使用する場合はKFoldクラスを利用する必要はありません。"
   ]
  },
  {
   "cell_type": "code",
   "execution_count": 16,
   "metadata": {},
   "outputs": [],
   "source": [
    "# 探索空間をparameters として設定\n",
    "# 今回はカーネル二つとCを0.1〜100、rbfのgammaを0.001,0.0001まで\n",
    "parameters = { 'penalty':['l1','l2'], 'eta0': [0.1, 0.01, 0.001]}"
   ]
  },
  {
   "cell_type": "code",
   "execution_count": 26,
   "metadata": {},
   "outputs": [],
   "source": [
    "# グリッドサーチする\n",
    "sgdc = SGDClassifier(loss=\"log\")\n",
    "clf = GridSearchCV(sgdc, parameters, cv=2, scoring=\"roc_auc\")"
   ]
  },
  {
   "cell_type": "code",
   "execution_count": 27,
   "metadata": {},
   "outputs": [
    {
     "name": "stdout",
     "output_type": "stream",
     "text": [
      "2min 56s ± 0 ns per loop (mean ± std. dev. of 1 run, 1 loop each)\n"
     ]
    }
   ],
   "source": [
    "%%timeit -r 1 -n 1\n",
    "clf.fit(X, y)"
   ]
  },
  {
   "cell_type": "code",
   "execution_count": 28,
   "metadata": {},
   "outputs": [
    {
     "data": {
      "text/html": [
       "<div>\n",
       "<style scoped>\n",
       "    .dataframe tbody tr th:only-of-type {\n",
       "        vertical-align: middle;\n",
       "    }\n",
       "\n",
       "    .dataframe tbody tr th {\n",
       "        vertical-align: top;\n",
       "    }\n",
       "\n",
       "    .dataframe thead th {\n",
       "        text-align: right;\n",
       "    }\n",
       "</style>\n",
       "<table border=\"1\" class=\"dataframe\">\n",
       "  <thead>\n",
       "    <tr style=\"text-align: right;\">\n",
       "      <th></th>\n",
       "      <th>mean_fit_time</th>\n",
       "      <th>std_fit_time</th>\n",
       "      <th>mean_score_time</th>\n",
       "      <th>std_score_time</th>\n",
       "      <th>param_eta0</th>\n",
       "      <th>param_penalty</th>\n",
       "      <th>params</th>\n",
       "      <th>split0_test_score</th>\n",
       "      <th>split1_test_score</th>\n",
       "      <th>mean_test_score</th>\n",
       "      <th>std_test_score</th>\n",
       "      <th>rank_test_score</th>\n",
       "    </tr>\n",
       "  </thead>\n",
       "  <tbody>\n",
       "    <tr>\n",
       "      <td>0</td>\n",
       "      <td>17.503570</td>\n",
       "      <td>14.749601</td>\n",
       "      <td>0.060827</td>\n",
       "      <td>0.003353</td>\n",
       "      <td>0.1</td>\n",
       "      <td>l1</td>\n",
       "      <td>{'eta0': 0.1, 'penalty': 'l1'}</td>\n",
       "      <td>0.565089</td>\n",
       "      <td>0.581080</td>\n",
       "      <td>0.573085</td>\n",
       "      <td>0.007995</td>\n",
       "      <td>3</td>\n",
       "    </tr>\n",
       "    <tr>\n",
       "      <td>1</td>\n",
       "      <td>10.968307</td>\n",
       "      <td>9.735535</td>\n",
       "      <td>0.056890</td>\n",
       "      <td>0.001112</td>\n",
       "      <td>0.1</td>\n",
       "      <td>l2</td>\n",
       "      <td>{'eta0': 0.1, 'penalty': 'l2'}</td>\n",
       "      <td>0.580356</td>\n",
       "      <td>0.601722</td>\n",
       "      <td>0.591039</td>\n",
       "      <td>0.010683</td>\n",
       "      <td>1</td>\n",
       "    </tr>\n",
       "    <tr>\n",
       "      <td>2</td>\n",
       "      <td>18.246402</td>\n",
       "      <td>12.090070</td>\n",
       "      <td>0.063375</td>\n",
       "      <td>0.002855</td>\n",
       "      <td>0.01</td>\n",
       "      <td>l1</td>\n",
       "      <td>{'eta0': 0.01, 'penalty': 'l1'}</td>\n",
       "      <td>0.584394</td>\n",
       "      <td>0.596678</td>\n",
       "      <td>0.590536</td>\n",
       "      <td>0.006142</td>\n",
       "      <td>2</td>\n",
       "    </tr>\n",
       "    <tr>\n",
       "      <td>3</td>\n",
       "      <td>8.126626</td>\n",
       "      <td>5.224497</td>\n",
       "      <td>0.069419</td>\n",
       "      <td>0.008151</td>\n",
       "      <td>0.01</td>\n",
       "      <td>l2</td>\n",
       "      <td>{'eta0': 0.01, 'penalty': 'l2'}</td>\n",
       "      <td>0.559044</td>\n",
       "      <td>0.580705</td>\n",
       "      <td>0.569875</td>\n",
       "      <td>0.010830</td>\n",
       "      <td>4</td>\n",
       "    </tr>\n",
       "    <tr>\n",
       "      <td>4</td>\n",
       "      <td>20.639744</td>\n",
       "      <td>12.905835</td>\n",
       "      <td>0.069855</td>\n",
       "      <td>0.006652</td>\n",
       "      <td>0.001</td>\n",
       "      <td>l1</td>\n",
       "      <td>{'eta0': 0.001, 'penalty': 'l1'}</td>\n",
       "      <td>0.547730</td>\n",
       "      <td>0.553001</td>\n",
       "      <td>0.550365</td>\n",
       "      <td>0.002636</td>\n",
       "      <td>6</td>\n",
       "    </tr>\n",
       "    <tr>\n",
       "      <td>5</td>\n",
       "      <td>9.965922</td>\n",
       "      <td>7.994643</td>\n",
       "      <td>0.067082</td>\n",
       "      <td>0.007217</td>\n",
       "      <td>0.001</td>\n",
       "      <td>l2</td>\n",
       "      <td>{'eta0': 0.001, 'penalty': 'l2'}</td>\n",
       "      <td>0.577759</td>\n",
       "      <td>0.551530</td>\n",
       "      <td>0.564645</td>\n",
       "      <td>0.013114</td>\n",
       "      <td>5</td>\n",
       "    </tr>\n",
       "  </tbody>\n",
       "</table>\n",
       "</div>"
      ],
      "text/plain": [
       "   mean_fit_time  std_fit_time  mean_score_time  std_score_time param_eta0  \\\n",
       "0      17.503570     14.749601         0.060827        0.003353        0.1   \n",
       "1      10.968307      9.735535         0.056890        0.001112        0.1   \n",
       "2      18.246402     12.090070         0.063375        0.002855       0.01   \n",
       "3       8.126626      5.224497         0.069419        0.008151       0.01   \n",
       "4      20.639744     12.905835         0.069855        0.006652      0.001   \n",
       "5       9.965922      7.994643         0.067082        0.007217      0.001   \n",
       "\n",
       "  param_penalty                            params  split0_test_score  \\\n",
       "0            l1    {'eta0': 0.1, 'penalty': 'l1'}           0.565089   \n",
       "1            l2    {'eta0': 0.1, 'penalty': 'l2'}           0.580356   \n",
       "2            l1   {'eta0': 0.01, 'penalty': 'l1'}           0.584394   \n",
       "3            l2   {'eta0': 0.01, 'penalty': 'l2'}           0.559044   \n",
       "4            l1  {'eta0': 0.001, 'penalty': 'l1'}           0.547730   \n",
       "5            l2  {'eta0': 0.001, 'penalty': 'l2'}           0.577759   \n",
       "\n",
       "   split1_test_score  mean_test_score  std_test_score  rank_test_score  \n",
       "0           0.581080         0.573085        0.007995                3  \n",
       "1           0.601722         0.591039        0.010683                1  \n",
       "2           0.596678         0.590536        0.006142                2  \n",
       "3           0.580705         0.569875        0.010830                4  \n",
       "4           0.553001         0.550365        0.002636                6  \n",
       "5           0.551530         0.564645        0.013114                5  "
      ]
     },
     "execution_count": 28,
     "metadata": {},
     "output_type": "execute_result"
    }
   ],
   "source": [
    "cv_result = pd.DataFrame(clf.cv_results_)\n",
    "cv_result"
   ]
  },
  {
   "cell_type": "code",
   "execution_count": 29,
   "metadata": {},
   "outputs": [
    {
     "data": {
      "text/plain": [
       "SGDClassifier(alpha=0.0001, average=False, class_weight=None,\n",
       "              early_stopping=False, epsilon=0.1, eta0=0.1, fit_intercept=True,\n",
       "              l1_ratio=0.15, learning_rate='optimal', loss='log', max_iter=1000,\n",
       "              n_iter_no_change=5, n_jobs=None, penalty='l2', power_t=0.5,\n",
       "              random_state=None, shuffle=True, tol=0.001,\n",
       "              validation_fraction=0.1, verbose=0, warm_start=False)"
      ]
     },
     "execution_count": 29,
     "metadata": {},
     "output_type": "execute_result"
    }
   ],
   "source": [
    "best_clf = clf.best_estimator_\n",
    "best_clf"
   ]
  },
  {
   "cell_type": "code",
   "execution_count": null,
   "metadata": {},
   "outputs": [],
   "source": []
  },
  {
   "cell_type": "code",
   "execution_count": 253,
   "metadata": {},
   "outputs": [],
   "source": [
    "# モデル再設定\n",
    "def SGDC_2(x_train, y_train, x_test):\n",
    "    sgdc2 = SGDClassifier(alpha=0.0001, average=False, class_weight=None,\n",
    "              early_stopping=False, epsilon=0.1, eta0=0.1, fit_intercept=True,\n",
    "              l1_ratio=0.15, learning_rate='optimal', loss='log', max_iter=1000,\n",
    "              n_iter_no_change=5, n_jobs=None, penalty='l2', power_t=0.5,\n",
    "              random_state=None, shuffle=True, tol=0.001,\n",
    "              validation_fraction=0.1, verbose=0, warm_start=False)\n",
    "    sgdc2.fit(x_train, y_train)\n",
    "    y_pred_log = sgdc2.predict_proba(x_test)[:,1]\n",
    "\n",
    "    return y_pred_log"
   ]
  },
  {
   "cell_type": "code",
   "execution_count": 254,
   "metadata": {},
   "outputs": [
    {
     "name": "stdout",
     "output_type": "stream",
     "text": [
      "TRAIN: [10000 10001 10002 ... 49997 49998 49999] TEST: [   0    1    2 ... 9997 9998 9999]\n",
      "auc_score =  0.7128505928564876\n",
      "TRAIN: [    0     1     2 ... 49997 49998 49999] TEST: [10000 10001 10002 ... 19997 19998 19999]\n",
      "auc_score =  0.7069743935622246\n",
      "TRAIN: [    0     1     2 ... 49997 49998 49999] TEST: [20000 20001 20002 ... 29997 29998 29999]\n",
      "auc_score =  0.7092270700010024\n",
      "TRAIN: [    0     1     2 ... 49997 49998 49999] TEST: [30000 30001 30002 ... 39997 39998 39999]\n",
      "auc_score =  0.7283966317435964\n",
      "TRAIN: [    0     1     2 ... 39997 39998 39999] TEST: [40000 40001 40002 ... 49997 49998 49999]\n",
      "auc_score =  0.7245067856944213\n"
     ]
    }
   ],
   "source": [
    "# KFoldで分割、標準化、SGDClassifierで推定、評価(正答率)まで\n",
    "\n",
    "cnt = 0\n",
    "outlist2 = {}\n",
    "\n",
    "for train_index, test_index in kf.split(X):\n",
    "    print(\"TRAIN:\", train_index, \"TEST:\", test_index)\n",
    "    X_train, X_test = X[train_index], X[test_index]\n",
    "    y_train, y_test = y[train_index], y[test_index]\n",
    "    \n",
    "    x_train_std, x_test_std = StandardScaler_func(X_train, X_test)\n",
    "    y_pred_svm = SGDC_2(x_train_std, y_train, x_test_std)\n",
    "    \n",
    "    output(y_test, y_pred_svm, cnt, outlist2)\n",
    "    cnt += 1"
   ]
  },
  {
   "cell_type": "code",
   "execution_count": 255,
   "metadata": {},
   "outputs": [
    {
     "name": "stdout",
     "output_type": "stream",
     "text": [
      "このモデルの平均auc_scoreは0.71639です。\n"
     ]
    }
   ],
   "source": [
    "# auc_score平均値\n",
    "tmp = []\n",
    "for i in range(len(outlist2)):\n",
    "    tmp.append(outlist2[i])\n",
    "ave = sum(tmp) / len(tmp)\n",
    "print(\"このモデルの平均auc_scoreは{:.5f}です。\".format(ave))\n",
    "result_dict['SGDC2'] = ave"
   ]
  },
  {
   "cell_type": "code",
   "execution_count": null,
   "metadata": {},
   "outputs": [],
   "source": []
  },
  {
   "cell_type": "markdown",
   "metadata": {},
   "source": [
    "# 【問題3】Kaggle Notebooksからの調査\n",
    "KaggleのNotebooksから様々なアイデアを見つけ出して、列挙してください。\n",
    "\n"
   ]
  },
  {
   "cell_type": "markdown",
   "metadata": {},
   "source": [
    "参考にしたnotebook\n",
    "\n",
    "[kaggle notebook](https://www.kaggle.com/willkoehrsen/intro-to-model-tuning-grid-and-random-search)\n",
    "\n",
    "[other site](https://hayashibe.jp/note/ml/dl/imporove_generalization)"
   ]
  },
  {
   "cell_type": "markdown",
   "metadata": {},
   "source": [
    "いろんなnotebookを見ていると、lightGBMを利用している人がかなり多い。\n",
    "パラメータチューニングのやり方など、情報も多いため、lightGBMを利用してみる。\n",
    "\n"
   ]
  },
  {
   "cell_type": "markdown",
   "metadata": {},
   "source": [
    "汎化誤差の種類と典型的な対策\n",
    "\n",
    "近似誤差: モデルの表現力が足りないことによる誤差\n",
    "パラメータを増やして自由度を上げる\n",
    "\n",
    "推定誤差: 偏った事例を使ったことによる誤差 -> 過学習\n",
    "訓練データを増やす，パラメータを減らして自由度を下げる\n",
    "\n",
    "最適化誤差: 目的関数を最小化するアルゴリズムによる誤差\n",
    "洗練された最適化アルゴリズムを使う\n",
    "\n",
    "推定誤差の低減\n",
    "以下の手法は組み合わせられる\n",
    "\n",
    "適切なネットワーク構造を選ぶ\n",
    "\n",
    "L2正則化\n",
    "パラメータが動く範囲を0周辺に制約する\n",
    "\n",
    "early stopping\n",
    "訓練データの誤差は基本的にはパラメータ更新のたびに下がり続ける\n",
    "しかし，開発データではそうでない場合が有り，そのような場合は更新を止める\n",
    "ただし局所解になってしまう可能性はある\n",
    "\n",
    "学習率減衰\n",
    "開発データで改善がみられない場合は更新率を下げる\n",
    "L2正則化と異なり，開発データでの誤差が増え始めたときにパラメータに制約がかかる\n",
    "\n",
    "パラメータ共有\n",
    "類似した目的をもった要素間で共有する\n",
    "RNNやCNNはパラメータを共有している一例\n",
    "複数のタスクの類似性を仮定して，複数タスクを同時学習するマルチタスク学習でもパラメータ共有がしばしば使われる\n",
    "\n",
    "パラメータ結束\n",
    "完全に同じにするのではなく，2つのパラメータが近くなるような制約を目的関数に追加する\n",
    "\n",
    "事前学習\n",
    "別の補助タスクで学習したパラメータを使う\n",
    "NLPではembeddingsをよく使う\n",
    "対話モデルの強化学習の前に，教師有り学習でのパラメータを使う例など\n",
    "\n",
    "アンサンブル\n",
    "committee machinesやmodel averagingなど\n",
    "バギング: 訓練データから複数の部分集合を作る\n",
    "\n",
    "dropout\n",
    "訓練時に状態変数の一部をランダムに0にする\n",
    "\n",
    "\n",
    "最適化誤差の低減\n",
    "\n",
    "ゼフィア初期化\n",
    "\n",
    "IRNN\n",
    "\n",
    "活性化関数\n",
    "sigmoidやtanhは出力が有界で計算が安定するが，微分係数が1未満なので勾配消失が起きやすい\n",
    "ReLUは正値入力には線形で微分係数は1なので，勾配消失が起きない\n",
    "maxoutなども\n",
    "\n",
    "カリキュラム学習\n",
    "簡単な事例から学習を始める\n",
    "\n",
    "正規化\n",
    "\n",
    "バッチ正規化\n",
    "\n",
    "各層の依存関係によって状態変数の値が大きく変化することを防ぐ\n",
    "大きな学習率でも勾配法が安定する\n",
    "ミニバッチ内の隠れ状態ベクトルの要素を平均0分散1となるよう変換する\n",
    "誤差逆伝播法の中でも平均分散を計算する操作も含めて微分を計算することがある\n",
    "\n",
    "層正規化\n",
    "\n",
    "ミニバッチを使わずに正規分布の入力を仮定して解析的に正規化する方法\n",
    "\n",
    "Adam"
   ]
  },
  {
   "cell_type": "markdown",
   "metadata": {},
   "source": [
    "[other site 2](https://amalog.hateblo.jp/entry/hyper-parameter-search)"
   ]
  },
  {
   "cell_type": "markdown",
   "metadata": {},
   "source": [
    "[other site 3](https://www.codexa.net/lightgbm-beginner/)"
   ]
  },
  {
   "cell_type": "code",
   "execution_count": 217,
   "metadata": {},
   "outputs": [],
   "source": [
    "# lightGBMの利用\n",
    "'''\n",
    "kaggleのやつをそのまま載せてみる。\n",
    "lgbの利用法を学ぶ。\n",
    "\n",
    "'''\n",
    "\n",
    "import lightgbm as lgb # import\n",
    "\n",
    "N_FOLDS = 5 # 分割数、最新だとn_splitとかになってるかも。\n",
    "MAX_EVALS = 5 # 繰り返し探索する数"
   ]
  },
  {
   "cell_type": "code",
   "execution_count": 66,
   "metadata": {},
   "outputs": [],
   "source": [
    "# Sample 16000 rows (10000 for training, 6000 for testing) \n",
    "# サンプル抜き出してる。パラメータチューニングもそうだし、最終的に全部使うことってほぼないから、全部で走らせる必要性は全くないかも。\n",
    "features = data.sample(n = 16000, random_state = 42)\n",
    "\n",
    "# Only numeric features\n",
    "# 同様に特徴量エンジニアリングする必要もないので、とりあえず数字の特徴量だけ抜き出し\n",
    "features = features.select_dtypes('number')\n",
    "\n",
    "# Extract the labels\n",
    "# 目的変数抽出と、特徴量からIDと目的変数を削除\n",
    "labels = np.array(features['TARGET'].astype(np.int32)).reshape((-1, ))\n",
    "features = features.drop(columns = ['TARGET', 'SK_ID_CURR'])\n",
    "\n",
    "# Split into training and testing data\n",
    "# train_test_split,10000と6000に\n",
    "T\n"
   ]
  },
  {
   "cell_type": "code",
   "execution_count": 54,
   "metadata": {},
   "outputs": [
    {
     "name": "stdout",
     "output_type": "stream",
     "text": [
      "Training features shape:  (10000, 104)\n",
      "Testing features shape:  (6000, 104)\n"
     ]
    }
   ],
   "source": [
    "# サイズ確認\n",
    "print(\"Training features shape: \", train_features.shape)\n",
    "print(\"Testing features shape: \", test_features.shape)"
   ]
  },
  {
   "cell_type": "code",
   "execution_count": null,
   "metadata": {},
   "outputs": [],
   "source": []
  },
  {
   "cell_type": "code",
   "execution_count": 55,
   "metadata": {},
   "outputs": [],
   "source": [
    "# Create a training and testing dataset\n",
    "# データセットを作成。これの必要性はわかってない\n",
    "train_set = lgb.Dataset(data = train_features, label = train_labels)\n",
    "test_set = lgb.Dataset(data = test_features, label = test_labels)"
   ]
  },
  {
   "cell_type": "code",
   "execution_count": 63,
   "metadata": {},
   "outputs": [
    {
     "name": "stdout",
     "output_type": "stream",
     "text": [
      "{'boosting_type': 'gbdt', 'class_weight': None, 'colsample_bytree': 1.0, 'importance_type': 'split', 'learning_rate': 0.1, 'max_depth': -1, 'min_child_samples': 20, 'min_child_weight': 0.001, 'min_split_gain': 0.0, 'n_estimators': 100, 'n_jobs': -1, 'num_leaves': 31, 'objective': None, 'random_state': None, 'reg_alpha': 0.0, 'reg_lambda': 0.0, 'silent': True, 'subsample': 1.0, 'subsample_for_bin': 200000, 'subsample_freq': 0}\n"
     ]
    }
   ],
   "source": [
    "# Get default hyperparameters\n",
    "# modelを設定して、デフォルトのハイパーパラメータを取得\n",
    "model = lgb.LGBMClassifier()\n",
    "default_param = model.get_params()\n",
    "print(default_param)\n",
    "\n",
    "# Remove the number of estimators because we set this to 10000 in the cv call\n",
    "# n_estimatorsは削除。別名num_boost_round, num_iterations, n_iterなど。繰り返す回数の指定。\n",
    "# 正確にはブースティングを行う決定木の数？\n",
    "# 今回は１００００を指定して、early_stoppingで100を指定している。\n",
    "del default_param['n_estimators']\n",
    "\n",
    "# Cross validation with early stopping\n",
    "# earlystopping設定して、クロスバリデーションを行う。metrics評価方法はauc。\n",
    "cv_results = lgb.cv(default_param, train_set, num_boost_round = 10000, early_stopping_rounds = 100, \n",
    "                    metrics = 'auc', nfold = N_FOLDS, seed = 42)"
   ]
  },
  {
   "cell_type": "code",
   "execution_count": 65,
   "metadata": {},
   "outputs": [
    {
     "name": "stdout",
     "output_type": "stream",
     "text": [
      "The maximum validation ROC AUC was: 0.71266 with a standard deviation of 0.02191.\n",
      "The optimal number of boosting rounds (estimators) was 25.\n"
     ]
    }
   ],
   "source": [
    "# 結果\n",
    "print('The maximum validation ROC AUC was: {:.5f} with a standard deviation of {:.5f}.'.format(cv_results['auc-mean'][-1], cv_results['auc-stdv'][-1]))\n",
    "print('The optimal number of boosting rounds (estimators) was {}.'.format(len(cv_results['auc-mean'])))"
   ]
  },
  {
   "cell_type": "code",
   "execution_count": 59,
   "metadata": {},
   "outputs": [
    {
     "name": "stdout",
     "output_type": "stream",
     "text": [
      "The baseline model scores 0.72831 ROC AUC on the test set.\n"
     ]
    }
   ],
   "source": [
    "# Optimal number of esimators found in cv\n",
    "# 最適なround数は25だったので、それを設定\n",
    "model.n_estimators = len(cv_results['auc-mean'])\n",
    "\n",
    "# Train and make predicions with model\n",
    "# モデルを使った訓練と予測\n",
    "model.fit(train_features, train_labels)\n",
    "preds = model.predict_proba(test_features)[:, 1]\n",
    "baseline_auc = roc_auc_score(test_labels, preds)\n",
    "\n",
    "print('The baseline model scores {:.5f} ROC AUC on the test set.'.format(baseline_auc))\n"
   ]
  },
  {
   "cell_type": "markdown",
   "metadata": {},
   "source": [
    "目的関数はハイパーパラメータを取り込んで、スコアを表す値を出力します。伝統的に最適化では、これは最小化するスコアですが、ここでは、もちろん最大化したいROC AUCがスコアとなります。後にベイズ最適化に入ると、最小化する値を使用しなければならないので、1-ROC AUCをスコアとして取ることができます。目的関数の途中で何が発生するかは問題によって異なりますが、今回の問題では、指定したモデルのハイパーパラメータを用いてクロスバリデーションを行い、クロスバリデーションROC AUCを取得します。そして、このスコアを用いて、最適なモデルハイパーパラメータの値を選択します。\n",
    "\n",
    "最大化する値を返すだけでなく、目的関数はハイパーパラメータと探索の繰り返しを返します。これらの結果から、検索中に発生したことをさかのぼって調べることができます。以下のコードは、グリッド検索とランダム検索の両方に使用できる単純な目的関数を実装しています。"
   ]
  },
  {
   "cell_type": "code",
   "execution_count": 67,
   "metadata": {},
   "outputs": [],
   "source": [
    "def objective(hyperparameters, iteration):\n",
    "    \"\"\"Objective function for grid and random search. Returns\n",
    "       the cross validation score from a set of hyperparameters.\"\"\"\n",
    "    \n",
    "    # Number of estimators will be found using early stopping\n",
    "    # earltstoppingするのでestimators一旦削除\n",
    "    if 'n_estimators' in hyperparameters.keys():\n",
    "        del hyperparameters['n_estimators']\n",
    "    \n",
    "    # Perform n_folds cross validation\n",
    "    #n_folds でクロスバリデーション実行\n",
    "    cv_results = lgb.cv(hyperparameters, train_set, num_boost_round = 10000, nfold = N_FOLDS, \n",
    "                        early_stopping_rounds = 100, metrics = 'auc', seed = 42)\n",
    "    \n",
    "    # results to retun\n",
    "    # リザルトを返す\n",
    "    score = cv_results['auc-mean'][-1]\n",
    "    estimators = len(cv_results['auc-mean'])\n",
    "    hyperparameters['n_estimators'] = estimators \n",
    "    \n",
    "    return [score, hyperparameters, iteration]"
   ]
  },
  {
   "cell_type": "code",
   "execution_count": 75,
   "metadata": {},
   "outputs": [
    {
     "name": "stdout",
     "output_type": "stream",
     "text": [
      "The cross-validation ROC AUC was 0.71266.\n",
      "{'boosting_type': 'gbdt', 'class_weight': None, 'colsample_bytree': 1.0, 'importance_type': 'split', 'learning_rate': 0.1, 'max_depth': -1, 'min_child_samples': 20, 'min_child_weight': 0.001, 'min_split_gain': 0.0, 'n_jobs': -1, 'num_leaves': 31, 'objective': None, 'random_state': None, 'reg_alpha': 0.0, 'reg_lambda': 0.0, 'silent': True, 'subsample': 1.0, 'subsample_for_bin': 200000, 'subsample_freq': 0, 'n_estimators': 25}\n",
      "1\n"
     ]
    }
   ],
   "source": [
    "\n",
    "score, params, iteration = objective(default_param, 1)\n",
    "\n",
    "print('The cross-validation ROC AUC was {:.5f}.'.format(score))\n"
   ]
  },
  {
   "cell_type": "markdown",
   "metadata": {},
   "source": [
    "ここまでで、パラメータを入れてクロスバリデーションを行う関数が完成。\n",
    "続いてハイパーパラメータを確認していく。\n"
   ]
  },
  {
   "cell_type": "code",
   "execution_count": 72,
   "metadata": {
    "scrolled": true
   },
   "outputs": [
    {
     "data": {
      "text/plain": [
       "{'boosting_type': 'gbdt',\n",
       " 'class_weight': None,\n",
       " 'colsample_bytree': 1.0,\n",
       " 'importance_type': 'split',\n",
       " 'learning_rate': 0.1,\n",
       " 'max_depth': -1,\n",
       " 'min_child_samples': 20,\n",
       " 'min_child_weight': 0.001,\n",
       " 'min_split_gain': 0.0,\n",
       " 'n_estimators': 100,\n",
       " 'n_jobs': -1,\n",
       " 'num_leaves': 31,\n",
       " 'objective': None,\n",
       " 'random_state': None,\n",
       " 'reg_alpha': 0.0,\n",
       " 'reg_lambda': 0.0,\n",
       " 'silent': True,\n",
       " 'subsample': 1.0,\n",
       " 'subsample_for_bin': 200000,\n",
       " 'subsample_freq': 0}"
      ]
     },
     "execution_count": 72,
     "metadata": {},
     "output_type": "execute_result"
    }
   ],
   "source": [
    "# Create a default model\n",
    "model = lgb.LGBMModel()\n",
    "model.get_params()"
   ]
  },
  {
   "cell_type": "markdown",
   "metadata": {},
   "source": [
    "これらの中には、サイレント、客観的、ランダム状態、n_jobs のように調整する必要のないものもあり、おそらく最も重要なハイパーパラメータである、訓練された個々の学習者の数である n_estimators (num_boost_rounds や反復回数とも呼ばれる) を決定するために、早期停止を使用します。例えば、min_child_samplesとmin_child_weightは、葉の観測要件の最小値を調整することで、個々の決定木の複雑さを制限するので、我々は1つだけ調整します。しかし、最適化すべきハイパーパラメータはまだたくさんあるので、10個のハイパーパラメータを選んで調整します。\n",
    "\n",
    "ハイパーパラメータのグリッドを選択することは、おそらくハイパーパラメータのチューニングの中で最も難しい部分です。さらに，ハイパーパラメータはお互いに複雑な相互作用を持っているので，一度に1つずつチューニングするだけではうまくいきません．\n",
    "\n",
    "モデルを使った経験があれば，ハイパーパラメタの最適値が一般的にどこにあるのか，あるいは良い探索空間とは何かを知っているかもしれません．しかし、あまり経験がない場合は、単純に広い探索空間を定義して、どこかに最良の値があることを期待することができます。通常、最初にメソッドを使うときは、デフォルト値を中心とした広い探索空間を定義します。そして、ハイパーパラメータのいくつかの値の方がうまくいく傾向があることがわかったら、その値を中心に検索を集中させます。\n",
    "\n",
    "10個のハイパーパラメータの完全なグリッドを以下に定義します。ディショナリーの各値はリストでなければならないので、各ハイパーパラメータの値の範囲を定義するために、range, np.linspace, np.logspaceを組み合わせたリストを使っています。"
   ]
  },
  {
   "cell_type": "code",
   "execution_count": 73,
   "metadata": {},
   "outputs": [],
   "source": [
    "# Hyperparameter grid\n",
    "param_grid = {\n",
    "    'boosting_type': ['gbdt', 'goss', 'dart'],\n",
    "    'num_leaves': list(range(20, 150)),\n",
    "    'learning_rate': list(np.logspace(np.log10(0.005), np.log10(0.5), base = 10, num = 1000)),\n",
    "    'subsample_for_bin': list(range(20000, 300000, 20000)),\n",
    "    'min_child_samples': list(range(20, 500, 5)),\n",
    "    'reg_alpha': list(np.linspace(0, 1)),\n",
    "    'reg_lambda': list(np.linspace(0, 1)),\n",
    "    'colsample_bytree': list(np.linspace(0.6, 1, 10)),\n",
    "    'subsample': list(np.linspace(0.5, 1, 100)),\n",
    "    'is_unbalance': [True, False]\n",
    "}"
   ]
  },
  {
   "cell_type": "markdown",
   "metadata": {},
   "source": [
    "注意すべき点の1つは、boosting_typeがgossの場合、サブサンプル(これは、確率的勾配ブースティングとして知られている手法で、学習データの一部の行のみで学習することを意味します)を使用できないことです。したがって、boosting_type=gossの場合、サブサンプルを1.0（つまり、すべての行を使用する）に設定するロジックがアルゴリズムに必要になります。以下の例のように、ハイパーパラメータのセットをランダムに選択し、ブースティング・タイプが \"goss \"である場合、サブサンプルを1.0に設定します。"
   ]
  },
  {
   "cell_type": "code",
   "execution_count": 85,
   "metadata": {},
   "outputs": [
    {
     "name": "stdout",
     "output_type": "stream",
     "text": [
      "Boosting type:  goss\n",
      "Subsample ratio:  1.0\n"
     ]
    }
   ],
   "source": [
    "import random\n",
    "\n",
    "random.seed(50)\n",
    "\n",
    "# Randomly sample a boosting type\n",
    "boosting_type = random.sample(param_grid['boosting_type'], 1)[0]\n",
    "\n",
    "# Set subsample depending on boosting type\n",
    "subsample = 1.0 if boosting_type == 'goss' else random.sample(param_grid['subsample'], 1)[0]\n",
    "\n",
    "print('Boosting type: ', boosting_type)\n",
    "print('Subsample ratio: ', subsample)"
   ]
  },
  {
   "cell_type": "code",
   "execution_count": 82,
   "metadata": {},
   "outputs": [
    {
     "data": {
      "image/png": "[encoded data removed]",
      "text/plain": [
       "<Figure size 432x288 with 1 Axes>"
      ]
     },
     "metadata": {
      "needs_background": "light"
     },
     "output_type": "display_data"
    }
   ],
   "source": [
    "import matplotlib.pyplot as plt\n",
    "import seaborn as sns\n",
    "\n",
    "%matplotlib inline\n",
    "\n",
    "# Learning rate histogram\n",
    "plt.hist(param_grid['learning_rate'], bins = 20, color = 'r', edgecolor = 'k');\n",
    "plt.xlabel('Learning Rate', size = 14); plt.ylabel('Count', size = 14); plt.title('Learning Rate Distribution', size = 18);"
   ]
  },
  {
   "cell_type": "code",
   "execution_count": 84,
   "metadata": {},
   "outputs": [
    {
     "name": "stdout",
     "output_type": "stream",
     "text": [
      "There are 499 values between 0.005 and 0.05\n",
      "There are 499 values between 0.05 and 0.5\n"
     ]
    }
   ],
   "source": [
    "a = 0\n",
    "b = 0\n",
    "\n",
    "# Check number of values in each category\n",
    "for x in param_grid['learning_rate']:\n",
    "    # Check values\n",
    "    if x >= 0.005 and x < 0.05:\n",
    "        a += 1\n",
    "    elif x >= 0.05 and x < 0.5:\n",
    "        b += 1\n",
    "\n",
    "print('There are {} values between 0.005 and 0.05'.format(a))\n",
    "print('There are {} values between 0.05 and 0.5'.format(b))"
   ]
  },
  {
   "cell_type": "code",
   "execution_count": 86,
   "metadata": {},
   "outputs": [],
   "source": [
    "import itertools\n",
    "\n",
    "def grid_search(param_grid, max_evals = MAX_EVALS):\n",
    "    \"\"\"Grid search algorithm (with limit on max evals)\"\"\"\n",
    "    \n",
    "    # Dataframe to store results\n",
    "    # returnするDF\n",
    "    results = pd.DataFrame(columns = ['score', 'params', 'iteration'],\n",
    "                              index = list(range(MAX_EVALS)))\n",
    "    \n",
    "    # https://codereview.stackexchange.com/questions/171173/list-all-possible-permutations-from-a-python-dictionary-of-lists\n",
    "    \n",
    "    keys, values = zip(*param_grid.items())\n",
    "    \n",
    "    i = 0\n",
    "    \n",
    "    # Iterate through every possible combination of hyperparameters\n",
    "    for v in itertools.product(*values):\n",
    "        \n",
    "        # Create a hyperparameter dictionary\n",
    "        hyperparameters = dict(zip(keys, v))\n",
    "        \n",
    "        # Set the subsample ratio accounting for boosting type\n",
    "        hyperparameters['subsample'] = 1.0 if hyperparameters['boosting_type'] == 'goss' else hyperparameters['subsample']\n",
    "        \n",
    "        # Evalute the hyperparameters\n",
    "        eval_results = objective(hyperparameters, i)\n",
    "        \n",
    "        results.loc[i, :] = eval_results\n",
    "        \n",
    "        i += 1\n",
    "        \n",
    "        # Normally would not limit iterations\n",
    "        if i > MAX_EVALS:\n",
    "            break\n",
    "       \n",
    "    # Sort with best score on top\n",
    "    results.sort_values('score', ascending = False, inplace = True)\n",
    "    results.reset_index(inplace = True)\n",
    "    \n",
    "    return results    "
   ]
  },
  {
   "cell_type": "code",
   "execution_count": 87,
   "metadata": {},
   "outputs": [
    {
     "name": "stdout",
     "output_type": "stream",
     "text": [
      "The best validation score was 0.72800\n",
      "\n",
      "The best hyperparameters were:\n",
      "{'boosting_type': 'gbdt',\n",
      " 'colsample_bytree': 0.6,\n",
      " 'is_unbalance': True,\n",
      " 'learning_rate': 0.004999999999999999,\n",
      " 'min_child_samples': 20,\n",
      " 'n_estimators': 621,\n",
      " 'num_leaves': 20,\n",
      " 'reg_alpha': 0.0,\n",
      " 'reg_lambda': 0.0,\n",
      " 'subsample': 0.5,\n",
      " 'subsample_for_bin': 20000}\n"
     ]
    }
   ],
   "source": [
    "grid_results = grid_search(param_grid)\n",
    "\n",
    "print('The best validation score was {:.5f}'.format(grid_results.loc[0, 'score']))\n",
    "print('\\nThe best hyperparameters were:')\n",
    "\n",
    "import pprint\n",
    "pprint.pprint(grid_results.loc[0, 'params'])"
   ]
  },
  {
   "cell_type": "code",
   "execution_count": 88,
   "metadata": {},
   "outputs": [
    {
     "name": "stdout",
     "output_type": "stream",
     "text": [
      "The best model from grid search scores 0.73432 ROC AUC on the test set.\n"
     ]
    }
   ],
   "source": [
    "# Get the best parameters\n",
    "grid_search_params = grid_results.loc[0, 'params']\n",
    "\n",
    "# Create, train, test model\n",
    "model = lgb.LGBMClassifier(**grid_search_params, random_state=42)\n",
    "model.fit(train_features, train_labels)\n",
    "\n",
    "preds = model.predict_proba(test_features)[:, 1]\n",
    "\n",
    "print('The best model from grid search scores {:.5f} ROC AUC on the test set.'.format(roc_auc_score(test_labels, preds)))"
   ]
  },
  {
   "cell_type": "markdown",
   "metadata": {},
   "source": [
    "もしこれをデータセット全体で実行したいのであれば、これらの関数を自由にスクリプトに入れてください。しかし、非常に小さなハイパーパラメータグリッドを持っていない限り、グリッド検索を使用しないことをお勧めします。後で、上記で使用したのと同じ小さなデータのサブセットでグリッド検索とランダム検索を1000回繰り返した結果を見てみましょう。私は、完全なデータ上でグリッド検索の任意の形式を実行しようとしていません（そして、おそらくこの方法を試すことはありません）。"
   ]
  },
  {
   "cell_type": "markdown",
   "metadata": {},
   "source": [
    "### グリッド検索でクロスバリデーションを行うのは効率が悪い？"
   ]
  },
  {
   "cell_type": "markdown",
   "metadata": {},
   "source": [
    "ランダム検索は、グリッド検索に比べて驚くほど効率的です。グリッド検索は最終的にハイパーパラメータの最適値を見つけますが（それらがグリッド内にあると仮定して）、ランダム検索は通常、はるかに少ない反復回数で「十分に近い」値を見つけることができます。グリッド検索は、グリッド内のすべての組み合わせを評価しなければならないため、ハイパーパラメータ検索空間の有望でない領域を評価するのに多くの時間を費やしてしまいます。対照的にランダム探索は，探索空間を探索するのが得意なので，通常ははるかに少ない反復回数でハイパーパラメータの良い組み合わせを見つけることができます．\n",
    "\n",
    "この記事で紹介されているように，ランダム探索はその有効性から，おそらく最初に試してみるべきハイパーパラメータ最適化手法です．これは非情報化（過去の評価結果に依存しない）手法であるにもかかわらず、ランダム検索は通常、デフォルトよりも良い値を見つけることができ、実行も簡単です。\n",
    "\n",
    "ランダム検索はアルゴリズムとしても考えることができます：グリッドから次のハイパーパラメータのセットをランダムに選択します。以下のように、各ハイパーパラメータに対して1つのランダムな値を選択することで、ハイパーパラメータの辞書を作成できます（ここでもサブサンプリングを考慮に入れています）。"
   ]
  },
  {
   "cell_type": "code",
   "execution_count": 91,
   "metadata": {},
   "outputs": [
    {
     "data": {
      "text/plain": [
       "{'boosting_type': 'goss',\n",
       " 'num_leaves': 88,\n",
       " 'learning_rate': 0.027778881111994384,\n",
       " 'subsample_for_bin': 220000,\n",
       " 'min_child_samples': 175,\n",
       " 'reg_alpha': 0.8979591836734693,\n",
       " 'reg_lambda': 0.6122448979591836,\n",
       " 'colsample_bytree': 0.8222222222222222,\n",
       " 'subsample': 1.0,\n",
       " 'is_unbalance': False}"
      ]
     },
     "execution_count": 91,
     "metadata": {},
     "output_type": "execute_result"
    }
   ],
   "source": [
    "random.seed(50)\n",
    "\n",
    "# Randomly sample from dictionary\n",
    "random_params = {k: random.sample(v, 1)[0] for k, v in param_grid.items()}\n",
    "# Deal with subsample ratio\n",
    "random_params['subsample'] = 1.0 if random_params['boosting_type'] == 'goss' else random_params['subsample']\n",
    "\n",
    "random_params"
   ]
  },
  {
   "cell_type": "markdown",
   "metadata": {},
   "source": [
    "次に、random_search関数を定義します。これは、次のハイパーパラメータ値を選択するために使用される方法を除いて、grid_searchと同じ一般的な構造をとります。さらに、ランダム検索は常に検索の繰り返し回数に制限を設けて実行されます。"
   ]
  },
  {
   "cell_type": "code",
   "execution_count": 93,
   "metadata": {},
   "outputs": [],
   "source": [
    "def random_search(param_grid, max_evals = MAX_EVALS):\n",
    "    \"\"\"Random search for hyperparameter optimization\"\"\"\n",
    "    \n",
    "    # Dataframe for results\n",
    "    results = pd.DataFrame(columns = ['score', 'params', 'iteration'],\n",
    "                                  index = list(range(MAX_EVALS)))\n",
    "    \n",
    "    # Keep searching until reach max evaluations\n",
    "    for i in range(MAX_EVALS):\n",
    "        \n",
    "        # Choose random hyperparameters\n",
    "        hyperparameters = {k: random.sample(v, 1)[0] for k, v in param_grid.items()}\n",
    "        hyperparameters['subsample'] = 1.0 if hyperparameters['boosting_type'] == 'goss' else hyperparameters['subsample']\n",
    "\n",
    "        # Evaluate randomly selected hyperparameters\n",
    "        eval_results = objective(hyperparameters, i)\n",
    "        \n",
    "        results.loc[i, :] = eval_results\n",
    "    \n",
    "    # Sort with best score on top\n",
    "    results.sort_values('score', ascending = False, inplace = True)\n",
    "    results.reset_index(inplace = True)\n",
    "    return results "
   ]
  },
  {
   "cell_type": "markdown",
   "metadata": {},
   "source": [
    "結論\n",
    "モデルチューニングは、特定の問題に対して最適な機械学習モデルのハイパーパラメータを見つけるプロセスである。ランダム検索とグリッド検索は、グリッド領域からハイパーパラメータ値を選択して検索するハイパーパラメータチューニングのための2つの均一化された方法である。ハイパーパラメータ・チューニングの4つの部分は以下の通りである．\n",
    "\n",
    "・objective function：ハイパーパラメータを取り込み，最大化または最小化したいクロスバリデーションスコアを返す．\n",
    "\n",
    "・Domain of hyperparameters:検索したい値\n",
    "\n",
    "・Algorithm: 目的関数で評価する次のハイパーパラメータ値を選択する方法\n",
    "\n",
    "・result：ハイパーパラメータの履歴とクロスバリデーションのスコア\n",
    "\n",
    "これらの4つの部分は、グリッド検索とランダム検索、およびベイズ最適化（自動ハイパーパラメタチューニングの一形態）に適用されます。このノートでは，ランダム探索とグリッド探索の両方を縮小したデータセットに実装し，その結果を検証し，最適なハイパーパラメータを（このカーネルからの）完全なデータセットに変換してみました．ちょっとした注意点として、クロスバリデーションを使ってハイパーパラメータを訓練データに合わせて調整していることを覚えておくことが重要です。小さいデータセットから得られた最適なハイパーパラメータは、完全なデータセットではそれほどうまく機能しませんでしたが、この2つのチューニング方法の背後にある考え方を見ることができました。さらに、ここで開発された関数は、勾配ブーストマシンだけでなく、あらゆるデータセットや機械学習モデルに適用することができます。\n",
    "\n",
    "ランダム探索は実際にはかなりうまくいくことがわかったが（探索領域を探索するのが得意なので）、過去の評価結果を次のハイパーパラメータ値の選択に利用しないので、推論的な手法とは言えない。これまで見てきたように、目的関数の評価には時間がかかるため、過去の評価結果を使って、目的関数で次に試すべき最適な値を推論する方が良いでしょう。今後の作業では、ベイズ最適化を使用した自動化されたハイパーパラメータチューニングの実装を検討します。\n",
    "\n",
    "モデルの性能はハイパーパラメータ値の選択に大きく依存するため、ハイパーパラメータのチューニングは機械学習パイプラインの重要な部分です。ランダム探索とグリッド探索は、モデルのチューニングを開始するための2つの適切な方法であり（少なくとも手動でチューニングするよりは優れている）、データサイエンスのスキルセットに持っておくべき重要なツールである。ご愛読ありがとうございました。\n",
    "\n",
    "いつものように、私はフィードバックや建設的な批判を歓迎します。私は[Towards Data Science](https://medium.com/@williamkoehrsen/)\n",
    "に執筆しており、Twitterでは [twitter](https://twitter.com/koehrsen_will) で連絡を取ることができます。\n",
    "\n",
    "遺言"
   ]
  },
  {
   "cell_type": "markdown",
   "metadata": {},
   "source": [
    "[other site 4](https://aws.amazon.com/jp/blogs/news/amazon-sagemaker-automatic-model-tuning-now-supports-random-search-and-hyperparameter-scaling/)\n",
    "\n",
    "[other site 5](https://medium.com/@yuyasugano/%E3%83%99%E3%82%A4%E3%82%BA%E6%9C%80%E9%81%A9%E5%8C%96-optuna-with-sagemaker-%E3%83%81%E3%83%A5%E3%83%BC%E3%83%8B%E3%83%B3%E3%82%B0%E3%81%A8%E8%A9%95%E4%BE%A1%E3%82%92%E6%99%82%E7%9F%AD%E3%81%97%E3%81%A6%E5%8A%B9%E7%8E%87%E5%8C%96-afa203216ea9)"
   ]
  },
  {
   "cell_type": "markdown",
   "metadata": {},
   "source": [
    "○結論\n",
    "* 機械学習モデルはlgb\n",
    "* ハイパーパラメータ探索はベイズ最適化(optuna)を使う\n"
   ]
  },
  {
   "cell_type": "code",
   "execution_count": 112,
   "metadata": {},
   "outputs": [
    {
     "name": "stdout",
     "output_type": "stream",
     "text": [
      "x: 4.511, score: 6.305\n"
     ]
    },
    {
     "name": "stderr",
     "output_type": "stream",
     "text": [
      "[I 2020-08-05 15:21:38,805] Trial 0 finished with value: 6.304591160895867 and parameters: {'x': 4.510894494178492}. Best is trial 0 with value: 6.304591160895867.\n"
     ]
    },
    {
     "name": "stdout",
     "output_type": "stream",
     "text": [
      "x: 4.021, score: 4.083\n"
     ]
    },
    {
     "name": "stderr",
     "output_type": "stream",
     "text": [
      "[I 2020-08-05 15:21:38,811] Trial 1 finished with value: 4.082530432536757 and parameters: {'x': 4.020527265972117}. Best is trial 1 with value: 4.082530432536757.\n"
     ]
    },
    {
     "name": "stdout",
     "output_type": "stream",
     "text": [
      "x: 2.036, score: 0.001\n"
     ]
    },
    {
     "name": "stderr",
     "output_type": "stream",
     "text": [
      "[I 2020-08-05 15:21:38,817] Trial 2 finished with value: 0.0012617285986140647 and parameters: {'x': 2.0355208192278003}. Best is trial 2 with value: 0.0012617285986140647.\n"
     ]
    },
    {
     "name": "stdout",
     "output_type": "stream",
     "text": [
      "x: 0.350, score: 2.723\n"
     ]
    },
    {
     "name": "stderr",
     "output_type": "stream",
     "text": [
      "[I 2020-08-05 15:21:38,821] Trial 3 finished with value: 2.723264257421527 and parameters: {'x': 0.3497684230928293}. Best is trial 2 with value: 0.0012617285986140647.\n"
     ]
    },
    {
     "name": "stdout",
     "output_type": "stream",
     "text": [
      "x: 3.333, score: 1.776\n"
     ]
    },
    {
     "name": "stderr",
     "output_type": "stream",
     "text": [
      "[I 2020-08-05 15:21:38,825] Trial 4 finished with value: 1.7758807282068203 and parameters: {'x': 3.332621749862586}. Best is trial 2 with value: 0.0012617285986140647.\n"
     ]
    },
    {
     "name": "stdout",
     "output_type": "stream",
     "text": [
      "x: 4.998, score: 8.990\n"
     ]
    },
    {
     "name": "stderr",
     "output_type": "stream",
     "text": [
      "[I 2020-08-05 15:21:38,828] Trial 5 finished with value: 8.989733639254323 and parameters: {'x': 4.9982884516427575}. Best is trial 2 with value: 0.0012617285986140647.\n"
     ]
    },
    {
     "name": "stdout",
     "output_type": "stream",
     "text": [
      "x: 4.483, score: 6.164\n"
     ]
    },
    {
     "name": "stderr",
     "output_type": "stream",
     "text": [
      "[I 2020-08-05 15:21:38,831] Trial 6 finished with value: 6.163694121227721 and parameters: {'x': 4.482678819587367}. Best is trial 2 with value: 0.0012617285986140647.\n"
     ]
    },
    {
     "name": "stdout",
     "output_type": "stream",
     "text": [
      "x: 5.706, score: 13.733\n"
     ]
    },
    {
     "name": "stderr",
     "output_type": "stream",
     "text": [
      "[I 2020-08-05 15:21:38,835] Trial 7 finished with value: 13.733140621890605 and parameters: {'x': 5.705825228190154}. Best is trial 2 with value: 0.0012617285986140647.\n"
     ]
    },
    {
     "name": "stdout",
     "output_type": "stream",
     "text": [
      "x: -0.172, score: 4.717\n"
     ]
    },
    {
     "name": "stderr",
     "output_type": "stream",
     "text": [
      "[I 2020-08-05 15:21:38,838] Trial 8 finished with value: 4.717421894584388 and parameters: {'x': -0.1719626825947973}. Best is trial 2 with value: 0.0012617285986140647.\n"
     ]
    },
    {
     "name": "stdout",
     "output_type": "stream",
     "text": [
      "x: 6.751, score: 22.568\n"
     ]
    },
    {
     "name": "stderr",
     "output_type": "stream",
     "text": [
      "[I 2020-08-05 15:21:38,841] Trial 9 finished with value: 22.567915196547762 and parameters: {'x': 6.750569986490859}. Best is trial 2 with value: 0.0012617285986140647.\n"
     ]
    },
    {
     "name": "stdout",
     "output_type": "stream",
     "text": [
      "x: -5.201, score: 51.851\n"
     ]
    },
    {
     "name": "stderr",
     "output_type": "stream",
     "text": [
      "[I 2020-08-05 15:21:38,845] Trial 10 finished with value: 51.85080402305171 and parameters: {'x': -5.200750240291057}. Best is trial 2 with value: 0.0012617285986140647.\n"
     ]
    },
    {
     "name": "stdout",
     "output_type": "stream",
     "text": [
      "x: 9.694, score: 59.203\n"
     ]
    },
    {
     "name": "stderr",
     "output_type": "stream",
     "text": [
      "[I 2020-08-05 15:21:38,849] Trial 11 finished with value: 59.20304435389547 and parameters: {'x': 9.69435145765356}. Best is trial 2 with value: 0.0012617285986140647.\n"
     ]
    },
    {
     "name": "stdout",
     "output_type": "stream",
     "text": [
      "x: -0.103, score: 4.424\n"
     ]
    },
    {
     "name": "stderr",
     "output_type": "stream",
     "text": [
      "[I 2020-08-05 15:21:38,853] Trial 12 finished with value: 4.423659430746706 and parameters: {'x': -0.10324973095129764}. Best is trial 2 with value: 0.0012617285986140647.\n"
     ]
    },
    {
     "name": "stdout",
     "output_type": "stream",
     "text": [
      "x: -3.636, score: 31.761\n"
     ]
    },
    {
     "name": "stderr",
     "output_type": "stream",
     "text": [
      "[I 2020-08-05 15:21:38,857] Trial 13 finished with value: 31.76108035631113 and parameters: {'x': -3.6356969716540943}. Best is trial 2 with value: 0.0012617285986140647.\n"
     ]
    },
    {
     "name": "stdout",
     "output_type": "stream",
     "text": [
      "x: 9.907, score: 62.522\n"
     ]
    },
    {
     "name": "stderr",
     "output_type": "stream",
     "text": [
      "[I 2020-08-05 15:21:38,861] Trial 14 finished with value: 62.52226949424053 and parameters: {'x': 9.907102471464533}. Best is trial 2 with value: 0.0012617285986140647.\n"
     ]
    },
    {
     "name": "stdout",
     "output_type": "stream",
     "text": [
      "x: -9.844, score: 140.270\n"
     ]
    },
    {
     "name": "stderr",
     "output_type": "stream",
     "text": [
      "[I 2020-08-05 15:21:38,864] Trial 15 finished with value: 140.27016025783465 and parameters: {'x': -9.843570418494359}. Best is trial 2 with value: 0.0012617285986140647.\n"
     ]
    },
    {
     "name": "stdout",
     "output_type": "stream",
     "text": [
      "x: 1.840, score: 0.026\n"
     ]
    },
    {
     "name": "stderr",
     "output_type": "stream",
     "text": [
      "[I 2020-08-05 15:21:38,868] Trial 16 finished with value: 0.025630922940917233 and parameters: {'x': 1.8399033949737933}. Best is trial 2 with value: 0.0012617285986140647.\n"
     ]
    },
    {
     "name": "stdout",
     "output_type": "stream",
     "text": [
      "x: -2.659, score: 21.707\n"
     ]
    },
    {
     "name": "stderr",
     "output_type": "stream",
     "text": [
      "[I 2020-08-05 15:21:38,872] Trial 17 finished with value: 21.707075679633704 and parameters: {'x': -2.659085283575919}. Best is trial 2 with value: 0.0012617285986140647.\n"
     ]
    },
    {
     "name": "stdout",
     "output_type": "stream",
     "text": [
      "x: 1.768, score: 0.054\n"
     ]
    },
    {
     "name": "stderr",
     "output_type": "stream",
     "text": [
      "[I 2020-08-05 15:21:38,876] Trial 18 finished with value: 0.05371569938221425 and parameters: {'x': 1.7682335240328872}. Best is trial 2 with value: 0.0012617285986140647.\n"
     ]
    },
    {
     "name": "stdout",
     "output_type": "stream",
     "text": [
      "x: 7.881, score: 34.587\n"
     ]
    },
    {
     "name": "stderr",
     "output_type": "stream",
     "text": [
      "[I 2020-08-05 15:21:38,880] Trial 19 finished with value: 34.58683512794408 and parameters: {'x': 7.881057313778202}. Best is trial 2 with value: 0.0012617285986140647.\n"
     ]
    },
    {
     "name": "stdout",
     "output_type": "stream",
     "text": [
      "x: -2.368, score: 19.078\n"
     ]
    },
    {
     "name": "stderr",
     "output_type": "stream",
     "text": [
      "[I 2020-08-05 15:21:38,883] Trial 20 finished with value: 19.077779123359626 and parameters: {'x': -2.3678117087804536}. Best is trial 2 with value: 0.0012617285986140647.\n"
     ]
    },
    {
     "name": "stdout",
     "output_type": "stream",
     "text": [
      "x: 1.312, score: 0.473\n"
     ]
    },
    {
     "name": "stderr",
     "output_type": "stream",
     "text": [
      "[I 2020-08-05 15:21:38,887] Trial 21 finished with value: 0.4731672872294755 and parameters: {'x': 1.3121284369669906}. Best is trial 2 with value: 0.0012617285986140647.\n"
     ]
    },
    {
     "name": "stdout",
     "output_type": "stream",
     "text": [
      "x: 2.234, score: 0.055\n"
     ]
    },
    {
     "name": "stderr",
     "output_type": "stream",
     "text": [
      "[I 2020-08-05 15:21:38,892] Trial 22 finished with value: 0.05476143348895168 and parameters: {'x': 2.2340116097311236}. Best is trial 2 with value: 0.0012617285986140647.\n"
     ]
    },
    {
     "name": "stdout",
     "output_type": "stream",
     "text": [
      "x: 2.166, score: 0.028\n"
     ]
    },
    {
     "name": "stderr",
     "output_type": "stream",
     "text": [
      "[I 2020-08-05 15:21:38,899] Trial 23 finished with value: 0.027714223188198786 and parameters: {'x': 2.1664758937149724}. Best is trial 2 with value: 0.0012617285986140647.\n"
     ]
    },
    {
     "name": "stdout",
     "output_type": "stream",
     "text": [
      "x: -1.538, score: 12.520\n"
     ]
    },
    {
     "name": "stderr",
     "output_type": "stream",
     "text": [
      "[I 2020-08-05 15:21:38,905] Trial 24 finished with value: 12.51952967897506 and parameters: {'x': -1.5382947416764279}. Best is trial 2 with value: 0.0012617285986140647.\n"
     ]
    },
    {
     "name": "stdout",
     "output_type": "stream",
     "text": [
      "x: -5.719, score: 59.589\n"
     ]
    },
    {
     "name": "stderr",
     "output_type": "stream",
     "text": [
      "[I 2020-08-05 15:21:38,912] Trial 25 finished with value: 59.58936047692697 and parameters: {'x': -5.719414516459585}. Best is trial 2 with value: 0.0012617285986140647.\n"
     ]
    },
    {
     "name": "stdout",
     "output_type": "stream",
     "text": [
      "x: 2.554, score: 0.307\n"
     ]
    },
    {
     "name": "stderr",
     "output_type": "stream",
     "text": [
      "[I 2020-08-05 15:21:38,919] Trial 26 finished with value: 0.30681234556821413 and parameters: {'x': 2.5539064411687358}. Best is trial 2 with value: 0.0012617285986140647.\n"
     ]
    },
    {
     "name": "stdout",
     "output_type": "stream",
     "text": [
      "x: 7.078, score: 25.788\n"
     ]
    },
    {
     "name": "stderr",
     "output_type": "stream",
     "text": [
      "[I 2020-08-05 15:21:38,923] Trial 27 finished with value: 25.787775196655808 and parameters: {'x': 7.078166519193301}. Best is trial 2 with value: 0.0012617285986140647.\n"
     ]
    },
    {
     "name": "stdout",
     "output_type": "stream",
     "text": [
      "x: -0.450, score: 6.005\n"
     ]
    },
    {
     "name": "stderr",
     "output_type": "stream",
     "text": [
      "[I 2020-08-05 15:21:38,928] Trial 28 finished with value: 6.0047436757141925 and parameters: {'x': -0.45045785022191165}. Best is trial 2 with value: 0.0012617285986140647.\n"
     ]
    },
    {
     "name": "stdout",
     "output_type": "stream",
     "text": [
      "x: 1.019, score: 0.962\n"
     ]
    },
    {
     "name": "stderr",
     "output_type": "stream",
     "text": [
      "[I 2020-08-05 15:21:38,933] Trial 29 finished with value: 0.9622846133505835 and parameters: {'x': 1.0190389338253105}. Best is trial 2 with value: 0.0012617285986140647.\n"
     ]
    },
    {
     "name": "stdout",
     "output_type": "stream",
     "text": [
      "x: 3.113, score: 1.238\n"
     ]
    },
    {
     "name": "stderr",
     "output_type": "stream",
     "text": [
      "[I 2020-08-05 15:21:38,939] Trial 30 finished with value: 1.2381718695078943 and parameters: {'x': 3.1127317149735125}. Best is trial 2 with value: 0.0012617285986140647.\n"
     ]
    },
    {
     "name": "stdout",
     "output_type": "stream",
     "text": [
      "x: 1.806, score: 0.038\n"
     ]
    },
    {
     "name": "stderr",
     "output_type": "stream",
     "text": [
      "[I 2020-08-05 15:21:38,943] Trial 31 finished with value: 0.03759564762051584 and parameters: {'x': 1.8061040288698194}. Best is trial 2 with value: 0.0012617285986140647.\n"
     ]
    },
    {
     "name": "stdout",
     "output_type": "stream",
     "text": [
      "x: 3.787, score: 3.193\n"
     ]
    },
    {
     "name": "stderr",
     "output_type": "stream",
     "text": [
      "[I 2020-08-05 15:21:38,948] Trial 32 finished with value: 3.192504526291885 and parameters: {'x': 3.786758105142351}. Best is trial 2 with value: 0.0012617285986140647.\n"
     ]
    },
    {
     "name": "stdout",
     "output_type": "stream",
     "text": [
      "x: 1.141, score: 0.737\n"
     ]
    },
    {
     "name": "stderr",
     "output_type": "stream",
     "text": [
      "[I 2020-08-05 15:21:38,952] Trial 33 finished with value: 0.7371763229175972 and parameters: {'x': 1.1414102708990765}. Best is trial 2 with value: 0.0012617285986140647.\n"
     ]
    },
    {
     "name": "stdout",
     "output_type": "stream",
     "text": [
      "x: 5.260, score: 10.625\n"
     ]
    },
    {
     "name": "stderr",
     "output_type": "stream",
     "text": [
      "[I 2020-08-05 15:21:38,956] Trial 34 finished with value: 10.624632122831201 and parameters: {'x': 5.259544772331131}. Best is trial 2 with value: 0.0012617285986140647.\n"
     ]
    },
    {
     "name": "stdout",
     "output_type": "stream",
     "text": [
      "x: -1.429, score: 11.756\n"
     ]
    },
    {
     "name": "stderr",
     "output_type": "stream",
     "text": [
      "[I 2020-08-05 15:21:38,960] Trial 35 finished with value: 11.755838041271259 and parameters: {'x': -1.428678760291092}. Best is trial 2 with value: 0.0012617285986140647.\n"
     ]
    },
    {
     "name": "stdout",
     "output_type": "stream",
     "text": [
      "x: 3.585, score: 2.513\n"
     ]
    },
    {
     "name": "stderr",
     "output_type": "stream",
     "text": [
      "[I 2020-08-05 15:21:38,964] Trial 36 finished with value: 2.5130438091574643 and parameters: {'x': 3.585258278375314}. Best is trial 2 with value: 0.0012617285986140647.\n"
     ]
    },
    {
     "name": "stdout",
     "output_type": "stream",
     "text": [
      "x: 2.413, score: 0.171\n"
     ]
    },
    {
     "name": "stderr",
     "output_type": "stream",
     "text": [
      "[I 2020-08-05 15:21:38,968] Trial 37 finished with value: 0.17074875158413166 and parameters: {'x': 2.4132175596270464}. Best is trial 2 with value: 0.0012617285986140647.\n"
     ]
    },
    {
     "name": "stdout",
     "output_type": "stream",
     "text": [
      "x: 4.633, score: 6.935\n"
     ]
    },
    {
     "name": "stderr",
     "output_type": "stream",
     "text": [
      "[I 2020-08-05 15:21:38,972] Trial 38 finished with value: 6.935117412030463 and parameters: {'x': 4.633461108888921}. Best is trial 2 with value: 0.0012617285986140647.\n"
     ]
    },
    {
     "name": "stdout",
     "output_type": "stream",
     "text": [
      "x: 0.720, score: 1.639\n"
     ]
    },
    {
     "name": "stderr",
     "output_type": "stream",
     "text": [
      "[I 2020-08-05 15:21:38,977] Trial 39 finished with value: 1.6394466447771845 and parameters: {'x': 0.7195912196578842}. Best is trial 2 with value: 0.0012617285986140647.\n"
     ]
    },
    {
     "name": "stdout",
     "output_type": "stream",
     "text": [
      "x: 6.287, score: 18.378\n"
     ]
    },
    {
     "name": "stderr",
     "output_type": "stream",
     "text": [
      "[I 2020-08-05 15:21:38,981] Trial 40 finished with value: 18.377672022955558 and parameters: {'x': 6.2869187096276455}. Best is trial 2 with value: 0.0012617285986140647.\n"
     ]
    },
    {
     "name": "stdout",
     "output_type": "stream",
     "text": [
      "x: 1.690, score: 0.096\n"
     ]
    },
    {
     "name": "stderr",
     "output_type": "stream",
     "text": [
      "[I 2020-08-05 15:21:38,985] Trial 41 finished with value: 0.0960280710982454 and parameters: {'x': 1.6901160360743954}. Best is trial 2 with value: 0.0012617285986140647.\n"
     ]
    },
    {
     "name": "stdout",
     "output_type": "stream",
     "text": [
      "x: -0.750, score: 7.561\n"
     ]
    },
    {
     "name": "stderr",
     "output_type": "stream",
     "text": [
      "[I 2020-08-05 15:21:38,989] Trial 42 finished with value: 7.561159038893501 and parameters: {'x': -0.7497561780807951}. Best is trial 2 with value: 0.0012617285986140647.\n"
     ]
    },
    {
     "name": "stdout",
     "output_type": "stream",
     "text": [
      "x: 3.236, score: 1.528\n"
     ]
    },
    {
     "name": "stderr",
     "output_type": "stream",
     "text": [
      "[I 2020-08-05 15:21:38,998] Trial 43 finished with value: 1.5281369064019472 and parameters: {'x': 3.236178347327742}. Best is trial 2 with value: 0.0012617285986140647.\n"
     ]
    },
    {
     "name": "stdout",
     "output_type": "stream",
     "text": [
      "x: 0.473, score: 2.332\n"
     ]
    },
    {
     "name": "stderr",
     "output_type": "stream",
     "text": [
      "[I 2020-08-05 15:21:39,005] Trial 44 finished with value: 2.33227873148973 and parameters: {'x': 0.47282000684603975}. Best is trial 2 with value: 0.0012617285986140647.\n"
     ]
    },
    {
     "name": "stdout",
     "output_type": "stream",
     "text": [
      "x: 2.061, score: 0.004\n"
     ]
    },
    {
     "name": "stderr",
     "output_type": "stream",
     "text": [
      "[I 2020-08-05 15:21:39,012] Trial 45 finished with value: 0.0037405294321863776 and parameters: {'x': 2.061159867823487}. Best is trial 2 with value: 0.0012617285986140647.\n"
     ]
    },
    {
     "name": "stdout",
     "output_type": "stream",
     "text": [
      "x: 4.334, score: 5.447\n"
     ]
    },
    {
     "name": "stderr",
     "output_type": "stream",
     "text": [
      "[I 2020-08-05 15:21:39,018] Trial 46 finished with value: 5.446781518182231 and parameters: {'x': 4.333834081116786}. Best is trial 2 with value: 0.0012617285986140647.\n"
     ]
    },
    {
     "name": "stdout",
     "output_type": "stream",
     "text": [
      "x: 2.760, score: 0.578\n"
     ]
    },
    {
     "name": "stderr",
     "output_type": "stream",
     "text": [
      "[I 2020-08-05 15:21:39,024] Trial 47 finished with value: 0.5777225042169338 and parameters: {'x': 2.760080590606637}. Best is trial 2 with value: 0.0012617285986140647.\n"
     ]
    },
    {
     "name": "stdout",
     "output_type": "stream",
     "text": [
      "x: 0.063, score: 3.753\n"
     ]
    },
    {
     "name": "stderr",
     "output_type": "stream",
     "text": [
      "[I 2020-08-05 15:21:39,029] Trial 48 finished with value: 3.75259035828485 and parameters: {'x': 0.06283961472343491}. Best is trial 2 with value: 0.0012617285986140647.\n"
     ]
    },
    {
     "name": "stdout",
     "output_type": "stream",
     "text": [
      "x: 5.424, score: 11.722\n"
     ]
    },
    {
     "name": "stderr",
     "output_type": "stream",
     "text": [
      "[I 2020-08-05 15:21:39,035] Trial 49 finished with value: 11.722214647036326 and parameters: {'x': 5.423771991099338}. Best is trial 2 with value: 0.0012617285986140647.\n"
     ]
    },
    {
     "name": "stdout",
     "output_type": "stream",
     "text": [
      "x: 1.908, score: 0.008\n"
     ]
    },
    {
     "name": "stderr",
     "output_type": "stream",
     "text": [
      "[I 2020-08-05 15:21:39,041] Trial 50 finished with value: 0.008382754653937733 and parameters: {'x': 1.908442615513888}. Best is trial 2 with value: 0.0012617285986140647.\n"
     ]
    },
    {
     "name": "stdout",
     "output_type": "stream",
     "text": [
      "x: 1.848, score: 0.023\n"
     ]
    },
    {
     "name": "stderr",
     "output_type": "stream",
     "text": [
      "[I 2020-08-05 15:21:39,045] Trial 51 finished with value: 0.02310740684393705 and parameters: {'x': 1.8479887936896195}. Best is trial 2 with value: 0.0012617285986140647.\n"
     ]
    },
    {
     "name": "stdout",
     "output_type": "stream",
     "text": [
      "x: 3.968, score: 3.872\n"
     ]
    },
    {
     "name": "stderr",
     "output_type": "stream",
     "text": [
      "[I 2020-08-05 15:21:39,050] Trial 52 finished with value: 3.8716874920695687 and parameters: {'x': 3.9676604107593283}. Best is trial 2 with value: 0.0012617285986140647.\n"
     ]
    },
    {
     "name": "stdout",
     "output_type": "stream",
     "text": [
      "x: 1.916, score: 0.007\n"
     ]
    },
    {
     "name": "stderr",
     "output_type": "stream",
     "text": [
      "[I 2020-08-05 15:21:39,055] Trial 53 finished with value: 0.006987537251142352 and parameters: {'x': 1.9164085096966064}. Best is trial 2 with value: 0.0012617285986140647.\n"
     ]
    },
    {
     "name": "stdout",
     "output_type": "stream",
     "text": [
      "x: 0.661, score: 1.794\n"
     ]
    },
    {
     "name": "stderr",
     "output_type": "stream",
     "text": [
      "[I 2020-08-05 15:21:39,059] Trial 54 finished with value: 1.7939298113388726 and parameters: {'x': 0.6606233497111902}. Best is trial 2 with value: 0.0012617285986140647.\n"
     ]
    },
    {
     "name": "stdout",
     "output_type": "stream",
     "text": [
      "x: -1.109, score: 9.665\n"
     ]
    },
    {
     "name": "stderr",
     "output_type": "stream",
     "text": [
      "[I 2020-08-05 15:21:39,064] Trial 55 finished with value: 9.664758649218584 and parameters: {'x': -1.1088194944735186}. Best is trial 2 with value: 0.0012617285986140647.\n"
     ]
    },
    {
     "name": "stdout",
     "output_type": "stream",
     "text": [
      "x: -2.427, score: 19.596\n"
     ]
    },
    {
     "name": "stderr",
     "output_type": "stream",
     "text": [
      "[I 2020-08-05 15:21:39,068] Trial 56 finished with value: 19.596101800334207 and parameters: {'x': -2.426748445567492}. Best is trial 2 with value: 0.0012617285986140647.\n"
     ]
    },
    {
     "name": "stdout",
     "output_type": "stream",
     "text": [
      "x: 2.841, score: 0.707\n"
     ]
    },
    {
     "name": "stderr",
     "output_type": "stream",
     "text": [
      "[I 2020-08-05 15:21:39,072] Trial 57 finished with value: 0.70716833754201 and parameters: {'x': 2.840933016085116}. Best is trial 2 with value: 0.0012617285986140647.\n"
     ]
    },
    {
     "name": "stdout",
     "output_type": "stream",
     "text": [
      "x: 0.032, score: 3.874\n"
     ]
    },
    {
     "name": "stderr",
     "output_type": "stream",
     "text": [
      "[I 2020-08-05 15:21:39,077] Trial 58 finished with value: 3.874341243628242 and parameters: {'x': 0.031665362894753635}. Best is trial 2 with value: 0.0012617285986140647.\n"
     ]
    },
    {
     "name": "stdout",
     "output_type": "stream",
     "text": [
      "x: 1.500, score: 0.250\n"
     ]
    },
    {
     "name": "stderr",
     "output_type": "stream",
     "text": [
      "[I 2020-08-05 15:21:39,081] Trial 59 finished with value: 0.2497961748327359 and parameters: {'x': 1.5002038667289073}. Best is trial 2 with value: 0.0012617285986140647.\n"
     ]
    },
    {
     "name": "stdout",
     "output_type": "stream",
     "text": [
      "x: 4.494, score: 6.220\n"
     ]
    },
    {
     "name": "stderr",
     "output_type": "stream",
     "text": [
      "[I 2020-08-05 15:21:39,087] Trial 60 finished with value: 6.220455731612409 and parameters: {'x': 4.494084146858804}. Best is trial 2 with value: 0.0012617285986140647.\n"
     ]
    },
    {
     "name": "stdout",
     "output_type": "stream",
     "text": [
      "x: 2.009, score: 0.000\n"
     ]
    },
    {
     "name": "stderr",
     "output_type": "stream",
     "text": [
      "[I 2020-08-05 15:21:39,093] Trial 61 finished with value: 8.431335595921006e-05 and parameters: {'x': 2.009182230445769}. Best is trial 61 with value: 8.431335595921006e-05.\n"
     ]
    },
    {
     "name": "stdout",
     "output_type": "stream",
     "text": [
      "x: 2.139, score: 0.019\n"
     ]
    },
    {
     "name": "stderr",
     "output_type": "stream",
     "text": [
      "[I 2020-08-05 15:21:39,106] Trial 62 finished with value: 0.019346265117895896 and parameters: {'x': 2.139090852028075}. Best is trial 61 with value: 8.431335595921006e-05.\n"
     ]
    },
    {
     "name": "stdout",
     "output_type": "stream",
     "text": [
      "x: 3.294, score: 1.676\n"
     ]
    },
    {
     "name": "stderr",
     "output_type": "stream",
     "text": [
      "[I 2020-08-05 15:21:39,113] Trial 63 finished with value: 1.6755925300052472 and parameters: {'x': 3.294446804625531}. Best is trial 61 with value: 8.431335595921006e-05.\n"
     ]
    },
    {
     "name": "stdout",
     "output_type": "stream",
     "text": [
      "x: 1.245, score: 0.570\n"
     ]
    },
    {
     "name": "stderr",
     "output_type": "stream",
     "text": [
      "[I 2020-08-05 15:21:39,123] Trial 64 finished with value: 0.5698103832398566 and parameters: {'x': 1.245142143685411}. Best is trial 61 with value: 8.431335595921006e-05.\n"
     ]
    },
    {
     "name": "stdout",
     "output_type": "stream",
     "text": [
      "x: 2.116, score: 0.014\n"
     ]
    },
    {
     "name": "stderr",
     "output_type": "stream",
     "text": [
      "[I 2020-08-05 15:21:39,131] Trial 65 finished with value: 0.013535179680784423 and parameters: {'x': 2.1163407911301295}. Best is trial 61 with value: 8.431335595921006e-05.\n"
     ]
    },
    {
     "name": "stdout",
     "output_type": "stream",
     "text": [
      "x: 2.390, score: 0.152\n"
     ]
    },
    {
     "name": "stderr",
     "output_type": "stream",
     "text": [
      "[I 2020-08-05 15:21:39,138] Trial 66 finished with value: 0.15186649520528406 and parameters: {'x': 2.3897005198935255}. Best is trial 61 with value: 8.431335595921006e-05.\n"
     ]
    },
    {
     "name": "stdout",
     "output_type": "stream",
     "text": [
      "x: -0.568, score: 6.596\n"
     ]
    },
    {
     "name": "stderr",
     "output_type": "stream",
     "text": [
      "[I 2020-08-05 15:21:39,144] Trial 67 finished with value: 6.596317435263296 and parameters: {'x': -0.5683296975394914}. Best is trial 61 with value: 8.431335595921006e-05.\n"
     ]
    },
    {
     "name": "stdout",
     "output_type": "stream",
     "text": [
      "x: 0.390, score: 2.594\n"
     ]
    },
    {
     "name": "stderr",
     "output_type": "stream",
     "text": [
      "[I 2020-08-05 15:21:39,151] Trial 68 finished with value: 2.5936147199957316 and parameters: {'x': 0.389529658765573}. Best is trial 61 with value: 8.431335595921006e-05.\n"
     ]
    },
    {
     "name": "stdout",
     "output_type": "stream",
     "text": [
      "x: 3.805, score: 3.258\n"
     ]
    },
    {
     "name": "stderr",
     "output_type": "stream",
     "text": [
      "[I 2020-08-05 15:21:39,157] Trial 69 finished with value: 3.2582690541951216 and parameters: {'x': 3.805067603774197}. Best is trial 61 with value: 8.431335595921006e-05.\n"
     ]
    },
    {
     "name": "stdout",
     "output_type": "stream",
     "text": [
      "x: 6.196, score: 17.603\n"
     ]
    },
    {
     "name": "stderr",
     "output_type": "stream",
     "text": [
      "[I 2020-08-05 15:21:39,163] Trial 70 finished with value: 17.60261438568137 and parameters: {'x': 6.195546970977845}. Best is trial 61 with value: 8.431335595921006e-05.\n"
     ]
    },
    {
     "name": "stdout",
     "output_type": "stream",
     "text": [
      "x: 2.044, score: 0.002\n"
     ]
    },
    {
     "name": "stderr",
     "output_type": "stream",
     "text": [
      "[I 2020-08-05 15:21:39,169] Trial 71 finished with value: 0.0019034129241118885 and parameters: {'x': 2.0436281207951006}. Best is trial 61 with value: 8.431335595921006e-05.\n"
     ]
    },
    {
     "name": "stdout",
     "output_type": "stream",
     "text": [
      "x: 2.284, score: 0.081\n"
     ]
    },
    {
     "name": "stderr",
     "output_type": "stream",
     "text": [
      "[I 2020-08-05 15:21:39,175] Trial 72 finished with value: 0.08054914317411307 and parameters: {'x': 2.283811809433845}. Best is trial 61 with value: 8.431335595921006e-05.\n"
     ]
    },
    {
     "name": "stdout",
     "output_type": "stream",
     "text": [
      "x: 2.930, score: 0.864\n"
     ]
    },
    {
     "name": "stderr",
     "output_type": "stream",
     "text": [
      "[I 2020-08-05 15:21:39,181] Trial 73 finished with value: 0.864013626704832 and parameters: {'x': 2.9295233330610007}. Best is trial 61 with value: 8.431335595921006e-05.\n"
     ]
    },
    {
     "name": "stdout",
     "output_type": "stream",
     "text": [
      "x: 1.330, score: 0.448\n"
     ]
    },
    {
     "name": "stderr",
     "output_type": "stream",
     "text": [
      "[I 2020-08-05 15:21:39,187] Trial 74 finished with value: 0.448367654355847 and parameters: {'x': 1.3303973907190572}. Best is trial 61 with value: 8.431335595921006e-05.\n"
     ]
    },
    {
     "name": "stdout",
     "output_type": "stream",
     "text": [
      "x: 0.834, score: 1.360\n"
     ]
    },
    {
     "name": "stderr",
     "output_type": "stream",
     "text": [
      "[I 2020-08-05 15:21:39,193] Trial 75 finished with value: 1.3599767623842405 and parameters: {'x': 0.8338195841190608}. Best is trial 61 with value: 8.431335595921006e-05.\n"
     ]
    },
    {
     "name": "stdout",
     "output_type": "stream",
     "text": [
      "x: 1.834, score: 0.028\n"
     ]
    },
    {
     "name": "stderr",
     "output_type": "stream",
     "text": [
      "[I 2020-08-05 15:21:39,199] Trial 76 finished with value: 0.02755421030978168 and parameters: {'x': 1.8340053907207174}. Best is trial 61 with value: 8.431335595921006e-05.\n"
     ]
    },
    {
     "name": "stdout",
     "output_type": "stream",
     "text": [
      "x: 3.445, score: 2.089\n"
     ]
    },
    {
     "name": "stderr",
     "output_type": "stream",
     "text": [
      "[I 2020-08-05 15:21:39,206] Trial 77 finished with value: 2.089375791450905 and parameters: {'x': 3.4454673263173072}. Best is trial 61 with value: 8.431335595921006e-05.\n"
     ]
    },
    {
     "name": "stdout",
     "output_type": "stream",
     "text": [
      "x: 1.995, score: 0.000\n"
     ]
    },
    {
     "name": "stderr",
     "output_type": "stream",
     "text": [
      "[I 2020-08-05 15:21:39,212] Trial 78 finished with value: 2.3189750330116152e-05 and parameters: {'x': 1.9951844262719676}. Best is trial 78 with value: 2.3189750330116152e-05.\n"
     ]
    },
    {
     "name": "stdout",
     "output_type": "stream",
     "text": [
      "x: 4.949, score: 8.695\n"
     ]
    },
    {
     "name": "stderr",
     "output_type": "stream",
     "text": [
      "[I 2020-08-05 15:21:39,219] Trial 79 finished with value: 8.694717105550183 and parameters: {'x': 4.948680570280576}. Best is trial 78 with value: 2.3189750330116152e-05.\n"
     ]
    },
    {
     "name": "stdout",
     "output_type": "stream",
     "text": [
      "x: 0.893, score: 1.226\n"
     ]
    },
    {
     "name": "stderr",
     "output_type": "stream",
     "text": [
      "[I 2020-08-05 15:21:39,226] Trial 80 finished with value: 1.2257692746048772 and parameters: {'x': 0.8928553506407226}. Best is trial 78 with value: 2.3189750330116152e-05.\n"
     ]
    },
    {
     "name": "stdout",
     "output_type": "stream",
     "text": [
      "x: 2.231, score: 0.053\n"
     ]
    },
    {
     "name": "stderr",
     "output_type": "stream",
     "text": [
      "[I 2020-08-05 15:21:39,234] Trial 81 finished with value: 0.05345349882514913 and parameters: {'x': 2.231200127216983}. Best is trial 78 with value: 2.3189750330116152e-05.\n"
     ]
    },
    {
     "name": "stdout",
     "output_type": "stream",
     "text": [
      "x: 2.679, score: 0.462\n"
     ]
    },
    {
     "name": "stderr",
     "output_type": "stream",
     "text": [
      "[I 2020-08-05 15:21:39,246] Trial 82 finished with value: 0.4616470157691632 and parameters: {'x': 2.6794461095400894}. Best is trial 78 with value: 2.3189750330116152e-05.\n"
     ]
    },
    {
     "name": "stdout",
     "output_type": "stream",
     "text": [
      "x: 1.968, score: 0.001\n"
     ]
    },
    {
     "name": "stderr",
     "output_type": "stream",
     "text": [
      "[I 2020-08-05 15:21:39,259] Trial 83 finished with value: 0.0010493851790462077 and parameters: {'x': 1.967605784790395}. Best is trial 78 with value: 2.3189750330116152e-05.\n"
     ]
    },
    {
     "name": "stdout",
     "output_type": "stream",
     "text": [
      "x: -0.136, score: 4.565\n"
     ]
    },
    {
     "name": "stderr",
     "output_type": "stream",
     "text": [
      "[I 2020-08-05 15:21:39,270] Trial 84 finished with value: 4.564506431090329 and parameters: {'x': -0.1364705546977074}. Best is trial 78 with value: 2.3189750330116152e-05.\n"
     ]
    },
    {
     "name": "stdout",
     "output_type": "stream",
     "text": [
      "x: 1.454, score: 0.298\n"
     ]
    },
    {
     "name": "stderr",
     "output_type": "stream",
     "text": [
      "[I 2020-08-05 15:21:39,281] Trial 85 finished with value: 0.2981267366226337 and parameters: {'x': 1.4539901680165148}. Best is trial 78 with value: 2.3189750330116152e-05.\n"
     ]
    },
    {
     "name": "stdout",
     "output_type": "stream",
     "text": [
      "x: 4.114, score: 4.469\n"
     ]
    },
    {
     "name": "stderr",
     "output_type": "stream",
     "text": [
      "[I 2020-08-05 15:21:39,288] Trial 86 finished with value: 4.468829810277236 and parameters: {'x': 4.113960692699189}. Best is trial 78 with value: 2.3189750330116152e-05.\n"
     ]
    },
    {
     "name": "stdout",
     "output_type": "stream",
     "text": [
      "x: 3.208, score: 1.460\n"
     ]
    },
    {
     "name": "stderr",
     "output_type": "stream",
     "text": [
      "[I 2020-08-05 15:21:39,298] Trial 87 finished with value: 1.4599491327449547 and parameters: {'x': 3.2082835481562078}. Best is trial 78 with value: 2.3189750330116152e-05.\n"
     ]
    },
    {
     "name": "stdout",
     "output_type": "stream",
     "text": [
      "x: 0.307, score: 2.867\n"
     ]
    },
    {
     "name": "stderr",
     "output_type": "stream",
     "text": [
      "[I 2020-08-05 15:21:39,306] Trial 88 finished with value: 2.8667070370965138 and parameters: {'x': 0.3068647316010118}. Best is trial 78 with value: 2.3189750330116152e-05.\n"
     ]
    },
    {
     "name": "stdout",
     "output_type": "stream",
     "text": [
      "x: 1.770, score: 0.053\n"
     ]
    },
    {
     "name": "stderr",
     "output_type": "stream",
     "text": [
      "[I 2020-08-05 15:21:39,315] Trial 89 finished with value: 0.05304628040094215 and parameters: {'x': 1.7696822186609507}. Best is trial 78 with value: 2.3189750330116152e-05.\n"
     ]
    },
    {
     "name": "stdout",
     "output_type": "stream",
     "text": [
      "x: 2.717, score: 0.514\n"
     ]
    },
    {
     "name": "stderr",
     "output_type": "stream",
     "text": [
      "[I 2020-08-05 15:21:39,322] Trial 90 finished with value: 0.5142332947101295 and parameters: {'x': 2.7171006168663707}. Best is trial 78 with value: 2.3189750330116152e-05.\n"
     ]
    },
    {
     "name": "stdout",
     "output_type": "stream",
     "text": [
      "x: 2.069, score: 0.005\n"
     ]
    },
    {
     "name": "stderr",
     "output_type": "stream",
     "text": [
      "[I 2020-08-05 15:21:39,330] Trial 91 finished with value: 0.004751331014082834 and parameters: {'x': 2.0689298992751537}. Best is trial 78 with value: 2.3189750330116152e-05.\n"
     ]
    },
    {
     "name": "stdout",
     "output_type": "stream",
     "text": [
      "x: 0.997, score: 1.005\n"
     ]
    },
    {
     "name": "stderr",
     "output_type": "stream",
     "text": [
      "[I 2020-08-05 15:21:39,341] Trial 92 finished with value: 1.0051540968023347 and parameters: {'x': 0.9974262636582113}. Best is trial 78 with value: 2.3189750330116152e-05.\n"
     ]
    },
    {
     "name": "stdout",
     "output_type": "stream",
     "text": [
      "x: 3.531, score: 2.345\n"
     ]
    },
    {
     "name": "stderr",
     "output_type": "stream",
     "text": [
      "[I 2020-08-05 15:21:39,351] Trial 93 finished with value: 2.344532522484464 and parameters: {'x': 3.531186638684019}. Best is trial 78 with value: 2.3189750330116152e-05.\n"
     ]
    },
    {
     "name": "stdout",
     "output_type": "stream",
     "text": [
      "x: 1.787, score: 0.045\n"
     ]
    },
    {
     "name": "stderr",
     "output_type": "stream",
     "text": [
      "[I 2020-08-05 15:21:39,361] Trial 94 finished with value: 0.04531844387693126 and parameters: {'x': 1.787118709424874}. Best is trial 78 with value: 2.3189750330116152e-05.\n"
     ]
    },
    {
     "name": "stdout",
     "output_type": "stream",
     "text": [
      "x: -9.120, score: 123.662\n"
     ]
    },
    {
     "name": "stderr",
     "output_type": "stream",
     "text": [
      "[I 2020-08-05 15:21:39,371] Trial 95 finished with value: 123.66184928857332 and parameters: {'x': -9.120334944981348}. Best is trial 78 with value: 2.3189750330116152e-05.\n"
     ]
    },
    {
     "name": "stdout",
     "output_type": "stream",
     "text": [
      "x: 2.096, score: 0.009\n"
     ]
    },
    {
     "name": "stderr",
     "output_type": "stream",
     "text": [
      "[I 2020-08-05 15:21:39,382] Trial 96 finished with value: 0.009172677199373643 and parameters: {'x': 2.0957740946152645}. Best is trial 78 with value: 2.3189750330116152e-05.\n"
     ]
    },
    {
     "name": "stdout",
     "output_type": "stream",
     "text": [
      "x: 3.047, score: 1.096\n"
     ]
    },
    {
     "name": "stderr",
     "output_type": "stream",
     "text": [
      "[I 2020-08-05 15:21:39,389] Trial 97 finished with value: 1.0957672220661352 and parameters: {'x': 3.0467890055145475}. Best is trial 78 with value: 2.3189750330116152e-05.\n"
     ]
    },
    {
     "name": "stdout",
     "output_type": "stream",
     "text": [
      "x: 1.256, score: 0.553\n"
     ]
    },
    {
     "name": "stderr",
     "output_type": "stream",
     "text": [
      "[I 2020-08-05 15:21:39,403] Trial 98 finished with value: 0.552965984781267 and parameters: {'x': 1.2563831734143807}. Best is trial 78 with value: 2.3189750330116152e-05.\n"
     ]
    },
    {
     "name": "stdout",
     "output_type": "stream",
     "text": [
      "x: 2.441, score: 0.195\n"
     ]
    },
    {
     "name": "stderr",
     "output_type": "stream",
     "text": [
      "[I 2020-08-05 15:21:39,414] Trial 99 finished with value: 0.1946376378899873 and parameters: {'x': 2.4411775582347626}. Best is trial 78 with value: 2.3189750330116152e-05.\n"
     ]
    }
   ],
   "source": [
    "# 使い方\n",
    "\n",
    "import optuna\n",
    " \n",
    "# 目的関数\n",
    "def objective(trial):\n",
    "    x = trial.suggest_uniform('x', -10, 10)\n",
    "    score = (x - 2) ** 2\n",
    "    print('x: %1.3f, score: %1.3f' % (x, score))\n",
    "    \n",
    "    return score\n",
    " \n",
    "    \n",
    "# 最適化（score：最小化, トライアル数：100）\n",
    "study = optuna.create_study()\n",
    "study.optimize(objective, n_trials=100)\n",
    "\n",
    "# 最大化、トライアル数：100、タイムアウト600sec\n",
    "#study = optuna.create_study(direction='maximize')\n",
    "#study.optimize(objective, n_trials=100, timeout=600)"
   ]
  },
  {
   "cell_type": "code",
   "execution_count": 114,
   "metadata": {},
   "outputs": [
    {
     "data": {
      "text/plain": [
       "\"\\nn_channels = trial.suggest_int('n_channels', 6, 12)  # 6~12\\ndropout = trial.suggest_uniform('dropout', 0.2, 0.5) # 0.2~0.5\\nlr = trial.suggest_loguniform('lr', 1e-5, 1e-1)      # 1e-5~1e-1\\nk_size = trial.suggest_categorical('ksize', [3, 5, 7]) # 3 or 5 or 7\\noptimizer_name = trial.suggest_categorical('optimizer', ['Adam', 'SGD']) # Adam or SGD\\n\""
      ]
     },
     "execution_count": 114,
     "metadata": {},
     "output_type": "execute_result"
    }
   ],
   "source": [
    "# 最適化対象のコード例\n",
    "'''\n",
    "n_channels = trial.suggest_int('n_channels', 6, 12)  # 6~12\n",
    "dropout = trial.suggest_uniform('dropout', 0.2, 0.5) # 0.2~0.5\n",
    "lr = trial.suggest_loguniform('lr', 1e-5, 1e-1)      # 1e-5~1e-1\n",
    "k_size = trial.suggest_categorical('ksize', [3, 5, 7]) # 3 or 5 or 7\n",
    "optimizer_name = trial.suggest_categorical('optimizer', ['Adam', 'SGD']) # Adam or SGD\n",
    "'''"
   ]
  },
  {
   "cell_type": "code",
   "execution_count": 116,
   "metadata": {},
   "outputs": [
    {
     "name": "stdout",
     "output_type": "stream",
     "text": [
      "{'x': 1.9951844262719676}\n",
      "2.3189750330116152e-05\n",
      "FrozenTrial(number=78, value=2.3189750330116152e-05, datetime_start=datetime.datetime(2020, 8, 5, 15, 21, 39, 208298), datetime_complete=datetime.datetime(2020, 8, 5, 15, 21, 39, 212006), params={'x': 1.9951844262719676}, distributions={'x': UniformDistribution(high=10, low=-10)}, user_attrs={}, system_attrs={}, intermediate_values={}, trial_id=78, state=TrialState.COMPLETE)\n",
      "[FrozenTrial(number=0, value=6.304591160895867, datetime_start=datetime.datetime(2020, 8, 5, 15, 21, 38, 802649), datetime_complete=datetime.datetime(2020, 8, 5, 15, 21, 38, 805210), params={'x': 4.510894494178492}, distributions={'x': UniformDistribution(high=10, low=-10)}, user_attrs={}, system_attrs={}, intermediate_values={}, trial_id=0, state=TrialState.COMPLETE), FrozenTrial(number=1, value=4.082530432536757, datetime_start=datetime.datetime(2020, 8, 5, 15, 21, 38, 809530), datetime_complete=datetime.datetime(2020, 8, 5, 15, 21, 38, 811232), params={'x': 4.020527265972117}, distributions={'x': UniformDistribution(high=10, low=-10)}, user_attrs={}, system_attrs={}, intermediate_values={}, trial_id=1, state=TrialState.COMPLETE), FrozenTrial(number=2, value=0.0012617285986140647, datetime_start=datetime.datetime(2020, 8, 5, 15, 21, 38, 815574), datetime_complete=datetime.datetime(2020, 8, 5, 15, 21, 38, 817374), params={'x': 2.0355208192278003}, distributions={'x': UniformDistribution(high=10, low=-10)}, user_attrs={}, system_attrs={}, intermediate_values={}, trial_id=2, state=TrialState.COMPLETE), FrozenTrial(number=3, value=2.723264257421527, datetime_start=datetime.datetime(2020, 8, 5, 15, 21, 38, 819923), datetime_complete=datetime.datetime(2020, 8, 5, 15, 21, 38, 821372), params={'x': 0.3497684230928293}, distributions={'x': UniformDistribution(high=10, low=-10)}, user_attrs={}, system_attrs={}, intermediate_values={}, trial_id=3, state=TrialState.COMPLETE), FrozenTrial(number=4, value=1.7758807282068203, datetime_start=datetime.datetime(2020, 8, 5, 15, 21, 38, 823893), datetime_complete=datetime.datetime(2020, 8, 5, 15, 21, 38, 824937), params={'x': 3.332621749862586}, distributions={'x': UniformDistribution(high=10, low=-10)}, user_attrs={}, system_attrs={}, intermediate_values={}, trial_id=4, state=TrialState.COMPLETE), FrozenTrial(number=5, value=8.989733639254323, datetime_start=datetime.datetime(2020, 8, 5, 15, 21, 38, 827190), datetime_complete=datetime.datetime(2020, 8, 5, 15, 21, 38, 828311), params={'x': 4.9982884516427575}, distributions={'x': UniformDistribution(high=10, low=-10)}, user_attrs={}, system_attrs={}, intermediate_values={}, trial_id=5, state=TrialState.COMPLETE), FrozenTrial(number=6, value=6.163694121227721, datetime_start=datetime.datetime(2020, 8, 5, 15, 21, 38, 830584), datetime_complete=datetime.datetime(2020, 8, 5, 15, 21, 38, 831684), params={'x': 4.482678819587367}, distributions={'x': UniformDistribution(high=10, low=-10)}, user_attrs={}, system_attrs={}, intermediate_values={}, trial_id=6, state=TrialState.COMPLETE), FrozenTrial(number=7, value=13.733140621890605, datetime_start=datetime.datetime(2020, 8, 5, 15, 21, 38, 834230), datetime_complete=datetime.datetime(2020, 8, 5, 15, 21, 38, 835469), params={'x': 5.705825228190154}, distributions={'x': UniformDistribution(high=10, low=-10)}, user_attrs={}, system_attrs={}, intermediate_values={}, trial_id=7, state=TrialState.COMPLETE), FrozenTrial(number=8, value=4.717421894584388, datetime_start=datetime.datetime(2020, 8, 5, 15, 21, 38, 837556), datetime_complete=datetime.datetime(2020, 8, 5, 15, 21, 38, 838603), params={'x': -0.1719626825947973}, distributions={'x': UniformDistribution(high=10, low=-10)}, user_attrs={}, system_attrs={}, intermediate_values={}, trial_id=8, state=TrialState.COMPLETE), FrozenTrial(number=9, value=22.567915196547762, datetime_start=datetime.datetime(2020, 8, 5, 15, 21, 38, 839990), datetime_complete=datetime.datetime(2020, 8, 5, 15, 21, 38, 841108), params={'x': 6.750569986490859}, distributions={'x': UniformDistribution(high=10, low=-10)}, user_attrs={}, system_attrs={}, intermediate_values={}, trial_id=9, state=TrialState.COMPLETE), FrozenTrial(number=10, value=51.85080402305171, datetime_start=datetime.datetime(2020, 8, 5, 15, 21, 38, 843318), datetime_complete=datetime.datetime(2020, 8, 5, 15, 21, 38, 845381), params={'x': -5.200750240291057}, distributions={'x': UniformDistribution(high=10, low=-10)}, user_attrs={}, system_attrs={}, intermediate_values={}, trial_id=10, state=TrialState.COMPLETE), FrozenTrial(number=11, value=59.20304435389547, datetime_start=datetime.datetime(2020, 8, 5, 15, 21, 38, 846860), datetime_complete=datetime.datetime(2020, 8, 5, 15, 21, 38, 848923), params={'x': 9.69435145765356}, distributions={'x': UniformDistribution(high=10, low=-10)}, user_attrs={}, system_attrs={}, intermediate_values={}, trial_id=11, state=TrialState.COMPLETE), FrozenTrial(number=12, value=4.423659430746706, datetime_start=datetime.datetime(2020, 8, 5, 15, 21, 38, 850482), datetime_complete=datetime.datetime(2020, 8, 5, 15, 21, 38, 853605), params={'x': -0.10324973095129764}, distributions={'x': UniformDistribution(high=10, low=-10)}, user_attrs={}, system_attrs={}, intermediate_values={}, trial_id=12, state=TrialState.COMPLETE), FrozenTrial(number=13, value=31.76108035631113, datetime_start=datetime.datetime(2020, 8, 5, 15, 21, 38, 855398), datetime_complete=datetime.datetime(2020, 8, 5, 15, 21, 38, 857470), params={'x': -3.6356969716540943}, distributions={'x': UniformDistribution(high=10, low=-10)}, user_attrs={}, system_attrs={}, intermediate_values={}, trial_id=13, state=TrialState.COMPLETE), FrozenTrial(number=14, value=62.52226949424053, datetime_start=datetime.datetime(2020, 8, 5, 15, 21, 38, 859088), datetime_complete=datetime.datetime(2020, 8, 5, 15, 21, 38, 861188), params={'x': 9.907102471464533}, distributions={'x': UniformDistribution(high=10, low=-10)}, user_attrs={}, system_attrs={}, intermediate_values={}, trial_id=14, state=TrialState.COMPLETE), FrozenTrial(number=15, value=140.27016025783465, datetime_start=datetime.datetime(2020, 8, 5, 15, 21, 38, 862699), datetime_complete=datetime.datetime(2020, 8, 5, 15, 21, 38, 864747), params={'x': -9.843570418494359}, distributions={'x': UniformDistribution(high=10, low=-10)}, user_attrs={}, system_attrs={}, intermediate_values={}, trial_id=15, state=TrialState.COMPLETE), FrozenTrial(number=16, value=0.025630922940917233, datetime_start=datetime.datetime(2020, 8, 5, 15, 21, 38, 866278), datetime_complete=datetime.datetime(2020, 8, 5, 15, 21, 38, 868402), params={'x': 1.8399033949737933}, distributions={'x': UniformDistribution(high=10, low=-10)}, user_attrs={}, system_attrs={}, intermediate_values={}, trial_id=16, state=TrialState.COMPLETE), FrozenTrial(number=17, value=21.707075679633704, datetime_start=datetime.datetime(2020, 8, 5, 15, 21, 38, 869913), datetime_complete=datetime.datetime(2020, 8, 5, 15, 21, 38, 872003), params={'x': -2.659085283575919}, distributions={'x': UniformDistribution(high=10, low=-10)}, user_attrs={}, system_attrs={}, intermediate_values={}, trial_id=17, state=TrialState.COMPLETE), FrozenTrial(number=18, value=0.05371569938221425, datetime_start=datetime.datetime(2020, 8, 5, 15, 21, 38, 874318), datetime_complete=datetime.datetime(2020, 8, 5, 15, 21, 38, 876353), params={'x': 1.7682335240328872}, distributions={'x': UniformDistribution(high=10, low=-10)}, user_attrs={}, system_attrs={}, intermediate_values={}, trial_id=18, state=TrialState.COMPLETE), FrozenTrial(number=19, value=34.58683512794408, datetime_start=datetime.datetime(2020, 8, 5, 15, 21, 38, 878005), datetime_complete=datetime.datetime(2020, 8, 5, 15, 21, 38, 880125), params={'x': 7.881057313778202}, distributions={'x': UniformDistribution(high=10, low=-10)}, user_attrs={}, system_attrs={}, intermediate_values={}, trial_id=19, state=TrialState.COMPLETE), FrozenTrial(number=20, value=19.077779123359626, datetime_start=datetime.datetime(2020, 8, 5, 15, 21, 38, 881595), datetime_complete=datetime.datetime(2020, 8, 5, 15, 21, 38, 883625), params={'x': -2.3678117087804536}, distributions={'x': UniformDistribution(high=10, low=-10)}, user_attrs={}, system_attrs={}, intermediate_values={}, trial_id=20, state=TrialState.COMPLETE), FrozenTrial(number=21, value=0.4731672872294755, datetime_start=datetime.datetime(2020, 8, 5, 15, 21, 38, 885429), datetime_complete=datetime.datetime(2020, 8, 5, 15, 21, 38, 887626), params={'x': 1.3121284369669906}, distributions={'x': UniformDistribution(high=10, low=-10)}, user_attrs={}, system_attrs={}, intermediate_values={}, trial_id=21, state=TrialState.COMPLETE), FrozenTrial(number=22, value=0.05476143348895168, datetime_start=datetime.datetime(2020, 8, 5, 15, 21, 38, 889184), datetime_complete=datetime.datetime(2020, 8, 5, 15, 21, 38, 891786), params={'x': 2.2340116097311236}, distributions={'x': UniformDistribution(high=10, low=-10)}, user_attrs={}, system_attrs={}, intermediate_values={}, trial_id=22, state=TrialState.COMPLETE), FrozenTrial(number=23, value=0.027714223188198786, datetime_start=datetime.datetime(2020, 8, 5, 15, 21, 38, 895080), datetime_complete=datetime.datetime(2020, 8, 5, 15, 21, 38, 899305), params={'x': 2.1664758937149724}, distributions={'x': UniformDistribution(high=10, low=-10)}, user_attrs={}, system_attrs={}, intermediate_values={}, trial_id=23, state=TrialState.COMPLETE), FrozenTrial(number=24, value=12.51952967897506, datetime_start=datetime.datetime(2020, 8, 5, 15, 21, 38, 902216), datetime_complete=datetime.datetime(2020, 8, 5, 15, 21, 38, 905639), params={'x': -1.5382947416764279}, distributions={'x': UniformDistribution(high=10, low=-10)}, user_attrs={}, system_attrs={}, intermediate_values={}, trial_id=24, state=TrialState.COMPLETE), FrozenTrial(number=25, value=59.58936047692697, datetime_start=datetime.datetime(2020, 8, 5, 15, 21, 38, 908346), datetime_complete=datetime.datetime(2020, 8, 5, 15, 21, 38, 911911), params={'x': -5.719414516459585}, distributions={'x': UniformDistribution(high=10, low=-10)}, user_attrs={}, system_attrs={}, intermediate_values={}, trial_id=25, state=TrialState.COMPLETE), FrozenTrial(number=26, value=0.30681234556821413, datetime_start=datetime.datetime(2020, 8, 5, 15, 21, 38, 915609), datetime_complete=datetime.datetime(2020, 8, 5, 15, 21, 38, 919047), params={'x': 2.5539064411687358}, distributions={'x': UniformDistribution(high=10, low=-10)}, user_attrs={}, system_attrs={}, intermediate_values={}, trial_id=26, state=TrialState.COMPLETE), FrozenTrial(number=27, value=25.787775196655808, datetime_start=datetime.datetime(2020, 8, 5, 15, 21, 38, 920739), datetime_complete=datetime.datetime(2020, 8, 5, 15, 21, 38, 923267), params={'x': 7.078166519193301}, distributions={'x': UniformDistribution(high=10, low=-10)}, user_attrs={}, system_attrs={}, intermediate_values={}, trial_id=27, state=TrialState.COMPLETE), FrozenTrial(number=28, value=6.0047436757141925, datetime_start=datetime.datetime(2020, 8, 5, 15, 21, 38, 925258), datetime_complete=datetime.datetime(2020, 8, 5, 15, 21, 38, 927933), params={'x': -0.45045785022191165}, distributions={'x': UniformDistribution(high=10, low=-10)}, user_attrs={}, system_attrs={}, intermediate_values={}, trial_id=28, state=TrialState.COMPLETE), FrozenTrial(number=29, value=0.9622846133505835, datetime_start=datetime.datetime(2020, 8, 5, 15, 21, 38, 929740), datetime_complete=datetime.datetime(2020, 8, 5, 15, 21, 38, 933268), params={'x': 1.0190389338253105}, distributions={'x': UniformDistribution(high=10, low=-10)}, user_attrs={}, system_attrs={}, intermediate_values={}, trial_id=29, state=TrialState.COMPLETE), FrozenTrial(number=30, value=1.2381718695078943, datetime_start=datetime.datetime(2020, 8, 5, 15, 21, 38, 936112), datetime_complete=datetime.datetime(2020, 8, 5, 15, 21, 38, 939039), params={'x': 3.1127317149735125}, distributions={'x': UniformDistribution(high=10, low=-10)}, user_attrs={}, system_attrs={}, intermediate_values={}, trial_id=30, state=TrialState.COMPLETE), FrozenTrial(number=31, value=0.03759564762051584, datetime_start=datetime.datetime(2020, 8, 5, 15, 21, 38, 941010), datetime_complete=datetime.datetime(2020, 8, 5, 15, 21, 38, 943228), params={'x': 1.8061040288698194}, distributions={'x': UniformDistribution(high=10, low=-10)}, user_attrs={}, system_attrs={}, intermediate_values={}, trial_id=31, state=TrialState.COMPLETE), FrozenTrial(number=32, value=3.192504526291885, datetime_start=datetime.datetime(2020, 8, 5, 15, 21, 38, 944982), datetime_complete=datetime.datetime(2020, 8, 5, 15, 21, 38, 947929), params={'x': 3.786758105142351}, distributions={'x': UniformDistribution(high=10, low=-10)}, user_attrs={}, system_attrs={}, intermediate_values={}, trial_id=32, state=TrialState.COMPLETE), FrozenTrial(number=33, value=0.7371763229175972, datetime_start=datetime.datetime(2020, 8, 5, 15, 21, 38, 949430), datetime_complete=datetime.datetime(2020, 8, 5, 15, 21, 38, 951974), params={'x': 1.1414102708990765}, distributions={'x': UniformDistribution(high=10, low=-10)}, user_attrs={}, system_attrs={}, intermediate_values={}, trial_id=33, state=TrialState.COMPLETE), FrozenTrial(number=34, value=10.624632122831201, datetime_start=datetime.datetime(2020, 8, 5, 15, 21, 38, 954197), datetime_complete=datetime.datetime(2020, 8, 5, 15, 21, 38, 956578), params={'x': 5.259544772331131}, distributions={'x': UniformDistribution(high=10, low=-10)}, user_attrs={}, system_attrs={}, intermediate_values={}, trial_id=34, state=TrialState.COMPLETE), FrozenTrial(number=35, value=11.755838041271259, datetime_start=datetime.datetime(2020, 8, 5, 15, 21, 38, 958228), datetime_complete=datetime.datetime(2020, 8, 5, 15, 21, 38, 960473), params={'x': -1.428678760291092}, distributions={'x': UniformDistribution(high=10, low=-10)}, user_attrs={}, system_attrs={}, intermediate_values={}, trial_id=35, state=TrialState.COMPLETE), FrozenTrial(number=36, value=2.5130438091574643, datetime_start=datetime.datetime(2020, 8, 5, 15, 21, 38, 961827), datetime_complete=datetime.datetime(2020, 8, 5, 15, 21, 38, 964271), params={'x': 3.585258278375314}, distributions={'x': UniformDistribution(high=10, low=-10)}, user_attrs={}, system_attrs={}, intermediate_values={}, trial_id=36, state=TrialState.COMPLETE), FrozenTrial(number=37, value=0.17074875158413166, datetime_start=datetime.datetime(2020, 8, 5, 15, 21, 38, 965830), datetime_complete=datetime.datetime(2020, 8, 5, 15, 21, 38, 968551), params={'x': 2.4132175596270464}, distributions={'x': UniformDistribution(high=10, low=-10)}, user_attrs={}, system_attrs={}, intermediate_values={}, trial_id=37, state=TrialState.COMPLETE), FrozenTrial(number=38, value=6.935117412030463, datetime_start=datetime.datetime(2020, 8, 5, 15, 21, 38, 970112), datetime_complete=datetime.datetime(2020, 8, 5, 15, 21, 38, 972536), params={'x': 4.633461108888921}, distributions={'x': UniformDistribution(high=10, low=-10)}, user_attrs={}, system_attrs={}, intermediate_values={}, trial_id=38, state=TrialState.COMPLETE), FrozenTrial(number=39, value=1.6394466447771845, datetime_start=datetime.datetime(2020, 8, 5, 15, 21, 38, 974560), datetime_complete=datetime.datetime(2020, 8, 5, 15, 21, 38, 977048), params={'x': 0.7195912196578842}, distributions={'x': UniformDistribution(high=10, low=-10)}, user_attrs={}, system_attrs={}, intermediate_values={}, trial_id=39, state=TrialState.COMPLETE), FrozenTrial(number=40, value=18.377672022955558, datetime_start=datetime.datetime(2020, 8, 5, 15, 21, 38, 978778), datetime_complete=datetime.datetime(2020, 8, 5, 15, 21, 38, 981369), params={'x': 6.2869187096276455}, distributions={'x': UniformDistribution(high=10, low=-10)}, user_attrs={}, system_attrs={}, intermediate_values={}, trial_id=40, state=TrialState.COMPLETE), FrozenTrial(number=41, value=0.0960280710982454, datetime_start=datetime.datetime(2020, 8, 5, 15, 21, 38, 982932), datetime_complete=datetime.datetime(2020, 8, 5, 15, 21, 38, 985668), params={'x': 1.6901160360743954}, distributions={'x': UniformDistribution(high=10, low=-10)}, user_attrs={}, system_attrs={}, intermediate_values={}, trial_id=41, state=TrialState.COMPLETE), FrozenTrial(number=42, value=7.561159038893501, datetime_start=datetime.datetime(2020, 8, 5, 15, 21, 38, 987139), datetime_complete=datetime.datetime(2020, 8, 5, 15, 21, 38, 989801), params={'x': -0.7497561780807951}, distributions={'x': UniformDistribution(high=10, low=-10)}, user_attrs={}, system_attrs={}, intermediate_values={}, trial_id=42, state=TrialState.COMPLETE), FrozenTrial(number=43, value=1.5281369064019472, datetime_start=datetime.datetime(2020, 8, 5, 15, 21, 38, 992253), datetime_complete=datetime.datetime(2020, 8, 5, 15, 21, 38, 998224), params={'x': 3.236178347327742}, distributions={'x': UniformDistribution(high=10, low=-10)}, user_attrs={}, system_attrs={}, intermediate_values={}, trial_id=43, state=TrialState.COMPLETE), FrozenTrial(number=44, value=2.33227873148973, datetime_start=datetime.datetime(2020, 8, 5, 15, 21, 39, 1074), datetime_complete=datetime.datetime(2020, 8, 5, 15, 21, 39, 4965), params={'x': 0.47282000684603975}, distributions={'x': UniformDistribution(high=10, low=-10)}, user_attrs={}, system_attrs={}, intermediate_values={}, trial_id=44, state=TrialState.COMPLETE), FrozenTrial(number=45, value=0.0037405294321863776, datetime_start=datetime.datetime(2020, 8, 5, 15, 21, 39, 8226), datetime_complete=datetime.datetime(2020, 8, 5, 15, 21, 39, 12296), params={'x': 2.061159867823487}, distributions={'x': UniformDistribution(high=10, low=-10)}, user_attrs={}, system_attrs={}, intermediate_values={}, trial_id=45, state=TrialState.COMPLETE), FrozenTrial(number=46, value=5.446781518182231, datetime_start=datetime.datetime(2020, 8, 5, 15, 21, 39, 15331), datetime_complete=datetime.datetime(2020, 8, 5, 15, 21, 39, 18589), params={'x': 4.333834081116786}, distributions={'x': UniformDistribution(high=10, low=-10)}, user_attrs={}, system_attrs={}, intermediate_values={}, trial_id=46, state=TrialState.COMPLETE), FrozenTrial(number=47, value=0.5777225042169338, datetime_start=datetime.datetime(2020, 8, 5, 15, 21, 39, 20592), datetime_complete=datetime.datetime(2020, 8, 5, 15, 21, 39, 23899), params={'x': 2.760080590606637}, distributions={'x': UniformDistribution(high=10, low=-10)}, user_attrs={}, system_attrs={}, intermediate_values={}, trial_id=47, state=TrialState.COMPLETE), FrozenTrial(number=48, value=3.75259035828485, datetime_start=datetime.datetime(2020, 8, 5, 15, 21, 39, 26191), datetime_complete=datetime.datetime(2020, 8, 5, 15, 21, 39, 29654), params={'x': 0.06283961472343491}, distributions={'x': UniformDistribution(high=10, low=-10)}, user_attrs={}, system_attrs={}, intermediate_values={}, trial_id=48, state=TrialState.COMPLETE), FrozenTrial(number=49, value=11.722214647036326, datetime_start=datetime.datetime(2020, 8, 5, 15, 21, 39, 32127), datetime_complete=datetime.datetime(2020, 8, 5, 15, 21, 39, 35780), params={'x': 5.423771991099338}, distributions={'x': UniformDistribution(high=10, low=-10)}, user_attrs={}, system_attrs={}, intermediate_values={}, trial_id=49, state=TrialState.COMPLETE), FrozenTrial(number=50, value=0.008382754653937733, datetime_start=datetime.datetime(2020, 8, 5, 15, 21, 39, 37510), datetime_complete=datetime.datetime(2020, 8, 5, 15, 21, 39, 40895), params={'x': 1.908442615513888}, distributions={'x': UniformDistribution(high=10, low=-10)}, user_attrs={}, system_attrs={}, intermediate_values={}, trial_id=50, state=TrialState.COMPLETE), FrozenTrial(number=51, value=0.02310740684393705, datetime_start=datetime.datetime(2020, 8, 5, 15, 21, 39, 42643), datetime_complete=datetime.datetime(2020, 8, 5, 15, 21, 39, 45360), params={'x': 1.8479887936896195}, distributions={'x': UniformDistribution(high=10, low=-10)}, user_attrs={}, system_attrs={}, intermediate_values={}, trial_id=51, state=TrialState.COMPLETE), FrozenTrial(number=52, value=3.8716874920695687, datetime_start=datetime.datetime(2020, 8, 5, 15, 21, 39, 47497), datetime_complete=datetime.datetime(2020, 8, 5, 15, 21, 39, 50169), params={'x': 3.9676604107593283}, distributions={'x': UniformDistribution(high=10, low=-10)}, user_attrs={}, system_attrs={}, intermediate_values={}, trial_id=52, state=TrialState.COMPLETE), FrozenTrial(number=53, value=0.006987537251142352, datetime_start=datetime.datetime(2020, 8, 5, 15, 21, 39, 52285), datetime_complete=datetime.datetime(2020, 8, 5, 15, 21, 39, 55452), params={'x': 1.9164085096966064}, distributions={'x': UniformDistribution(high=10, low=-10)}, user_attrs={}, system_attrs={}, intermediate_values={}, trial_id=53, state=TrialState.COMPLETE), FrozenTrial(number=54, value=1.7939298113388726, datetime_start=datetime.datetime(2020, 8, 5, 15, 21, 39, 57111), datetime_complete=datetime.datetime(2020, 8, 5, 15, 21, 39, 59750), params={'x': 0.6606233497111902}, distributions={'x': UniformDistribution(high=10, low=-10)}, user_attrs={}, system_attrs={}, intermediate_values={}, trial_id=54, state=TrialState.COMPLETE), FrozenTrial(number=55, value=9.664758649218584, datetime_start=datetime.datetime(2020, 8, 5, 15, 21, 39, 61304), datetime_complete=datetime.datetime(2020, 8, 5, 15, 21, 39, 64013), params={'x': -1.1088194944735186}, distributions={'x': UniformDistribution(high=10, low=-10)}, user_attrs={}, system_attrs={}, intermediate_values={}, trial_id=55, state=TrialState.COMPLETE), FrozenTrial(number=56, value=19.596101800334207, datetime_start=datetime.datetime(2020, 8, 5, 15, 21, 39, 65704), datetime_complete=datetime.datetime(2020, 8, 5, 15, 21, 39, 68164), params={'x': -2.426748445567492}, distributions={'x': UniformDistribution(high=10, low=-10)}, user_attrs={}, system_attrs={}, intermediate_values={}, trial_id=56, state=TrialState.COMPLETE), FrozenTrial(number=57, value=0.70716833754201, datetime_start=datetime.datetime(2020, 8, 5, 15, 21, 39, 69769), datetime_complete=datetime.datetime(2020, 8, 5, 15, 21, 39, 72512), params={'x': 2.840933016085116}, distributions={'x': UniformDistribution(high=10, low=-10)}, user_attrs={}, system_attrs={}, intermediate_values={}, trial_id=57, state=TrialState.COMPLETE), FrozenTrial(number=58, value=3.874341243628242, datetime_start=datetime.datetime(2020, 8, 5, 15, 21, 39, 74766), datetime_complete=datetime.datetime(2020, 8, 5, 15, 21, 39, 77129), params={'x': 0.031665362894753635}, distributions={'x': UniformDistribution(high=10, low=-10)}, user_attrs={}, system_attrs={}, intermediate_values={}, trial_id=58, state=TrialState.COMPLETE), FrozenTrial(number=59, value=0.2497961748327359, datetime_start=datetime.datetime(2020, 8, 5, 15, 21, 39, 78885), datetime_complete=datetime.datetime(2020, 8, 5, 15, 21, 39, 81614), params={'x': 1.5002038667289073}, distributions={'x': UniformDistribution(high=10, low=-10)}, user_attrs={}, system_attrs={}, intermediate_values={}, trial_id=59, state=TrialState.COMPLETE), FrozenTrial(number=60, value=6.220455731612409, datetime_start=datetime.datetime(2020, 8, 5, 15, 21, 39, 85116), datetime_complete=datetime.datetime(2020, 8, 5, 15, 21, 39, 87690), params={'x': 4.494084146858804}, distributions={'x': UniformDistribution(high=10, low=-10)}, user_attrs={}, system_attrs={}, intermediate_values={}, trial_id=60, state=TrialState.COMPLETE), FrozenTrial(number=61, value=8.431335595921006e-05, datetime_start=datetime.datetime(2020, 8, 5, 15, 21, 39, 89891), datetime_complete=datetime.datetime(2020, 8, 5, 15, 21, 39, 93573), params={'x': 2.009182230445769}, distributions={'x': UniformDistribution(high=10, low=-10)}, user_attrs={}, system_attrs={}, intermediate_values={}, trial_id=61, state=TrialState.COMPLETE), FrozenTrial(number=62, value=0.019346265117895896, datetime_start=datetime.datetime(2020, 8, 5, 15, 21, 39, 97785), datetime_complete=datetime.datetime(2020, 8, 5, 15, 21, 39, 105634), params={'x': 2.139090852028075}, distributions={'x': UniformDistribution(high=10, low=-10)}, user_attrs={}, system_attrs={}, intermediate_values={}, trial_id=62, state=TrialState.COMPLETE), FrozenTrial(number=63, value=1.6755925300052472, datetime_start=datetime.datetime(2020, 8, 5, 15, 21, 39, 109147), datetime_complete=datetime.datetime(2020, 8, 5, 15, 21, 39, 113593), params={'x': 3.294446804625531}, distributions={'x': UniformDistribution(high=10, low=-10)}, user_attrs={}, system_attrs={}, intermediate_values={}, trial_id=63, state=TrialState.COMPLETE), FrozenTrial(number=64, value=0.5698103832398566, datetime_start=datetime.datetime(2020, 8, 5, 15, 21, 39, 117452), datetime_complete=datetime.datetime(2020, 8, 5, 15, 21, 39, 123429), params={'x': 1.245142143685411}, distributions={'x': UniformDistribution(high=10, low=-10)}, user_attrs={}, system_attrs={}, intermediate_values={}, trial_id=64, state=TrialState.COMPLETE), FrozenTrial(number=65, value=0.013535179680784423, datetime_start=datetime.datetime(2020, 8, 5, 15, 21, 39, 127378), datetime_complete=datetime.datetime(2020, 8, 5, 15, 21, 39, 131342), params={'x': 2.1163407911301295}, distributions={'x': UniformDistribution(high=10, low=-10)}, user_attrs={}, system_attrs={}, intermediate_values={}, trial_id=65, state=TrialState.COMPLETE), FrozenTrial(number=66, value=0.15186649520528406, datetime_start=datetime.datetime(2020, 8, 5, 15, 21, 39, 134572), datetime_complete=datetime.datetime(2020, 8, 5, 15, 21, 39, 138521), params={'x': 2.3897005198935255}, distributions={'x': UniformDistribution(high=10, low=-10)}, user_attrs={}, system_attrs={}, intermediate_values={}, trial_id=66, state=TrialState.COMPLETE), FrozenTrial(number=67, value=6.596317435263296, datetime_start=datetime.datetime(2020, 8, 5, 15, 21, 39, 141002), datetime_complete=datetime.datetime(2020, 8, 5, 15, 21, 39, 144727), params={'x': -0.5683296975394914}, distributions={'x': UniformDistribution(high=10, low=-10)}, user_attrs={}, system_attrs={}, intermediate_values={}, trial_id=67, state=TrialState.COMPLETE), FrozenTrial(number=68, value=2.5936147199957316, datetime_start=datetime.datetime(2020, 8, 5, 15, 21, 39, 147413), datetime_complete=datetime.datetime(2020, 8, 5, 15, 21, 39, 150998), params={'x': 0.389529658765573}, distributions={'x': UniformDistribution(high=10, low=-10)}, user_attrs={}, system_attrs={}, intermediate_values={}, trial_id=68, state=TrialState.COMPLETE), FrozenTrial(number=69, value=3.2582690541951216, datetime_start=datetime.datetime(2020, 8, 5, 15, 21, 39, 153754), datetime_complete=datetime.datetime(2020, 8, 5, 15, 21, 39, 157433), params={'x': 3.805067603774197}, distributions={'x': UniformDistribution(high=10, low=-10)}, user_attrs={}, system_attrs={}, intermediate_values={}, trial_id=69, state=TrialState.COMPLETE), FrozenTrial(number=70, value=17.60261438568137, datetime_start=datetime.datetime(2020, 8, 5, 15, 21, 39, 159714), datetime_complete=datetime.datetime(2020, 8, 5, 15, 21, 39, 163304), params={'x': 6.195546970977845}, distributions={'x': UniformDistribution(high=10, low=-10)}, user_attrs={}, system_attrs={}, intermediate_values={}, trial_id=70, state=TrialState.COMPLETE), FrozenTrial(number=71, value=0.0019034129241118885, datetime_start=datetime.datetime(2020, 8, 5, 15, 21, 39, 165532), datetime_complete=datetime.datetime(2020, 8, 5, 15, 21, 39, 169296), params={'x': 2.0436281207951006}, distributions={'x': UniformDistribution(high=10, low=-10)}, user_attrs={}, system_attrs={}, intermediate_values={}, trial_id=71, state=TrialState.COMPLETE), FrozenTrial(number=72, value=0.08054914317411307, datetime_start=datetime.datetime(2020, 8, 5, 15, 21, 39, 171748), datetime_complete=datetime.datetime(2020, 8, 5, 15, 21, 39, 175634), params={'x': 2.283811809433845}, distributions={'x': UniformDistribution(high=10, low=-10)}, user_attrs={}, system_attrs={}, intermediate_values={}, trial_id=72, state=TrialState.COMPLETE), FrozenTrial(number=73, value=0.864013626704832, datetime_start=datetime.datetime(2020, 8, 5, 15, 21, 39, 177536), datetime_complete=datetime.datetime(2020, 8, 5, 15, 21, 39, 181505), params={'x': 2.9295233330610007}, distributions={'x': UniformDistribution(high=10, low=-10)}, user_attrs={}, system_attrs={}, intermediate_values={}, trial_id=73, state=TrialState.COMPLETE), FrozenTrial(number=74, value=0.448367654355847, datetime_start=datetime.datetime(2020, 8, 5, 15, 21, 39, 183680), datetime_complete=datetime.datetime(2020, 8, 5, 15, 21, 39, 187447), params={'x': 1.3303973907190572}, distributions={'x': UniformDistribution(high=10, low=-10)}, user_attrs={}, system_attrs={}, intermediate_values={}, trial_id=74, state=TrialState.COMPLETE), FrozenTrial(number=75, value=1.3599767623842405, datetime_start=datetime.datetime(2020, 8, 5, 15, 21, 39, 189658), datetime_complete=datetime.datetime(2020, 8, 5, 15, 21, 39, 193092), params={'x': 0.8338195841190608}, distributions={'x': UniformDistribution(high=10, low=-10)}, user_attrs={}, system_attrs={}, intermediate_values={}, trial_id=75, state=TrialState.COMPLETE), FrozenTrial(number=76, value=0.02755421030978168, datetime_start=datetime.datetime(2020, 8, 5, 15, 21, 39, 195316), datetime_complete=datetime.datetime(2020, 8, 5, 15, 21, 39, 199005), params={'x': 1.8340053907207174}, distributions={'x': UniformDistribution(high=10, low=-10)}, user_attrs={}, system_attrs={}, intermediate_values={}, trial_id=76, state=TrialState.COMPLETE), FrozenTrial(number=77, value=2.089375791450905, datetime_start=datetime.datetime(2020, 8, 5, 15, 21, 39, 201236), datetime_complete=datetime.datetime(2020, 8, 5, 15, 21, 39, 205907), params={'x': 3.4454673263173072}, distributions={'x': UniformDistribution(high=10, low=-10)}, user_attrs={}, system_attrs={}, intermediate_values={}, trial_id=77, state=TrialState.COMPLETE), FrozenTrial(number=78, value=2.3189750330116152e-05, datetime_start=datetime.datetime(2020, 8, 5, 15, 21, 39, 208298), datetime_complete=datetime.datetime(2020, 8, 5, 15, 21, 39, 212006), params={'x': 1.9951844262719676}, distributions={'x': UniformDistribution(high=10, low=-10)}, user_attrs={}, system_attrs={}, intermediate_values={}, trial_id=78, state=TrialState.COMPLETE), FrozenTrial(number=79, value=8.694717105550183, datetime_start=datetime.datetime(2020, 8, 5, 15, 21, 39, 214983), datetime_complete=datetime.datetime(2020, 8, 5, 15, 21, 39, 219210), params={'x': 4.948680570280576}, distributions={'x': UniformDistribution(high=10, low=-10)}, user_attrs={}, system_attrs={}, intermediate_values={}, trial_id=79, state=TrialState.COMPLETE), FrozenTrial(number=80, value=1.2257692746048772, datetime_start=datetime.datetime(2020, 8, 5, 15, 21, 39, 221506), datetime_complete=datetime.datetime(2020, 8, 5, 15, 21, 39, 226293), params={'x': 0.8928553506407226}, distributions={'x': UniformDistribution(high=10, low=-10)}, user_attrs={}, system_attrs={}, intermediate_values={}, trial_id=80, state=TrialState.COMPLETE), FrozenTrial(number=81, value=0.05345349882514913, datetime_start=datetime.datetime(2020, 8, 5, 15, 21, 39, 228861), datetime_complete=datetime.datetime(2020, 8, 5, 15, 21, 39, 234277), params={'x': 2.231200127216983}, distributions={'x': UniformDistribution(high=10, low=-10)}, user_attrs={}, system_attrs={}, intermediate_values={}, trial_id=81, state=TrialState.COMPLETE), FrozenTrial(number=82, value=0.4616470157691632, datetime_start=datetime.datetime(2020, 8, 5, 15, 21, 39, 238616), datetime_complete=datetime.datetime(2020, 8, 5, 15, 21, 39, 246430), params={'x': 2.6794461095400894}, distributions={'x': UniformDistribution(high=10, low=-10)}, user_attrs={}, system_attrs={}, intermediate_values={}, trial_id=82, state=TrialState.COMPLETE), FrozenTrial(number=83, value=0.0010493851790462077, datetime_start=datetime.datetime(2020, 8, 5, 15, 21, 39, 251286), datetime_complete=datetime.datetime(2020, 8, 5, 15, 21, 39, 259611), params={'x': 1.967605784790395}, distributions={'x': UniformDistribution(high=10, low=-10)}, user_attrs={}, system_attrs={}, intermediate_values={}, trial_id=83, state=TrialState.COMPLETE), FrozenTrial(number=84, value=4.564506431090329, datetime_start=datetime.datetime(2020, 8, 5, 15, 21, 39, 262190), datetime_complete=datetime.datetime(2020, 8, 5, 15, 21, 39, 269882), params={'x': -0.1364705546977074}, distributions={'x': UniformDistribution(high=10, low=-10)}, user_attrs={}, system_attrs={}, intermediate_values={}, trial_id=84, state=TrialState.COMPLETE), FrozenTrial(number=85, value=0.2981267366226337, datetime_start=datetime.datetime(2020, 8, 5, 15, 21, 39, 272712), datetime_complete=datetime.datetime(2020, 8, 5, 15, 21, 39, 281670), params={'x': 1.4539901680165148}, distributions={'x': UniformDistribution(high=10, low=-10)}, user_attrs={}, system_attrs={}, intermediate_values={}, trial_id=85, state=TrialState.COMPLETE), FrozenTrial(number=86, value=4.468829810277236, datetime_start=datetime.datetime(2020, 8, 5, 15, 21, 39, 284354), datetime_complete=datetime.datetime(2020, 8, 5, 15, 21, 39, 288581), params={'x': 4.113960692699189}, distributions={'x': UniformDistribution(high=10, low=-10)}, user_attrs={}, system_attrs={}, intermediate_values={}, trial_id=86, state=TrialState.COMPLETE), FrozenTrial(number=87, value=1.4599491327449547, datetime_start=datetime.datetime(2020, 8, 5, 15, 21, 39, 290931), datetime_complete=datetime.datetime(2020, 8, 5, 15, 21, 39, 298669), params={'x': 3.2082835481562078}, distributions={'x': UniformDistribution(high=10, low=-10)}, user_attrs={}, system_attrs={}, intermediate_values={}, trial_id=87, state=TrialState.COMPLETE), FrozenTrial(number=88, value=2.8667070370965138, datetime_start=datetime.datetime(2020, 8, 5, 15, 21, 39, 301581), datetime_complete=datetime.datetime(2020, 8, 5, 15, 21, 39, 306574), params={'x': 0.3068647316010118}, distributions={'x': UniformDistribution(high=10, low=-10)}, user_attrs={}, system_attrs={}, intermediate_values={}, trial_id=88, state=TrialState.COMPLETE), FrozenTrial(number=89, value=0.05304628040094215, datetime_start=datetime.datetime(2020, 8, 5, 15, 21, 39, 309083), datetime_complete=datetime.datetime(2020, 8, 5, 15, 21, 39, 315171), params={'x': 1.7696822186609507}, distributions={'x': UniformDistribution(high=10, low=-10)}, user_attrs={}, system_attrs={}, intermediate_values={}, trial_id=89, state=TrialState.COMPLETE), FrozenTrial(number=90, value=0.5142332947101295, datetime_start=datetime.datetime(2020, 8, 5, 15, 21, 39, 317485), datetime_complete=datetime.datetime(2020, 8, 5, 15, 21, 39, 322707), params={'x': 2.7171006168663707}, distributions={'x': UniformDistribution(high=10, low=-10)}, user_attrs={}, system_attrs={}, intermediate_values={}, trial_id=90, state=TrialState.COMPLETE), FrozenTrial(number=91, value=0.004751331014082834, datetime_start=datetime.datetime(2020, 8, 5, 15, 21, 39, 324689), datetime_complete=datetime.datetime(2020, 8, 5, 15, 21, 39, 330167), params={'x': 2.0689298992751537}, distributions={'x': UniformDistribution(high=10, low=-10)}, user_attrs={}, system_attrs={}, intermediate_values={}, trial_id=91, state=TrialState.COMPLETE), FrozenTrial(number=92, value=1.0051540968023347, datetime_start=datetime.datetime(2020, 8, 5, 15, 21, 39, 333341), datetime_complete=datetime.datetime(2020, 8, 5, 15, 21, 39, 341381), params={'x': 0.9974262636582113}, distributions={'x': UniformDistribution(high=10, low=-10)}, user_attrs={}, system_attrs={}, intermediate_values={}, trial_id=92, state=TrialState.COMPLETE), FrozenTrial(number=93, value=2.344532522484464, datetime_start=datetime.datetime(2020, 8, 5, 15, 21, 39, 344373), datetime_complete=datetime.datetime(2020, 8, 5, 15, 21, 39, 351159), params={'x': 3.531186638684019}, distributions={'x': UniformDistribution(high=10, low=-10)}, user_attrs={}, system_attrs={}, intermediate_values={}, trial_id=93, state=TrialState.COMPLETE), FrozenTrial(number=94, value=0.04531844387693126, datetime_start=datetime.datetime(2020, 8, 5, 15, 21, 39, 354442), datetime_complete=datetime.datetime(2020, 8, 5, 15, 21, 39, 361699), params={'x': 1.787118709424874}, distributions={'x': UniformDistribution(high=10, low=-10)}, user_attrs={}, system_attrs={}, intermediate_values={}, trial_id=94, state=TrialState.COMPLETE), FrozenTrial(number=95, value=123.66184928857332, datetime_start=datetime.datetime(2020, 8, 5, 15, 21, 39, 364926), datetime_complete=datetime.datetime(2020, 8, 5, 15, 21, 39, 371499), params={'x': -9.120334944981348}, distributions={'x': UniformDistribution(high=10, low=-10)}, user_attrs={}, system_attrs={}, intermediate_values={}, trial_id=95, state=TrialState.COMPLETE), FrozenTrial(number=96, value=0.009172677199373643, datetime_start=datetime.datetime(2020, 8, 5, 15, 21, 39, 374938), datetime_complete=datetime.datetime(2020, 8, 5, 15, 21, 39, 381837), params={'x': 2.0957740946152645}, distributions={'x': UniformDistribution(high=10, low=-10)}, user_attrs={}, system_attrs={}, intermediate_values={}, trial_id=96, state=TrialState.COMPLETE), FrozenTrial(number=97, value=1.0957672220661352, datetime_start=datetime.datetime(2020, 8, 5, 15, 21, 39, 384571), datetime_complete=datetime.datetime(2020, 8, 5, 15, 21, 39, 388854), params={'x': 3.0467890055145475}, distributions={'x': UniformDistribution(high=10, low=-10)}, user_attrs={}, system_attrs={}, intermediate_values={}, trial_id=97, state=TrialState.COMPLETE), FrozenTrial(number=98, value=0.552965984781267, datetime_start=datetime.datetime(2020, 8, 5, 15, 21, 39, 391840), datetime_complete=datetime.datetime(2020, 8, 5, 15, 21, 39, 402976), params={'x': 1.2563831734143807}, distributions={'x': UniformDistribution(high=10, low=-10)}, user_attrs={}, system_attrs={}, intermediate_values={}, trial_id=98, state=TrialState.COMPLETE), FrozenTrial(number=99, value=0.1946376378899873, datetime_start=datetime.datetime(2020, 8, 5, 15, 21, 39, 406231), datetime_complete=datetime.datetime(2020, 8, 5, 15, 21, 39, 414018), params={'x': 2.4411775582347626}, distributions={'x': UniformDistribution(high=10, low=-10)}, user_attrs={}, system_attrs={}, intermediate_values={}, trial_id=99, state=TrialState.COMPLETE)]\n"
     ]
    }
   ],
   "source": [
    "# 出力\n",
    "print(study.best_params)\n",
    "print(study.best_value)\n",
    "print(study.best_trial)\n",
    "print(study.trials)"
   ]
  },
  {
   "cell_type": "code",
   "execution_count": null,
   "metadata": {},
   "outputs": [],
   "source": []
  },
  {
   "cell_type": "code",
   "execution_count": null,
   "metadata": {},
   "outputs": [],
   "source": []
  },
  {
   "cell_type": "markdown",
   "metadata": {},
   "source": [
    "# 【問題4】高い汎化性能のモデル作成\n",
    "問題3で見つけたアイデアと、独自のアイデアを組み合わせ高い汎化性能のモデル作りを進めてください。\n",
    "\n",
    "\n",
    "その過程として、何を行うことで、クロスバリデーションの結果がどの程度変化したかを表にまとめてください。"
   ]
  },
  {
   "cell_type": "markdown",
   "metadata": {},
   "source": [
    "### データ前処理\n",
    "\n",
    "* 行数を50000行(train=40000, test=10000)に削減\n",
    "* カテゴリカル変数をintに変換\n",
    "* 欠損値は平均値で全埋め\n"
   ]
  },
  {
   "cell_type": "code",
   "execution_count": 168,
   "metadata": {},
   "outputs": [
    {
     "data": {
      "text/plain": [
       "array([[0., 0., 0., ..., 1., 0., 1.],\n",
       "       [0., 1., 0., ..., 1., 0., 3.],\n",
       "       [0., 1., 0., ..., 1., 0., 3.],\n",
       "       ...,\n",
       "       [1., 0., 0., ..., 0., 0., 2.],\n",
       "       [0., 1., 0., ..., 0., 1., 7.],\n",
       "       [0., 0., 1., ..., 0., 0., 2.]])"
      ]
     },
     "execution_count": 168,
     "metadata": {},
     "output_type": "execute_result"
    }
   ],
   "source": [
    "# Sample 50000 rows (40000 for training, 10000 for testing) \n",
    "\n",
    "df = data.sample(n = 50000, random_state = 42)\n",
    "X = df.drop(['TARGET','SK_ID_CURR'], axis=1)\n",
    "y = np.array(df['TARGET'].astype(np.int32)).reshape((-1, ))\n",
    "\n",
    "_factorize_categoricals(X, obj)\n",
    "X.fillna(X.mean(), inplace=True)\n",
    "X = X.values\n",
    "X"
   ]
  },
  {
   "cell_type": "code",
   "execution_count": 165,
   "metadata": {},
   "outputs": [],
   "source": [
    "# train_test_split\n",
    "\n",
    "#X_train, X_test, y_train, y_test = train_test_split( X, y, train_size=0.8)\n",
    "#print(X_train, X_test, y_train, y_test)"
   ]
  },
  {
   "cell_type": "markdown",
   "metadata": {},
   "source": [
    "### モデル検討\n",
    "\n",
    "* SGDClassifier(すでに計算ずみ)\n",
    "* RandomForest\n",
    "* LightGBM"
   ]
  },
  {
   "cell_type": "markdown",
   "metadata": {},
   "source": [
    "### 作業手順\n",
    "①ランダムフォレストでauc_scoreを算出\n",
    "\n",
    "②optunaでパラメータ調整、再計算\n",
    "\n",
    "③LightGBMでauc_scoreを算出\n",
    "\n",
    "④optunaでパラメータ調整、再計算"
   ]
  },
  {
   "cell_type": "code",
   "execution_count": 237,
   "metadata": {},
   "outputs": [],
   "source": [
    "# ランダムフォレスト\n",
    "\n",
    "def RFC_func(x_train, y_train, x_test):\n",
    "    rfc = RandomForestClassifier(n_estimators=100)\n",
    "    rfc.fit(x_train, y_train)\n",
    "    y_pred_rfc = rfc.predict_proba(x_test)[:,1]\n",
    "\n",
    "    return y_pred_rfc"
   ]
  },
  {
   "cell_type": "code",
   "execution_count": 238,
   "metadata": {},
   "outputs": [
    {
     "name": "stdout",
     "output_type": "stream",
     "text": [
      "TRAIN: [10000 10001 10002 ... 49997 49998 49999] TEST: [   0    1    2 ... 9997 9998 9999]\n",
      "auc_score =  0.7000005031332623\n",
      "TRAIN: [    0     1     2 ... 49997 49998 49999] TEST: [10000 10001 10002 ... 19997 19998 19999]\n",
      "auc_score =  0.7053480814932889\n",
      "TRAIN: [    0     1     2 ... 49997 49998 49999] TEST: [20000 20001 20002 ... 29997 29998 29999]\n",
      "auc_score =  0.7042351742332782\n",
      "TRAIN: [    0     1     2 ... 49997 49998 49999] TEST: [30000 30001 30002 ... 39997 39998 39999]\n",
      "auc_score =  0.6867283771625323\n",
      "TRAIN: [    0     1     2 ... 39997 39998 39999] TEST: [40000 40001 40002 ... 49997 49998 49999]\n",
      "auc_score =  0.697195825685522\n"
     ]
    }
   ],
   "source": [
    "# KFoldで分割、標準化、RandomForestClassifierで推定、評価(auc)まで\n",
    "\n",
    "cnt = 0\n",
    "outlist3 = {}\n",
    "\n",
    "for train_index, test_index in kf.split(X):\n",
    "    print(\"TRAIN:\", train_index, \"TEST:\", test_index)\n",
    "    X_train, X_test = X[train_index], X[test_index]\n",
    "    y_train, y_test = y[train_index], y[test_index]\n",
    "    \n",
    "    x_train_std, x_test_std = StandardScaler_func(X_train, X_test)\n",
    "    y_pred_rfc = RFC_func(x_train_std, y_train, x_test_std)\n",
    "    \n",
    "    output(y_test, y_pred_rfc, cnt, outlist3)\n",
    "    cnt += 1"
   ]
  },
  {
   "cell_type": "code",
   "execution_count": 263,
   "metadata": {},
   "outputs": [
    {
     "name": "stdout",
     "output_type": "stream",
     "text": [
      "RFC(default)の平均auc_scoreは0.69870です。\n"
     ]
    }
   ],
   "source": [
    "# 平均auc_score\n",
    "tmp = []\n",
    "for i in range(len(outlist3)):\n",
    "    tmp.append(outlist3[i])\n",
    "ave = sum(tmp) / len(tmp)\n",
    "print(\"RFC(default)の平均auc_scoreは{:.５f}です。\".format(ave))\n",
    "result_dict['RFC(default)'] = ave"
   ]
  },
  {
   "cell_type": "code",
   "execution_count": 264,
   "metadata": {},
   "outputs": [
    {
     "data": {
      "text/plain": [
       "{'SGDC': 0.7134657087537568,\n",
       " 'SGDC2': 0.7163910947715465,\n",
       " 'RFC(optuna)': 0.7357399832259727,\n",
       " 'RFC(default)': 0.6987015923415767}"
      ]
     },
     "execution_count": 264,
     "metadata": {},
     "output_type": "execute_result"
    }
   ],
   "source": [
    "result_dict"
   ]
  },
  {
   "cell_type": "code",
   "execution_count": null,
   "metadata": {},
   "outputs": [],
   "source": []
  },
  {
   "cell_type": "code",
   "execution_count": 256,
   "metadata": {},
   "outputs": [],
   "source": [
    "def objective(trial):\n",
    "    min_samples_split = trial.suggest_int(\"min_samples_split\", 8, 16)\n",
    "    max_leaf_nodes = int(trial.suggest_discrete_uniform(\"max_leaf_nodes\", 4, 64, 4))\n",
    "    criterion = trial.suggest_categorical(\"criterion\", [\"gini\", \"entropy\"])\n",
    "    \n",
    "    rfc = RandomForestClassifier(min_samples_split = min_samples_split, \n",
    "                                max_leaf_nodes = max_leaf_nodes,\n",
    "                                criterion = criterion, \n",
    "                                n_estimators=100)\n",
    "    rfc.fit(X_train, y_train)\n",
    "    pred = rfc.predict_proba(X_test)[:,1]\n",
    "    print(pred)\n",
    "    return roc_auc_score(y_test, pred)"
   ]
  },
  {
   "cell_type": "code",
   "execution_count": 257,
   "metadata": {
    "scrolled": true
   },
   "outputs": [
    {
     "name": "stdout",
     "output_type": "stream",
     "text": [
      "[0.07192918 0.07143415 0.07369964 ... 0.06621342 0.05912779 0.10899216]\n"
     ]
    },
    {
     "name": "stderr",
     "output_type": "stream",
     "text": [
      "[I 2020-08-05 17:58:57,847] Trial 0 finished with value: 0.7320245842371657 and parameters: {'min_samples_split': 14, 'max_leaf_nodes': 16.0, 'criterion': 'entropy'}. Best is trial 0 with value: 0.7320245842371657.\n"
     ]
    },
    {
     "name": "stdout",
     "output_type": "stream",
     "text": [
      "[0.07063216 0.06823887 0.07497556 ... 0.06640343 0.070175   0.10742239]\n"
     ]
    },
    {
     "name": "stderr",
     "output_type": "stream",
     "text": [
      "[I 2020-08-05 17:59:04,639] Trial 1 finished with value: 0.7272765448578897 and parameters: {'min_samples_split': 16, 'max_leaf_nodes': 12.0, 'criterion': 'gini'}. Best is trial 0 with value: 0.7320245842371657.\n"
     ]
    },
    {
     "name": "stdout",
     "output_type": "stream",
     "text": [
      "[0.07930114 0.06758404 0.07613517 ... 0.06779067 0.0671814  0.12682585]\n"
     ]
    },
    {
     "name": "stderr",
     "output_type": "stream",
     "text": [
      "[I 2020-08-05 17:59:16,561] Trial 2 finished with value: 0.7357531008398687 and parameters: {'min_samples_split': 13, 'max_leaf_nodes': 48.0, 'criterion': 'entropy'}. Best is trial 2 with value: 0.7357531008398687.\n"
     ]
    },
    {
     "name": "stdout",
     "output_type": "stream",
     "text": [
      "[0.07822304 0.07327271 0.07767791 ... 0.0720601  0.07471556 0.08959873]\n"
     ]
    },
    {
     "name": "stderr",
     "output_type": "stream",
     "text": [
      "[I 2020-08-05 17:59:22,548] Trial 3 finished with value: 0.7234499276934201 and parameters: {'min_samples_split': 14, 'max_leaf_nodes': 4.0, 'criterion': 'entropy'}. Best is trial 2 with value: 0.7357531008398687.\n"
     ]
    },
    {
     "name": "stdout",
     "output_type": "stream",
     "text": [
      "[0.07442948 0.07247195 0.07308148 ... 0.07341448 0.06592361 0.10627002]\n"
     ]
    },
    {
     "name": "stderr",
     "output_type": "stream",
     "text": [
      "[I 2020-08-05 17:59:32,791] Trial 4 finished with value: 0.7340538962122477 and parameters: {'min_samples_split': 14, 'max_leaf_nodes': 24.0, 'criterion': 'entropy'}. Best is trial 2 with value: 0.7357531008398687.\n"
     ]
    },
    {
     "name": "stdout",
     "output_type": "stream",
     "text": [
      "[0.07575374 0.06176207 0.06634814 ... 0.063699   0.06392897 0.12551166]\n"
     ]
    },
    {
     "name": "stderr",
     "output_type": "stream",
     "text": [
      "[I 2020-08-05 17:59:42,518] Trial 5 finished with value: 0.7296701707547695 and parameters: {'min_samples_split': 14, 'max_leaf_nodes': 48.0, 'criterion': 'gini'}. Best is trial 2 with value: 0.7357531008398687.\n"
     ]
    },
    {
     "name": "stdout",
     "output_type": "stream",
     "text": [
      "[0.07635543 0.07641418 0.07477287 ... 0.07104702 0.06643857 0.09296969]\n"
     ]
    },
    {
     "name": "stderr",
     "output_type": "stream",
     "text": [
      "[I 2020-08-05 17:59:50,718] Trial 6 finished with value: 0.7286242282663107 and parameters: {'min_samples_split': 13, 'max_leaf_nodes': 8.0, 'criterion': 'entropy'}. Best is trial 2 with value: 0.7357531008398687.\n"
     ]
    },
    {
     "name": "stdout",
     "output_type": "stream",
     "text": [
      "[0.07837318 0.07343048 0.07522398 ... 0.0666417  0.05970926 0.11594941]\n"
     ]
    },
    {
     "name": "stderr",
     "output_type": "stream",
     "text": [
      "[I 2020-08-05 18:00:02,115] Trial 7 finished with value: 0.7347821069024973 and parameters: {'min_samples_split': 10, 'max_leaf_nodes': 32.0, 'criterion': 'entropy'}. Best is trial 2 with value: 0.7357531008398687.\n"
     ]
    },
    {
     "name": "stdout",
     "output_type": "stream",
     "text": [
      "[0.07286351 0.06865949 0.07360974 ... 0.06986194 0.06673591 0.1079261 ]\n"
     ]
    },
    {
     "name": "stderr",
     "output_type": "stream",
     "text": [
      "[I 2020-08-05 18:00:11,581] Trial 8 finished with value: 0.7276432226486457 and parameters: {'min_samples_split': 8, 'max_leaf_nodes': 12.0, 'criterion': 'gini'}. Best is trial 2 with value: 0.7357531008398687.\n"
     ]
    },
    {
     "name": "stdout",
     "output_type": "stream",
     "text": [
      "[0.07192712 0.06617282 0.06740663 ... 0.06233988 0.06623818 0.11210519]\n"
     ]
    },
    {
     "name": "stderr",
     "output_type": "stream",
     "text": [
      "[I 2020-08-05 18:00:21,988] Trial 9 finished with value: 0.7316979531675845 and parameters: {'min_samples_split': 16, 'max_leaf_nodes': 32.0, 'criterion': 'gini'}. Best is trial 2 with value: 0.7357531008398687.\n"
     ]
    }
   ],
   "source": [
    "study = optuna.create_study(direction='maximize')\n",
    "study.optimize(objective, n_trials=100, timeout=300)"
   ]
  },
  {
   "cell_type": "code",
   "execution_count": 258,
   "metadata": {},
   "outputs": [
    {
     "name": "stdout",
     "output_type": "stream",
     "text": [
      "{'min_samples_split': 13, 'max_leaf_nodes': 48.0, 'criterion': 'entropy'}\n",
      "0.7357531008398687\n",
      "FrozenTrial(number=2, value=0.7357531008398687, datetime_start=datetime.datetime(2020, 8, 5, 17, 59, 4, 642299), datetime_complete=datetime.datetime(2020, 8, 5, 17, 59, 16, 560681), params={'min_samples_split': 13, 'max_leaf_nodes': 48.0, 'criterion': 'entropy'}, distributions={'min_samples_split': IntUniformDistribution(high=16, low=8, step=1), 'max_leaf_nodes': DiscreteUniformDistribution(high=64, low=4, q=4), 'criterion': CategoricalDistribution(choices=('gini', 'entropy'))}, user_attrs={}, system_attrs={}, intermediate_values={}, trial_id=2, state=TrialState.COMPLETE)\n"
     ]
    }
   ],
   "source": [
    "# 出力\n",
    "print(study.best_params)\n",
    "print(study.best_value)\n",
    "print(study.best_trial)"
   ]
  },
  {
   "cell_type": "code",
   "execution_count": 259,
   "metadata": {},
   "outputs": [],
   "source": [
    "# ランダムフォレストのパラメータ変更版\n",
    "\n",
    "\n",
    "def RFC_func_2(x_train, y_train, x_test):\n",
    "    rfc2 = RandomForestClassifier(min_samples_split = 13, \n",
    "                                max_leaf_nodes = 48,\n",
    "                                criterion = \"entropy\", \n",
    "                                n_estimators=100)\n",
    "    rfc2.fit(x_train, y_train)\n",
    "    y_pred_rfc = rfc2.predict_proba(x_test)[:,1]\n",
    "\n",
    "    return y_pred_rfc"
   ]
  },
  {
   "cell_type": "code",
   "execution_count": 260,
   "metadata": {},
   "outputs": [
    {
     "name": "stdout",
     "output_type": "stream",
     "text": [
      "TRAIN: [10000 10001 10002 ... 49997 49998 49999] TEST: [   0    1    2 ... 9997 9998 9999]\n",
      "auc_score =  0.7330791980744296\n",
      "TRAIN: [    0     1     2 ... 49997 49998 49999] TEST: [10000 10001 10002 ... 19997 19998 19999]\n",
      "auc_score =  0.7414956907298094\n",
      "TRAIN: [    0     1     2 ... 49997 49998 49999] TEST: [20000 20001 20002 ... 29997 29998 29999]\n",
      "auc_score =  0.7327181389746681\n",
      "TRAIN: [    0     1     2 ... 49997 49998 49999] TEST: [30000 30001 30002 ... 39997 39998 39999]\n",
      "auc_score =  0.7337606065777766\n",
      "TRAIN: [    0     1     2 ... 39997 39998 39999] TEST: [40000 40001 40002 ... 49997 49998 49999]\n",
      "auc_score =  0.7376462817731798\n"
     ]
    }
   ],
   "source": [
    "# KFoldで分割、標準化、RandomForestClassifierで推定、評価(auc)まで\n",
    "\n",
    "cnt = 0\n",
    "outlist = {}\n",
    "\n",
    "for train_index, test_index in kf.split(X):\n",
    "    print(\"TRAIN:\", train_index, \"TEST:\", test_index)\n",
    "    X_train, X_test = X[train_index], X[test_index]\n",
    "    y_train, y_test = y[train_index], y[test_index]\n",
    "    \n",
    "    x_train_std, x_test_std = StandardScaler_func(X_train, X_test)\n",
    "    y_pred_rfc = RFC_func_2(x_train_std, y_train, x_test_std)\n",
    "            \n",
    "    output(y_test, y_pred_rfc, cnt, outlist)\n",
    "    cnt += 1\n",
    "        "
   ]
  },
  {
   "cell_type": "code",
   "execution_count": 261,
   "metadata": {},
   "outputs": [
    {
     "name": "stdout",
     "output_type": "stream",
     "text": [
      "RFC(default)の平均auc_scoreは0.73574です。\n"
     ]
    }
   ],
   "source": [
    "# 平均auc_score\n",
    "tmp = []\n",
    "for i in range(len(outlist)):\n",
    "    tmp.append(outlist[i])\n",
    "ave = sum(tmp) / len(tmp)\n",
    "print(\"RFC(default)の平均auc_scoreは{:.５f}です。\".format(ave))\n",
    "result_dict['RFC(optuna)'] = ave"
   ]
  },
  {
   "cell_type": "code",
   "execution_count": 273,
   "metadata": {},
   "outputs": [],
   "source": [
    "# lightGBM\n",
    "def LGB_func(x_train, y_train, x_test):    \n",
    "    clf = lgb.LGBMClassifier()\n",
    "    clf.fit(X_train, y_train)\n",
    "    pred = clf.predict_proba(X_test)[:,1]\n",
    "    print(pred)\n",
    "    return pred\n"
   ]
  },
  {
   "cell_type": "code",
   "execution_count": 268,
   "metadata": {},
   "outputs": [
    {
     "name": "stdout",
     "output_type": "stream",
     "text": [
      "TRAIN: [10000 10001 10002 ... 49997 49998 49999] TEST: [   0    1    2 ... 9997 9998 9999]\n",
      "[0.23525141 0.01170854 0.1140012  ... 0.03662226 0.06838657 0.02599242]\n",
      "auc_score =  0.7440248621977577\n",
      "TRAIN: [    0     1     2 ... 49997 49998 49999] TEST: [10000 10001 10002 ... 19997 19998 19999]\n",
      "[0.36954851 0.15329736 0.03222131 ... 0.13573284 0.04660961 0.0586243 ]\n",
      "auc_score =  0.7468217535226942\n",
      "TRAIN: [    0     1     2 ... 49997 49998 49999] TEST: [20000 20001 20002 ... 29997 29998 29999]\n",
      "[0.19183214 0.03409891 0.08221068 ... 0.05957516 0.02868581 0.11929574]\n",
      "auc_score =  0.737033463186228\n",
      "TRAIN: [    0     1     2 ... 49997 49998 49999] TEST: [30000 30001 30002 ... 39997 39998 39999]\n",
      "[0.00934774 0.05325231 0.03654452 ... 0.01022152 0.03442804 0.15798254]\n",
      "auc_score =  0.7343276991368926\n",
      "TRAIN: [    0     1     2 ... 39997 39998 39999] TEST: [40000 40001 40002 ... 49997 49998 49999]\n",
      "[0.04440699 0.04528887 0.07369795 ... 0.06525182 0.04802616 0.45418421]\n",
      "auc_score =  0.7386562100228043\n"
     ]
    }
   ],
   "source": [
    "# KFoldで分割、標準化、lgbで推定、評価(auc)まで\n",
    "\n",
    "cnt = 0\n",
    "outlist = {}\n",
    "\n",
    "for train_index, test_index in kf.split(X):\n",
    "    print(\"TRAIN:\", train_index, \"TEST:\", test_index)\n",
    "    X_train, X_test = X[train_index], X[test_index]\n",
    "    y_train, y_test = y[train_index], y[test_index]\n",
    "    \n",
    "    x_train_std, x_test_std = StandardScaler_func(X_train, X_test)\n",
    "    y_pred_lgb = LGB_func(x_train_std, y_train, x_test_std)\n",
    "            \n",
    "    output(y_test, y_pred_lgb, cnt, outlist)\n",
    "    cnt += 1"
   ]
  },
  {
   "cell_type": "code",
   "execution_count": 269,
   "metadata": {},
   "outputs": [
    {
     "name": "stdout",
     "output_type": "stream",
     "text": [
      "RFC(default)の平均auc_scoreは0.74017です。\n"
     ]
    }
   ],
   "source": [
    "# 平均auc_score\n",
    "tmp = []\n",
    "for i in range(len(outlist)):\n",
    "    tmp.append(outlist[i])\n",
    "ave = sum(tmp) / len(tmp)\n",
    "print(\"RFC(default)の平均auc_scoreは{:.５f}です。\".format(ave))\n",
    "result_dict['LGB(default)'] = ave\n"
   ]
  },
  {
   "cell_type": "code",
   "execution_count": 271,
   "metadata": {},
   "outputs": [
    {
     "data": {
      "text/plain": [
       "{'SGDC': 0.7134657087537568,\n",
       " 'SGDC2': 0.7163910947715465,\n",
       " 'RFC(optuna)': 0.7357399832259727,\n",
       " 'RFC(default)': 0.6987015923415767,\n",
       " 'LGB(default)': 0.7401727976132753}"
      ]
     },
     "execution_count": 271,
     "metadata": {},
     "output_type": "execute_result"
    }
   ],
   "source": [
    "result_dict"
   ]
  },
  {
   "cell_type": "code",
   "execution_count": null,
   "metadata": {},
   "outputs": [],
   "source": []
  },
  {
   "cell_type": "code",
   "execution_count": 278,
   "metadata": {},
   "outputs": [],
   "source": [
    "model = lgb.LGBMClassifier(random_state=50)\n",
    "\n",
    "# Training set\n",
    "train_set = lgb.Dataset(X_train, label = y_train)\n",
    "test_set = lgb.Dataset(X_test, label = y_test)"
   ]
  },
  {
   "cell_type": "code",
   "execution_count": 311,
   "metadata": {},
   "outputs": [
    {
     "name": "stdout",
     "output_type": "stream",
     "text": [
      "The maximium ROC AUC in cross validation was 0.74332 with std of 0.00387.\n",
      "The ideal number of iterations was 45.\n"
     ]
    }
   ],
   "source": [
    "# Default hyperparamters\n",
    "hyperparameters = model.get_params()\n",
    "hyperparameters['learning_rate'] = 0.096\n",
    "hyperparameters['min_child_samples'] = 95\n",
    "\n",
    "# Using early stopping to determine number of estimators.\n",
    "del hyperparameters['n_estimators']\n",
    "\n",
    "# Perform cross validation with early stopping\n",
    "cv_results = lgb.cv(hyperparameters, train_set, num_boost_round = 10000, nfold = N_FOLDS, metrics = 'auc', \n",
    "           early_stopping_rounds = 100, verbose_eval = False, seed = 42)\n",
    "\n",
    "# Highest score\n",
    "best = cv_results['auc-mean'][-1]\n",
    "\n",
    "# Standard deviation of best score\n",
    "best_std = cv_results['auc-stdv'][-1]\n",
    "\n",
    "print('The maximium ROC AUC in cross validation was {:.5f} with std of {:.5f}.'.format(best, best_std))\n",
    "print('The ideal number of iterations was {}.'.format(len(cv_results['auc-mean'])))\n"
   ]
  },
  {
   "cell_type": "code",
   "execution_count": 310,
   "metadata": {},
   "outputs": [
    {
     "data": {
      "text/plain": [
       "{'boosting_type': 'gbdt',\n",
       " 'class_weight': None,\n",
       " 'colsample_bytree': 1.0,\n",
       " 'importance_type': 'split',\n",
       " 'learning_rate': 0.1,\n",
       " 'max_depth': -1,\n",
       " 'min_child_samples': 20,\n",
       " 'min_child_weight': 0.001,\n",
       " 'min_split_gain': 0.0,\n",
       " 'n_jobs': -1,\n",
       " 'num_leaves': 31,\n",
       " 'objective': None,\n",
       " 'random_state': 50,\n",
       " 'reg_alpha': 0.0,\n",
       " 'reg_lambda': 0.0,\n",
       " 'silent': True,\n",
       " 'subsample': 1.0,\n",
       " 'subsample_for_bin': 200000,\n",
       " 'subsample_freq': 0}"
      ]
     },
     "execution_count": 310,
     "metadata": {},
     "output_type": "execute_result"
    }
   ],
   "source": [
    "#'learning_rate': 0.09609840789396307,\n",
    "#'min_child_samples': 95,\n",
    "hyperparameters "
   ]
  },
  {
   "cell_type": "code",
   "execution_count": 312,
   "metadata": {},
   "outputs": [
    {
     "name": "stdout",
     "output_type": "stream",
     "text": [
      "The baseline model scores 0.74506 ROC AUC on the test set.\n"
     ]
    }
   ],
   "source": [
    "# Optimal number of esimators found in cv\n",
    "model.n_estimators = len(cv_results['auc-mean'])\n",
    "\n",
    "# Train and make predicions with model\n",
    "model.fit(X_train, y_train)\n",
    "preds = model.predict_proba(X_test)[:, 1]\n",
    "baseline_auc = roc_auc_score(y_test, preds)\n",
    "\n",
    "print('The baseline model scores {:.5f} ROC AUC on the test set.'.format(baseline_auc))"
   ]
  },
  {
   "cell_type": "code",
   "execution_count": 313,
   "metadata": {},
   "outputs": [],
   "source": [
    "result_dict['LGB(optuna)'] = baseline_auc"
   ]
  },
  {
   "cell_type": "code",
   "execution_count": 314,
   "metadata": {
    "scrolled": true
   },
   "outputs": [
    {
     "data": {
      "text/plain": [
       "{'SGDC': 0.7134657087537568,\n",
       " 'SGDC2': 0.7163910947715465,\n",
       " 'RFC(optuna)': 0.7357399832259727,\n",
       " 'RFC(default)': 0.6987015923415767,\n",
       " 'LGB(default)': 0.7429861226987039,\n",
       " 'LGB(optuna)': 0.7450624339507201}"
      ]
     },
     "execution_count": 314,
     "metadata": {},
     "output_type": "execute_result"
    }
   ],
   "source": [
    "result_dict"
   ]
  },
  {
   "cell_type": "code",
   "execution_count": 301,
   "metadata": {
    "scrolled": true
   },
   "outputs": [
    {
     "name": "stderr",
     "output_type": "stream",
     "text": [
      "[I 2020-08-05 22:41:39,889] Trial 0 finished with value: 0.7165862104555804 and parameters: {'learning_rate': 0.5488135039273248, 'min_child_samples': 66}. Best is trial 0 with value: 0.7165862104555804.\n",
      "[I 2020-08-05 22:41:40,755] Trial 1 finished with value: 0.7120163124632725 and parameters: {'learning_rate': 0.6027633760716439, 'min_child_samples': 69}. Best is trial 0 with value: 0.7165862104555804.\n",
      "[I 2020-08-05 22:41:41,616] Trial 2 finished with value: 0.6907937267183798 and parameters: {'learning_rate': 0.8472517387841254, 'min_child_samples': 85}. Best is trial 0 with value: 0.7165862104555804.\n",
      "[I 2020-08-05 22:41:42,442] Trial 3 finished with value: 0.703683760617362 and parameters: {'learning_rate': 0.6458941130666561, 'min_child_samples': 38}. Best is trial 0 with value: 0.7165862104555804.\n",
      "[I 2020-08-05 22:41:43,280] Trial 4 finished with value: 0.7215517537965029 and parameters: {'learning_rate': 0.2975346065444723, 'min_child_samples': 90}. Best is trial 4 with value: 0.7215517537965029.\n",
      "[I 2020-08-05 22:41:44,169] Trial 5 finished with value: 0.6847679731471673 and parameters: {'learning_rate': 0.9636627605010293, 'min_child_samples': 60}. Best is trial 4 with value: 0.7215517537965029.\n",
      "[I 2020-08-05 22:41:45,012] Trial 6 finished with value: 0.7196241618894201 and parameters: {'learning_rate': 0.47766511732134986, 'min_child_samples': 41}. Best is trial 4 with value: 0.7215517537965029.\n",
      "[I 2020-08-05 22:41:45,882] Trial 7 finished with value: 0.7111343646007838 and parameters: {'learning_rate': 0.5288949197529045, 'min_child_samples': 90}. Best is trial 4 with value: 0.7215517537965029.\n",
      "[I 2020-08-05 22:41:46,761] Trial 8 finished with value: 0.7188764310237004 and parameters: {'learning_rate': 0.3927847961008297, 'min_child_samples': 27}. Best is trial 4 with value: 0.7215517537965029.\n",
      "[I 2020-08-05 22:41:47,779] Trial 9 finished with value: 0.7305111371668574 and parameters: {'learning_rate': 0.07103605819788694, 'min_child_samples': 11}. Best is trial 9 with value: 0.7305111371668574.\n",
      "[I 2020-08-05 22:41:48,702] Trial 10 finished with value: 0.7047930797022839 and parameters: {'learning_rate': 0.6481718720511972, 'min_child_samples': 82}. Best is trial 9 with value: 0.7305111371668574.\n",
      "[I 2020-08-05 22:41:49,672] Trial 11 finished with value: 0.6999947006829182 and parameters: {'learning_rate': 0.832619845547938, 'min_child_samples': 81}. Best is trial 9 with value: 0.7305111371668574.\n",
      "[I 2020-08-05 22:41:50,639] Trial 12 finished with value: 0.6880415499753346 and parameters: {'learning_rate': 0.8700121482468192, 'min_child_samples': 84}. Best is trial 9 with value: 0.7305111371668574.\n",
      "[I 2020-08-05 22:41:51,650] Trial 13 finished with value: 0.707068317907974 and parameters: {'learning_rate': 0.4736080452737105, 'min_child_samples': 51}. Best is trial 9 with value: 0.7305111371668574.\n",
      "[I 2020-08-05 22:41:52,575] Trial 14 finished with value: 0.7138379873915096 and parameters: {'learning_rate': 0.46147936225293185, 'min_child_samples': 21}. Best is trial 9 with value: 0.7305111371668574.\n",
      "[I 2020-08-05 22:41:53,500] Trial 15 finished with value: 0.691827093549316 and parameters: {'learning_rate': 0.6788795301189603, 'min_child_samples': 41}. Best is trial 9 with value: 0.7305111371668574.\n",
      "[I 2020-08-05 22:41:54,406] Trial 16 finished with value: 0.6903953762209931 and parameters: {'learning_rate': 0.6399210213275238, 'min_child_samples': 11}. Best is trial 9 with value: 0.7305111371668574.\n",
      "[I 2020-08-05 22:41:55,335] Trial 17 finished with value: 0.7135630332958035 and parameters: {'learning_rate': 0.5373732294490107, 'min_child_samples': 34}. Best is trial 9 with value: 0.7305111371668574.\n",
      "[I 2020-08-05 22:41:56,281] Trial 18 finished with value: 0.7090503596044434 and parameters: {'learning_rate': 0.5218483217500717, 'min_child_samples': 25}. Best is trial 9 with value: 0.7305111371668574.\n",
      "[I 2020-08-05 22:41:57,268] Trial 19 finished with value: 0.7218659672307989 and parameters: {'learning_rate': 0.26455561210462697, 'min_child_samples': 77}. Best is trial 9 with value: 0.7305111371668574.\n",
      "[I 2020-08-05 22:41:58,232] Trial 20 finished with value: 0.7058129901521486 and parameters: {'learning_rate': 0.7369181771289581, 'min_child_samples': 30}. Best is trial 9 with value: 0.7305111371668574.\n",
      "[I 2020-08-05 22:41:59,213] Trial 21 finished with value: 0.6895998543936332 and parameters: {'learning_rate': 0.5684339488686485, 'min_child_samples': 2}. Best is trial 9 with value: 0.7305111371668574.\n",
      "[I 2020-08-05 22:42:00,223] Trial 22 finished with value: 0.7122902954799322 and parameters: {'learning_rate': 0.3241410077932141, 'min_child_samples': 7}. Best is trial 9 with value: 0.7305111371668574.\n",
      "[I 2020-08-05 22:42:01,210] Trial 23 finished with value: 0.7038084749120341 and parameters: {'learning_rate': 0.6120957227224214, 'min_child_samples': 19}. Best is trial 9 with value: 0.7305111371668574.\n",
      "[I 2020-08-05 22:42:02,221] Trial 24 finished with value: 0.683216119468248 and parameters: {'learning_rate': 0.9437480785146242, 'min_child_samples': 44}. Best is trial 9 with value: 0.7305111371668574.\n",
      "[I 2020-08-05 22:42:03,389] Trial 25 finished with value: 0.6997270296800601 and parameters: {'learning_rate': 0.359507900573786, 'min_child_samples': 3}. Best is trial 9 with value: 0.7305111371668574.\n",
      "[I 2020-08-05 22:42:04,446] Trial 26 finished with value: 0.6918585842555347 and parameters: {'learning_rate': 0.6976311959272649, 'min_child_samples': 43}. Best is trial 9 with value: 0.7305111371668574.\n",
      "[I 2020-08-05 22:42:05,398] Trial 27 finished with value: 0.6906823994419902 and parameters: {'learning_rate': 0.9698090677467488, 'min_child_samples': 13}. Best is trial 9 with value: 0.7305111371668574.\n",
      "[I 2020-08-05 22:42:06,428] Trial 28 finished with value: 0.7275605828471926 and parameters: {'learning_rate': 0.2103825610738409, 'min_child_samples': 93}. Best is trial 9 with value: 0.7305111371668574.\n",
      "[I 2020-08-05 22:42:07,450] Trial 29 finished with value: 0.6988929421420006 and parameters: {'learning_rate': 0.7506861412184562, 'min_child_samples': 55}. Best is trial 9 with value: 0.7305111371668574.\n",
      "[I 2020-08-05 22:42:08,419] Trial 30 finished with value: 0.7161396528198193 and parameters: {'learning_rate': 0.3250472290083525, 'min_child_samples': 44}. Best is trial 9 with value: 0.7305111371668574.\n",
      "[I 2020-08-05 22:42:09,442] Trial 31 finished with value: 0.7141627439697378 and parameters: {'learning_rate': 0.43860151346232035, 'min_child_samples': 70}. Best is trial 9 with value: 0.7305111371668574.\n",
      "[I 2020-08-05 22:42:10,438] Trial 32 finished with value: 0.6875858364514218 and parameters: {'learning_rate': 0.9589492686245203, 'min_child_samples': 49}. Best is trial 9 with value: 0.7305111371668574.\n",
      "[I 2020-08-05 22:42:11,497] Trial 33 finished with value: 0.7255190972405263 and parameters: {'learning_rate': 0.2088767560948347, 'min_child_samples': 5}. Best is trial 9 with value: 0.7305111371668574.\n",
      "[I 2020-08-05 22:42:12,571] Trial 34 finished with value: 0.6798819195624706 and parameters: {'learning_rate': 0.9952995676778876, 'min_child_samples': 54}. Best is trial 9 with value: 0.7305111371668574.\n",
      "[I 2020-08-05 22:42:13,701] Trial 35 finished with value: 0.7248503705915093 and parameters: {'learning_rate': 0.2532916025397821, 'min_child_samples': 17}. Best is trial 9 with value: 0.7305111371668574.\n",
      "[I 2020-08-05 22:42:14,772] Trial 36 finished with value: 0.7142842675761145 and parameters: {'learning_rate': 0.4746975022884129, 'min_child_samples': 60}. Best is trial 9 with value: 0.7305111371668574.\n",
      "[I 2020-08-05 22:42:15,829] Trial 37 finished with value: 0.73077207997918 and parameters: {'learning_rate': 0.15896958364551972, 'min_child_samples': 15}. Best is trial 37 with value: 0.73077207997918.\n",
      "[I 2020-08-05 22:42:16,860] Trial 38 finished with value: 0.7072289621273624 and parameters: {'learning_rate': 0.6747523222590207, 'min_child_samples': 50}. Best is trial 37 with value: 0.73077207997918.\n",
      "[I 2020-08-05 22:42:17,955] Trial 39 finished with value: 0.7358362572061002 and parameters: {'learning_rate': 0.1381829513486138, 'min_child_samples': 43}. Best is trial 39 with value: 0.7358362572061002.\n",
      "[I 2020-08-05 22:42:19,061] Trial 40 finished with value: 0.6855593332071855 and parameters: {'learning_rate': 0.9495710534507421, 'min_child_samples': 97}. Best is trial 39 with value: 0.7358362572061002.\n",
      "[I 2020-08-05 22:42:20,165] Trial 41 finished with value: 0.6895998543936332 and parameters: {'learning_rate': 0.8209932298479351, 'min_child_samples': 2}. Best is trial 39 with value: 0.7358362572061002.\n",
      "[I 2020-08-05 22:42:21,314] Trial 42 finished with value: 0.7037179564723528 and parameters: {'learning_rate': 0.6228460955466695, 'min_child_samples': 38}. Best is trial 39 with value: 0.7358362572061002.\n",
      "[I 2020-08-05 22:42:22,463] Trial 43 finished with value: 0.7379045168493312 and parameters: {'learning_rate': 0.09609840789396307, 'min_child_samples': 95}. Best is trial 43 with value: 0.7379045168493312.\n",
      "[I 2020-08-05 22:42:23,529] Trial 44 finished with value: 0.6795501573425505 and parameters: {'learning_rate': 0.878193471347177, 'min_child_samples': 44}. Best is trial 43 with value: 0.7379045168493312.\n",
      "[I 2020-08-05 22:42:24,541] Trial 45 finished with value: 0.6929113033046097 and parameters: {'learning_rate': 0.9767610881903371, 'min_child_samples': 23}. Best is trial 43 with value: 0.7379045168493312.\n",
      "[I 2020-08-05 22:42:25,616] Trial 46 finished with value: 0.6895998543936332 and parameters: {'learning_rate': 0.7392635793983017, 'min_child_samples': 2}. Best is trial 43 with value: 0.7379045168493312.\n",
      "[I 2020-08-05 22:42:26,646] Trial 47 finished with value: 0.7271704865217004 and parameters: {'learning_rate': 0.44171092124884537, 'min_child_samples': 45}. Best is trial 43 with value: 0.7379045168493312.\n",
      "[I 2020-08-05 22:42:27,758] Trial 48 finished with value: 0.735811009150894 and parameters: {'learning_rate': 0.1201965612131689, 'min_child_samples': 25}. Best is trial 43 with value: 0.7379045168493312.\n",
      "[I 2020-08-05 22:42:28,830] Trial 49 finished with value: 0.7108343011754497 and parameters: {'learning_rate': 0.4808935308361628, 'min_child_samples': 100}. Best is trial 43 with value: 0.7379045168493312.\n"
     ]
    },
    {
     "name": "stdout",
     "output_type": "stream",
     "text": [
      "r2_train:0.9003\n",
      "r2_test:0.7401\n"
     ]
    }
   ],
   "source": [
    "X_train_v, X_val, y_train_v, y_val = train_test_split(X_train, y_train, random_state=0)\n",
    "\n",
    "def objectives(trial):\n",
    "    # optunaでのハイパーパラメータサーチ範囲の設定\n",
    "    params = {\n",
    "            'learning_rate': trial.suggest_uniform('learning_rate', 0, 1.0),\n",
    "            'min_child_samples': trial.suggest_int('min_child_samples', 2, 100)}\n",
    "\n",
    "    # LightGBMで学習+予測\n",
    "    model = lgb.LGBMClassifier(**params)# 追加部分\n",
    "    model.fit(X_train_v, y_train_v,eval_set=(X_val,y_val),early_stopping_rounds=100,verbose=False)\n",
    "\n",
    "    y_pred_val = model.predict_proba(X_val)[:,1]\n",
    "\n",
    "    # 検証データを用いた評価\n",
    "    score = roc_auc_score(y_val, y_pred_val)\n",
    "    \n",
    "    return score\n",
    "\n",
    "# optunaによる最適化呼び出し\n",
    "opt = optuna.create_study(direction='maximize',sampler=optuna.samplers.RandomSampler(seed=0))\n",
    "opt.optimize(objectives, n_trials=50)\n",
    "\n",
    "\n",
    "# 最適パラメータ取得\n",
    "trial = opt.best_trial\n",
    "params_best = dict(trial.params.items())\n",
    "params_best['random_seed'] = 0\n",
    "    \n",
    "# 最適パラメータで学習/予測    \n",
    "model_o = lgb.LGBMClassifier(**params_best)# 追加部分\n",
    "model_o.fit(X_train, y_train,eval_set=(X_val,y_val),early_stopping_rounds=100,verbose=False)    \n",
    "\n",
    "y_trainval_pred = model_o.predict_proba(X_train)[:,1]\n",
    "y_test_pred = model_o.predict_proba(X_test)[:,1]\n",
    "\n",
    "auc_trainval = roc_auc_score(y_train, y_trainval_pred)\n",
    "auc_score = roc_auc_score(y_test, y_test_pred)\n",
    "\n",
    "# テストデータを用いた評価\n",
    "print(\"r2_train:{0:.4}\".format(auc_trainval))\n",
    "print(\"r2_test:{0:.4}\".format(auc_score))"
   ]
  },
  {
   "cell_type": "code",
   "execution_count": 315,
   "metadata": {},
   "outputs": [
    {
     "data": {
      "text/plain": [
       "{'learning_rate': 0.09609840789396307,\n",
       " 'min_child_samples': 95,\n",
       " 'random_seed': 0}"
      ]
     },
     "execution_count": 315,
     "metadata": {},
     "output_type": "execute_result"
    }
   ],
   "source": [
    "params_best"
   ]
  },
  {
   "cell_type": "markdown",
   "metadata": {},
   "source": [
    "# 比較結果\n"
   ]
  },
  {
   "cell_type": "code",
   "execution_count": 317,
   "metadata": {},
   "outputs": [
    {
     "data": {
      "text/plain": [
       "{'SGDC': 0.7134657087537568,\n",
       " 'SGDC2': 0.7163910947715465,\n",
       " 'RFC(optuna)': 0.7357399832259727,\n",
       " 'RFC(default)': 0.6987015923415767,\n",
       " 'LGB(default)': 0.7429861226987039,\n",
       " 'LGB(optuna)': 0.7450624339507201}"
      ]
     },
     "execution_count": 317,
     "metadata": {},
     "output_type": "execute_result"
    }
   ],
   "source": [
    "result_dict"
   ]
  },
  {
   "cell_type": "code",
   "execution_count": null,
   "metadata": {},
   "outputs": [],
   "source": []
  },
  {
   "cell_type": "code",
   "execution_count": null,
   "metadata": {},
   "outputs": [],
   "source": []
  },
  {
   "cell_type": "markdown",
   "metadata": {},
   "source": [
    "# 【問題5】最終的なモデルの選定\n",
    "最終的にこれは良いというモデルを選び、推定した結果をKaggleに提出してスコアを確認してください。どういったアイデアを取り入れ、どの程度のスコアになったかを記載してください。"
   ]
  },
  {
   "cell_type": "markdown",
   "metadata": {},
   "source": [
    "### モデル選定\n",
    "最も結果が良かったのは、LightGBM+optunaだったので、そのモデル作成を進めていく。"
   ]
  },
  {
   "cell_type": "code",
   "execution_count": 3,
   "metadata": {},
   "outputs": [],
   "source": [
    "import optuna"
   ]
  },
  {
   "cell_type": "code",
   "execution_count": 15,
   "metadata": {},
   "outputs": [],
   "source": [
    "import optuna.integration.lightgbm as lgb_o"
   ]
  },
  {
   "cell_type": "code",
   "execution_count": null,
   "metadata": {},
   "outputs": [],
   "source": []
  },
  {
   "cell_type": "code",
   "execution_count": 43,
   "metadata": {},
   "outputs": [],
   "source": [
    "X_trainval, X_test, y_trainval, y_test = train_test_split(X, y, random_state=0)\n",
    "X_train, X_val, y_train, y_val = train_test_split(X_trainval, y_trainval, random_state=0)\n",
    "\n",
    "import lightgbm as lgb\n",
    "import optuna.integration.lightgbm as lgb_o\n",
    "from lightgbm import Dataset\n",
    "from sklearn.model_selection import train_test_split\n",
    "import sklearn.datasets\n",
    "from sklearn.metrics import r2_score\n",
    "from optuna.integration import _lightgbm_tuner as tuner\n"
   ]
  },
  {
   "cell_type": "code",
   "execution_count": 46,
   "metadata": {},
   "outputs": [
    {
     "name": "stderr",
     "output_type": "stream",
     "text": [
      "[I 2020-08-14 16:36:20,878] Trial 0 finished with value: 0.919526873514976 and parameters: {'lambda_l1': 0.026347804478264073, 'lambda_l2': 4.2381617653760153e-07, 'num_leaves': 209, 'feature_fraction': 0.43128046886252547, 'bagging_fraction': 0.9508289093885355, 'bagging_freq': 5, 'min_child_samples': 100}. Best is trial 0 with value: 0.919526873514976.\n",
      "[I 2020-08-14 16:36:24,745] Trial 1 finished with value: 0.9200645172479578 and parameters: {'lambda_l1': 0.12171561580122055, 'lambda_l2': 1.0306232921351101e-08, 'num_leaves': 159, 'feature_fraction': 0.4300528289355791, 'bagging_fraction': 0.8788225725542003, 'bagging_freq': 5, 'min_child_samples': 81}. Best is trial 1 with value: 0.9200645172479578.\n",
      "[I 2020-08-14 16:36:26,696] Trial 2 finished with value: 0.9198563970932552 and parameters: {'lambda_l1': 0.01393479817822527, 'lambda_l2': 2.884471776110118e-06, 'num_leaves': 45, 'feature_fraction': 0.4958936346562764, 'bagging_fraction': 0.741342622902502, 'bagging_freq': 7, 'min_child_samples': 66}. Best is trial 1 with value: 0.9200645172479578.\n",
      "[I 2020-08-14 16:36:30,912] Trial 3 finished with value: 0.9191626632442463 and parameters: {'lambda_l1': 6.453864114412511e-06, 'lambda_l2': 0.014817518742135083, 'num_leaves': 196, 'feature_fraction': 0.5177837167148249, 'bagging_fraction': 0.7437087419397286, 'bagging_freq': 3, 'min_child_samples': 32}. Best is trial 1 with value: 0.9200645172479578.\n",
      "[I 2020-08-14 16:36:32,952] Trial 4 finished with value: 0.9198043670545795 and parameters: {'lambda_l1': 3.560158047111585e-07, 'lambda_l2': 2.5262888739020283e-06, 'num_leaves': 26, 'feature_fraction': 0.5070815536289508, 'bagging_fraction': 0.6118052496623001, 'bagging_freq': 1, 'min_child_samples': 17}. Best is trial 1 with value: 0.9200645172479578.\n",
      "[I 2020-08-14 16:36:37,046] Trial 5 finished with value: 0.9198390537470299 and parameters: {'lambda_l1': 0.6622391685759842, 'lambda_l2': 7.574567989042726e-08, 'num_leaves': 98, 'feature_fraction': 0.6961650631462357, 'bagging_fraction': 0.9583735383348738, 'bagging_freq': 5, 'min_child_samples': 89}. Best is trial 1 with value: 0.9200645172479578.\n",
      "[I 2020-08-14 16:36:42,749] Trial 6 finished with value: 0.9193014100140481 and parameters: {'lambda_l1': 3.059996794408591, 'lambda_l2': 6.135542628156838e-07, 'num_leaves': 104, 'feature_fraction': 0.843826427540679, 'bagging_fraction': 0.6183195747406243, 'bagging_freq': 3, 'min_child_samples': 40}. Best is trial 1 with value: 0.9200645172479578.\n",
      "[I 2020-08-14 16:36:50,715] Trial 7 finished with value: 0.9189718864357689 and parameters: {'lambda_l1': 0.3321222609309004, 'lambda_l2': 2.6984029738843748e-06, 'num_leaves': 143, 'feature_fraction': 0.8230820035867563, 'bagging_fraction': 0.801301140850353, 'bagging_freq': 2, 'min_child_samples': 12}. Best is trial 1 with value: 0.9200645172479578.\n",
      "[I 2020-08-14 16:36:56,714] Trial 8 finished with value: 0.9197176503234534 and parameters: {'lambda_l1': 1.2193055086924629e-05, 'lambda_l2': 1.1177076219286825e-08, 'num_leaves': 15, 'feature_fraction': 0.573809607403523, 'bagging_fraction': 0.5523909780973661, 'bagging_freq': 2, 'min_child_samples': 85}. Best is trial 1 with value: 0.9200645172479578.\n",
      "[I 2020-08-14 16:37:08,211] Trial 9 finished with value: 0.9195615602074264 and parameters: {'lambda_l1': 2.50786232405991e-06, 'lambda_l2': 1.6470309015202182e-07, 'num_leaves': 109, 'feature_fraction': 0.6795361870400289, 'bagging_fraction': 0.4886836263009064, 'bagging_freq': 1, 'min_child_samples': 90}. Best is trial 1 with value: 0.9200645172479578.\n",
      "[I 2020-08-14 16:37:25,430] Trial 10 finished with value: 0.9193360967064985 and parameters: {'lambda_l1': 0.0007754851947792272, 'lambda_l2': 6.010334044502872, 'num_leaves': 252, 'feature_fraction': 0.9357349451208086, 'bagging_fraction': 0.8658842187558642, 'bagging_freq': 7, 'min_child_samples': 66}. Best is trial 1 with value: 0.9200645172479578.\n",
      "[I 2020-08-14 16:37:29,851] Trial 11 finished with value: 0.9198563970932552 and parameters: {'lambda_l1': 0.011144550147626974, 'lambda_l2': 0.000618270126124714, 'num_leaves': 45, 'feature_fraction': 0.40713498879122484, 'bagging_fraction': 0.8370876226707424, 'bagging_freq': 7, 'min_child_samples': 65}. Best is trial 1 with value: 0.9200645172479578.\n",
      "[I 2020-08-14 16:37:35,111] Trial 12 finished with value: 0.9195442168612012 and parameters: {'lambda_l1': 0.0012885819618414479, 'lambda_l2': 9.863145454813527e-05, 'num_leaves': 159, 'feature_fraction': 0.40405362136696016, 'bagging_fraction': 0.7062646176445146, 'bagging_freq': 6, 'min_child_samples': 65}. Best is trial 1 with value: 0.9200645172479578.\n",
      "[I 2020-08-14 16:37:40,817] Trial 13 finished with value: 0.919682963631003 and parameters: {'lambda_l1': 0.029110623437686448, 'lambda_l2': 3.352745664708518e-05, 'num_leaves': 64, 'feature_fraction': 0.6154641606217299, 'bagging_fraction': 0.914171577310081, 'bagging_freq': 6, 'min_child_samples': 75}. Best is trial 1 with value: 0.9200645172479578.\n",
      "[I 2020-08-14 16:37:46,781] Trial 14 finished with value: 0.9199951438630569 and parameters: {'lambda_l1': 5.0648142202579605, 'lambda_l2': 1.742837811793574e-08, 'num_leaves': 179, 'feature_fraction': 0.4801951773410087, 'bagging_fraction': 0.7687495021527159, 'bagging_freq': 5, 'min_child_samples': 42}. Best is trial 1 with value: 0.9200645172479578.\n",
      "[I 2020-08-14 16:37:52,636] Trial 15 finished with value: 0.919925770478156 and parameters: {'lambda_l1': 1.9939994550957905, 'lambda_l2': 1.0868468030777111e-08, 'num_leaves': 181, 'feature_fraction': 0.4041849571516695, 'bagging_fraction': 0.7972641099413267, 'bagging_freq': 4, 'min_child_samples': 46}. Best is trial 1 with value: 0.9200645172479578.\n",
      "[I 2020-08-14 16:38:01,390] Trial 16 finished with value: 0.9196309335923273 and parameters: {'lambda_l1': 5.660989859510512, 'lambda_l2': 0.7626860155140318, 'num_leaves': 236, 'feature_fraction': 0.5985225113689113, 'bagging_fraction': 0.9885225835945086, 'bagging_freq': 5, 'min_child_samples': 24}. Best is trial 1 with value: 0.9200645172479578.\n",
      "[I 2020-08-14 16:38:09,099] Trial 17 finished with value: 0.9196135902461021 and parameters: {'lambda_l1': 9.939172592072097, 'lambda_l2': 1.0224786988434484e-08, 'num_leaves': 165, 'feature_fraction': 0.47837484139912945, 'bagging_fraction': 0.891458748325099, 'bagging_freq': 4, 'min_child_samples': 51}. Best is trial 1 with value: 0.9200645172479578.\n",
      "[I 2020-08-14 16:38:18,263] Trial 18 finished with value: 0.9180180023933818 and parameters: {'lambda_l1': 0.25312088834350305, 'lambda_l2': 0.0023542428774831594, 'num_leaves': 220, 'feature_fraction': 0.7702638935621977, 'bagging_fraction': 0.4054385825905904, 'bagging_freq': 6, 'min_child_samples': 37}. Best is trial 1 with value: 0.9200645172479578.\n",
      "[I 2020-08-14 16:38:22,652] Trial 19 finished with value: 0.9191453198980212 and parameters: {'lambda_l1': 1.17417851802983e-08, 'lambda_l2': 3.7686939822412514e-08, 'num_leaves': 124, 'feature_fraction': 0.5600000875022499, 'bagging_fraction': 0.6575904169786008, 'bagging_freq': 5, 'min_child_samples': 54}. Best is trial 1 with value: 0.9200645172479578.\n",
      "[I 2020-08-14 16:38:27,944] Trial 20 finished with value: 0.9190065731282193 and parameters: {'lambda_l1': 0.0001767138909365191, 'lambda_l2': 0.04046423621524705, 'num_leaves': 176, 'feature_fraction': 0.45434358188583635, 'bagging_fraction': 0.7973781796596587, 'bagging_freq': 4, 'min_child_samples': 5}. Best is trial 1 with value: 0.9200645172479578.\n",
      "[I 2020-08-14 16:38:33,504] Trial 21 finished with value: 0.9198390537470299 and parameters: {'lambda_l1': 2.1103176151813807, 'lambda_l2': 1.0350234756053188e-08, 'num_leaves': 187, 'feature_fraction': 0.4101141493878779, 'bagging_fraction': 0.7944861423896139, 'bagging_freq': 4, 'min_child_samples': 49}. Best is trial 1 with value: 0.9200645172479578.\n",
      "[I 2020-08-14 16:38:38,353] Trial 22 finished with value: 0.9197523370159039 and parameters: {'lambda_l1': 0.1257176708305282, 'lambda_l2': 3.89987808726768e-08, 'num_leaves': 143, 'feature_fraction': 0.4571466261723454, 'bagging_fraction': 0.8465256947653116, 'bagging_freq': 3, 'min_child_samples': 46}. Best is trial 1 with value: 0.9200645172479578.\n"
     ]
    },
    {
     "name": "stderr",
     "output_type": "stream",
     "text": [
      "[I 2020-08-14 16:38:43,964] Trial 23 finished with value: 0.919526873514976 and parameters: {'lambda_l1': 1.7086272693247286, 'lambda_l2': 1.619209855073722e-05, 'num_leaves': 216, 'feature_fraction': 0.40129075674920744, 'bagging_fraction': 0.7511695462749625, 'bagging_freq': 5, 'min_child_samples': 58}. Best is trial 1 with value: 0.9200645172479578.\n",
      "[I 2020-08-14 16:38:49,863] Trial 24 finished with value: 0.9200298305555074 and parameters: {'lambda_l1': 7.014559000448906, 'lambda_l2': 1.2167863756980947e-08, 'num_leaves': 149, 'feature_fraction': 0.5404195410731619, 'bagging_fraction': 0.9110699136978431, 'bagging_freq': 6, 'min_child_samples': 32}. Best is trial 1 with value: 0.9200645172479578.\n",
      "[I 2020-08-14 16:38:55,215] Trial 25 finished with value: 0.9199084271319309 and parameters: {'lambda_l1': 0.11249916144211304, 'lambda_l2': 2.527204337358011e-07, 'num_leaves': 143, 'feature_fraction': 0.5443636433094763, 'bagging_fraction': 0.9953190870451638, 'bagging_freq': 6, 'min_child_samples': 30}. Best is trial 1 with value: 0.9200645172479578.\n",
      "[I 2020-08-14 16:39:02,019] Trial 26 finished with value: 0.9199604571706065 and parameters: {'lambda_l1': 9.16524254549881, 'lambda_l2': 3.67385039233692e-08, 'num_leaves': 157, 'feature_fraction': 0.659715997034493, 'bagging_fraction': 0.9294319914566064, 'bagging_freq': 6, 'min_child_samples': 25}. Best is trial 1 with value: 0.9200645172479578.\n",
      "[I 2020-08-14 16:39:06,691] Trial 27 finished with value: 0.9195442168612012 and parameters: {'lambda_l1': 0.0035163913674923428, 'lambda_l2': 1.5443536244221302e-06, 'num_leaves': 118, 'feature_fraction': 0.5155184761833239, 'bagging_fraction': 0.8924799817197075, 'bagging_freq': 5, 'min_child_samples': 40}. Best is trial 1 with value: 0.9200645172479578.\n",
      "[I 2020-08-14 16:39:11,142] Trial 28 finished with value: 0.9197176503234534 and parameters: {'lambda_l1': 6.46720208728736e-05, 'lambda_l2': 1.0523005220768778e-07, 'num_leaves': 75, 'feature_fraction': 0.6462716804979675, 'bagging_fraction': 0.834722353470574, 'bagging_freq': 6, 'min_child_samples': 77}. Best is trial 1 with value: 0.9200645172479578.\n",
      "[I 2020-08-14 16:39:16,557] Trial 29 finished with value: 0.9194401567838498 and parameters: {'lambda_l1': 0.048860689276636074, 'lambda_l2': 5.94503977848329e-07, 'num_leaves': 203, 'feature_fraction': 0.45828621313191725, 'bagging_fraction': 0.6938026851080172, 'bagging_freq': 5, 'min_child_samples': 100}. Best is trial 1 with value: 0.9200645172479578.\n",
      "[I 2020-08-14 16:39:22,185] Trial 30 finished with value: 0.919769680362129 and parameters: {'lambda_l1': 0.9694918326811306, 'lambda_l2': 7.2217402810798055e-06, 'num_leaves': 133, 'feature_fraction': 0.6112068838681955, 'bagging_fraction': 0.9472323501329654, 'bagging_freq': 7, 'min_child_samples': 16}. Best is trial 1 with value: 0.9200645172479578.\n",
      "[I 2020-08-14 16:39:29,434] Trial 31 finished with value: 0.9194575001300751 and parameters: {'lambda_l1': 9.479464603433046, 'lambda_l2': 2.9748022710263497e-08, 'num_leaves': 159, 'feature_fraction': 0.7292551829238969, 'bagging_fraction': 0.933890886449507, 'bagging_freq': 6, 'min_child_samples': 21}. Best is trial 1 with value: 0.9200645172479578.\n",
      "[I 2020-08-14 16:39:35,809] Trial 32 finished with value: 0.9193014100140481 and parameters: {'lambda_l1': 0.5351641674291346, 'lambda_l2': 1.1576659748771051e-08, 'num_leaves': 164, 'feature_fraction': 0.6614412087138383, 'bagging_fraction': 0.9993332833212302, 'bagging_freq': 6, 'min_child_samples': 29}. Best is trial 1 with value: 0.9200645172479578.\n",
      "[I 2020-08-14 16:39:42,132] Trial 33 finished with value: 0.9196309335923273 and parameters: {'lambda_l1': 9.181480320492037, 'lambda_l2': 2.867704620511942e-07, 'num_leaves': 195, 'feature_fraction': 0.5415278656976359, 'bagging_fraction': 0.881699830065503, 'bagging_freq': 7, 'min_child_samples': 34}. Best is trial 1 with value: 0.9200645172479578.\n",
      "[I 2020-08-14 16:39:48,368] Trial 34 finished with value: 0.9200471739017326 and parameters: {'lambda_l1': 8.142492442788464, 'lambda_l2': 4.134754357861549e-08, 'num_leaves': 177, 'feature_fraction': 0.4870466979317793, 'bagging_fraction': 0.9639846934055225, 'bagging_freq': 5, 'min_child_samples': 26}. Best is trial 1 with value: 0.9200645172479578.\n",
      "[I 2020-08-14 16:39:53,851] Trial 35 finished with value: 0.9194748434763003 and parameters: {'lambda_l1': 0.00812415080015084, 'lambda_l2': 7.75025393990632e-08, 'num_leaves': 177, 'feature_fraction': 0.4940698500166981, 'bagging_fraction': 0.9728254556211218, 'bagging_freq': 5, 'min_child_samples': 7}. Best is trial 1 with value: 0.9200645172479578.\n",
      "[I 2020-08-14 16:39:59,876] Trial 36 finished with value: 0.9196135902461021 and parameters: {'lambda_l1': 3.4954369975114954, 'lambda_l2': 8.86904578732811e-07, 'num_leaves': 224, 'feature_fraction': 0.483186481368597, 'bagging_fraction': 0.7561203692658867, 'bagging_freq': 5, 'min_child_samples': 40}. Best is trial 1 with value: 0.9200645172479578.\n",
      "[I 2020-08-14 16:40:04,368] Trial 37 finished with value: 0.9198563970932552 and parameters: {'lambda_l1': 0.07228485841426587, 'lambda_l2': 2.4208708722159596e-08, 'num_leaves': 90, 'feature_fraction': 0.4301440514971066, 'bagging_fraction': 0.9185212081178944, 'bagging_freq': 4, 'min_child_samples': 58}. Best is trial 1 with value: 0.9200645172479578.\n",
      "[I 2020-08-14 16:40:11,923] Trial 38 finished with value: 0.9200298305555074 and parameters: {'lambda_l1': 0.9668330162454593, 'lambda_l2': 1.2288656237978091e-07, 'num_leaves': 135, 'feature_fraction': 0.5256928854672865, 'bagging_fraction': 0.9618347974716196, 'bagging_freq': 5, 'min_child_samples': 33}. Best is trial 1 with value: 0.9200645172479578.\n",
      "[I 2020-08-14 16:40:17,443] Trial 39 finished with value: 0.9197003069772282 and parameters: {'lambda_l1': 0.42071806010507223, 'lambda_l2': 1.1141030121383974e-07, 'num_leaves': 134, 'feature_fraction': 0.5255227874660027, 'bagging_fraction': 0.9621839739506395, 'bagging_freq': 3, 'min_child_samples': 12}. Best is trial 1 with value: 0.9200645172479578.\n",
      "[I 2020-08-14 16:40:22,850] Trial 40 finished with value: 0.919214693282922 and parameters: {'lambda_l1': 0.18479433828781763, 'lambda_l2': 4.608068944213636e-07, 'num_leaves': 116, 'feature_fraction': 0.5724334947136178, 'bagging_fraction': 0.9979929215063671, 'bagging_freq': 5, 'min_child_samples': 33}. Best is trial 1 with value: 0.9200645172479578.\n",
      "[I 2020-08-14 16:40:28,463] Trial 41 finished with value: 0.9196135902461021 and parameters: {'lambda_l1': 1.0593302448064361, 'lambda_l2': 1.0539383886801676e-08, 'num_leaves': 152, 'feature_fraction': 0.4452293907834306, 'bagging_fraction': 0.8618657104152389, 'bagging_freq': 5, 'min_child_samples': 44}. Best is trial 1 with value: 0.9200645172479578.\n",
      "[I 2020-08-14 16:40:34,719] Trial 42 finished with value: 0.9195615602074264 and parameters: {'lambda_l1': 4.033177223228705, 'lambda_l2': 8.06689510264399e-08, 'num_leaves': 172, 'feature_fraction': 0.5040230896827685, 'bagging_fraction': 0.9075902078210963, 'bagging_freq': 5, 'min_child_samples': 26}. Best is trial 1 with value: 0.9200645172479578.\n",
      "[I 2020-08-14 16:40:40,809] Trial 43 finished with value: 0.9198390537470299 and parameters: {'lambda_l1': 0.8012645436266833, 'lambda_l2': 2.2440693458081235e-08, 'num_leaves': 186, 'feature_fraction': 0.47745873811314216, 'bagging_fraction': 0.9604322727694046, 'bagging_freq': 4, 'min_child_samples': 19}. Best is trial 1 with value: 0.9200645172479578.\n",
      "[I 2020-08-14 16:40:46,499] Trial 44 finished with value: 0.9194921868225255 and parameters: {'lambda_l1': 4.467678785210898, 'lambda_l2': 2.062298688453173e-07, 'num_leaves': 203, 'feature_fraction': 0.43324824791625816, 'bagging_fraction': 0.8180431195816433, 'bagging_freq': 6, 'min_child_samples': 39}. Best is trial 1 with value: 0.9200645172479578.\n",
      "[I 2020-08-14 16:40:51,566] Trial 45 finished with value: 0.9195962468998768 and parameters: {'lambda_l1': 0.021453240057314756, 'lambda_l2': 4.693532417440986e-06, 'num_leaves': 150, 'feature_fraction': 0.5852755915499699, 'bagging_fraction': 0.7694472651013394, 'bagging_freq': 5, 'min_child_samples': 33}. Best is trial 1 with value: 0.9200645172479578.\n"
     ]
    },
    {
     "name": "stderr",
     "output_type": "stream",
     "text": [
      "[I 2020-08-14 16:40:56,550] Trial 46 finished with value: 0.9193881267451742 and parameters: {'lambda_l1': 0.34123736872750715, 'lambda_l2': 1.1455279669647433e-06, 'num_leaves': 135, 'feature_fraction': 0.5317967905088286, 'bagging_fraction': 0.8639053726790191, 'bagging_freq': 6, 'min_child_samples': 36}. Best is trial 1 with value: 0.9200645172479578.\n",
      "[I 2020-08-14 16:41:01,005] Trial 47 finished with value: 0.9195962468998768 and parameters: {'lambda_l1': 1.8888758975932205, 'lambda_l2': 1.9472549300962198e-08, 'num_leaves': 100, 'feature_fraction': 0.6242701597725668, 'bagging_fraction': 0.7095249549616994, 'bagging_freq': 4, 'min_child_samples': 28}. Best is trial 1 with value: 0.9200645172479578.\n",
      "[I 2020-08-14 16:41:09,668] Trial 48 finished with value: 0.9191973499366968 and parameters: {'lambda_l1': 9.61837331131919e-08, 'lambda_l2': 5.301285763708022e-08, 'num_leaves': 193, 'feature_fraction': 0.9491670021348455, 'bagging_fraction': 0.9392376074987479, 'bagging_freq': 5, 'min_child_samples': 94}. Best is trial 1 with value: 0.9200645172479578.\n",
      "[I 2020-08-14 16:41:14,524] Trial 49 finished with value: 0.9198390537470299 and parameters: {'lambda_l1': 6.905897959290042, 'lambda_l2': 2.208324099250523e-07, 'num_leaves': 171, 'feature_fraction': 0.5521065047291123, 'bagging_fraction': 0.6139883845590725, 'bagging_freq': 4, 'min_child_samples': 80}. Best is trial 1 with value: 0.9200645172479578.\n",
      "[I 2020-08-14 16:41:21,573] Trial 50 finished with value: 0.9197523370159039 and parameters: {'lambda_l1': 0.8599933501432563, 'lambda_l2': 1.1676942857233789e-08, 'num_leaves': 245, 'feature_fraction': 0.5024352148873079, 'bagging_fraction': 0.8926812783331629, 'bagging_freq': 3, 'min_child_samples': 43}. Best is trial 1 with value: 0.9200645172479578.\n",
      "[I 2020-08-14 16:41:28,714] Trial 51 finished with value: 0.919526873514976 and parameters: {'lambda_l1': 8.804742251285317, 'lambda_l2': 5.2979902087956004e-08, 'num_leaves': 154, 'feature_fraction': 0.7196019865803169, 'bagging_fraction': 0.925036974161409, 'bagging_freq': 6, 'min_child_samples': 23}. Best is trial 1 with value: 0.9200645172479578.\n",
      "[I 2020-08-14 16:41:36,192] Trial 52 finished with value: 0.9195442168612012 and parameters: {'lambda_l1': 2.985282071687958, 'lambda_l2': 2.177155404057353e-08, 'num_leaves': 144, 'feature_fraction': 0.9052492538148038, 'bagging_fraction': 0.9796190886564919, 'bagging_freq': 6, 'min_child_samples': 16}. Best is trial 1 with value: 0.9200645172479578.\n",
      "[I 2020-08-14 16:41:41,840] Trial 53 finished with value: 0.9198910837857056 and parameters: {'lambda_l1': 7.147294860092013, 'lambda_l2': 1.4618050968910053e-07, 'num_leaves': 167, 'feature_fraction': 0.425562656306821, 'bagging_fraction': 0.9495912638571593, 'bagging_freq': 7, 'min_child_samples': 26}. Best is trial 1 with value: 0.9200645172479578.\n",
      "[I 2020-08-14 16:41:48,030] Trial 54 finished with value: 0.919526873514976 and parameters: {'lambda_l1': 1.6652141073682662, 'lambda_l2': 4.391018488484892e-08, 'num_leaves': 125, 'feature_fraction': 0.7885106573472194, 'bagging_fraction': 0.908425751096603, 'bagging_freq': 6, 'min_child_samples': 12}. Best is trial 1 with value: 0.9200645172479578.\n",
      "[I 2020-08-14 16:41:53,869] Trial 55 finished with value: 0.9195095301687508 and parameters: {'lambda_l1': 0.27030356261739097, 'lambda_l2': 0.0005186969012357992, 'num_leaves': 184, 'feature_fraction': 0.6417622682871346, 'bagging_fraction': 0.8270548542794417, 'bagging_freq': 7, 'min_child_samples': 30}. Best is trial 1 with value: 0.9200645172479578.\n",
      "[I 2020-08-14 16:41:58,319] Trial 56 finished with value: 0.919214693282922 and parameters: {'lambda_l1': 3.3352535952351703, 'lambda_l2': 0.049236394036100695, 'num_leaves': 163, 'feature_fraction': 0.4705173276390897, 'bagging_fraction': 0.5810617154320519, 'bagging_freq': 5, 'min_child_samples': 23}. Best is trial 1 with value: 0.9200645172479578.\n",
      "[I 2020-08-14 16:42:03,393] Trial 57 finished with value: 0.9198737404394804 and parameters: {'lambda_l1': 9.742641080504352, 'lambda_l2': 1.6004585622190874e-08, 'num_leaves': 111, 'feature_fraction': 0.5887065625712908, 'bagging_fraction': 0.8635152199171587, 'bagging_freq': 6, 'min_child_samples': 37}. Best is trial 1 with value: 0.9200645172479578.\n",
      "[I 2020-08-14 16:42:08,387] Trial 58 finished with value: 0.9195442168612012 and parameters: {'lambda_l1': 0.062307007166997566, 'lambda_l2': 7.338925377105183e-05, 'num_leaves': 143, 'feature_fraction': 0.5194838941252955, 'bagging_fraction': 0.7757531915063365, 'bagging_freq': 5, 'min_child_samples': 49}. Best is trial 1 with value: 0.9200645172479578.\n",
      "[I 2020-08-14 16:42:15,386] Trial 59 finished with value: 0.9191973499366968 and parameters: {'lambda_l1': 0.5802431503402526, 'lambda_l2': 1.9911491737810608e-06, 'num_leaves': 210, 'feature_fraction': 0.6830594159513385, 'bagging_fraction': 0.724285247910575, 'bagging_freq': 6, 'min_child_samples': 72}. Best is trial 1 with value: 0.9200645172479578.\n",
      "[I 2020-08-14 16:42:21,961] Trial 60 finished with value: 0.9195962468998768 and parameters: {'lambda_l1': 1.5411351295183258, 'lambda_l2': 7.683345811681814, 'num_leaves': 89, 'feature_fraction': 0.9981231831313561, 'bagging_fraction': 0.8464781360411534, 'bagging_freq': 5, 'min_child_samples': 55}. Best is trial 1 with value: 0.9200645172479578.\n",
      "[I 2020-08-14 16:42:27,127] Trial 61 finished with value: 0.9197176503234534 and parameters: {'lambda_l1': 2.2065552149584806, 'lambda_l2': 1.0350482828302079e-08, 'num_leaves': 181, 'feature_fraction': 0.4090916203162479, 'bagging_fraction': 0.7972751390961867, 'bagging_freq': 4, 'min_child_samples': 46}. Best is trial 1 with value: 0.9200645172479578.\n",
      "[I 2020-08-14 16:42:32,866] Trial 62 finished with value: 0.9198910837857056 and parameters: {'lambda_l1': 9.688729760993384, 'lambda_l2': 3.854405521610568e-08, 'num_leaves': 190, 'feature_fraction': 0.462674719463057, 'bagging_fraction': 0.8125006967492688, 'bagging_freq': 4, 'min_child_samples': 44}. Best is trial 1 with value: 0.9200645172479578.\n",
      "[I 2020-08-14 16:42:38,045] Trial 63 finished with value: 0.9195789035536517 and parameters: {'lambda_l1': 5.104163585860874, 'lambda_l2': 1.0657302411799316e-07, 'num_leaves': 159, 'feature_fraction': 0.5602887744624717, 'bagging_fraction': 0.6488359232891796, 'bagging_freq': 4, 'min_child_samples': 35}. Best is trial 1 with value: 0.9200645172479578.\n",
      "[I 2020-08-14 16:42:43,743] Trial 64 finished with value: 0.919769680362129 and parameters: {'lambda_l1': 0.16394432098741185, 'lambda_l2': 1.028666559497632e-08, 'num_leaves': 179, 'feature_fraction': 0.48993905342678284, 'bagging_fraction': 0.8908905511367733, 'bagging_freq': 2, 'min_child_samples': 41}. Best is trial 1 with value: 0.9200645172479578.\n",
      "[I 2020-08-14 16:42:48,940] Trial 65 finished with value: 0.9191973499366968 and parameters: {'lambda_l1': 2.413236630617872e-05, 'lambda_l2': 4.308555715268504e-07, 'num_leaves': 199, 'feature_fraction': 0.44322071439112365, 'bagging_fraction': 0.7335514678115331, 'bagging_freq': 5, 'min_child_samples': 59}. Best is trial 1 with value: 0.9200645172479578.\n",
      "[I 2020-08-14 16:42:53,899] Trial 66 finished with value: 0.919682963631003 and parameters: {'lambda_l1': 1.3466355729062174, 'lambda_l2': 6.908363978345725e-08, 'num_leaves': 149, 'feature_fraction': 0.41807980956062263, 'bagging_fraction': 0.9740011476327288, 'bagging_freq': 6, 'min_child_samples': 31}. Best is trial 1 with value: 0.9200645172479578.\n",
      "[I 2020-08-14 16:42:58,746] Trial 67 finished with value: 0.9194921868225255 and parameters: {'lambda_l1': 2.8988650178237005e-06, 'lambda_l2': 3.538869956008314e-08, 'num_leaves': 129, 'feature_fraction': 0.46956275250066803, 'bagging_fraction': 0.9315168559245007, 'bagging_freq': 3, 'min_child_samples': 51}. Best is trial 1 with value: 0.9200645172479578.\n",
      "[I 2020-08-14 16:43:03,849] Trial 68 finished with value: 0.9197870237083543 and parameters: {'lambda_l1': 0.001052867464344328, 'lambda_l2': 1.82123724606577e-08, 'num_leaves': 174, 'feature_fraction': 0.5080561227187327, 'bagging_fraction': 0.8779246064176527, 'bagging_freq': 5, 'min_child_samples': 19}. Best is trial 1 with value: 0.9200645172479578.\n"
     ]
    },
    {
     "name": "stderr",
     "output_type": "stream",
     "text": [
      "[I 2020-08-14 16:43:08,137] Trial 69 finished with value: 0.9196656202847777 and parameters: {'lambda_l1': 0.6003286367818172, 'lambda_l2': 1.1663395193716831e-07, 'num_leaves': 138, 'feature_fraction': 0.4017434145313893, 'bagging_fraction': 0.7812218736695689, 'bagging_freq': 5, 'min_child_samples': 26}. Best is trial 1 with value: 0.9200645172479578.\n",
      "[I 2020-08-14 16:43:13,152] Trial 70 finished with value: 0.9194054700913994 and parameters: {'lambda_l1': 3.220204170759549, 'lambda_l2': 2.895212186922035e-07, 'num_leaves': 156, 'feature_fraction': 0.5341304361189843, 'bagging_fraction': 0.683968452684784, 'bagging_freq': 7, 'min_child_samples': 48}. Best is trial 1 with value: 0.9200645172479578.\n",
      "[I 2020-08-14 16:43:18,920] Trial 71 finished with value: 0.9197003069772282 and parameters: {'lambda_l1': 0.03597399605492005, 'lambda_l2': 2.665803302189913e-08, 'num_leaves': 167, 'feature_fraction': 0.5463602336989851, 'bagging_fraction': 0.9863026688936327, 'bagging_freq': 6, 'min_child_samples': 31}. Best is trial 1 with value: 0.9200645172479578.\n",
      "[I 2020-08-14 16:43:23,955] Trial 72 finished with value: 0.9200124872092822 and parameters: {'lambda_l1': 0.11676547032523157, 'lambda_l2': 6.737713286773801e-07, 'num_leaves': 149, 'feature_fraction': 0.49165512763323616, 'bagging_fraction': 0.9474541164672337, 'bagging_freq': 6, 'min_child_samples': 38}. Best is trial 1 with value: 0.9200645172479578.\n",
      "[I 2020-08-14 16:43:29,202] Trial 73 finished with value: 0.9197349936696786 and parameters: {'lambda_l1': 0.00441573012835574, 'lambda_l2': 8.087463252288811e-07, 'num_leaves': 122, 'feature_fraction': 0.4451945221489195, 'bagging_fraction': 0.907450150806533, 'bagging_freq': 6, 'min_child_samples': 37}. Best is trial 1 with value: 0.9200645172479578.\n",
      "[I 2020-08-14 16:43:34,422] Trial 74 finished with value: 0.9198217104008047 and parameters: {'lambda_l1': 0.11656499050105094, 'lambda_l2': 6.300240751644972e-08, 'num_leaves': 160, 'feature_fraction': 0.48865447649426863, 'bagging_fraction': 0.9584545644895128, 'bagging_freq': 6, 'min_child_samples': 42}. Best is trial 1 with value: 0.9200645172479578.\n",
      "[I 2020-08-14 16:43:39,755] Trial 75 finished with value: 0.9197176503234534 and parameters: {'lambda_l1': 0.337538732257625, 'lambda_l2': 0.0019176175391375139, 'num_leaves': 140, 'feature_fraction': 0.5679302399736906, 'bagging_fraction': 0.9376985496048472, 'bagging_freq': 5, 'min_child_samples': 38}. Best is trial 1 with value: 0.9200645172479578.\n",
      "[I 2020-08-14 16:43:45,154] Trial 76 finished with value: 0.9196482769385526 and parameters: {'lambda_l1': 1.0951840044360146, 'lambda_l2': 1.6724061625369017e-07, 'num_leaves': 173, 'feature_fraction': 0.5169721062844026, 'bagging_fraction': 0.8442479404226573, 'bagging_freq': 5, 'min_child_samples': 33}. Best is trial 1 with value: 0.9200645172479578.\n",
      "[I 2020-08-14 16:43:50,144] Trial 77 finished with value: 0.9197349936696786 and parameters: {'lambda_l1': 0.0003539292678176306, 'lambda_l2': 1.066696040693257e-08, 'num_leaves': 151, 'feature_fraction': 0.45330017147876156, 'bagging_fraction': 0.9210788593193879, 'bagging_freq': 4, 'min_child_samples': 62}. Best is trial 1 with value: 0.9200645172479578.\n",
      "[I 2020-08-14 16:43:55,421] Trial 78 finished with value: 0.9195962468998768 and parameters: {'lambda_l1': 0.08679917063691375, 'lambda_l2': 1.195894058983292e-05, 'num_leaves': 187, 'feature_fraction': 0.43224013185838633, 'bagging_fraction': 0.9604986789403724, 'bagging_freq': 7, 'min_child_samples': 46}. Best is trial 1 with value: 0.9200645172479578.\n",
      "[I 2020-08-14 16:44:00,405] Trial 79 finished with value: 0.9193881267451742 and parameters: {'lambda_l1': 0.014225394685732981, 'lambda_l2': 3.0650000416940996e-08, 'num_leaves': 131, 'feature_fraction': 0.4769530719279817, 'bagging_fraction': 0.9997814819101893, 'bagging_freq': 5, 'min_child_samples': 54}. Best is trial 1 with value: 0.9200645172479578.\n",
      "[I 2020-08-14 16:44:04,266] Trial 80 finished with value: 0.9189892297819942 and parameters: {'lambda_l1': 2.324746929119722, 'lambda_l2': 4.3152562107057457e-07, 'num_leaves': 164, 'feature_fraction': 0.4971368849168164, 'bagging_fraction': 0.4281261645012749, 'bagging_freq': 6, 'min_child_samples': 29}. Best is trial 1 with value: 0.9200645172479578.\n",
      "[I 2020-08-14 16:44:10,291] Trial 81 finished with value: 0.9192667233215976 and parameters: {'lambda_l1': 0.19686071986411915, 'lambda_l2': 2.2383896377861727e-07, 'num_leaves': 147, 'feature_fraction': 0.6001944801366251, 'bagging_fraction': 0.9948681296841186, 'bagging_freq': 6, 'min_child_samples': 21}. Best is trial 1 with value: 0.9200645172479578.\n",
      "[I 2020-08-14 16:44:17,061] Trial 82 finished with value: 0.9194921868225255 and parameters: {'lambda_l1': 0.4478946270577245, 'lambda_l2': 7.625704306644321e-08, 'num_leaves': 155, 'feature_fraction': 0.5338189829704861, 'bagging_fraction': 0.9454244481444024, 'bagging_freq': 6, 'min_child_samples': 27}. Best is trial 1 with value: 0.9200645172479578.\n",
      "[I 2020-08-14 16:44:22,028] Trial 83 finished with value: 0.9194748434763003 and parameters: {'lambda_l1': 0.02398927115639779, 'lambda_l2': 1.6155250297053844e-08, 'num_leaves': 138, 'feature_fraction': 0.580367555978361, 'bagging_fraction': 0.877233741910569, 'bagging_freq': 6, 'min_child_samples': 35}. Best is trial 1 with value: 0.9200645172479578.\n",
      "[I 2020-08-14 16:44:28,730] Trial 84 finished with value: 0.9197003069772282 and parameters: {'lambda_l1': 4.345084668610218, 'lambda_l2': 1.3352231078955986e-07, 'num_leaves': 169, 'feature_fraction': 0.5451119422871643, 'bagging_fraction': 0.9770912039233001, 'bagging_freq': 7, 'min_child_samples': 24}. Best is trial 1 with value: 0.9200645172479578.\n",
      "[I 2020-08-14 16:44:34,212] Trial 85 finished with value: 0.9196482769385526 and parameters: {'lambda_l1': 0.0985440853097654, 'lambda_l2': 1.232475858972268e-06, 'num_leaves': 180, 'feature_fraction': 0.5131096576535704, 'bagging_fraction': 0.9050223526699537, 'bagging_freq': 5, 'min_child_samples': 31}. Best is trial 1 with value: 0.9200645172479578.\n",
      "[I 2020-08-14 16:44:39,244] Trial 86 finished with value: 0.9193360967064985 and parameters: {'lambda_l1': 0.050788383265554085, 'lambda_l2': 2.8928010017919204e-07, 'num_leaves': 116, 'feature_fraction': 0.6286761263999937, 'bagging_fraction': 0.9260651234156321, 'bagging_freq': 6, 'min_child_samples': 40}. Best is trial 1 with value: 0.9200645172479578.\n",
      "[I 2020-08-14 16:44:44,365] Trial 87 finished with value: 0.9194748434763003 and parameters: {'lambda_l1': 0.7938472167352827, 'lambda_l2': 2.7193348398854965e-06, 'num_leaves': 147, 'feature_fraction': 0.4788958419796813, 'bagging_fraction': 0.9678464551689498, 'bagging_freq': 5, 'min_child_samples': 14}. Best is trial 1 with value: 0.9200645172479578.\n",
      "[I 2020-08-14 16:44:52,452] Trial 88 finished with value: 0.9194575001300751 and parameters: {'lambda_l1': 5.519233284190492, 'lambda_l2': 4.3222954760633596e-08, 'num_leaves': 211, 'feature_fraction': 0.7594704761868152, 'bagging_fraction': 0.9419779201509186, 'bagging_freq': 6, 'min_child_samples': 34}. Best is trial 1 with value: 0.9200645172479578.\n",
      "[I 2020-08-14 16:44:57,625] Trial 89 finished with value: 0.919214693282922 and parameters: {'lambda_l1': 0.1767436161253509, 'lambda_l2': 7.258846443691048e-07, 'num_leaves': 161, 'feature_fraction': 0.5567541921733057, 'bagging_fraction': 0.8547202445353048, 'bagging_freq': 5, 'min_child_samples': 28}. Best is trial 1 with value: 0.9200645172479578.\n",
      "[I 2020-08-14 16:45:01,232] Trial 90 finished with value: 0.9196309335923273 and parameters: {'lambda_l1': 0.008948426646323986, 'lambda_l2': 2.0686924185322793e-08, 'num_leaves': 106, 'feature_fraction': 0.4569239478684455, 'bagging_fraction': 0.7589894723857596, 'bagging_freq': 6, 'min_child_samples': 21}. Best is trial 1 with value: 0.9200645172479578.\n",
      "[I 2020-08-14 16:45:06,631] Trial 91 finished with value: 0.9198563970932552 and parameters: {'lambda_l1': 6.675518650499118, 'lambda_l2': 9.69571866595027e-08, 'num_leaves': 168, 'feature_fraction': 0.4166901036112233, 'bagging_fraction': 0.9496124182033752, 'bagging_freq': 7, 'min_child_samples': 25}. Best is trial 1 with value: 0.9200645172479578.\n"
     ]
    },
    {
     "name": "stderr",
     "output_type": "stream",
     "text": [
      "[I 2020-08-14 16:45:11,745] Trial 92 finished with value: 0.9198390537470299 and parameters: {'lambda_l1': 9.765969893930812, 'lambda_l2': 1.5781209692933222e-07, 'num_leaves': 125, 'feature_fraction': 0.4283212187619562, 'bagging_fraction': 0.9858937951347894, 'bagging_freq': 7, 'min_child_samples': 29}. Best is trial 1 with value: 0.9200645172479578.\n",
      "[I 2020-08-14 16:45:17,346] Trial 93 finished with value: 0.919682963631003 and parameters: {'lambda_l1': 2.7949442485251876, 'lambda_l2': 4.25190580443533e-08, 'num_leaves': 191, 'feature_fraction': 0.4674883452598407, 'bagging_fraction': 0.8120765343218069, 'bagging_freq': 4, 'min_child_samples': 39}. Best is trial 1 with value: 0.9200645172479578.\n",
      "[I 2020-08-14 16:45:23,088] Trial 94 finished with value: 0.9200818605941831 and parameters: {'lambda_l1': 9.625738031985506, 'lambda_l2': 3.099548200094547e-08, 'num_leaves': 201, 'feature_fraction': 0.49704378711045366, 'bagging_fraction': 0.8258921937859297, 'bagging_freq': 4, 'min_child_samples': 43}. Best is trial 94 with value: 0.9200818605941831.\n",
      "[I 2020-08-14 16:45:29,710] Trial 95 finished with value: 0.9196309335923273 and parameters: {'lambda_l1': 1.3208462854001475, 'lambda_l2': 1.2911960995995725e-08, 'num_leaves': 202, 'feature_fraction': 0.4990651666388758, 'bagging_fraction': 0.894869769025296, 'bagging_freq': 3, 'min_child_samples': 45}. Best is trial 94 with value: 0.9200818605941831.\n",
      "[I 2020-08-14 16:45:36,521] Trial 96 finished with value: 0.9198217104008047 and parameters: {'lambda_l1': 0.29542874564984656, 'lambda_l2': 2.6461964812412822e-08, 'num_leaves': 232, 'feature_fraction': 0.5221288763581491, 'bagging_fraction': 0.8800770210482938, 'bagging_freq': 4, 'min_child_samples': 48}. Best is trial 94 with value: 0.9200818605941831.\n",
      "[I 2020-08-14 16:45:42,708] Trial 97 finished with value: 0.9198043670545795 and parameters: {'lambda_l1': 5.875475857088157, 'lambda_l2': 6.398967746629586e-08, 'num_leaves': 194, 'feature_fraction': 0.4866278409149546, 'bagging_fraction': 0.7818995508232252, 'bagging_freq': 4, 'min_child_samples': 42}. Best is trial 94 with value: 0.9200818605941831.\n",
      "[I 2020-08-14 16:45:48,275] Trial 98 finished with value: 0.9198217104008047 and parameters: {'lambda_l1': 2.0579167302019905, 'lambda_l2': 1.6873191465300046e-08, 'num_leaves': 179, 'feature_fraction': 0.4458398851995544, 'bagging_fraction': 0.8309092344275929, 'bagging_freq': 4, 'min_child_samples': 51}. Best is trial 94 with value: 0.9200818605941831.\n",
      "[I 2020-08-14 16:45:53,275] Trial 99 finished with value: 0.9195095301687508 and parameters: {'lambda_l1': 0.6720069739298049, 'lambda_l2': 2.919853516120936e-07, 'num_leaves': 155, 'feature_fraction': 0.5321230217287567, 'bagging_fraction': 0.8194326052826328, 'bagging_freq': 5, 'min_child_samples': 37}. Best is trial 94 with value: 0.9200818605941831.\n"
     ]
    },
    {
     "name": "stdout",
     "output_type": "stream",
     "text": [
      "Number of finished trials: 100\n",
      "Best trial: {'lambda_l1': 9.625738031985506, 'lambda_l2': 3.099548200094547e-08, 'num_leaves': 201, 'feature_fraction': 0.49704378711045366, 'bagging_fraction': 0.8258921937859297, 'bagging_freq': 4, 'min_child_samples': 43}\n"
     ]
    }
   ],
   "source": [
    "\n",
    "# LightGBM用のデータセットに変換\n",
    "train = Dataset(X_train, y_train)\n",
    "val = Dataset(X_val, y_val)\n",
    "\n",
    "# ハイパーパラメータサーチ&モデル構築\n",
    " \n",
    "def objective(trial,dtrain=train, test_x=X_val, test_y=y_val):\n",
    "    param = {\n",
    "        'objective': 'binary',\n",
    "        'metric': 'auc',\n",
    "        'lambda_l1': trial.suggest_loguniform('lambda_l1', 1e-8, 10.0),\n",
    "        'lambda_l2': trial.suggest_loguniform('lambda_l2', 1e-8, 10.0),\n",
    "        'num_leaves': trial.suggest_int('num_leaves', 2, 256),\n",
    "        'feature_fraction': trial.suggest_uniform('feature_fraction', 0.4, 1.0),\n",
    "        'bagging_fraction': trial.suggest_uniform('bagging_fraction', 0.4, 1.0),\n",
    "        'bagging_freq': trial.suggest_int('bagging_freq', 1, 7),\n",
    "        'min_child_samples': trial.suggest_int('min_child_samples', 5, 100),\n",
    "    }\n",
    " \n",
    "    gbm = lgb.train(param, dtrain)\n",
    "    preds = gbm.predict(test_x)\n",
    "    pred_labels = np.rint(preds)\n",
    "    accuracy = sklearn.metrics.accuracy_score(test_y, pred_labels)\n",
    "    return accuracy\n",
    " \n",
    "study = optuna.create_study(direction='maximize')\n",
    "study.optimize(objective, n_trials=100)\n",
    " \n",
    "print('Number of finished trials:', len(study.trials))\n",
    "print('Best trial:', study.best_trial.params)\n",
    "    \n"
   ]
  },
  {
   "cell_type": "markdown",
   "metadata": {},
   "source": [
    "また、[こちら](https://www.kaggle.com/zonnalobo/home-credit-default-risk-using-lightgbm#Data-Preprocessing)のnotebookが良さそうだったので、流れを参照した。"
   ]
  },
  {
   "cell_type": "code",
   "execution_count": 68,
   "metadata": {},
   "outputs": [],
   "source": [
    "from sklearn.model_selection import StratifiedKFold,cross_validate,cross_val_score\n",
    "from sklearn.metrics import classification_report,confusion_matrix,precision_score,recall_score,log_loss,roc_curve\n",
    "from sklearn.metrics import accuracy_score,f1_score,roc_auc_score,average_precision_score,brier_score_loss\n",
    "from sklearn.linear_model import LogisticRegression\n",
    "from sklearn.tree import DecisionTreeClassifier\n",
    "from sklearn.neighbors import KNeighborsClassifier\n",
    "from sklearn.discriminant_analysis import LinearDiscriminantAnalysis,QuadraticDiscriminantAnalysis\n",
    "from sklearn.naive_bayes import GaussianNB\n",
    "from sklearn.ensemble import GradientBoostingClassifier,RandomForestClassifier,ExtraTreesClassifier\n",
    "from lightgbm import LGBMClassifier\n",
    "from xgboost import XGBClassifier\n",
    "from sklearn.utils import compute_sample_weight,compute_class_weight\n",
    "from sklearn.calibration import calibration_curve,CalibratedClassifierCV\n",
    "from sklearn import model_selection"
   ]
  },
  {
   "cell_type": "code",
   "execution_count": 74,
   "metadata": {},
   "outputs": [
    {
     "data": {
      "text/plain": [
       "Index(['NAME_CONTRACT_TYPE', 'CODE_GENDER', 'FLAG_OWN_CAR', 'FLAG_OWN_REALTY',\n",
       "       'CNT_CHILDREN', 'AMT_INCOME_TOTAL', 'AMT_CREDIT', 'AMT_ANNUITY',\n",
       "       'AMT_GOODS_PRICE', 'NAME_TYPE_SUITE',\n",
       "       ...\n",
       "       'FLAG_DOCUMENT_18', 'FLAG_DOCUMENT_19', 'FLAG_DOCUMENT_20',\n",
       "       'FLAG_DOCUMENT_21', 'AMT_REQ_CREDIT_BUREAU_HOUR',\n",
       "       'AMT_REQ_CREDIT_BUREAU_DAY', 'AMT_REQ_CREDIT_BUREAU_WEEK',\n",
       "       'AMT_REQ_CREDIT_BUREAU_MON', 'AMT_REQ_CREDIT_BUREAU_QRT',\n",
       "       'AMT_REQ_CREDIT_BUREAU_YEAR'],\n",
       "      dtype='object', length=120)"
      ]
     },
     "execution_count": 74,
     "metadata": {},
     "output_type": "execute_result"
    }
   ],
   "source": [
    "x_calls = data.columns[2:]\n",
    "x_calls"
   ]
  },
  {
   "cell_type": "code",
   "execution_count": 70,
   "metadata": {},
   "outputs": [],
   "source": []
  },
  {
   "cell_type": "code",
   "execution_count": 71,
   "metadata": {},
   "outputs": [],
   "source": []
  },
  {
   "cell_type": "code",
   "execution_count": 82,
   "metadata": {},
   "outputs": [
    {
     "data": {
      "text/plain": [
       "LGBMClassifier(class_weight='balanced', learning_rate=0.09275695087706179,\n",
       "               max_depth=3669, min_child_samples=60, min_data=6, num_leaves=64,\n",
       "               sub_feature=0.7757070409332384)"
      ]
     },
     "execution_count": 82,
     "metadata": {},
     "output_type": "execute_result"
    }
   ],
   "source": [
    "model_gbm = LGBMClassifier(boosting_type='gbdt', class_weight='balanced',\n",
    "        colsample_bytree=1.0, importance_type='split',\n",
    "        learning_rate=0.09275695087706179, max_depth=3669,\n",
    "        min_child_samples=60, min_child_weight=0.001, min_data=6,\n",
    "        min_split_gain=0.0, n_estimators=100, n_jobs=-1, num_leaves=64,\n",
    "        objective=None, random_state=None, reg_alpha=0.0, reg_lambda=0.0,\n",
    "        silent=True, sub_feature=0.7757070409332384, subsample=1.0,\n",
    "        subsample_for_bin=200000, subsample_freq=0)\n",
    "model_gbm.fit(X_train, y_train)"
   ]
  },
  {
   "cell_type": "code",
   "execution_count": 106,
   "metadata": {},
   "outputs": [
    {
     "name": "stdout",
     "output_type": "stream",
     "text": [
      "Accuracy Score: 0.724629\n",
      "ROC_AUC: 0.756411\n",
      "PR_AUC: 0.235800\n",
      "F1: 0.785953\n",
      "Recall: 0.724629\n",
      "Precision: 0.897635\n",
      "[[51768 19019]\n",
      " [ 2151  3940]]\n",
      "              precision    recall  f1-score   support\n",
      "\n",
      "           0       0.96      0.73      0.83     70787\n",
      "           1       0.17      0.65      0.27      6091\n",
      "\n",
      "    accuracy                           0.72     76878\n",
      "   macro avg       0.57      0.69      0.55     76878\n",
      "weighted avg       0.90      0.72      0.79     76878\n",
      "\n"
     ]
    }
   ],
   "source": [
    "# 予測と結果\n",
    "predictions = model_gbm.predict(X_test)\n",
    "prob = model_gbm.predict_proba(X_test)[:,1]\n",
    "# ['TARGET_hat']=predictions\n",
    "# data['TARGET_prob']=prob\n",
    "Y_validation = y_test\n",
    "print(\"Accuracy Score: %f\" % accuracy_score(Y_validation, predictions))\n",
    "print(\"ROC_AUC: %f\" % roc_auc_score(Y_validation, prob,average='weighted'))\n",
    "print(\"PR_AUC: %f\" % average_precision_score(Y_validation, prob,average='weighted'))\n",
    "print(\"F1: %f\" % f1_score(Y_validation, predictions,average='weighted'))\n",
    "print(\"Recall: %f\" % recall_score(Y_validation, predictions,average='weighted'))\n",
    "print(\"Precision: %f\" % precision_score(Y_validation, predictions,average='weighted'))\n",
    "print(confusion_matrix(Y_validation, predictions))\n",
    "print(classification_report(Y_validation, predictions))\n"
   ]
  },
  {
   "cell_type": "code",
   "execution_count": 107,
   "metadata": {},
   "outputs": [
    {
     "data": {
      "image/png": "[encoded data removed]",
      "text/plain": [
       "<Figure size 432x288 with 1 Axes>"
      ]
     },
     "metadata": {
      "needs_background": "light"
     },
     "output_type": "display_data"
    }
   ],
   "source": [
    "# 可視化\n",
    "fpr_rf_lm, tpr_rf_lm, _ = roc_curve(y_test, prob)\n",
    "\n",
    "plt.figure(1)\n",
    "plt.plot([0, 1], [0, 1], 'k--')\n",
    "plt.plot(fpr_rf_lm, tpr_rf_lm, label='RT + LR')\n",
    "plt.xlabel('False positive rate')\n",
    "plt.ylabel('True positive rate')\n",
    "plt.title('ROC curve')\n",
    "plt.legend(loc='best')\n",
    "plt.show()"
   ]
  },
  {
   "cell_type": "code",
   "execution_count": null,
   "metadata": {},
   "outputs": [],
   "source": [
    "# テストで予測、kaggleに投稿\n",
    "\n",
    "model_gbm.predict_proba()"
   ]
  },
  {
   "cell_type": "code",
   "execution_count": 89,
   "metadata": {},
   "outputs": [],
   "source": [
    "test_data = pd.read_csv(\"application_test.csv\")\n",
    "\n",
    "test_df = test_data.drop(['SK_ID_CURR'], axis=1)"
   ]
  },
  {
   "cell_type": "code",
   "execution_count": 90,
   "metadata": {},
   "outputs": [
    {
     "data": {
      "text/html": [
       "<div>\n",
       "<style scoped>\n",
       "    .dataframe tbody tr th:only-of-type {\n",
       "        vertical-align: middle;\n",
       "    }\n",
       "\n",
       "    .dataframe tbody tr th {\n",
       "        vertical-align: top;\n",
       "    }\n",
       "\n",
       "    .dataframe thead th {\n",
       "        text-align: right;\n",
       "    }\n",
       "</style>\n",
       "<table border=\"1\" class=\"dataframe\">\n",
       "  <thead>\n",
       "    <tr style=\"text-align: right;\">\n",
       "      <th></th>\n",
       "      <th>SK_ID_CURR</th>\n",
       "      <th>NAME_CONTRACT_TYPE</th>\n",
       "      <th>CODE_GENDER</th>\n",
       "      <th>FLAG_OWN_CAR</th>\n",
       "      <th>FLAG_OWN_REALTY</th>\n",
       "      <th>CNT_CHILDREN</th>\n",
       "      <th>AMT_INCOME_TOTAL</th>\n",
       "      <th>AMT_CREDIT</th>\n",
       "      <th>AMT_ANNUITY</th>\n",
       "      <th>AMT_GOODS_PRICE</th>\n",
       "      <th>...</th>\n",
       "      <th>FLAG_DOCUMENT_18</th>\n",
       "      <th>FLAG_DOCUMENT_19</th>\n",
       "      <th>FLAG_DOCUMENT_20</th>\n",
       "      <th>FLAG_DOCUMENT_21</th>\n",
       "      <th>AMT_REQ_CREDIT_BUREAU_HOUR</th>\n",
       "      <th>AMT_REQ_CREDIT_BUREAU_DAY</th>\n",
       "      <th>AMT_REQ_CREDIT_BUREAU_WEEK</th>\n",
       "      <th>AMT_REQ_CREDIT_BUREAU_MON</th>\n",
       "      <th>AMT_REQ_CREDIT_BUREAU_QRT</th>\n",
       "      <th>AMT_REQ_CREDIT_BUREAU_YEAR</th>\n",
       "    </tr>\n",
       "  </thead>\n",
       "  <tbody>\n",
       "    <tr>\n",
       "      <th>0</th>\n",
       "      <td>100001</td>\n",
       "      <td>Cash loans</td>\n",
       "      <td>F</td>\n",
       "      <td>N</td>\n",
       "      <td>Y</td>\n",
       "      <td>0</td>\n",
       "      <td>135000.0</td>\n",
       "      <td>568800.0</td>\n",
       "      <td>20560.5</td>\n",
       "      <td>450000.0</td>\n",
       "      <td>...</td>\n",
       "      <td>0</td>\n",
       "      <td>0</td>\n",
       "      <td>0</td>\n",
       "      <td>0</td>\n",
       "      <td>0.0</td>\n",
       "      <td>0.0</td>\n",
       "      <td>0.0</td>\n",
       "      <td>0.0</td>\n",
       "      <td>0.0</td>\n",
       "      <td>0.0</td>\n",
       "    </tr>\n",
       "    <tr>\n",
       "      <th>1</th>\n",
       "      <td>100005</td>\n",
       "      <td>Cash loans</td>\n",
       "      <td>M</td>\n",
       "      <td>N</td>\n",
       "      <td>Y</td>\n",
       "      <td>0</td>\n",
       "      <td>99000.0</td>\n",
       "      <td>222768.0</td>\n",
       "      <td>17370.0</td>\n",
       "      <td>180000.0</td>\n",
       "      <td>...</td>\n",
       "      <td>0</td>\n",
       "      <td>0</td>\n",
       "      <td>0</td>\n",
       "      <td>0</td>\n",
       "      <td>0.0</td>\n",
       "      <td>0.0</td>\n",
       "      <td>0.0</td>\n",
       "      <td>0.0</td>\n",
       "      <td>0.0</td>\n",
       "      <td>3.0</td>\n",
       "    </tr>\n",
       "    <tr>\n",
       "      <th>2</th>\n",
       "      <td>100013</td>\n",
       "      <td>Cash loans</td>\n",
       "      <td>M</td>\n",
       "      <td>Y</td>\n",
       "      <td>Y</td>\n",
       "      <td>0</td>\n",
       "      <td>202500.0</td>\n",
       "      <td>663264.0</td>\n",
       "      <td>69777.0</td>\n",
       "      <td>630000.0</td>\n",
       "      <td>...</td>\n",
       "      <td>0</td>\n",
       "      <td>0</td>\n",
       "      <td>0</td>\n",
       "      <td>0</td>\n",
       "      <td>0.0</td>\n",
       "      <td>0.0</td>\n",
       "      <td>0.0</td>\n",
       "      <td>0.0</td>\n",
       "      <td>1.0</td>\n",
       "      <td>4.0</td>\n",
       "    </tr>\n",
       "    <tr>\n",
       "      <th>3</th>\n",
       "      <td>100028</td>\n",
       "      <td>Cash loans</td>\n",
       "      <td>F</td>\n",
       "      <td>N</td>\n",
       "      <td>Y</td>\n",
       "      <td>2</td>\n",
       "      <td>315000.0</td>\n",
       "      <td>1575000.0</td>\n",
       "      <td>49018.5</td>\n",
       "      <td>1575000.0</td>\n",
       "      <td>...</td>\n",
       "      <td>0</td>\n",
       "      <td>0</td>\n",
       "      <td>0</td>\n",
       "      <td>0</td>\n",
       "      <td>0.0</td>\n",
       "      <td>0.0</td>\n",
       "      <td>0.0</td>\n",
       "      <td>0.0</td>\n",
       "      <td>0.0</td>\n",
       "      <td>3.0</td>\n",
       "    </tr>\n",
       "    <tr>\n",
       "      <th>4</th>\n",
       "      <td>100038</td>\n",
       "      <td>Cash loans</td>\n",
       "      <td>M</td>\n",
       "      <td>Y</td>\n",
       "      <td>N</td>\n",
       "      <td>1</td>\n",
       "      <td>180000.0</td>\n",
       "      <td>625500.0</td>\n",
       "      <td>32067.0</td>\n",
       "      <td>625500.0</td>\n",
       "      <td>...</td>\n",
       "      <td>0</td>\n",
       "      <td>0</td>\n",
       "      <td>0</td>\n",
       "      <td>0</td>\n",
       "      <td>NaN</td>\n",
       "      <td>NaN</td>\n",
       "      <td>NaN</td>\n",
       "      <td>NaN</td>\n",
       "      <td>NaN</td>\n",
       "      <td>NaN</td>\n",
       "    </tr>\n",
       "    <tr>\n",
       "      <th>...</th>\n",
       "      <td>...</td>\n",
       "      <td>...</td>\n",
       "      <td>...</td>\n",
       "      <td>...</td>\n",
       "      <td>...</td>\n",
       "      <td>...</td>\n",
       "      <td>...</td>\n",
       "      <td>...</td>\n",
       "      <td>...</td>\n",
       "      <td>...</td>\n",
       "      <td>...</td>\n",
       "      <td>...</td>\n",
       "      <td>...</td>\n",
       "      <td>...</td>\n",
       "      <td>...</td>\n",
       "      <td>...</td>\n",
       "      <td>...</td>\n",
       "      <td>...</td>\n",
       "      <td>...</td>\n",
       "      <td>...</td>\n",
       "      <td>...</td>\n",
       "    </tr>\n",
       "    <tr>\n",
       "      <th>48739</th>\n",
       "      <td>456221</td>\n",
       "      <td>Cash loans</td>\n",
       "      <td>F</td>\n",
       "      <td>N</td>\n",
       "      <td>Y</td>\n",
       "      <td>0</td>\n",
       "      <td>121500.0</td>\n",
       "      <td>412560.0</td>\n",
       "      <td>17473.5</td>\n",
       "      <td>270000.0</td>\n",
       "      <td>...</td>\n",
       "      <td>0</td>\n",
       "      <td>0</td>\n",
       "      <td>0</td>\n",
       "      <td>0</td>\n",
       "      <td>0.0</td>\n",
       "      <td>0.0</td>\n",
       "      <td>0.0</td>\n",
       "      <td>0.0</td>\n",
       "      <td>0.0</td>\n",
       "      <td>1.0</td>\n",
       "    </tr>\n",
       "    <tr>\n",
       "      <th>48740</th>\n",
       "      <td>456222</td>\n",
       "      <td>Cash loans</td>\n",
       "      <td>F</td>\n",
       "      <td>N</td>\n",
       "      <td>N</td>\n",
       "      <td>2</td>\n",
       "      <td>157500.0</td>\n",
       "      <td>622413.0</td>\n",
       "      <td>31909.5</td>\n",
       "      <td>495000.0</td>\n",
       "      <td>...</td>\n",
       "      <td>0</td>\n",
       "      <td>0</td>\n",
       "      <td>0</td>\n",
       "      <td>0</td>\n",
       "      <td>NaN</td>\n",
       "      <td>NaN</td>\n",
       "      <td>NaN</td>\n",
       "      <td>NaN</td>\n",
       "      <td>NaN</td>\n",
       "      <td>NaN</td>\n",
       "    </tr>\n",
       "    <tr>\n",
       "      <th>48741</th>\n",
       "      <td>456223</td>\n",
       "      <td>Cash loans</td>\n",
       "      <td>F</td>\n",
       "      <td>Y</td>\n",
       "      <td>Y</td>\n",
       "      <td>1</td>\n",
       "      <td>202500.0</td>\n",
       "      <td>315000.0</td>\n",
       "      <td>33205.5</td>\n",
       "      <td>315000.0</td>\n",
       "      <td>...</td>\n",
       "      <td>0</td>\n",
       "      <td>0</td>\n",
       "      <td>0</td>\n",
       "      <td>0</td>\n",
       "      <td>0.0</td>\n",
       "      <td>0.0</td>\n",
       "      <td>0.0</td>\n",
       "      <td>0.0</td>\n",
       "      <td>3.0</td>\n",
       "      <td>1.0</td>\n",
       "    </tr>\n",
       "    <tr>\n",
       "      <th>48742</th>\n",
       "      <td>456224</td>\n",
       "      <td>Cash loans</td>\n",
       "      <td>M</td>\n",
       "      <td>N</td>\n",
       "      <td>N</td>\n",
       "      <td>0</td>\n",
       "      <td>225000.0</td>\n",
       "      <td>450000.0</td>\n",
       "      <td>25128.0</td>\n",
       "      <td>450000.0</td>\n",
       "      <td>...</td>\n",
       "      <td>0</td>\n",
       "      <td>0</td>\n",
       "      <td>0</td>\n",
       "      <td>0</td>\n",
       "      <td>0.0</td>\n",
       "      <td>0.0</td>\n",
       "      <td>0.0</td>\n",
       "      <td>0.0</td>\n",
       "      <td>0.0</td>\n",
       "      <td>2.0</td>\n",
       "    </tr>\n",
       "    <tr>\n",
       "      <th>48743</th>\n",
       "      <td>456250</td>\n",
       "      <td>Cash loans</td>\n",
       "      <td>F</td>\n",
       "      <td>Y</td>\n",
       "      <td>N</td>\n",
       "      <td>0</td>\n",
       "      <td>135000.0</td>\n",
       "      <td>312768.0</td>\n",
       "      <td>24709.5</td>\n",
       "      <td>270000.0</td>\n",
       "      <td>...</td>\n",
       "      <td>0</td>\n",
       "      <td>0</td>\n",
       "      <td>0</td>\n",
       "      <td>0</td>\n",
       "      <td>0.0</td>\n",
       "      <td>0.0</td>\n",
       "      <td>0.0</td>\n",
       "      <td>0.0</td>\n",
       "      <td>1.0</td>\n",
       "      <td>4.0</td>\n",
       "    </tr>\n",
       "  </tbody>\n",
       "</table>\n",
       "<p>48744 rows × 121 columns</p>\n",
       "</div>"
      ],
      "text/plain": [
       "       SK_ID_CURR NAME_CONTRACT_TYPE CODE_GENDER FLAG_OWN_CAR FLAG_OWN_REALTY  \\\n",
       "0          100001         Cash loans           F            N               Y   \n",
       "1          100005         Cash loans           M            N               Y   \n",
       "2          100013         Cash loans           M            Y               Y   \n",
       "3          100028         Cash loans           F            N               Y   \n",
       "4          100038         Cash loans           M            Y               N   \n",
       "...           ...                ...         ...          ...             ...   \n",
       "48739      456221         Cash loans           F            N               Y   \n",
       "48740      456222         Cash loans           F            N               N   \n",
       "48741      456223         Cash loans           F            Y               Y   \n",
       "48742      456224         Cash loans           M            N               N   \n",
       "48743      456250         Cash loans           F            Y               N   \n",
       "\n",
       "       CNT_CHILDREN  AMT_INCOME_TOTAL  AMT_CREDIT  AMT_ANNUITY  \\\n",
       "0                 0          135000.0    568800.0      20560.5   \n",
       "1                 0           99000.0    222768.0      17370.0   \n",
       "2                 0          202500.0    663264.0      69777.0   \n",
       "3                 2          315000.0   1575000.0      49018.5   \n",
       "4                 1          180000.0    625500.0      32067.0   \n",
       "...             ...               ...         ...          ...   \n",
       "48739             0          121500.0    412560.0      17473.5   \n",
       "48740             2          157500.0    622413.0      31909.5   \n",
       "48741             1          202500.0    315000.0      33205.5   \n",
       "48742             0          225000.0    450000.0      25128.0   \n",
       "48743             0          135000.0    312768.0      24709.5   \n",
       "\n",
       "       AMT_GOODS_PRICE  ... FLAG_DOCUMENT_18 FLAG_DOCUMENT_19  \\\n",
       "0             450000.0  ...                0                0   \n",
       "1             180000.0  ...                0                0   \n",
       "2             630000.0  ...                0                0   \n",
       "3            1575000.0  ...                0                0   \n",
       "4             625500.0  ...                0                0   \n",
       "...                ...  ...              ...              ...   \n",
       "48739         270000.0  ...                0                0   \n",
       "48740         495000.0  ...                0                0   \n",
       "48741         315000.0  ...                0                0   \n",
       "48742         450000.0  ...                0                0   \n",
       "48743         270000.0  ...                0                0   \n",
       "\n",
       "      FLAG_DOCUMENT_20 FLAG_DOCUMENT_21 AMT_REQ_CREDIT_BUREAU_HOUR  \\\n",
       "0                    0                0                        0.0   \n",
       "1                    0                0                        0.0   \n",
       "2                    0                0                        0.0   \n",
       "3                    0                0                        0.0   \n",
       "4                    0                0                        NaN   \n",
       "...                ...              ...                        ...   \n",
       "48739                0                0                        0.0   \n",
       "48740                0                0                        NaN   \n",
       "48741                0                0                        0.0   \n",
       "48742                0                0                        0.0   \n",
       "48743                0                0                        0.0   \n",
       "\n",
       "       AMT_REQ_CREDIT_BUREAU_DAY  AMT_REQ_CREDIT_BUREAU_WEEK  \\\n",
       "0                            0.0                         0.0   \n",
       "1                            0.0                         0.0   \n",
       "2                            0.0                         0.0   \n",
       "3                            0.0                         0.0   \n",
       "4                            NaN                         NaN   \n",
       "...                          ...                         ...   \n",
       "48739                        0.0                         0.0   \n",
       "48740                        NaN                         NaN   \n",
       "48741                        0.0                         0.0   \n",
       "48742                        0.0                         0.0   \n",
       "48743                        0.0                         0.0   \n",
       "\n",
       "       AMT_REQ_CREDIT_BUREAU_MON  AMT_REQ_CREDIT_BUREAU_QRT  \\\n",
       "0                            0.0                        0.0   \n",
       "1                            0.0                        0.0   \n",
       "2                            0.0                        1.0   \n",
       "3                            0.0                        0.0   \n",
       "4                            NaN                        NaN   \n",
       "...                          ...                        ...   \n",
       "48739                        0.0                        0.0   \n",
       "48740                        NaN                        NaN   \n",
       "48741                        0.0                        3.0   \n",
       "48742                        0.0                        0.0   \n",
       "48743                        0.0                        1.0   \n",
       "\n",
       "       AMT_REQ_CREDIT_BUREAU_YEAR  \n",
       "0                             0.0  \n",
       "1                             3.0  \n",
       "2                             4.0  \n",
       "3                             3.0  \n",
       "4                             NaN  \n",
       "...                           ...  \n",
       "48739                         1.0  \n",
       "48740                         NaN  \n",
       "48741                         1.0  \n",
       "48742                         2.0  \n",
       "48743                         4.0  \n",
       "\n",
       "[48744 rows x 121 columns]"
      ]
     },
     "execution_count": 90,
     "metadata": {},
     "output_type": "execute_result"
    }
   ],
   "source": []
  },
  {
   "cell_type": "code",
   "execution_count": 91,
   "metadata": {},
   "outputs": [
    {
     "data": {
      "text/html": [
       "<div>\n",
       "<style scoped>\n",
       "    .dataframe tbody tr th:only-of-type {\n",
       "        vertical-align: middle;\n",
       "    }\n",
       "\n",
       "    .dataframe tbody tr th {\n",
       "        vertical-align: top;\n",
       "    }\n",
       "\n",
       "    .dataframe thead th {\n",
       "        text-align: right;\n",
       "    }\n",
       "</style>\n",
       "<table border=\"1\" class=\"dataframe\">\n",
       "  <thead>\n",
       "    <tr style=\"text-align: right;\">\n",
       "      <th></th>\n",
       "      <th>NAME_CONTRACT_TYPE</th>\n",
       "      <th>CODE_GENDER</th>\n",
       "      <th>FLAG_OWN_CAR</th>\n",
       "      <th>FLAG_OWN_REALTY</th>\n",
       "      <th>CNT_CHILDREN</th>\n",
       "      <th>AMT_INCOME_TOTAL</th>\n",
       "      <th>AMT_CREDIT</th>\n",
       "      <th>AMT_ANNUITY</th>\n",
       "      <th>AMT_GOODS_PRICE</th>\n",
       "      <th>NAME_TYPE_SUITE</th>\n",
       "      <th>...</th>\n",
       "      <th>FLAG_DOCUMENT_18</th>\n",
       "      <th>FLAG_DOCUMENT_19</th>\n",
       "      <th>FLAG_DOCUMENT_20</th>\n",
       "      <th>FLAG_DOCUMENT_21</th>\n",
       "      <th>AMT_REQ_CREDIT_BUREAU_HOUR</th>\n",
       "      <th>AMT_REQ_CREDIT_BUREAU_DAY</th>\n",
       "      <th>AMT_REQ_CREDIT_BUREAU_WEEK</th>\n",
       "      <th>AMT_REQ_CREDIT_BUREAU_MON</th>\n",
       "      <th>AMT_REQ_CREDIT_BUREAU_QRT</th>\n",
       "      <th>AMT_REQ_CREDIT_BUREAU_YEAR</th>\n",
       "    </tr>\n",
       "  </thead>\n",
       "  <tbody>\n",
       "    <tr>\n",
       "      <th>0</th>\n",
       "      <td>0</td>\n",
       "      <td>0</td>\n",
       "      <td>0</td>\n",
       "      <td>0</td>\n",
       "      <td>0</td>\n",
       "      <td>135000.0</td>\n",
       "      <td>568800.0</td>\n",
       "      <td>20560.5</td>\n",
       "      <td>450000.0</td>\n",
       "      <td>0</td>\n",
       "      <td>...</td>\n",
       "      <td>0</td>\n",
       "      <td>0</td>\n",
       "      <td>0</td>\n",
       "      <td>0</td>\n",
       "      <td>0.0</td>\n",
       "      <td>0.0</td>\n",
       "      <td>0.0</td>\n",
       "      <td>0.0</td>\n",
       "      <td>0.0</td>\n",
       "      <td>0.0</td>\n",
       "    </tr>\n",
       "    <tr>\n",
       "      <th>1</th>\n",
       "      <td>0</td>\n",
       "      <td>1</td>\n",
       "      <td>0</td>\n",
       "      <td>0</td>\n",
       "      <td>0</td>\n",
       "      <td>99000.0</td>\n",
       "      <td>222768.0</td>\n",
       "      <td>17370.0</td>\n",
       "      <td>180000.0</td>\n",
       "      <td>0</td>\n",
       "      <td>...</td>\n",
       "      <td>0</td>\n",
       "      <td>0</td>\n",
       "      <td>0</td>\n",
       "      <td>0</td>\n",
       "      <td>0.0</td>\n",
       "      <td>0.0</td>\n",
       "      <td>0.0</td>\n",
       "      <td>0.0</td>\n",
       "      <td>0.0</td>\n",
       "      <td>3.0</td>\n",
       "    </tr>\n",
       "    <tr>\n",
       "      <th>2</th>\n",
       "      <td>0</td>\n",
       "      <td>1</td>\n",
       "      <td>1</td>\n",
       "      <td>0</td>\n",
       "      <td>0</td>\n",
       "      <td>202500.0</td>\n",
       "      <td>663264.0</td>\n",
       "      <td>69777.0</td>\n",
       "      <td>630000.0</td>\n",
       "      <td>-1</td>\n",
       "      <td>...</td>\n",
       "      <td>0</td>\n",
       "      <td>0</td>\n",
       "      <td>0</td>\n",
       "      <td>0</td>\n",
       "      <td>0.0</td>\n",
       "      <td>0.0</td>\n",
       "      <td>0.0</td>\n",
       "      <td>0.0</td>\n",
       "      <td>1.0</td>\n",
       "      <td>4.0</td>\n",
       "    </tr>\n",
       "    <tr>\n",
       "      <th>3</th>\n",
       "      <td>0</td>\n",
       "      <td>0</td>\n",
       "      <td>0</td>\n",
       "      <td>0</td>\n",
       "      <td>2</td>\n",
       "      <td>315000.0</td>\n",
       "      <td>1575000.0</td>\n",
       "      <td>49018.5</td>\n",
       "      <td>1575000.0</td>\n",
       "      <td>0</td>\n",
       "      <td>...</td>\n",
       "      <td>0</td>\n",
       "      <td>0</td>\n",
       "      <td>0</td>\n",
       "      <td>0</td>\n",
       "      <td>0.0</td>\n",
       "      <td>0.0</td>\n",
       "      <td>0.0</td>\n",
       "      <td>0.0</td>\n",
       "      <td>0.0</td>\n",
       "      <td>3.0</td>\n",
       "    </tr>\n",
       "    <tr>\n",
       "      <th>4</th>\n",
       "      <td>0</td>\n",
       "      <td>1</td>\n",
       "      <td>1</td>\n",
       "      <td>1</td>\n",
       "      <td>1</td>\n",
       "      <td>180000.0</td>\n",
       "      <td>625500.0</td>\n",
       "      <td>32067.0</td>\n",
       "      <td>625500.0</td>\n",
       "      <td>0</td>\n",
       "      <td>...</td>\n",
       "      <td>0</td>\n",
       "      <td>0</td>\n",
       "      <td>0</td>\n",
       "      <td>0</td>\n",
       "      <td>NaN</td>\n",
       "      <td>NaN</td>\n",
       "      <td>NaN</td>\n",
       "      <td>NaN</td>\n",
       "      <td>NaN</td>\n",
       "      <td>NaN</td>\n",
       "    </tr>\n",
       "    <tr>\n",
       "      <th>...</th>\n",
       "      <td>...</td>\n",
       "      <td>...</td>\n",
       "      <td>...</td>\n",
       "      <td>...</td>\n",
       "      <td>...</td>\n",
       "      <td>...</td>\n",
       "      <td>...</td>\n",
       "      <td>...</td>\n",
       "      <td>...</td>\n",
       "      <td>...</td>\n",
       "      <td>...</td>\n",
       "      <td>...</td>\n",
       "      <td>...</td>\n",
       "      <td>...</td>\n",
       "      <td>...</td>\n",
       "      <td>...</td>\n",
       "      <td>...</td>\n",
       "      <td>...</td>\n",
       "      <td>...</td>\n",
       "      <td>...</td>\n",
       "      <td>...</td>\n",
       "    </tr>\n",
       "    <tr>\n",
       "      <th>48739</th>\n",
       "      <td>0</td>\n",
       "      <td>0</td>\n",
       "      <td>0</td>\n",
       "      <td>0</td>\n",
       "      <td>0</td>\n",
       "      <td>121500.0</td>\n",
       "      <td>412560.0</td>\n",
       "      <td>17473.5</td>\n",
       "      <td>270000.0</td>\n",
       "      <td>0</td>\n",
       "      <td>...</td>\n",
       "      <td>0</td>\n",
       "      <td>0</td>\n",
       "      <td>0</td>\n",
       "      <td>0</td>\n",
       "      <td>0.0</td>\n",
       "      <td>0.0</td>\n",
       "      <td>0.0</td>\n",
       "      <td>0.0</td>\n",
       "      <td>0.0</td>\n",
       "      <td>1.0</td>\n",
       "    </tr>\n",
       "    <tr>\n",
       "      <th>48740</th>\n",
       "      <td>0</td>\n",
       "      <td>0</td>\n",
       "      <td>0</td>\n",
       "      <td>1</td>\n",
       "      <td>2</td>\n",
       "      <td>157500.0</td>\n",
       "      <td>622413.0</td>\n",
       "      <td>31909.5</td>\n",
       "      <td>495000.0</td>\n",
       "      <td>0</td>\n",
       "      <td>...</td>\n",
       "      <td>0</td>\n",
       "      <td>0</td>\n",
       "      <td>0</td>\n",
       "      <td>0</td>\n",
       "      <td>NaN</td>\n",
       "      <td>NaN</td>\n",
       "      <td>NaN</td>\n",
       "      <td>NaN</td>\n",
       "      <td>NaN</td>\n",
       "      <td>NaN</td>\n",
       "    </tr>\n",
       "    <tr>\n",
       "      <th>48741</th>\n",
       "      <td>0</td>\n",
       "      <td>0</td>\n",
       "      <td>1</td>\n",
       "      <td>0</td>\n",
       "      <td>1</td>\n",
       "      <td>202500.0</td>\n",
       "      <td>315000.0</td>\n",
       "      <td>33205.5</td>\n",
       "      <td>315000.0</td>\n",
       "      <td>0</td>\n",
       "      <td>...</td>\n",
       "      <td>0</td>\n",
       "      <td>0</td>\n",
       "      <td>0</td>\n",
       "      <td>0</td>\n",
       "      <td>0.0</td>\n",
       "      <td>0.0</td>\n",
       "      <td>0.0</td>\n",
       "      <td>0.0</td>\n",
       "      <td>3.0</td>\n",
       "      <td>1.0</td>\n",
       "    </tr>\n",
       "    <tr>\n",
       "      <th>48742</th>\n",
       "      <td>0</td>\n",
       "      <td>1</td>\n",
       "      <td>0</td>\n",
       "      <td>1</td>\n",
       "      <td>0</td>\n",
       "      <td>225000.0</td>\n",
       "      <td>450000.0</td>\n",
       "      <td>25128.0</td>\n",
       "      <td>450000.0</td>\n",
       "      <td>1</td>\n",
       "      <td>...</td>\n",
       "      <td>0</td>\n",
       "      <td>0</td>\n",
       "      <td>0</td>\n",
       "      <td>0</td>\n",
       "      <td>0.0</td>\n",
       "      <td>0.0</td>\n",
       "      <td>0.0</td>\n",
       "      <td>0.0</td>\n",
       "      <td>0.0</td>\n",
       "      <td>2.0</td>\n",
       "    </tr>\n",
       "    <tr>\n",
       "      <th>48743</th>\n",
       "      <td>0</td>\n",
       "      <td>0</td>\n",
       "      <td>1</td>\n",
       "      <td>1</td>\n",
       "      <td>0</td>\n",
       "      <td>135000.0</td>\n",
       "      <td>312768.0</td>\n",
       "      <td>24709.5</td>\n",
       "      <td>270000.0</td>\n",
       "      <td>0</td>\n",
       "      <td>...</td>\n",
       "      <td>0</td>\n",
       "      <td>0</td>\n",
       "      <td>0</td>\n",
       "      <td>0</td>\n",
       "      <td>0.0</td>\n",
       "      <td>0.0</td>\n",
       "      <td>0.0</td>\n",
       "      <td>0.0</td>\n",
       "      <td>1.0</td>\n",
       "      <td>4.0</td>\n",
       "    </tr>\n",
       "  </tbody>\n",
       "</table>\n",
       "<p>48744 rows × 120 columns</p>\n",
       "</div>"
      ],
      "text/plain": [
       "       NAME_CONTRACT_TYPE  CODE_GENDER  FLAG_OWN_CAR  FLAG_OWN_REALTY  \\\n",
       "0                       0            0             0                0   \n",
       "1                       0            1             0                0   \n",
       "2                       0            1             1                0   \n",
       "3                       0            0             0                0   \n",
       "4                       0            1             1                1   \n",
       "...                   ...          ...           ...              ...   \n",
       "48739                   0            0             0                0   \n",
       "48740                   0            0             0                1   \n",
       "48741                   0            0             1                0   \n",
       "48742                   0            1             0                1   \n",
       "48743                   0            0             1                1   \n",
       "\n",
       "       CNT_CHILDREN  AMT_INCOME_TOTAL  AMT_CREDIT  AMT_ANNUITY  \\\n",
       "0                 0          135000.0    568800.0      20560.5   \n",
       "1                 0           99000.0    222768.0      17370.0   \n",
       "2                 0          202500.0    663264.0      69777.0   \n",
       "3                 2          315000.0   1575000.0      49018.5   \n",
       "4                 1          180000.0    625500.0      32067.0   \n",
       "...             ...               ...         ...          ...   \n",
       "48739             0          121500.0    412560.0      17473.5   \n",
       "48740             2          157500.0    622413.0      31909.5   \n",
       "48741             1          202500.0    315000.0      33205.5   \n",
       "48742             0          225000.0    450000.0      25128.0   \n",
       "48743             0          135000.0    312768.0      24709.5   \n",
       "\n",
       "       AMT_GOODS_PRICE  NAME_TYPE_SUITE  ...  FLAG_DOCUMENT_18  \\\n",
       "0             450000.0                0  ...                 0   \n",
       "1             180000.0                0  ...                 0   \n",
       "2             630000.0               -1  ...                 0   \n",
       "3            1575000.0                0  ...                 0   \n",
       "4             625500.0                0  ...                 0   \n",
       "...                ...              ...  ...               ...   \n",
       "48739         270000.0                0  ...                 0   \n",
       "48740         495000.0                0  ...                 0   \n",
       "48741         315000.0                0  ...                 0   \n",
       "48742         450000.0                1  ...                 0   \n",
       "48743         270000.0                0  ...                 0   \n",
       "\n",
       "       FLAG_DOCUMENT_19  FLAG_DOCUMENT_20  FLAG_DOCUMENT_21  \\\n",
       "0                     0                 0                 0   \n",
       "1                     0                 0                 0   \n",
       "2                     0                 0                 0   \n",
       "3                     0                 0                 0   \n",
       "4                     0                 0                 0   \n",
       "...                 ...               ...               ...   \n",
       "48739                 0                 0                 0   \n",
       "48740                 0                 0                 0   \n",
       "48741                 0                 0                 0   \n",
       "48742                 0                 0                 0   \n",
       "48743                 0                 0                 0   \n",
       "\n",
       "       AMT_REQ_CREDIT_BUREAU_HOUR  AMT_REQ_CREDIT_BUREAU_DAY  \\\n",
       "0                             0.0                        0.0   \n",
       "1                             0.0                        0.0   \n",
       "2                             0.0                        0.0   \n",
       "3                             0.0                        0.0   \n",
       "4                             NaN                        NaN   \n",
       "...                           ...                        ...   \n",
       "48739                         0.0                        0.0   \n",
       "48740                         NaN                        NaN   \n",
       "48741                         0.0                        0.0   \n",
       "48742                         0.0                        0.0   \n",
       "48743                         0.0                        0.0   \n",
       "\n",
       "       AMT_REQ_CREDIT_BUREAU_WEEK  AMT_REQ_CREDIT_BUREAU_MON  \\\n",
       "0                             0.0                        0.0   \n",
       "1                             0.0                        0.0   \n",
       "2                             0.0                        0.0   \n",
       "3                             0.0                        0.0   \n",
       "4                             NaN                        NaN   \n",
       "...                           ...                        ...   \n",
       "48739                         0.0                        0.0   \n",
       "48740                         NaN                        NaN   \n",
       "48741                         0.0                        0.0   \n",
       "48742                         0.0                        0.0   \n",
       "48743                         0.0                        0.0   \n",
       "\n",
       "       AMT_REQ_CREDIT_BUREAU_QRT  AMT_REQ_CREDIT_BUREAU_YEAR  \n",
       "0                            0.0                         0.0  \n",
       "1                            0.0                         3.0  \n",
       "2                            1.0                         4.0  \n",
       "3                            0.0                         3.0  \n",
       "4                            NaN                         NaN  \n",
       "...                          ...                         ...  \n",
       "48739                        0.0                         1.0  \n",
       "48740                        NaN                         NaN  \n",
       "48741                        3.0                         1.0  \n",
       "48742                        0.0                         2.0  \n",
       "48743                        1.0                         4.0  \n",
       "\n",
       "[48744 rows x 120 columns]"
      ]
     },
     "execution_count": 91,
     "metadata": {},
     "output_type": "execute_result"
    }
   ],
   "source": [
    "_factorize_categoricals(test_df, obj)"
   ]
  },
  {
   "cell_type": "code",
   "execution_count": 94,
   "metadata": {},
   "outputs": [
    {
     "data": {
      "text/html": [
       "<div>\n",
       "<style scoped>\n",
       "    .dataframe tbody tr th:only-of-type {\n",
       "        vertical-align: middle;\n",
       "    }\n",
       "\n",
       "    .dataframe tbody tr th {\n",
       "        vertical-align: top;\n",
       "    }\n",
       "\n",
       "    .dataframe thead th {\n",
       "        text-align: right;\n",
       "    }\n",
       "</style>\n",
       "<table border=\"1\" class=\"dataframe\">\n",
       "  <thead>\n",
       "    <tr style=\"text-align: right;\">\n",
       "      <th></th>\n",
       "      <th>NAME_CONTRACT_TYPE</th>\n",
       "      <th>CODE_GENDER</th>\n",
       "      <th>FLAG_OWN_CAR</th>\n",
       "      <th>FLAG_OWN_REALTY</th>\n",
       "      <th>CNT_CHILDREN</th>\n",
       "      <th>AMT_INCOME_TOTAL</th>\n",
       "      <th>AMT_CREDIT</th>\n",
       "      <th>AMT_ANNUITY</th>\n",
       "      <th>AMT_GOODS_PRICE</th>\n",
       "      <th>NAME_TYPE_SUITE</th>\n",
       "      <th>...</th>\n",
       "      <th>FLAG_DOCUMENT_18</th>\n",
       "      <th>FLAG_DOCUMENT_19</th>\n",
       "      <th>FLAG_DOCUMENT_20</th>\n",
       "      <th>FLAG_DOCUMENT_21</th>\n",
       "      <th>AMT_REQ_CREDIT_BUREAU_HOUR</th>\n",
       "      <th>AMT_REQ_CREDIT_BUREAU_DAY</th>\n",
       "      <th>AMT_REQ_CREDIT_BUREAU_WEEK</th>\n",
       "      <th>AMT_REQ_CREDIT_BUREAU_MON</th>\n",
       "      <th>AMT_REQ_CREDIT_BUREAU_QRT</th>\n",
       "      <th>AMT_REQ_CREDIT_BUREAU_YEAR</th>\n",
       "    </tr>\n",
       "  </thead>\n",
       "  <tbody>\n",
       "    <tr>\n",
       "      <th>0</th>\n",
       "      <td>0</td>\n",
       "      <td>0</td>\n",
       "      <td>0</td>\n",
       "      <td>0</td>\n",
       "      <td>0</td>\n",
       "      <td>135000.0</td>\n",
       "      <td>568800.0</td>\n",
       "      <td>20560.5</td>\n",
       "      <td>450000.0</td>\n",
       "      <td>0</td>\n",
       "      <td>...</td>\n",
       "      <td>0</td>\n",
       "      <td>0</td>\n",
       "      <td>0</td>\n",
       "      <td>0</td>\n",
       "      <td>0.0</td>\n",
       "      <td>0.0</td>\n",
       "      <td>0.0</td>\n",
       "      <td>0.0</td>\n",
       "      <td>0.0</td>\n",
       "      <td>0.0</td>\n",
       "    </tr>\n",
       "    <tr>\n",
       "      <th>1</th>\n",
       "      <td>0</td>\n",
       "      <td>1</td>\n",
       "      <td>0</td>\n",
       "      <td>0</td>\n",
       "      <td>0</td>\n",
       "      <td>99000.0</td>\n",
       "      <td>222768.0</td>\n",
       "      <td>17370.0</td>\n",
       "      <td>180000.0</td>\n",
       "      <td>0</td>\n",
       "      <td>...</td>\n",
       "      <td>0</td>\n",
       "      <td>0</td>\n",
       "      <td>0</td>\n",
       "      <td>0</td>\n",
       "      <td>0.0</td>\n",
       "      <td>0.0</td>\n",
       "      <td>0.0</td>\n",
       "      <td>0.0</td>\n",
       "      <td>0.0</td>\n",
       "      <td>3.0</td>\n",
       "    </tr>\n",
       "    <tr>\n",
       "      <th>2</th>\n",
       "      <td>0</td>\n",
       "      <td>1</td>\n",
       "      <td>1</td>\n",
       "      <td>0</td>\n",
       "      <td>0</td>\n",
       "      <td>202500.0</td>\n",
       "      <td>663264.0</td>\n",
       "      <td>69777.0</td>\n",
       "      <td>630000.0</td>\n",
       "      <td>-1</td>\n",
       "      <td>...</td>\n",
       "      <td>0</td>\n",
       "      <td>0</td>\n",
       "      <td>0</td>\n",
       "      <td>0</td>\n",
       "      <td>0.0</td>\n",
       "      <td>0.0</td>\n",
       "      <td>0.0</td>\n",
       "      <td>0.0</td>\n",
       "      <td>1.0</td>\n",
       "      <td>4.0</td>\n",
       "    </tr>\n",
       "    <tr>\n",
       "      <th>3</th>\n",
       "      <td>0</td>\n",
       "      <td>0</td>\n",
       "      <td>0</td>\n",
       "      <td>0</td>\n",
       "      <td>2</td>\n",
       "      <td>315000.0</td>\n",
       "      <td>1575000.0</td>\n",
       "      <td>49018.5</td>\n",
       "      <td>1575000.0</td>\n",
       "      <td>0</td>\n",
       "      <td>...</td>\n",
       "      <td>0</td>\n",
       "      <td>0</td>\n",
       "      <td>0</td>\n",
       "      <td>0</td>\n",
       "      <td>0.0</td>\n",
       "      <td>0.0</td>\n",
       "      <td>0.0</td>\n",
       "      <td>0.0</td>\n",
       "      <td>0.0</td>\n",
       "      <td>3.0</td>\n",
       "    </tr>\n",
       "    <tr>\n",
       "      <th>4</th>\n",
       "      <td>0</td>\n",
       "      <td>1</td>\n",
       "      <td>1</td>\n",
       "      <td>1</td>\n",
       "      <td>1</td>\n",
       "      <td>180000.0</td>\n",
       "      <td>625500.0</td>\n",
       "      <td>32067.0</td>\n",
       "      <td>625500.0</td>\n",
       "      <td>0</td>\n",
       "      <td>...</td>\n",
       "      <td>0</td>\n",
       "      <td>0</td>\n",
       "      <td>0</td>\n",
       "      <td>0</td>\n",
       "      <td>0.0</td>\n",
       "      <td>0.0</td>\n",
       "      <td>0.0</td>\n",
       "      <td>0.0</td>\n",
       "      <td>0.0</td>\n",
       "      <td>2.0</td>\n",
       "    </tr>\n",
       "    <tr>\n",
       "      <th>...</th>\n",
       "      <td>...</td>\n",
       "      <td>...</td>\n",
       "      <td>...</td>\n",
       "      <td>...</td>\n",
       "      <td>...</td>\n",
       "      <td>...</td>\n",
       "      <td>...</td>\n",
       "      <td>...</td>\n",
       "      <td>...</td>\n",
       "      <td>...</td>\n",
       "      <td>...</td>\n",
       "      <td>...</td>\n",
       "      <td>...</td>\n",
       "      <td>...</td>\n",
       "      <td>...</td>\n",
       "      <td>...</td>\n",
       "      <td>...</td>\n",
       "      <td>...</td>\n",
       "      <td>...</td>\n",
       "      <td>...</td>\n",
       "      <td>...</td>\n",
       "    </tr>\n",
       "    <tr>\n",
       "      <th>48739</th>\n",
       "      <td>0</td>\n",
       "      <td>0</td>\n",
       "      <td>0</td>\n",
       "      <td>0</td>\n",
       "      <td>0</td>\n",
       "      <td>121500.0</td>\n",
       "      <td>412560.0</td>\n",
       "      <td>17473.5</td>\n",
       "      <td>270000.0</td>\n",
       "      <td>0</td>\n",
       "      <td>...</td>\n",
       "      <td>0</td>\n",
       "      <td>0</td>\n",
       "      <td>0</td>\n",
       "      <td>0</td>\n",
       "      <td>0.0</td>\n",
       "      <td>0.0</td>\n",
       "      <td>0.0</td>\n",
       "      <td>0.0</td>\n",
       "      <td>0.0</td>\n",
       "      <td>1.0</td>\n",
       "    </tr>\n",
       "    <tr>\n",
       "      <th>48740</th>\n",
       "      <td>0</td>\n",
       "      <td>0</td>\n",
       "      <td>0</td>\n",
       "      <td>1</td>\n",
       "      <td>2</td>\n",
       "      <td>157500.0</td>\n",
       "      <td>622413.0</td>\n",
       "      <td>31909.5</td>\n",
       "      <td>495000.0</td>\n",
       "      <td>0</td>\n",
       "      <td>...</td>\n",
       "      <td>0</td>\n",
       "      <td>0</td>\n",
       "      <td>0</td>\n",
       "      <td>0</td>\n",
       "      <td>0.0</td>\n",
       "      <td>0.0</td>\n",
       "      <td>0.0</td>\n",
       "      <td>0.0</td>\n",
       "      <td>0.0</td>\n",
       "      <td>2.0</td>\n",
       "    </tr>\n",
       "    <tr>\n",
       "      <th>48741</th>\n",
       "      <td>0</td>\n",
       "      <td>0</td>\n",
       "      <td>1</td>\n",
       "      <td>0</td>\n",
       "      <td>1</td>\n",
       "      <td>202500.0</td>\n",
       "      <td>315000.0</td>\n",
       "      <td>33205.5</td>\n",
       "      <td>315000.0</td>\n",
       "      <td>0</td>\n",
       "      <td>...</td>\n",
       "      <td>0</td>\n",
       "      <td>0</td>\n",
       "      <td>0</td>\n",
       "      <td>0</td>\n",
       "      <td>0.0</td>\n",
       "      <td>0.0</td>\n",
       "      <td>0.0</td>\n",
       "      <td>0.0</td>\n",
       "      <td>3.0</td>\n",
       "      <td>1.0</td>\n",
       "    </tr>\n",
       "    <tr>\n",
       "      <th>48742</th>\n",
       "      <td>0</td>\n",
       "      <td>1</td>\n",
       "      <td>0</td>\n",
       "      <td>1</td>\n",
       "      <td>0</td>\n",
       "      <td>225000.0</td>\n",
       "      <td>450000.0</td>\n",
       "      <td>25128.0</td>\n",
       "      <td>450000.0</td>\n",
       "      <td>1</td>\n",
       "      <td>...</td>\n",
       "      <td>0</td>\n",
       "      <td>0</td>\n",
       "      <td>0</td>\n",
       "      <td>0</td>\n",
       "      <td>0.0</td>\n",
       "      <td>0.0</td>\n",
       "      <td>0.0</td>\n",
       "      <td>0.0</td>\n",
       "      <td>0.0</td>\n",
       "      <td>2.0</td>\n",
       "    </tr>\n",
       "    <tr>\n",
       "      <th>48743</th>\n",
       "      <td>0</td>\n",
       "      <td>0</td>\n",
       "      <td>1</td>\n",
       "      <td>1</td>\n",
       "      <td>0</td>\n",
       "      <td>135000.0</td>\n",
       "      <td>312768.0</td>\n",
       "      <td>24709.5</td>\n",
       "      <td>270000.0</td>\n",
       "      <td>0</td>\n",
       "      <td>...</td>\n",
       "      <td>0</td>\n",
       "      <td>0</td>\n",
       "      <td>0</td>\n",
       "      <td>0</td>\n",
       "      <td>0.0</td>\n",
       "      <td>0.0</td>\n",
       "      <td>0.0</td>\n",
       "      <td>0.0</td>\n",
       "      <td>1.0</td>\n",
       "      <td>4.0</td>\n",
       "    </tr>\n",
       "  </tbody>\n",
       "</table>\n",
       "<p>48744 rows × 120 columns</p>\n",
       "</div>"
      ],
      "text/plain": [
       "       NAME_CONTRACT_TYPE  CODE_GENDER  FLAG_OWN_CAR  FLAG_OWN_REALTY  \\\n",
       "0                       0            0             0                0   \n",
       "1                       0            1             0                0   \n",
       "2                       0            1             1                0   \n",
       "3                       0            0             0                0   \n",
       "4                       0            1             1                1   \n",
       "...                   ...          ...           ...              ...   \n",
       "48739                   0            0             0                0   \n",
       "48740                   0            0             0                1   \n",
       "48741                   0            0             1                0   \n",
       "48742                   0            1             0                1   \n",
       "48743                   0            0             1                1   \n",
       "\n",
       "       CNT_CHILDREN  AMT_INCOME_TOTAL  AMT_CREDIT  AMT_ANNUITY  \\\n",
       "0                 0          135000.0    568800.0      20560.5   \n",
       "1                 0           99000.0    222768.0      17370.0   \n",
       "2                 0          202500.0    663264.0      69777.0   \n",
       "3                 2          315000.0   1575000.0      49018.5   \n",
       "4                 1          180000.0    625500.0      32067.0   \n",
       "...             ...               ...         ...          ...   \n",
       "48739             0          121500.0    412560.0      17473.5   \n",
       "48740             2          157500.0    622413.0      31909.5   \n",
       "48741             1          202500.0    315000.0      33205.5   \n",
       "48742             0          225000.0    450000.0      25128.0   \n",
       "48743             0          135000.0    312768.0      24709.5   \n",
       "\n",
       "       AMT_GOODS_PRICE  NAME_TYPE_SUITE  ...  FLAG_DOCUMENT_18  \\\n",
       "0             450000.0                0  ...                 0   \n",
       "1             180000.0                0  ...                 0   \n",
       "2             630000.0               -1  ...                 0   \n",
       "3            1575000.0                0  ...                 0   \n",
       "4             625500.0                0  ...                 0   \n",
       "...                ...              ...  ...               ...   \n",
       "48739         270000.0                0  ...                 0   \n",
       "48740         495000.0                0  ...                 0   \n",
       "48741         315000.0                0  ...                 0   \n",
       "48742         450000.0                1  ...                 0   \n",
       "48743         270000.0                0  ...                 0   \n",
       "\n",
       "       FLAG_DOCUMENT_19  FLAG_DOCUMENT_20  FLAG_DOCUMENT_21  \\\n",
       "0                     0                 0                 0   \n",
       "1                     0                 0                 0   \n",
       "2                     0                 0                 0   \n",
       "3                     0                 0                 0   \n",
       "4                     0                 0                 0   \n",
       "...                 ...               ...               ...   \n",
       "48739                 0                 0                 0   \n",
       "48740                 0                 0                 0   \n",
       "48741                 0                 0                 0   \n",
       "48742                 0                 0                 0   \n",
       "48743                 0                 0                 0   \n",
       "\n",
       "       AMT_REQ_CREDIT_BUREAU_HOUR  AMT_REQ_CREDIT_BUREAU_DAY  \\\n",
       "0                             0.0                        0.0   \n",
       "1                             0.0                        0.0   \n",
       "2                             0.0                        0.0   \n",
       "3                             0.0                        0.0   \n",
       "4                             0.0                        0.0   \n",
       "...                           ...                        ...   \n",
       "48739                         0.0                        0.0   \n",
       "48740                         0.0                        0.0   \n",
       "48741                         0.0                        0.0   \n",
       "48742                         0.0                        0.0   \n",
       "48743                         0.0                        0.0   \n",
       "\n",
       "       AMT_REQ_CREDIT_BUREAU_WEEK  AMT_REQ_CREDIT_BUREAU_MON  \\\n",
       "0                             0.0                        0.0   \n",
       "1                             0.0                        0.0   \n",
       "2                             0.0                        0.0   \n",
       "3                             0.0                        0.0   \n",
       "4                             0.0                        0.0   \n",
       "...                           ...                        ...   \n",
       "48739                         0.0                        0.0   \n",
       "48740                         0.0                        0.0   \n",
       "48741                         0.0                        0.0   \n",
       "48742                         0.0                        0.0   \n",
       "48743                         0.0                        0.0   \n",
       "\n",
       "       AMT_REQ_CREDIT_BUREAU_QRT  AMT_REQ_CREDIT_BUREAU_YEAR  \n",
       "0                            0.0                         0.0  \n",
       "1                            0.0                         3.0  \n",
       "2                            1.0                         4.0  \n",
       "3                            0.0                         3.0  \n",
       "4                            0.0                         2.0  \n",
       "...                          ...                         ...  \n",
       "48739                        0.0                         1.0  \n",
       "48740                        0.0                         2.0  \n",
       "48741                        3.0                         1.0  \n",
       "48742                        0.0                         2.0  \n",
       "48743                        1.0                         4.0  \n",
       "\n",
       "[48744 rows x 120 columns]"
      ]
     },
     "execution_count": 94,
     "metadata": {},
     "output_type": "execute_result"
    }
   ],
   "source": [
    "# 欠損値を中央値で置換\n",
    "test_df.fillna(test_df.median(), inplace=True)\n",
    "test_df"
   ]
  },
  {
   "cell_type": "code",
   "execution_count": 100,
   "metadata": {},
   "outputs": [],
   "source": [
    "# XXに代入\n",
    "XX = test_df.values"
   ]
  },
  {
   "cell_type": "code",
   "execution_count": 101,
   "metadata": {},
   "outputs": [],
   "source": [
    "pred = model_gbm.predict(XX)\n",
    "prob = model_gbm.predict_proba(XX)[:,1]"
   ]
  },
  {
   "cell_type": "code",
   "execution_count": 102,
   "metadata": {},
   "outputs": [
    {
     "data": {
      "text/html": [
       "<div>\n",
       "<style scoped>\n",
       "    .dataframe tbody tr th:only-of-type {\n",
       "        vertical-align: middle;\n",
       "    }\n",
       "\n",
       "    .dataframe tbody tr th {\n",
       "        vertical-align: top;\n",
       "    }\n",
       "\n",
       "    .dataframe thead th {\n",
       "        text-align: right;\n",
       "    }\n",
       "</style>\n",
       "<table border=\"1\" class=\"dataframe\">\n",
       "  <thead>\n",
       "    <tr style=\"text-align: right;\">\n",
       "      <th></th>\n",
       "      <th>TARGET</th>\n",
       "    </tr>\n",
       "  </thead>\n",
       "  <tbody>\n",
       "    <tr>\n",
       "      <th>0</th>\n",
       "      <td>0.409499</td>\n",
       "    </tr>\n",
       "    <tr>\n",
       "      <th>1</th>\n",
       "      <td>0.412598</td>\n",
       "    </tr>\n",
       "    <tr>\n",
       "      <th>2</th>\n",
       "      <td>0.178128</td>\n",
       "    </tr>\n",
       "    <tr>\n",
       "      <th>3</th>\n",
       "      <td>0.146395</td>\n",
       "    </tr>\n",
       "    <tr>\n",
       "      <th>4</th>\n",
       "      <td>0.553018</td>\n",
       "    </tr>\n",
       "    <tr>\n",
       "      <th>...</th>\n",
       "      <td>...</td>\n",
       "    </tr>\n",
       "    <tr>\n",
       "      <th>48739</th>\n",
       "      <td>0.265600</td>\n",
       "    </tr>\n",
       "    <tr>\n",
       "      <th>48740</th>\n",
       "      <td>0.401506</td>\n",
       "    </tr>\n",
       "    <tr>\n",
       "      <th>48741</th>\n",
       "      <td>0.154451</td>\n",
       "    </tr>\n",
       "    <tr>\n",
       "      <th>48742</th>\n",
       "      <td>0.402015</td>\n",
       "    </tr>\n",
       "    <tr>\n",
       "      <th>48743</th>\n",
       "      <td>0.724418</td>\n",
       "    </tr>\n",
       "  </tbody>\n",
       "</table>\n",
       "<p>48744 rows × 1 columns</p>\n",
       "</div>"
      ],
      "text/plain": [
       "         TARGET\n",
       "0      0.409499\n",
       "1      0.412598\n",
       "2      0.178128\n",
       "3      0.146395\n",
       "4      0.553018\n",
       "...         ...\n",
       "48739  0.265600\n",
       "48740  0.401506\n",
       "48741  0.154451\n",
       "48742  0.402015\n",
       "48743  0.724418\n",
       "\n",
       "[48744 rows x 1 columns]"
      ]
     },
     "execution_count": 102,
     "metadata": {},
     "output_type": "execute_result"
    }
   ],
   "source": [
    "tmp = pd.DataFrame(prob, columns=[\"TARGET\"])\n",
    "tmp"
   ]
  },
  {
   "cell_type": "code",
   "execution_count": 104,
   "metadata": {},
   "outputs": [
    {
     "data": {
      "text/html": [
       "<div>\n",
       "<style scoped>\n",
       "    .dataframe tbody tr th:only-of-type {\n",
       "        vertical-align: middle;\n",
       "    }\n",
       "\n",
       "    .dataframe tbody tr th {\n",
       "        vertical-align: top;\n",
       "    }\n",
       "\n",
       "    .dataframe thead th {\n",
       "        text-align: right;\n",
       "    }\n",
       "</style>\n",
       "<table border=\"1\" class=\"dataframe\">\n",
       "  <thead>\n",
       "    <tr style=\"text-align: right;\">\n",
       "      <th></th>\n",
       "      <th>SK_ID_CURR</th>\n",
       "      <th>TARGET</th>\n",
       "    </tr>\n",
       "  </thead>\n",
       "  <tbody>\n",
       "    <tr>\n",
       "      <th>0</th>\n",
       "      <td>100001</td>\n",
       "      <td>0.409499</td>\n",
       "    </tr>\n",
       "    <tr>\n",
       "      <th>1</th>\n",
       "      <td>100005</td>\n",
       "      <td>0.412598</td>\n",
       "    </tr>\n",
       "    <tr>\n",
       "      <th>2</th>\n",
       "      <td>100013</td>\n",
       "      <td>0.178128</td>\n",
       "    </tr>\n",
       "    <tr>\n",
       "      <th>3</th>\n",
       "      <td>100028</td>\n",
       "      <td>0.146395</td>\n",
       "    </tr>\n",
       "    <tr>\n",
       "      <th>4</th>\n",
       "      <td>100038</td>\n",
       "      <td>0.553018</td>\n",
       "    </tr>\n",
       "    <tr>\n",
       "      <th>...</th>\n",
       "      <td>...</td>\n",
       "      <td>...</td>\n",
       "    </tr>\n",
       "    <tr>\n",
       "      <th>48739</th>\n",
       "      <td>456221</td>\n",
       "      <td>0.265600</td>\n",
       "    </tr>\n",
       "    <tr>\n",
       "      <th>48740</th>\n",
       "      <td>456222</td>\n",
       "      <td>0.401506</td>\n",
       "    </tr>\n",
       "    <tr>\n",
       "      <th>48741</th>\n",
       "      <td>456223</td>\n",
       "      <td>0.154451</td>\n",
       "    </tr>\n",
       "    <tr>\n",
       "      <th>48742</th>\n",
       "      <td>456224</td>\n",
       "      <td>0.402015</td>\n",
       "    </tr>\n",
       "    <tr>\n",
       "      <th>48743</th>\n",
       "      <td>456250</td>\n",
       "      <td>0.724418</td>\n",
       "    </tr>\n",
       "  </tbody>\n",
       "</table>\n",
       "<p>48744 rows × 2 columns</p>\n",
       "</div>"
      ],
      "text/plain": [
       "       SK_ID_CURR    TARGET\n",
       "0          100001  0.409499\n",
       "1          100005  0.412598\n",
       "2          100013  0.178128\n",
       "3          100028  0.146395\n",
       "4          100038  0.553018\n",
       "...           ...       ...\n",
       "48739      456221  0.265600\n",
       "48740      456222  0.401506\n",
       "48741      456223  0.154451\n",
       "48742      456224  0.402015\n",
       "48743      456250  0.724418\n",
       "\n",
       "[48744 rows x 2 columns]"
      ]
     },
     "execution_count": 104,
     "metadata": {},
     "output_type": "execute_result"
    }
   ],
   "source": [
    "submit = pd.concat([test_data['SK_ID_CURR'], tmp[\"TARGET\"]], axis=1)\n",
    "submit"
   ]
  },
  {
   "cell_type": "code",
   "execution_count": 105,
   "metadata": {},
   "outputs": [],
   "source": [
    "# kaggle用にCSV出力\n",
    "submit.to_csv('kaggle_submit_003.csv', index=False)"
   ]
  },
  {
   "cell_type": "code",
   "execution_count": 108,
   "metadata": {},
   "outputs": [
    {
     "data": {
      "text/plain": [
       "<matplotlib.image.AxesImage at 0x7fb5d470fa10>"
      ]
     },
     "execution_count": 108,
     "metadata": {},
     "output_type": "execute_result"
    },
    {
     "data": {
      "image/png": "[encoded data removed]",
      "text/plain": [
       "<Figure size 432x288 with 1 Axes>"
      ]
     },
     "metadata": {
      "needs_background": "light"
     },
     "output_type": "display_data"
    }
   ],
   "source": [
    "# 提出結果\n",
    "%matplotlib inline\n",
    " \n",
    "import matplotlib.image as mpimg\n",
    "plt.imshow(mpimg.imread(\"submit003.png\"))"
   ]
  },
  {
   "cell_type": "markdown",
   "metadata": {},
   "source": [
    "score : 0.70291だった。"
   ]
  },
  {
   "cell_type": "markdown",
   "metadata": {},
   "source": [
    "パラメータの調整のみでの結果なので、特徴量エンジニアリングをちゃんとやればもっと伸びそう。"
   ]
  },
  {
   "cell_type": "code",
   "execution_count": null,
   "metadata": {},
   "outputs": [],
   "source": []
  }
 ],
 "metadata": {
  "kernelspec": {
   "display_name": "Python 3",
   "language": "python",
   "name": "python3"
  },
  "language_info": {
   "codemirror_mode": {
    "name": "ipython",
    "version": 3
   },
   "file_extension": ".py",
   "mimetype": "text/x-python",
   "name": "python",
   "nbconvert_exporter": "python",
   "pygments_lexer": "ipython3",
   "version": "3.7.4"
  },
  "toc": {
   "base_numbering": 1,
   "nav_menu": {},
   "number_sections": true,
   "sideBar": true,
   "skip_h1_title": false,
   "title_cell": "Table of Contents",
   "title_sidebar": "Contents",
   "toc_cell": false,
   "toc_position": {},
   "toc_section_display": true,
   "toc_window_display": false
  }
 },
 "nbformat": 4,
 "nbformat_minor": 2
}
