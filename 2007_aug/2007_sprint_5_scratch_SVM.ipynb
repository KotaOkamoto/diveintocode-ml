{
 "cells": [
  {
   "cell_type": "code",
   "execution_count": 1,
   "metadata": {},
   "outputs": [],
   "source": [
    "# インポート\n",
    "import numpy as np\n",
    "import pandas as pd\n",
    "import matplotlib.pyplot as plt\n",
    "import seaborn as sns\n",
    "from sklearn import metrics\n",
    "from sklearn.preprocessing import StandardScaler\n",
    "import scipy.sparse as sp\n",
    "import statsmodels.api as sm\n",
    "from decimal import Decimal, ROUND_HALF_UP\n",
    "from sklearn.metrics import mean_squared_error\n",
    "%matplotlib inline\n",
    "\n",
    "from sklearn.model_selection import train_test_split\n",
    "from sklearn.svm import SVC\n",
    "from mlxtend.plotting import plot_decision_regions\n",
    "from matplotlib.colors import ListedColormap\n",
    "\n",
    "from sklearn.metrics import accuracy_score\n",
    "from sklearn.metrics import precision_score\n",
    "from sklearn.metrics import recall_score\n",
    "from sklearn.metrics import f1_score\n",
    "from sklearn.metrics import confusion_matrix"
   ]
  },
  {
   "cell_type": "code",
   "execution_count": 335,
   "metadata": {},
   "outputs": [],
   "source": [
    "# シンプルデータセット1作成コード\n",
    "\n",
    "np.random.seed(seed=0)\n",
    "n_samples = 500\n",
    "f0 = [-1, 2]\n",
    "f1 = [2, -1]\n",
    "cov = [[1.0,0.8], [0.8, 1.0]]\n",
    "f0 = np.random.multivariate_normal(f0, cov, int(n_samples/2))\n",
    "f1 = np.random.multivariate_normal(f1, cov, int(n_samples/2))\n",
    "X = np.concatenate((f0, f1))\n",
    "y = np.concatenate((np.ones((int(n_samples/2))), np.ones((int(n_samples/2))) *(-1))).astype(np.int)\n",
    "random_index = np.random.permutation(np.arange(n_samples))\n",
    "X = X[random_index]\n",
    "y = y[random_index]\n"
   ]
  },
  {
   "cell_type": "code",
   "execution_count": 336,
   "metadata": {},
   "outputs": [],
   "source": [
    "X_train, X_test, y_train, y_test = train_test_split( X, y, train_size=0.7, random_state=50)\n",
    "#print(X_train, X_test, y_train, y_test)"
   ]
  },
  {
   "cell_type": "markdown",
   "metadata": {},
   "source": [
    "# SVMスクラッチ\n",
    "\n",
    "分類のためのサポートベクターマシン（SVM、サポートベクトルマシン）のクラスをスクラッチで作成していきます。NumPyなど最低限のライブラリのみを使いアルゴリズムを実装していきます。\n",
    "\n",
    "\n",
    "SVMには学習時に分類の間違いを認めるソフトマージンSVMと、認めないハードマージンSVMがありますが、ここでは実装が単純なハードマージンSVMを扱います。\n",
    "\n",
    "\n",
    "以下に雛形を用意してあります。このScratchSVMClassifierクラスにコードを書き加えていってください。\n",
    "\n"
   ]
  },
  {
   "cell_type": "code",
   "execution_count": 301,
   "metadata": {},
   "outputs": [],
   "source": [
    "# 雛形\n",
    "class ScratchSVMClassifier():\n",
    "    \"\"\"\n",
    "    SVM分類器のスクラッチ実装\n",
    "\n",
    "    Parameters\n",
    "    ----------\n",
    "    num_iter : int\n",
    "      イテレーション数\n",
    "    lr : float\n",
    "      学習率\n",
    "    kernel : str\n",
    "      カーネルの種類。線形カーネル（linear）か多項式カーネル（polly）\n",
    "    threshold : float\n",
    "      サポートベクターを選ぶための閾値\n",
    "    verbose : bool\n",
    "      学習過程を出力する場合はTrue\n",
    "\n",
    "    Attributes\n",
    "    ----------\n",
    "    self.n_support_vectors : int\n",
    "      サポートベクターの数\n",
    "    self.index_support_vectors : 次の形のndarray, shape (n_support_vectors,)\n",
    "      サポートベクターのインデックス\n",
    "    self.X_sv :  次の形のndarray, shape(n_support_vectors, n_features)\n",
    "      サポートベクターの特徴量\n",
    "    self.lam_sv :  次の形のndarray, shape(n_support_vectors, 1)\n",
    "      サポートベクターの未定乗数\n",
    "    self.y_sv :  次の形のndarray, shape(n_support_vectors, 1)\n",
    "      サポートベクターのラベル\n",
    "    self.loss : 次の形のndarray, shape (self.iter,)\n",
    "      訓練データに対する損失の記録\n",
    "    self.val_loss : 次の形のndarray, shape (self.iter,)\n",
    "      検証データに対する損失の記録\n",
    "\n",
    "    \"\"\"\n",
    "    def __init__(self, num_iter=50, lr=1e-5, kernel='linear', threshold=1e-5, verbose=False, gamma = 0.3):\n",
    "        # ハイパーパラメータを属性として記録\n",
    "        self.iter = num_iter\n",
    "        self.lr = lr\n",
    "        self.kernel = kernel\n",
    "        self.threshold = threshold\n",
    "        self.verbose = verbose\n",
    "        self.gamma = gamma\n",
    "        \n",
    "    def fit(self, X, y, X_val=None, y_val=None):\n",
    "        \"\"\"\n",
    "        SVM分類器を学習する。検証データが入力された場合はそれに対する精度もイテレーションごとに計算する。\n",
    "\n",
    "        Parameters\n",
    "        ----------\n",
    "        X : 次の形のndarray, shape (n_samples, n_features)\n",
    "            訓練データの特徴量\n",
    "        y : 次の形のndarray, shape (n_samples, )\n",
    "            訓練データの正解値\n",
    "        X_val : 次の形のndarray, shape (n_samples, n_features)\n",
    "            検証データの特徴量\n",
    "        y_val : 次の形のndarray, shape (n_samples, )\n",
    "            検証データの正解値\n",
    "        \"\"\"\n",
    "        # ラムダをランダムで生成\n",
    "        np.random.seed(seed=0)\n",
    "        self._lambda = np.random.rand(len(X), 1)\n",
    "        for i in range(self.iter):\n",
    "            self._lagrange_multiplier_for(X, y)\n",
    "            # 検証データが変数に入れられていた場合、そっちも計算\n",
    "            if (X_val is not None) and (y_val is not None):\n",
    "                self.val_lambda = self._lagrange_multiplier_dot(X_val, y_val)\n",
    "                if self.verbose == True:\n",
    "                    print(\"iter : {} [val_lambda[0] : {}]\".format(i, self.val_lambda[0]))\n",
    "        \n",
    "                \n",
    "            # 学習過程の出力可否\n",
    "            if self.verbose == True:\n",
    "                print(\"iter : {} [train_lambda[0] : {}]\".format(i, self._lambda[0]))        \n",
    "                \n",
    "        self.index_support_vectors = np.where(self._lambda > self.threshold)[0] # lambdaの中からthreshold以上のインデックスを取得\n",
    "        self._identification_support_vector(self.index_support_vectors)\n",
    "        #print(\"サポートベクターの数 : {}\".format(len(self.index_support_vectors)))\n",
    "\n",
    "    \n",
    "    \n",
    "    # カーネルトリック\n",
    "    def _kernel_choice(self, Xi, Xj):\n",
    "        if self.kernel == \"linear\": # 線形カーネルの場合\n",
    "            K = np.dot(Xi, Xj.T)\n",
    "            return K\n",
    "        \n",
    "        elif self.kernel == \"poly\": # 多項式カーネルの場合\n",
    "            d = 3\n",
    "            r = 0.8\n",
    "            K = (self.gamma*(np.dot(Xi, Xj.T) + r))**d\n",
    "            return K\n",
    "        \n",
    "        elif self.kernel == \"gaussian\": # ガウシアンカーネルの場合\n",
    "            pass\n",
    "        \n",
    "        else:\n",
    "            print(\"cannot found\", self.kernel)\n",
    "        \n",
    "    \n",
    "    # ラグランジュの未定乗数法でラムダを更新・出力する関数(for.ver)\n",
    "    def _lagrange_multiplier_for(self, X, y):\n",
    "        for i in range(X.shape[0]):\n",
    "            par_diff = 0 #偏微分を初期化\n",
    "            for j in range(X.shape[0]):\n",
    "                par_diff += (self._lambda[j] * y[i] * y[j] * self._kernel_choice(X[i], X[j])) # 偏微分を計算\n",
    "            self._lambda[i] += (self.lr * (1- par_diff))[0] # 学習率を掛けて加算\n",
    "            \n",
    "            if self._lambda[i] < 0: # ゼロ以下ならゼロにする\n",
    "                self._lambda[i] = 0\n",
    "    \n",
    "    \n",
    "    # ラグランジュの未定乗数法でラムダを更新・出力する関数(dot.ver)\n",
    "    def _lagrange_multiplier_dot(self, X, y):\n",
    "        if y.shape == y.size:\n",
    "            y = y.reshape(-1, 1)\n",
    "        self._lambda += lr * (1 - np.dot(out_lambda_dot.T, (np.dot(y, y.T) * self._kernel_choice(X, X)))).T\n",
    "        self._lambda = np.where(self._lambda < 0, 0)\n",
    "\n",
    "    \n",
    "    # サポートベクターを識別する関数\n",
    "    def _identification_support_vector(self, isv):\n",
    "        self.lam_sv = self._lambda[isv] # threshold以上のやつだけ抽出\n",
    "        self.n_support_vectors = len(isv) # サポートベクターの数\n",
    "        self.X_sv = X[isv] # サポートベクターの特徴量\n",
    "        self.y_sv = y[isv] # サポートベクターのラベル\n",
    "        \n",
    "\n",
    "    # yを推測する関数\n",
    "    def predict(self, X):\n",
    "        \"\"\"\n",
    "        SVM分類器を使いラベルを推定する。\n",
    "\n",
    "        Parameters\n",
    "        ----------\n",
    "        X : 次の形のndarray, shape (n_samples, n_features)\n",
    "            サンプル\n",
    "\n",
    "        Returns\n",
    "        -------\n",
    "            次の形のndarray, shape (n_samples, 1)\n",
    "            SVM分類器による推定結果\n",
    "        \"\"\"\n",
    "        fx = np.dot(self.lam_sv.T, (self.y_sv.reshape(-1, 1) * self._kernel_choice(X, self.X_sv).T))\n",
    "        pred = np.sign(fx[0]) # 符号だけ取り出し\n",
    "        pred = pred.astype(np.int) # intに変換\n",
    "        \n",
    "        return pred\n",
    "\n",
    "        \n",
    "    # デバッグなど、データ眺めるための表示関数\n",
    "    def print_function(self, X):\n",
    "        print(\"サポートベクターの数 : {}\".format(self.n_support_vectors))\n",
    "        #print(\"サポートベクターのlambda : {}\".format(self.lam_sv))\n",
    "        #print(\"サポートベクターの特徴量 : {}\".format(self.X_sv))\n",
    "        #print(\"サポートベクターのラベル : {}\".format(self.y_sv))\n",
    "        #tmp1 = np.dot(X, self.X_sv.T)\n",
    "        #print(\"カーネル関数 : {}\".format(tmp1))\n",
    "        #tmp2 = self.y_sv.reshape(-1, 1) * tmp1.T\n",
    "        #print(\"yの転置とカーネル関数のアダマール : {}\".format(tmp2))\n",
    "        #tmp3 = np.dot(self.lam_sv.T, tmp2)\n",
    "        #print(tmp3)\n",
    "        print(self.index_support_vectors)\n",
    "        print(self.X_sv)\n",
    "        print(np.where(self._lambda > self.threshold)[0])\n",
    "        print(X[self.index_support_vectors])"
   ]
  },
  {
   "cell_type": "code",
   "execution_count": null,
   "metadata": {},
   "outputs": [],
   "source": []
  },
  {
   "cell_type": "markdown",
   "metadata": {},
   "source": [
    "# 【問題1】ラグランジュの未定乗数法による最急降下\n",
    "SVMの学習は、ラグランジュの未定乗数法を用います。サンプル数分のラグランジュ乗数 \n",
    "$λ$ を用意して、以下の式により更新していきます。この計算を行うメソッドをScratchSVMClassifierクラスに実装してください。\n",
    "\n",
    "$$\n",
    "λ^{new}_i =λ_i + α(1−\\sum_{j=1}^n λ_jy_iy_jk(x_i,x_j))\n",
    "$$\n",
    "\n",
    "ここで \n",
    "$$\n",
    "k(x_i,x_j)\n",
    "$$ \n",
    " はカーネル関数です。線形カーネルの場合は次のようになります。他のカーネル関数にも対応できるように、この部分は独立したメソッドとしておきましょう。\n",
    "\n",
    "$$\n",
    "k(x_i,x_j)=x_i^Tx_j\n",
    "$$\n",
    "\n",
    "条件として、更新毎に $λ_i>=0$を満たす必要があります。満たさない場合は $λ_i=0$とします。\n",
    "\n",
    "$i,j$ : サンプルのインデックス\n",
    "\n",
    "$λ^{new}_i$: 更新後のi番目のサンプルのラグランジュ乗数\n",
    "\n",
    "$λ_i$: 更新前のi番目のサンプルのラグランジュ乗数\n",
    "\n",
    "$α$ : 学習率\n",
    "\n",
    "$λ_j$ : j番目のサンプルのラグランジュ乗数\n",
    "\n",
    "$y_i$ : i番目のサンプルのラベル\n",
    "\n",
    "$y_j$ : j番目のサンプルのラベル\n",
    "\n",
    "$x_i$ : i番目のサンプルの特徴量ベクトル\n",
    "\n",
    "$x_j$ : j番目のサンプルの特徴量ベクトル\n",
    "\n",
    "\n",
    "あるサンプルに対しての全てのサンプルとの関係を計算していくことになります。\n",
    "\n"
   ]
  },
  {
   "cell_type": "markdown",
   "metadata": {},
   "source": [
    "### <span style=\"color:#CC0000\">カーネルトリックとラグランジュの未定乗数法でラムダを更新・出力する関数を実装</span>\n",
    "\n",
    "```\n",
    "def _kernel_choice(self, Xi, Xj):\n",
    "def _lagrange_multiplier(self, X, y):\n",
    "```"
   ]
  },
  {
   "cell_type": "markdown",
   "metadata": {},
   "source": [
    "# 【問題2】サポートベクターの決定\n",
    "計算したラグランジュ乗数 λが設定した閾値より大きいサンプルをサポートベクターとして扱います。推定時にサポートベクターが必要になります。サポートベクターを決定し、インスタンス変数として保持しておくコードを書いてください。\n",
    "\n",
    "\n",
    "閾値はハイパーパラメータですが、1e-5程度からはじめると良いでしょう。サポートベクターの数を出力させられるようにしておくと学習がうまく行えているかを確認できます。\n",
    "\n"
   ]
  },
  {
   "cell_type": "markdown",
   "metadata": {},
   "source": [
    "### <span style=\"color:#CC0000\">サポートベクターを決定するための関数を実装</span>\n",
    "```\n",
    "def _identification_support_vector(self, isv):\n",
    "```"
   ]
  },
  {
   "cell_type": "markdown",
   "metadata": {},
   "source": [
    "# 【問題3】推定\n",
    "推定時には、推定したいデータの特徴量とサポートベクターの特徴量をカーネル関数によって計算します。求めた \n",
    "$f(x)$ の符号が分類結果です。\n",
    "\n",
    "$$\n",
    "f(x)=\\sum_{n=1}^N λ_ny_{sv_n}k(x,s_n)\n",
    "$$\n",
    "\n",
    "$x$ : 推定したいデータの特徴量ベクトル\n",
    "\n",
    "$N$ : サポートベクターの数\n",
    "\n",
    "$n$ : サポートベクターのインデックス\n",
    "\n",
    "\n",
    "$λ_n$ :n番目のサポートベクターのラグランジュ乗数\n",
    "\n",
    "$y_{sv_n}$ : n番目のサポートベクターのラベル\n",
    "\n",
    "$k()$ : カーネル関数\n",
    "\n",
    "$s_n$ : n番目のサポートベクターの特徴量"
   ]
  },
  {
   "cell_type": "markdown",
   "metadata": {},
   "source": [
    "### <span style=\"color:#CC0000\">predictを実装</span>\n",
    "```\n",
    "def predict(self, X):\n",
    "```"
   ]
  },
  {
   "cell_type": "markdown",
   "metadata": {},
   "source": [
    "# 【問題4】学習と推定\n",
    "機械学習スクラッチ入門のSprintで用意したシンプルデータセット1の2値分類に対してスクラッチ実装の学習と推定を行なってください。\n",
    "\n",
    "\n",
    "scikit-learnによる実装と比べ、正しく動いているかを確認してください。\n",
    "\n",
    "\n",
    "AccuracyやPrecision、Recallなどの指標値はscikit-learnを使用してください。"
   ]
  },
  {
   "cell_type": "markdown",
   "metadata": {},
   "source": [
    "### <span style=\"color:#CC0000\">predictで推定する</span>"
   ]
  },
  {
   "cell_type": "code",
   "execution_count": 236,
   "metadata": {},
   "outputs": [],
   "source": [
    "# スクラッチクラスのインスタンスを作成\n",
    "tmp = ScratchSVMClassifier(num_iter=50, lr=1e-2, kernel='linear', threshold=1e-3, verbose=False)"
   ]
  },
  {
   "cell_type": "code",
   "execution_count": 237,
   "metadata": {},
   "outputs": [
    {
     "name": "stdout",
     "output_type": "stream",
     "text": [
      "1min 20s ± 0 ns per loop (mean ± std. dev. of 1 run, 1 loop each)\n"
     ]
    }
   ],
   "source": [
    "%%timeit -r 1 -n 1\n",
    "#学習\n",
    "tmp.fit(X_train,y_train)"
   ]
  },
  {
   "cell_type": "code",
   "execution_count": 238,
   "metadata": {},
   "outputs": [
    {
     "data": {
      "text/plain": [
       "array([ 1,  1, -1, -1, -1,  1,  1,  1, -1, -1, -1,  1, -1,  1,  1,  1,  1,\n",
       "        1, -1,  1,  1,  1, -1, -1,  1, -1,  1, -1, -1, -1, -1, -1, -1, -1,\n",
       "       -1, -1,  1,  1,  1,  1,  1, -1,  1, -1,  1,  1,  1,  1,  1, -1, -1,\n",
       "       -1,  1, -1,  1,  1,  1, -1,  1, -1,  1,  1, -1,  1, -1, -1,  1, -1,\n",
       "        1,  1,  1,  1, -1,  1, -1, -1, -1, -1,  1, -1, -1,  1,  1,  1, -1,\n",
       "       -1,  1, -1, -1, -1,  1, -1, -1,  1, -1, -1,  1,  1,  1,  1,  1, -1,\n",
       "        1,  1,  1, -1, -1, -1,  1, -1,  1, -1, -1, -1,  1, -1,  1, -1, -1,\n",
       "        1, -1, -1,  1, -1,  1,  1,  1, -1,  1, -1, -1,  1,  1,  1,  1, -1,\n",
       "        1,  1, -1,  1,  1,  1,  1,  1, -1, -1, -1, -1,  1,  1])"
      ]
     },
     "execution_count": 238,
     "metadata": {},
     "output_type": "execute_result"
    }
   ],
   "source": [
    "# 推測\n",
    "scratch_pred = tmp.predict(X_test)\n",
    "scratch_pred"
   ]
  },
  {
   "cell_type": "code",
   "execution_count": 239,
   "metadata": {},
   "outputs": [
    {
     "name": "stdout",
     "output_type": "stream",
     "text": [
      "サポートベクターの数 : 12\n",
      "[ 28  32  51  66 108 124 172 206 217 241 326 333]\n",
      "[[-0.99950867  2.50800932]\n",
      " [-1.50642737  2.11125339]\n",
      " [ 0.27578332  3.55367903]\n",
      " [ 2.57058557 -0.31821676]\n",
      " [-1.02691331  1.43290911]\n",
      " [ 0.52318607  3.80838207]\n",
      " [ 3.52040615  0.14722093]\n",
      " [-0.5017044   3.72754957]\n",
      " [ 2.10579726 -1.53724472]\n",
      " [ 0.31304912 -2.82240177]\n",
      " [ 0.67098941 -0.58384118]\n",
      " [ 2.00639182 -0.32030542]]\n",
      "[ 28  32  51  66 108 124 172 206 217 241 326 333]\n",
      "[[ 2.42340322  0.48692572]\n",
      " [ 0.31369184  1.90748822]\n",
      " [-0.97854994  0.34188908]\n",
      " [-1.76320579 -0.07237927]\n",
      " [ 1.28107479 -0.21320964]\n",
      " [ 0.67098941 -0.58384118]\n",
      " [ 1.10298263 -0.54852515]\n",
      " [ 0.9829958  -0.6091934 ]\n",
      " [ 0.14096048  1.74864676]\n",
      " [ 2.23162545  0.38441708]\n",
      " [-0.15353118  1.82412078]\n",
      " [-0.51274884  1.43945252]]\n"
     ]
    }
   ],
   "source": [
    "tmp.print_function(X_train)"
   ]
  },
  {
   "cell_type": "markdown",
   "metadata": {},
   "source": [
    "### <span style=\"color:#CC0000\">scikit-learnでも推定する</span>"
   ]
  },
  {
   "cell_type": "code",
   "execution_count": 240,
   "metadata": {},
   "outputs": [],
   "source": [
    "# scikit-learnのインスタンス作成 \n",
    "clf = SVC(kernel='linear', random_state=None)"
   ]
  },
  {
   "cell_type": "code",
   "execution_count": 241,
   "metadata": {},
   "outputs": [
    {
     "data": {
      "text/plain": [
       "SVC(kernel='linear')"
      ]
     },
     "execution_count": 241,
     "metadata": {},
     "output_type": "execute_result"
    }
   ],
   "source": [
    "clf.fit(X_train,y_train)"
   ]
  },
  {
   "cell_type": "code",
   "execution_count": 242,
   "metadata": {},
   "outputs": [
    {
     "data": {
      "text/plain": [
       "array([ 1,  1, -1, -1, -1,  1,  1,  1, -1, -1, -1,  1, -1,  1,  1,  1,  1,\n",
       "        1, -1,  1,  1,  1, -1, -1,  1, -1,  1, -1, -1, -1, -1, -1, -1, -1,\n",
       "       -1, -1,  1,  1,  1,  1,  1, -1,  1, -1,  1,  1,  1,  1,  1, -1, -1,\n",
       "       -1,  1, -1,  1,  1,  1, -1,  1, -1,  1,  1, -1,  1, -1, -1,  1, -1,\n",
       "        1,  1,  1,  1, -1,  1, -1, -1, -1, -1,  1, -1, -1,  1,  1,  1, -1,\n",
       "       -1,  1, -1, -1, -1,  1, -1, -1,  1, -1, -1,  1,  1,  1,  1,  1, -1,\n",
       "        1,  1,  1, -1, -1, -1,  1, -1,  1, -1, -1, -1,  1, -1,  1, -1, -1,\n",
       "        1, -1, -1,  1, -1,  1,  1,  1, -1,  1, -1, -1,  1,  1,  1,  1, -1,\n",
       "        1,  1, -1,  1,  1,  1,  1,  1, -1, -1, -1, -1,  1,  1])"
      ]
     },
     "execution_count": 242,
     "metadata": {},
     "output_type": "execute_result"
    }
   ],
   "source": [
    "pred_clf = clf.predict(X_test)\n",
    "pred_clf"
   ]
  },
  {
   "cell_type": "code",
   "execution_count": 243,
   "metadata": {},
   "outputs": [
    {
     "data": {
      "text/plain": [
       "array([[ 0.67098941, -0.58384118],\n",
       "       [ 0.31369184,  1.90748822],\n",
       "       [-0.97854994,  0.34188908]])"
      ]
     },
     "execution_count": 243,
     "metadata": {},
     "output_type": "execute_result"
    }
   ],
   "source": [
    "clf.support_vectors_"
   ]
  },
  {
   "cell_type": "code",
   "execution_count": 244,
   "metadata": {},
   "outputs": [
    {
     "name": "stdout",
     "output_type": "stream",
     "text": [
      "スクラッチとsklearnで予測が違う行の数 : 0\n"
     ]
    }
   ],
   "source": [
    "# スクラッチとsklearnの結果の比較\n",
    "comp = scratch_pred - pred_clf\n",
    "comp = np.where(comp==0, \"OK\", \"NG\")\n",
    "result = pd.DataFrame(data = [scratch_pred, pred_clf, comp], index=[\"scratch\", \"sklearn\", \"accuracy\"]).T\n",
    "check = result[\"accuracy\"] == \"NG\"\n",
    "print(\"スクラッチとsklearnで予測が違う行の数 : {}\".format(check.sum()))"
   ]
  },
  {
   "cell_type": "code",
   "execution_count": 245,
   "metadata": {},
   "outputs": [],
   "source": [
    "# 正解率とか出す関数\n",
    "def index_out(y, pred, label,outlist={}):\n",
    "    cm = confusion_matrix(y, pred)\n",
    "    ac = metrics.accuracy_score(y, pred)\n",
    "    pr = metrics.precision_score(y, pred)\n",
    "    rc = metrics.recall_score(y, pred)\n",
    "    f1 = metrics.f1_score(y, pred)\n",
    "\n",
    "    print('confusion matrix =', cm)\n",
    "    print('accuracy = ', ac)\n",
    "    print('precision = ', pr)\n",
    "    print('recall = ', rc)\n",
    "    print('f1 score = ', f1)\n",
    "\n",
    "    outlist[label] = [cm, ac, pr, rc, f1]\n",
    "    return outlist"
   ]
  },
  {
   "cell_type": "code",
   "execution_count": 246,
   "metadata": {},
   "outputs": [
    {
     "name": "stdout",
     "output_type": "stream",
     "text": [
      "confusion matrix = [[71  0]\n",
      " [ 0 79]]\n",
      "accuracy =  1.0\n",
      "precision =  1.0\n",
      "recall =  1.0\n",
      "f1 score =  1.0\n"
     ]
    },
    {
     "data": {
      "text/plain": [
       "{'scratch': [array([[71,  0],\n",
       "         [ 0, 79]]),\n",
       "  1.0,\n",
       "  1.0,\n",
       "  1.0,\n",
       "  1.0]}"
      ]
     },
     "execution_count": 246,
     "metadata": {},
     "output_type": "execute_result"
    }
   ],
   "source": [
    "outlist = {}\n",
    "index_out(y_test,scratch_pred,\"scratch\")\n"
   ]
  },
  {
   "cell_type": "code",
   "execution_count": 247,
   "metadata": {},
   "outputs": [
    {
     "name": "stdout",
     "output_type": "stream",
     "text": [
      "confusion matrix = [[71  0]\n",
      " [ 0 79]]\n",
      "accuracy =  1.0\n",
      "precision =  1.0\n",
      "recall =  1.0\n",
      "f1 score =  1.0\n"
     ]
    }
   ],
   "source": [
    "outlist = index_out(y_test,pred_clf,\"sklearn\")"
   ]
  },
  {
   "cell_type": "markdown",
   "metadata": {},
   "source": [
    "### <span style=\"color:#CC0000\">比較してみる</span>"
   ]
  },
  {
   "cell_type": "code",
   "execution_count": 248,
   "metadata": {},
   "outputs": [
    {
     "data": {
      "text/html": [
       "<div>\n",
       "<style scoped>\n",
       "    .dataframe tbody tr th:only-of-type {\n",
       "        vertical-align: middle;\n",
       "    }\n",
       "\n",
       "    .dataframe tbody tr th {\n",
       "        vertical-align: top;\n",
       "    }\n",
       "\n",
       "    .dataframe thead th {\n",
       "        text-align: right;\n",
       "    }\n",
       "</style>\n",
       "<table border=\"1\" class=\"dataframe\">\n",
       "  <thead>\n",
       "    <tr style=\"text-align: right;\">\n",
       "      <th></th>\n",
       "      <th>scratch</th>\n",
       "      <th>sklearn</th>\n",
       "    </tr>\n",
       "  </thead>\n",
       "  <tbody>\n",
       "    <tr>\n",
       "      <th>confusion matrix</th>\n",
       "      <td>[[71, 0], [0, 79]]</td>\n",
       "      <td>[[71, 0], [0, 79]]</td>\n",
       "    </tr>\n",
       "    <tr>\n",
       "      <th>accuracy</th>\n",
       "      <td>1</td>\n",
       "      <td>1</td>\n",
       "    </tr>\n",
       "    <tr>\n",
       "      <th>precision</th>\n",
       "      <td>1</td>\n",
       "      <td>1</td>\n",
       "    </tr>\n",
       "    <tr>\n",
       "      <th>recall</th>\n",
       "      <td>1</td>\n",
       "      <td>1</td>\n",
       "    </tr>\n",
       "    <tr>\n",
       "      <th>f1 score</th>\n",
       "      <td>1</td>\n",
       "      <td>1</td>\n",
       "    </tr>\n",
       "  </tbody>\n",
       "</table>\n",
       "</div>"
      ],
      "text/plain": [
       "                             scratch             sklearn\n",
       "confusion matrix  [[71, 0], [0, 79]]  [[71, 0], [0, 79]]\n",
       "accuracy                           1                   1\n",
       "precision                          1                   1\n",
       "recall                             1                   1\n",
       "f1 score                           1                   1"
      ]
     },
     "execution_count": 248,
     "metadata": {},
     "output_type": "execute_result"
    }
   ],
   "source": [
    "pd.DataFrame(outlist, index= ['confusion matrix','accuracy','precision','recall','f1 score'])"
   ]
  },
  {
   "cell_type": "markdown",
   "metadata": {},
   "source": [
    "どちらも完璧に推測できている。"
   ]
  },
  {
   "cell_type": "markdown",
   "metadata": {},
   "source": [
    "# 【問題5】決定領域の可視化\n",
    "決定領域を可視化してください。\n",
    "\n",
    "\n",
    "以下の例のようにサポートベクターは異なる色で示してください。\n",
    "\n"
   ]
  },
  {
   "cell_type": "code",
   "execution_count": 260,
   "metadata": {},
   "outputs": [],
   "source": [
    "# 可視化関数\n",
    "import matplotlib.pyplot as plt\n",
    "from matplotlib.colors import ListedColormap\n",
    "import matplotlib.patches as mpatches\n",
    "def decision_region(X, y, model, scratch_flg='OFF', step=0.01, title='decision region on 3-nn', xlabel='xlabel', ylabel='ylabel', target_names=['-1', '1']):\n",
    "    \"\"\"\n",
    "    2値分類を2次元の特徴量で学習したモデルの決定領域を描く。\n",
    "    背景の色が学習したモデルによる推定値から描画される。\n",
    "    散布図の点は訓練データまたは検証データである。\n",
    "\n",
    "    Parameters\n",
    "    ----------------\n",
    "    X : ndarray, shape(n_samples, 2)\n",
    "        特徴量\n",
    "    y : ndarray, shape(n_samples,)\n",
    "        ラベル\n",
    "    model : object\n",
    "        学習したモデルのインスタンスを入れる\n",
    "    step : float, (default : 0.1)\n",
    "        推定値を計算する間隔を設定する\n",
    "    title : str\n",
    "        グラフのタイトルの文章を与える\n",
    "    xlabel, ylabel : str\n",
    "        軸ラベルの文章を与える\n",
    "    target_names= : list of str\n",
    "        凡例の一覧を与える\n",
    "    \"\"\"\n",
    "    # setting\n",
    "    scatter_color = ['red', 'blue']\n",
    "    contourf_color = ['pink', 'skyblue']\n",
    "    n_class = 2\n",
    "    # pred\n",
    "    mesh_f0, mesh_f1  = np.meshgrid(np.arange(np.min(X[:,0])-0.5, np.max(X[:,0])+0.5, step), np.arange(np.min(X[:,1])-0.5, np.max(X[:,1])+0.5, step))\n",
    "    mesh = np.c_[np.ravel(mesh_f0),np.ravel(mesh_f1)]\n",
    "    y_pred = model.predict(mesh).reshape(mesh_f0.shape)\n",
    "    # plot\n",
    "    plt.title(title)\n",
    "    plt.xlabel(xlabel)\n",
    "    plt.ylabel(ylabel)\n",
    "    plt.contourf(mesh_f0, mesh_f1, y_pred, n_class-1, cmap=ListedColormap(contourf_color))\n",
    "    plt.contour(mesh_f0, mesh_f1, y_pred, n_class-1, colors='y', linewidths=3, alpha=0.5)\n",
    "    for i, target in enumerate(set(y)):\n",
    "        plt.scatter(X[y==target][:, 0], X[y==target][:, 1], s=80, color=scatter_color[i], label=target_names[i], marker='o')\n",
    "    if scratch_flg == \"ON\":\n",
    "        index_num = model.index_support_vectors\n",
    "        XX = X[index_num]\n",
    "        plt.scatter(XX[:,0], XX[:,1], s=50, c='y', marker='o')\n",
    "        \n",
    "        #plt.scatter(model.X_sv[:,0], model.X_sv[:,1], s=50, c='y', marker='o')\n",
    "        \n",
    "    else:\n",
    "        plt.scatter(model.support_vectors_[:,0], model.support_vectors_[:,1], s=50, c='y', marker='o')\n",
    "    patches = [mpatches.Patch(color=scatter_color[i], label=target_names[i]) for i in range(n_class)]\n",
    "    plt.legend(handles=patches)\n",
    "    plt.legend()\n",
    "    plt.show()"
   ]
  },
  {
   "cell_type": "markdown",
   "metadata": {},
   "source": [
    "### <span style=\"color:#CC0000\">可視化関数でプロット</span>"
   ]
  },
  {
   "cell_type": "code",
   "execution_count": 258,
   "metadata": {
    "scrolled": true
   },
   "outputs": [
    {
     "data": {
      "image/png": "[encoded data removed]",
      "text/plain": [
       "<Figure size 432x288 with 1 Axes>"
      ]
     },
     "metadata": {
      "needs_background": "light"
     },
     "output_type": "display_data"
    }
   ],
   "source": [
    "decision_region(X_train, y_train, tmp, \"ON\", step=0.01, title='decision region on scratch')"
   ]
  },
  {
   "cell_type": "markdown",
   "metadata": {},
   "source": [
    "### <span style=\"color:#CC0000\">scikit-learnも可視化してみる</span>"
   ]
  },
  {
   "cell_type": "code",
   "execution_count": 261,
   "metadata": {},
   "outputs": [
    {
     "data": {
      "image/png": "[encoded data removed]",
      "text/plain": [
       "<Figure size 432x288 with 1 Axes>"
      ]
     },
     "metadata": {
      "needs_background": "light"
     },
     "output_type": "display_data"
    }
   ],
   "source": [
    "decision_region(X_train, y_train, clf,\"OFF\", step=0.01, title='decision region on scikit-learn')"
   ]
  },
  {
   "cell_type": "markdown",
   "metadata": {},
   "source": [
    "精度がだいぶ違う。"
   ]
  },
  {
   "cell_type": "code",
   "execution_count": null,
   "metadata": {},
   "outputs": [],
   "source": []
  },
  {
   "cell_type": "markdown",
   "metadata": {},
   "source": [
    "# 【問題6】（アドバンス課題）多項式カーネル関数の作成\n",
    "最初に作成した実装では線形カーネルを使用していました。多項式カーネルにも切り替えられるようにしましょう。\n",
    "\n",
    "\n",
    "「線形カーネルの式」\n",
    "\n",
    "$$\n",
    "k(x_i,x_j)=x^T_ix_j\n",
    "$$\n",
    "\n",
    "\n",
    "「多項式カーネルの式」\n",
    "\n",
    "$$\n",
    "k(x_i,x_j)=(γx^T_ix_j+θ_0)^d\n",
    "$$\n",
    "\n",
    "$γ$,$θ_0$,$d$はハイパーパラメータです。\n",
    "\n",
    "\n",
    "線形カーネルは \n",
    "$γ=1,θ_0=0, d=1$\n",
    "の場合の多項式カーネルと等しいと言えます。"
   ]
  },
  {
   "cell_type": "code",
   "execution_count": 302,
   "metadata": {},
   "outputs": [],
   "source": [
    "# スクラッチクラスのインスタンスを作成\n",
    "tmp_poly = ScratchSVMClassifier(num_iter=100, lr=1e-4, kernel='poly', threshold=1e-5, verbose=False, gamma=0.7)"
   ]
  },
  {
   "cell_type": "code",
   "execution_count": 304,
   "metadata": {},
   "outputs": [],
   "source": [
    "tmp_poly.fit(X_train,y_train)"
   ]
  },
  {
   "cell_type": "code",
   "execution_count": 305,
   "metadata": {},
   "outputs": [
    {
     "data": {
      "image/png": "[encoded data removed]",
      "text/plain": [
       "<Figure size 432x288 with 1 Axes>"
      ]
     },
     "metadata": {
      "needs_background": "light"
     },
     "output_type": "display_data"
    }
   ],
   "source": [
    "decision_region(X_train, y_train, tmp_poly, \"ON\", step=0.01, title='decision region on scratch(poly)')"
   ]
  },
  {
   "cell_type": "code",
   "execution_count": 306,
   "metadata": {},
   "outputs": [],
   "source": [
    "poly = tmp_poly.predict(X_test)"
   ]
  },
  {
   "cell_type": "code",
   "execution_count": 307,
   "metadata": {},
   "outputs": [
    {
     "data": {
      "text/html": [
       "<div>\n",
       "<style scoped>\n",
       "    .dataframe tbody tr th:only-of-type {\n",
       "        vertical-align: middle;\n",
       "    }\n",
       "\n",
       "    .dataframe tbody tr th {\n",
       "        vertical-align: top;\n",
       "    }\n",
       "\n",
       "    .dataframe thead th {\n",
       "        text-align: right;\n",
       "    }\n",
       "</style>\n",
       "<table border=\"1\" class=\"dataframe\">\n",
       "  <thead>\n",
       "    <tr style=\"text-align: right;\">\n",
       "      <th></th>\n",
       "      <th>0</th>\n",
       "      <th>1</th>\n",
       "      <th>2</th>\n",
       "    </tr>\n",
       "  </thead>\n",
       "  <tbody>\n",
       "    <tr>\n",
       "      <th>0</th>\n",
       "      <td>1</td>\n",
       "      <td>1</td>\n",
       "      <td>OK</td>\n",
       "    </tr>\n",
       "    <tr>\n",
       "      <th>1</th>\n",
       "      <td>1</td>\n",
       "      <td>1</td>\n",
       "      <td>OK</td>\n",
       "    </tr>\n",
       "    <tr>\n",
       "      <th>2</th>\n",
       "      <td>-1</td>\n",
       "      <td>-1</td>\n",
       "      <td>OK</td>\n",
       "    </tr>\n",
       "    <tr>\n",
       "      <th>3</th>\n",
       "      <td>-1</td>\n",
       "      <td>-1</td>\n",
       "      <td>OK</td>\n",
       "    </tr>\n",
       "    <tr>\n",
       "      <th>4</th>\n",
       "      <td>-1</td>\n",
       "      <td>-1</td>\n",
       "      <td>OK</td>\n",
       "    </tr>\n",
       "    <tr>\n",
       "      <th>...</th>\n",
       "      <td>...</td>\n",
       "      <td>...</td>\n",
       "      <td>...</td>\n",
       "    </tr>\n",
       "    <tr>\n",
       "      <th>145</th>\n",
       "      <td>-1</td>\n",
       "      <td>-1</td>\n",
       "      <td>OK</td>\n",
       "    </tr>\n",
       "    <tr>\n",
       "      <th>146</th>\n",
       "      <td>-1</td>\n",
       "      <td>-1</td>\n",
       "      <td>OK</td>\n",
       "    </tr>\n",
       "    <tr>\n",
       "      <th>147</th>\n",
       "      <td>-1</td>\n",
       "      <td>-1</td>\n",
       "      <td>OK</td>\n",
       "    </tr>\n",
       "    <tr>\n",
       "      <th>148</th>\n",
       "      <td>1</td>\n",
       "      <td>1</td>\n",
       "      <td>OK</td>\n",
       "    </tr>\n",
       "    <tr>\n",
       "      <th>149</th>\n",
       "      <td>1</td>\n",
       "      <td>1</td>\n",
       "      <td>OK</td>\n",
       "    </tr>\n",
       "  </tbody>\n",
       "</table>\n",
       "<p>150 rows × 3 columns</p>\n",
       "</div>"
      ],
      "text/plain": [
       "      0   1   2\n",
       "0     1   1  OK\n",
       "1     1   1  OK\n",
       "2    -1  -1  OK\n",
       "3    -1  -1  OK\n",
       "4    -1  -1  OK\n",
       "..   ..  ..  ..\n",
       "145  -1  -1  OK\n",
       "146  -1  -1  OK\n",
       "147  -1  -1  OK\n",
       "148   1   1  OK\n",
       "149   1   1  OK\n",
       "\n",
       "[150 rows x 3 columns]"
      ]
     },
     "execution_count": 307,
     "metadata": {},
     "output_type": "execute_result"
    }
   ],
   "source": [
    "hogehoge = y_test - poly\n",
    "hogehoge = np.where(hogehoge == 0, \"OK\", \"NG\")\n",
    "\n",
    "pd.DataFrame(data = [y_test, poly, hogehoge]).T"
   ]
  },
  {
   "cell_type": "code",
   "execution_count": 308,
   "metadata": {},
   "outputs": [
    {
     "name": "stdout",
     "output_type": "stream",
     "text": [
      "confusion matrix = [[71  0]\n",
      " [ 0 79]]\n",
      "accuracy =  1.0\n",
      "precision =  1.0\n",
      "recall =  1.0\n",
      "f1 score =  1.0\n"
     ]
    },
    {
     "data": {
      "text/plain": [
       "{'scratch': [array([[71,  0],\n",
       "         [ 0, 79]]),\n",
       "  1.0,\n",
       "  1.0,\n",
       "  1.0,\n",
       "  1.0],\n",
       " 'sklearn': [array([[71,  0],\n",
       "         [ 0, 79]]),\n",
       "  1.0,\n",
       "  1.0,\n",
       "  1.0,\n",
       "  1.0],\n",
       " 'poly': [array([[71,  0],\n",
       "         [ 0, 79]]),\n",
       "  1.0,\n",
       "  1.0,\n",
       "  1.0,\n",
       "  1.0]}"
      ]
     },
     "execution_count": 308,
     "metadata": {},
     "output_type": "execute_result"
    }
   ],
   "source": [
    "index_out(y_test,poly,\"poly\")"
   ]
  },
  {
   "cell_type": "code",
   "execution_count": 326,
   "metadata": {},
   "outputs": [
    {
     "data": {
      "text/html": [
       "<div>\n",
       "<style scoped>\n",
       "    .dataframe tbody tr th:only-of-type {\n",
       "        vertical-align: middle;\n",
       "    }\n",
       "\n",
       "    .dataframe tbody tr th {\n",
       "        vertical-align: top;\n",
       "    }\n",
       "\n",
       "    .dataframe thead th {\n",
       "        text-align: right;\n",
       "    }\n",
       "</style>\n",
       "<table border=\"1\" class=\"dataframe\">\n",
       "  <thead>\n",
       "    <tr style=\"text-align: right;\">\n",
       "      <th></th>\n",
       "      <th>scratch</th>\n",
       "      <th>sklearn</th>\n",
       "      <th>poly</th>\n",
       "    </tr>\n",
       "  </thead>\n",
       "  <tbody>\n",
       "    <tr>\n",
       "      <th>0</th>\n",
       "      <td>[[71, 0], [0, 79]]</td>\n",
       "      <td>[[71, 0], [0, 79]]</td>\n",
       "      <td>[[71, 0], [0, 79]]</td>\n",
       "    </tr>\n",
       "    <tr>\n",
       "      <th>1</th>\n",
       "      <td>1</td>\n",
       "      <td>1</td>\n",
       "      <td>1</td>\n",
       "    </tr>\n",
       "    <tr>\n",
       "      <th>2</th>\n",
       "      <td>1</td>\n",
       "      <td>1</td>\n",
       "      <td>1</td>\n",
       "    </tr>\n",
       "    <tr>\n",
       "      <th>3</th>\n",
       "      <td>1</td>\n",
       "      <td>1</td>\n",
       "      <td>1</td>\n",
       "    </tr>\n",
       "    <tr>\n",
       "      <th>4</th>\n",
       "      <td>1</td>\n",
       "      <td>1</td>\n",
       "      <td>1</td>\n",
       "    </tr>\n",
       "  </tbody>\n",
       "</table>\n",
       "</div>"
      ],
      "text/plain": [
       "              scratch             sklearn                poly\n",
       "0  [[71, 0], [0, 79]]  [[71, 0], [0, 79]]  [[71, 0], [0, 79]]\n",
       "1                   1                   1                   1\n",
       "2                   1                   1                   1\n",
       "3                   1                   1                   1\n",
       "4                   1                   1                   1"
      ]
     },
     "execution_count": 326,
     "metadata": {},
     "output_type": "execute_result"
    }
   ],
   "source": [
    "pd.DataFrame(outlist)"
   ]
  },
  {
   "cell_type": "markdown",
   "metadata": {},
   "source": [
    "<b>分類はちゃんとできている。</b>\n"
   ]
  },
  {
   "cell_type": "code",
   "execution_count": null,
   "metadata": {},
   "outputs": [],
   "source": []
  }
 ],
 "metadata": {
  "kernelspec": {
   "display_name": "Python 3",
   "language": "python",
   "name": "python3"
  },
  "language_info": {
   "codemirror_mode": {
    "name": "ipython",
    "version": 3
   },
   "file_extension": ".py",
   "mimetype": "text/x-python",
   "name": "python",
   "nbconvert_exporter": "python",
   "pygments_lexer": "ipython3",
   "version": "3.7.4"
  },
  "toc": {
   "base_numbering": 1,
   "nav_menu": {},
   "number_sections": true,
   "sideBar": true,
   "skip_h1_title": false,
   "title_cell": "Table of Contents",
   "title_sidebar": "Contents",
   "toc_cell": false,
   "toc_position": {},
   "toc_section_display": true,
   "toc_window_display": true
  }
 },
 "nbformat": 4,
 "nbformat_minor": 4
}
