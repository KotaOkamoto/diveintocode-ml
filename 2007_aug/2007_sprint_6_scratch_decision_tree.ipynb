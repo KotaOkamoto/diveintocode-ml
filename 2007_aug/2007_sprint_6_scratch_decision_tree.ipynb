{
 "cells": [
  {
   "cell_type": "code",
   "execution_count": 1,
   "metadata": {},
   "outputs": [],
   "source": [
    "# インポート\n",
    "import numpy as np\n",
    "import pandas as pd\n",
    "import matplotlib.pyplot as plt\n",
    "import seaborn as sns\n",
    "from sklearn import metrics\n",
    "from sklearn.preprocessing import StandardScaler\n",
    "import scipy.sparse as sp\n",
    "import statsmodels.api as sm\n",
    "from decimal import Decimal, ROUND_HALF_UP\n",
    "from sklearn.metrics import mean_squared_error\n",
    "%matplotlib inline\n",
    "\n",
    "from sklearn.model_selection import train_test_split\n",
    "from sklearn.svm import SVC\n",
    "from mlxtend.plotting import plot_decision_regions\n",
    "from matplotlib.colors import ListedColormap\n",
    "\n",
    "from sklearn.metrics import accuracy_score\n",
    "from sklearn.metrics import precision_score\n",
    "from sklearn.metrics import recall_score\n",
    "from sklearn.metrics import f1_score\n",
    "from sklearn.metrics import confusion_matrix"
   ]
  },
  {
   "cell_type": "markdown",
   "metadata": {},
   "source": [
    "### データ作成"
   ]
  },
  {
   "cell_type": "code",
   "execution_count": 2,
   "metadata": {},
   "outputs": [],
   "source": [
    "# シンプルデータセット2作成コード\n",
    "\n",
    "X = np.array([[-0.44699 , -2.8073  ],[-1.4621  , -2.4586  ],\n",
    "       [ 0.10645 ,  1.9242  ],[-3.5944  , -4.0112  ],\n",
    "       [-0.9888  ,  4.5718  ],[-3.1625  , -3.9606  ],\n",
    "       [ 0.56421 ,  0.72888 ],[-0.60216 ,  8.4636  ],\n",
    "       [-0.61251 , -0.75345 ],[-0.73535 , -2.2718  ],\n",
    "       [-0.80647 , -2.2135  ],[ 0.86291 ,  2.3946  ],\n",
    "       [-3.1108  ,  0.15394 ],[-2.9362  ,  2.5462  ],\n",
    "       [-0.57242 , -2.9915  ],[ 1.4771  ,  3.4896  ],\n",
    "       [ 0.58619 ,  0.37158 ],[ 0.6017  ,  4.3439  ],\n",
    "       [-2.1086  ,  8.3428  ],[-4.1013  , -4.353   ],\n",
    "       [-1.9948  , -1.3927  ],[ 0.35084 , -0.031994],\n",
    "       [ 0.96765 ,  7.8929  ],[-1.281   , 15.6824  ],\n",
    "       [ 0.96765 , 10.083   ],[ 1.3763  ,  1.3347  ],\n",
    "       [-2.234   , -2.5323  ],[-2.9452  , -1.8219  ],\n",
    "       [ 0.14654 , -0.28733 ],[ 0.5461  ,  5.8245  ],\n",
    "       [-0.65259 ,  9.3444  ],[ 0.59912 ,  5.3524  ],\n",
    "       [ 0.50214 , -0.31818 ],[-3.0603  , -3.6461  ],\n",
    "       [-6.6797  ,  0.67661 ],[-2.353   , -0.72261 ],\n",
    "       [ 1.1319  ,  2.4023  ],[-0.12243 ,  9.0162  ],\n",
    "       [-2.5677  , 13.1779  ],[ 0.057313,  5.4681  ]])\n",
    "y = np.array([0, 0, 0, 0, 0, 0, 0, 0, 0, 0, 0, 0, 0, 0, 0, 0, 0, 0, 0, 0, 1, 1,\n",
    "       1, 1, 1, 1, 1, 1, 1, 1, 1, 1, 1, 1, 1, 1, 1, 1, 1, 1])"
   ]
  },
  {
   "cell_type": "code",
   "execution_count": 3,
   "metadata": {
    "scrolled": true
   },
   "outputs": [
    {
     "data": {
      "image/png": "[encoded data removed]",
      "text/plain": [
       "<Figure size 432x288 with 1 Axes>"
      ]
     },
     "metadata": {
      "needs_background": "light"
     },
     "output_type": "display_data"
    }
   ],
   "source": [
    "# データ確認\n",
    "plt.title(\"dataset\")\n",
    "plt.scatter(X[y == 0][:, 0], X[y == 0][:, 1], color='r', label='0')\n",
    "plt.scatter(X[y == 1][:, 0], X[y == 1][:, 1], color='b', label='1')\n",
    "plt.legend()\n",
    "plt.show()"
   ]
  },
  {
   "cell_type": "markdown",
   "metadata": {},
   "source": [
    "# 決定木スクラッチ\n",
    "\n",
    "分類のための決定木のクラスをスクラッチで作成していきます。NumPyなど最低限のライブラリのみを使いアルゴリズムを実装していきます。\n",
    "\n",
    "\n",
    "決定木の学習には何回まで条件分岐を繰り返すかを表す （最大の）深さ というハイパーパラメータが登場しますが、深さ1の実装を必須課題とします。深さが2以上のものはアドバンス課題とします。\n",
    "\n",
    "\n",
    "学習の仕方には様々な方法がありますが、ここではscikit-learnでも使用されている CART法 をベースとした実装を行います。この方法では学習の複雑さを減らすために、 分岐は2つに分かれるのみ になります。\n",
    "\n",
    "\n",
    "以下に雛形を用意してあります。このScratchDecesionTreeClassifierDepth1クラスにコードを書き加えていってください。"
   ]
  },
  {
   "cell_type": "code",
   "execution_count": 4,
   "metadata": {},
   "outputs": [],
   "source": [
    "class _Node:\n",
    "    \"\"\"決定木のノードを生成するクラス\"\"\"\n",
    "    \n",
    "    def __init__(self, depth=0):\n",
    "        \"\"\"初期化処理\n",
    "        depth : 現在の階層\n",
    "        left : 左の子ノード\n",
    "        right : 右の子ノード\n",
    "        feature : 分割する特徴量のcolumn番号\n",
    "        threshold : 分割する閾値\n",
    "        label : クラス\n",
    "        num_data : データの行数\n",
    "        ig : 分割指標(情報利得)\n",
    "        \"\"\"\n",
    "        self.depth = depth\n",
    "        self.l_node = None\n",
    "        self.r_node = None\n",
    "        \n",
    "        self.threshold = None\n",
    "        self.label = None\n",
    "        self.n_data = None\n",
    "        self.ig = None\n",
    "        \n",
    "    def build(self, data, target, max_depth):\n",
    "        \"\"\"木の構築を行う\n",
    "        data : ノードに与えられたデータ\n",
    "        target : データの分類クラス\n",
    "        \n",
    "        \"\"\"\n",
    "        \n",
    "        self.feature = None\n",
    "        self.max_depth = max_depth\n",
    "        self.n_data = data.shape[0]\n",
    "        n_features = data.shape[1]\n",
    "        \n",
    "        # 自分のクラスを設定\n",
    "        classes, counts = np.unique(target, return_counts=True) \n",
    "        if len(classes) == 1:\n",
    "            self.label = classes[0]\n",
    "        else:\n",
    "            self.label = counts.argmax() \n",
    "\n",
    "        # デバッグ用表示\n",
    "        \"\"\"\n",
    "        print(\"==================\")\n",
    "        print(\"現在のノードのサンプル数:{}\".format(self.n_data))\n",
    "        print(\"現在のノードのクラス比率:{}\".format(counts))\n",
    "        print(\"現在のノードの深さ:{}\".format(self.depth))\n",
    "        print(\"現在のノードのクラス:{}\".format(self.label))\n",
    "        print(\"==================\")\n",
    "        \"\"\"\n",
    "        \n",
    "        # max_depthに到達してたら終わり\n",
    "        if max_depth == None:\n",
    "            pass\n",
    "        elif self.depth >= max_depth:\n",
    "            #print(\"Reach for the max depth.\")\n",
    "            return\n",
    "        \n",
    "        # 全部同一クラスでも終わり\n",
    "        if len(classes) == 1:\n",
    "            #print(\"This node is a single class\")\n",
    "            return\n",
    "        \n",
    "        \n",
    "        # 最良の分割を記憶する変数\n",
    "        best_ig = 0.0\n",
    "        best_feature = None\n",
    "        best_threshold =None\n",
    "\n",
    "        # 自分の不純度\n",
    "        self.gini = self._ginis_diversity_index(target)\n",
    "        \n",
    "        \n",
    "        # 特徴量ごとに分割していく\n",
    "        for f in range(n_features):\n",
    "            for threshold in data:\n",
    "                index_classifier = data[:,f] <  threshold[f]\n",
    "                target_l = target[index_classifier]\n",
    "                target_r = target[~index_classifier]\n",
    "\n",
    "                # 分割後の不純度から情報利得を計算\n",
    "                ig = self._information_gain(target_l, target_r)\n",
    "                \n",
    "                # より良い分割であれば保存\n",
    "                if ig > best_ig:\n",
    "                    best_ig = ig\n",
    "                    best_feature = f\n",
    "                    best_threshold = threshold\n",
    "    \n",
    "        \n",
    "        # 最良の分割をインスタンス化\n",
    "        self.ig = best_ig\n",
    "        self.feature = best_feature\n",
    "        self.threshold = best_threshold\n",
    "        \n",
    "        \n",
    "        # 次のノードに進むための準備\n",
    "        \n",
    "        # dataとtargetを実際に分割する\n",
    "        index_classifier = data[:,self.feature] < self.threshold[self.feature]\n",
    "        data_l = data[index_classifier]\n",
    "        data_r = data[~index_classifier]\n",
    "        target_l = target[index_classifier]\n",
    "        target_r = target[~index_classifier]\n",
    "        \n",
    "        _, l_counts = np.unique(target_l, return_counts=True)\n",
    "        _, r_counts = np.unique(target_r, return_counts=True)\n",
    "        self.l_label = l_counts.argmax() \n",
    "        self.r_label = r_counts.argmax() \n",
    "        \n",
    "        # 次の深さ\n",
    "        next_depth = self.depth + 1\n",
    "        \n",
    "        # 子ノードをインスタンス化して再帰処理\n",
    "        self.l_node = _Node(next_depth)\n",
    "        self.l_node.build(data_l, target_l, max_depth)\n",
    "        \n",
    "        self.r_node = _Node(next_depth)\n",
    "        self.r_node.build(data_r, target_r, max_depth)\n",
    "        \n",
    "        \n",
    "        \n",
    "    \n",
    "    # ジニ不純度を計算する関数\n",
    "    def _ginis_diversity_index(self, target):\n",
    "        _, counts = np.unique(target, return_counts=True) # arrayの中のクラスとそれぞれの個数を抽出\n",
    "        n_all = len(target) # arrayのサンプル総数\n",
    "\n",
    "        # giniの計算\n",
    "        gini = 1 - (np.sum((counts / n_all)**2))\n",
    "\n",
    "        return gini\n",
    "    \n",
    "    \n",
    "    # 情報利得を計算する関数\n",
    "    def _information_gain(self, left, right):\n",
    "        n_l = left.shape[0] \n",
    "        n_r = right.shape[0]\n",
    "\n",
    "        left_gini = self._ginis_diversity_index(left)\n",
    "        right_gini = self._ginis_diversity_index(right)\n",
    "        \n",
    "        ig = self.gini - n_l / self.n_data * left_gini - n_r / self.n_data * right_gini\n",
    "\n",
    "        return ig\n",
    "    \n",
    "    # 推測する関数\n",
    "    def predict(self, d):\n",
    "        \"\"\"\n",
    "        1行の配列を受け取って個別に推測している。\n",
    "        \"\"\"\n",
    "        if self.feature == None or self.depth == self.max_depth:\n",
    "            return self.label\n",
    "        \n",
    "        else:\n",
    "            if d[self.feature] < self.threshold[self.feature]:\n",
    "                #print(self.feature)\n",
    "                return self.l_node.predict(d)\n",
    "            else:\n",
    "                return self.r_node.predict(d)\n",
    "        \n",
    "        \n",
    "class ScratchDecesionTreeClassifier:\n",
    "    \"\"\"\n",
    "    メインクラス。\n",
    "    \"\"\"\n",
    "    def __init__(self, max_depth=None):\n",
    "        self.root_node = None\n",
    "        self.max_depth = max_depth\n",
    "            \n",
    "            \n",
    "    # メイン部分\n",
    "    def fit(self, data, target):\n",
    "        \"\"\"学習を行い決定木を構築する\n",
    "        data : 学習データ\n",
    "        target : データの分類クラス\n",
    "            \n",
    "        \"\"\"\n",
    "        self.root_node = _Node()\n",
    "        self.root_node.build(data, target, self.max_depth)\n",
    "            \n",
    "            \n",
    "    # 推測する\n",
    "    def predict(self, data):\n",
    "        \"\"\"\n",
    "        決定木分類器を使いラベルを推定する\n",
    "        \"\"\"\n",
    "        ans = []\n",
    "        \n",
    "        for d in data:\n",
    "            ans.append(self.root_node.predict(d))\n",
    "        return np.array(ans)\n",
    "            \n",
    "            \n",
    "\n",
    "        \n",
    "    "
   ]
  },
  {
   "cell_type": "code",
   "execution_count": 5,
   "metadata": {},
   "outputs": [],
   "source": [
    "temp = ScratchDecesionTreeClassifier()"
   ]
  },
  {
   "cell_type": "code",
   "execution_count": 6,
   "metadata": {},
   "outputs": [],
   "source": [
    "temp.fit(X, y)"
   ]
  },
  {
   "cell_type": "code",
   "execution_count": 59,
   "metadata": {},
   "outputs": [],
   "source": [
    "temp_pred = temp.predict(X)"
   ]
  },
  {
   "cell_type": "code",
   "execution_count": null,
   "metadata": {},
   "outputs": [],
   "source": []
  },
  {
   "cell_type": "markdown",
   "metadata": {},
   "source": [
    "## 分割の条件を学習で求める\n",
    "学習によって、ノードをどういった条件で分割すると、うまく分けられるかということを求めます。\n",
    "\n",
    "\n",
    "うまく分けられていることを判定するためにノードに対してジニ不純度と情報利得という値を計算します。"
   ]
  },
  {
   "cell_type": "markdown",
   "metadata": {},
   "source": [
    "# 【問題1】不純度を求める関数\n",
    "ノード の ジニ不純度 を計算する関数を作成してください。ノード \n",
    "$t$ に対するジニ不純度 $I(t)$ は以下の数式で求まります。クラスが混じり合っているほどジニ不純度は高くなります。\n",
    "\n",
    "$$\n",
    "I(t)=1−K∑i=1P2(Ci|t)=1−K∑i=1(Nt,iNt,all)2\n",
    "$$\n",
    "\n",
    "$t$ : ノードのインデックス\n",
    "\n",
    "$i$ : クラスのインデックス\n",
    "\n",
    "$K$ : クラスの数\n",
    "\n",
    "$Ci$ : i番目のクラス\n",
    "\n",
    "$P(Ci|t)$:　t番目のノードにおける$Ci$の割合\n",
    "\n",
    "$Nt,i$ : t番目のノードのi番目のクラスに属するサンプル数\n",
    "\n",
    "$Nt,all$ : t番目のノードのサンプルの総数\n",
    "\n",
    "\n",
    "まずは簡単な例を作り、手計算と関数の結果を比較してください。\n",
    "\n",
    "\n",
    "《例》\n",
    "\n",
    "\n",
    "* クラス1:サンプル数15, クラス2:サンプル数15 → ジニ不純度0.500\n",
    "* クラス1:サンプル数15, クラス2:サンプル数15, クラス3:サンプル数15 → ジニ不純度0.667\n",
    "* クラス1:サンプル数18, クラス2:サンプル数12 → ジニ不純度0.480\n",
    "* クラス1:サンプル数30, クラス2:サンプル数0 → ジニ不純度0.000\n"
   ]
  },
  {
   "cell_type": "markdown",
   "metadata": {},
   "source": [
    "### データ作成"
   ]
  },
  {
   "cell_type": "code",
   "execution_count": 8,
   "metadata": {},
   "outputs": [],
   "source": [
    "# サンプルのndarrayを作成する関数、ランダムか等分割合か\n",
    "def init_ndarray(label = 2, all_samples = 120, random=False):\n",
    "    if random == True:\n",
    "        array = np.random.randint(0, label, size = all_samples)\n",
    "    else:  \n",
    "        n_sample = all_samples // label\n",
    "        array = np.zeros(all_samples)\n",
    "        for i in range(label):\n",
    "            for j in range(n_sample):\n",
    "                x = i * n_sample\n",
    "                array[j + x] = i\n",
    "    return array"
   ]
  },
  {
   "cell_type": "code",
   "execution_count": 9,
   "metadata": {
    "scrolled": true
   },
   "outputs": [
    {
     "name": "stdout",
     "output_type": "stream",
     "text": [
      "[0. 0. 0. 0. 0. 0. 0. 0. 0. 0. 0. 0. 0. 0. 0. 1. 1. 1. 1. 1. 1. 1. 1. 1.\n",
      " 1. 1. 1. 1. 1. 1.]\n",
      "[0. 0. 0. 0. 0. 0. 0. 0. 0. 0. 0. 0. 0. 0. 0. 1. 1. 1. 1. 1. 1. 1. 1. 1.\n",
      " 1. 1. 1. 1. 1. 1. 2. 2. 2. 2. 2. 2. 2. 2. 2. 2. 2. 2. 2. 2. 2.]\n",
      "[0. 0. 0. 0. 0. 0. 0. 0. 0. 0. 0. 0. 0. 0. 0. 0. 0. 0. 1. 1. 1. 1. 1. 1.\n",
      " 1. 1. 1. 1. 1. 1.]\n",
      "[0. 0. 0. 0. 0. 0. 0. 0. 0. 0. 0. 0. 0. 0. 0. 0. 0. 0. 0. 0. 0. 0. 0. 0.\n",
      " 0. 0. 0. 0. 0. 0.]\n"
     ]
    }
   ],
   "source": [
    "sample1 = init_ndarray(2, 30, False)\n",
    "sample2 = init_ndarray(3, 45, False)\n",
    "sample3 = init_ndarray(2, 30, False)\n",
    "sample3[15:18] = 0\n",
    "sample4 = init_ndarray(1, 30, False)\n",
    "print(sample1)\n",
    "print(sample2)\n",
    "print(sample3)\n",
    "print(sample4)"
   ]
  },
  {
   "cell_type": "markdown",
   "metadata": {},
   "source": [
    "### 【解答】自作関数"
   ]
  },
  {
   "cell_type": "code",
   "execution_count": 10,
   "metadata": {},
   "outputs": [],
   "source": [
    "# ジニ不純度を計算する関数\n",
    "def ginis_diversity_index(array):\n",
    "    _, counts = np.unique(array, return_counts=True) # arrayの中のクラスとそれぞれの個数を抽出\n",
    "    n_all = len(array) # arrayのサンプル総数\n",
    "    \n",
    "    # giniの計算\n",
    "    gini = 1 - (np.sum((counts / n_all)**2))\n",
    "\n",
    "    return gini, counts\n",
    "    "
   ]
  },
  {
   "cell_type": "markdown",
   "metadata": {},
   "source": [
    "### 【検証】自作関数で例題を解いてみる"
   ]
  },
  {
   "cell_type": "code",
   "execution_count": 11,
   "metadata": {},
   "outputs": [
    {
     "data": {
      "text/html": [
       "<div>\n",
       "<style scoped>\n",
       "    .dataframe tbody tr th:only-of-type {\n",
       "        vertical-align: middle;\n",
       "    }\n",
       "\n",
       "    .dataframe tbody tr th {\n",
       "        vertical-align: top;\n",
       "    }\n",
       "\n",
       "    .dataframe thead th {\n",
       "        text-align: right;\n",
       "    }\n",
       "</style>\n",
       "<table border=\"1\" class=\"dataframe\">\n",
       "  <thead>\n",
       "    <tr style=\"text-align: right;\">\n",
       "      <th></th>\n",
       "      <th>0</th>\n",
       "      <th>1</th>\n",
       "      <th>2</th>\n",
       "      <th>理論値</th>\n",
       "      <th>計算値</th>\n",
       "    </tr>\n",
       "  </thead>\n",
       "  <tbody>\n",
       "    <tr>\n",
       "      <th>例1</th>\n",
       "      <td>15</td>\n",
       "      <td>15.0</td>\n",
       "      <td>NaN</td>\n",
       "      <td>0.500</td>\n",
       "      <td>0.500</td>\n",
       "    </tr>\n",
       "    <tr>\n",
       "      <th>例2</th>\n",
       "      <td>15</td>\n",
       "      <td>15.0</td>\n",
       "      <td>15.0</td>\n",
       "      <td>0.667</td>\n",
       "      <td>0.667</td>\n",
       "    </tr>\n",
       "    <tr>\n",
       "      <th>例3</th>\n",
       "      <td>18</td>\n",
       "      <td>12.0</td>\n",
       "      <td>NaN</td>\n",
       "      <td>0.480</td>\n",
       "      <td>0.480</td>\n",
       "    </tr>\n",
       "    <tr>\n",
       "      <th>例4</th>\n",
       "      <td>30</td>\n",
       "      <td>NaN</td>\n",
       "      <td>NaN</td>\n",
       "      <td>0.000</td>\n",
       "      <td>0.000</td>\n",
       "    </tr>\n",
       "  </tbody>\n",
       "</table>\n",
       "</div>"
      ],
      "text/plain": [
       "     0     1     2    理論値    計算値\n",
       "例1  15  15.0   NaN  0.500  0.500\n",
       "例2  15  15.0  15.0  0.667  0.667\n",
       "例3  18  12.0   NaN  0.480  0.480\n",
       "例4  30   NaN   NaN  0.000  0.000"
      ]
     },
     "metadata": {},
     "output_type": "display_data"
    }
   ],
   "source": [
    "pd.options.display.precision = 3\n",
    "sample_gini_1, counts1 = ginis_diversity_index(sample1)\n",
    "sample_gini_2, counts2 = ginis_diversity_index(sample2)\n",
    "sample_gini_3, counts3 = ginis_diversity_index(sample3)\n",
    "sample_gini_4, counts4 = ginis_diversity_index(sample4)\n",
    "\n",
    "tmp = pd.DataFrame(data = [counts1,counts2,counts3,counts4], index=[\"例1\",\"例2\",\"例3\",\"例4\"])\n",
    "gini_list = [sample_gini_1,sample_gini_2,sample_gini_3,sample_gini_4]\n",
    "t  = [0.500, 0.667, 0.480, 0.000]\n",
    "tmp[\"理論値\"] = t\n",
    "tmp[\"計算値\"] = gini_list\n",
    "display(tmp)"
   ]
  },
  {
   "cell_type": "markdown",
   "metadata": {},
   "source": [
    "同じ結果を得られた。\n",
    "\n",
    "---"
   ]
  },
  {
   "cell_type": "markdown",
   "metadata": {},
   "source": [
    "# 【問題2】情報利得を求める関数\n",
    "次に、ノード間の 情報利得 を計算する関数を作成してください。問題1で作成したジニ不純度 \n",
    "$I(t)$ を計算する関数を呼び出して使います。情報利得$IG$は以下の数式で求まります。うまく分けられている時ほど情報利得は大きくなります。\n",
    "\n",
    "ここで分岐は2つのみであるため、分岐先を「左側のノード・右側のノード」と呼びます。\n",
    "\n",
    "$$\n",
    "IG(p)=I(p)−\\frac{N_{left,all}}{N_{p,all}}I(left)−\\frac{N_{right,all}}{N_{p,all}}I(right)\n",
    "$$\n",
    "\n",
    "$p$ : 親ノードを示すインデックス\n",
    "\n",
    "$left$ : 左側のノードを示すインデックス\n",
    "\n",
    "$right$ : 右側のノードを示すインデックス\n",
    "\n",
    "\n",
    "まずは簡単な例を作り、手計算と関数の結果を比較してください。\n",
    "\n",
    "\n",
    "《例》\n",
    "\n",
    "左ノードクラス1:サンプル数10, 左ノードクラス2:サンプル数30, 右ノードクラス1:サンプル数20, 右ノードクラス2:サンプル数5 → 情報利得0.143"
   ]
  },
  {
   "cell_type": "markdown",
   "metadata": {},
   "source": [
    "### データ作成"
   ]
  },
  {
   "cell_type": "code",
   "execution_count": 12,
   "metadata": {},
   "outputs": [
    {
     "data": {
      "text/plain": [
       "(array([0., 0., 0., 0., 0., 0., 0., 0., 0., 0., 0., 0., 0., 0., 0., 0., 0.,\n",
       "        0., 0., 0., 0., 0., 0., 0., 0., 0., 0., 0., 0., 0., 1., 1., 1., 1.,\n",
       "        1., 1., 1., 1., 1., 1., 1., 1., 1., 1., 1., 1., 1., 1., 1., 1., 1.,\n",
       "        1., 1., 1., 1., 1., 1., 1., 1., 1., 1., 1., 1., 1., 1.]),\n",
       " array([0., 0., 0., 0., 0., 0., 0., 0., 0., 0., 1., 1., 1., 1., 1., 1., 1.,\n",
       "        1., 1., 1., 1., 1., 1., 1., 1., 1., 1., 1., 1., 1., 1., 1., 1., 1.,\n",
       "        1., 1., 1., 1., 1., 1.]),\n",
       " array([0., 0., 0., 0., 0., 0., 0., 0., 0., 0., 0., 0., 0., 0., 0., 0., 0.,\n",
       "        0., 0., 0., 1., 1., 1., 1., 1.]))"
      ]
     },
     "execution_count": 12,
     "metadata": {},
     "output_type": "execute_result"
    }
   ],
   "source": [
    "# サンプル配列の作成\n",
    "sampleX = np.concatenate([np.zeros(30), np.ones(35)])\n",
    "left_sampleX = np.concatenate([np.zeros(10), np.ones(30)])\n",
    "right_sampleX = np.concatenate([np.zeros(20), np.ones(5)])\n",
    "sampleX, left_sampleX, right_sampleX"
   ]
  },
  {
   "cell_type": "markdown",
   "metadata": {},
   "source": [
    "### 【解答】自作関数"
   ]
  },
  {
   "cell_type": "code",
   "execution_count": 13,
   "metadata": {},
   "outputs": [],
   "source": [
    "# 情報利得を計算する関数\n",
    "def information_gain(root, left, right):\n",
    "    N_all = len(root)\n",
    "    N_l = len(left) # arrayのサンプル総数\n",
    "    N_r = len(right) # arrayのサンプル総数\n",
    "    \n",
    "    gini,_ = ginis_diversity_index(root)\n",
    "    #print(gini)\n",
    "    left_gini,_ = ginis_diversity_index(left)\n",
    "    #print(left_gini)\n",
    "    right_gini,_ = ginis_diversity_index(right)\n",
    "    #print(right_gini)\n",
    "    \n",
    "    #print((N_l / N_all))\n",
    "    #print((N_r / N_all))\n",
    "    \n",
    "    ig = gini - N_l / N_all * left_gini - N_r / N_all * right_gini \n",
    "    \n",
    "    return ig\n"
   ]
  },
  {
   "cell_type": "markdown",
   "metadata": {},
   "source": [
    "### 【検証】自作関数で例題を解いてみる"
   ]
  },
  {
   "cell_type": "code",
   "execution_count": 14,
   "metadata": {},
   "outputs": [
    {
     "name": "stdout",
     "output_type": "stream",
     "text": [
      "例題の条件：左ノードクラス1:サンプル数10, 左ノードクラス2:サンプル数30, 右ノードクラス1:サンプル数20, 右ノードクラス2:サンプル数5\n",
      "例題の答え：情報利得0.143\n",
      "自作関数の出力：0.143\n"
     ]
    }
   ],
   "source": [
    "ig_test = information_gain(sampleX, left_sampleX, right_sampleX)\n",
    "print(\"例題の条件：左ノードクラス1:サンプル数10, 左ノードクラス2:サンプル数30, 右ノードクラス1:サンプル数20, 右ノードクラス2:サンプル数5\")\n",
    "print(\"例題の答え：情報利得0.143\")\n",
    "print(\"自作関数の出力：{:.3f}\".format(ig_test))"
   ]
  },
  {
   "cell_type": "markdown",
   "metadata": {},
   "source": [
    "同一の出力を得られたため、問題なし。\n",
    "\n",
    "---"
   ]
  },
  {
   "cell_type": "markdown",
   "metadata": {},
   "source": [
    "# 【問題3】学習\n",
    "空間の分割を行い、決定木のグラフを生成するコードを作成してください。今は深さ1の決定木なので、分割を1回だけ行います。ここでグラフを生成するとは、1回の分割の際の条件としてどの特徴量がいくつ以上の時とするかを求めるということです。\n",
    "\n",
    "\n",
    "訓練データに対して全ての組み合わせの分割を行い、その中でノード間の情報利得が最大となる分割をそのノードの分割基準として記録します。\n",
    "\n",
    "\n",
    "クラスが混ざらない不純度が0のノード、または指定された深さのノードが 葉ノード となります。葉ノードにはクラスを記録しておき、これを推定時に分類するクラスとします。クラスが混ざらない場合はそのままのクラスを記録し、混ざっている場合は多数決により決めます。\n",
    "\n",
    "\n",
    "《組み合わせの取り方》\n",
    "\n",
    "\n",
    "全ての組み合わせの取り方は、最も単純には各特徴量の値自体をしきい値にして分割を行う方法があります。片側の端は今回のスクラッチはこの方法で行なってください。\n",
    "\n",
    "\n",
    "他には中間の値をしきい値にする方法もあり、scikit-learnではこの方法が用いられています。\n",
    "\n",
    "\n",
    "《補足》\n",
    "\n",
    "\n",
    "問題2の情報利得を計算する関数はこの問題3で利用する上では、親ノードの不純度 $I(p)$ は固定されるため、左右のノードの不純度の合計を計算するだけでも同じ結果が得られることになります。しかし、ここでは親ノードを考慮した情報利得を計算する実装を行なってください。\n",
    "\n"
   ]
  },
  {
   "cell_type": "markdown",
   "metadata": {},
   "source": [
    "### データ作成"
   ]
  },
  {
   "cell_type": "code",
   "execution_count": 15,
   "metadata": {},
   "outputs": [],
   "source": [
    "# シンプルデータセット2作成コード\n",
    "# 学習用に使う\n",
    "\n",
    "X = np.array([[-0.44699 , -2.8073  ],[-1.4621  , -2.4586  ],\n",
    "       [ 0.10645 ,  1.9242  ],[-3.5944  , -4.0112  ],\n",
    "       [-0.9888  ,  4.5718  ],[-3.1625  , -3.9606  ],\n",
    "       [ 0.56421 ,  0.72888 ],[-0.60216 ,  8.4636  ],\n",
    "       [-0.61251 , -0.75345 ],[-0.73535 , -2.2718  ],\n",
    "       [-0.80647 , -2.2135  ],[ 0.86291 ,  2.3946  ],\n",
    "       [-3.1108  ,  0.15394 ],[-2.9362  ,  2.5462  ],\n",
    "       [-0.57242 , -2.9915  ],[ 1.4771  ,  3.4896  ],\n",
    "       [ 0.58619 ,  0.37158 ],[ 0.6017  ,  4.3439  ],\n",
    "       [-2.1086  ,  8.3428  ],[-4.1013  , -4.353   ],\n",
    "       [-1.9948  , -1.3927  ],[ 0.35084 , -0.031994],\n",
    "       [ 0.96765 ,  7.8929  ],[-1.281   , 15.6824  ],\n",
    "       [ 0.96765 , 10.083   ],[ 1.3763  ,  1.3347  ],\n",
    "       [-2.234   , -2.5323  ],[-2.9452  , -1.8219  ],\n",
    "       [ 0.14654 , -0.28733 ],[ 0.5461  ,  5.8245  ],\n",
    "       [-0.65259 ,  9.3444  ],[ 0.59912 ,  5.3524  ],\n",
    "       [ 0.50214 , -0.31818 ],[-3.0603  , -3.6461  ],\n",
    "       [-6.6797  ,  0.67661 ],[-2.353   , -0.72261 ],\n",
    "       [ 1.1319  ,  2.4023  ],[-0.12243 ,  9.0162  ],\n",
    "       [-2.5677  , 13.1779  ],[ 0.057313,  5.4681  ]])\n",
    "y = np.array([0, 0, 0, 0, 0, 0, 0, 0, 0, 0, 0, 0, 0, 0, 0, 0, 0, 0, 0, 0, 1, 1,\n",
    "       1, 1, 1, 1, 1, 1, 1, 1, 1, 1, 1, 1, 1, 1, 1, 1, 1, 1])"
   ]
  },
  {
   "cell_type": "code",
   "execution_count": 16,
   "metadata": {},
   "outputs": [],
   "source": [
    "X_train, X_test, y_train, y_test = train_test_split( X, y, train_size=0.75, random_state=0)"
   ]
  },
  {
   "cell_type": "code",
   "execution_count": 17,
   "metadata": {},
   "outputs": [],
   "source": [
    "# 可視化関数\n",
    "import matplotlib.pyplot as plt\n",
    "from matplotlib.colors import ListedColormap\n",
    "import matplotlib.patches as mpatches\n",
    "def decision_region(X, y, model, step=0.01, title='decision region on 3-nn', xlabel='xlabel', ylabel='ylabel', target_names=['versicolor', 'virginica']):\n",
    "    \"\"\"\n",
    "    2値分類を2次元の特徴量で学習したモデルの決定領域を描く。\n",
    "    背景の色が学習したモデルによる推定値から描画される。\n",
    "    散布図の点は訓練データまたは検証データである。\n",
    "\n",
    "    Parameters\n",
    "    ----------------\n",
    "    X : ndarray, shape(n_samples, 2)\n",
    "        特徴量\n",
    "    y : ndarray, shape(n_samples,)\n",
    "        ラベル\n",
    "    model : object\n",
    "        学習したモデルのインスタンスを入れる\n",
    "    step : float, (default : 0.1)\n",
    "        推定値を計算する間隔を設定する\n",
    "    title : str\n",
    "        グラフのタイトルの文章を与える\n",
    "    xlabel, ylabel : str\n",
    "        軸ラベルの文章を与える\n",
    "    target_names= : list of str\n",
    "        凡例の一覧を与える\n",
    "    \"\"\"\n",
    "    # setting\n",
    "    scatter_color = ['red', 'blue']\n",
    "    contourf_color = ['pink', 'skyblue']\n",
    "    n_class = 2\n",
    "    # pred\n",
    "    mesh_f0, mesh_f1  = np.meshgrid(np.arange(np.min(X[:,0])-0.5, np.max(X[:,0])+0.5, step), np.arange(np.min(X[:,1])-0.5, np.max(X[:,1])+0.5, step))\n",
    "    mesh = np.c_[np.ravel(mesh_f0),np.ravel(mesh_f1)]\n",
    "    y_pred = model.predict(mesh).reshape(mesh_f0.shape)\n",
    "    # plot\n",
    "    plt.title(title)\n",
    "    plt.xlabel(xlabel)\n",
    "    plt.ylabel(ylabel)\n",
    "    plt.contourf(mesh_f0, mesh_f1, y_pred, n_class-1, cmap=ListedColormap(contourf_color))\n",
    "    plt.contour(mesh_f0, mesh_f1, y_pred, n_class-1, colors='y', linewidths=3, alpha=0.5)\n",
    "    for i, target in enumerate(set(y)):\n",
    "        plt.scatter(X[y==target][:, 0], X[y==target][:, 1], s=80, color=scatter_color[i], label=target_names[i], marker='o')\n",
    "    patches = [mpatches.Patch(color=scatter_color[i], label=target_names[i]) for i in range(n_class)]\n",
    "    plt.legend(handles=patches)\n",
    "    plt.legend()\n",
    "    plt.show()"
   ]
  },
  {
   "cell_type": "markdown",
   "metadata": {},
   "source": [
    "### 【解答】自作関数"
   ]
  },
  {
   "cell_type": "code",
   "execution_count": 18,
   "metadata": {},
   "outputs": [],
   "source": [
    "# 問題3用のクラス\n",
    "class problem_3():\n",
    "    \"\"\"\n",
    "    深さ1の決定木分類器のスクラッチ実装\n",
    "\n",
    "    Parameters\n",
    "    ----------\n",
    "    verbose : bool\n",
    "      学習過程を出力する場合はTrue\n",
    "    \"\"\"\n",
    "    def __init__(self,verbose=False):\n",
    "        # ハイパーパラメータを属性として記録\n",
    "        self.verbose = verbose\n",
    "        self.label = None\n",
    "        \n",
    "    \n",
    "    def fit(self, X, y):\n",
    "        \"\"\"\n",
    "        決定木分類器を学習する\n",
    "        Parameters\n",
    "        ----------\n",
    "        X : 次の形のndarray, shape (n_samples, n_features)\n",
    "            訓練データの特徴量\n",
    "        y : 次の形のndarray, shape (n_samples, )\n",
    "            訓練データの正解値\n",
    "        \"\"\"    \n",
    "        if self.verbose:\n",
    "            #verboseをTrueにした際は学習過程を出力\n",
    "            print()\n",
    "        pass\n",
    "    \n",
    "    # 学習用の関数\n",
    "    def _tree_build(self, data, target):\n",
    "        self.num_data = data.shape[0]\n",
    "        self.n_features = data.shape[1]\n",
    "\n",
    "\n",
    "        # 最良の分割を記憶する変数\n",
    "        best_ig = 0.0\n",
    "        best_feature = None\n",
    "        best_threshold =None\n",
    "        best_k = None\n",
    "\n",
    "        # 自分の不純度は先に計算しておく\n",
    "        self.gini = self._ginis_diversity_index(target)\n",
    "        \n",
    "        # 特徴量ごとに分割していく\n",
    "        for f in range(self.n_features):\n",
    "            for k,threshold in enumerate(data):\n",
    "                #print(data[k])\n",
    "                index_classifier = data[:,f] <  threshold[f]\n",
    "                target_l = target[index_classifier]\n",
    "                target_r = target[~index_classifier]\n",
    "\n",
    "                # 分割後の不純度からGiniインデックスを計算\n",
    "                ig = self.information_gain(target_l, target_r)\n",
    "\n",
    "                # より良い分割であれば保存\n",
    "                if ig > best_ig:\n",
    "                    best_ig = ig\n",
    "                    best_k = k\n",
    "                    best_feature = f\n",
    "                    best_threshold = threshold\n",
    "                #l_unique_class, l_counts = np.unique(target_l, return_counts=True) # arrayの中のクラスとそれぞれの個数を抽出\n",
    "                #r_unique_class, r_counts = np.unique(target_r, return_counts=True) # arrayの中のクラスとそれぞれの個数を抽出\n",
    "                #print(\"left_unique: {}, l_counts :{}, r_unique_class :{}, r_counts :{}\".format(l_unique_class, l_counts, r_unique_class, r_counts))\n",
    "                #print(\"feature : {}, threshold :{}:{}, ig :{}, left_shape[0] :{}, right_shape[0] :{}\".format(f, k,threshold,ig,  target_l.shape[0],target_r.shape[0]))\n",
    "                \n",
    "                \n",
    "                \n",
    "        print(\"best_threshold :{}\".format(best_threshold))\n",
    "        print(\"best_index :{}\".format(best_k))\n",
    "        print(\"best_feature :{}\".format(best_feature))\n",
    "        print(\"best_ig :{}\".format(best_ig))\n",
    "        \n",
    "        target_l = target[data[:,0] < best_threshold[0]]\n",
    "        target_r = target[data[:,0] >= best_threshold[0]]\n",
    "        l_unique_class, l_counts = np.unique(target_l, return_counts=True) # arrayの中のクラスとそれぞれの個数を抽出\n",
    "        r_unique_class, r_counts = np.unique(target_r, return_counts=True) # arrayの中のクラスとそれぞれの個数を抽出\n",
    "        print(\"left_unique: {}, l_counts :{}, r_unique_class :{}, r_counts :{}\".format(l_unique_class, l_counts, r_unique_class, r_counts))\n",
    "        \n",
    "        \n",
    "        self.threshold = best_threshold\n",
    "        self.th_index = best_k\n",
    "        self.feature = best_feature\n",
    "        self.ig = best_ig\n",
    "        \n",
    "        self.l_label = l_counts.argmax() \n",
    "        #print(self.l_label)\n",
    "        self.r_label = np.argmax(r_counts)\n",
    "        #print(self.r_label)\n",
    "\n",
    "\n",
    "    # ジニ不純度を計算する関数\n",
    "    def _ginis_diversity_index(self, target):\n",
    "        _, counts = np.unique(target, return_counts=True) # arrayの中のクラスとそれぞれの個数を抽出\n",
    "        n_all = len(target) # arrayのサンプル総数\n",
    "\n",
    "        # giniの計算\n",
    "        gini = 1 - (np.sum((counts / n_all)**2))\n",
    "\n",
    "        return gini\n",
    "    \n",
    "    \n",
    "    # 情報利得を計算する関数\n",
    "    def information_gain(self, left, right):\n",
    "        n_l = left.shape[0] # arrayのサンプル総数\n",
    "        n_r = right.shape[0] # arrayのサンプル総数\n",
    "\n",
    "        left_gini = self._ginis_diversity_index(left)\n",
    "        right_gini = self._ginis_diversity_index(right)\n",
    "        \n",
    "        ig = self.gini - n_l / self.num_data * left_gini - n_r / self.num_data * right_gini\n",
    "\n",
    "        return ig\n",
    "    \n",
    "    \n",
    "    \n",
    "    def predict(self, X):\n",
    "        \"\"\"\n",
    "        決定木分類器を使いラベルを推定する\n",
    "        \"\"\"\n",
    "        pred = np.where(X < self.threshold, self.l_label, self.r_label)[:,self.feature]\n",
    "        \n",
    "        \n",
    "        return pred"
   ]
  },
  {
   "cell_type": "code",
   "execution_count": 19,
   "metadata": {},
   "outputs": [
    {
     "name": "stdout",
     "output_type": "stream",
     "text": [
      "best_threshold :[0.59912 5.3524 ]\n",
      "best_index :20\n",
      "best_feature :1\n",
      "best_ig :0.1022727272727273\n",
      "left_unique: [0 1], l_counts :[14 12], r_unique_class :[0 1], r_counts :[1 3]\n"
     ]
    }
   ],
   "source": [
    "q3 = problem_3()\n",
    "q3._tree_build(X_train,y_train)"
   ]
  },
  {
   "cell_type": "markdown",
   "metadata": {},
   "source": [
    "学習し、分割するためのthresholdを保存できている。"
   ]
  },
  {
   "cell_type": "code",
   "execution_count": null,
   "metadata": {},
   "outputs": [],
   "source": []
  },
  {
   "cell_type": "markdown",
   "metadata": {},
   "source": [
    "# 【問題4】推定\n",
    "推定する仕組みを実装してください。ScratchDecesionTreeClassifierDepth1クラスの雛形に含まれるpredictメソッドに書き加えてください。\n",
    "\n",
    "\n",
    "入力されたデータの値を学習した条件で判定していき、どの葉ノードに到達するかを見ます。葉ノードにはクラスが記録されているので、これが推定値となります。"
   ]
  },
  {
   "cell_type": "markdown",
   "metadata": {},
   "source": [
    "### 【解答】自作関数\n",
    "\n",
    "引き続き問題3で使ったセルを使用していく。"
   ]
  },
  {
   "cell_type": "code",
   "execution_count": 20,
   "metadata": {},
   "outputs": [
    {
     "data": {
      "text/plain": [
       "array([1, 0, 0, 0, 0, 0, 0, 0, 1, 1])"
      ]
     },
     "execution_count": 20,
     "metadata": {},
     "output_type": "execute_result"
    }
   ],
   "source": [
    "# スクラッチ推測\n",
    "scratch_pred = q3.predict(X_test)\n",
    "scratch_pred"
   ]
  },
  {
   "cell_type": "markdown",
   "metadata": {},
   "source": [
    "### 【検証】scikit-learnの決定木と比較"
   ]
  },
  {
   "cell_type": "code",
   "execution_count": 21,
   "metadata": {},
   "outputs": [
    {
     "name": "stdout",
     "output_type": "stream",
     "text": [
      "[1 0 0 0 0 0 0 0 1 1]\n"
     ]
    }
   ],
   "source": [
    "# scikit-learnで推測\n",
    "from sklearn import tree\n",
    "tr = tree.DecisionTreeClassifier(max_depth=1).fit(X_train, y_train)\n",
    "y_pred_tree = tr.predict(X_test)\n",
    "\n",
    "print(y_pred_tree)"
   ]
  },
  {
   "cell_type": "code",
   "execution_count": 22,
   "metadata": {},
   "outputs": [
    {
     "data": {
      "text/html": [
       "<div>\n",
       "<style scoped>\n",
       "    .dataframe tbody tr th:only-of-type {\n",
       "        vertical-align: middle;\n",
       "    }\n",
       "\n",
       "    .dataframe tbody tr th {\n",
       "        vertical-align: top;\n",
       "    }\n",
       "\n",
       "    .dataframe thead th {\n",
       "        text-align: right;\n",
       "    }\n",
       "</style>\n",
       "<table border=\"1\" class=\"dataframe\">\n",
       "  <thead>\n",
       "    <tr style=\"text-align: right;\">\n",
       "      <th></th>\n",
       "      <th>scratch</th>\n",
       "      <th>scikit-learn</th>\n",
       "    </tr>\n",
       "  </thead>\n",
       "  <tbody>\n",
       "    <tr>\n",
       "      <th>0</th>\n",
       "      <td>1</td>\n",
       "      <td>1</td>\n",
       "    </tr>\n",
       "    <tr>\n",
       "      <th>1</th>\n",
       "      <td>0</td>\n",
       "      <td>0</td>\n",
       "    </tr>\n",
       "    <tr>\n",
       "      <th>2</th>\n",
       "      <td>0</td>\n",
       "      <td>0</td>\n",
       "    </tr>\n",
       "    <tr>\n",
       "      <th>3</th>\n",
       "      <td>0</td>\n",
       "      <td>0</td>\n",
       "    </tr>\n",
       "    <tr>\n",
       "      <th>4</th>\n",
       "      <td>0</td>\n",
       "      <td>0</td>\n",
       "    </tr>\n",
       "    <tr>\n",
       "      <th>5</th>\n",
       "      <td>0</td>\n",
       "      <td>0</td>\n",
       "    </tr>\n",
       "    <tr>\n",
       "      <th>6</th>\n",
       "      <td>0</td>\n",
       "      <td>0</td>\n",
       "    </tr>\n",
       "    <tr>\n",
       "      <th>7</th>\n",
       "      <td>0</td>\n",
       "      <td>0</td>\n",
       "    </tr>\n",
       "    <tr>\n",
       "      <th>8</th>\n",
       "      <td>1</td>\n",
       "      <td>1</td>\n",
       "    </tr>\n",
       "    <tr>\n",
       "      <th>9</th>\n",
       "      <td>1</td>\n",
       "      <td>1</td>\n",
       "    </tr>\n",
       "  </tbody>\n",
       "</table>\n",
       "</div>"
      ],
      "text/plain": [
       "   scratch  scikit-learn\n",
       "0        1             1\n",
       "1        0             0\n",
       "2        0             0\n",
       "3        0             0\n",
       "4        0             0\n",
       "5        0             0\n",
       "6        0             0\n",
       "7        0             0\n",
       "8        1             1\n",
       "9        1             1"
      ]
     },
     "execution_count": 22,
     "metadata": {},
     "output_type": "execute_result"
    }
   ],
   "source": [
    "pd.DataFrame(data=[scratch_pred, y_pred_tree], index=['scratch','scikit-learn']).T"
   ]
  },
  {
   "cell_type": "markdown",
   "metadata": {},
   "source": [
    "テストデータでの予測は同じ結果になった。"
   ]
  },
  {
   "cell_type": "code",
   "execution_count": null,
   "metadata": {},
   "outputs": [],
   "source": []
  },
  {
   "cell_type": "code",
   "execution_count": 23,
   "metadata": {},
   "outputs": [
    {
     "data": {
      "image/png": "[encoded data removed]",
      "text/plain": [
       "<Figure size 432x288 with 1 Axes>"
      ]
     },
     "metadata": {
      "needs_background": "light"
     },
     "output_type": "display_data"
    }
   ],
   "source": [
    "# scikit-learn可視化\n",
    "decision_region(X_test,y_pred_tree,tr,step=0.01,title='scikit-learn', xlabel='X[:,0]', ylabel='X[:,1]', target_names=['l_node', 'r_node'])"
   ]
  },
  {
   "cell_type": "code",
   "execution_count": 24,
   "metadata": {},
   "outputs": [
    {
     "data": {
      "image/png": "[encoded data removed]",
      "text/plain": [
       "<Figure size 432x288 with 1 Axes>"
      ]
     },
     "metadata": {
      "needs_background": "light"
     },
     "output_type": "display_data"
    }
   ],
   "source": [
    "# scratch可視化\n",
    "decision_region(X_test,scratch_pred,tr,step=0.01,title='scratch', xlabel='X[:,0]', ylabel='X[:,1]', target_names=['l_node', 'r_node'])"
   ]
  },
  {
   "cell_type": "markdown",
   "metadata": {},
   "source": [
    "決定領域でも同じように引けている。"
   ]
  },
  {
   "cell_type": "markdown",
   "metadata": {},
   "source": [
    "# 【問題5】学習と推定\n",
    "機械学習スクラッチ入門のSprintで用意したシンプルデータセット2の2値分類に対してスクラッチ実装の学習と推定を行なってください。\n",
    "\n",
    "\n",
    "scikit-learnによる実装と比べ、正しく動いているかを確認してください。\n",
    "\n",
    "\n",
    "AccuracyやPrecision、Recallなどの指標値はscikit-learnを使用してください。\n",
    "\n"
   ]
  },
  {
   "cell_type": "markdown",
   "metadata": {},
   "source": [
    "### 【解答】指標値\n",
    "すでに問題4でやってしまったため、ここでは指標値を算出する。"
   ]
  },
  {
   "cell_type": "code",
   "execution_count": 25,
   "metadata": {},
   "outputs": [],
   "source": [
    "# 正解率とか出す関数\n",
    "def index_out(y, pred, label,outlist={}):\n",
    "    cm = confusion_matrix(y, pred)\n",
    "    ac = metrics.accuracy_score(y, pred)\n",
    "    pr = metrics.precision_score(y, pred)\n",
    "    rc = metrics.recall_score(y, pred)\n",
    "    f1 = metrics.f1_score(y, pred)\n",
    "\n",
    "    print('confusion matrix =', cm)\n",
    "    print('accuracy = ', ac)\n",
    "    print('precision = ', pr)\n",
    "    print('recall = ', rc)\n",
    "    print('f1 score = ', f1)\n",
    "\n",
    "    outlist[label] = [cm, ac, pr, rc, f1]\n",
    "    return outlist\n"
   ]
  },
  {
   "cell_type": "code",
   "execution_count": 26,
   "metadata": {},
   "outputs": [
    {
     "name": "stdout",
     "output_type": "stream",
     "text": [
      "confusion matrix = [[4 1]\n",
      " [3 2]]\n",
      "accuracy =  0.6\n",
      "precision =  0.6666666666666666\n",
      "recall =  0.4\n",
      "f1 score =  0.5\n",
      "confusion matrix = [[4 1]\n",
      " [3 2]]\n",
      "accuracy =  0.6\n",
      "precision =  0.6666666666666666\n",
      "recall =  0.4\n",
      "f1 score =  0.5\n"
     ]
    }
   ],
   "source": [
    "outlist={}\n",
    "outlist = index_out(y_test, scratch_pred, \"scratch\")\n",
    "outlist = index_out(y_test, y_pred_tree, \"scikit-learn\")"
   ]
  },
  {
   "cell_type": "markdown",
   "metadata": {},
   "source": [
    "各指標値は低いが、depth=1なので当然。しかしscikit-learnとは同じ数字になっており、スクラッチが上手く動いていると考えられる。"
   ]
  },
  {
   "cell_type": "markdown",
   "metadata": {},
   "source": [
    "# 【問題6】決定領域の可視化\n",
    "決定領域を可視化してください。\n",
    "\n"
   ]
  },
  {
   "cell_type": "markdown",
   "metadata": {},
   "source": [
    "### 【解答】可視化"
   ]
  },
  {
   "cell_type": "code",
   "execution_count": 27,
   "metadata": {},
   "outputs": [
    {
     "data": {
      "image/png": "[encoded data removed]",
      "text/plain": [
       "<Figure size 432x288 with 1 Axes>"
      ]
     },
     "metadata": {
      "needs_background": "light"
     },
     "output_type": "display_data"
    },
    {
     "data": {
      "image/png": "[encoded data removed]",
      "text/plain": [
       "<Figure size 432x288 with 1 Axes>"
      ]
     },
     "metadata": {
      "needs_background": "light"
     },
     "output_type": "display_data"
    }
   ],
   "source": [
    "# scikit-learn可視化\n",
    "decision_region(X_test,y_pred_tree,tr,step=0.01,title='scikit-learn', xlabel='X[:,0]', ylabel='X[:,1]', target_names=['l_node', 'r_node'])\n",
    "# scratch可視化\n",
    "decision_region(X_test,scratch_pred,tr,step=0.01,title='scratch', xlabel='X[:,0]', ylabel='X[:,1]', target_names=['l_node', 'r_node'])"
   ]
  },
  {
   "cell_type": "markdown",
   "metadata": {},
   "source": [
    "# 【問題7】（アドバンス課題）深さ2の決定木分類器クラスの作成\n",
    "深さが2の決定木分類器のクラスScratchDecesionTreeClassifierDepth2を作成してください。\n",
    "\n",
    "\n",
    "深さ2とは空間の分割を2回行うことを指します。\n",
    "\n",
    "\n",
    "《ヒント》\n",
    "\n",
    "\n",
    "各ノードをインスタンスとして扱うと、任意の深さへの拡張が行いやすくなります。\n",
    "\n"
   ]
  },
  {
   "cell_type": "markdown",
   "metadata": {},
   "source": [
    "### 【解答】問題7用のクラス"
   ]
  },
  {
   "cell_type": "code",
   "execution_count": 38,
   "metadata": {},
   "outputs": [],
   "source": [
    "class _Node:\n",
    "    \"\"\"決定木のノードを生成するクラス\"\"\"\n",
    "    \n",
    "    def __init__(self, depth=0):\n",
    "        \"\"\"初期化処理\n",
    "        depth : 現在の階層\n",
    "        left : 左の子ノード\n",
    "        right : 右の子ノード\n",
    "        feature : 分割する特徴量のcolumn番号\n",
    "        threshold : 分割する閾値\n",
    "        label : クラス\n",
    "        num_data : データの行数\n",
    "        ig : 分割指標(情報利得)\n",
    "        \"\"\"\n",
    "        self.depth = depth\n",
    "        self.l_node = None\n",
    "        self.r_node = None\n",
    "        self.feature = None\n",
    "        self.threshold = None\n",
    "        self.label = None\n",
    "        self.n_data = None\n",
    "        self.ig = None\n",
    "        \n",
    "    def build(self, data, target, max_depth):\n",
    "        \"\"\"木の構築を行う\n",
    "        data : ノードに与えられたデータ\n",
    "        target : データの分類クラス\n",
    "        \n",
    "        \"\"\"\n",
    "        \n",
    "\n",
    "        self.max_depth = max_depth\n",
    "        print(\"mydepth : {}\".format(self.depth))\n",
    "        print(\"max_depth :{}\".format(self.max_depth))\n",
    "        self.n_data = data.shape[0]\n",
    "        n_features = data.shape[1]\n",
    "        \n",
    "        # 自分のクラスを設定\n",
    "        classes, counts = np.unique(target, return_counts=True) \n",
    "        self.label = counts.argmax() \n",
    "        \n",
    "        # max_depthに到達してたら終わり\n",
    "        if self.depth >= max_depth:\n",
    "            print(\"Reach for the max depth.\")\n",
    "            return\n",
    "        \n",
    "        # 全部同一クラスでも終わり\n",
    "        if len(classes) == 1:\n",
    "            print(\"This node is a single class\")\n",
    "            return\n",
    "        \n",
    "        \n",
    "        # 最良の分割を記憶する変数\n",
    "        best_ig = 0.0\n",
    "        best_feature = None\n",
    "        best_threshold =None\n",
    "\n",
    "        # 自分の不純度\n",
    "        self.gini = self._ginis_diversity_index(target)\n",
    "        \n",
    "        \n",
    "        # 特徴量ごとに分割していく\n",
    "        for f in range(n_features):\n",
    "            for threshold in data:\n",
    "                index_classifier = data[:,f] <  threshold[f]\n",
    "                target_l = target[index_classifier]\n",
    "                target_r = target[~index_classifier]\n",
    "\n",
    "                # 分割後の不純度から情報利得を計算\n",
    "                ig = self._information_gain(target_l, target_r)\n",
    "                \n",
    "                # より良い分割であれば保存\n",
    "                if ig > best_ig:\n",
    "                    best_ig = ig\n",
    "                    best_feature = f\n",
    "                    best_threshold = threshold\n",
    "                l_unique_class, l_counts = np.unique(target_l, return_counts=True) # arrayの中のクラスとそれぞれの個数を抽出\n",
    "                r_unique_class, r_counts = np.unique(target_r, return_counts=True) # arrayの中のクラスとそれぞれの個数を抽出\n",
    "                #print(\"left_unique: {}, l_counts :{}, r_unique_class :{}, r_counts :{}\".format(l_unique_class, l_counts, r_unique_class, r_counts))\n",
    "                #print(\"feature : {}, threshold :{}, ig :{}, left_shape[0] :{}, right_shape[0] :{}\".format(f, threshold,ig,  target_l.shape[0],target_r.shape[0]))\n",
    "                    \n",
    "        \n",
    "        # 最良の分割をインスタンス化\n",
    "        self.ig = best_ig\n",
    "        self.feature = best_feature\n",
    "        self.threshold = best_threshold\n",
    "        \n",
    "        \n",
    "        #print(\"best_threshold :{}\".format(best_threshold))\n",
    "        #print(\"best_feature :{}\".format(best_feature))\n",
    "        #print(\"best_ig :{}\".format(best_ig))\n",
    "        \n",
    "        \n",
    "        # 次のノードに進むための準備\n",
    "        \n",
    "        # dataとtargetを実際に分割する\n",
    "        #print(data[:,self.feature])\n",
    "        #print(self.threshold[self.feature])\n",
    "        index_classifier = data[:,self.feature] < self.threshold[self.feature]\n",
    "        data_l = data[index_classifier]\n",
    "        data_r = data[~index_classifier]\n",
    "        target_l = target[index_classifier]\n",
    "        target_r = target[~index_classifier]\n",
    "        \n",
    "        _, l_counts = np.unique(target_l, return_counts=True)\n",
    "        _, r_counts = np.unique(target_r, return_counts=True)\n",
    "        self.l_label = l_counts.argmax() \n",
    "        self.r_label = r_counts.argmax() \n",
    "        \n",
    "        # 次の深さ\n",
    "        next_depth = self.depth + 1\n",
    "        \n",
    "        # 子ノードをインスタンス化して再帰処理\n",
    "        self.l_node = _Node(next_depth)\n",
    "        self.l_node.build(data_l, target_l, max_depth)\n",
    "        \n",
    "        self.r_node = _Node(next_depth)\n",
    "        self.r_node.build(data_r, target_r, max_depth)\n",
    "        \n",
    "        \n",
    "        \n",
    "    \n",
    "    # ジニ不純度を計算する関数\n",
    "    def _ginis_diversity_index(self, target):\n",
    "        _, counts = np.unique(target, return_counts=True) # arrayの中のクラスとそれぞれの個数を抽出\n",
    "        n_all = len(target) # arrayのサンプル総数\n",
    "\n",
    "        # giniの計算\n",
    "        gini = 1 - (np.sum((counts / n_all)**2))\n",
    "\n",
    "        return gini\n",
    "    \n",
    "    \n",
    "    # 情報利得を計算する関数\n",
    "    def _information_gain(self, left, right):\n",
    "        n_l = left.shape[0] # arrayのサンプル総数\n",
    "        n_r = right.shape[0] # arrayのサンプル総数\n",
    "\n",
    "        left_gini = self._ginis_diversity_index(left)\n",
    "        right_gini = self._ginis_diversity_index(right)\n",
    "        \n",
    "        ig = self.gini - n_l / self.n_data * left_gini - n_r / self.n_data * right_gini\n",
    "\n",
    "        return ig\n",
    "    \n",
    "    \n",
    "    def predict(self, d):\n",
    "        \"\"\"\n",
    "        入力データ(単一)の分類先クラスを返す\n",
    "        \"\"\"\n",
    "        #pred = np.where(data < self.threshold, self.l_label, self.r_label)[:,self.feature]\n",
    "        \n",
    "        #print(d[self.feature])\n",
    "        \n",
    "        #print(\"判定する特徴量 :{}\".format(d))\n",
    "        #print(\"現在のラベル :{}\".format(self.label))\n",
    "        #print(\"現在のself.feature:{}\".format(self.feature))\n",
    "        #print(\"現在のself.depth:{}\".format(self.depth))\n",
    "        \n",
    "        \n",
    "        if self.feature == None or self.depth == self.max_depth:\n",
    "            return self.label\n",
    "        \n",
    "        else:\n",
    "            if d[self.feature] < self.threshold[self.feature]:\n",
    "                #print(self.feature)\n",
    "                return self.l_node.predict(d)\n",
    "            else:\n",
    "                return self.r_node.predict(d)\n",
    "        \n",
    "        \n",
    "class ScratchDecesionTreeClassifierDepth2:\n",
    "    \n",
    "    def __init__(self, max_depth=None):\n",
    "        self.root_node = None\n",
    "        self.max_depth = max_depth\n",
    "            \n",
    "            \n",
    "    # メイン部分\n",
    "    def fit(self, data, target):\n",
    "        \"\"\"学習を行い決定木を構築する\n",
    "        data : 学習データ\n",
    "        target : データの分類クラス\n",
    "            \n",
    "        \"\"\"\n",
    "        self.root_node = _Node()\n",
    "        self.root_node.build(data, target, self.max_depth)\n",
    "            \n",
    "            \n",
    "    # 推測する\n",
    "    def predict(self, data):\n",
    "        \"\"\"\n",
    "        決定木分類器を使いラベルを推定する\n",
    "        \"\"\"\n",
    "        ans = []\n",
    "        \n",
    "        for d in data:\n",
    "            ans.append(self.root_node.predict(d))\n",
    "        return np.array(ans)\n",
    "            \n",
    "            \n",
    "\n",
    "        \n",
    "    "
   ]
  },
  {
   "cell_type": "code",
   "execution_count": 39,
   "metadata": {},
   "outputs": [],
   "source": [
    "depth2 = ScratchDecesionTreeClassifierDepth2(max_depth=2)\n"
   ]
  },
  {
   "cell_type": "code",
   "execution_count": 40,
   "metadata": {},
   "outputs": [
    {
     "name": "stdout",
     "output_type": "stream",
     "text": [
      "mydepth : 0\n",
      "max_depth :2\n",
      "mydepth : 1\n",
      "max_depth :2\n",
      "mydepth : 2\n",
      "max_depth :2\n",
      "Reach for the max depth.\n",
      "mydepth : 2\n",
      "max_depth :2\n",
      "Reach for the max depth.\n",
      "mydepth : 1\n",
      "max_depth :2\n",
      "mydepth : 2\n",
      "max_depth :2\n",
      "Reach for the max depth.\n",
      "mydepth : 2\n",
      "max_depth :2\n",
      "Reach for the max depth.\n"
     ]
    }
   ],
   "source": [
    "depth2.fit(X_train,y_train)"
   ]
  },
  {
   "cell_type": "code",
   "execution_count": 41,
   "metadata": {},
   "outputs": [
    {
     "data": {
      "text/plain": [
       "array([1, 0, 0, 0, 0, 0, 0, 0, 1, 1])"
      ]
     },
     "execution_count": 41,
     "metadata": {},
     "output_type": "execute_result"
    }
   ],
   "source": [
    "pred = depth2.predict(X_test)\n",
    "pred"
   ]
  },
  {
   "cell_type": "code",
   "execution_count": 42,
   "metadata": {},
   "outputs": [
    {
     "data": {
      "image/png": "[encoded data removed]",
      "text/plain": [
       "<Figure size 432x288 with 1 Axes>"
      ]
     },
     "metadata": {
      "needs_background": "light"
     },
     "output_type": "display_data"
    }
   ],
   "source": [
    "# 可視化\n",
    "decision_region(X_test,pred, depth2,step=0.01,title='depth2', xlabel='X[:,0]', ylabel='X[:,1]', target_names=['l_node', 'r_node'])"
   ]
  },
  {
   "cell_type": "markdown",
   "metadata": {},
   "source": [
    "### 【検証】scikit-learnとの比較、可視化"
   ]
  },
  {
   "cell_type": "code",
   "execution_count": 43,
   "metadata": {},
   "outputs": [
    {
     "name": "stdout",
     "output_type": "stream",
     "text": [
      "[1 0 0 0 0 0 0 0 1 1]\n",
      "[1 1 1 0 0 0 1 0 0 1]\n"
     ]
    }
   ],
   "source": [
    "# scikit-learnで推測\n",
    "tr2 = tree.DecisionTreeClassifier(max_depth=2).fit(X_train, y_train)\n",
    "y_pred_tree_2 = tr2.predict(X_test)\n",
    "\n",
    "print(y_pred_tree_2)\n",
    "print(y_test)"
   ]
  },
  {
   "cell_type": "code",
   "execution_count": 44,
   "metadata": {},
   "outputs": [
    {
     "data": {
      "image/png": "[encoded data removed]",
      "text/plain": [
       "<Figure size 432x288 with 1 Axes>"
      ]
     },
     "metadata": {
      "needs_background": "light"
     },
     "output_type": "display_data"
    }
   ],
   "source": [
    "# scikit-learn可視化\n",
    "decision_region(X_test,y_pred_tree_2,tr2,step=0.01,title='scikit-learn', xlabel='X[:,0]', ylabel='X[:,1]', target_names=['l_node', 'r_node'])"
   ]
  },
  {
   "cell_type": "markdown",
   "metadata": {},
   "source": [
    "max_depth2でも大体同じ結果になった。"
   ]
  },
  {
   "cell_type": "markdown",
   "metadata": {},
   "source": [
    "# 【問題8】（アドバンス課題）深さに制限のない決定木分類器クラスの作成\n",
    "深さに制限のない決定木分類器のクラスScratchDecesionTreeClassifierDepthInfを作成してください。\n",
    "\n",
    "\n",
    "任意の深さを指定できるようにするとともに、指定しない場合は全ての葉ノードがジニ不純度0となるまで続けられるようにもしてください。"
   ]
  },
  {
   "cell_type": "markdown",
   "metadata": {},
   "source": [
    "### 【解答】問題8用のクラス"
   ]
  },
  {
   "cell_type": "code",
   "execution_count": 45,
   "metadata": {},
   "outputs": [],
   "source": [
    "class _Node:\n",
    "    \"\"\"決定木のノードを生成するクラス\"\"\"\n",
    "    \n",
    "    def __init__(self, depth=0):\n",
    "        \"\"\"初期化処理\n",
    "        depth : 現在の階層\n",
    "        left : 左の子ノード\n",
    "        right : 右の子ノード\n",
    "        feature : 分割する特徴量のcolumn番号\n",
    "        threshold : 分割する閾値\n",
    "        label : クラス\n",
    "        num_data : データの行数\n",
    "        ig : 分割指標(情報利得)\n",
    "        \"\"\"\n",
    "        self.depth = depth\n",
    "        self.l_node = None\n",
    "        self.r_node = None\n",
    "        \n",
    "        self.threshold = None\n",
    "        self.label = None\n",
    "        self.n_data = None\n",
    "        self.ig = None\n",
    "        \n",
    "    def build(self, data, target, max_depth):\n",
    "        \"\"\"木の構築を行う\n",
    "        data : ノードに与えられたデータ\n",
    "        target : データの分類クラス\n",
    "        \n",
    "        \"\"\"\n",
    "        \n",
    "        self.feature = None\n",
    "        self.max_depth = max_depth\n",
    "        #print(\"mydepth : {}\".format(self.depth))\n",
    "        #print(\"max_depth :{}\".format(self.max_depth))\n",
    "        self.n_data = data.shape[0]\n",
    "        n_features = data.shape[1]\n",
    "        \n",
    "        # 自分のクラスを設定\n",
    "        classes, counts = np.unique(target, return_counts=True) \n",
    "        if len(classes) == 1:\n",
    "            self.label = classes[0]\n",
    "        else:\n",
    "            self.label = counts.argmax() \n",
    "\n",
    "        #print(\"==================\")\n",
    "        #print(\"現在のノードのサンプル数:{}\".format(self.n_data))\n",
    "        #print(\"現在のノードのクラス比率:{}\".format(counts))\n",
    "        #print(\"現在のノードの深さ:{}\".format(self.depth))\n",
    "        #print(\"現在のノードのクラス:{}\".format(self.label))\n",
    "        #print(\"==================\")\n",
    "        \n",
    "        \n",
    "        # max_depthに到達してたら終わり\n",
    "        if max_depth == None:\n",
    "            pass\n",
    "        elif self.depth >= max_depth:\n",
    "            #print(\"Reach for the max depth.\")\n",
    "            return\n",
    "        \n",
    "        # 全部同一クラスでも終わり\n",
    "        if len(classes) == 1:\n",
    "            #print(\"This node is a single class\")\n",
    "            return\n",
    "        \n",
    "        \n",
    "        # 最良の分割を記憶する変数\n",
    "        best_ig = 0.0\n",
    "        best_feature = None\n",
    "        best_threshold =None\n",
    "\n",
    "        # 自分の不純度\n",
    "        self.gini = self._ginis_diversity_index(target)\n",
    "        \n",
    "        \n",
    "        # 特徴量ごとに分割していく\n",
    "        for f in range(n_features):\n",
    "            for threshold in data:\n",
    "                index_classifier = data[:,f] <  threshold[f]\n",
    "                target_l = target[index_classifier]\n",
    "                target_r = target[~index_classifier]\n",
    "\n",
    "                # 分割後の不純度から情報利得を計算\n",
    "                ig = self._information_gain(target_l, target_r)\n",
    "                \n",
    "                # より良い分割であれば保存\n",
    "                if ig > best_ig:\n",
    "                    best_ig = ig\n",
    "                    best_feature = f\n",
    "                    best_threshold = threshold\n",
    "                l_unique_class, l_counts = np.unique(target_l, return_counts=True) # arrayの中のクラスとそれぞれの個数を抽出\n",
    "                r_unique_class, r_counts = np.unique(target_r, return_counts=True) # arrayの中のクラスとそれぞれの個数を抽出\n",
    "                #print(\"left_unique: {}, l_counts :{}, r_unique_class :{}, r_counts :{}\".format(l_unique_class, l_counts, r_unique_class, r_counts))\n",
    "                #print(\"feature : {}, threshold :{}, ig :{}, left_shape[0] :{}, right_shape[0] :{}\".format(f, threshold,ig,  target_l.shape[0],target_r.shape[0]))\n",
    "                    \n",
    "        \n",
    "        # 最良の分割をインスタンス化\n",
    "        self.ig = best_ig\n",
    "        self.feature = best_feature\n",
    "        self.threshold = best_threshold\n",
    "\n",
    "        \n",
    "        #print(\"best_threshold :{}\".format(best_threshold))\n",
    "        #print(\"best_feature :{}\".format(best_feature))\n",
    "        #print(\"best_ig :{}\".format(best_ig))\n",
    "        \n",
    "        \n",
    "        # 次のノードに進むための準備\n",
    "        \n",
    "        # dataとtargetを実際に分割する\n",
    "        #print(data[:,self.feature])\n",
    "        #print(self.threshold[self.feature])\n",
    "        index_classifier = data[:,self.feature] < self.threshold[self.feature]\n",
    "        data_l = data[index_classifier]\n",
    "        data_r = data[~index_classifier]\n",
    "        target_l = target[index_classifier]\n",
    "        target_r = target[~index_classifier]\n",
    "        \n",
    "        _, l_counts = np.unique(target_l, return_counts=True)\n",
    "        _, r_counts = np.unique(target_r, return_counts=True)\n",
    "        self.l_label = l_counts.argmax() \n",
    "        self.r_label = r_counts.argmax() \n",
    "        \n",
    "        # 次の深さ\n",
    "        next_depth = self.depth + 1\n",
    "        \n",
    "        # 子ノードをインスタンス化して再帰処理\n",
    "        self.l_node = _Node(next_depth)\n",
    "        self.l_node.build(data_l, target_l, max_depth)\n",
    "        \n",
    "        self.r_node = _Node(next_depth)\n",
    "        self.r_node.build(data_r, target_r, max_depth)\n",
    "        \n",
    "        \n",
    "        \n",
    "    \n",
    "    # ジニ不純度を計算する関数\n",
    "    def _ginis_diversity_index(self, target):\n",
    "        _, counts = np.unique(target, return_counts=True) # arrayの中のクラスとそれぞれの個数を抽出\n",
    "        n_all = len(target) # arrayのサンプル総数\n",
    "\n",
    "        # giniの計算\n",
    "        gini = 1 - (np.sum((counts / n_all)**2))\n",
    "\n",
    "        return gini\n",
    "    \n",
    "    \n",
    "    # 情報利得を計算する関数\n",
    "    def _information_gain(self, left, right):\n",
    "        n_l = left.shape[0] # arrayのサンプル総数\n",
    "        n_r = right.shape[0] # arrayのサンプル総数\n",
    "\n",
    "        left_gini = self._ginis_diversity_index(left)\n",
    "        right_gini = self._ginis_diversity_index(right)\n",
    "        \n",
    "        ig = self.gini - n_l / self.n_data * left_gini - n_r / self.n_data * right_gini\n",
    "\n",
    "        return ig\n",
    "    \n",
    "    \n",
    "    def predict(self, d):\n",
    "        \"\"\"\n",
    "        入力データ(単一)の分類先クラスを返す\n",
    "        \"\"\"\n",
    "        #pred = np.where(data < self.threshold, self.l_label, self.r_label)[:,self.feature]\n",
    "        \n",
    "        #print(d[self.feature])\n",
    "        \n",
    "        #print(\"判定する特徴量 :{}\".format(d[self.feature]))\n",
    "        #print(\"現在のラベル :{}\".format(self.label))\n",
    "        #print(\"現在のself.feature:{}\".format(self.feature))\n",
    "        #print(\"現在のself.depth:{}\".format(self.depth))\n",
    "        \n",
    "        \n",
    "        if self.feature == None or self.depth == self.max_depth:\n",
    "            return self.label\n",
    "        \n",
    "        else:\n",
    "            if d[self.feature] < self.threshold[self.feature]:\n",
    "                #print(self.feature)\n",
    "                return self.l_node.predict(d)\n",
    "            else:\n",
    "                return self.r_node.predict(d)\n",
    "        \n",
    "        \n",
    "class ScratchDecesionTreeClassifierinf:\n",
    "    \n",
    "    def __init__(self, max_depth=None):\n",
    "        self.root_node = None\n",
    "        self.max_depth = max_depth\n",
    "            \n",
    "            \n",
    "    # メイン部分\n",
    "    def fit(self, data, target):\n",
    "        \"\"\"学習を行い決定木を構築する\n",
    "        data : 学習データ\n",
    "        target : データの分類クラス\n",
    "            \n",
    "        \"\"\"\n",
    "        self.root_node = _Node()\n",
    "        self.root_node.build(data, target, self.max_depth)\n",
    "            \n",
    "            \n",
    "    # 推測する\n",
    "    def predict(self, data):\n",
    "        \"\"\"\n",
    "        決定木分類器を使いラベルを推定する\n",
    "        \"\"\"\n",
    "        ans = []\n",
    "        \n",
    "        for d in data:\n",
    "            ans.append(self.root_node.predict(d))\n",
    "        return np.array(ans)\n",
    "            \n",
    "            \n",
    "\n",
    "        \n",
    "    "
   ]
  },
  {
   "cell_type": "code",
   "execution_count": 46,
   "metadata": {},
   "outputs": [],
   "source": [
    "final = ScratchDecesionTreeClassifier()"
   ]
  },
  {
   "cell_type": "code",
   "execution_count": 47,
   "metadata": {},
   "outputs": [],
   "source": [
    "final.fit(X_train, y_train)"
   ]
  },
  {
   "cell_type": "code",
   "execution_count": 48,
   "metadata": {},
   "outputs": [
    {
     "data": {
      "text/plain": [
       "array([1, 1, 1, 0, 0, 1, 0, 0, 0, 1])"
      ]
     },
     "execution_count": 48,
     "metadata": {},
     "output_type": "execute_result"
    }
   ],
   "source": [
    "predict = final.predict(X_test)\n",
    "predict"
   ]
  },
  {
   "cell_type": "code",
   "execution_count": null,
   "metadata": {},
   "outputs": [],
   "source": []
  },
  {
   "cell_type": "markdown",
   "metadata": {},
   "source": [
    "### 【検証】scikit-learnとの比較、可視化"
   ]
  },
  {
   "cell_type": "code",
   "execution_count": 49,
   "metadata": {},
   "outputs": [
    {
     "data": {
      "text/plain": [
       "array([1, 1, 1, 0, 0, 1, 0, 0, 0, 1])"
      ]
     },
     "execution_count": 49,
     "metadata": {},
     "output_type": "execute_result"
    }
   ],
   "source": [
    "# scikit-learnで推測\n",
    "trinf = tree.DecisionTreeClassifier().fit(X_train, y_train)\n",
    "y_pred_tree_inf = trinf.predict(X_test)\n",
    "\n",
    "y_pred_tree_inf"
   ]
  },
  {
   "cell_type": "code",
   "execution_count": 50,
   "metadata": {},
   "outputs": [
    {
     "data": {
      "text/html": [
       "<div>\n",
       "<style scoped>\n",
       "    .dataframe tbody tr th:only-of-type {\n",
       "        vertical-align: middle;\n",
       "    }\n",
       "\n",
       "    .dataframe tbody tr th {\n",
       "        vertical-align: top;\n",
       "    }\n",
       "\n",
       "    .dataframe thead th {\n",
       "        text-align: right;\n",
       "    }\n",
       "</style>\n",
       "<table border=\"1\" class=\"dataframe\">\n",
       "  <thead>\n",
       "    <tr style=\"text-align: right;\">\n",
       "      <th></th>\n",
       "      <th>y_test</th>\n",
       "      <th>scikit-learn</th>\n",
       "      <th>scratch</th>\n",
       "    </tr>\n",
       "  </thead>\n",
       "  <tbody>\n",
       "    <tr>\n",
       "      <th>0</th>\n",
       "      <td>1</td>\n",
       "      <td>1</td>\n",
       "      <td>1</td>\n",
       "    </tr>\n",
       "    <tr>\n",
       "      <th>1</th>\n",
       "      <td>1</td>\n",
       "      <td>1</td>\n",
       "      <td>1</td>\n",
       "    </tr>\n",
       "    <tr>\n",
       "      <th>2</th>\n",
       "      <td>1</td>\n",
       "      <td>1</td>\n",
       "      <td>1</td>\n",
       "    </tr>\n",
       "    <tr>\n",
       "      <th>3</th>\n",
       "      <td>0</td>\n",
       "      <td>0</td>\n",
       "      <td>0</td>\n",
       "    </tr>\n",
       "    <tr>\n",
       "      <th>4</th>\n",
       "      <td>0</td>\n",
       "      <td>0</td>\n",
       "      <td>0</td>\n",
       "    </tr>\n",
       "    <tr>\n",
       "      <th>5</th>\n",
       "      <td>0</td>\n",
       "      <td>1</td>\n",
       "      <td>1</td>\n",
       "    </tr>\n",
       "    <tr>\n",
       "      <th>6</th>\n",
       "      <td>1</td>\n",
       "      <td>0</td>\n",
       "      <td>0</td>\n",
       "    </tr>\n",
       "    <tr>\n",
       "      <th>7</th>\n",
       "      <td>0</td>\n",
       "      <td>0</td>\n",
       "      <td>0</td>\n",
       "    </tr>\n",
       "    <tr>\n",
       "      <th>8</th>\n",
       "      <td>0</td>\n",
       "      <td>0</td>\n",
       "      <td>0</td>\n",
       "    </tr>\n",
       "    <tr>\n",
       "      <th>9</th>\n",
       "      <td>1</td>\n",
       "      <td>1</td>\n",
       "      <td>1</td>\n",
       "    </tr>\n",
       "  </tbody>\n",
       "</table>\n",
       "</div>"
      ],
      "text/plain": [
       "   y_test  scikit-learn  scratch\n",
       "0       1             1        1\n",
       "1       1             1        1\n",
       "2       1             1        1\n",
       "3       0             0        0\n",
       "4       0             0        0\n",
       "5       0             1        1\n",
       "6       1             0        0\n",
       "7       0             0        0\n",
       "8       0             0        0\n",
       "9       1             1        1"
      ]
     },
     "execution_count": 50,
     "metadata": {},
     "output_type": "execute_result"
    }
   ],
   "source": [
    "pd.DataFrame(data=[y_test,y_pred_tree_inf, predict], index=[\"y_test\", \"scikit-learn\", \"scratch\"]).T"
   ]
  },
  {
   "cell_type": "markdown",
   "metadata": {},
   "source": [
    "__index5,6を誤判定しているが、scikit-learnと同じ挙動なので、むしろちゃんとスクラッチできていると思われる。__"
   ]
  },
  {
   "cell_type": "code",
   "execution_count": 52,
   "metadata": {},
   "outputs": [
    {
     "data": {
      "image/png": "[encoded data removed]",
      "text/plain": [
       "<Figure size 432x288 with 1 Axes>"
      ]
     },
     "metadata": {
      "needs_background": "light"
     },
     "output_type": "display_data"
    },
    {
     "data": {
      "image/png": "[encoded data removed]",
      "text/plain": [
       "<Figure size 432x288 with 1 Axes>"
      ]
     },
     "metadata": {
      "needs_background": "light"
     },
     "output_type": "display_data"
    },
    {
     "data": {
      "image/png": "[encoded data removed]",
      "text/plain": [
       "<Figure size 432x288 with 1 Axes>"
      ]
     },
     "metadata": {
      "needs_background": "light"
     },
     "output_type": "display_data"
    }
   ],
   "source": [
    "# y_testをプロット\n",
    "plt.title(\"test data\")\n",
    "plt.scatter(X_test[y_test == 0][:, 0], X_test[y_test == 0][:, 1], color='r', label='0')\n",
    "plt.scatter(X_test[y_test == 1][:, 0], X_test[y_test == 1][:, 1], color='b', label='1')\n",
    "plt.legend()\n",
    "plt.show()\n",
    "\n",
    "\n",
    "# scikit-learn可視化\n",
    "decision_region(X_test,y_pred_tree_inf,trinf,step=0.01,title='scikit-learn', xlabel='X[:,0]', ylabel='X[:,1]', target_names=['0', '1'])\n",
    "# scratch可視化\n",
    "decision_region(X_test,predict,final,step=0.01,title='scratch', xlabel='X[:,0]', ylabel='X[:,1]', target_names=['0', '1'])"
   ]
  },
  {
   "cell_type": "markdown",
   "metadata": {},
   "source": [
    "scikit-learnとほぼ同じ結果が得られた。"
   ]
  },
  {
   "cell_type": "code",
   "execution_count": 55,
   "metadata": {},
   "outputs": [
    {
     "name": "stdout",
     "output_type": "stream",
     "text": [
      "confusion matrix = [[4 1]\n",
      " [3 2]]\n",
      "accuracy =  0.6\n",
      "precision =  0.6666666666666666\n",
      "recall =  0.4\n",
      "f1 score =  0.5\n",
      "confusion matrix = [[4 1]\n",
      " [3 2]]\n",
      "accuracy =  0.6\n",
      "precision =  0.6666666666666666\n",
      "recall =  0.4\n",
      "f1 score =  0.5\n",
      "confusion matrix = [[4 1]\n",
      " [1 4]]\n",
      "accuracy =  0.8\n",
      "precision =  0.8\n",
      "recall =  0.8\n",
      "f1 score =  0.8000000000000002\n",
      "confusion matrix = [[4 1]\n",
      " [1 4]]\n",
      "accuracy =  0.8\n",
      "precision =  0.8\n",
      "recall =  0.8\n",
      "f1 score =  0.8000000000000002\n"
     ]
    }
   ],
   "source": [
    "outlist = index_out(y_test, pred, \"scratch_depth2\")\n",
    "outlist = index_out(y_test, y_pred_tree_2, \"scikit-learn_depth2\")\n",
    "outlist = index_out(y_test, predict, \"scratch_inf\")\n",
    "outlist = index_out(y_test, y_pred_tree_inf, \"scikit-learn_inf\")"
   ]
  },
  {
   "cell_type": "code",
   "execution_count": 58,
   "metadata": {},
   "outputs": [
    {
     "data": {
      "text/html": [
       "<div>\n",
       "<style scoped>\n",
       "    .dataframe tbody tr th:only-of-type {\n",
       "        vertical-align: middle;\n",
       "    }\n",
       "\n",
       "    .dataframe tbody tr th {\n",
       "        vertical-align: top;\n",
       "    }\n",
       "\n",
       "    .dataframe thead th {\n",
       "        text-align: right;\n",
       "    }\n",
       "</style>\n",
       "<table border=\"1\" class=\"dataframe\">\n",
       "  <thead>\n",
       "    <tr style=\"text-align: right;\">\n",
       "      <th></th>\n",
       "      <th>scratch</th>\n",
       "      <th>scikit-learn</th>\n",
       "      <th>scratch_depth2</th>\n",
       "      <th>scikit-learn_depth2</th>\n",
       "      <th>scratch_inf</th>\n",
       "      <th>scikit-learn_inf</th>\n",
       "    </tr>\n",
       "  </thead>\n",
       "  <tbody>\n",
       "    <tr>\n",
       "      <th>0</th>\n",
       "      <td>[[4, 1], [3, 2]]</td>\n",
       "      <td>[[4, 1], [3, 2]]</td>\n",
       "      <td>[[4, 1], [3, 2]]</td>\n",
       "      <td>[[4, 1], [3, 2]]</td>\n",
       "      <td>[[4, 1], [1, 4]]</td>\n",
       "      <td>[[4, 1], [1, 4]]</td>\n",
       "    </tr>\n",
       "    <tr>\n",
       "      <th>1</th>\n",
       "      <td>0.6</td>\n",
       "      <td>0.6</td>\n",
       "      <td>0.6</td>\n",
       "      <td>0.6</td>\n",
       "      <td>0.8</td>\n",
       "      <td>0.8</td>\n",
       "    </tr>\n",
       "    <tr>\n",
       "      <th>2</th>\n",
       "      <td>0.667</td>\n",
       "      <td>0.667</td>\n",
       "      <td>0.667</td>\n",
       "      <td>0.667</td>\n",
       "      <td>0.8</td>\n",
       "      <td>0.8</td>\n",
       "    </tr>\n",
       "    <tr>\n",
       "      <th>3</th>\n",
       "      <td>0.4</td>\n",
       "      <td>0.4</td>\n",
       "      <td>0.4</td>\n",
       "      <td>0.4</td>\n",
       "      <td>0.8</td>\n",
       "      <td>0.8</td>\n",
       "    </tr>\n",
       "    <tr>\n",
       "      <th>4</th>\n",
       "      <td>0.5</td>\n",
       "      <td>0.5</td>\n",
       "      <td>0.5</td>\n",
       "      <td>0.5</td>\n",
       "      <td>0.8</td>\n",
       "      <td>0.8</td>\n",
       "    </tr>\n",
       "  </tbody>\n",
       "</table>\n",
       "</div>"
      ],
      "text/plain": [
       "            scratch      scikit-learn    scratch_depth2 scikit-learn_depth2  \\\n",
       "0  [[4, 1], [3, 2]]  [[4, 1], [3, 2]]  [[4, 1], [3, 2]]    [[4, 1], [3, 2]]   \n",
       "1               0.6               0.6               0.6                 0.6   \n",
       "2             0.667             0.667             0.667               0.667   \n",
       "3               0.4               0.4               0.4                 0.4   \n",
       "4               0.5               0.5               0.5                 0.5   \n",
       "\n",
       "        scratch_inf  scikit-learn_inf  \n",
       "0  [[4, 1], [1, 4]]  [[4, 1], [1, 4]]  \n",
       "1               0.8               0.8  \n",
       "2               0.8               0.8  \n",
       "3               0.8               0.8  \n",
       "4               0.8               0.8  "
      ]
     },
     "execution_count": 58,
     "metadata": {},
     "output_type": "execute_result"
    }
   ],
   "source": [
    "result = pd.DataFrame(outlist)\n",
    "result"
   ]
  },
  {
   "cell_type": "code",
   "execution_count": null,
   "metadata": {},
   "outputs": [],
   "source": []
  }
 ],
 "metadata": {
  "kernelspec": {
   "display_name": "Python 3",
   "language": "python",
   "name": "python3"
  },
  "language_info": {
   "codemirror_mode": {
    "name": "ipython",
    "version": 3
   },
   "file_extension": ".py",
   "mimetype": "text/x-python",
   "name": "python",
   "nbconvert_exporter": "python",
   "pygments_lexer": "ipython3",
   "version": "3.7.4"
  },
  "toc": {
   "base_numbering": 1,
   "nav_menu": {},
   "number_sections": true,
   "sideBar": true,
   "skip_h1_title": false,
   "title_cell": "Table of Contents",
   "title_sidebar": "Contents",
   "toc_cell": false,
   "toc_position": {},
   "toc_section_display": true,
   "toc_window_display": true
  }
 },
 "nbformat": 4,
 "nbformat_minor": 4
}
