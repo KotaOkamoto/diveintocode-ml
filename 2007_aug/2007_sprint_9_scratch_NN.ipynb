{
 "cells": [
  {
   "cell_type": "code",
   "execution_count": 1,
   "metadata": {},
   "outputs": [],
   "source": [
    "# インポート\n",
    "import numpy as np\n",
    "import pandas as pd\n",
    "import matplotlib.pyplot as plt\n",
    "import random \n",
    "import seaborn as sns\n",
    "from sklearn import metrics\n",
    "from sklearn.preprocessing import StandardScaler\n",
    "import scipy.sparse as sp\n",
    "import statsmodels.api as sm\n",
    "from decimal import Decimal, ROUND_HALF_UP\n",
    "from sklearn.metrics import mean_squared_error\n",
    "%matplotlib inline\n",
    "\n",
    "from sklearn.model_selection import train_test_split\n",
    "from sklearn.cluster import KMeans\n",
    "from mlxtend.plotting import plot_decision_regions\n",
    "from matplotlib.colors import ListedColormap\n",
    "\n",
    "from sklearn.metrics import accuracy_score\n",
    "from sklearn.metrics import precision_score\n",
    "from sklearn.metrics import recall_score\n",
    "from sklearn.metrics import f1_score\n",
    "from sklearn.metrics import confusion_matrix\n",
    "from sklearn.model_selection import cross_val_score\n",
    "\n",
    "from sklearn.linear_model import LinearRegression\n",
    "from sklearn.ensemble import RandomForestRegressor\n",
    "from sklearn.svm import SVR\n",
    "from sklearn.tree import DecisionTreeRegressor\n",
    "from sklearn.linear_model import SGDRegressor\n",
    "from sklearn.model_selection import KFold\n",
    "\n",
    "from sklearn import datasets\n",
    "from sklearn.ensemble import RandomForestClassifier\n",
    "from sklearn.model_selection import StratifiedKFold\n",
    "from sklearn.model_selection import cross_validate\n",
    "from sklearn.metrics import mean_squared_error\n",
    "from sklearn.pipeline import make_pipeline\n",
    "from sklearn.neighbors import KNeighborsRegressor\n",
    "from lightgbm import LGBMRegressor"
   ]
  },
  {
   "cell_type": "markdown",
   "metadata": {},
   "source": [
    "## データインポート(MNIST)"
   ]
  },
  {
   "cell_type": "markdown",
   "metadata": {},
   "source": [
    "ニューラルネットワークスクラッチの検証にはMNISTデータセットを使用します。各種ライブラリやサイトからダウンロードできますが、ここでは深層学習フレームワークのKerasを用います。以下のコードを実行すればデータセットをダウンロードし、展開まで行えます。\n",
    "\n",
    "\n",
    "### 《データセットをダウンロードするコード》"
   ]
  },
  {
   "cell_type": "code",
   "execution_count": 290,
   "metadata": {},
   "outputs": [],
   "source": [
    "import tensorflow as tf"
   ]
  },
  {
   "cell_type": "code",
   "execution_count": 291,
   "metadata": {},
   "outputs": [],
   "source": [
    "from keras.datasets import mnist"
   ]
  },
  {
   "cell_type": "code",
   "execution_count": 292,
   "metadata": {},
   "outputs": [],
   "source": [
    "(X_train, y_train), (X_test, y_test) = mnist.load_data()"
   ]
  },
  {
   "cell_type": "markdown",
   "metadata": {},
   "source": [
    "### 《MNISTとは？》\n",
    "\n",
    "\n",
    "画像分類のための定番データセットで、手書き数字認識を行います。このデータセットには訓練用6万枚、テスト用1万枚の28×28ピクセルの白黒画像、およびそれらが0〜9のどの数字であるかというラベルが含まれています。\n",
    "\n",
    "\n",
    "### 《画像データとは？》\n",
    "\n",
    "\n",
    "デジタル画像は点の集合で、これをピクセルと呼びます。一般的に白黒画像であればピクセルには0〜255の値が含まれます。一方、カラー画像であればR（赤）、G（緑）、B（青）それぞれに対応する0〜255の値が含まれます。機械学習をする上では、この0〜255の値一つひとつが特徴量として扱われます。0〜255は符号なしの8ビット整数で表せる範囲になるため、NumPyであれば「uint8」型の変数として保持できます。\n",
    "\n",
    "\n",
    "データセットの確認\n",
    "どういったデータなのかを見てみます。\n",
    "\n",
    "\n",
    "### 《サンプルコード》"
   ]
  },
  {
   "cell_type": "code",
   "execution_count": 293,
   "metadata": {},
   "outputs": [
    {
     "name": "stdout",
     "output_type": "stream",
     "text": [
      "(60000, 28, 28)\n",
      "(10000, 28, 28)\n",
      "uint8\n"
     ]
    }
   ],
   "source": [
    "print(X_train.shape) # (60000, 28, 28)\n",
    "print(X_test.shape) # (10000, 28, 28)\n",
    "print(X_train[0].dtype) # uint8\n",
    "#print(X_train[0])"
   ]
  },
  {
   "cell_type": "markdown",
   "metadata": {},
   "source": [
    "各データは28×28ピクセルの白黒画像です。"
   ]
  },
  {
   "cell_type": "markdown",
   "metadata": {},
   "source": [
    "## 平滑化\n",
    "\n",
    "(1, 28, 28)の各画像を、(1, 784)に変換します。これまで学んできた機械学習手法や、今回扱う全結合層のみのニューラルネットワークではこの形で扱います。全てのピクセルが一列になっていることを、 平滑化（flatten） してあるという風に表現します。\n",
    "\n",
    "\n",
    "### 《サンプルコード》"
   ]
  },
  {
   "cell_type": "code",
   "execution_count": 294,
   "metadata": {},
   "outputs": [],
   "source": [
    "X_train = X_train.reshape(-1, 784)\n",
    "X_test = X_test.reshape(-1, 784)"
   ]
  },
  {
   "cell_type": "code",
   "execution_count": 295,
   "metadata": {},
   "outputs": [
    {
     "data": {
      "text/plain": [
       "(60000, 784)"
      ]
     },
     "execution_count": 295,
     "metadata": {},
     "output_type": "execute_result"
    }
   ],
   "source": [
    "X_train.shape"
   ]
  },
  {
   "cell_type": "markdown",
   "metadata": {},
   "source": [
    "### 《補足》\n",
    "\n",
    "ここまで機械学習を学んでくる中で、特徴量の数を「次元」と呼んできました。その視点ではMNISTは784次元のデータです。一方で、NumPyのshapeが(784,)の状態を1次元配列とも呼びます。画像としての縦横の情報を持つ（28, 28)の状態であれば、2次元配列です。この視点では2次元のデータです。さらに、もしもカラー画像であれば(28, 28, 3)ということになり、3次元配列です。先ほどの視点では3次元のデータになります。しかし、白黒でもカラーでも平面画像であり、立体データではないという視点で、2次元のデータです。画像データを扱う際にはこのように「次元」という言葉が複数の意味合いで使われることに注意してください。"
   ]
  },
  {
   "cell_type": "markdown",
   "metadata": {},
   "source": [
    "## 画像データの可視化\n",
    "画像データを可視化します。plt.imshowに渡します。\n",
    "\n",
    "\n",
    "### 《サンプルコード》"
   ]
  },
  {
   "cell_type": "code",
   "execution_count": 296,
   "metadata": {},
   "outputs": [
    {
     "data": {
      "image/png": "[encoded data removed]",
      "text/plain": [
       "<Figure size 432x288 with 1 Axes>"
      ]
     },
     "metadata": {
      "needs_background": "light"
     },
     "output_type": "display_data"
    }
   ],
   "source": [
    "import matplotlib.pyplot as plt\n",
    "%matplotlib inline\n",
    "index = 0\n",
    "image = X_train[index].reshape(28,28)\n",
    "# X_train[index]: (784,)\n",
    "# image: (28, 28)\n",
    "plt.imshow(image, 'gray')\n",
    "plt.title('label : {}'.format(y_train[index]))\n",
    "plt.show()"
   ]
  },
  {
   "cell_type": "markdown",
   "metadata": {},
   "source": [
    "\n",
    "[numpy.reshape — NumPy v1.17 Manual](https://docs.scipy.org/doc/numpy/reference/generated/numpy.reshape.html)\n",
    "\n",
    "\n",
    "[matplotlib.pyplot.imshow — Matplotlib 3.1.1 documentation](https://matplotlib.org/api/_as_gen/matplotlib.pyplot.imshow.html)\n",
    "\n",
    "\n",
    "### 《発展的話題》\n",
    "\n",
    "\n",
    "画像データは符号なし8ビット整数のuint8型で保持されることが一般的ですが、plt.imshowはより自由な配列を画像として表示することが可能です。例えば、以下のようにマイナスの値を持ったfloat64型の浮動小数点であってもエラーにはならないし、先ほどと全く同じ風に表示されます。\n",
    "\n"
   ]
  },
  {
   "cell_type": "code",
   "execution_count": 297,
   "metadata": {},
   "outputs": [
    {
     "data": {
      "image/png": "[encoded data removed]",
      "text/plain": [
       "<Figure size 432x288 with 1 Axes>"
      ]
     },
     "metadata": {
      "needs_background": "light"
     },
     "output_type": "display_data"
    },
    {
     "name": "stdout",
     "output_type": "stream",
     "text": [
      "[-105.35 -105.35 -105.35 -105.35 -105.35 -105.35 -105.35 -105.35 -105.35\n",
      " -105.35 -105.35 -105.35 -105.35 -105.35 -105.35 -105.35 -105.35 -105.35\n",
      " -105.35 -105.35 -105.35 -105.35 -105.35 -105.35 -105.35 -105.35 -105.35\n",
      " -105.35]\n"
     ]
    }
   ],
   "source": [
    "index = 0\n",
    "image = X_train[index].reshape(28,28)\n",
    "image = image.astype(np.float) # float型に変換\n",
    "image -= 105.35 # 意図的に負の小数値を作り出してみる\n",
    "plt.imshow(image, 'gray')\n",
    "plt.title('label : {}'.format(y_train[index]))\n",
    "plt.show()\n",
    "print(image[0]) # 値を確認\n"
   ]
  },
  {
   "cell_type": "markdown",
   "metadata": {},
   "source": [
    "これは、自動的に値を0〜255の整数に変換して処理するように作られているからです。uint8型であっても最小値が0、最大値が255でない場合には色合いがおかしくなります。それを防ぐためには次のように引数を入れてください。\n",
    "\n"
   ]
  },
  {
   "cell_type": "code",
   "execution_count": 298,
   "metadata": {},
   "outputs": [
    {
     "data": {
      "text/plain": [
       "<matplotlib.image.AxesImage at 0x7fc2b9c8d2d0>"
      ]
     },
     "execution_count": 298,
     "metadata": {},
     "output_type": "execute_result"
    },
    {
     "data": {
      "image/png": "[encoded data removed]",
      "text/plain": [
       "<Figure size 432x288 with 1 Axes>"
      ]
     },
     "metadata": {
      "needs_background": "light"
     },
     "output_type": "display_data"
    }
   ],
   "source": [
    "plt.imshow(image, 'gray', vmin = 0, vmax = 255)"
   ]
  },
  {
   "cell_type": "markdown",
   "metadata": {},
   "source": [
    "画像関係のライブラリではこの自動的なスケーリングが思わぬ結果を生むことがあるので、新しいメソッドを使うときには確認しておきましょう。"
   ]
  },
  {
   "cell_type": "markdown",
   "metadata": {},
   "source": [
    "## 前処理\n",
    "画像は0から255のuint8型で表されますが、機械学習をする上では0から1のfloat型で扱うことになります。以下のコードで変換可能です。\n",
    "\n",
    "\n",
    "### 《サンプルコード》"
   ]
  },
  {
   "cell_type": "code",
   "execution_count": 299,
   "metadata": {},
   "outputs": [
    {
     "name": "stdout",
     "output_type": "stream",
     "text": [
      "1.0\n",
      "0.0\n",
      "float64\n"
     ]
    }
   ],
   "source": [
    "X_train = X_train.astype(np.float)\n",
    "X_test = X_test.astype(np.float)\n",
    "X_train /= 255\n",
    "X_test /= 255\n",
    "print(X_train.max()) # 1.0\n",
    "print(X_train.min()) # 0.0\n",
    "print(X_train[0].dtype) "
   ]
  },
  {
   "cell_type": "markdown",
   "metadata": {},
   "source": [
    "また、正解ラベルは0から9の整数ですが、ニューラルネットワークで多クラス分類を行う際には one-hot表現 に変換します。scikit-learnのOneHotEncoderを使用したコードが以下です。このone-hot表現による値はそのラベルである確率を示していることになるため、float型で扱います。\n",
    "\n",
    "### 《サンプルコード》"
   ]
  },
  {
   "cell_type": "code",
   "execution_count": 300,
   "metadata": {},
   "outputs": [
    {
     "name": "stdout",
     "output_type": "stream",
     "text": [
      "(60000,)\n",
      "(60000, 10)\n",
      "float64\n"
     ]
    }
   ],
   "source": [
    "from sklearn.preprocessing import OneHotEncoder\n",
    "enc = OneHotEncoder(handle_unknown='ignore', sparse=False)\n",
    "y_train_one_hot = enc.fit_transform(y_train[:, np.newaxis])\n",
    "y_test_one_hot = enc.transform(y_test[:, np.newaxis])\n",
    "print(y_train.shape) # (60000,)\n",
    "print(y_train_one_hot.shape) # (60000, 10)\n",
    "print(y_train_one_hot.dtype) # float64"
   ]
  },
  {
   "cell_type": "markdown",
   "metadata": {},
   "source": [
    "[sklearn.preprocessing.OneHotEncoder — scikit-learn 0.21.3 documentation](https://scikit-learn.org/stable/modules/generated/sklearn.preprocessing.OneHotEncoder.html)\n",
    "\n",
    "\n",
    "さらに、訓練データ6万枚の内2割を検証データとして分割してください。訓練データが48000枚、検証データが12000枚となります。\n",
    "\n",
    "\n",
    "### 《サンプルコード》\n",
    "\n"
   ]
  },
  {
   "cell_type": "code",
   "execution_count": 301,
   "metadata": {},
   "outputs": [
    {
     "name": "stdout",
     "output_type": "stream",
     "text": [
      "(48000, 784)\n",
      "(12000, 784)\n"
     ]
    }
   ],
   "source": [
    "X_train, X_val, y_train, y_val = train_test_split(X_train, y_train_one_hot, test_size=0.2)\n",
    "print(X_train.shape) # (48000, 784)\n",
    "print(X_val.shape) # (12000, 784)"
   ]
  },
  {
   "cell_type": "code",
   "execution_count": 302,
   "metadata": {},
   "outputs": [
    {
     "data": {
      "text/plain": [
       "(48000, 10)"
      ]
     },
     "execution_count": 302,
     "metadata": {},
     "output_type": "execute_result"
    }
   ],
   "source": [
    "y_train.shape"
   ]
  },
  {
   "cell_type": "markdown",
   "metadata": {},
   "source": [
    "---\n",
    "\n",
    "# 3.ニューラルネットワークスクラッチ\n",
    "\n",
    "---"
   ]
  },
  {
   "cell_type": "markdown",
   "metadata": {},
   "source": [
    "ニューラルネットワークのクラスをスクラッチで作成していきます。NumPyなど最低限のライブラリのみを使いアルゴリズムを実装していきます。\n",
    "\n",
    "\n",
    "今回は多クラス分類を行う3層のニューラルネットワークを作成します。層の数などは固定した上でニューラルネットワークの基本を学びます。次のSprintで層を自由に変えられる設計にしていきます。\n",
    "\n",
    "\n",
    "以下に雛形を用意してあります。このScratchSimpleNeuralNetrowkClassifierクラスにコードを書き加えていってください。\n",
    "\n",
    "\n",
    "### 《雛形》"
   ]
  },
  {
   "cell_type": "code",
   "execution_count": 15,
   "metadata": {},
   "outputs": [],
   "source": [
    "class ScratchSimpleNeuralNetrowkClassifier():\n",
    "    \"\"\"\n",
    "    シンプルな三層ニューラルネットワーク分類器\n",
    "\n",
    "    Parameters\n",
    "    ----------\n",
    "\n",
    "    Attributes\n",
    "    ----------\n",
    "    \"\"\"\n",
    "    def __init__(self, verbose = True):\n",
    "        self.verbose = verbose\n",
    "        pass\n",
    "    def fit(self, X, y, X_val=None, y_val=None):\n",
    "        \"\"\"\n",
    "        ニューラルネットワーク分類器を学習する。\n",
    "\n",
    "        Parameters\n",
    "        ----------\n",
    "        X : 次の形のndarray, shape (n_samples, n_features)\n",
    "            訓練データの特徴量\n",
    "        y : 次の形のndarray, shape (n_samples, )\n",
    "            訓練データの正解値\n",
    "        X_val : 次の形のndarray, shape (n_samples, n_features)\n",
    "            検証データの特徴量\n",
    "        y_val : 次の形のndarray, shape (n_samples, )\n",
    "            検証データの正解値\n",
    "        \"\"\"\n",
    "        if self.verbose:\n",
    "            #verboseをTrueにした際は学習過程などを出力する\n",
    "            print()\n",
    "        pass\n",
    "    def predict(self, X):\n",
    "        \"\"\"\n",
    "        ニューラルネットワーク分類器を使い推定する。\n",
    "\n",
    "        Parameters\n",
    "        ----------\n",
    "        X : 次の形のndarray, shape (n_samples, n_features)\n",
    "            サンプル\n",
    "\n",
    "        Returns\n",
    "        -------\n",
    "            次の形のndarray, shape (n_samples, 1)\n",
    "            推定結果\n",
    "        \"\"\"\n",
    "        pass\n",
    "        return"
   ]
  },
  {
   "cell_type": "code",
   "execution_count": null,
   "metadata": {},
   "outputs": [],
   "source": []
  },
  {
   "cell_type": "markdown",
   "metadata": {},
   "source": [
    "## ミニバッチ処理\n",
    "これまでの機械学習スクラッチでは、全てのサンプルを一度に計算していました。しかし、ニューラルネットワークではデータを分割して入力する 確率的勾配降下法 が一般的です。分割した際のひとかたまりを ミニバッチ 、そのサンプル数を バッチサイズ と呼びます。\n",
    "\n",
    "\n",
    "今回はバッチサイズを20とします。今回使う訓練データは48000枚ですから、48000÷20で2400回の更新を繰り返すことになります。ニューラルネットワークではこれを2400回 イテレーション（iteration） すると呼びます。訓練データを一度全て見ると1回の エポック（epoch） が終わったことになります。このエポックを複数回繰り返し、学習が完了します。\n",
    "\n",
    "\n",
    "これを実現するための簡素なイテレータを用意しました。for文で呼び出すと、ミニバッチを取得できます。\n",
    "\n",
    "\n",
    "### 《コード》\n",
    "\n"
   ]
  },
  {
   "cell_type": "code",
   "execution_count": 16,
   "metadata": {},
   "outputs": [],
   "source": [
    "class GetMiniBatch:\n",
    "    \"\"\"\n",
    "    ミニバッチを取得するイテレータ\n",
    "\n",
    "    Parameters\n",
    "    ----------\n",
    "    X : 次の形のndarray, shape (n_samples, n_features)\n",
    "      訓練データ\n",
    "    y : 次の形のndarray, shape (n_samples, 1)\n",
    "      正解値\n",
    "    batch_size : int\n",
    "      バッチサイズ\n",
    "    seed : int\n",
    "      NumPyの乱数のシード\n",
    "    \"\"\"\n",
    "    def __init__(self, X, y, batch_size = 20, seed=0):\n",
    "        self.batch_size = batch_size\n",
    "        np.random.seed(seed)\n",
    "        shuffle_index = np.random.permutation(np.arange(X.shape[0]))\n",
    "        self._X = X[shuffle_index]\n",
    "        self._y = y[shuffle_index]\n",
    "        self._stop = np.ceil(X.shape[0]/self.batch_size).astype(np.int)\n",
    "    def __len__(self):\n",
    "        return self._stop\n",
    "    def __getitem__(self,item):\n",
    "        p0 = item*self.batch_size\n",
    "        p1 = item*self.batch_size + self.batch_size\n",
    "        return self._X[p0:p1], self._y[p0:p1]        \n",
    "    def __iter__(self):\n",
    "        self._counter = 0\n",
    "        return self\n",
    "    def __next__(self):\n",
    "        if self._counter >= self._stop:\n",
    "            raise StopIteration()\n",
    "        p0 = self._counter*self.batch_size\n",
    "        p1 = self._counter*self.batch_size + self.batch_size\n",
    "        self._counter += 1\n",
    "        return self._X[p0:p1], self._y[p0:p1]"
   ]
  },
  {
   "cell_type": "markdown",
   "metadata": {},
   "source": [
    "このクラスをインスタンス化し、for文を使うことでミニバッチが取り出せます。"
   ]
  },
  {
   "cell_type": "code",
   "execution_count": 17,
   "metadata": {},
   "outputs": [
    {
     "name": "stdout",
     "output_type": "stream",
     "text": [
      "2400\n",
      "(array([[0., 0., 0., ..., 0., 0., 0.],\n",
      "       [0., 0., 0., ..., 0., 0., 0.],\n",
      "       [0., 0., 0., ..., 0., 0., 0.],\n",
      "       ...,\n",
      "       [0., 0., 0., ..., 0., 0., 0.],\n",
      "       [0., 0., 0., ..., 0., 0., 0.],\n",
      "       [0., 0., 0., ..., 0., 0., 0.]]), array([[0., 0., 0., 0., 0., 0., 1., 0., 0., 0.],\n",
      "       [0., 0., 0., 0., 1., 0., 0., 0., 0., 0.],\n",
      "       [0., 0., 0., 0., 0., 0., 1., 0., 0., 0.],\n",
      "       [0., 0., 0., 0., 0., 1., 0., 0., 0., 0.],\n",
      "       [0., 0., 0., 0., 0., 0., 0., 0., 1., 0.],\n",
      "       [0., 0., 0., 0., 0., 1., 0., 0., 0., 0.],\n",
      "       [0., 0., 1., 0., 0., 0., 0., 0., 0., 0.],\n",
      "       [0., 0., 0., 0., 0., 0., 0., 0., 0., 1.],\n",
      "       [0., 0., 0., 0., 0., 1., 0., 0., 0., 0.],\n",
      "       [1., 0., 0., 0., 0., 0., 0., 0., 0., 0.],\n",
      "       [0., 0., 0., 1., 0., 0., 0., 0., 0., 0.],\n",
      "       [0., 0., 0., 0., 0., 0., 0., 1., 0., 0.],\n",
      "       [0., 1., 0., 0., 0., 0., 0., 0., 0., 0.],\n",
      "       [0., 0., 0., 0., 0., 1., 0., 0., 0., 0.],\n",
      "       [0., 0., 0., 0., 0., 0., 0., 1., 0., 0.],\n",
      "       [0., 0., 0., 0., 0., 1., 0., 0., 0., 0.],\n",
      "       [0., 0., 0., 0., 1., 0., 0., 0., 0., 0.],\n",
      "       [0., 1., 0., 0., 0., 0., 0., 0., 0., 0.],\n",
      "       [0., 0., 1., 0., 0., 0., 0., 0., 0., 0.],\n",
      "       [0., 0., 0., 0., 0., 1., 0., 0., 0., 0.]]))\n"
     ]
    }
   ],
   "source": [
    "get_mini_batch = GetMiniBatch(X_train, y_train, batch_size=20)\n",
    "print(len(get_mini_batch)) # 2400\n",
    "print(get_mini_batch[5]) # 5番目のミニバッチが取得できる\n",
    "for mini_X_train, mini_y_train in get_mini_batch:\n",
    "    # このfor文内でミニバッチが使える\n",
    "    \n",
    "    pass"
   ]
  },
  {
   "cell_type": "markdown",
   "metadata": {},
   "source": [
    "\n",
    "\\__getitem__や\\__next__は\\__init__と同じ特殊メソッドの一種です。"
   ]
  },
  {
   "cell_type": "markdown",
   "metadata": {},
   "source": [
    "###  ミニバッチクラスに関しての自分の概観\n",
    "* ミニバッチはデータを分割してるので、Xとyを今回で言えば20個ずつ計2400に分けているだけ。\n",
    "* 学習率を変えていけば、エポックが終わる前に大体損失関数が落ち着いていく。つまり早く終わる。全部舐めるか終了条件で一回(epoch:1)、エポックを複数回、回すたびにシャッフルすることで精度をあげる。\n",
    "* \\__init__でシャッフルしたインデックスを与えてself._Xを作ってる(yも)\n",
    "* \\__getitem__はインスタンスに[ ]をつけたときの挙動を決めている。getitem前にはまだデータの分割はしてないので、[ ]に入れた数字をバッチサイズに掛けてindexを取り出している。例：[5]なら [(100) : (100) + 20]のインデックスを取り出すよ、ということ\n",
    "* \\__iter__はオブジェクトをイテレータ化することを要求されたときに呼ばれるメソッド。処理としては今回はself._counterをゼロで初期化しているだけ。forで呼ばれる時に\\__iter__は動く\n",
    "* \\__next__はイテレートされるべきプロパティを変更し、戻り値として現在地を返す。終了条件に合致していたら終了の例外を返す。今回は、forループの中でindexを一つずつ(self._counterが増加した分)ずらしたself._Xとyをreturnする。\n",
    "* 今回の終了条件は if self._counter >= self._stop: なので、self._stop = np.ceil(X.shape[0]/self.batch_size).astype(np.int)の2400回を超えたらStopIterationする。"
   ]
  },
  {
   "cell_type": "markdown",
   "metadata": {},
   "source": [
    "## 学習\n",
    "ニューラルネットワークの学習はフォワードプロパゲーションとバックプロパゲションの繰り返しになります。"
   ]
  },
  {
   "cell_type": "markdown",
   "metadata": {},
   "source": [
    "# 【問題1】重みの初期値を決めるコードの作成\n",
    "ニューラルネットワークの各層の重みの初期値を決めるコードを作成してください。\n",
    "\n",
    "\n",
    "重みの初期値は様々な方法が提案されていますが、今回はガウス分布による単純な初期化を行います。バイアスに関しても同様です。\n",
    "\n",
    "\n",
    "以下のコードを参考にしてください。標準偏差の値sigmaはハイパーパラメータです。発展的な重みの初期化方法については次のSprintで扱います。\n",
    "\n",
    "\n",
    "### 《サンプルコード》"
   ]
  },
  {
   "cell_type": "code",
   "execution_count": 18,
   "metadata": {},
   "outputs": [
    {
     "name": "stdout",
     "output_type": "stream",
     "text": [
      "[[ 0.00792546 -0.00145092 -0.01287133 ... -0.00245453 -0.03460641\n",
      "   0.00758269]\n",
      " [-0.00137276  0.00278289  0.00932826 ... -0.01495581  0.00968798\n",
      "   0.0101332 ]\n",
      " [-0.00746748  0.00905245  0.0006038  ...  0.01249155 -0.00529285\n",
      "   0.00730488]\n",
      " ...\n",
      " [-0.00811823  0.01002275 -0.00182602 ...  0.00378093  0.02126478\n",
      "  -0.01424466]\n",
      " [-0.00437306 -0.00940798 -0.00387237 ... -0.01876301  0.00512501\n",
      "  -0.00062903]\n",
      " [ 0.00909606  0.00415442 -0.00521814 ...  0.01918723 -0.00667915\n",
      "   0.00316757]]\n"
     ]
    }
   ],
   "source": [
    "n_features = 784\n",
    "n_nodes1 = 400\n",
    "sigma = 0.01 # ガウス分布の標準偏差\n",
    "W1 = sigma * np.random.randn(n_features, n_nodes1)\n",
    "# W1: (784, 400)\n",
    "print(W1)"
   ]
  },
  {
   "cell_type": "markdown",
   "metadata": {},
   "source": [
    "[numpy.random.randn — NumPy v1.15 Manual](https://docs.scipy.org/doc/numpy-1.15.0/reference/generated/numpy.random.randn.html)"
   ]
  },
  {
   "cell_type": "markdown",
   "metadata": {},
   "source": [
    "### 【解答】関数"
   ]
  },
  {
   "cell_type": "code",
   "execution_count": 19,
   "metadata": {},
   "outputs": [],
   "source": [
    "#W,b行列の初期化\n",
    "def init_Wb(sigma=0.01, n_features=784, n_nodes1=400, n_nodes2=200, n_output=10):\n",
    "    W1 = sigma * np.random.randn(n_features, n_nodes1)\n",
    "    W2 = sigma * np.random.randn( n_nodes1, n_nodes2)\n",
    "    W3 = sigma * np.random.randn( n_nodes2, n_output)\n",
    "    b1 = sigma * np.random.randn(n_nodes1)\n",
    "    b2 = sigma * np.random.randn(n_nodes2)\n",
    "    b3 = sigma * np.random.randn(n_output)\n",
    "    return W1, W2, W3, b1, b2, b3"
   ]
  },
  {
   "cell_type": "code",
   "execution_count": 20,
   "metadata": {},
   "outputs": [],
   "source": [
    "W1, W2, W3, b1, b2, b3 = init_Wb()\n",
    "#W1, W2, W3, b1, b2, b3"
   ]
  },
  {
   "cell_type": "code",
   "execution_count": 21,
   "metadata": {},
   "outputs": [
    {
     "data": {
      "text/plain": [
       "(784, 400)"
      ]
     },
     "execution_count": 21,
     "metadata": {},
     "output_type": "execute_result"
    }
   ],
   "source": [
    "W1.shape"
   ]
  },
  {
   "cell_type": "markdown",
   "metadata": {},
   "source": [
    "# 【問題2】フォワードプロパゲーションの実装\n",
    "三層のニューラルネットワークの フォワードプロパゲーション を作成してください。以下の説明ではノード数は1層目は400、2層目は200としますが、変更しても構いません。\n",
    "\n",
    "\n",
    "各層の数式を以下に示します。今回はそれぞれの記号が表す配列が、実装上どのようなndarrayのshapeになるかを併記してあります。\n",
    "\n",
    "\n",
    "* batch_size = 20 # バッチサイズ\n",
    "* n_features = 784 # 特徴量の数\n",
    "* n_nodes1 = 400 # 1層目のノード数\n",
    "* n_nodes2 = 200 # 2層目のノード数\n",
    "* n_output = 10 # 出力のクラス数（3層目のノード数）\n",
    "\n",
    "「1層目」\n",
    "\n",
    "$$\n",
    "A_1=X⋅W_1+B_1\n",
    "$$\n",
    "\n",
    "$X$ : 特徴量ベクトル (batch_size, n_features)\n",
    "\n",
    "\n",
    "$W_1$ : 1層目の重み (n_features, n_nodes1)\n",
    "\n",
    "\n",
    "$B_1$ : 1層目のバイアス (n_nodes1,)\n",
    "\n",
    "\n",
    "$A_1$ : 出力 (batch_size, n_nodes1)\n",
    "\n",
    "\n",
    "「1層目の活性化関数」\n",
    "\n",
    "$$\n",
    "Z_1=f(A_1)\n",
    "$$\n",
    "\n",
    "$f()$ : 活性化関数\n",
    "\n",
    "\n",
    "$Z_1$ 出力 (batch_size, n_nodes1)\n",
    "\n",
    "\n",
    "「2層目」\n",
    "\n",
    "$$\n",
    "A_2=Z_1⋅W_2+B_2\n",
    "$$\n",
    "\n",
    "$W_2$ : 2層目の重み (n_nodes1, n_nodes2)\n",
    "\n",
    "\n",
    "$B_2$ : 2層目のバイアス (n_nodes2,)\n",
    "\n",
    "\n",
    "$A_2$ : 出力 (batch_size, n_nodes2)\n",
    "\n",
    "\n",
    "「2層目の活性化関数」\n",
    "\n",
    "$$\n",
    "Z_2=f(A_2)\n",
    "$$\n",
    "\n",
    "$f()$ : 活性化関数\n",
    "\n",
    "\n",
    "$Z_2$ 出力 (batch_size, n_nodes2)\n",
    "\n",
    "\n",
    "「3層目（出力層）」\n",
    "\n",
    "$$\n",
    "A_3=Z_2⋅W_3+B_3\n",
    "$$\n",
    "\n",
    "$W_3$ : 3層目の重み (n_nodes2, n_output)\n",
    "\n",
    "\n",
    "$B_3$ : 3層目のバイアス (n_output,)\n",
    "\n",
    "\n",
    "$A_3$ : 出力 (batch_size, n_output)\n",
    "\n",
    "\n",
    "「3層目の活性化関数」\n",
    "\n",
    "$$\n",
    "Z_3=softmax(A_3)\n",
    "$$\n",
    "\n",
    "$softmax()$ : ソフトマックス関数\n",
    "\n",
    "\n",
    "$Z_3$ 出力 (batch_size, n_output)\n",
    "\n",
    "\n",
    "$Z_3$ は各ラベル（0〜9）に対する確率の配列である。"
   ]
  },
  {
   "cell_type": "markdown",
   "metadata": {},
   "source": [
    "## 活性化関数（フォワードプロバゲーション）\n",
    "活性化関数を作成し、フォワードプロパゲーションの中で使用します。切り替えられるように実装することを推奨しますが、片方でも構いません。\n",
    "\n",
    "\n",
    "「シグモイド関数」\n",
    "\n",
    "$$\n",
    "f(Z)=sigmoid(A)=\\frac{1}{1+exp(-A)}\n",
    "$$\n",
    "\n",
    "指数関数 $exp(-A)$ の計算はnp.expを使用してください。\n",
    "\n",
    "\n",
    "[numpy.exp — NumPy v1.15 Manual](https://docs.scipy.org/doc/numpy-1.15.1/reference/generated/numpy.exp.html)\n",
    "\n",
    "\n",
    "「ハイパボリックタンジェント関数」\n",
    "\n",
    "\n",
    "次の数式で表されますが、np.tanhひとつで実現できます。\n",
    "\n",
    "\n",
    "$$\n",
    "f(Z)=tanh(A)=\\frac{exp(A) - exp(-A)}{exp(A)+exp(-A)}\n",
    "$$\n",
    "\n",
    "[numpy.tanh — NumPy v1.15 Manual](https://docs.scipy.org/doc/numpy-1.15.1/reference/generated/numpy.tanh.html)\n",
    "\n",
    "\n",
    "＊現在ではこれらの代わりにReLUと呼ばれる活性化関数が一般的です。次のSprintで扱います。\n",
    "\n",
    "\n",
    "## ソフトマックス関数\n",
    "ソフトマックス関数を作成し、フォワードプロパゲーションの中で使用します。これも活性化関数の一種ですが、多クラス分類の出力層で使われる特性上、区別して扱われることが多いです。\n",
    "\n",
    "\n",
    "次の数式です。\n",
    "\n",
    "\n",
    "$$\n",
    "Z_{3\\_k}=\\frac{exp(A_{3\\_k})}{\\Sigma^{n_c}_{i=1}exp(A_{3\\_i})}\n",
    "$$\n",
    "\n",
    "$Z_{3_k}$ : $k$ 番目のクラスの確率ベクトル (batch_size,)\n",
    "\n",
    "\n",
    "$A_{3_k}$ : $k$ 番目のクラスにあたる前の層からのベクトル (batch_size,)\n",
    "\n",
    "\n",
    "$n_c$ : クラスの数、n_output。今回のMNISTでは10。\n",
    "\n",
    "\n",
    "分母は全てのクラスに相当する値を指数関数に通した上で足し合わせたものです。その中で、分子に $k$ 番目のクラスを持ってくることで、 $k$ 番目のクラスである確率が求まります。\n",
    "\n",
    "\n",
    "これを10クラス分計算し、合わせたものが $Z_3$ です。\n",
    "\n"
   ]
  },
  {
   "cell_type": "code",
   "execution_count": 22,
   "metadata": {},
   "outputs": [],
   "source": [
    "#Sigmoid:1/(1+exp(-x))\n",
    "def sigmoid_forward(A):\n",
    "    return 1 / (1 + np.exp(-np.clip(A, -250, 250)))"
   ]
  },
  {
   "cell_type": "code",
   "execution_count": 23,
   "metadata": {},
   "outputs": [],
   "source": [
    "#Tanh:(exp(x)-exp(-x))/(exp(x)+xp(-x))\n",
    "def tanh_forward(A):\n",
    "    return np.tanh(A)\n",
    "    #return ((exp(A)-exp(-A)) / (exp(A)+exp(-A)))"
   ]
  },
  {
   "cell_type": "code",
   "execution_count": 24,
   "metadata": {},
   "outputs": [],
   "source": [
    "#Softmax:\n",
    "def before_softmax_forward(A):\n",
    "    #A = A[None,:]\n",
    "    #A = A - np.max(A)\n",
    "    Z = np.exp(A) / np.sum(np.exp(A))\n",
    "    return Z"
   ]
  },
  {
   "cell_type": "code",
   "execution_count": 25,
   "metadata": {},
   "outputs": [],
   "source": [
    "#Softmax:\n",
    "def softmax_forward(A):\n",
    "    #print(A[i])\n",
    "    maxA = np.max(A)\n",
    "    #print(maxA)\n",
    "    frac1 = np.exp(A-maxA)\n",
    "    frac2 = np.sum(frac1, axis=0,  keepdims=True)\n",
    "    #print(frac1)\n",
    "    #print(frac2)\n",
    "    \n",
    "    Z = frac1 / frac2\n",
    "    return Z"
   ]
  },
  {
   "cell_type": "code",
   "execution_count": 26,
   "metadata": {},
   "outputs": [],
   "source": [
    "X = np.array([[1,1],[2,2],[3,3]])#バッチサイズ３,入力サイズ２\n",
    "b = np.array([1,2,3])\n",
    "w = np.array([[1,2],[3,4],[5,6]])#出力サイズ３,入力サイズ２"
   ]
  },
  {
   "cell_type": "code",
   "execution_count": 27,
   "metadata": {},
   "outputs": [
    {
     "name": "stdout",
     "output_type": "stream",
     "text": [
      "[[ 4  9 14]\n",
      " [ 7 16 25]\n",
      " [10 23 36]]\n",
      "[[0.98201379 0.99987661 0.99999917]\n",
      " [0.99908895 0.99999989 1.        ]\n",
      " [0.9999546  1.         1.        ]]\n",
      "[[0.9993293  0.99999997 1.        ]\n",
      " [0.99999834 1.         1.        ]\n",
      " [1.         1.         1.        ]]\n",
      "[[2.35563308e-03 8.30770464e-07 2.78942150e-10]\n",
      " [4.73141552e-02 9.11050438e-04 1.67014218e-05]\n",
      " [9.50330212e-01 9.99088119e-01 9.99983298e-01]]\n"
     ]
    }
   ],
   "source": [
    "A = np.dot(X, w.T) + b\n",
    "print(A)\n",
    "\n",
    "t1 = sigmoid_forward(A)\n",
    "t2 = tanh_forward(A)\n",
    "t3 = softmax_forward(A)\n",
    "print(t1)\n",
    "print(t2)\n",
    "print(t3)\n"
   ]
  },
  {
   "cell_type": "code",
   "execution_count": 28,
   "metadata": {},
   "outputs": [],
   "source": [
    "def forward_propagation(X, W1=W1,W2=W2,W3=W3,b1=b1,b2=b2,b3=b3, activation=\"sigmoid\"):\n",
    "    \"\"\"\n",
    "    activation = \"sigmoid\", \"tanh\"\n",
    "\n",
    "    \"\"\"\n",
    "    \n",
    "    #X = np.concatenate([np.ones((X.shape[0], 1)), X], 1)\n",
    "    A1 = np.dot(X, W1) + b1\n",
    "    #print(\"A1shape:{}\".format(A1.shape))\n",
    "    #print(A1[0])\n",
    "    if activation==\"sigmoid\":\n",
    "        Z1 = sigmoid_forward(A1)\n",
    "    elif activation==\"tanh\":\n",
    "        Z1 = tanh_forward(A1)\n",
    "    \n",
    "    #Z1 = np.concatenate([np.ones((Z1.shape[0], 1)), Z1], 1)\n",
    "    A2 = np.dot(Z1, W2)+ b2\n",
    "    #print(A2[0])    \n",
    "    if activation==\"sigmoid\":\n",
    "        Z2 = sigmoid_forward(A2)\n",
    "    elif activation==\"tanh\":\n",
    "        Z2 = tanh_forward(A2)    \n",
    "\n",
    "    #Z2 = np.concatenate([np.ones((Z2.shape[0], 1)), Z2], 1)\n",
    "    A3 = np.dot(Z2, W3)+ b3\n",
    "    #print(\"A3shape:{}\".format(A3.shape))\n",
    "    #print(A3[0])\n",
    "    #print(A3[1])\n",
    "    \n",
    "    Z3 = softmax_forward(A3)\n",
    "    #for i in range(A3.shape[1]):\n",
    "        #Z3 = before_softmax_forward(A3[i])\n",
    "        #print(Z3)\n",
    "    \n",
    "    return A1, A2, A3, Z1, Z2, Z3"
   ]
  },
  {
   "cell_type": "code",
   "execution_count": 44,
   "metadata": {},
   "outputs": [
    {
     "name": "stdout",
     "output_type": "stream",
     "text": [
      "[[0.48774539 0.51666212 0.48739149 ... 0.4873837  0.50622105 0.50734978]\n",
      " [0.48623013 0.51681003 0.48772308 ... 0.48535254 0.50711493 0.50736726]\n",
      " [0.48600662 0.51754508 0.48748463 ... 0.48620071 0.50592052 0.50668922]\n",
      " ...\n",
      " [0.48505335 0.51536456 0.49125366 ... 0.48734569 0.50369992 0.50672948]\n",
      " [0.48550525 0.51678207 0.4883651  ... 0.48562971 0.5062078  0.50681612]\n",
      " [0.48722031 0.51525015 0.48991703 ... 0.48680323 0.50563468 0.50722366]]\n"
     ]
    }
   ],
   "source": [
    "XX = X_train[0:20]\n",
    "#print(XX[0])\n",
    "A1, A2, A3, Z1, Z2, Z3 = forward_propagation(XX)\n",
    "print(Z2)"
   ]
  },
  {
   "cell_type": "code",
   "execution_count": 42,
   "metadata": {},
   "outputs": [
    {
     "name": "stdout",
     "output_type": "stream",
     "text": [
      "[0.09558107 0.09289387 0.10736005 0.10365054 0.11155104 0.08694645\n",
      " 0.09997299 0.09482165 0.10611821 0.10110413]\n",
      "[0.09559843 0.09288141 0.10733382 0.10364304 0.11157645 0.08695905\n",
      " 0.09994579 0.0948263  0.10611677 0.10111893]\n",
      "[0.09558433 0.09286959 0.10736747 0.10364727 0.11157356 0.08695478\n",
      " 0.09994282 0.09483177 0.10612742 0.10110099]\n",
      "[0.09560138 0.09285421 0.10734682 0.10366612 0.11156324 0.08693333\n",
      " 0.09994024 0.09483995 0.10612749 0.10112722]\n",
      "[0.09556893 0.09289829 0.10735737 0.10365724 0.11156337 0.08694637\n",
      " 0.09995713 0.09481171 0.10612917 0.10111041]\n"
     ]
    }
   ],
   "source": [
    "for i in range(5):\n",
    "    XX = X_train[i]\n",
    "    A1, A2, A3, Z1, Z2, Z3 = forward_propagation(XX)\n",
    "    print(Z3)"
   ]
  },
  {
   "cell_type": "code",
   "execution_count": null,
   "metadata": {},
   "outputs": [],
   "source": []
  },
  {
   "cell_type": "markdown",
   "metadata": {},
   "source": [
    "# 【問題3】交差エントロピー誤差の実装\n",
    "目的関数（損失関数）を作成します。\n",
    "\n",
    "\n",
    "多クラス分類の目的関数である交差エントロピー誤差 $L$ は次の数式です。\n",
    "\n",
    "\n",
    "$$\n",
    "L=-\\frac{1}{n_b}\\Sigma^{n_b}_j \\Sigma^{n_c}_k y_{jk}log(z_{3\\_jk})\n",
    "$$\n",
    "\n",
    "$y_{ij}$ : $j$ 番目のサンプルの $k$ 番目のクラスの正解ラベル（one-hot表現で0か1のスカラー）\n",
    "\n",
    "\n",
    "$z_{3_ij}$ : $j$ 番目のサンプルの $k$ 番目のクラスの確率（スカラー）\n",
    "\n",
    "\n",
    "$n_{b}$ : バッチサイズ、batch_size\n",
    "\n",
    "\n",
    "$n_{c}$ : クラスの数、n_output（今回のMNISTでは10）\n",
    "\n",
    "\n",
    "サンプル1つあたりの誤差が求まります。"
   ]
  },
  {
   "cell_type": "code",
   "execution_count": 45,
   "metadata": {},
   "outputs": [
    {
     "data": {
      "text/plain": [
       "(48000, 10)"
      ]
     },
     "execution_count": 45,
     "metadata": {},
     "output_type": "execute_result"
    }
   ],
   "source": [
    "y_train.shape"
   ]
  },
  {
   "cell_type": "code",
   "execution_count": 46,
   "metadata": {},
   "outputs": [],
   "source": [
    "def test_Cross_entropy_Loss(y_train, Z3):\n",
    "    batch_size = Z3.shape[0]\n",
    "    loss = -np.sum(y_train * np.log(Z3)) / batch_size\n",
    "    return loss"
   ]
  },
  {
   "cell_type": "code",
   "execution_count": 47,
   "metadata": {},
   "outputs": [
    {
     "data": {
      "text/plain": [
       "2.995740617402417"
      ]
     },
     "execution_count": 47,
     "metadata": {},
     "output_type": "execute_result"
    }
   ],
   "source": [
    "test_Cross_entropy_Loss(y_train[100:120], Z3)"
   ]
  },
  {
   "cell_type": "code",
   "execution_count": 48,
   "metadata": {},
   "outputs": [],
   "source": [
    "def for_cross_entropy_error(y_train, Z3) :\n",
    "    loss = 0\n",
    "    for j in range(Z3.shape[0]):\n",
    "        for k in range(Z3.shape[1]):\n",
    "            loss += y_train[j][k] * np.log(Z3[j][k])\n",
    "            \n",
    "    return -loss / Z3.shape[0]"
   ]
  },
  {
   "cell_type": "code",
   "execution_count": 49,
   "metadata": {},
   "outputs": [
    {
     "data": {
      "text/plain": [
       "2.995740617402417"
      ]
     },
     "execution_count": 49,
     "metadata": {},
     "output_type": "execute_result"
    }
   ],
   "source": [
    "for_cross_entropy_error(y_train[100:120], Z3)"
   ]
  },
  {
   "cell_type": "code",
   "execution_count": null,
   "metadata": {},
   "outputs": [],
   "source": []
  },
  {
   "cell_type": "markdown",
   "metadata": {},
   "source": [
    "# 【問題4】バックプロパゲーションの実装\n",
    "三層のニューラルネットワークのバックプロパゲーションを作成してください。確率的勾配降下法を行う部分です。\n",
    "\n",
    "\n",
    "数式を以下に示します。\n",
    "\n",
    "\n",
    "まず、i層目の重みとバイアスの更新式です。 $W_i$ と $B_i$ に対し、更新後の $W_i^{\\prime}$ と $B_i^{\\prime}$ は次の数式で求められます。\n",
    "\n",
    "$$\n",
    "W^′_i=W_i-\\alpha\\frac{∂L}{∂W_i}\n",
    "$$\n",
    "$$\n",
    "B^′_i=B_i-\\alpha\\frac{∂L}{∂Bi}\n",
    "$$\n",
    "\n",
    "$\\alpha$ : 学習率（層ごとに変えることも可能だが、基本的には全て同じとする）\n",
    "\n",
    "\n",
    "$\\frac{\\partial L}{\\partial W_i}$ : $W_i$ に関する損失 $L$ の勾配\n",
    "\n",
    "\n",
    "$\\frac{\\partial L}{\\partial B_i}$ : $B_i$ に関する損失 $L$ の勾配\n",
    "\n",
    "\n",
    "＊この勾配はミニバッチのサンプル数分の合計または平均を考えます。ここでは合計を計算します。\n",
    "\n",
    "\n",
    "この更新方法はSprint3線形回帰やsprint4ロジスティック回帰における最急降下法と同様です。より効果的な更新方法が知られており、それは次のSprintで扱います。\n",
    "\n",
    "\n",
    "勾配 $\\frac{\\partial L}{\\partial W_i}$ や $\\frac{\\partial L}{\\partial B_i}$ を求めるために、バックプロパゲーションを行います。以下の数式です。ハイパボリックタンジェント関数を使用した例を載せました。シグモイド関数の場合の数式はその後ろにあります。\n",
    "\n",
    "\n",
    "「3層目」\n",
    "\n",
    "$$\n",
    "\\frac{\\partial L}{\\partial A_3}=Z_3-Y\n",
    "$$\n",
    "$$\n",
    "\\frac{\\partial L}{\\partial B_3}=\\Sigma^{n_b}_j\\frac{\\partial L}{\\partial A_{3\\_j}}\n",
    "$$\n",
    "$$\n",
    "\\frac{\\partial L}{\\partial W_3}=Z^T_2⋅\\frac{\\partial L}{\\partial A_3}\n",
    "$$\n",
    "$$\n",
    "\\frac{\\partial L}{\\partial Z_2}=\\frac{\\partial L}{\\partial A_3}⋅W^T_3\n",
    "$$\n",
    "\n",
    "$\\frac{\\partial L}{\\partial A_3}$ : $A_3$ に関する損失 $L$ の勾配 (batch_size, n_output)\n",
    "\n",
    "\n",
    "$\\frac{\\partial L}{\\partial A_{3_j}}$ : j番目のサンプルの$A_3$ に関する損失 $L$ の勾配 (n_nodes2,)\n",
    "\n",
    "\n",
    "$\\frac{\\partial L}{\\partial B_3}$ : $B_3$ に関する損失 $L$ の勾配 (n_output,)\n",
    "\n",
    "\n",
    "$\\frac{\\partial L}{\\partial W_3}$ : $W_3$ に関する損失 $L$ の勾配 (n_nodes2, n_output)\n",
    "\n",
    "\n",
    "$\\frac{\\partial L}{\\partial Z_2}$ : $Z_2$ に関する損失 $L$ の勾配 (batch_size, n_nodes2)\n",
    "\n",
    "\n",
    "$Z_{3}$ : ソフトマックス関数の出力 (batch_size, n_nodes2)\n",
    "\n",
    "\n",
    "$Y$ : 正解ラベル (batch_size, n_output)\n",
    "\n",
    "\n",
    "$Z_{2}$ : 2層目の活性化関数の出力 (batch_size, n_nodes2)\n",
    "\n",
    "\n",
    "$W_3$ : 3層目の重み (n_nodes2, n_output)\n",
    "\n",
    "\n",
    "「2層目」\n",
    "\n",
    "$$\n",
    "\\frac{\\partial L}{\\partial A_2}=\\frac{\\partial L}{\\partial Z_2}\\odot\\{1-tanh^2(A_2)\\}\n",
    "$$\n",
    "$$\n",
    "\\frac{\\partial L}{\\partial B_2}=\\Sigma^{n_b}_j\\frac{\\partial L}{\\partial A_{2\\_j}}\n",
    "$$\n",
    "$$\n",
    "\\frac{\\partial L}{\\partial W_2}=Z^T_1⋅\\frac{\\partial L}{\\partial A_2}\n",
    "$$\n",
    "$$\n",
    "\\frac{\\partial L}{\\partial Z_1}=\\frac{\\partial L}{\\partial A_2}⋅W^T_2\n",
    "$$\n",
    "\n",
    "$\\frac{\\partial L}{\\partial A_2}$ : $A_2$ に関する損失 $L$ の勾配 (batch_size, n_nodes2)\n",
    "\n",
    "\n",
    "$\\frac{\\partial L}{\\partial A_{2_j}}$ : j番目のサンプルの$A_2$ に関する損失 $L$ の勾配 (n_nodes2,)\n",
    "\n",
    "\n",
    "$\\frac{\\partial L}{\\partial B_2}$ : $B_2$ に関する損失 $L$ の勾配 (n_output,)\n",
    "\n",
    "\n",
    "$\\frac{\\partial L}{\\partial W_2}$ : $W_2$ に関する損失 $L$ の勾配 (n_nodes1, n_nodes2)\n",
    "\n",
    "\n",
    "$\\frac{\\partial L}{\\partial Z_2}$ : $Z_2$ に関する損失 $L$ の勾配 (batch_size, n_nodes2)\n",
    "\n",
    "\n",
    "$A_2$ : 2層目の出力 (batch_size, n_nodes2)\n",
    "\n",
    "\n",
    "$Z_{1}$ : 1層目の活性化関数の出力 (batch_size, n_nodes1)\n",
    "\n",
    "\n",
    "$W_2$ : 2層目の重み (n_nodes1, n_nodes2)\n",
    "\n",
    "\n",
    "「1層目」\n",
    "\n",
    "\n",
    "$$\n",
    "\\frac{\\partial L}{\\partial A_1}=\\frac{\\partial L}{\\partial Z_1}\\odot\\{1-tanh^2(A_1)\\}\n",
    "$$\n",
    "$$\n",
    "\\frac{\\partial L}{\\partial B_1}=\\Sigma^{n_b}_j\\frac{\\partial L}{\\partial A_{1\\_j}}\n",
    "$$\n",
    "$$\n",
    "\\frac{\\partial L}{\\partial W_1}=X^T⋅\\frac{\\partial L}{\\partial A_1}\n",
    "$$\n",
    "\n",
    "\n",
    "$\\frac{\\partial L}{\\partial A_1}$ : $A_1$ に関する損失 $L$ の勾配 (batch_size, n_nodes1)\n",
    "\n",
    "\n",
    "$\\frac{\\partial L}{\\partial A_{1_j}}$ : j番目のサンプルの$A_1$ に関する損失 $L$ の勾配 (n_nodes1,)\n",
    "\n",
    "\n",
    "$\\frac{\\partial L}{\\partial B_1}$ : $B_1$ に関する損失 $L$ の勾配 (n_output,)\n",
    "\n",
    "\n",
    "$\\frac{\\partial L}{\\partial W_1}$ : $W_1$ に関する損失 $L$ の勾配 (n_features, n_nodes1)\n",
    "\n",
    "\n",
    "$\\frac{\\partial L}{\\partial Z_1}$ : $Z_1$ に関する損失 $L$ の勾配 (batch_size, n_nodes1)\n",
    "\n",
    "\n",
    "$A_1$ : 1層目の出力 (batch_size, n_nodes1)\n",
    "\n",
    "\n",
    "$X$ : 特徴量ベクトル (batch_size, n_features)\n",
    "\n",
    "\n",
    "$W_1$ : 1層目の重み (n_features, n_nodes1)\n",
    "\n",
    "\n",
    "### 《補足》\n",
    "\n",
    "\n",
    "活性化関数にシグモイド関数を使用した場合は、次のようになります。\n",
    "\n",
    "$$\n",
    "\\frac{\\partial L}{\\partial A_2}=\\frac{\\partial L}{\\partial Z_2}= \\odot\\{1- sigmoid(A_2)\\}sigmoid(A_2)\n",
    "$$\n",
    "$$\n",
    "\\frac{\\partial L}{\\partial A_1}=\\frac{\\partial L}{\\partial Z_1}= \\odot\\{1- sigmoid(A_1)\\}sigmoid(A_1)\n",
    "$$\n"
   ]
  },
  {
   "cell_type": "markdown",
   "metadata": {},
   "source": [
    "### 【解答】一つずつ実装していく"
   ]
  },
  {
   "cell_type": "code",
   "execution_count": 173,
   "metadata": {},
   "outputs": [],
   "source": [
    "# 出力層\n",
    "def error_output(y_train, Z3):\n",
    "    \"\"\"error function at the output\"\"\"\n",
    "    eo = y_train - Z3\n",
    "    return eo\n",
    "\n",
    "\n",
    "def gradient_weight_output(Z2, eo):\n",
    "    \"\"\"gradients for the weight parameter at the output layer\"\"\"\n",
    "    return   Z2.T @ eo\n",
    "\n",
    "\n",
    "def gradient_bias_output(eo):\n",
    "    \"\"\"gradients for the bias parameter at the output layer\"\"\"\n",
    "    return np.sum(eo, axis=0, keepdims=True)\n"
   ]
  },
  {
   "cell_type": "code",
   "execution_count": 177,
   "metadata": {},
   "outputs": [
    {
     "data": {
      "text/plain": [
       "array([[ 0.95000491, -0.05001154, -0.0500038 , -0.04999646, -0.04999226,\n",
       "        -0.04999771, -0.05001215, -0.04999765, -0.04999463, -0.04999334],\n",
       "       [-0.05000219, -0.05000286, -0.04998961, -0.04999086, -0.05000167,\n",
       "         0.94999702, -0.04999657, -0.04999813, -0.04999197, -0.04999869],\n",
       "       [ 0.9500031 , -0.04999857, -0.05000736, -0.04999499, -0.05000245,\n",
       "        -0.0500026 , -0.04999717, -0.05000309, -0.04999907, -0.04999189],\n",
       "       [-0.05000456, -0.04998904, -0.04999648, -0.05000282, -0.04999657,\n",
       "        -0.04998901, -0.04999462, -0.05000615, -0.04999785,  0.9499964 ],\n",
       "       [-0.0499917 , -0.05001689, -0.05000551, -0.05000265, -0.05000074,\n",
       "        -0.05000062, -0.05000718, -0.04999537,  0.94999725, -0.04999941],\n",
       "       [-0.04999603,  0.95000339, -0.04999353, -0.05000569, -0.05000183,\n",
       "        -0.05001258, -0.05000351, -0.04999748, -0.05000751, -0.05001009],\n",
       "       [-0.0500051 , -0.04999751, -0.05000454, -0.05000048, -0.05000523,\n",
       "        -0.05000627, -0.04998976, -0.05000487,  0.94998901, -0.05000776],\n",
       "       [-0.05000002, -0.04998522,  0.94999835, -0.05000212, -0.04999798,\n",
       "        -0.05001001, -0.04999718, -0.04999897, -0.04999985, -0.05000974],\n",
       "       [-0.04999704, -0.04999674,  0.95001219, -0.050006  , -0.04999698,\n",
       "        -0.04999817, -0.0499915 , -0.04999435, -0.05000288, -0.04999678],\n",
       "       [-0.05000578, -0.04999707, -0.04998948, -0.04999987, -0.04999978,\n",
       "        -0.05000239, -0.0500021 ,  0.95000312, -0.04999663, -0.0500003 ],\n",
       "       [-0.04999743, -0.05000609, -0.05000561,  0.950003  , -0.04999582,\n",
       "        -0.05000227, -0.05000609, -0.04999951, -0.05000477, -0.04999979],\n",
       "       [-0.05000134, -0.05000036, -0.0500012 , -0.04999957, -0.0499948 ,\n",
       "        -0.05000453, -0.0499994 , -0.05000449, -0.04999755,  0.95000151],\n",
       "       [-0.04999804,  0.94998593, -0.0500053 , -0.0500052 , -0.0500008 ,\n",
       "        -0.05000667, -0.0500013 , -0.05000537, -0.05001054, -0.05001493],\n",
       "       [-0.04998898, -0.04999352, -0.05000172, -0.04998887, -0.04999497,\n",
       "        -0.04998734, -0.0500009 ,  0.95000453, -0.05000821, -0.04998805],\n",
       "       [-0.05000207, -0.04998908, -0.04998936,  0.95000039, -0.05000826,\n",
       "        -0.04999752, -0.04999715, -0.04999635, -0.05000603, -0.05000236],\n",
       "       [-0.05001041, -0.05000162, -0.05000423, -0.04999893,  0.9499993 ,\n",
       "        -0.04999297, -0.0499999 , -0.04999985, -0.04999117, -0.04999908],\n",
       "       [ 0.95000055, -0.05001096, -0.05001252, -0.04999742, -0.05000087,\n",
       "        -0.04999947, -0.05000042, -0.05000789, -0.05000098, -0.04999672],\n",
       "       [-0.05000716, -0.04998834, -0.04999902, -0.05000312, -0.05000075,\n",
       "        -0.04999978, -0.04999866, -0.04999792, -0.04998877,  0.9500063 ],\n",
       "       [-0.05000071, -0.04999841, -0.05000158, -0.05000478, -0.04999958,\n",
       "        -0.04999379,  0.9500018 , -0.04999726, -0.04999378, -0.05000544],\n",
       "       [-0.05      , -0.05000549,  0.9500003 , -0.05000355, -0.05000796,\n",
       "        -0.04999331, -0.05000622, -0.05000296, -0.04999406, -0.04998983]])"
      ]
     },
     "execution_count": 177,
     "metadata": {},
     "output_type": "execute_result"
    }
   ],
   "source": [
    "eo = error_output(y_train[100:120], Z3)\n",
    "eo"
   ]
  },
  {
   "cell_type": "code",
   "execution_count": 175,
   "metadata": {},
   "outputs": [
    {
     "data": {
      "text/plain": [
       "(1, 10)"
      ]
     },
     "execution_count": 175,
     "metadata": {},
     "output_type": "execute_result"
    }
   ],
   "source": [
    "bais_output = gradient_bias_output(eo)\n",
    "bais_output.shape"
   ]
  },
  {
   "cell_type": "code",
   "execution_count": 176,
   "metadata": {},
   "outputs": [
    {
     "data": {
      "text/plain": [
       "array([[0.97526997, 0.48836587, 0.97223021, ..., 0.48622376, 0.48884411,\n",
       "        0.97179804],\n",
       "       [1.03347046, 0.51475022, 1.03242349, ..., 0.51688692, 0.51863408,\n",
       "        1.03355725],\n",
       "       [0.97589755, 0.48839719, 0.98009516, ..., 0.48819549, 0.48986395,\n",
       "        0.97925914],\n",
       "       ...,\n",
       "       [0.97459702, 0.48523402, 0.97310175, ..., 0.48620224, 0.4864084 ,\n",
       "        0.97478992],\n",
       "       [1.01226887, 0.50796871, 1.01300043, ..., 0.50895557, 0.50850927,\n",
       "        1.00938856],\n",
       "       [1.01422597, 0.5070899 , 1.01257994, ..., 0.50620436, 0.50666072,\n",
       "        1.01374623]])"
      ]
     },
     "execution_count": 176,
     "metadata": {},
     "output_type": "execute_result"
    }
   ],
   "source": [
    "weight_output = gradient_weight_output(Z2, eo)\n",
    "weight_output"
   ]
  },
  {
   "cell_type": "code",
   "execution_count": 134,
   "metadata": {},
   "outputs": [],
   "source": [
    "# 二層目\n",
    "def error_second(eo, W3, A2):\n",
    "    \"\"\"error at the second layer\"\"\"\n",
    "    es = np.dot(eo, W3.T) * (sigmoid_forward(A2) * (1 - sigmoid_forward(A2)))\n",
    "    return es\n",
    "\n",
    "\n",
    "def gradient_weight_second(Z1, es):\n",
    "    \"\"\"gradients for the weight parameter at the output layer\"\"\"\n",
    "    return Z1.T @ es / 20\n",
    "\n",
    "\n",
    "def gradient_bias_second(es):\n",
    "    \"\"\"gradients for the bias parameter at the output layer\"\"\"\n",
    "    return np.sum(es, axis=0, keepdims=True)"
   ]
  },
  {
   "cell_type": "code",
   "execution_count": 135,
   "metadata": {},
   "outputs": [
    {
     "data": {
      "text/plain": [
       "(20, 200)"
      ]
     },
     "execution_count": 135,
     "metadata": {},
     "output_type": "execute_result"
    }
   ],
   "source": [
    "es = error_second(eo, W3, A2)\n",
    "es.shape"
   ]
  },
  {
   "cell_type": "code",
   "execution_count": 136,
   "metadata": {},
   "outputs": [
    {
     "data": {
      "text/plain": [
       "(1, 200)"
      ]
     },
     "execution_count": 136,
     "metadata": {},
     "output_type": "execute_result"
    }
   ],
   "source": [
    "bias_second = gradient_bias_second(es)\n",
    "bias_second.shape"
   ]
  },
  {
   "cell_type": "code",
   "execution_count": 138,
   "metadata": {},
   "outputs": [
    {
     "data": {
      "text/plain": [
       "array([[-6.14431472e-04, -5.54665432e-04,  5.90867014e-05, ...,\n",
       "        -1.70523028e-04,  1.60615339e-04, -3.27757451e-05],\n",
       "       [-6.33005442e-04, -5.84863852e-04,  5.66073817e-05, ...,\n",
       "        -1.42991338e-04,  1.97976253e-04, -5.44420119e-05],\n",
       "       [-6.05361838e-04, -5.64485802e-04,  6.33050926e-05, ...,\n",
       "        -1.54716942e-04,  1.71633705e-04, -4.18735689e-05],\n",
       "       ...,\n",
       "       [-6.36943585e-04, -5.65171499e-04,  5.38748299e-05, ...,\n",
       "        -1.59167104e-04,  1.71510993e-04, -4.78519724e-05],\n",
       "       [-6.38154283e-04, -5.82544643e-04,  4.01878908e-05, ...,\n",
       "        -1.53616055e-04,  1.77385135e-04, -4.54103321e-05],\n",
       "       [-5.75529129e-04, -5.36099415e-04,  5.22165165e-05, ...,\n",
       "        -1.49034251e-04,  1.66118206e-04, -3.88255608e-05]])"
      ]
     },
     "execution_count": 138,
     "metadata": {},
     "output_type": "execute_result"
    }
   ],
   "source": [
    "weight_second = gradient_weight_second(Z1, es)\n",
    "weight_second"
   ]
  },
  {
   "cell_type": "code",
   "execution_count": 139,
   "metadata": {},
   "outputs": [],
   "source": [
    "# 一層目\n",
    "def error_first(es, W2, A1):\n",
    "    \"\"\"error at the first layer\"\"\"\n",
    "    ef = np.dot(es, W2.T) * (sigmoid_forward(A1) * (1 - sigmoid_forward(A1)))\n",
    "    return ef\n",
    "\n",
    "\n",
    "def gradient_weight_first(X_train, ef):\n",
    "    \"\"\"gradients for the weight parameter at the first layer\"\"\"\n",
    "    return X_train.T @ ef / 20\n",
    "\n",
    "\n",
    "def gradient_bias_first(ef):\n",
    "    \"\"\"gradients for the bias parameter at the first layer\"\"\"\n",
    "    return np.sum(ef, axis=0, keepdims=True)"
   ]
  },
  {
   "cell_type": "code",
   "execution_count": 140,
   "metadata": {},
   "outputs": [
    {
     "data": {
      "text/plain": [
       "(20, 400)"
      ]
     },
     "execution_count": 140,
     "metadata": {},
     "output_type": "execute_result"
    }
   ],
   "source": [
    "ef = error_first(es, W2, A1)\n",
    "ef.shape"
   ]
  },
  {
   "cell_type": "code",
   "execution_count": 141,
   "metadata": {},
   "outputs": [
    {
     "data": {
      "text/plain": [
       "(1, 400)"
      ]
     },
     "execution_count": 141,
     "metadata": {},
     "output_type": "execute_result"
    }
   ],
   "source": [
    "bias_first = gradient_bias_first(ef)\n",
    "bias_first.shape"
   ]
  },
  {
   "cell_type": "code",
   "execution_count": 142,
   "metadata": {},
   "outputs": [
    {
     "data": {
      "text/plain": [
       "(784, 400)"
      ]
     },
     "execution_count": 142,
     "metadata": {},
     "output_type": "execute_result"
    }
   ],
   "source": [
    "weight_first = gradient_weight_first(X_train[100:120], ef)\n",
    "weight_first.shape"
   ]
  },
  {
   "cell_type": "code",
   "execution_count": null,
   "metadata": {},
   "outputs": [],
   "source": []
  },
  {
   "cell_type": "markdown",
   "metadata": {},
   "source": [
    "# 【問題5】推定\n",
    "推定を行うメソッドを作成してください。\n",
    "\n",
    "\n",
    "フォワードプロパゲーションによって出力された10個の確率の中で、最も高いものはどれかを判定します。\n",
    "\n",
    "\n",
    "[numpy.argmax — NumPy v1.17 Manual](https://docs.scipy.org/doc/numpy/reference/generated/numpy.argmax.html)"
   ]
  },
  {
   "cell_type": "code",
   "execution_count": 62,
   "metadata": {},
   "outputs": [],
   "source": [
    "def predict(X):\n",
    "    _,_,_,_,_,yy = forward_propagation(X)\n",
    "    return np.argmax(yy, axis=1)\n"
   ]
  },
  {
   "cell_type": "code",
   "execution_count": 63,
   "metadata": {},
   "outputs": [
    {
     "data": {
      "text/plain": [
       "array([7, 6, 5, 1, 4, 5, 7, 7, 5, 5, 8, 5, 6, 7, 5, 1, 4, 4, 3, 7])"
      ]
     },
     "execution_count": 63,
     "metadata": {},
     "output_type": "execute_result"
    }
   ],
   "source": [
    "predict(X_train[120:140])"
   ]
  },
  {
   "cell_type": "code",
   "execution_count": null,
   "metadata": {},
   "outputs": [],
   "source": []
  },
  {
   "cell_type": "markdown",
   "metadata": {},
   "source": [
    "# 【問題6】学習と推定\n",
    "MNISTのデータを学習・推定し、Accuracyを計算してください。"
   ]
  },
  {
   "cell_type": "code",
   "execution_count": 342,
   "metadata": {},
   "outputs": [],
   "source": [
    "import copy\n",
    "import time\n",
    "\n",
    "class Linear:\n",
    "    \"\"\"\n",
    "    線形結合\n",
    "    \n",
    "    Parameters\n",
    "    ----------\n",
    "    A_ : 次の形のndarray, shape (batch_size, n_nodes_self)\n",
    "      順伝播の出力\n",
    "    dZ_ : 次の形のndarray, shape (batch_size, n_nodes_prev)\n",
    "      逆伝播入力に対するdZ勾配\n",
    "    dw_ : 次の形のndarray, shape (n_nodes_prev, n_nodes_self)\n",
    "      逆伝播入力に対するdw勾配\n",
    "    db_ : 次の形のndarray, shape (n_nodes_self, )\n",
    "      逆伝播入力に対するdb勾配\n",
    "    \"\"\"\n",
    "    def __init__(self):\n",
    "        self.A_ = None\n",
    "        self.dZ_ = None\n",
    "        self.dw_ = None\n",
    "        self.db_ = None\n",
    "        \n",
    "    def forward(self, Z, w, b):\n",
    "        \"\"\"\n",
    "        準伝播\n",
    "        \n",
    "        Parameters\n",
    "        ----------\n",
    "        Z : 次の形のndarray, shape (batch_size, n_nodes_prev)\n",
    "          ある層に順伝播された特徴量データ\n",
    "        w : 次の形のndarray, shape (n_nodes_prev, n_nodes_self)\n",
    "          ある層の重み\n",
    "        b : 次の形のndarray, shape (n_nodes_self, )\n",
    "          ある層のバイアス\n",
    "        \"\"\"\n",
    "        self.A_ = Z @ w + b\n",
    "        \n",
    "        return self.A_\n",
    "    \n",
    "    def backward(self, Z, w, dA):\n",
    "        \"\"\"\n",
    "        逆伝播\n",
    "        \n",
    "        Parameters\n",
    "        ----------\n",
    "        Z : 次の形のndarray, shape (batch_size, n_nodes_prev)\n",
    "          ある層に順伝播された特徴量データ\n",
    "        w : 次の形のndarray, shape (n_nodes_prev, n_nodes_self)\n",
    "          ある層の重み\n",
    "        dA : 次の形のndarray, shape (batch_size, n_nodes_self)\n",
    "          ある層に逆伝播されたAに関するLoss勾配\n",
    "        \"\"\"\n",
    "        self.dZ_ = dA @ w.T\n",
    "        self.dw_ = Z.T @ dA\n",
    "        self.db_ = np.sum(dA, axis=0)\n",
    "        \n",
    "        return self.dZ_, self.dw_, self.db_\n",
    "    \n",
    "    \n",
    "class Sigmoid:\n",
    "    \"\"\"\n",
    "    シグモイド関数\n",
    "    \n",
    "    Parameters\n",
    "    ----------\n",
    "    Z_ : 次の形のndarray, shape (batch_size, n_nodes_self)\n",
    "      順伝播の出力\n",
    "    dA_ : 次の形のndarray, shape (batch_size, n_nodes_self)\n",
    "      逆伝播入力に対するdA勾配\n",
    "    \"\"\"\n",
    "    def __init__(self):\n",
    "        self.Z_ = None\n",
    "        self.dA_ = None\n",
    "        \n",
    "    def forward(self, A):\n",
    "        \"\"\"\n",
    "        順伝播\n",
    "        \n",
    "        Parameters\n",
    "        ----------\n",
    "        A : 次の形のndarray, shape (batch_size, n_nodes_self)\n",
    "          ある層に順伝播された特徴量データ\n",
    "        \"\"\"\n",
    "        self.Z_ = 1 / (1+np.exp(-A))\n",
    "        \n",
    "        return self.Z_\n",
    "    \n",
    "    def backward(self, dZ):\n",
    "        \"\"\"\n",
    "        逆伝播\n",
    "        \n",
    "        Parameters\n",
    "        ----------\n",
    "        dZ : 次の形のndarray, shape (batch_size, n_nodes_self)\n",
    "          ある層に逆伝播されたZに関するLoss勾配\n",
    "        \"\"\"\n",
    "        self.dA_ = dZ * ((1 - self.Z_) * self.Z_)\n",
    "        \n",
    "        return self.dA_\n",
    "        \n",
    "class Tanh:\n",
    "    \"\"\"\n",
    "    ハイパボリックタンジェント関数\n",
    "    \n",
    "    Parameters\n",
    "    ----------\n",
    "    Z_ : 次の形のndarray, shape (batch_size, n_nodes_self)\n",
    "      順伝播の出力\n",
    "    dA_ : 次の形のndarray, shape (batch_size, n_nodes_self)\n",
    "      逆伝播入力に対するdA勾配\n",
    "    \"\"\"\n",
    "    def __init__(self):\n",
    "        self.Z_ = None\n",
    "        self.dA_ = None\n",
    "        \n",
    "    def forward(self, A):\n",
    "        \"\"\"\n",
    "        順伝播\n",
    "        \n",
    "        Parameters\n",
    "        ----------\n",
    "        A : 次の形のndarray, shape (batch_size, n_nodes_self)\n",
    "          ある層に順伝播された特徴量データ\n",
    "        \"\"\"\n",
    "        self.Z_ = np.tanh(A)\n",
    "        \n",
    "        return self.Z_\n",
    "    \n",
    "    def backward(self, dZ):\n",
    "        \"\"\"\n",
    "        逆伝播\n",
    "        \n",
    "        Parameters\n",
    "        ----------\n",
    "        dZ : 次の形のndarray, shape (batch_size, n_nodes_self)\n",
    "          ある層に逆伝播されたZに関するLoss勾配\n",
    "        \"\"\"\n",
    "        self.dA_ = dZ * (1 - self.Z_ ** 2)\n",
    "        \n",
    "        return self.dA_ \n",
    "\n",
    "class Softmax:\n",
    "    \"\"\"\n",
    "    SoftMax関数\n",
    "    \n",
    "    Parameters\n",
    "    ----------\n",
    "    Z_ : 次の形のndarray, shape (batch_size, n_nodes_self)\n",
    "      順伝播の出力\n",
    "    dA_ : 次の形のndarray, shape (batch_size, n_nodes_self)\n",
    "      逆伝播入力に対するdA勾配\n",
    "    \"\"\"\n",
    "    def __init__(self):\n",
    "        self.Z_ = None\n",
    "        self.dA_ = None\n",
    "    \n",
    "    def forward(self, A):\n",
    "        \"\"\"\n",
    "        順伝播\n",
    "        \n",
    "        Parameters\n",
    "        ----------\n",
    "        A : 次の形のndarray, shape (batch_size, n_nodes_self)\n",
    "          ある層に順伝播された特徴量データ\n",
    "        \"\"\"\n",
    "        # オーバーフロー対策として定数を引き算する\n",
    "        C = np.max(A)\n",
    "        self.Z_ = np.exp(A - C) / np.sum(np.exp(A - C), axis=1)[:, None]\n",
    "        \n",
    "        return self.Z_\n",
    "    \n",
    "    def backward(self, y):\n",
    "        \"\"\"\n",
    "        逆伝播\n",
    "        \n",
    "        Parameters\n",
    "        ----------\n",
    "        y : 次の形のndarray, shape (batch_size, n_nodes_self)\n",
    "          正解ラベルデータ\n",
    "        \"\"\"\n",
    "        self.dA_ = self.Z_ - y\n",
    "        \n",
    "        return self.dA_\n",
    "    \n",
    "class GetMiniBatch:\n",
    "    \"\"\"\n",
    "    ミニバッチを取得するイテレータ\n",
    "\n",
    "    Parameters\n",
    "    ----------\n",
    "    X : 次の形のndarray, shape (n_samples, n_features)\n",
    "      訓練データ\n",
    "    y : 次の形のndarray, shape (n_samples, 1)\n",
    "      正解値\n",
    "    batch_size : int\n",
    "      バッチサイズ\n",
    "    seed : int\n",
    "      NumPyの乱数のシード\n",
    "    \"\"\"\n",
    "    def __init__(self, X, y, batch_size = 20, seed=0):\n",
    "        self.batch_size = batch_size\n",
    "        np.random.seed(seed)\n",
    "        shuffle_index = np.random.permutation(np.arange(X.shape[0]))\n",
    "        self._X = X[shuffle_index]\n",
    "        self._y = y[shuffle_index]\n",
    "        self._stop = np.ceil(X.shape[0]/self.batch_size).astype(np.int)\n",
    "    def __len__(self):\n",
    "        return self._stop\n",
    "    def __getitem__(self,item):\n",
    "        p0 = item*self.batch_size\n",
    "        p1 = item*self.batch_size + self.batch_size\n",
    "        return self._X[p0:p1], self._y[p0:p1]        \n",
    "    def __iter__(self):\n",
    "        self._counter = 0\n",
    "        return self\n",
    "    def __next__(self):\n",
    "        if self._counter >= self._stop:\n",
    "            raise StopIteration()\n",
    "        p0 = self._counter*self.batch_size\n",
    "        p1 = self._counter*self.batch_size + self.batch_size\n",
    "        self._counter += 1\n",
    "        return self._X[p0:p1], self._y[p0:p1]\n",
    "    \n",
    "    \n",
    "class SSScratchSimpleNeuralNetworkClassifier():\n",
    "    \"\"\"\n",
    "    シンプルな三層ニューラルネットワーク分類器\n",
    "    \n",
    "    Parameters\n",
    "    ----------\n",
    "    epoch : int\n",
    "      エポック数\n",
    "    lr : float\n",
    "      学習率\n",
    "    sigma : float\n",
    "      初期パラメータ用\n",
    "    n_nodes1 : int\n",
    "      1層目のノード数\n",
    "    n_nodes2 : int\n",
    "      2層目のノード数\n",
    "    n_output : int\n",
    "      出力層のノード数\n",
    "    batch_size : int\n",
    "      ミニバッチのサンプル数\n",
    "      \n",
    "    Attributes\n",
    "    ----------\n",
    "    w : 次の形のndarray, shape (n_nodes_prev, n_nodes_self)\n",
    "      重みパラメータ\n",
    "    b : 次の形のndarray, shape (n_nodes_self, )\n",
    "      バイアスパラメータ\n",
    "    loss_train : list\n",
    "      訓練データに対するLoss\n",
    "    loss_val : list\n",
    "      検証データに対するLoss\n",
    "    verbose : bool\n",
    "      学習経過の出力\n",
    "    \"\"\"\n",
    "    \n",
    "    def __init__(self, epoch=10, sigma=0.1, lr=0.1, n_nodes1=400, n_nodes2=200, n_output=10, batch_size=20, verbose=False, **kwargs):\n",
    "        self.epoch = epoch\n",
    "        self.lr = lr\n",
    "        self.sigma = sigma\n",
    "        self.n_nodes1 = n_nodes1\n",
    "        self.n_nodes2 = n_nodes2\n",
    "        self.n_output = n_output\n",
    "        self.batch_size = batch_size\n",
    "        self.w = None\n",
    "        self.b = None\n",
    "        self.loss_train = []\n",
    "        self.loss_val = []\n",
    "        self.verbose = verbose    \n",
    "\n",
    "    def _params_init(self, n_features, n_output):\n",
    "        \"\"\"\n",
    "        3層ニューラルネット用のパラメータ初期化関数\n",
    "\n",
    "        Returns\n",
    "        -------\n",
    "        w_params : list\n",
    "          各層の重みを格納したリスト\n",
    "        b_params : list\n",
    "          各層のバイアスを格納したリスト\n",
    "        \"\"\"\n",
    "        W1 = self.sigma * np.random.randn(n_features, self.n_nodes1)\n",
    "        W2 = self.sigma * np.random.randn(self.n_nodes1, self.n_nodes2)\n",
    "        W3 = self.sigma * np.random.randn(self.n_nodes2, n_output)\n",
    "\n",
    "        B1 = np.random.randn(self.n_nodes1)\n",
    "        B2 = np.random.randn(self.n_nodes2)\n",
    "        B3 = np.random.randn(n_output)\n",
    "\n",
    "        w_params = np.array([W1, W2, W3], dtype='object')\n",
    "        b_params = np.array([B1, B2, B3], dtype='object')\n",
    "\n",
    "        return w_params, b_params\n",
    "    \n",
    "\n",
    "    def fit(self, X, y, X_val=None, y_val=None):\n",
    "        \"\"\"\n",
    "        ニューラルネットワーク分類器を学習する。\n",
    "\n",
    "        Parameters\n",
    "        ----------\n",
    "        X : 次の形のndarray, shape (n_samples, n_features)\n",
    "            訓練データの特徴量\n",
    "        y : 次の形のndarray, shape (n_samples, n_classes)\n",
    "            訓練データの正解値\n",
    "        X_val : 次の形のndarray, shape (n_samples, n_features)\n",
    "            検証データの特徴量\n",
    "        y_val : 次の形のndarray, shape (n_samples, n_classes)\n",
    "            検証データの正解値\n",
    "        \"\"\"\n",
    "        w, b = self._params_init(len(X[0]), self.n_output)\n",
    "\n",
    "        # レイヤーインスタンスを作成\n",
    "        linear_1 = copy.deepcopy(Linear())\n",
    "        activ_1 = copy.deepcopy(Sigmoid())\n",
    "        linear_2 = copy.deepcopy(Linear())\n",
    "        activ_2 = copy.deepcopy(Sigmoid())\n",
    "        linear_3 = copy.deepcopy(Linear())\n",
    "        softmax = copy.deepcopy(Softmax())\n",
    "\n",
    "        \n",
    "        for i in range(self.epoch):\n",
    "            \n",
    "            get_mini_batch_t = GetMiniBatch(X, y, batch_size=self.batch_size, seed=i)\n",
    "            \n",
    "            times = []\n",
    "            \n",
    "            start = time.time()\n",
    "            \n",
    "            # 各mini batchの損失をリスト化\n",
    "            loss_batch_t = []\n",
    "            \n",
    "            for X_mini, y_mini in get_mini_batch_t:\n",
    "                \n",
    "                # 順伝播\n",
    "                A1 = linear_1.forward(X_mini, w[0], b[0])\n",
    "                Z1 = activ_1.forward(A1)\n",
    "\n",
    "                A2 = linear_2.forward(Z1, w[1], b[1])\n",
    "                Z2 = activ_2.forward(A2)\n",
    "\n",
    "                A3 = linear_3.forward(Z2, w[2], b[2])\n",
    "                Z3 = softmax.forward(A3)\n",
    "\n",
    "                # 逆伝播\n",
    "                dA3 = softmax.backward(y_mini)\n",
    "                dZ2, dw3, db3 = linear_3.backward(Z2, w[2], dA3)\n",
    "\n",
    "                dA2 = activ_2.backward(dZ2)\n",
    "                dZ1, dw2, db2 = linear_2.backward(Z1, w[1], dA2)\n",
    "\n",
    "                dA1 = activ_1.backward(dZ1)\n",
    "                _, dw1, db1 = linear_1.backward(X_mini, w[0], dA1)\n",
    "\n",
    "                # 確率的勾配降下法\n",
    "                w -= self.lr * np.array([dw1, dw2, dw3], dtype='object') \n",
    "                b -= self.lr * np.array([db1, db2, db3], dtype='object') \n",
    "                \n",
    "                # 損失関数\n",
    "                loss_batch_t.append(self.cross_entropy(Z3, y_mini, len(X_mini)))\n",
    "            \n",
    "            # 各epochの平均損失をselfに格納\n",
    "            loss_train = np.mean(loss_batch_t)\n",
    "            self.loss_train.append(loss_train)\n",
    "            \n",
    "            \n",
    "            # 検証データの推定\n",
    "            if hasattr(X_val, '__array__') and hasattr(y_val, '__array__'):\n",
    "                \n",
    "                batch_size_v = int(self.batch_size * len(X_val)/len(X))\n",
    "                get_mini_batch_v = GetMiniBatch(X_val, y_val, batch_size=batch_size_v)\n",
    "                loss_batch_v = []\n",
    "\n",
    "                for X_mini, y_mini in get_mini_batch_v:\n",
    "                    A1 = linear_1.forward(X_mini, w[0], b[0])\n",
    "                    Z1 = activ_1.forward(A1)\n",
    "\n",
    "                    A2 = linear_2.forward(Z1, w[1], b[1])\n",
    "                    Z2 = activ_2.forward(A2)\n",
    "\n",
    "                    A3 = linear_3.forward(Z2, w[2], b[2])\n",
    "                    Z3 = softmax.forward(A3)\n",
    "                \n",
    "                    loss_batch_v.append(self.cross_entropy(Z3, y_mini, len(X_mini)))\n",
    "            \n",
    "                # 各epochの平均損失をselfに格納\n",
    "                loss_val = np.mean(loss_batch_v)\n",
    "                self.loss_val.append(loss_val)\n",
    "            \n",
    "            end = time.time()\n",
    "            \n",
    "            times.append(end-start)\n",
    "\n",
    "\n",
    "            if self.verbose and (i+1) % 10 == 0:\n",
    "                print(\"Epoch {}; Loss {:.4f}\".format(i+1, loss_train),\n",
    "                      \"  --Avg Epoch Time {:.4f}sec\".format(np.mean(times)))\n",
    "                \n",
    "        # 全epoch終了後のパラメータを保存    \n",
    "        self.w = w\n",
    "        self.b = b\n",
    "\n",
    "        \n",
    "            \n",
    "    def predict(self, X):\n",
    "        \"\"\"\n",
    "        ニューラルネットワーク分類器を使い推定する。\n",
    "\n",
    "        Parameters\n",
    "        ----------\n",
    "        X : 次の形のndarray, shape (n_samples, n_features)\n",
    "            サンプル\n",
    "\n",
    "        Returns\n",
    "        -------\n",
    "            次の形のndarray, shape (n_samples, )\n",
    "            推定結果\n",
    "        \"\"\"\n",
    "        #print(X.shape)\n",
    "        #print(self.W[0])\n",
    "        #print(self.b[0])\n",
    "        A1 = Linear().forward(X, self.w[0], self.b[0])\n",
    "        Z1 = Sigmoid().forward(A1)\n",
    "\n",
    "        A2 = Linear().forward(Z1, self.w[1], self.b[1])\n",
    "        Z2 = Sigmoid().forward(A2)\n",
    "\n",
    "        A3 = Linear().forward(Z2, self.w[2], self.b[2])\n",
    "        Z3 = Softmax().forward(A3)\n",
    "        \n",
    "        return np.argmax(Z3, axis=1)\n",
    "        \n",
    "    \n",
    "    def cross_entropy(self, X, y, batch_size):\n",
    "        \"\"\"\n",
    "        クロスエントロピー誤差を計算\n",
    "\n",
    "        Parameters\n",
    "        ----------\n",
    "        X : 次の形のndarray, shape (batch_size, n_features)\n",
    "          入力データ\n",
    "        y : 次の形のndarray, shape (batch_size, n_classes)\n",
    "          入力データの正解ラベル\n",
    "\n",
    "        Returns\n",
    "        -------\n",
    "          float\n",
    "          クロスエントロピー誤差\n",
    "        \"\"\"\n",
    "        return (-1/batch_size) * np.sum((y*np.log(X)))"
   ]
  },
  {
   "cell_type": "code",
   "execution_count": 343,
   "metadata": {},
   "outputs": [
    {
     "name": "stdout",
     "output_type": "stream",
     "text": [
      "{'epoch': 100, 'lr': 0.01, 'sigma': 0.1, 'batch_size': 200}\n",
      "Epoch 10; Loss 0.0607   --Avg Epoch Time 2.8663sec\n",
      "Epoch 20; Loss 0.0161   --Avg Epoch Time 2.8388sec\n",
      "Epoch 30; Loss 0.0047   --Avg Epoch Time 2.9130sec\n",
      "Epoch 40; Loss 0.0022   --Avg Epoch Time 2.8304sec\n",
      "Epoch 50; Loss 0.0013   --Avg Epoch Time 2.8418sec\n",
      "Epoch 60; Loss 0.0010   --Avg Epoch Time 2.7593sec\n",
      "Epoch 70; Loss 0.0007   --Avg Epoch Time 2.7106sec\n",
      "Epoch 80; Loss 0.0006   --Avg Epoch Time 2.9743sec\n",
      "Epoch 90; Loss 0.0005   --Avg Epoch Time 2.7251sec\n",
      "Epoch 100; Loss 0.0004   --Avg Epoch Time 2.7491sec\n",
      "\n",
      " Accuracy: 0.9811\n"
     ]
    }
   ],
   "source": [
    "params = {'epoch': 100, \n",
    "          'lr': 0.01,\n",
    "          'sigma':  0.1,\n",
    "          'batch_size': 200}\n",
    "print(params)\n",
    "\n",
    "scratch_nn = SSScratchSimpleNeuralNetworkClassifier(verbose=True, **params)\n",
    "scratch_nn.fit(X_train, y_train, X_val, y_val)\n",
    "\n",
    "pred = scratch_nn.predict(X_test)\n",
    "\n",
    "print(\"\\n Accuracy: {}\".format(accuracy_score(y_test, pred)))"
   ]
  },
  {
   "cell_type": "code",
   "execution_count": 373,
   "metadata": {},
   "outputs": [
    {
     "name": "stdout",
     "output_type": "stream",
     "text": [
      "\n",
      " Accuracy: 0.9784\n"
     ]
    }
   ],
   "source": [
    "pred = temp.predict(X_test)\n",
    "print(\"\\n Accuracy: {}\".format(accuracy_score(y_test, pred)))"
   ]
  },
  {
   "cell_type": "code",
   "execution_count": null,
   "metadata": {},
   "outputs": [],
   "source": []
  },
  {
   "cell_type": "code",
   "execution_count": null,
   "metadata": {},
   "outputs": [],
   "source": []
  },
  {
   "cell_type": "code",
   "execution_count": null,
   "metadata": {},
   "outputs": [],
   "source": []
  },
  {
   "cell_type": "markdown",
   "metadata": {},
   "source": [
    "# 【問題7】学習曲線のプロット\n",
    "学習曲線をプロットしてください。\n",
    "\n",
    "\n",
    "ニューラルネットワークは過学習が発生しやすいため、学習曲線の確認が重要です。訓練データと検証データに対するエポックごとの損失（交差エントロピー誤差）を記録できるようにする必要があります。\n",
    "\n"
   ]
  },
  {
   "cell_type": "code",
   "execution_count": 374,
   "metadata": {},
   "outputs": [
    {
     "data": {
      "image/png": "[encoded data removed]",
      "text/plain": [
       "<Figure size 432x288 with 1 Axes>"
      ]
     },
     "metadata": {
      "needs_background": "light"
     },
     "output_type": "display_data"
    }
   ],
   "source": [
    "%matplotlib inline\n",
    "\n",
    "\n",
    "def plot_loss(model, title='Scratch NN Loss'):\n",
    "    plt.figure()\n",
    "\n",
    "    plt.plot(np.arange(len(model.loss_train)), model.loss_train, label='train loss')\n",
    "    plt.plot(np.arange(len(model.loss_val)), model.loss_val, label='val loss')\n",
    "    plt.title(title)\n",
    "    plt.xlabel(\"Epoch\")\n",
    "    plt.ylabel(\"Loss\")\n",
    "    plt.legend()\n",
    "\n",
    "    plt.show()\n",
    "    \n",
    "plot_loss(scratch_nn)"
   ]
  },
  {
   "cell_type": "code",
   "execution_count": null,
   "metadata": {},
   "outputs": [],
   "source": []
  },
  {
   "cell_type": "code",
   "execution_count": null,
   "metadata": {},
   "outputs": [],
   "source": []
  },
  {
   "cell_type": "markdown",
   "metadata": {},
   "source": [
    "# 【問題8】（アドバンス課題）誤分類の確認\n",
    "誤分類した画像はどのようなものだったかを確認してください。推定値を用意し、以下のコードを実行してください。\n",
    "\n",
    "\n",
    "### 《コード》"
   ]
  },
  {
   "cell_type": "code",
   "execution_count": 376,
   "metadata": {},
   "outputs": [
    {
     "data": {
      "image/png": "[encoded data removed]",
      "text/plain": [
       "<Figure size 432x432 with 36 Axes>"
      ]
     },
     "metadata": {},
     "output_type": "display_data"
    }
   ],
   "source": [
    "\"\"\"\n",
    "語分類結果を並べて表示する。画像の上の表示は「推定結果/正解」である。\n",
    "\n",
    "Parameters:\n",
    "----------\n",
    "y_pred : 推定値のndarray (n_samples,)\n",
    "y_val : 検証データの正解ラベル(n_samples,)\n",
    "X_val : 検証データの特徴量（n_samples, n_features)\n",
    "\"\"\"\n",
    "import numpy as np\n",
    "import matplotlib.pyplot as plt\n",
    "num = 36 # いくつ表示するか\n",
    "true_false = pred == y_test\n",
    "false_list = np.where(true_false==False)[0].astype(np.int)\n",
    "\n",
    "if false_list.shape[0] < num:\n",
    "    num = false_list.shape[0]\n",
    "fig = plt.figure(figsize=(6, 6))\n",
    "fig.subplots_adjust(left=0, right=0.8,  bottom=0, top=0.8, hspace=1, wspace=0.5)\n",
    "for i in range(num):\n",
    "    ax = fig.add_subplot(6, 6, i + 1, xticks=[], yticks=[])\n",
    "    ax.set_title(\"{} / {}\".format(pred[false_list[i]],y_test[false_list[i]]))\n",
    "    ax.imshow(X_test.reshape(-1,28,28)[false_list[i]], cmap='gray')"
   ]
  },
  {
   "cell_type": "markdown",
   "metadata": {},
   "source": [
    "人間の目でも判別しにくいものが多い。"
   ]
  },
  {
   "cell_type": "code",
   "execution_count": null,
   "metadata": {},
   "outputs": [],
   "source": []
  }
 ],
 "metadata": {
  "kernelspec": {
   "display_name": "Python 3",
   "language": "python",
   "name": "python3"
  },
  "language_info": {
   "codemirror_mode": {
    "name": "ipython",
    "version": 3
   },
   "file_extension": ".py",
   "mimetype": "text/x-python",
   "name": "python",
   "nbconvert_exporter": "python",
   "pygments_lexer": "ipython3",
   "version": "3.7.4"
  },
  "toc": {
   "base_numbering": 1,
   "nav_menu": {},
   "number_sections": true,
   "sideBar": true,
   "skip_h1_title": false,
   "title_cell": "Table of Contents",
   "title_sidebar": "Contents",
   "toc_cell": false,
   "toc_position": {},
   "toc_section_display": true,
   "toc_window_display": true
  }
 },
 "nbformat": 4,
 "nbformat_minor": 4
}
