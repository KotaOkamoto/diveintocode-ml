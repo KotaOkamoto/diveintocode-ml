{
 "cells": [
  {
   "cell_type": "markdown",
   "metadata": {},
   "source": [
    "# 【問題1】100日目の米粒の数"
   ]
  },
  {
   "cell_type": "code",
   "execution_count": 69,
   "metadata": {},
   "outputs": [
    {
     "name": "stdout",
     "output_type": "stream",
     "text": [
      "合計126.77穣粒\n"
     ]
    },
    {
     "data": {
      "image/png": "[encoded data removed]",
      "text/plain": [
       "<Figure size 432x288 with 1 Axes>"
      ]
     },
     "metadata": {
      "needs_background": "light"
     },
     "output_type": "display_data"
    }
   ],
   "source": [
    "import matplotlib.pyplot as plt\n",
    "import japanize_matplotlib\n",
    "\n",
    "rice = 1\n",
    "day = 100\n",
    "\n",
    "rice_per_day_list = []\n",
    "sum_rice = 0\n",
    "sum_rice_list = []\n",
    "\n",
    "for i in range(day):\n",
    "    rice_per_day_list.append(rice)\n",
    "    sum_rice += rice\n",
    "    sum_rice_list.append(sum_rice)\n",
    "    rice = rice * 2\n",
    "\n",
    "#rint(rice_per_day)\n",
    "print(\"合計{:.2f}穣粒\".format(sum_rice/10**28))\n",
    "#print(len(rice_per_day))\n",
    "\n",
    "%matplotlib inline\n",
    "\n",
    "plt.title(\"rice doubling of the day\")\n",
    "plt.xlabel(\"日数\")\n",
    "plt.ylabel(\"rice\")\n",
    "plt.plot(rice_per_day_list, marker='o')\n",
    "plt.plot(sum_rice_list, marker='o')\n",
    "plt.show()"
   ]
  },
  {
   "cell_type": "markdown",
   "metadata": {},
   "source": [
    "# 【問題2】100日目以外の米粒の数"
   ]
  },
  {
   "cell_type": "code",
   "execution_count": 66,
   "metadata": {
    "scrolled": true
   },
   "outputs": [
    {
     "name": "stdout",
     "output_type": "stream",
     "text": [
      "64日間で貰える米粒の数は、合計18,446,744,073,709,551,615粒です\n"
     ]
    },
    {
     "data": {
      "image/png": "[encoded data removed]",
      "text/plain": [
       "<Figure size 432x288 with 1 Axes>"
      ]
     },
     "metadata": {
      "needs_background": "light"
     },
     "output_type": "display_data"
    }
   ],
   "source": [
    "# 新左衛門の米の逸話を検証する関数。日数の初期値を100とする。\n",
    "\n",
    "def compute_sorori_shinzaemon(day=100): \n",
    "    grains = 1 # 初日の米粒\n",
    "    list_n_grains = [] # 日ごとの米粒量を格納するリスト\n",
    "    total_grains = 0 # 総米粒量\n",
    "    list_total_grains = [] # 加算リスト\n",
    "    \n",
    "    for _ in range(day):\n",
    "        list_n_grains.append(grains) # リストに格納\n",
    "        total_grains += grains # 加算\n",
    "        list_total_grains.append(total_grains) # 加算リストに格納\n",
    "        grains *= 2 # 一日ごとに倍にしていく\n",
    "\n",
    "    return list_n_grains, list_total_grains # 返り値、日ごとの数リストと加算リスト\n",
    "\n",
    "\n",
    "date = 64 # 授業がある日数を20日/月と4回(7月)と仮定\n",
    "\n",
    "list_n_grains, list_total_grains = compute_sorori_shinzaemon(date)\n",
    "\n",
    "print(\"{}日間で貰える米粒の数は、合計{:,}粒です\".format(date,sum(list_n_grains)))\n",
    "\n",
    "\n",
    "\n",
    "plt.title(\"day of grains\")\n",
    "plt.xlabel(\"day\")\n",
    "plt.ylabel(\"grains\")\n",
    "plt.plot(list_n_grains, marker='o')\n",
    "plt.plot(list_total_grains, marker='o')\n",
    "plt.show()"
   ]
  },
  {
   "cell_type": "markdown",
   "metadata": {},
   "source": [
    "# 【問題3】何人が何日生活できる米か"
   ]
  },
  {
   "cell_type": "code",
   "execution_count": 56,
   "metadata": {},
   "outputs": [
    {
     "name": "stdout",
     "output_type": "stream",
     "text": [
      "14人が134,068,434,747,002日間生活できる米量です。\n"
     ]
    }
   ],
   "source": [
    "def survival(grains, people=14): # 何人が何日生活できる米か\n",
    "    BOWL_IN_RICE = 3276 # 茶碗一杯当たりの米粒数\n",
    "    rice_per_day = people * BOWL_IN_RICE * 3 # 人数×3食分\n",
    "    days = grains // rice_per_day\n",
    " \n",
    "    return days\n",
    "\n",
    "\n",
    "people = 14 # MLコース受講人数\n",
    "\n",
    "days = survival(sum(list_n_grains), people)\n",
    "print(\"{}人が{:,}日間生活できる米量です。\".format(people,days))"
   ]
  },
  {
   "cell_type": "code",
   "execution_count": null,
   "metadata": {},
   "outputs": [],
   "source": []
  }
 ],
 "metadata": {
  "kernelspec": {
   "display_name": "Python 3",
   "language": "python",
   "name": "python3"
  },
  "language_info": {
   "codemirror_mode": {
    "name": "ipython",
    "version": 3
   },
   "file_extension": ".py",
   "mimetype": "text/x-python",
   "name": "python",
   "nbconvert_exporter": "python",
   "pygments_lexer": "ipython3",
   "version": "3.8.1"
  }
 },
 "nbformat": 4,
 "nbformat_minor": 4
}
