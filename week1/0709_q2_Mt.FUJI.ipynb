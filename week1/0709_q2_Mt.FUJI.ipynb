{
 "cells": [
  {
   "cell_type": "markdown",
   "metadata": {},
   "source": [
    "# 【問題1】富士山を超える最小の折る回数\n",
    "厚さが「富士山(3776m)」を超えるのは何回紙を折った時か計算するプログラムを作成する"
   ]
  },
  {
   "cell_type": "code",
   "execution_count": 55,
   "metadata": {},
   "outputs": [
    {
     "name": "stdout",
     "output_type": "stream",
     "text": [
      "26\n"
     ]
    }
   ],
   "source": [
    "des = 3776\n",
    "thick = 0.00008\n",
    "cnt = 0\n",
    "\n",
    "for _ in range(50):\n",
    "    thick = thick * 2\n",
    "    cnt += 1\n",
    "    if thick >= des:\n",
    "        print(cnt)\n",
    "        break\n",
    "\n",
    "#ワザとforでやった"
   ]
  },
  {
   "cell_type": "markdown",
   "metadata": {},
   "source": [
    "# 【問題2】任意の厚さに対応した関数を作成\n",
    "\n",
    "及び最も近い太陽以外の恒星までの折り返し回数を求める"
   ]
  },
  {
   "cell_type": "code",
   "execution_count": 53,
   "metadata": {},
   "outputs": [
    {
     "name": "stdout",
     "output_type": "stream",
     "text": [
      "距離4.01419e+16[m]を超えるのは69回目です。\n"
     ]
    }
   ],
   "source": [
    "def over_distance(destination, thickness=0.00008):\n",
    "    cnt = 0\n",
    "    while thickness < destination:\n",
    "        thickness *= 2\n",
    "        cnt += 1\n",
    "    return cnt\n",
    "\n",
    "destination = 4.01419e+16\n",
    "thickness = 0.00008\n",
    "\n",
    "\n",
    "print(\"距離{}[m]を超えるのは{}回目です。\".format(destination, over_distance(destination, thickness)))"
   ]
  },
  {
   "cell_type": "markdown",
   "metadata": {},
   "source": [
    "# 【問題3】必要な紙の長さ"
   ]
  },
  {
   "cell_type": "code",
   "execution_count": 54,
   "metadata": {},
   "outputs": [
    {
     "name": "stdout",
     "output_type": "stream",
     "text": [
      "8e-05[m]の厚みの紙が\n",
      "\n",
      "「月」に到達するために必要な紙の長さ : 3.24e+21[m]\n",
      "\n",
      "「富士山」に到達するために必要な紙の長さ : 1.89e+11[m]\n",
      "\n",
      "「最も近い太陽以外の恒星」に到達するために必要な紙の長さ : 1.46e+37[m]\n"
     ]
    }
   ],
   "source": [
    "import numpy as np\n",
    "\n",
    "n = 16\n",
    "thick = 0.0008\n",
    "\n",
    "def Number_of_folds(folds,thick=0.00008):\n",
    "    L = (np.pi*thick)/6 * (2**folds + 4) * (2**folds - 1)\n",
    "    return L\n",
    "\n",
    "FUJI_folds = 26\n",
    "MOON_folds = 43\n",
    "PC_folds = 69\n",
    "\n",
    "thick = 0.00008\n",
    "\n",
    "print(\"{}[m]の厚みの紙が\".format(thick))\n",
    "print()\n",
    "print(\"「月」に到達するために必要な紙の長さ : {:.2e}[m]\".format(Number_of_folds(MOON_folds,thick)))\n",
    "print()\n",
    "print(\"「富士山」に到達するために必要な紙の長さ : {:.2e}[m]\".format(Number_of_folds(FUJI_folds,thick)))\n",
    "print()\n",
    "print(\"「最も近い太陽以外の恒星」に到達するために必要な紙の長さ : {:.2e}[m]\".format(Number_of_folds(PC_folds,thick)))"
   ]
  },
  {
   "cell_type": "code",
   "execution_count": null,
   "metadata": {},
   "outputs": [],
   "source": []
  }
 ],
 "metadata": {
  "kernelspec": {
   "display_name": "Python 3",
   "language": "python",
   "name": "python3"
  },
  "language_info": {
   "codemirror_mode": {
    "name": "ipython",
    "version": 3
   },
   "file_extension": ".py",
   "mimetype": "text/x-python",
   "name": "python",
   "nbconvert_exporter": "python",
   "pygments_lexer": "ipython3",
   "version": "3.8.1"
  }
 },
 "nbformat": 4,
 "nbformat_minor": 4
}
