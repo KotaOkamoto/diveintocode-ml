{
 "cells": [
  {
   "cell_type": "code",
   "execution_count": 53,
   "metadata": {},
   "outputs": [
    {
     "name": "stdout",
     "output_type": "stream",
     "text": [
      "現在のversionは3.7.4です。\n"
     ]
    }
   ],
   "source": [
    "import sys\n",
    "print(\"現在のversionは{}.{}.{}です。\".format(sys.version_info.major,sys.version_info.minor,sys.version_info.micro))"
   ]
  },
  {
   "cell_type": "markdown",
   "metadata": {},
   "source": [
    "# 事前学習課題提出用"
   ]
  },
  {
   "cell_type": "markdown",
   "metadata": {},
   "source": [
    "紙を折ったときの厚さを計算するプログラムを作成する。\n",
    "43回で月に届くらしいので、43回折ったときの厚さを求める。\n",
    "\n",
    "$$\n",
    "t^{43} = t^0 * 2^{43}\n",
    "$$\n",
    "\n",
    "紙の厚さtは0.00008m"
   ]
  },
  {
   "cell_type": "markdown",
   "metadata": {},
   "source": [
    "・べき乗の計算  \n",
    "・forでの処理  \n",
    "の二つを提出する。"
   ]
  },
  {
   "cell_type": "markdown",
   "metadata": {},
   "source": [
    "---\n",
    "\n",
    "## 【問題1】 べき乗の計算"
   ]
  },
  {
   "cell_type": "code",
   "execution_count": 3,
   "metadata": {},
   "outputs": [
    {
     "name": "stdout",
     "output_type": "stream",
     "text": [
      "厚さ： 0.00016メートル\n"
     ]
    }
   ],
   "source": [
    "\"\"\"\n",
    "紙を1回折った時の厚さを計算するコード、雛形\n",
    "\"\"\"\n",
    "THICKNESS = 0.00008\n",
    "folded_thickness = THICKNESS*2\n",
    "print(\"厚さ： {}メートル\".format(folded_thickness))"
   ]
  },
  {
   "cell_type": "code",
   "execution_count": 4,
   "metadata": {
    "scrolled": false
   },
   "outputs": [
    {
     "name": "stdout",
     "output_type": "stream",
     "text": [
      "厚さ： 703687441.77664メートル\n"
     ]
    }
   ],
   "source": [
    "#43回折る、べき乗版\n",
    "\n",
    "THICKNESS = 0.00008\n",
    "folded_thickness = THICKNESS * (2**43)\n",
    "print(\"厚さ： {}メートル\".format(folded_thickness))"
   ]
  },
  {
   "attachments": {},
   "cell_type": "markdown",
   "metadata": {},
   "source": [
    "以上から、紙を43回折ったときの厚さは\n",
    "\n",
    "### <span style=\"color: red; \">703687441.77664メートル</span>\n",
    "\n"
   ]
  },
  {
   "cell_type": "markdown",
   "metadata": {},
   "source": [
    "\n",
    "google先生によると\n",
    "\n",
    "<img src=\"moon_distance.png\" width=\"500\" height=\"\">\n",
    "\n",
    "\n",
    "月までの距離が約38万キロらしいので、43回目で月を突破することを確認できた。"
   ]
  },
  {
   "cell_type": "markdown",
   "metadata": {},
   "source": [
    "---\n",
    "\n",
    "## 【問題2】 単位の変換\n",
    "メートルのままだとわかりにくいので〇〇万キロメートルにする。"
   ]
  },
  {
   "cell_type": "code",
   "execution_count": 33,
   "metadata": {},
   "outputs": [
    {
     "name": "stdout",
     "output_type": "stream",
     "text": [
      "厚さ： 703687.44キロメートル\n"
     ]
    }
   ],
   "source": [
    "# メートルをキロメートルに変換して小数点以下2桁で表示する、サンプルコード\n",
    "print(\"厚さ： {:.2f}キロメートル\".format(folded_thickness/1000))"
   ]
  },
  {
   "cell_type": "code",
   "execution_count": 6,
   "metadata": {},
   "outputs": [
    {
     "name": "stdout",
     "output_type": "stream",
     "text": [
      "厚さ： 70.37万キロメートル\n"
     ]
    }
   ],
   "source": [
    "# メートルを万キロメートルに変換して小数点以下2桁で表示する\n",
    "THICKNESS = 0.00008\n",
    "folded_thickness = THICKNESS * (2**43)\n",
    "print(\"厚さ： {:.2f}万キロメートル\".format(folded_thickness/10000000))\n"
   ]
  },
  {
   "cell_type": "markdown",
   "metadata": {},
   "source": [
    "---\n",
    "\n",
    "## 【問題3】 for文で計算"
   ]
  },
  {
   "cell_type": "code",
   "execution_count": 7,
   "metadata": {},
   "outputs": [
    {
     "name": "stdout",
     "output_type": "stream",
     "text": [
      "厚さ： 703687441.77664メートル\n"
     ]
    }
   ],
   "source": [
    "#43回折る、for版 ※べき乗演算子使用不可\n",
    "\n",
    "THICKNESS = 0.00008\n",
    "thick_mag = a = 2\n",
    "for i in range(42):\n",
    "    thick_mag *= a\n",
    "    #print(thick_mag)\n",
    "folded_thickness_for = THICKNESS * thick_mag\n",
    "print(\"厚さ： {}メートル\".format(folded_thickness_for))"
   ]
  },
  {
   "cell_type": "markdown",
   "metadata": {},
   "source": [
    "べき乗と同じ結果を得られた。"
   ]
  },
  {
   "cell_type": "markdown",
   "metadata": {},
   "source": [
    "---\n",
    "\n",
    "## 【問題4】 処理時間の比較"
   ]
  },
  {
   "cell_type": "code",
   "execution_count": null,
   "metadata": {},
   "outputs": [],
   "source": [
    "#雛形\n",
    "import time\n",
    "start = time.time()\n",
    "#####\n",
    "# ここに比較したいコードを貼り付ける\n",
    "#####\n",
    "elapsed_time = time.time() - start\n",
    "print(\"time : {}[s]\".format(elapsed_time))"
   ]
  },
  {
   "cell_type": "code",
   "execution_count": 8,
   "metadata": {},
   "outputs": [
    {
     "name": "stdout",
     "output_type": "stream",
     "text": [
      "厚さ： 70.37万キロメートル\n",
      "time : 0.0004980564117431641[s]\n"
     ]
    }
   ],
   "source": [
    "#べき乗\n",
    "import time\n",
    "start = time.time()\n",
    "\n",
    "THICKNESS = 0.00008\n",
    "folded_thickness = THICKNESS * (2**43)\n",
    "print(\"厚さ： {:.2f}万キロメートル\".format(folded_thickness/10000000))\n",
    "\n",
    "elapsed_time = time.time() - start\n",
    "print(\"time : {}[s]\".format(elapsed_time))"
   ]
  },
  {
   "cell_type": "code",
   "execution_count": 9,
   "metadata": {},
   "outputs": [
    {
     "name": "stdout",
     "output_type": "stream",
     "text": [
      "厚さ： 70.37万キロメートル\n",
      "time : 0.0006272792816162109[s]\n"
     ]
    }
   ],
   "source": [
    "#for文\n",
    "import time\n",
    "start = time.time()\n",
    "\n",
    "THICKNESS = 0.00008\n",
    "thick_mag = a = 2\n",
    "for i in range(42):\n",
    "    thick_mag *= a\n",
    "    #print(thick_mag)\n",
    "folded_thickness_for = THICKNESS * thick_mag\n",
    "print(\"厚さ： {:.2f}万キロメートル\".format(folded_thickness_for/10000000))\n",
    "\n",
    "elapsed_time = time.time() - start\n",
    "print(\"time : {}[s]\".format(elapsed_time))"
   ]
  },
  {
   "cell_type": "markdown",
   "metadata": {},
   "source": [
    "### あまり差がないので回数を増やしてみよう"
   ]
  },
  {
   "cell_type": "code",
   "execution_count": 51,
   "metadata": {
    "scrolled": true
   },
   "outputs": [
    {
     "name": "stdout",
     "output_type": "stream",
     "text": [
      "厚さ： 85720688574901401262898785408445065934596666878178610621930330019409013518334805134359794288568336710999880570009060742809104918140170160346670606022444190116853139235761406073899037228466074117481357104286089097082191342321262676474344234859589181608882107463417619763394863947858162221056.00万キロメートル\n",
      "time : 0.0007040500640869141[s]\n"
     ]
    }
   ],
   "source": [
    "#べき乗、1000乗\n",
    "\n",
    "import time\n",
    "start = time.time()\n",
    "\n",
    "THICKNESS = 0.00008\n",
    "folded_thickness = THICKNESS * (2**1000)\n",
    "print(\"厚さ： {:.2f}万キロメートル\".format(folded_thickness/10000000))\n",
    "\n",
    "elapsed_time = time.time() - start\n",
    "print(\"time : {}[s]\".format(elapsed_time))"
   ]
  },
  {
   "cell_type": "code",
   "execution_count": 64,
   "metadata": {},
   "outputs": [
    {
     "name": "stdout",
     "output_type": "stream",
     "text": [
      "厚さ： 85720688574901401262898785408445065934596666878178610621930330019409013518334805134359794288568336710999880570009060742809104918140170160346670606022444190116853139235761406073899037228466074117481357104286089097082191342321262676474344234859589181608882107463417619763394863947858162221056.00万キロメートル\n",
      "time : 0.000904083251953125[s]\n"
     ]
    }
   ],
   "source": [
    "#for文、1000回ループ\n",
    "import time\n",
    "start = time.time()\n",
    "\n",
    "C = 0.00008\n",
    "thick_mag = a = 2\n",
    "for i in range(999):\n",
    "    thick_mag *= a\n",
    "    #print(thick_mag)\n",
    "folded_thickness_for = THICKNESS * thick_mag\n",
    "print(\"厚さ： {:.2f}万キロメートル\".format(folded_thickness_for/10000000))\n",
    "\n",
    "elapsed_time = time.time() - start\n",
    "print(\"time : {}[s]\".format(elapsed_time))"
   ]
  },
  {
   "cell_type": "markdown",
   "metadata": {},
   "source": [
    "べき乗は 2^1000 を一回計算していて、forは nかける2を1000回繰り返すので、forの方が処理時間かかっている？\n",
    "\n",
    "大量のデータを扱うときはかなり有意な差になりそう。"
   ]
  },
  {
   "cell_type": "markdown",
   "metadata": {},
   "source": [
    "---\n",
    "\n",
    "## マジックコマンドを使う\n",
    "\n",
    "jupyter notebookの機能、マジックコマンド。\n",
    "%timeit\n",
    "で時間計測してくれる"
   ]
  },
  {
   "cell_type": "code",
   "execution_count": 66,
   "metadata": {},
   "outputs": [
    {
     "data": {
      "text/plain": [
       "'\\n%%timeit\\n\\nTHICKNESS = 0.00008\\nfolded_thickness = THICKNESS * (2**43)\\nprint(\"厚さ： {:.2f}万キロメートル\".format(folded_thickness/10000000))\\n'"
      ]
     },
     "execution_count": 66,
     "metadata": {},
     "output_type": "execute_result"
    }
   ],
   "source": [
    "\"\"\"\n",
    "%%timeit\n",
    "\n",
    "THICKNESS = 0.00008\n",
    "folded_thickness = THICKNESS * (2**43)\n",
    "print(\"厚さ： {:.2f}万キロメートル\".format(folded_thickness/10000000))\n",
    "\"\"\"\n",
    "#githubにアップロードしたらうまく開なかったのでコメントアウト"
   ]
  },
  {
   "cell_type": "markdown",
   "metadata": {},
   "source": [
    "%%timeit[-n N -r R [-t|-c] -q -p P -o]  \n",
    "オプション : -n N : でループ回数  \n",
    "           : -r R : で繰り返し回数  \n",
    "↑は指定しなかったので、10000ループを7回繰り返している\n",
    "   \n",
    "詳細はドキュメントを確認すること。\n",
    "[マジックコマンド -%timeit](https://ipython.readthedocs.io/en/stable/interactive/magics.html?highlight=timeit#magic-timeit)"
   ]
  },
  {
   "cell_type": "markdown",
   "metadata": {},
   "source": [
    "---\n",
    "\n",
    "## 【問題5】リストへの保存"
   ]
  },
  {
   "cell_type": "markdown",
   "metadata": {},
   "source": [
    "グラフで可視化するために、経過の値をリストに保存していく。forで回す。"
   ]
  },
  {
   "cell_type": "code",
   "execution_count": 44,
   "metadata": {},
   "outputs": [
    {
     "name": "stdout",
     "output_type": "stream",
     "text": [
      "厚さ： 70.37万キロメートル\n",
      "[8e-05, 0.00016, 0.00032, 0.00064, 0.00128, 0.00256, 0.00512, 0.01024, 0.02048, 0.04096, 0.08192, 0.16384, 0.32768, 0.65536, 1.31072, 2.62144, 5.24288, 10.48576, 20.97152, 41.94304, 83.88608, 167.77216, 335.54432, 671.08864, 1342.17728, 2684.35456, 5368.70912, 10737.41824, 21474.83648, 42949.67296, 85899.34592, 171798.69184, 343597.38368, 687194.76736, 1374389.53472, 2748779.06944, 5497558.13888, 10995116.27776, 21990232.55552, 43980465.11104, 87960930.22208, 175921860.44416, 351843720.88832, 703687441.77664]\n",
      "44\n"
     ]
    }
   ],
   "source": [
    "process_list = []\n",
    "\n",
    "THICKNESS = 0.00008\n",
    "thick_mag = a = 2\n",
    "\n",
    "process_list.append(THICKNESS)\n",
    "\n",
    "for i in range(43):\n",
    "    process_list.append(THICKNESS * thick_mag)\n",
    "    if i == 42:\n",
    "        pass\n",
    "    else:\n",
    "        thick_mag *= a\n",
    "        #print(thick_mag)\n",
    "        \n",
    "folded_thickness_for = THICKNESS * thick_mag\n",
    "\n",
    "print(\"厚さ： {:.2f}万キロメートル\".format(folded_thickness_for/10000000))\n",
    "\n",
    "print(process_list)\n",
    "print(len(process_list))"
   ]
  },
  {
   "cell_type": "markdown",
   "metadata": {},
   "source": [
    "---\n",
    "\n",
    "## 【問題6】 折れ線グラフの表示"
   ]
  },
  {
   "cell_type": "code",
   "execution_count": 36,
   "metadata": {
    "scrolled": true
   },
   "outputs": [
    {
     "data": {
      "text/plain": [
       "'\\nimport matplotlib.pyplot as plt\\n%matplotlib inline\\nplt.title(\"thickness of folded paper\")\\nplt.xlabel(\"number of folds\")\\nplt.ylabel(\"thickness[m]\")\\nplt.plot(リスト名) # 「リスト名」のところにリストの変数名を入れる\\nplt.show()\\n'"
      ]
     },
     "execution_count": 36,
     "metadata": {},
     "output_type": "execute_result"
    }
   ],
   "source": [
    "#雛形\n",
    "\"\"\"\n",
    "グラフを表示する。タイトルと軸ラベル名付き。\n",
    "\"\"\"\n",
    "\"\"\"\n",
    "import matplotlib.pyplot as plt\n",
    "%matplotlib inline\n",
    "plt.title(\"thickness of folded paper\")\n",
    "plt.xlabel(\"number of folds\")\n",
    "plt.ylabel(\"thickness[m]\")\n",
    "plt.plot(リスト名) # 「リスト名」のところにリストの変数名を入れる\n",
    "plt.show()\n",
    "\"\"\""
   ]
  },
  {
   "cell_type": "code",
   "execution_count": 42,
   "metadata": {},
   "outputs": [
    {
     "data": {
      "image/png": "[encoded data removed]",
      "text/plain": [
       "<Figure size 432x288 with 1 Axes>"
      ]
     },
     "metadata": {
      "needs_background": "light"
     },
     "output_type": "display_data"
    }
   ],
   "source": [
    "import matplotlib.pyplot as plt\n",
    "%matplotlib inline\n",
    "plt.title(\"thickness of folded paper\")\n",
    "plt.xlabel(\"number of folds\")\n",
    "plt.ylabel(\"thickness[m]\")\n",
    "plt.plot(process_list)\n",
    "plt.show()"
   ]
  },
  {
   "cell_type": "markdown",
   "metadata": {},
   "source": [
    "### グラフ考察\n",
    "30後半回から急激に増大している。\n",
    "2^nなので指数関数的に増えていくので当然の挙動。べき乗の恐ろしさがよくわかる。\n",
    "縦軸を調整したらもう少し緩やかな変化に見えるかも？"
   ]
  },
  {
   "cell_type": "markdown",
   "metadata": {},
   "source": [
    "---\n",
    "\n",
    "## 【問題7】 グラフのカスタマイズ\n",
    "\n",
    "色々試してみよう"
   ]
  },
  {
   "cell_type": "markdown",
   "metadata": {},
   "source": [
    "### 色を緑、実線を点線に、線幅を変更"
   ]
  },
  {
   "cell_type": "code",
   "execution_count": 68,
   "metadata": {
    "scrolled": true
   },
   "outputs": [
    {
     "data": {
      "image/png": "[encoded data removed]",
      "text/plain": [
       "<Figure size 432x288 with 1 Axes>"
      ]
     },
     "metadata": {
      "needs_background": "light"
     },
     "output_type": "display_data"
    }
   ],
   "source": [
    "import matplotlib.pyplot as plt\n",
    "%matplotlib inline\n",
    "plt.title(\"thickness of folded paper\")\n",
    "plt.xlabel(\"number of folds\")\n",
    "plt.ylabel(\"thickness[m]\")\n",
    "plt.tick_params(labelsize=20)\n",
    "plt.plot(process_list,c='g',ls=':',linewidth='3') \n",
    "# c=\"x\"は色指定。lsは線の種類、\":\"は点線。\n",
    "\n",
    "plt.show()"
   ]
  },
  {
   "cell_type": "markdown",
   "metadata": {},
   "source": [
    "### Y軸の表示幅を変更"
   ]
  },
  {
   "cell_type": "code",
   "execution_count": 73,
   "metadata": {},
   "outputs": [
    {
     "data": {
      "image/png": "[encoded data removed]",
      "text/plain": [
       "<Figure size 432x288 with 1 Axes>"
      ]
     },
     "metadata": {
      "needs_background": "light"
     },
     "output_type": "display_data"
    }
   ],
   "source": [
    "import matplotlib.pyplot as plt\n",
    "%matplotlib inline\n",
    "plt.title(\"thickness of folded paper\")\n",
    "plt.xlabel(\"number of folds\")\n",
    "plt.ylabel(\"thickness[m]\")\n",
    "plt.tick_params(labelsize=20)\n",
    "plt.plot(process_list,c='g',ls=':',linewidth='3') \n",
    "# c=\"x\"は色指定。lsは線の種類、\":\"は点線。\n",
    "\n",
    "plt.ylim(-100000000, 703687441.77664)\n",
    "# y軸の表示範囲設定\n",
    "\n",
    "plt.show()"
   ]
  },
  {
   "cell_type": "markdown",
   "metadata": {},
   "source": [
    "### 目盛線の太さや長さの変更\n"
   ]
  },
  {
   "cell_type": "code",
   "execution_count": 74,
   "metadata": {},
   "outputs": [
    {
     "data": {
      "image/png": "[encoded data removed]",
      "text/plain": [
       "<Figure size 432x288 with 1 Axes>"
      ]
     },
     "metadata": {
      "needs_background": "light"
     },
     "output_type": "display_data"
    }
   ],
   "source": [
    "import matplotlib.pyplot as plt\n",
    "%matplotlib inline\n",
    "plt.title(\"thickness of folded paper\")\n",
    "plt.xlabel(\"number of folds\")\n",
    "plt.ylabel(\"thickness[m]\")\n",
    "plt.tick_params(labelsize=20)\n",
    "plt.plot(process_list,c='g',ls=':',linewidth='3') \n",
    "# c=\"x\"は色指定。lsは線の種類、\":\"は点線。\n",
    "\n",
    "plt.ylim(-100000000, 703687441.77664)\n",
    "# y軸の表示範囲設定\n",
    "\n",
    "plt.tick_params(width = 2, length = 10)\n",
    "#目盛の太さと長さ\n",
    "\n",
    "plt.show()"
   ]
  },
  {
   "cell_type": "markdown",
   "metadata": {},
   "source": [
    "---\n",
    "\n",
    "\n",
    "## (オプション課題) Pythonが使われる理由\n"
   ]
  },
  {
   "cell_type": "markdown",
   "metadata": {},
   "source": [
    "「python 機械学習 なぜ」で検索したところ、下記リンクがヒットしました。\n",
    "\n",
    "[なぜ機械学習にPythonが選ばれるのか](https://qiita.com/yaju/items/5502115d7e3d06e6bbdd)  \n",
    "[なぜ機械学習にPythonが使われるのか？機械学習でPythonが使われる4つの理由](https://www.codexa.net/why-use-python-for-machine-learning/)  \n",
    "\n",
    "どちらも同様のことが記載されていたのでまとめると、\n",
    "\n",
    "・ 言語としての信頼性  \n",
    "・ シンプルなシンタックス  \n",
    "・ プログラミング初心者向き  \n",
    "・ 成熟したエコシステム  \n",
    "  \n",
    "などの要因によって、機械学習における第一言語としてpythonが多く利用されているようです。  \n",
    "プログラム初心者の私にとっても、pythonのインデントルールは可読性が非常に良く助かっています。\n",
    "\n",
    "ただし、  \n",
    "[機械学習エンジニアは10年後には存在しないだろう。](https://ainow.ai/2020/06/09/223778/)  \n",
    "こういう記事もあるので、個人のスキルとしてpythonという言語への依存度を高めすぎない方が良いと感じています。"
   ]
  },
  {
   "cell_type": "markdown",
   "metadata": {},
   "source": [
    "## 提出物は以上となります。"
   ]
  }
 ],
 "metadata": {
  "kernelspec": {
   "display_name": "Python 3",
   "language": "python",
   "name": "python3"
  },
  "language_info": {
   "codemirror_mode": {
    "name": "ipython",
    "version": 3
   },
   "file_extension": ".py",
   "mimetype": "text/x-python",
   "name": "python",
   "nbconvert_exporter": "python",
   "pygments_lexer": "ipython3",
   "version": "3.7.4"
  }
 },
 "nbformat": 4,
 "nbformat_minor": 2
}
