{
 "cells": [
  {
   "cell_type": "markdown",
   "metadata": {},
   "source": [
    "# 【問題】栗まんじゅうが太陽系を覆う日"
   ]
  },
  {
   "cell_type": "code",
   "execution_count": 3,
   "metadata": {},
   "outputs": [
    {
     "name": "stdout",
     "output_type": "stream",
     "text": [
      "太陽系(の半径)を突破するのは245分後\n"
     ]
    }
   ],
   "source": [
    "import numpy as np\n",
    "import matplotlib.pyplot as plt\n",
    "\n",
    "HELIOPAUSE = 1.795e+13 # 太陽からヘリオポーズ(太陽系の端っこ)までの距離\n",
    "MARON = 0.05 # 栗まんじゅうの半径を5cmと仮定\n",
    "\n",
    "\"\"\"\n",
    "太陽系と栗まんじゅう、どちらも完全な球体と仮定し、\n",
    "半径が超えれば事実上体積も超えるはず、という計算。\n",
    "\"\"\"\n",
    "cnt = 0\n",
    "\n",
    "while MARON < HELIOPAUSE:\n",
    "    MARON *= 2\n",
    "    #print(MARON)\n",
    "    cnt += 1\n",
    "\n",
    "print(\"太陽系(の半径)を突破するのは{}分後\".format(cnt*5))"
   ]
  },
  {
   "cell_type": "code",
   "execution_count": 4,
   "metadata": {},
   "outputs": [
    {
     "name": "stdout",
     "output_type": "stream",
     "text": [
      "「ボール」にバイバインを振りかけたとき、「東京ドーム」の体積をオーバーするのは50分後です。\n"
     ]
    },
    {
     "data": {
      "image/png": "[encoded data removed]",
      "text/plain": [
       "<Figure size 432x288 with 1 Axes>"
      ]
     },
     "metadata": {
      "needs_background": "light"
     },
     "output_type": "display_data"
    }
   ],
   "source": [
    "def baibain(m, n):\n",
    "    cnt = 0\n",
    "    while n <= m:\n",
    "        n *= 2\n",
    "        cnt += 5\n",
    "        size_list.append(n)\n",
    "    return cnt\n",
    "\n",
    "#bowl = 1.795e+13\n",
    "#ball = 0.05\n",
    "\n",
    "size_list = []\n",
    "\n",
    "bowl_name =  \"東京ドーム\"\n",
    "ball_name = \"ボール\"\n",
    "bowl = 122\n",
    "ball = 0.2\n",
    "\n",
    "print(\"「{}」にバイバインを振りかけたとき、「{}」の体積をオーバーするのは{}分後です。\"\n",
    "    .format(ball_name,bowl_name,baibain(bowl, ball)))\n",
    "\n",
    "volume_list = []\n",
    "\n",
    "for i in size_list:\n",
    "    kuri = ((4 * np.pi * (i**3))/3)\n",
    "    #print(kuri)\n",
    "    volume_list.append(kuri)\n",
    "\n",
    "\n",
    "%matplotlib inline\n",
    "\n",
    "plt.title(\"baibain\")\n",
    "plt.xlabel(\"time\")\n",
    "plt.ylabel(\"size\")\n",
    "plt.plot(volume_list, marker='o')\n",
    "\n",
    "plt.show()"
   ]
  },
  {
   "cell_type": "code",
   "execution_count": null,
   "metadata": {},
   "outputs": [],
   "source": []
  }
 ],
 "metadata": {
  "kernelspec": {
   "display_name": "Python 3",
   "language": "python",
   "name": "python3"
  },
  "language_info": {
   "codemirror_mode": {
    "name": "ipython",
    "version": 3
   },
   "file_extension": ".py",
   "mimetype": "text/x-python",
   "name": "python",
   "nbconvert_exporter": "python",
   "pygments_lexer": "ipython3",
   "version": "3.7.4"
  }
 },
 "nbformat": 4,
 "nbformat_minor": 4
}
