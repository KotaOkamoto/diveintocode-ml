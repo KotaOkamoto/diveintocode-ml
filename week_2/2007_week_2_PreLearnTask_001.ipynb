{
 "cells": [
  {
   "cell_type": "markdown",
   "metadata": {},
   "source": [
    "# 【問題1】2×2マスのチェス盤の小麦の数\n",
    "\n",
    "2×2マスのチェス盤をndarrayによって表現し、各マスの小麦の数を計算してください。左上のマスに小麦を1つ置いた後、その右が2つ、左下が4つ、右下が8つという風に進みます。"
   ]
  },
  {
   "cell_type": "code",
   "execution_count": 10,
   "metadata": {},
   "outputs": [
    {
     "name": "stdout",
     "output_type": "stream",
     "text": [
      "4マスの板に小麦を並べる（リスト）：[1, 2, 4, 8]\n"
     ]
    }
   ],
   "source": [
    "n_squares = 4\n",
    "small_board_list = [1]\n",
    "for _ in range(n_squares - 1):\n",
    "    small_board_list.append(2*small_board_list[-1])\n",
    "print(\"4マスの板に小麦を並べる（リスト）：{}\".format(small_board_list))"
   ]
  },
  {
   "cell_type": "code",
   "execution_count": 11,
   "metadata": {},
   "outputs": [
    {
     "name": "stdout",
     "output_type": "stream",
     "text": [
      "4マスの板に小麦を並べる（ndarray）：[[1 2]\n",
      " [4 8]]\n"
     ]
    }
   ],
   "source": [
    "import numpy as np\n",
    "small_board_ndarray = np.array(small_board_list).reshape(2, 2)\n",
    "print(\"4マスの板に小麦を並べる（ndarray）：{}\".format(small_board_ndarray))"
   ]
  },
  {
   "cell_type": "markdown",
   "metadata": {},
   "source": [
    "# 【問題2】n×mマスへの拡張\n",
    "\n",
    "n×mマスのチェス盤の小麦の数を記したndarrayを返す関数を作成してください。そして、この関数を使い8×8マスのチェス盤の小麦の数を求めてください。"
   ]
  },
  {
   "cell_type": "code",
   "execution_count": 12,
   "metadata": {},
   "outputs": [
    {
     "name": "stdout",
     "output_type": "stream",
     "text": [
      "[[1.00000000e+00 2.00000000e+00 4.00000000e+00 8.00000000e+00\n",
      "  1.60000000e+01 3.20000000e+01 6.40000000e+01 1.28000000e+02]\n",
      " [2.56000000e+02 5.12000000e+02 1.02400000e+03 2.04800000e+03\n",
      "  4.09600000e+03 8.19200000e+03 1.63840000e+04 3.27680000e+04]\n",
      " [6.55360000e+04 1.31072000e+05 2.62144000e+05 5.24288000e+05\n",
      "  1.04857600e+06 2.09715200e+06 4.19430400e+06 8.38860800e+06]\n",
      " [1.67772160e+07 3.35544320e+07 6.71088640e+07 1.34217728e+08\n",
      "  2.68435456e+08 5.36870912e+08 1.07374182e+09 2.14748365e+09]\n",
      " [4.29496730e+09 8.58993459e+09 1.71798692e+10 3.43597384e+10\n",
      "  6.87194767e+10 1.37438953e+11 2.74877907e+11 5.49755814e+11]\n",
      " [1.09951163e+12 2.19902326e+12 4.39804651e+12 8.79609302e+12\n",
      "  1.75921860e+13 3.51843721e+13 7.03687442e+13 1.40737488e+14]\n",
      " [2.81474977e+14 5.62949953e+14 1.12589991e+15 2.25179981e+15\n",
      "  4.50359963e+15 9.00719925e+15 1.80143985e+16 3.60287970e+16]\n",
      " [7.20575940e+16 1.44115188e+17 2.88230376e+17 5.76460752e+17\n",
      "  1.15292150e+18 2.30584301e+18 4.61168602e+18 9.22337204e+18]]\n"
     ]
    }
   ],
   "source": [
    "# チェス盤上の小麦粒数をカウントする関数\n",
    "def grains_on_the_chess_board(n, m):\n",
    "    grains = 1\n",
    "    init_arr = []\n",
    "    # 倍々するリストを作成\n",
    "    for i in range(n):\n",
    "        for j in range(m):\n",
    "            init_arr.append(grains)\n",
    "            grains *= 2\n",
    "    # ndarrayに変換\n",
    "    ndarr = np.array(init_arr).reshape(n, m)\n",
    "    return ndarr\n",
    "\n",
    "\n",
    "# 8*8マス指定\n",
    "ans = grains_on_the_chess_board(8, 8)\n",
    "print(ans)"
   ]
  },
  {
   "cell_type": "markdown",
   "metadata": {},
   "source": [
    "# 【問題3】小麦の数の合計\n",
    "\n",
    "8×8マスのチェス盤の小麦の数の合計を求めてください。また、各列の平均を求め、それを棒グラフで可視化してください。\n",
    "\n",
    "\n",
    "棒グラフはサンプルコードを用意しています。\n",
    "\n",
    "\n",
    "《棒グラフのサンプルコード》\n",
    "\n"
   ]
  },
  {
   "cell_type": "markdown",
   "metadata": {},
   "source": [
    "```import matplotlib.pyplot as plt\n",
    "%matplotlib inline\n",
    "plt.xlabel(\"column\")\n",
    "plt.ylabel(\"number\")\n",
    "plt.title(\"number in each column\")\n",
    "plt.bar(np.arange(1,4), np.array([1, 2, 3]))\n",
    "plt.show()\n",
    "```"
   ]
  },
  {
   "cell_type": "markdown",
   "metadata": {},
   "source": [
    "### ①まずは合計を求める"
   ]
  },
  {
   "cell_type": "code",
   "execution_count": 6,
   "metadata": {},
   "outputs": [
    {
     "name": "stdout",
     "output_type": "stream",
     "text": [
      "8*8マスの合計値は1.8446744073709552e+19\n"
     ]
    }
   ],
   "source": [
    "print(\"8*8マスの合計値は{}\".format(np.sum(grains_on_the_chess_board(8, 8))))"
   ]
  },
  {
   "cell_type": "markdown",
   "metadata": {},
   "source": [
    "### ②次に列ごとの平均値をmatplotlibでグラフにする"
   ]
  },
  {
   "cell_type": "code",
   "execution_count": 14,
   "metadata": {},
   "outputs": [
    {
     "data": {
      "image/png": "[encoded data removed]",
      "text/plain": [
       "<Figure size 432x288 with 1 Axes>"
      ]
     },
     "metadata": {
      "needs_background": "light"
     },
     "output_type": "display_data"
    }
   ],
   "source": [
    "import matplotlib.pyplot as plt\n",
    "\n",
    "plt.xlabel(\"column\")\n",
    "plt.ylabel(\"mean\")\n",
    "plt.title(\"mean in each column\")\n",
    "left = [int(x+1) for x in range(ans.shape[0])] # グラフのX軸目盛、ansの列のlen\n",
    "height = np.mean(ans, axis=0) # グラフの高さ(Y軸の目盛ではない)、ansの列毎の平均値\n",
    "plt.bar(left, height)\n",
    "plt.show()"
   ]
  },
  {
   "cell_type": "markdown",
   "metadata": {},
   "source": [
    "# 【問題4】小麦の数のヒートマップ\n",
    "8×8マスのチェス盤の小麦の数をヒートマップとして可視化してください。\n",
    "\n",
    "\n",
    "ヒートマップはサンプルコードを用意しています。\n",
    "\n",
    "\n",
    "《ヒートマップのサンプルコード》\n",
    "\n",
    "\n",
    "4行2列の配列のヒートマップです。値が小さいところが紫、大きいところが黄色になっています。"
   ]
  },
  {
   "cell_type": "markdown",
   "metadata": {},
   "source": [
    "```plt.xlabel(\"column\")\n",
    "plt.ylabel(\"row\")\n",
    "plt.title(\"heatmap\")\n",
    "plt.pcolor(np.array([0, 1, 3, 5, 7, 9, 11, 13]).reshape(4, 2))\n",
    "plt.show()\n",
    "```"
   ]
  },
  {
   "cell_type": "code",
   "execution_count": 16,
   "metadata": {},
   "outputs": [
    {
     "data": {
      "image/png": "[encoded data removed]",
      "text/plain": [
       "<Figure size 432x288 with 1 Axes>"
      ]
     },
     "metadata": {
      "needs_background": "light"
     },
     "output_type": "display_data"
    }
   ],
   "source": [
    "# 8*8マスでのヒートマップ\n",
    "plt.xlabel(\"column\")\n",
    "plt.ylabel(\"row\")\n",
    "plt.title(\"heatmap\")\n",
    "plt.pcolor(grains_on_the_chess_board(8, 8))\n",
    "plt.show()\n"
   ]
  },
  {
   "cell_type": "markdown",
   "metadata": {},
   "source": [
    "# 【問題5】後半は前半の何倍か\n",
    "\n",
    "チェス盤の後半にある小麦の数は前半にある小麦の数の何倍かを求めてください。前半とは配列の0から3行目、後半は4から7行目です。"
   ]
  },
  {
   "cell_type": "code",
   "execution_count": null,
   "metadata": {},
   "outputs": [],
   "source": [
    "first = np.sum(ans[:4])\n",
    "last = np.sum(ans[4:])\n",
    "\n",
    "print(\"前半部分の合計値：{:,}\".format(first))\n",
    "print(\"後半部分の合計値：{:2e}\".format(last))"
   ]
  },
  {
   "cell_type": "code",
   "execution_count": null,
   "metadata": {},
   "outputs": [],
   "source": [
    "baisu = last / first\n",
    "print(\"後半は前半の{:,}倍です。\".format(int(baisu)))"
   ]
  },
  {
   "cell_type": "markdown",
   "metadata": {},
   "source": [
    "# 【問題6】他の計算方法によるn×mマスへの拡張\n",
    "\n",
    "《サンプルコード（np.append()）》"
   ]
  },
  {
   "cell_type": "markdown",
   "metadata": {},
   "source": [
    "```n_squares = 4\n",
    "small_board_ndarray = np.array([1])\n",
    "for _ in range(n_squares - 1):\n",
    "    small_board_ndarray = np.append(small_board_ndarray, 2*small_board_ndarray[-1])\n",
    "print(\"4マスの板に小麦を並べる（ndarray）：{}\".format(small_board_ndarray))```"
   ]
  },
  {
   "cell_type": "markdown",
   "metadata": {},
   "source": [
    "《サンプルコード（ブロードキャスト）》"
   ]
  },
  {
   "cell_type": "markdown",
   "metadata": {},
   "source": [
    "```n_squares = 4\n",
    "indices_of_squares = np.arange(n_squares)\n",
    "small_board_ndarray = 2**indices_of_squares\n",
    "print(\"4マスの板に小麦を並べる（ndarray）：{}\".format(small_board_ndarray))```"
   ]
  },
  {
   "cell_type": "code",
   "execution_count": null,
   "metadata": {},
   "outputs": [],
   "source": [
    "#　np.append版\n",
    "def np_append(n, m):\n",
    "    append_ndarray = np.array([1])\n",
    "    for _ in range(n*m - 1):\n",
    "        append_ndarray = np.append(append_ndarray, 2*(append_ndarray[-1])).astype(np.uint64)\n",
    "    append_ndarray = append_ndarray.reshape((n,m))\n",
    "    return append_ndarray\n",
    "\n",
    "ans = np_append(8, 8)\n",
    "print((\"8*8マスの板に小麦を並べる（ndarray）：{}\".format(ans)))\n",
    "    "
   ]
  },
  {
   "cell_type": "code",
   "execution_count": null,
   "metadata": {},
   "outputs": [],
   "source": [
    "# ブロードキャスト版\n",
    "def np_broadcast(n, m):\n",
    "    tmp = np.arange(n*m)\n",
    "    #print(tmp)\n",
    "    broadcast_ndarray = 2**tmp\n",
    "    broadcast_ndarray = broadcast_ndarray.reshape((n, m)).astype(np.uint64)\n",
    "    return broadcast_ndarray\n",
    "\n",
    "ans = np_broadcast(8, 8)\n",
    "print((\"8*8マスの板に小麦を並べる（ndarray）：{}\".format(ans)))"
   ]
  },
  {
   "cell_type": "markdown",
   "metadata": {},
   "source": [
    "# 【問題7】計算時間の比較\n",
    "\n",
    "3種類の方法を見てきました。それぞれの計算時間をJupyter Notebookの%%timeitを用いて計測し、比較と考察を行ってください。"
   ]
  },
  {
   "cell_type": "code",
   "execution_count": null,
   "metadata": {},
   "outputs": [],
   "source": [
    "%%timeit\n",
    "\n",
    "\n",
    "# 計測、pythonリスト版\n",
    "# チェス盤上の小麦粒数をカウントする関数\n",
    "def grains_on_the_chess_board(n, m):\n",
    "    grains = 1\n",
    "    init_arr = []\n",
    "    # 倍々するリストを作成\n",
    "    for i in range(n):\n",
    "        for j in range(m):\n",
    "            init_arr.append(grains)\n",
    "            grains *= 2\n",
    "    # ndarrayに変換\n",
    "    ndarr = np.array(init_arr).reshape(n, m)\n",
    "    return ndarr\n",
    "\n",
    "\n",
    "# 8*8マス指定\n",
    "ans = grains_on_the_chess_board(8, 8)"
   ]
  },
  {
   "cell_type": "code",
   "execution_count": null,
   "metadata": {},
   "outputs": [],
   "source": [
    "%%timeit\n",
    "\n",
    "# 計測、np.append版\n",
    "#　np.append版\n",
    "def np_append(n, m):\n",
    "    append_ndarray = np.array([1])\n",
    "    for _ in range(n*m - 1):\n",
    "        append_ndarray = np.append(append_ndarray, 2*(append_ndarray[-1])).astype(np.uint64)\n",
    "    append_ndarray = append_ndarray.reshape((n,m))\n",
    "    return append_ndarray\n",
    "\n",
    "ans = np_append(8, 8)"
   ]
  },
  {
   "cell_type": "code",
   "execution_count": null,
   "metadata": {},
   "outputs": [],
   "source": [
    "%%timeit\n",
    "\n",
    "# 計測、ブロードキャスト版\n",
    "# ブロードキャスト版\n",
    "def np_broadcast(n, m):\n",
    "    tmp = np.arange(n*m)\n",
    "    #print(tmp)\n",
    "    broadcast_ndarray = 2**tmp\n",
    "    broadcast_ndarray = broadcast_ndarray.reshape((n, m)).astype(np.uint64)\n",
    "    return broadcast_ndarray\n",
    "\n",
    "ans = np_broadcast(8, 8)"
   ]
  },
  {
   "cell_type": "markdown",
   "metadata": {},
   "source": [
    "## 計測時間のまとめ\n",
    "\n",
    "複数回回してみて大きなブレがなかったので、最後に回した数値を記載する。\n",
    "\n",
    "・pythonリスト版\n",
    "15.7 µs ± 540 ns per loop (mean ± std. dev. of 7 runs, 100000 loops each)\n",
    "\n",
    "・np.append版\n",
    "616 µs ± 15.9 µs per loop (mean ± std. dev. of 7 runs, 1000 loops each)\n",
    "\n",
    "・ブロードキャスト版\n",
    "3.54 µs ± 63.1 ns per loop (mean ± std. dev. of 7 runs, 100000 loops each)\n",
    "\n",
    "\n",
    "以上の結果から、処理速度は\n",
    "\n",
    "### ブロードキャスト > pythonリスト > np.append\n",
    "\n",
    "であることがわかった。\n",
    "\n",
    "np.appendは毎回リストを読み込みに行っているのが大きな要因だと考察する。\n",
    "逆にリストへのアクセスはappendだけで、値の計算は外でやったらどうなるか？"
   ]
  },
  {
   "cell_type": "code",
   "execution_count": null,
   "metadata": {},
   "outputs": [],
   "source": [
    "%%timeit\n",
    "\n",
    "# 計測、np.append版\n",
    "#　np.append版\n",
    "def np_append(n, m):\n",
    "    append_ndarray = np.array([])\n",
    "    tmp = 1\n",
    "    for _ in range(n*m):\n",
    "        append_ndarray = np.append(append_ndarray, tmp).astype(np.uint64) # tmpを別で計算して代入\n",
    "        tmp *= 2\n",
    "    append_ndarray = append_ndarray.reshape((n,m))\n",
    "    return append_ndarray\n",
    "\n",
    "ans = np_append(8, 8)\n",
    "#print(ans)"
   ]
  },
  {
   "cell_type": "markdown",
   "metadata": {},
   "source": [
    "### かかった時間\n",
    "\n",
    "369 µs ± 15.1 µs per loop (mean ± std. dev. of 7 runs, 1000 loops each)\n",
    "\n",
    "半分とは行かなかったが、3/5程度に収まった。\n",
    "リストに頻繁にアクセスすると時間を喰う原因になりやすいようだ。"
   ]
  },
  {
   "cell_type": "code",
   "execution_count": null,
   "metadata": {},
   "outputs": [],
   "source": []
  }
 ],
 "metadata": {
  "kernelspec": {
   "display_name": "Python 3",
   "language": "python",
   "name": "python3"
  },
  "language_info": {
   "codemirror_mode": {
    "name": "ipython",
    "version": 3
   },
   "file_extension": ".py",
   "mimetype": "text/x-python",
   "name": "python",
   "nbconvert_exporter": "python",
   "pygments_lexer": "ipython3",
   "version": "3.7.4"
  }
 },
 "nbformat": 4,
 "nbformat_minor": 2
}
