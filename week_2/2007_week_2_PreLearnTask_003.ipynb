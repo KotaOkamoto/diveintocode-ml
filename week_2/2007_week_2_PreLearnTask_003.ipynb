{
 "cells": [
  {
   "cell_type": "code",
   "execution_count": null,
   "metadata": {},
   "outputs": [],
   "source": []
  },
  {
   "cell_type": "markdown",
   "metadata": {},
   "source": [
    "# 【問題1】行列積を手計算する\n",
    "AとBの行列積を手計算で解いてください。\n",
    "\n",
    "\n",
    "計算過程もマークダウンテキストを用いて説明してください。"
   ]
  },
  {
   "cell_type": "markdown",
   "metadata": {},
   "source": [
    "$$\n",
    "    % \"boldsymbol\"で太字にしている\n",
    "    {A} =\n",
    "        % ベクトルや行列は\"left[\"と\"right]\"でベクトルや行列の括弧を作る\n",
    "        % 括弧内に\"array\"環境を展開する\n",
    "        % {c|cc}の形で中央揃え、縦線、中央揃え*2の並びに出来る\n",
    "        \\left[\\begin{array}{c}\n",
    "            -1 & 2 & 3 \\\\\n",
    "            4 & -5 & 6 \\\\\n",
    "            7 & 8 & -9 \\\\\n",
    "        \\end{array}\\right] \\quad\n",
    "    {B} =\n",
    "        \\left[\\begin{array}{c}\n",
    "            % 横並びは&を挟む\n",
    "            0 & 2 & 1 \\\\\n",
    "            0 & 2 & -8 \\\\\n",
    "            2 & 9 & -1 \\\\\n",
    "        \\end{array}\\right] \\quad\n",
    "$$"
   ]
  },
  {
   "cell_type": "markdown",
   "metadata": {},
   "source": [
    "行列積の求め方は、\n",
    "\n",
    "$$\n",
    "AB[0][0] = Ai0*B0j + Ai1*B1j + Ai2*B2j\n",
    "$$\n",
    "\n",
    "なので、\n",
    "\n",
    "$$\n",
    "AB[0][0] = (-1*0) + (2*0) + (3*2) = 6\n",
    "$$\n",
    "\n",
    "となる。\n",
    "\n",
    "これをひとつずつ計算していく。\n",
    "\n",
    "\n",
    "$$\n",
    "AB[0][1] = (-1*2) + (2*2) + (3*9) = -2 + 4 + 27 = 29\n",
    "$$\n",
    "\n",
    "$$\n",
    "AB[0][2] = (-1*1) + (2*-8) + (3*-1) = -1 + -16 + -3 = -20\n",
    "$$\n",
    "\n",
    "$$\n",
    "AB[1][0] = (4*0) + (-5*0) + (6*2) = 0 + 0 + 12 = 12\n",
    "$$\n",
    "\n",
    "$$\n",
    "AB[1][1] = (4*2) + (-5*2) + (6*9) = 8 + -10 + 54 = 52\n",
    "$$\n",
    "\n",
    "$$\n",
    "AB[1][2] = (4*1) + (-5*-8) + (6*-1) = 4 + 40 + -6 = 38\n",
    "$$\n",
    "\n",
    "$$\n",
    "AB[2][0] = (7*0) + (8*0) + (-9*2) = 0 + 0 + -18 = -18\n",
    "$$\n",
    "\n",
    "$$\n",
    "AB[2][1] = (7*2) + (8*2) + (-9*9) = 14 + 16 + -81 = -51\n",
    "$$\n",
    "\n",
    "$$\n",
    "AB[2][2] = (7*1) + (8*-8) + (-9*-1) = 7 + -64 + 9 = -48\n",
    "$$\n",
    "\n",
    "以上から、積ABは\n",
    "\n",
    "$$\n",
    "    \\boldsymbol{AB} =\n",
    "        \\left[\\begin{array}{c}\n",
    "            6 & 29 & -20 \\\\\n",
    "            12 & 52 & 38 \\\\\n",
    "            -18 & -51 & -48 \\\\\n",
    "        \\end{array}\\right] \\quad\n",
    "$$\n",
    "\n",
    "となる。"
   ]
  },
  {
   "cell_type": "markdown",
   "metadata": {},
   "source": [
    "# 【問題2】NumPyの関数による計算\n",
    "この行列積はNumPyのnp.matmul()やnp.dot()、または@演算子を使うことで簡単に計算できます。\n",
    "\n",
    "\n",
    "これらを使い行列積を計算してください。\n",
    "\n"
   ]
  },
  {
   "cell_type": "code",
   "execution_count": 10,
   "metadata": {},
   "outputs": [
    {
     "name": "stdout",
     "output_type": "stream",
     "text": [
      "[[  6  29 -20]\n",
      " [ 12  52  38]\n",
      " [-18 -51 -48]]\n",
      "[[  6  29 -20]\n",
      " [ 12  52  38]\n",
      " [-18 -51 -48]]\n",
      "[[  6  29 -20]\n",
      " [ 12  52  38]\n",
      " [-18 -51 -48]]\n"
     ]
    }
   ],
   "source": [
    "import numpy as np\n",
    "a_ndarray = np.array([[-1, 2, 3], [4, -5, 6], [7, 8, -9]])\n",
    "b_ndarray = np.array([[0, 2, 1], [0, 2, -8], [2, 9, -1]])\n",
    "\n",
    "# dot\n",
    "c = np.dot(a_ndarray, b_ndarray)\n",
    "print(c)\n",
    "\n",
    "# matmul\n",
    "d = np.matmul(a_ndarray, b_ndarray)\n",
    "print(d)\n",
    "\n",
    "# @\n",
    "e = a_ndarray @ b_ndarray\n",
    "print(e)"
   ]
  },
  {
   "cell_type": "markdown",
   "metadata": {},
   "source": [
    "# 【問題3】ある要素の計算を実装\n",
    "手計算をする際はまず行列Aの0行目と行列Bの0列目に注目し、計算を行ったかと思います。\n",
    "この計算をnp.matmul()やnp.dot()、または@演算子を使わずに行うコードを書いてください。"
   ]
  },
  {
   "cell_type": "code",
   "execution_count": 50,
   "metadata": {},
   "outputs": [
    {
     "name": "stdout",
     "output_type": "stream",
     "text": [
      "[[  6.  29. -20.]\n",
      " [ 12.  52.  38.]\n",
      " [-18. -51. -48.]]\n"
     ]
    }
   ],
   "source": [
    "A = np.array([[-1, 2, 3], [4, -5, 6], [7, 8, -9]])\n",
    "B = np.array([[0, 2, 1], [0, 2, -8], [2, 9, -1]])\n",
    "C = B.T # 転置行列を作成\n",
    "\n",
    "row = np.shape(A)[0] # サイズを決定\n",
    "col = np.shape(C)[0]\n",
    "\n",
    "AB = np.zeros((row, col)) # 積AB行列を初期化\n",
    "\n",
    "\n",
    "for i in range(row):\n",
    "    element = [] # A*C で計算されるリストを格納するリストを宣言\n",
    "    for j in range(col):\n",
    "        element = A[i] * C[j] # ndarrayリストの掛け算\n",
    "        #print(sum(element))\n",
    "        AB[i][j] = sum(element) # リストの合計値を行列ABのi,jに格納\n",
    "print(AB)"
   ]
  },
  {
   "cell_type": "markdown",
   "metadata": {},
   "source": [
    "# 【問題4】行列積を行う関数の作成\n",
    "問題3のコードを拡張し、行列積のスクラッチ実装を完成させてください。行列AとBを引数に受け取り、行列積を返す関数としてください。"
   ]
  },
  {
   "cell_type": "code",
   "execution_count": 61,
   "metadata": {},
   "outputs": [
    {
     "name": "stdout",
     "output_type": "stream",
     "text": [
      "[[  6.  29. -20.]\n",
      " [ 12.  52.  38.]\n",
      " [-18. -51. -48.]]\n"
     ]
    }
   ],
   "source": [
    "import numpy as np\n",
    "\n",
    "\n",
    "def matrix_product(a, b):\n",
    "    c = b.T\n",
    "    row = np.shape(a)[0]\n",
    "    col = np.shape(c)[0]\n",
    "    if row == col:\n",
    "        AB = np.zeros((row, col))\n",
    "    \n",
    "        for i in range(row):\n",
    "            element = []\n",
    "            for j in range(col):\n",
    "                element = a[i] * c[j]\n",
    "                AB[i][j] = sum(element)\n",
    "        return AB\n",
    "    else:\n",
    "        print(\"row :\" + str(row))\n",
    "        print(\"col :\" + str(col))\n",
    "        print(\"can not calculation\")\n",
    "        \n",
    "\n",
    "\n",
    "def main():\n",
    "    a = np.array([[-1, 2, 3], [4, -5, 6], [7, 8, -9]]) # ここの行列を変えれば結果が変わる\n",
    "    b = np.array([[0, 2, 1], [0, 2, -8], [2, 9, -1]])\n",
    "    \n",
    "    #テスト\n",
    "    #a = np.array([[5, 1, 0], [2, 2, 1], [-8, 1, -9]])\n",
    "    #b = np.array([[0, 2], [4, 1], [-2, 0]])\n",
    "    print(matrix_product(a,b))\n",
    "\n",
    "if __name__ == '__main__':\n",
    "    main()"
   ]
  },
  {
   "cell_type": "markdown",
   "metadata": {},
   "source": [
    "# 【問題5】計算が定義されない入力を判定する\n",
    "問題4で作成した関数は、実装方法によってはこのDとEの配列を入力しても動いてしまう可能性があります。この場合、不適切な計算が行われることになります。また、途中でエラーになる場合でも、なぜエラーになったかが直接的には分かりづらいメッセージが表示されます。\n",
    "\n",
    "\n",
    "if文などによってこれを防ぎ、入力される形に問題があることをprint()を使い表示するコードを書き加えてください。\n",
    "\n"
   ]
  },
  {
   "cell_type": "code",
   "execution_count": 68,
   "metadata": {},
   "outputs": [
    {
     "name": "stdout",
     "output_type": "stream",
     "text": [
      "A row : 3\n",
      "B col : 2\n",
      "can not calculation\n",
      "None\n"
     ]
    }
   ],
   "source": [
    "import numpy as np\n",
    "\n",
    "\n",
    "def matrix_product(a, b):\n",
    "    c = b.T\n",
    "    row = np.shape(a)[0]\n",
    "    col = np.shape(c)[0]\n",
    "    if row == col:\n",
    "        AB = np.zeros((row, col))\n",
    "    \n",
    "        for i in range(row):\n",
    "            element = []\n",
    "            for j in range(col):\n",
    "                element = a[i] * c[j]\n",
    "                AB[i][j] = sum(element)\n",
    "        return AB\n",
    "    else: # 行と列のサイズが合っていない場合は計算せず終了させる\n",
    "        print(\"A row : \" + str(row))\n",
    "        print(\"B col : \" + str(col))\n",
    "        print(\"can not calculation\")\n",
    "        \n",
    "\n",
    "\n",
    "def main():\n",
    "    #a = np.array([[-1, 2, 3], [4, -5, 6], [7, 8, -9]]) # ここの行列を変えれば結果が変わる\n",
    "    #b = np.array([[0, 2, 1], [0, 2, -8], [2, 9, -1]])\n",
    "    \n",
    "    # 行と列をずらす\n",
    "    a = np.array([[5, 1, 0], [2, 2, 1], [-8, 1, -9]])\n",
    "    b = np.array([[0, 2], [4, 1], [-2, 0]])\n",
    "    print(matrix_product(a,b))\n",
    "\n",
    "if __name__ == '__main__':\n",
    "    main()"
   ]
  },
  {
   "cell_type": "markdown",
   "metadata": {},
   "source": [
    "# 【問題6】転置\n",
    "片方の行列を転置することで、行列積が計算できるようになります。\n",
    "\n",
    "\n",
    "np.transpose()や.Tアトリビュートを用いて転置し、行列積を計算してください。"
   ]
  },
  {
   "cell_type": "markdown",
   "metadata": {},
   "source": [
    "※すでに転置で回答したので、転置ではないverを記載します。"
   ]
  },
  {
   "cell_type": "code",
   "execution_count": 69,
   "metadata": {},
   "outputs": [
    {
     "name": "stdout",
     "output_type": "stream",
     "text": [
      "[[  6.  29. -20.]\n",
      " [ 12.  52.  38.]\n",
      " [-18. -51. -48.]]\n"
     ]
    }
   ],
   "source": [
    "A = np.array([[-1, 2, 3], [4, -5, 6], [7, 8, -9]])\n",
    "B = np.array([[0, 2, 1], [0, 2, -8], [2, 9, -1]])\n",
    "\n",
    "row = np.shape(A)[0] # サイズを決定\n",
    "col = np.shape(B)[1]\n",
    "\n",
    "AB = np.zeros((row, col)) # 積AB行列を初期化\n",
    "\n",
    "\n",
    "for i in range(row):\n",
    "    element = [] # A*C で計算されるリストを格納するリストを宣言\n",
    "    for j in range(col):\n",
    "        element = A[i] * B[:,j] # ndarrayリストの掛け算\n",
    "        #print(sum(element))\n",
    "        AB[i][j] = sum(element) # リストの合計値を行列ABのi,jに格納\n",
    "print(AB)"
   ]
  },
  {
   "cell_type": "code",
   "execution_count": null,
   "metadata": {},
   "outputs": [],
   "source": []
  }
 ],
 "metadata": {
  "kernelspec": {
   "display_name": "Python 3",
   "language": "python",
   "name": "python3"
  },
  "language_info": {
   "codemirror_mode": {
    "name": "ipython",
    "version": 3
   },
   "file_extension": ".py",
   "mimetype": "text/x-python",
   "name": "python",
   "nbconvert_exporter": "python",
   "pygments_lexer": "ipython3",
   "version": "3.7.4"
  }
 },
 "nbformat": 4,
 "nbformat_minor": 2
}
