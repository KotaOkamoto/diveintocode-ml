{
 "cells": [
  {
   "cell_type": "markdown",
   "metadata": {},
   "source": [
    "# 【課題1】練習のために特徴量とカテゴリを選択\n",
    "選び方は合計18通りありますが、以下の組み合わせで練習することにします。irisデータセットをWeek3同様に取得した後、データフレームからこれらを抜き出してください。\n",
    "\n",
    "\n",
    "・virgicolorとvirginica\n",
    "\n",
    "・sepal_lengthとpetal_length\n",
    "\n",
    "《実際の問題では？》\n",
    "\n",
    "\n",
    "実際の問題を解く上でも結果の可視化は有効です。しかし、そのために学習や推定に使う特徴量を2つに絞るのは望ましくありません。そのため学習や推定は多次元で行い、可視化をする際にだけ主成分分析などの特徴抽出手法を適用するといったことが行われます。また、Week3で利用した散布図行列を使い可視化することも可能です。\n",
    "\n"
   ]
  },
  {
   "cell_type": "code",
   "execution_count": 501,
   "metadata": {},
   "outputs": [
    {
     "name": "stdout",
     "output_type": "stream",
     "text": [
      "     sepal_length  sepal_width  petal_length  petal_width\n",
      "0             5.1          3.5           1.4          0.2\n",
      "1             4.9          3.0           1.4          0.2\n",
      "2             4.7          3.2           1.3          0.2\n",
      "3             4.6          3.1           1.5          0.2\n",
      "4             5.0          3.6           1.4          0.2\n",
      "..            ...          ...           ...          ...\n",
      "145           6.7          3.0           5.2          2.3\n",
      "146           6.3          2.5           5.0          1.9\n",
      "147           6.5          3.0           5.2          2.0\n",
      "148           6.2          3.4           5.4          2.3\n",
      "149           5.9          3.0           5.1          1.8\n",
      "\n",
      "[150 rows x 4 columns]\n",
      "     Species\n",
      "0          0\n",
      "1          0\n",
      "2          0\n",
      "3          0\n",
      "4          0\n",
      "..       ...\n",
      "145        2\n",
      "146        2\n",
      "147        2\n",
      "148        2\n",
      "149        2\n",
      "\n",
      "[150 rows x 1 columns]\n",
      "     sepal_length  sepal_width  petal_length  petal_width  Species\n",
      "0             5.1          3.5           1.4          0.2        0\n",
      "1             4.9          3.0           1.4          0.2        0\n",
      "2             4.7          3.2           1.3          0.2        0\n",
      "3             4.6          3.1           1.5          0.2        0\n",
      "4             5.0          3.6           1.4          0.2        0\n",
      "..            ...          ...           ...          ...      ...\n",
      "145           6.7          3.0           5.2          2.3        2\n",
      "146           6.3          2.5           5.0          1.9        2\n",
      "147           6.5          3.0           5.2          2.0        2\n",
      "148           6.2          3.4           5.4          2.3        2\n",
      "149           5.9          3.0           5.1          1.8        2\n",
      "\n",
      "[150 rows x 5 columns]\n"
     ]
    }
   ],
   "source": [
    "# データセット読み込み\n",
    "\n",
    "from sklearn.datasets import load_iris\n",
    "import pandas as pd\n",
    "\n",
    "RAW = load_iris()\n",
    "#print(data)\n",
    "\n",
    "X = pd.DataFrame(data=RAW[\"data\"], columns=['sepal_length', 'sepal_width', 'petal_length', 'petal_width'])\n",
    "print(X)\n",
    "\n",
    "y = pd.DataFrame(data=RAW[\"target\"], columns=['Species'])\n",
    "print(y)\n",
    "\n",
    "origin = X.join(y)\n",
    "print(origin)"
   ]
  },
  {
   "cell_type": "code",
   "execution_count": 502,
   "metadata": {},
   "outputs": [
    {
     "name": "stdout",
     "output_type": "stream",
     "text": [
      "     sepal_length  petal_length  Species\n",
      "50            7.0           4.7        1\n",
      "51            6.4           4.5        1\n",
      "52            6.9           4.9        1\n",
      "53            5.5           4.0        1\n",
      "54            6.5           4.6        1\n",
      "..            ...           ...      ...\n",
      "145           6.7           5.2        2\n",
      "146           6.3           5.0        2\n",
      "147           6.5           5.2        2\n",
      "148           6.2           5.4        2\n",
      "149           5.9           5.1        2\n",
      "\n",
      "[100 rows x 3 columns]\n"
     ]
    }
   ],
   "source": [
    "# sepal_lengthとpetal_lengthとSpeciesだけのdf\n",
    "\n",
    "df = origin.iloc[50:,[0,2,4]]\n",
    "print(df)"
   ]
  },
  {
   "cell_type": "markdown",
   "metadata": {},
   "source": [
    "# 【問題2】データの分析\n",
    "まずはデータの分析を行いますが、これはWeek3の課題1で行いました。その際出力した散布図行列を見ることで、先ほどの18通りそれぞれの散布図も確認できます。sepal_lengthとpetal_lengthを使い、virgicolorとvirginicaを分類するのは少し難しそうな状況であることが分かるはずです。\n",
    "\n",
    "\n",
    "・ここでは復習を兼ねて、抜き出したデータの散布図と箱ひげ図（boxplot）、バイオリン図（violinplot）を表示してください。\n",
    "\n",
    "\n",
    "《実際の問題では？》\n",
    "\n",
    "\n",
    "このデータ分析の結果を元に前処理として特徴量エンジニアリングを行っていきます。\n",
    "\n",
    "\n",
    "今回はsepal_lengthとpetal_lengthを抜き出しましたが、分析した上で、問題を少々難しくするための前処理をしたと言えます。\n",
    "\n"
   ]
  },
  {
   "cell_type": "code",
   "execution_count": 503,
   "metadata": {},
   "outputs": [
    {
     "data": {
      "image/png": "[encoded data removed]",
      "text/plain": [
       "<Figure size 432x288 with 1 Axes>"
      ]
     },
     "metadata": {
      "needs_background": "light"
     },
     "output_type": "display_data"
    }
   ],
   "source": [
    "# 散布図\n",
    "\n",
    "import matplotlib.pyplot as plt\n",
    "%matplotlib inline\n",
    "\n",
    "versicolor = df[df['Species'].isin([1])]\n",
    "virginica = df[df['Species'].isin([2])]\n",
    "\n",
    "plt.title(\"scatter\")\n",
    "plt.xlabel(\"sepal_length\")\n",
    "plt.ylabel(\"petal_length\")\n",
    "x = versicolor[\"sepal_length\"]\n",
    "y = versicolor[\"petal_length\"]\n",
    "x2 = virginica[\"sepal_length\"]\n",
    "y2 = virginica[\"petal_length\"]\n",
    "\n",
    "plt.scatter(x, y, label=\"versicolor\")\n",
    "plt.scatter(x2, y2, label=\"virginica\")\n",
    "plt.legend(bbox_to_anchor=(0.3, 1))\n",
    "\n",
    "plt.show()\n"
   ]
  },
  {
   "cell_type": "code",
   "execution_count": 504,
   "metadata": {},
   "outputs": [
    {
     "data": {
      "image/png": "[encoded data removed]",
      "text/plain": [
       "<Figure size 432x288 with 1 Axes>"
      ]
     },
     "metadata": {
      "needs_background": "light"
     },
     "output_type": "display_data"
    }
   ],
   "source": [
    "# 箱ひげ図\n",
    "\n",
    "df.boxplot(column=['sepal_length'], by='Species' )\n",
    "plt.show()"
   ]
  },
  {
   "cell_type": "code",
   "execution_count": 505,
   "metadata": {},
   "outputs": [
    {
     "data": {
      "image/png": "[encoded data removed]",
      "text/plain": [
       "<Figure size 432x288 with 1 Axes>"
      ]
     },
     "metadata": {
      "needs_background": "light"
     },
     "output_type": "display_data"
    }
   ],
   "source": [
    "df.boxplot(column=['petal_length'], by='Species' )\n",
    "plt.show()"
   ]
  },
  {
   "cell_type": "code",
   "execution_count": 506,
   "metadata": {},
   "outputs": [
    {
     "data": {
      "image/png": "[encoded data removed]",
      "text/plain": [
       "<Figure size 432x288 with 1 Axes>"
      ]
     },
     "metadata": {
      "needs_background": "light"
     },
     "output_type": "display_data"
    }
   ],
   "source": [
    "# バイオリン図\n",
    "\n",
    "import seaborn\n",
    "\n",
    "seaborn.violinplot( x=df['Species'], y=df['sepal_length'] )\n",
    "plt.show()"
   ]
  },
  {
   "cell_type": "code",
   "execution_count": 507,
   "metadata": {},
   "outputs": [
    {
     "data": {
      "image/png": "[encoded data removed]",
      "text/plain": [
       "<Figure size 432x288 with 1 Axes>"
      ]
     },
     "metadata": {
      "needs_background": "light"
     },
     "output_type": "display_data"
    }
   ],
   "source": [
    "seaborn.violinplot( x=df['Species'], y=df['petal_length'] )\n",
    "plt.show()"
   ]
  },
  {
   "cell_type": "markdown",
   "metadata": {},
   "source": [
    "# 【問題3】前処理・訓練データと検証データの分割\n",
    "前処理の一貫として、訓練データと検証データの分割を行います。今回は訓練データ75%、検証データ25%として分割してください。\n",
    "\n",
    "\n",
    "scikit-learnのtrain_test_splitが利用できます。公式ドキュメントのExamplesを参考に動かしてください。\n",
    "\n",
    "\n",
    "[sklearn.model_selection.train_test_split — scikit-learn 0.21.3 documentation](https://scikit-learn.org/stable/modules/generated/sklearn.model_selection.train_test_split.html)\n",
    "\n",
    "\n",
    "《注意点》\n",
    "\n",
    "\n",
    "データの分析まではPandasのDataFrameを使用してきました。しかし、scikit-learnはNumPyのndarrayを想定して作られています。そのため、この段階でndarrayへの変換を行いましょう。特徴量（説明変数）をX、正解（目的変数）をyというndarrayに格納します。\n",
    "\n",
    "\n",
    "《分割する理由》\n",
    "\n",
    "\n",
    "分類問題の目的は未知のデータを正しく分類することです。その目的が達成できているかを確認するため、実際には答えの分かっているデータの一部を学習には使わず残しておきます。この学習に使用していないデータで推定を行い、そこから求めた指標値によって検証します。学習に使うデータを訓練データ、検証に使うデータが検証データで、一般的に7対3から8対2程度の割合にします。"
   ]
  },
  {
   "cell_type": "code",
   "execution_count": 508,
   "metadata": {},
   "outputs": [],
   "source": [
    "# ndarray化\n",
    "\n",
    "import numpy as np\n",
    "\n",
    "X = df.values\n",
    "y = X[:,2]\n",
    "X = np.delete(X, 2, axis=1)\n",
    "\n",
    "#print(X)\n",
    "#print(y)"
   ]
  },
  {
   "cell_type": "code",
   "execution_count": 509,
   "metadata": {},
   "outputs": [],
   "source": [
    "# データ分割\n",
    "from sklearn.model_selection import train_test_split\n",
    "\n",
    "x_train, x_test, y_train, y_test = train_test_split( X, y, train_size=0.75)\n",
    "#print(x_train, x_test, y_train, y_test)"
   ]
  },
  {
   "cell_type": "markdown",
   "metadata": {},
   "source": [
    "# 【問題4】前処理・標準化\n",
    "分類精度をあげるための加工を行います。手法ごとに適切な方法は異なりますが、ここでは一例として 標準化 を行うことにします。\n",
    "\n",
    "\n",
    "標準化を行うライブラリもscikit-learnに用意されています。これを使って標準化してください。\n",
    "\n",
    "\n",
    "[sklearn.model_selection.train_test_split — scikit-learn 0.21.3 documentation](https://scikit-learn.org/stable/modules/generated/sklearn.preprocessing.StandardScaler.html)\n",
    "\n",
    "\n",
    "《注意点》\n",
    "\n",
    "\n",
    "標準化は訓練用のデータでfitを行い、訓練用、検証用双方のデータにtransformを行います。検証データは学習の段階には存在しない未知のデータの代わりなので、標準化のための平均や標準偏差の計算に使ってはいけません。\n",
    "\n",
    "\n",
    "《実際の問題での前処理は？》\n",
    "\n",
    "\n",
    "アヤメのデータセットのように綺麗で扱いやすい状況で提供されることはまずありません。分析を行いながら、様々な加工が必要になってきます。例えばWeek3の課題2で行った欠損値の確認の後、場合により欠損値の補間も行います。外れ値の確認や、複数のデータセットの整理などもあります。"
   ]
  },
  {
   "cell_type": "code",
   "execution_count": 510,
   "metadata": {},
   "outputs": [
    {
     "name": "stdout",
     "output_type": "stream",
     "text": [
      "[[ 0.2240365  -0.5142782 ]\n",
      " [-1.02061071 -1.03375112]\n",
      " [ 0.0684556   0.91427235]\n",
      " [ 0.8463601  -0.1246735 ]\n",
      " [ 0.6907792   0.39479942]\n",
      " [ 2.24658821  1.56361351]\n",
      " [ 0.2240365  -0.77401466]\n",
      " [-0.70944891  0.26493119]\n",
      " [-0.55386801 -0.1246735 ]\n",
      " [-1.33177252 -0.5142782 ]\n",
      " [-0.86502981 -0.90388289]\n",
      " [ 1.46868371  1.17400881]\n",
      " [-1.95409612 -1.81296051]\n",
      " [-0.24270621  0.91427235]\n",
      " [ 0.8463601   0.78440412]\n",
      " [-0.39828711 -1.16361935]\n",
      " [-0.70944891 -1.16361935]\n",
      " [-0.39828711  0.26493119]\n",
      " [ 1.31310281  1.30387704]\n",
      " [ 0.6907792   0.13506296]\n",
      " [ 0.5351983  -0.64414643]\n",
      " [-2.10967702 -2.07269698]\n",
      " [ 0.2240365   0.52466766]\n",
      " [-0.0871253  -0.5142782 ]\n",
      " [-0.39828711 -0.5142782 ]\n",
      " [-0.39828711 -0.1246735 ]\n",
      " [-1.02061071 -1.68309228]\n",
      " [-0.0871253  -0.77401466]\n",
      " [-0.24270621 -1.16361935]\n",
      " [-0.70944891  0.26493119]\n",
      " [ 0.6907792   1.04414058]\n",
      " [ 0.5351983  -0.38440997]\n",
      " [ 2.24658821  2.3428229 ]\n",
      " [ 0.3796174   0.78440412]\n",
      " [ 0.2240365   0.91427235]\n",
      " [ 1.46868371  1.56361351]\n",
      " [ 1.001941    1.04414058]\n",
      " [-1.17619161 -1.16361935]\n",
      " [ 0.0684556  -0.25454173]\n",
      " [ 1.62426461  1.82334997]\n",
      " [-1.64293432 -1.29348759]\n",
      " [ 0.2240365   0.91427235]\n",
      " [ 0.6907792  -0.25454173]\n",
      " [ 1.001941    0.00519473]\n",
      " [-0.24270621 -0.25454173]\n",
      " [-0.0871253   0.65453589]\n",
      " [-1.02061071 -0.90388289]\n",
      " [-0.70944891 -1.29348759]\n",
      " [ 0.6907792   0.91427235]\n",
      " [-0.70944891  0.26493119]\n",
      " [-1.02061071 -0.5142782 ]\n",
      " [ 1.77984551  1.56361351]\n",
      " [-0.70944891 -1.03375112]\n",
      " [-1.79851522 -2.46230167]\n",
      " [-0.24270621  0.00519473]\n",
      " [ 1.15752191 -0.25454173]\n",
      " [-0.0871253  -0.1246735 ]\n",
      " [ 0.6907792   1.04414058]\n",
      " [-0.39828711 -0.5142782 ]\n",
      " [-0.86502981 -0.90388289]\n",
      " [-0.24270621 -0.25454173]\n",
      " [-0.86502981 -0.5142782 ]\n",
      " [ 0.6907792  -0.64414643]\n",
      " [ 0.3796174   1.17400881]\n",
      " [-0.86502981  0.13506296]\n",
      " [-1.02061071  0.00519473]\n",
      " [ 0.0684556   1.43374528]\n",
      " [ 0.0684556   0.91427235]\n",
      " [ 2.55775002  1.9532182 ]\n",
      " [ 1.46868371  1.43374528]\n",
      " [-0.24270621 -0.38440997]\n",
      " [ 0.3796174   0.39479942]\n",
      " [ 0.3796174  -0.38440997]\n",
      " [-0.55386801 -0.90388289]\n",
      " [-2.10967702 -0.5142782 ]]\n",
      "[[-1.95409612 -2.07269698]\n",
      " [ 0.0684556   0.26493119]\n",
      " [ 0.0684556   0.00519473]\n",
      " [ 0.2240365   0.78440412]\n",
      " [ 0.0684556  -0.64414643]\n",
      " [-0.86502981 -1.81296051]\n",
      " [-1.02061071 -1.29348759]\n",
      " [-1.17619161 -0.64414643]\n",
      " [ 0.6907792   1.17400881]\n",
      " [ 1.001941    0.65453589]\n",
      " [-1.17619161 -1.16361935]\n",
      " [ 0.3796174   0.26493119]\n",
      " [-0.55386801  0.26493119]\n",
      " [-1.17619161 -1.55322405]\n",
      " [ 2.09100731  2.21295467]\n",
      " [-0.39828711  0.13506296]\n",
      " [ 2.24658821  2.3428229 ]\n",
      " [ 1.001941    0.26493119]\n",
      " [ 0.0684556   0.13506296]\n",
      " [ 0.8463601   1.30387704]\n",
      " [ 0.0684556   0.00519473]\n",
      " [ 0.2240365   0.52466766]\n",
      " [-1.17619161 -1.42335582]\n",
      " [-0.86502981 -1.03375112]\n",
      " [ 2.24658821  2.60255936]]\n"
     ]
    }
   ],
   "source": [
    "# 標準化\n",
    "\n",
    "from sklearn.preprocessing import StandardScaler\n",
    "\n",
    "sc = StandardScaler()\n",
    "sc.fit(x_train)\n",
    "x_train_std = sc.transform(x_train)\n",
    "x_test_std = sc.transform(x_test)\n",
    "print(x_train_std)\n",
    "print(x_test_std)\n"
   ]
  },
  {
   "cell_type": "markdown",
   "metadata": {},
   "source": [
    "# 【問題5】学習と推定\n",
    "最近傍法（k-nearest neighbors, k-nn）で学習を行います。scikit-learnの公式ドキュメントのExamplesを参考に、k-nnの学習を行ってください。ここで入力するのは訓練データです。\n",
    "\n",
    "\n",
    "[sklearn.neighbors.KNeighborsClassifier — scikit-learn 0.21.3 documentation](https://scikit-learn.org/stable/modules/generated/sklearn.neighbors.KNeighborsClassifier.html#sklearn.neighbors.KNeighborsClassifier)\n",
    "\n",
    "\n",
    "学習が終わった後、検証データをpredictメソッドに入力し、推定を行ってください。\n",
    "\n",
    "\n",
    "パラメータが複数ありますが、今はそれらの理解を重視しません。最も基本的な要素として、n_neighborsの数があるため、これは複数試してみましょう。デフォルトの5、および1と3を最低限行ってください。5の場合を5-nn、3の場合を3-nnのように呼びます。\n",
    "\n"
   ]
  },
  {
   "cell_type": "code",
   "execution_count": 511,
   "metadata": {},
   "outputs": [
    {
     "name": "stdout",
     "output_type": "stream",
     "text": [
      "5-nnの場合の正解率：0.92\n"
     ]
    }
   ],
   "source": [
    "# 最近傍法で学習\n",
    "\n",
    "from sklearn.neighbors import KNeighborsClassifier\n",
    "from sklearn import metrics\n",
    "\n",
    "knn = KNeighborsClassifier(n_neighbors=5)\n",
    "knn.fit(x_train_std, y_train)\n",
    "\n",
    "y_pred = knn.predict(x_test_std)\n",
    "print(\"5-nnの場合の正解率：{}\".format(metrics.accuracy_score(y_test, y_pred)))"
   ]
  },
  {
   "cell_type": "code",
   "execution_count": 512,
   "metadata": {},
   "outputs": [
    {
     "name": "stdout",
     "output_type": "stream",
     "text": [
      "1-nnの場合の正解率：0.84\n"
     ]
    }
   ],
   "source": [
    "knn_1 = KNeighborsClassifier(n_neighbors=1)\n",
    "knn_1.fit(x_train_std, y_train)\n",
    "\n",
    "y_pred_1 = knn_1.predict(x_test_std)\n",
    "print(\"1-nnの場合の正解率：{}\".format(metrics.accuracy_score(y_test, y_pred_1)))"
   ]
  },
  {
   "cell_type": "code",
   "execution_count": 513,
   "metadata": {},
   "outputs": [
    {
     "name": "stdout",
     "output_type": "stream",
     "text": [
      "3-nnの場合の正解率：0.92\n"
     ]
    }
   ],
   "source": [
    "knn_3 = KNeighborsClassifier(n_neighbors=3)\n",
    "knn_3.fit(x_train_std, y_train)\n",
    "\n",
    "y_pred_3 = knn_3.predict(x_test_std)\n",
    "print(\"3-nnの場合の正解率：{}\".format(metrics.accuracy_score(y_test, y_pred_3)))"
   ]
  },
  {
   "cell_type": "code",
   "execution_count": 514,
   "metadata": {},
   "outputs": [
    {
     "name": "stdout",
     "output_type": "stream",
     "text": [
      "8-nnの場合の正解率：0.84\n"
     ]
    }
   ],
   "source": [
    "knn_8 = KNeighborsClassifier(n_neighbors=8)\n",
    "knn_8.fit(x_train_std, y_train)\n",
    "\n",
    "y_pred_8= knn_8.predict(x_test_std)\n",
    "print(\"8-nnの場合の正解率：{}\".format(metrics.accuracy_score(y_test, y_pred_8)))"
   ]
  },
  {
   "cell_type": "markdown",
   "metadata": {},
   "source": [
    "# 【問題6】評価\n",
    "検証データの特徴量を入力して得られた推定値と、検証データの正解値の近さを計算し、学習したモデルを評価します。\n",
    "\n",
    "\n",
    "2値分類を評価するための指標値には Accuracy（正解率）、Precision（適合率）、Recall（再現率）、F値 があります。それぞれの意味を理解するには、 混同行列（confusion matrix） を見ることになります。\n",
    "\n",
    "\n",
    "scikit-learnを使い4種類の指標を計算する\n",
    "混同行列をscikit-learnを使い表示する\n",
    "4種類の指標値の意味について簡単に調査して文章でまとめる\n"
   ]
  },
  {
   "cell_type": "code",
   "execution_count": 515,
   "metadata": {},
   "outputs": [
    {
     "name": "stdout",
     "output_type": "stream",
     "text": [
      "５-nnの場合の適合率：0.8333333333333334\n"
     ]
    }
   ],
   "source": [
    "# Accuracy正解率はやったので、Precision適合率から。\n",
    "\n",
    "from sklearn.metrics import precision_score\n",
    "\n",
    "print(\"５-nnの場合の適合率：{}\".format(metrics.precision_score(y_test, y_pred)))"
   ]
  },
  {
   "cell_type": "code",
   "execution_count": 516,
   "metadata": {},
   "outputs": [
    {
     "name": "stdout",
     "output_type": "stream",
     "text": [
      "５-nnの場合の再現率：1.0\n"
     ]
    }
   ],
   "source": [
    "# Recall再現率\n",
    "from sklearn.metrics import recall_score\n",
    "\n",
    "print(\"５-nnの場合の再現率：{}\".format(metrics.recall_score(y_test, y_pred)))"
   ]
  },
  {
   "cell_type": "code",
   "execution_count": 517,
   "metadata": {},
   "outputs": [
    {
     "name": "stdout",
     "output_type": "stream",
     "text": [
      "５-nnの場合のF値：0.9090909090909091\n"
     ]
    }
   ],
   "source": [
    "# F値\n",
    "\n",
    "from sklearn.metrics import f1_score\n",
    "\n",
    "print(\"５-nnの場合のF値：{}\".format(metrics.f1_score(y_test, y_pred)))"
   ]
  },
  {
   "cell_type": "code",
   "execution_count": 518,
   "metadata": {},
   "outputs": [
    {
     "name": "stdout",
     "output_type": "stream",
     "text": [
      "[[13  2]\n",
      " [ 0 10]]\n",
      "13 2 0 10\n"
     ]
    }
   ],
   "source": [
    "# 混合行列\n",
    "\n",
    "from sklearn.metrics import confusion_matrix\n",
    "\n",
    "cm = confusion_matrix(y_test, y_pred, labels=[2, 1])\n",
    "print(cm)\n",
    "\n",
    "tn, fp, fn, tp = cm.flatten()\n",
    "\n",
    "print(tn, fp, fn, tp)"
   ]
  },
  {
   "cell_type": "markdown",
   "metadata": {},
   "source": [
    "・真陽性（TP: True Positive）: 実際のクラスが陽性で予測も陽性（正解）\n",
    "\n",
    "・真陰性（TN: True Negative）: 実際のクラスが陰性で予測も陰性（正解）\n",
    "\n",
    "・偽陽性（FP: False Positive）: 実際のクラスは陰性で予測が陽性（不正解）\n",
    "\n",
    "・偽陰性（FN: False Negative）: 実際のクラスは陽性で予測が陰性（不正解）\n",
    "\n",
    "これを行列にしたものが混同行列。\n",
    "\n",
    "            Negative  Positive\n",
    "            \n",
    "Negative     TN        FP\n",
    "\n",
    "Positive      FN        TP\n",
    "\n",
    "陰性と陽性は自分で設定できる。\n",
    "confusion_matrixのlabels=[1, 2]がそう。"
   ]
  },
  {
   "cell_type": "code",
   "execution_count": 519,
   "metadata": {},
   "outputs": [
    {
     "name": "stdout",
     "output_type": "stream",
     "text": [
      "0.92\n",
      "5-nnの場合の正解率：0.92\n"
     ]
    }
   ],
   "source": [
    "# Accuracyを自分で計算してみる\n",
    "ac = (tp + tn) / (tn + fp + fn +tp) # 全サンプルのうちの正解の割合\n",
    "print(ac)\n",
    "print(\"5-nnの場合の正解率：{}\".format(metrics.accuracy_score(y_test, y_pred)))"
   ]
  },
  {
   "cell_type": "markdown",
   "metadata": {},
   "source": [
    "正解率（accuracy）は、すべてのサンプルのうち正解したサンプルの割合。"
   ]
  },
  {
   "cell_type": "code",
   "execution_count": 520,
   "metadata": {},
   "outputs": [
    {
     "name": "stdout",
     "output_type": "stream",
     "text": [
      "0.8333333333333334\n",
      "５-nnの場合の適合率：0.8333333333333334\n"
     ]
    }
   ],
   "source": [
    "# precision適合率を自分で計算してみる\n",
    "pr = tp / (tp + fp) # 陽性判定のうちの正解割合 \n",
    "print(pr)\n",
    "print(\"５-nnの場合の適合率：{}\".format(metrics.precision_score(y_test, y_pred)))"
   ]
  },
  {
   "cell_type": "markdown",
   "metadata": {},
   "source": [
    "適合率（precision）は、陽性と予測されたサンプルのうち正解したサンプルの割合。PPV（positive predictive value）とも呼ばれる。"
   ]
  },
  {
   "cell_type": "code",
   "execution_count": 521,
   "metadata": {},
   "outputs": [
    {
     "name": "stdout",
     "output_type": "stream",
     "text": [
      "1.0\n",
      "５-nnの場合の再現率：1.0\n"
     ]
    }
   ],
   "source": [
    "# Recallを自分で計算してみる\n",
    "rc = tp / (tp +fn) # 本当は陽性のサンプルのうちの正解割合\n",
    "print(rc)\n",
    "print(\"５-nnの場合の再現率：{}\".format(metrics.recall_score(y_test, y_pred)))"
   ]
  },
  {
   "cell_type": "markdown",
   "metadata": {},
   "source": [
    "再現率（recall）は実際に陽性のサンプルのうち正解したサンプルの割合。sensitivityやhit rate, TPR（true positive rate, 真陽性率）などとも呼ばれる。\n",
    "\n",
    "FN（偽陰性）が大きくなると再現率は小さくなる。偽陰性を避けたい（抑えたい）場合に指標として用いる。"
   ]
  },
  {
   "cell_type": "code",
   "execution_count": 522,
   "metadata": {},
   "outputs": [
    {
     "name": "stdout",
     "output_type": "stream",
     "text": [
      "0.4\n"
     ]
    }
   ],
   "source": [
    "# 試しにfn大きくしてみる\n",
    "fn_test = 15\n",
    "rc_test = tp / (tp + fn_test) \n",
    "print(rc_test)\n",
    "\n",
    "# 再現率が小さくなることを確認した"
   ]
  },
  {
   "cell_type": "code",
   "execution_count": 523,
   "metadata": {},
   "outputs": [
    {
     "name": "stdout",
     "output_type": "stream",
     "text": [
      "0.9090909090909091\n",
      "５-nnの場合のF値：0.9090909090909091\n"
     ]
    }
   ],
   "source": [
    "# F値を自分で計算してみる\n",
    "f1 = (2*tp) / (2*tp + fp + fn ) #= (2*pr*rc) / (pr + rc)\n",
    "\n",
    "print(f1)\n",
    "print(\"５-nnの場合のF値：{}\".format(metrics.f1_score(y_test, y_pred)))"
   ]
  },
  {
   "cell_type": "markdown",
   "metadata": {},
   "source": [
    "F1値（F1-measure）は適合率と再現率の調和平均。 単純にF値（F-measure, F-score）と呼ばれることもある。"
   ]
  },
  {
   "cell_type": "markdown",
   "metadata": {},
   "source": [
    "# 【問題7】可視化\n",
    "評価の一貫として可視化を行います。今回の場合2次元の特徴量で分類を行いましたから、散布図で可視化が可能です。以下にどう分割するかという 決定領域 を描く関数を用意しました。これを利用して可視化を行ってください。Xとyには訓練データまたは検証データを与えます。"
   ]
  },
  {
   "cell_type": "code",
   "execution_count": 524,
   "metadata": {},
   "outputs": [],
   "source": [
    "import matplotlib.pyplot as plt\n",
    "from matplotlib.colors import ListedColormap\n",
    "import matplotlib.patches as mpatches\n",
    "def decision_region(X, y, model, step=0.01, title='decision region on 3-nn', xlabel='xlabel', ylabel='ylabel', target_names=['versicolor', 'virginica']):\n",
    "    \"\"\"\n",
    "    2値分類を2次元の特徴量で学習したモデルの決定領域を描く。\n",
    "    背景の色が学習したモデルによる推定値から描画される。\n",
    "    散布図の点は訓練データまたは検証データである。\n",
    "\n",
    "    Parameters\n",
    "    ----------------\n",
    "    X : ndarray, shape(n_samples, 2)\n",
    "        特徴量\n",
    "    y : ndarray, shape(n_samples,)\n",
    "        ラベル\n",
    "    model : object\n",
    "        学習したモデルのインスタンスを入れる\n",
    "    step : float, (default : 0.1)\n",
    "        推定値を計算する間隔を設定する\n",
    "    title : str\n",
    "        グラフのタイトルの文章を与える\n",
    "    xlabel, ylabel : str\n",
    "        軸ラベルの文章を与える\n",
    "    target_names= : list of str\n",
    "        凡例の一覧を与える\n",
    "    \"\"\"\n",
    "    # setting\n",
    "    scatter_color = ['red', 'blue']\n",
    "    contourf_color = ['pink', 'skyblue']\n",
    "    n_class = 2\n",
    "    # pred\n",
    "    mesh_f0, mesh_f1  = np.meshgrid(np.arange(np.min(X[:,0])-0.5, np.max(X[:,0])+0.5, step), np.arange(np.min(X[:,1])-0.5, np.max(X[:,1])+0.5, step))\n",
    "    mesh = np.c_[np.ravel(mesh_f0),np.ravel(mesh_f1)]\n",
    "    y_pred = model.predict(mesh).reshape(mesh_f0.shape)\n",
    "    # plot\n",
    "    plt.title(title)\n",
    "    plt.xlabel(xlabel)\n",
    "    plt.ylabel(ylabel)\n",
    "    plt.contourf(mesh_f0, mesh_f1, y_pred, n_class-1, cmap=ListedColormap(contourf_color))\n",
    "    plt.contour(mesh_f0, mesh_f1, y_pred, n_class-1, colors='y', linewidths=3, alpha=0.5)\n",
    "    for i, target in enumerate(set(y)):\n",
    "        plt.scatter(X[y==target][:, 0], X[y==target][:, 1], s=80, color=scatter_color[i], label=target_names[i], marker='o')\n",
    "    patches = [mpatches.Patch(color=scatter_color[i], label=target_names[i]) for i in range(n_class)]\n",
    "    plt.legend(handles=patches)\n",
    "    plt.legend()\n",
    "    plt.show()"
   ]
  },
  {
   "cell_type": "code",
   "execution_count": 525,
   "metadata": {},
   "outputs": [
    {
     "data": {
      "image/png": "[encoded data removed]",
      "text/plain": [
       "<Figure size 432x288 with 1 Axes>"
      ]
     },
     "metadata": {
      "needs_background": "light"
     },
     "output_type": "display_data"
    }
   ],
   "source": [
    "decision_region(x_train_std, y_train, knn_3)"
   ]
  },
  {
   "cell_type": "markdown",
   "metadata": {},
   "source": [
    "# 【問題8】他の手法の学習\n",
    "以下の全ての手法について学習・推定・評価・可視化を行ってください。そして、指標値を１つの表にまとめてください。その表と決定領域を利用して結果を簡単に考察してください。どの手法がどの指標値で良かったかや、どういった決定領域になっていたかを述べてください。\n",
    "\n",
    "\n",
    "・最近傍法\n",
    "\n",
    "・ロジスティック回帰\n",
    "\n",
    "・SVM\n",
    "\n",
    "・決定木\n",
    "\n",
    "・ランダムフォレスト"
   ]
  },
  {
   "cell_type": "code",
   "execution_count": 537,
   "metadata": {},
   "outputs": [
    {
     "name": "stdout",
     "output_type": "stream",
     "text": [
      "confusion matrix = \n",
      " [[10  0]\n",
      " [ 1 14]]\n",
      "accuracy =  0.96\n",
      "precision =  0.9090909090909091\n",
      "recall =  1.0\n",
      "f1 score =  0.9523809523809523\n"
     ]
    },
    {
     "data": {
      "text/plain": [
       "{'KNN': [array([[10,  0],\n",
       "         [ 1, 14]]), 0.96, 0.9090909090909091, 1.0, 0.9523809523809523]}"
      ]
     },
     "execution_count": 537,
     "metadata": {},
     "output_type": "execute_result"
    }
   ],
   "source": [
    "# 最近傍法\n",
    "\n",
    "outlist = {}\n",
    "\n",
    "def output(y, model, label,outlist={}):\n",
    "    cm = confusion_matrix(y, model)\n",
    "    ac = metrics.accuracy_score(y, model)\n",
    "    pr = metrics.precision_score(y, model)\n",
    "    rc = metrics.recall_score(y, model)\n",
    "    f1 = metrics.f1_score(y, model)\n",
    "\n",
    "    print('confusion matrix = \\n', cm)\n",
    "    print('accuracy = ', ac)\n",
    "    print('precision = ', pr)\n",
    "    print('recall = ', rc)\n",
    "    print('f1 score = ', f1)\n",
    "\n",
    "    outlist[label] = [cm, ac, pr, rc, f1]\n",
    "    return outlist\n",
    "\n",
    "output(y_test, y_pred_lr, \"KNN\")"
   ]
  },
  {
   "cell_type": "code",
   "execution_count": 538,
   "metadata": {},
   "outputs": [
    {
     "data": {
      "image/png": "[encoded data removed]",
      "text/plain": [
       "<Figure size 432x288 with 1 Axes>"
      ]
     },
     "metadata": {
      "needs_background": "light"
     },
     "output_type": "display_data"
    }
   ],
   "source": [
    "decision_region(x_train_std, y_train, knn, step=0.01, title='decision region on 5-nn')"
   ]
  },
  {
   "cell_type": "code",
   "execution_count": 539,
   "metadata": {},
   "outputs": [
    {
     "name": "stdout",
     "output_type": "stream",
     "text": [
      "confusion matrix = \n",
      " [[10  0]\n",
      " [ 1 14]]\n",
      "accuracy =  0.96\n",
      "precision =  0.9090909090909091\n",
      "recall =  1.0\n",
      "f1 score =  0.9523809523809523\n"
     ]
    },
    {
     "data": {
      "text/plain": [
       "{'KNN': [array([[10,  0],\n",
       "         [ 1, 14]]), 0.96, 0.9090909090909091, 1.0, 0.9523809523809523],\n",
       " 'LR': [array([[10,  0],\n",
       "         [ 1, 14]]), 0.96, 0.9090909090909091, 1.0, 0.9523809523809523]}"
      ]
     },
     "execution_count": 539,
     "metadata": {},
     "output_type": "execute_result"
    }
   ],
   "source": [
    "# ロジスティック回帰\n",
    "\n",
    "from sklearn.linear_model import LogisticRegression\n",
    "\n",
    "lr = LogisticRegression(penalty='l1', solver='liblinear').fit(x_train_std,y_train)\n",
    "\n",
    "y_pred_lr = lr.predict(x_test_std)\n",
    "\n",
    "\n",
    "output(y_test, y_pred_lr, \"LR\")"
   ]
  },
  {
   "cell_type": "code",
   "execution_count": 540,
   "metadata": {},
   "outputs": [
    {
     "data": {
      "image/png": "[encoded data removed]",
      "text/plain": [
       "<Figure size 432x288 with 1 Axes>"
      ]
     },
     "metadata": {
      "needs_background": "light"
     },
     "output_type": "display_data"
    }
   ],
   "source": [
    "decision_region(x_train_std, y_train, lr, step=0.01, title='decision region on lr')"
   ]
  },
  {
   "cell_type": "code",
   "execution_count": 541,
   "metadata": {},
   "outputs": [
    {
     "name": "stdout",
     "output_type": "stream",
     "text": [
      "confusion matrix = \n",
      " [[10  0]\n",
      " [ 2 13]]\n",
      "accuracy =  0.92\n",
      "precision =  0.8333333333333334\n",
      "recall =  1.0\n",
      "f1 score =  0.9090909090909091\n"
     ]
    },
    {
     "data": {
      "text/plain": [
       "{'KNN': [array([[10,  0],\n",
       "         [ 1, 14]]), 0.96, 0.9090909090909091, 1.0, 0.9523809523809523],\n",
       " 'LR': [array([[10,  0],\n",
       "         [ 1, 14]]), 0.96, 0.9090909090909091, 1.0, 0.9523809523809523],\n",
       " 'SVM': [array([[10,  0],\n",
       "         [ 2, 13]]), 0.92, 0.8333333333333334, 1.0, 0.9090909090909091]}"
      ]
     },
     "execution_count": 541,
     "metadata": {},
     "output_type": "execute_result"
    }
   ],
   "source": [
    "# SVM\n",
    "from sklearn.svm import SVC\n",
    "\n",
    "svm = SVC(kernel='linear', random_state=None)\n",
    "svm.fit(x_train_std, y_train)\n",
    "\n",
    "svm_pred = svm.predict(x_test_std)\n",
    "\n",
    "output(y_test, svm_pred, \"SVM\")"
   ]
  },
  {
   "cell_type": "code",
   "execution_count": 542,
   "metadata": {},
   "outputs": [
    {
     "data": {
      "image/png": "[encoded data removed]",
      "text/plain": [
       "<Figure size 432x288 with 1 Axes>"
      ]
     },
     "metadata": {
      "needs_background": "light"
     },
     "output_type": "display_data"
    }
   ],
   "source": [
    "decision_region(x_train_std, y_train, svm, step=0.01, title='decision region on svm')"
   ]
  },
  {
   "cell_type": "code",
   "execution_count": 543,
   "metadata": {},
   "outputs": [
    {
     "name": "stdout",
     "output_type": "stream",
     "text": [
      "confusion matrix = \n",
      " [[ 9  1]\n",
      " [ 4 11]]\n",
      "accuracy =  0.8\n",
      "precision =  0.6923076923076923\n",
      "recall =  0.9\n",
      "f1 score =  0.7826086956521738\n"
     ]
    },
    {
     "data": {
      "text/plain": [
       "{'KNN': [array([[10,  0],\n",
       "         [ 1, 14]]), 0.96, 0.9090909090909091, 1.0, 0.9523809523809523],\n",
       " 'LR': [array([[10,  0],\n",
       "         [ 1, 14]]), 0.96, 0.9090909090909091, 1.0, 0.9523809523809523],\n",
       " 'SVM': [array([[10,  0],\n",
       "         [ 2, 13]]), 0.92, 0.8333333333333334, 1.0, 0.9090909090909091],\n",
       " 'TREE': [array([[ 9,  1],\n",
       "         [ 4, 11]]), 0.8, 0.6923076923076923, 0.9, 0.7826086956521738]}"
      ]
     },
     "execution_count": 543,
     "metadata": {},
     "output_type": "execute_result"
    }
   ],
   "source": [
    "# 決定木\n",
    "\n",
    "from sklearn import tree\n",
    "\n",
    "tr = tree.DecisionTreeClassifier().fit(x_train_std, y_train)\n",
    "tr_pred = tr.predict(x_test_std)\n",
    "\n",
    "output(y_test, tr_pred, \"TREE\")"
   ]
  },
  {
   "cell_type": "code",
   "execution_count": 544,
   "metadata": {},
   "outputs": [
    {
     "data": {
      "image/png": "[encoded data removed]",
      "text/plain": [
       "<Figure size 432x288 with 1 Axes>"
      ]
     },
     "metadata": {
      "needs_background": "light"
     },
     "output_type": "display_data"
    }
   ],
   "source": [
    "decision_region(x_train_std, y_train, tr, step=0.01, title='decision region on tr')"
   ]
  },
  {
   "cell_type": "code",
   "execution_count": 545,
   "metadata": {},
   "outputs": [
    {
     "name": "stdout",
     "output_type": "stream",
     "text": [
      "confusion matrix = \n",
      " [[ 9  1]\n",
      " [ 1 14]]\n",
      "accuracy =  0.92\n",
      "precision =  0.9\n",
      "recall =  0.9\n",
      "f1 score =  0.9\n"
     ]
    }
   ],
   "source": [
    "# ランダムフォレスト\n",
    "\n",
    "from sklearn.ensemble import RandomForestClassifier\n",
    "\n",
    "rand = RandomForestClassifier(n_estimators = 100).fit(x_train_std, y_train)\n",
    "rand_pred = rand.predict(x_test_std)\n",
    "\n",
    "d = output(y_test, rand_pred, \"RandomForest\")\n",
    "\n",
    "tmp = pd.DataFrame(d.values(), index=d.keys(), columns= [\"cm\", \"ac\", \"pr\", \"rc\", \"f1\"])"
   ]
  },
  {
   "cell_type": "code",
   "execution_count": 546,
   "metadata": {},
   "outputs": [
    {
     "data": {
      "image/png": "[encoded data removed]",
      "text/plain": [
       "<Figure size 432x288 with 1 Axes>"
      ]
     },
     "metadata": {
      "needs_background": "light"
     },
     "output_type": "display_data"
    }
   ],
   "source": [
    "decision_region(x_train_std, y_train, rand, step=0.01, title='decision region on RandomForest')"
   ]
  },
  {
   "cell_type": "code",
   "execution_count": 547,
   "metadata": {},
   "outputs": [
    {
     "name": "stdout",
     "output_type": "stream",
     "text": [
      "                              cm    ac        pr   rc        f1\n",
      "KNN           [[10, 0], [1, 14]]  0.96  0.909091  1.0  0.952381\n",
      "LR            [[10, 0], [1, 14]]  0.96  0.909091  1.0  0.952381\n",
      "SVM           [[10, 0], [2, 13]]  0.92  0.833333  1.0  0.909091\n",
      "TREE           [[9, 1], [4, 11]]  0.80  0.692308  0.9  0.782609\n",
      "RandomForest   [[9, 1], [1, 14]]  0.92  0.900000  0.9  0.900000\n"
     ]
    }
   ],
   "source": [
    "# それぞれの結果をまとめた表\n",
    "print(tmp)"
   ]
  },
  {
   "cell_type": "markdown",
   "metadata": {},
   "source": [
    "## 考察"
   ]
  },
  {
   "cell_type": "markdown",
   "metadata": {},
   "source": [
    "ランダムに分けてるので出力のたびに結果は違うが、概ね\n",
    "\n",
    "・最近傍法\n",
    "\n",
    "・ロジスティック回帰\n",
    "\n",
    "・SVM\n",
    "\n",
    "・ランダムフォレスト\n",
    "\n",
    "・決定木\n",
    "\n",
    "の順で正解率が高いように感じる。\n",
    "ただし適合率や再現率はその限りではなく、それぞれ一長一短の分類法のように感じた。\n",
    "\n",
    "例えば、SVMとランダムフォレストでは、適合率はランダムフォレストの方が良いが、再現率はSVMの方が良い。\n"
   ]
  },
  {
   "cell_type": "markdown",
   "metadata": {},
   "source": [
    "### 決定領域について\n",
    "\n",
    "それぞれどういった方法で領域を分けているかがかなりわかりやすく見える。\n",
    "\n",
    "最近傍法　：　直近周囲n個のサンプルの多数決によって領域を決定する。そのため外れ値は判定できない。\n",
    "\n",
    "ロジスティック回帰　：　二項分類法の一つで、線形分離可能な場合に有効。\n",
    "\n",
    "SVM　：　サポートベクターマシン。いくつかのメソッドがあるが、LINERでは二項間の最大マージンをとる。\n",
    "\n",
    "決定木　：　分類木。サンプルに対して分類木に応じた領域を与える。\n",
    "\n",
    "ランダムフォレスト　：　決定木を複数用意して分類を行う。多項分類に対して有効。"
   ]
  },
  {
   "cell_type": "code",
   "execution_count": null,
   "metadata": {},
   "outputs": [],
   "source": []
  }
 ],
 "metadata": {
  "kernelspec": {
   "display_name": "Python 3",
   "language": "python",
   "name": "python3"
  },
  "language_info": {
   "codemirror_mode": {
    "name": "ipython",
    "version": 3
   },
   "file_extension": ".py",
   "mimetype": "text/x-python",
   "name": "python",
   "nbconvert_exporter": "python",
   "pygments_lexer": "ipython3",
   "version": "3.7.4"
  },
  "toc": {
   "base_numbering": 1,
   "nav_menu": {},
   "number_sections": true,
   "sideBar": true,
   "skip_h1_title": false,
   "title_cell": "Table of Contents",
   "title_sidebar": "Contents",
   "toc_cell": false,
   "toc_position": {},
   "toc_section_display": true,
   "toc_window_display": false
  }
 },
 "nbformat": 4,
 "nbformat_minor": 2
}
